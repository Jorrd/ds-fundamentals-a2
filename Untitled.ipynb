{
 "cells": [
  {
   "cell_type": "markdown",
   "metadata": {},
   "source": [
    "# Kaggle Data Science Survey - Data Exploration on Job Satisfaction"
   ]
  },
  {
   "cell_type": "markdown",
   "metadata": {},
   "source": [
    "We are building upon what has already been done on the Kaggle Survey Report: https://www.kaggle.com/amberthomas/kaggle-2017-survey-results\n",
    "We will follow along in the data cleaning process etc and then move onto finding our own insights that are targetted more towards my specific questions around Job Satisfaction.\n",
    "\n",
    "The first section just shows the packages we are importing, as well as removing a pandas warning message and setting the standard plot style to be seaborn\n"
   ]
  },
  {
   "cell_type": "code",
   "execution_count": 1,
   "metadata": {},
   "outputs": [],
   "source": [
    "import pandas as pd\n",
    "import numpy as np\n",
    "import seaborn as sns\n",
    "import matplotlib.pyplot as plt\n",
    "from sklearn.ensemble import RandomForestClassifier\n",
    "from sklearn.metrics import accuracy_score\n",
    "from sklearn.linear_model import LogisticRegression, Perceptron\n",
    "from sklearn import svm\n",
    "from scipy.stats import linregress\n",
    "import scipy.stats as scs\n",
    "pd.options.mode.chained_assignment = None\n",
    "sns.set()"
   ]
  },
  {
   "cell_type": "markdown",
   "metadata": {},
   "source": [
    "First we must import the data from the csv files."
   ]
  },
  {
   "cell_type": "code",
   "execution_count": 2,
   "metadata": {},
   "outputs": [],
   "source": [
    "raw_multiple_choice_data = pd.read_csv('../Input/multipleChoiceResponses.csv', encoding='ISO-8859-1', low_memory=False)\n",
    "raw_freeform_data = pd.read_csv('../Input/freeformResponses.csv', low_memory=False)\n",
    "schema = pd.read_csv('../Input/schema.csv')\n",
    "conversion_rates = pd.read_csv('../Input/conversionRates.csv')"
   ]
  },
  {
   "cell_type": "code",
   "execution_count": 3,
   "metadata": {},
   "outputs": [],
   "source": [
    "clean_MC_data = raw_multiple_choice_data\n",
    "clean_FF_data = raw_freeform_data"
   ]
  },
  {
   "cell_type": "markdown",
   "metadata": {},
   "source": [
    "We are then going to do some exploration of the data and clean it up so that we can do some basic visual analysis.\n",
    "\n",
    "How much data do we have?"
   ]
  },
  {
   "cell_type": "code",
   "execution_count": 4,
   "metadata": {},
   "outputs": [
    {
     "data": {
      "text/plain": [
       "(16716, 228)"
      ]
     },
     "execution_count": 4,
     "metadata": {},
     "output_type": "execute_result"
    }
   ],
   "source": [
    "clean_MC_data.shape"
   ]
  },
  {
   "cell_type": "markdown",
   "metadata": {},
   "source": [
    "228 Columns, with 16716 Rows.\n",
    "\n",
    "What does the data look like?  Using sample takes a random sample of the data, rather than using the likes of head with always shows the first 10 results."
   ]
  },
  {
   "cell_type": "code",
   "execution_count": 5,
   "metadata": {},
   "outputs": [
    {
     "data": {
      "text/html": [
       "<div>\n",
       "<style>\n",
       "    .dataframe thead tr:only-child th {\n",
       "        text-align: right;\n",
       "    }\n",
       "\n",
       "    .dataframe thead th {\n",
       "        text-align: left;\n",
       "    }\n",
       "\n",
       "    .dataframe tbody tr th {\n",
       "        vertical-align: top;\n",
       "    }\n",
       "</style>\n",
       "<table border=\"1\" class=\"dataframe\">\n",
       "  <thead>\n",
       "    <tr style=\"text-align: right;\">\n",
       "      <th></th>\n",
       "      <th>GenderSelect</th>\n",
       "      <th>Country</th>\n",
       "      <th>Age</th>\n",
       "      <th>EmploymentStatus</th>\n",
       "      <th>StudentStatus</th>\n",
       "      <th>LearningDataScience</th>\n",
       "      <th>CodeWriter</th>\n",
       "      <th>CareerSwitcher</th>\n",
       "      <th>CurrentJobTitleSelect</th>\n",
       "      <th>TitleFit</th>\n",
       "      <th>...</th>\n",
       "      <th>JobFactorExperienceLevel</th>\n",
       "      <th>JobFactorDepartment</th>\n",
       "      <th>JobFactorTitle</th>\n",
       "      <th>JobFactorCompanyFunding</th>\n",
       "      <th>JobFactorImpact</th>\n",
       "      <th>JobFactorRemote</th>\n",
       "      <th>JobFactorIndustry</th>\n",
       "      <th>JobFactorLeaderReputation</th>\n",
       "      <th>JobFactorDiversity</th>\n",
       "      <th>JobFactorPublishingOpportunity</th>\n",
       "    </tr>\n",
       "  </thead>\n",
       "  <tbody>\n",
       "    <tr>\n",
       "      <th>13125</th>\n",
       "      <td>Male</td>\n",
       "      <td>Brazil</td>\n",
       "      <td>28.0</td>\n",
       "      <td>Employed full-time</td>\n",
       "      <td>NaN</td>\n",
       "      <td>NaN</td>\n",
       "      <td>Yes</td>\n",
       "      <td>NaN</td>\n",
       "      <td>Data Scientist</td>\n",
       "      <td>Perfectly</td>\n",
       "      <td>...</td>\n",
       "      <td>NaN</td>\n",
       "      <td>NaN</td>\n",
       "      <td>NaN</td>\n",
       "      <td>NaN</td>\n",
       "      <td>NaN</td>\n",
       "      <td>NaN</td>\n",
       "      <td>NaN</td>\n",
       "      <td>NaN</td>\n",
       "      <td>NaN</td>\n",
       "      <td>NaN</td>\n",
       "    </tr>\n",
       "    <tr>\n",
       "      <th>11990</th>\n",
       "      <td>Male</td>\n",
       "      <td>United States</td>\n",
       "      <td>35.0</td>\n",
       "      <td>Employed part-time</td>\n",
       "      <td>NaN</td>\n",
       "      <td>NaN</td>\n",
       "      <td>Yes</td>\n",
       "      <td>NaN</td>\n",
       "      <td>NaN</td>\n",
       "      <td>NaN</td>\n",
       "      <td>...</td>\n",
       "      <td>NaN</td>\n",
       "      <td>NaN</td>\n",
       "      <td>NaN</td>\n",
       "      <td>NaN</td>\n",
       "      <td>NaN</td>\n",
       "      <td>NaN</td>\n",
       "      <td>NaN</td>\n",
       "      <td>NaN</td>\n",
       "      <td>NaN</td>\n",
       "      <td>NaN</td>\n",
       "    </tr>\n",
       "    <tr>\n",
       "      <th>8889</th>\n",
       "      <td>Male</td>\n",
       "      <td>Other</td>\n",
       "      <td>30.0</td>\n",
       "      <td>Not employed, but looking for work</td>\n",
       "      <td>NaN</td>\n",
       "      <td>NaN</td>\n",
       "      <td>NaN</td>\n",
       "      <td>NaN</td>\n",
       "      <td>NaN</td>\n",
       "      <td>NaN</td>\n",
       "      <td>...</td>\n",
       "      <td>Very Important</td>\n",
       "      <td>Somewhat important</td>\n",
       "      <td>Somewhat important</td>\n",
       "      <td>Somewhat important</td>\n",
       "      <td>Somewhat important</td>\n",
       "      <td>Somewhat important</td>\n",
       "      <td>Very Important</td>\n",
       "      <td>Somewhat important</td>\n",
       "      <td>Somewhat important</td>\n",
       "      <td>Not important</td>\n",
       "    </tr>\n",
       "    <tr>\n",
       "      <th>11193</th>\n",
       "      <td>Male</td>\n",
       "      <td>United States</td>\n",
       "      <td>35.0</td>\n",
       "      <td>Employed full-time</td>\n",
       "      <td>NaN</td>\n",
       "      <td>NaN</td>\n",
       "      <td>Yes</td>\n",
       "      <td>NaN</td>\n",
       "      <td>Other</td>\n",
       "      <td>Fine</td>\n",
       "      <td>...</td>\n",
       "      <td>NaN</td>\n",
       "      <td>NaN</td>\n",
       "      <td>NaN</td>\n",
       "      <td>NaN</td>\n",
       "      <td>NaN</td>\n",
       "      <td>NaN</td>\n",
       "      <td>NaN</td>\n",
       "      <td>NaN</td>\n",
       "      <td>NaN</td>\n",
       "      <td>NaN</td>\n",
       "    </tr>\n",
       "    <tr>\n",
       "      <th>6028</th>\n",
       "      <td>Female</td>\n",
       "      <td>United States</td>\n",
       "      <td>28.0</td>\n",
       "      <td>Employed full-time</td>\n",
       "      <td>NaN</td>\n",
       "      <td>NaN</td>\n",
       "      <td>Yes</td>\n",
       "      <td>NaN</td>\n",
       "      <td>Software Developer/Software Engineer</td>\n",
       "      <td>Poorly</td>\n",
       "      <td>...</td>\n",
       "      <td>NaN</td>\n",
       "      <td>NaN</td>\n",
       "      <td>NaN</td>\n",
       "      <td>NaN</td>\n",
       "      <td>NaN</td>\n",
       "      <td>NaN</td>\n",
       "      <td>NaN</td>\n",
       "      <td>NaN</td>\n",
       "      <td>NaN</td>\n",
       "      <td>NaN</td>\n",
       "    </tr>\n",
       "  </tbody>\n",
       "</table>\n",
       "<p>5 rows × 228 columns</p>\n",
       "</div>"
      ],
      "text/plain": [
       "      GenderSelect        Country   Age                    EmploymentStatus  \\\n",
       "13125         Male         Brazil  28.0                  Employed full-time   \n",
       "11990         Male  United States  35.0                  Employed part-time   \n",
       "8889          Male          Other  30.0  Not employed, but looking for work   \n",
       "11193         Male  United States  35.0                  Employed full-time   \n",
       "6028        Female  United States  28.0                  Employed full-time   \n",
       "\n",
       "      StudentStatus LearningDataScience CodeWriter CareerSwitcher  \\\n",
       "13125           NaN                 NaN        Yes            NaN   \n",
       "11990           NaN                 NaN        Yes            NaN   \n",
       "8889            NaN                 NaN        NaN            NaN   \n",
       "11193           NaN                 NaN        Yes            NaN   \n",
       "6028            NaN                 NaN        Yes            NaN   \n",
       "\n",
       "                      CurrentJobTitleSelect   TitleFit  \\\n",
       "13125                        Data Scientist  Perfectly   \n",
       "11990                                   NaN        NaN   \n",
       "8889                                    NaN        NaN   \n",
       "11193                                 Other       Fine   \n",
       "6028   Software Developer/Software Engineer     Poorly   \n",
       "\n",
       "                   ...               JobFactorExperienceLevel  \\\n",
       "13125              ...                                    NaN   \n",
       "11990              ...                                    NaN   \n",
       "8889               ...                         Very Important   \n",
       "11193              ...                                    NaN   \n",
       "6028               ...                                    NaN   \n",
       "\n",
       "      JobFactorDepartment      JobFactorTitle JobFactorCompanyFunding  \\\n",
       "13125                 NaN                 NaN                     NaN   \n",
       "11990                 NaN                 NaN                     NaN   \n",
       "8889   Somewhat important  Somewhat important      Somewhat important   \n",
       "11193                 NaN                 NaN                     NaN   \n",
       "6028                  NaN                 NaN                     NaN   \n",
       "\n",
       "          JobFactorImpact     JobFactorRemote JobFactorIndustry  \\\n",
       "13125                 NaN                 NaN               NaN   \n",
       "11990                 NaN                 NaN               NaN   \n",
       "8889   Somewhat important  Somewhat important    Very Important   \n",
       "11193                 NaN                 NaN               NaN   \n",
       "6028                  NaN                 NaN               NaN   \n",
       "\n",
       "      JobFactorLeaderReputation  JobFactorDiversity  \\\n",
       "13125                       NaN                 NaN   \n",
       "11990                       NaN                 NaN   \n",
       "8889         Somewhat important  Somewhat important   \n",
       "11193                       NaN                 NaN   \n",
       "6028                        NaN                 NaN   \n",
       "\n",
       "      JobFactorPublishingOpportunity  \n",
       "13125                            NaN  \n",
       "11990                            NaN  \n",
       "8889                   Not important  \n",
       "11193                            NaN  \n",
       "6028                             NaN  \n",
       "\n",
       "[5 rows x 228 columns]"
      ]
     },
     "execution_count": 5,
     "metadata": {},
     "output_type": "execute_result"
    }
   ],
   "source": [
    "clean_MC_data.sample(5)"
   ]
  },
  {
   "cell_type": "markdown",
   "metadata": {},
   "source": [
    "What can we test to see if they effect Job Satisfaction?  I used grep on the schema.csv to find only questions answered by CodingWorkers as they were the only respondents that answered JobSatisfaction.  From them I looked at the data in the answers and tried to see which ones I think could be correlated or useful in determining Job Satisfaction.  Below are the ones I picked out.\n",
    "\n",
    "* Gender /\n",
    "* Age /\n",
    "* FormalEducation /\n",
    "* CurrentJobTitleSelect [In Progress]\n",
    "* TitleFit /\n",
    "* EmployerSize /\n",
    "* TimeGatheringData, TimeModelBuilding, TimeProduction, TimeVisualizing, TimeFindingInsights, TimeOtherSelect\n",
    "* WorkDataVisualizations /\n",
    "* RemoteWork /\n",
    "* SalaryChange /\n",
    "* CompensationAmount /\n",
    "* JobFunctionSelect /"
   ]
  },
  {
   "cell_type": "code",
   "execution_count": 6,
   "metadata": {},
   "outputs": [],
   "source": [
    "def gender_split(data, column):\n",
    "    data['GenderSelect'].replace(['A different identity', 'Non-binary, genderqueer, or gender non-conforming'], ['Other', 'Other'], inplace=True)\n",
    "    \n",
    "    data_m = data[data['GenderSelect'] == \"Male\"]\n",
    "    data_f = data[data['GenderSelect'] == \"Female\"]\n",
    "    data_o = data[data['GenderSelect'] == \"Other\"]\n",
    "    \n",
    "    print(\"Male Correlation\")\n",
    "    print(data_m[[\"JobSatisfaction\", column]].corr())\n",
    "    print(\"\")\n",
    "    print(\"Female Correlation\")\n",
    "    print(data_f[[\"JobSatisfaction\", column]].corr())\n",
    "    print(\"\")\n",
    "    print(\"Other Correlation\")\n",
    "    print(data_o[[\"JobSatisfaction\", column]].corr())"
   ]
  },
  {
   "cell_type": "code",
   "execution_count": 123,
   "metadata": {},
   "outputs": [],
   "source": [
    "def age_split(data, column):\n",
    "    data = data[data['Age'] > 15.0]\n",
    "    data = data[data['Age'] < 71.0]\n",
    "    \n",
    "    data_u25 = data[data['Age'] < 25.0]\n",
    "    data_25to29 = data[data['Age'].between(25.0,29.0,inclusive=True)]\n",
    "    data_30to34 = data[data['Age'].between(30.0,34.0,inclusive=True)]\n",
    "    data_35to39 = data[data['Age'].between(35.0,39.0,inclusive=True)]\n",
    "    data_40to44 = data[data['Age'].between(40.0,44.0,inclusive=True)]\n",
    "    data_o45 = data[data['Age'] >= 45.0]\n",
    "    \n",
    "    print(\"Under 25 Correlation\")\n",
    "    print(data_u25[[\"JobSatisfaction\", column]].corr())\n",
    "    print(\"\")\n",
    "    print(\"25 to 29 Correlation\")\n",
    "    print(data_25to29[[\"JobSatisfaction\", column]].corr())\n",
    "    print(\"\")\n",
    "    print(\"30 to 34 Correlation\")\n",
    "    print(data_30to34[[\"JobSatisfaction\", column]].corr())\n",
    "    print(\"\")\n",
    "    print(\"35 to 39 Correlation\")\n",
    "    print(data_35to39[[\"JobSatisfaction\", column]].corr())\n",
    "    print(\"\")\n",
    "    print(\"40 to 4 Correlation\")\n",
    "    print(data_40to44[[\"JobSatisfaction\", column]].corr())\n",
    "    print(\"\")\n",
    "    print(\"45 and Over Correlation\")\n",
    "    print(data_o45[[\"JobSatisfaction\", column]].corr())\n",
    "    print(\"\")"
   ]
  },
  {
   "cell_type": "code",
   "execution_count": 8,
   "metadata": {},
   "outputs": [],
   "source": [
    "def correlation_linregress(column, dataset):\n",
    "    slope, intercept, r_value, p_value, std_err = linregress(dataset['JobSatisfaction'],dataset[column])\n",
    "    print(\"The correlation between JobSatisfaction and \" + str(column) + \" (r): \" + str(r_value))\n",
    "    if p_value < 0.05:\n",
    "        print(\"The correlation is statistically significant with a 95% C.I. as the p_value < 0.05: \" + str(p_value))\n",
    "    else:\n",
    "        print(\"The correlation is not statistically significant with a 95% C.I. as the p_value > 0.05: \" + str(p_value))\n",
    "    if r_value > 0.1:\n",
    "        print(\"The correlation is reasonable and would be a good candidate for improving the accuracy of a prediction model.\")\n",
    "    else:\n",
    "        print(\"The correlation is not very large however, so the correlation would not be useful for a prediction model.\")"
   ]
  },
  {
   "cell_type": "code",
   "execution_count": 9,
   "metadata": {},
   "outputs": [],
   "source": [
    "def binning(col, cut, labels=None):\n",
    "  min_v = col.min()\n",
    "  max_v = col.max()\n",
    "\n",
    "  #create list by adding min and max to cut_points\n",
    "  break_points = [min_v] + cut + [max_v]\n",
    "\n",
    "  #if no labels provided, use default labels 0 ... (n-1)\n",
    "  if not labels:\n",
    "    labels = range(len(cut)+1)\n",
    "\n",
    "  #Binning using cut function of pandas\n",
    "  colBin = pd.cut(col,bins=break_points,labels=labels,include_lowest=True)\n",
    "  return colBin"
   ]
  },
  {
   "cell_type": "markdown",
   "metadata": {},
   "source": [
    "# JobSatisfaction\n",
    "\n",
    "Let's look at the current state of the Job Satisfaction column as it is the main focus of our questions."
   ]
  },
  {
   "cell_type": "code",
   "execution_count": 10,
   "metadata": {},
   "outputs": [
    {
     "data": {
      "text/plain": [
       "array(['5', nan, '10 - Highly Satisfied', '2', '8', '7', '6', '9',\n",
       "       '1 - Highly Dissatisfied', 'I prefer not to share', '3', '4'], dtype=object)"
      ]
     },
     "execution_count": 10,
     "metadata": {},
     "output_type": "execute_result"
    }
   ],
   "source": [
    "clean_MC_data['JobSatisfaction'].unique()"
   ]
  },
  {
   "cell_type": "code",
   "execution_count": 11,
   "metadata": {},
   "outputs": [
    {
     "data": {
      "text/plain": [
       "7                          1448\n",
       "8                          1427\n",
       "6                           765\n",
       "9                           677\n",
       "5                           627\n",
       "10 - Highly Satisfied       589\n",
       "3                           358\n",
       "4                           354\n",
       "1 - Highly Dissatisfied     167\n",
       "I prefer not to share       148\n",
       "2                           117\n",
       "Name: JobSatisfaction, dtype: int64"
      ]
     },
     "execution_count": 11,
     "metadata": {},
     "output_type": "execute_result"
    }
   ],
   "source": [
    "clean_MC_data['JobSatisfaction'].value_counts()"
   ]
  },
  {
   "cell_type": "markdown",
   "metadata": {},
   "source": [
    "We want to convert this to an integer scale between 1-10.  Therefore I am going to need to drop the 'I prefer not to share' respondents, as well as the NaN values.  I will then replace the String answers of '10 - Highly Satisfied' and '1 - Highly Dissatisfied' with the integer equivalents "
   ]
  },
  {
   "cell_type": "code",
   "execution_count": 12,
   "metadata": {},
   "outputs": [],
   "source": [
    "clean_MC_data = clean_MC_data[clean_MC_data['JobSatisfaction'] != 'I prefer not to share']\n",
    "clean_MC_data.dropna(subset=['JobSatisfaction'],inplace=True)\n",
    "clean_MC_data['JobSatisfaction'] = clean_MC_data['JobSatisfaction'].replace(['10 - Highly Satisfied', '1 - Highly Dissatisfied'], ['10','1']).astype(int)"
   ]
  },
  {
   "cell_type": "markdown",
   "metadata": {},
   "source": [
    "Looking at the data now it is much cleaner.  We can do immediately pull some simple stats from this."
   ]
  },
  {
   "cell_type": "code",
   "execution_count": 13,
   "metadata": {},
   "outputs": [
    {
     "data": {
      "text/plain": [
       "array([ 5, 10,  2,  8,  7,  6,  9,  1,  3,  4], dtype=int64)"
      ]
     },
     "execution_count": 13,
     "metadata": {},
     "output_type": "execute_result"
    }
   ],
   "source": [
    "clean_MC_data['JobSatisfaction'].unique()"
   ]
  },
  {
   "cell_type": "code",
   "execution_count": 14,
   "metadata": {},
   "outputs": [
    {
     "data": {
      "text/plain": [
       "7     1448\n",
       "8     1427\n",
       "6      765\n",
       "9      677\n",
       "5      627\n",
       "10     589\n",
       "3      358\n",
       "4      354\n",
       "1      167\n",
       "2      117\n",
       "Name: JobSatisfaction, dtype: int64"
      ]
     },
     "execution_count": 14,
     "metadata": {},
     "output_type": "execute_result"
    }
   ],
   "source": [
    "clean_MC_data['JobSatisfaction'].value_counts()"
   ]
  },
  {
   "cell_type": "code",
   "execution_count": 15,
   "metadata": {},
   "outputs": [
    {
     "data": {
      "text/plain": [
       "count    6529.000000\n",
       "mean        6.762291\n",
       "std         2.150548\n",
       "min         1.000000\n",
       "25%         6.000000\n",
       "50%         7.000000\n",
       "75%         8.000000\n",
       "max        10.000000\n",
       "Name: JobSatisfaction, dtype: float64"
      ]
     },
     "execution_count": 15,
     "metadata": {},
     "output_type": "execute_result"
    }
   ],
   "source": [
    "clean_MC_data['JobSatisfaction'].describe()"
   ]
  },
  {
   "cell_type": "markdown",
   "metadata": {},
   "source": [
    "From these we can see that the data is negatively skewed.  Good news, on the whole Coding Workers are satisfied with their jobs.  The mean answer is 6.76 with the median at 7, showing that the data is evenly distributed about the mean."
   ]
  },
  {
   "cell_type": "code",
   "execution_count": 16,
   "metadata": {},
   "outputs": [
    {
     "data": {
      "image/png": "[encoded data removed]",
      "text/plain": [
       "<matplotlib.figure.Figure at 0x1916fb0e080>"
      ]
     },
     "metadata": {},
     "output_type": "display_data"
    }
   ],
   "source": [
    "sns.countplot(x=\"JobSatisfaction\", data=clean_MC_data)\n",
    "plt.show()"
   ]
  },
  {
   "cell_type": "code",
   "execution_count": 17,
   "metadata": {},
   "outputs": [
    {
     "data": {
      "image/png": "[encoded data removed]",
      "text/plain": [
       "<matplotlib.figure.Figure at 0x19170f2eba8>"
      ]
     },
     "metadata": {},
     "output_type": "display_data"
    }
   ],
   "source": [
    "sns.boxplot(x=\"JobSatisfaction\", data=clean_MC_data)\n",
    "plt.show()"
   ]
  },
  {
   "cell_type": "markdown",
   "metadata": {},
   "source": [
    "From the graphics we can see the negative skew."
   ]
  },
  {
   "cell_type": "markdown",
   "metadata": {},
   "source": [
    "# Age"
   ]
  },
  {
   "cell_type": "markdown",
   "metadata": {},
   "source": [
    "Let's take a look at the age distribution"
   ]
  },
  {
   "cell_type": "code",
   "execution_count": 145,
   "metadata": {},
   "outputs": [
    {
     "data": {
      "text/html": [
       "<div>\n",
       "<style>\n",
       "    .dataframe thead tr:only-child th {\n",
       "        text-align: right;\n",
       "    }\n",
       "\n",
       "    .dataframe thead th {\n",
       "        text-align: left;\n",
       "    }\n",
       "\n",
       "    .dataframe tbody tr th {\n",
       "        vertical-align: top;\n",
       "    }\n",
       "</style>\n",
       "<table border=\"1\" class=\"dataframe\">\n",
       "  <thead>\n",
       "    <tr style=\"text-align: right;\">\n",
       "      <th></th>\n",
       "      <th>Age</th>\n",
       "      <th>JobSatisfaction</th>\n",
       "    </tr>\n",
       "  </thead>\n",
       "  <tbody>\n",
       "    <tr>\n",
       "      <th>count</th>\n",
       "      <td>4169.000000</td>\n",
       "      <td>4194.000000</td>\n",
       "    </tr>\n",
       "    <tr>\n",
       "      <th>mean</th>\n",
       "      <td>34.010554</td>\n",
       "      <td>6.725083</td>\n",
       "    </tr>\n",
       "    <tr>\n",
       "      <th>std</th>\n",
       "      <td>9.458840</td>\n",
       "      <td>2.141101</td>\n",
       "    </tr>\n",
       "    <tr>\n",
       "      <th>min</th>\n",
       "      <td>0.000000</td>\n",
       "      <td>1.000000</td>\n",
       "    </tr>\n",
       "    <tr>\n",
       "      <th>25%</th>\n",
       "      <td>27.000000</td>\n",
       "      <td>5.000000</td>\n",
       "    </tr>\n",
       "    <tr>\n",
       "      <th>50%</th>\n",
       "      <td>32.000000</td>\n",
       "      <td>7.000000</td>\n",
       "    </tr>\n",
       "    <tr>\n",
       "      <th>75%</th>\n",
       "      <td>39.000000</td>\n",
       "      <td>8.000000</td>\n",
       "    </tr>\n",
       "    <tr>\n",
       "      <th>max</th>\n",
       "      <td>99.000000</td>\n",
       "      <td>10.000000</td>\n",
       "    </tr>\n",
       "  </tbody>\n",
       "</table>\n",
       "</div>"
      ],
      "text/plain": [
       "               Age  JobSatisfaction\n",
       "count  4169.000000      4194.000000\n",
       "mean     34.010554         6.725083\n",
       "std       9.458840         2.141101\n",
       "min       0.000000         1.000000\n",
       "25%      27.000000         5.000000\n",
       "50%      32.000000         7.000000\n",
       "75%      39.000000         8.000000\n",
       "max      99.000000        10.000000"
      ]
     },
     "execution_count": 145,
     "metadata": {},
     "output_type": "execute_result"
    }
   ],
   "source": [
    "clean_MC_data[['Age', 'JobSatisfaction']].describe()"
   ]
  },
  {
   "cell_type": "code",
   "execution_count": 42,
   "metadata": {},
   "outputs": [
    {
     "data": {
      "image/png": "[encoded data removed]",
      "text/plain": [
       "<matplotlib.figure.Figure at 0x19171177630>"
      ]
     },
     "metadata": {},
     "output_type": "display_data"
    }
   ],
   "source": [
    "sns.boxplot(x=\"Age\", data=clean_MC_data)\n",
    "plt.show()"
   ]
  },
  {
   "cell_type": "markdown",
   "metadata": {},
   "source": [
    "Because we have subsetted for JobSatisfaction, these respondents are people who identify as coding workers.\n",
    "I would not expect anybody under the age of 16 to be employed as a coding worker.  Likewise, I would not expect anybody to be working over the age of 70."
   ]
  },
  {
   "cell_type": "code",
   "execution_count": 43,
   "metadata": {},
   "outputs": [],
   "source": [
    "clean_MC_data[['Age', 'JobSatisfaction']] = clean_MC_data[clean_MC_data['Age'] > 15]\n",
    "clean_MC_data[['Age', 'JobSatisfaction']] = clean_MC_data[clean_MC_data['Age'] < 71]"
   ]
  },
  {
   "cell_type": "code",
   "execution_count": 44,
   "metadata": {},
   "outputs": [
    {
     "data": {
      "text/html": [
       "<div>\n",
       "<style>\n",
       "    .dataframe thead tr:only-child th {\n",
       "        text-align: right;\n",
       "    }\n",
       "\n",
       "    .dataframe thead th {\n",
       "        text-align: left;\n",
       "    }\n",
       "\n",
       "    .dataframe tbody tr th {\n",
       "        vertical-align: top;\n",
       "    }\n",
       "</style>\n",
       "<table border=\"1\" class=\"dataframe\">\n",
       "  <thead>\n",
       "    <tr style=\"text-align: right;\">\n",
       "      <th></th>\n",
       "      <th>Age</th>\n",
       "      <th>JobSatisfaction</th>\n",
       "    </tr>\n",
       "  </thead>\n",
       "  <tbody>\n",
       "    <tr>\n",
       "      <th>count</th>\n",
       "      <td>4162.000000</td>\n",
       "      <td>4162.000000</td>\n",
       "    </tr>\n",
       "    <tr>\n",
       "      <th>mean</th>\n",
       "      <td>33.971648</td>\n",
       "      <td>6.726574</td>\n",
       "    </tr>\n",
       "    <tr>\n",
       "      <th>std</th>\n",
       "      <td>9.297593</td>\n",
       "      <td>2.137704</td>\n",
       "    </tr>\n",
       "    <tr>\n",
       "      <th>min</th>\n",
       "      <td>16.000000</td>\n",
       "      <td>1.000000</td>\n",
       "    </tr>\n",
       "    <tr>\n",
       "      <th>25%</th>\n",
       "      <td>27.000000</td>\n",
       "      <td>5.000000</td>\n",
       "    </tr>\n",
       "    <tr>\n",
       "      <th>50%</th>\n",
       "      <td>32.000000</td>\n",
       "      <td>7.000000</td>\n",
       "    </tr>\n",
       "    <tr>\n",
       "      <th>75%</th>\n",
       "      <td>39.000000</td>\n",
       "      <td>8.000000</td>\n",
       "    </tr>\n",
       "    <tr>\n",
       "      <th>max</th>\n",
       "      <td>70.000000</td>\n",
       "      <td>10.000000</td>\n",
       "    </tr>\n",
       "  </tbody>\n",
       "</table>\n",
       "</div>"
      ],
      "text/plain": [
       "               Age  JobSatisfaction\n",
       "count  4162.000000      4162.000000\n",
       "mean     33.971648         6.726574\n",
       "std       9.297593         2.137704\n",
       "min      16.000000         1.000000\n",
       "25%      27.000000         5.000000\n",
       "50%      32.000000         7.000000\n",
       "75%      39.000000         8.000000\n",
       "max      70.000000        10.000000"
      ]
     },
     "execution_count": 44,
     "metadata": {},
     "output_type": "execute_result"
    }
   ],
   "source": [
    "clean_MC_data[['Age', 'JobSatisfaction']].describe()"
   ]
  },
  {
   "cell_type": "code",
   "execution_count": 45,
   "metadata": {},
   "outputs": [
    {
     "data": {
      "image/png": "[encoded data removed]",
      "text/plain": [
       "<matplotlib.figure.Figure at 0x191713f71d0>"
      ]
     },
     "metadata": {},
     "output_type": "display_data"
    }
   ],
   "source": [
    "sns.boxplot(x=\"Age\", data=clean_MC_data)\n",
    "plt.show()"
   ]
  },
  {
   "cell_type": "markdown",
   "metadata": {},
   "source": [
    "This boxplot looks much closer to the distribution we would expect from Coding Workers.  It shows that the mean age of the respondents is 34, and 50% of respondents are between 27 and 39."
   ]
  },
  {
   "cell_type": "code",
   "execution_count": null,
   "metadata": {},
   "outputs": [],
   "source": [
    "age = clean_MC_data[['Age', 'JobSatisfaction']]"
   ]
  },
  {
   "cell_type": "code",
   "execution_count": 46,
   "metadata": {},
   "outputs": [
    {
     "name": "stdout",
     "output_type": "stream",
     "text": [
      "The correlation between JobSatisfaction and Age (r): 0.0610231758969\n",
      "The correlation is statistically significant with a 95% C.I. as the p_value < 0.05: 8.17157928016e-05\n",
      "The correlation is not very large however, so the correlation would not be useful for a prediction model.\n"
     ]
    }
   ],
   "source": [
    "correlation_linregress('Age', age)"
   ]
  },
  {
   "cell_type": "markdown",
   "metadata": {},
   "source": [
    "# Compensation Amount"
   ]
  },
  {
   "cell_type": "code",
   "execution_count": 18,
   "metadata": {},
   "outputs": [],
   "source": [
    "clean_MC_data = pd.merge(left=clean_MC_data, right=conversion_rates, how='left', left_on='CompensationCurrency', right_on='originCountry')"
   ]
  },
  {
   "cell_type": "code",
   "execution_count": 19,
   "metadata": {},
   "outputs": [],
   "source": [
    "#compensation = clean_MC_data[['JobSatisfaction', 'CompensationAmount', 'exchangeRate']]"
   ]
  },
  {
   "cell_type": "code",
   "execution_count": 20,
   "metadata": {},
   "outputs": [],
   "source": [
    "#compensation.dropna(inplace=True)\n",
    "clean_MC_data['CompensationAmount'] = clean_MC_data['CompensationAmount'].str.replace(',', '').replace('-', '').replace('', '0')\n",
    "clean_MC_data.dropna(subset=['CompensationAmount'],inplace=True)"
   ]
  },
  {
   "cell_type": "code",
   "execution_count": 21,
   "metadata": {},
   "outputs": [],
   "source": [
    "clean_MC_data['CompensationAmount'] = clean_MC_data['CompensationAmount'].astype(float)"
   ]
  },
  {
   "cell_type": "code",
   "execution_count": 22,
   "metadata": {},
   "outputs": [
    {
     "data": {
      "text/html": [
       "<div>\n",
       "<style>\n",
       "    .dataframe thead tr:only-child th {\n",
       "        text-align: right;\n",
       "    }\n",
       "\n",
       "    .dataframe thead th {\n",
       "        text-align: left;\n",
       "    }\n",
       "\n",
       "    .dataframe tbody tr th {\n",
       "        vertical-align: top;\n",
       "    }\n",
       "</style>\n",
       "<table border=\"1\" class=\"dataframe\">\n",
       "  <thead>\n",
       "    <tr style=\"text-align: right;\">\n",
       "      <th></th>\n",
       "      <th>JobSatisfaction</th>\n",
       "      <th>CompensationAmount</th>\n",
       "      <th>exchangeRate</th>\n",
       "    </tr>\n",
       "  </thead>\n",
       "  <tbody>\n",
       "    <tr>\n",
       "      <th>count</th>\n",
       "      <td>5132.000000</td>\n",
       "      <td>5.132000e+03</td>\n",
       "      <td>4300.000000</td>\n",
       "    </tr>\n",
       "    <tr>\n",
       "      <th>mean</th>\n",
       "      <td>6.726422</td>\n",
       "      <td>2.209452e+07</td>\n",
       "      <td>0.709976</td>\n",
       "    </tr>\n",
       "    <tr>\n",
       "      <th>std</th>\n",
       "      <td>2.160212</td>\n",
       "      <td>1.396222e+09</td>\n",
       "      <td>0.483485</td>\n",
       "    </tr>\n",
       "    <tr>\n",
       "      <th>min</th>\n",
       "      <td>1.000000</td>\n",
       "      <td>-9.900000e+01</td>\n",
       "      <td>0.000030</td>\n",
       "    </tr>\n",
       "    <tr>\n",
       "      <th>25%</th>\n",
       "      <td>5.000000</td>\n",
       "      <td>4.915000e+04</td>\n",
       "      <td>0.077002</td>\n",
       "    </tr>\n",
       "    <tr>\n",
       "      <th>50%</th>\n",
       "      <td>7.000000</td>\n",
       "      <td>9.000000e+04</td>\n",
       "      <td>1.000000</td>\n",
       "    </tr>\n",
       "    <tr>\n",
       "      <th>75%</th>\n",
       "      <td>8.000000</td>\n",
       "      <td>1.850000e+05</td>\n",
       "      <td>1.000000</td>\n",
       "    </tr>\n",
       "    <tr>\n",
       "      <th>max</th>\n",
       "      <td>10.000000</td>\n",
       "      <td>1.000000e+11</td>\n",
       "      <td>2.652053</td>\n",
       "    </tr>\n",
       "  </tbody>\n",
       "</table>\n",
       "</div>"
      ],
      "text/plain": [
       "       JobSatisfaction  CompensationAmount  exchangeRate\n",
       "count      5132.000000        5.132000e+03   4300.000000\n",
       "mean          6.726422        2.209452e+07      0.709976\n",
       "std           2.160212        1.396222e+09      0.483485\n",
       "min           1.000000       -9.900000e+01      0.000030\n",
       "25%           5.000000        4.915000e+04      0.077002\n",
       "50%           7.000000        9.000000e+04      1.000000\n",
       "75%           8.000000        1.850000e+05      1.000000\n",
       "max          10.000000        1.000000e+11      2.652053"
      ]
     },
     "execution_count": 22,
     "metadata": {},
     "output_type": "execute_result"
    }
   ],
   "source": [
    "clean_MC_data[['JobSatisfaction', 'CompensationAmount', 'exchangeRate']].describe()"
   ]
  },
  {
   "cell_type": "code",
   "execution_count": 23,
   "metadata": {},
   "outputs": [],
   "source": [
    "clean_MC_data['CompensationAmount_USD'] = clean_MC_data.CompensationAmount * clean_MC_data.exchangeRate"
   ]
  },
  {
   "cell_type": "code",
   "execution_count": 24,
   "metadata": {},
   "outputs": [
    {
     "data": {
      "text/html": [
       "<div>\n",
       "<style>\n",
       "    .dataframe thead tr:only-child th {\n",
       "        text-align: right;\n",
       "    }\n",
       "\n",
       "    .dataframe thead th {\n",
       "        text-align: left;\n",
       "    }\n",
       "\n",
       "    .dataframe tbody tr th {\n",
       "        vertical-align: top;\n",
       "    }\n",
       "</style>\n",
       "<table border=\"1\" class=\"dataframe\">\n",
       "  <thead>\n",
       "    <tr style=\"text-align: right;\">\n",
       "      <th></th>\n",
       "      <th>JobSatisfaction</th>\n",
       "      <th>CompensationAmount</th>\n",
       "      <th>exchangeRate</th>\n",
       "    </tr>\n",
       "  </thead>\n",
       "  <tbody>\n",
       "    <tr>\n",
       "      <th>1</th>\n",
       "      <td>10</td>\n",
       "      <td>250000.0</td>\n",
       "      <td>1.000000</td>\n",
       "    </tr>\n",
       "    <tr>\n",
       "      <th>5</th>\n",
       "      <td>7</td>\n",
       "      <td>80000.0</td>\n",
       "      <td>0.802310</td>\n",
       "    </tr>\n",
       "    <tr>\n",
       "      <th>6</th>\n",
       "      <td>7</td>\n",
       "      <td>1200000.0</td>\n",
       "      <td>0.017402</td>\n",
       "    </tr>\n",
       "    <tr>\n",
       "      <th>7</th>\n",
       "      <td>7</td>\n",
       "      <td>95000.0</td>\n",
       "      <td>0.015620</td>\n",
       "    </tr>\n",
       "    <tr>\n",
       "      <th>8</th>\n",
       "      <td>5</td>\n",
       "      <td>1100000.0</td>\n",
       "      <td>0.033304</td>\n",
       "    </tr>\n",
       "  </tbody>\n",
       "</table>\n",
       "</div>"
      ],
      "text/plain": [
       "   JobSatisfaction  CompensationAmount  exchangeRate\n",
       "1               10            250000.0      1.000000\n",
       "5                7             80000.0      0.802310\n",
       "6                7           1200000.0      0.017402\n",
       "7                7             95000.0      0.015620\n",
       "8                5           1100000.0      0.033304"
      ]
     },
     "execution_count": 24,
     "metadata": {},
     "output_type": "execute_result"
    }
   ],
   "source": [
    "clean_MC_data[['JobSatisfaction', 'CompensationAmount', 'exchangeRate']].head()"
   ]
  },
  {
   "cell_type": "code",
   "execution_count": 25,
   "metadata": {},
   "outputs": [
    {
     "data": {
      "image/png": "[encoded data removed]",
      "text/plain": [
       "<matplotlib.figure.Figure at 0x19171057358>"
      ]
     },
     "metadata": {},
     "output_type": "display_data"
    }
   ],
   "source": [
    "sns.boxplot(x=\"CompensationAmount_USD\", data=clean_MC_data)\n",
    "plt.show()"
   ]
  },
  {
   "cell_type": "code",
   "execution_count": 26,
   "metadata": {},
   "outputs": [],
   "source": [
    "clean_MC_data = clean_MC_data[clean_MC_data['CompensationAmount_USD'] < 250000.0]\n",
    "clean_MC_data = clean_MC_data[clean_MC_data['CompensationAmount_USD'] > 0.0]"
   ]
  },
  {
   "cell_type": "code",
   "execution_count": 27,
   "metadata": {},
   "outputs": [
    {
     "data": {
      "image/png": "[encoded data removed]",
      "text/plain": [
       "<matplotlib.figure.Figure at 0x1917107fa90>"
      ]
     },
     "metadata": {},
     "output_type": "display_data"
    }
   ],
   "source": [
    "sns.boxplot(x=\"CompensationAmount_USD\", data=clean_MC_data)\n",
    "plt.show()"
   ]
  },
  {
   "cell_type": "code",
   "execution_count": 28,
   "metadata": {},
   "outputs": [
    {
     "data": {
      "text/plain": [
       "count      4194.00000\n",
       "mean      63625.59839\n",
       "std       51548.41154\n",
       "min           0.06000\n",
       "25%       21292.39680\n",
       "50%       53812.17000\n",
       "75%       95000.00000\n",
       "max      248716.10000\n",
       "Name: CompensationAmount_USD, dtype: float64"
      ]
     },
     "execution_count": 28,
     "metadata": {},
     "output_type": "execute_result"
    }
   ],
   "source": [
    "clean_MC_data['CompensationAmount_USD'].describe()"
   ]
  },
  {
   "cell_type": "code",
   "execution_count": 29,
   "metadata": {},
   "outputs": [
    {
     "name": "stdout",
     "output_type": "stream",
     "text": [
      "The correlation between JobSatisfaction and CompensationAmount_USD (r): 0.155248793246\n",
      "The correlation is statistically significant with a 95% C.I. as the p_value < 0.05: 4.86502366561e-24\n",
      "The correlation is reasonable and would be a good candidate for improving the accuracy of a prediction model.\n"
     ]
    }
   ],
   "source": [
    "correlation_linregress('CompensationAmount_USD', clean_MC_data)"
   ]
  },
  {
   "cell_type": "markdown",
   "metadata": {},
   "source": [
    "# Gender"
   ]
  },
  {
   "cell_type": "code",
   "execution_count": 30,
   "metadata": {},
   "outputs": [
    {
     "data": {
      "text/html": [
       "<div>\n",
       "<style>\n",
       "    .dataframe thead tr:only-child th {\n",
       "        text-align: right;\n",
       "    }\n",
       "\n",
       "    .dataframe thead th {\n",
       "        text-align: left;\n",
       "    }\n",
       "\n",
       "    .dataframe tbody tr th {\n",
       "        vertical-align: top;\n",
       "    }\n",
       "</style>\n",
       "<table border=\"1\" class=\"dataframe\">\n",
       "  <thead>\n",
       "    <tr style=\"text-align: right;\">\n",
       "      <th></th>\n",
       "      <th>GenderSelect</th>\n",
       "      <th>JobSatisfaction</th>\n",
       "    </tr>\n",
       "  </thead>\n",
       "  <tbody>\n",
       "    <tr>\n",
       "      <th>5</th>\n",
       "      <td>Female</td>\n",
       "      <td>7</td>\n",
       "    </tr>\n",
       "    <tr>\n",
       "      <th>6</th>\n",
       "      <td>Male</td>\n",
       "      <td>7</td>\n",
       "    </tr>\n",
       "    <tr>\n",
       "      <th>7</th>\n",
       "      <td>Male</td>\n",
       "      <td>7</td>\n",
       "    </tr>\n",
       "    <tr>\n",
       "      <th>8</th>\n",
       "      <td>Male</td>\n",
       "      <td>5</td>\n",
       "    </tr>\n",
       "    <tr>\n",
       "      <th>10</th>\n",
       "      <td>Male</td>\n",
       "      <td>6</td>\n",
       "    </tr>\n",
       "  </tbody>\n",
       "</table>\n",
       "</div>"
      ],
      "text/plain": [
       "   GenderSelect  JobSatisfaction\n",
       "5        Female                7\n",
       "6          Male                7\n",
       "7          Male                7\n",
       "8          Male                5\n",
       "10         Male                6"
      ]
     },
     "execution_count": 30,
     "metadata": {},
     "output_type": "execute_result"
    }
   ],
   "source": [
    "gender = clean_MC_data[['GenderSelect', 'JobSatisfaction']]\n",
    "gender.head()"
   ]
  },
  {
   "cell_type": "code",
   "execution_count": 31,
   "metadata": {},
   "outputs": [
    {
     "data": {
      "text/plain": [
       "array(['Female', 'Male', 'A different identity',\n",
       "       'Non-binary, genderqueer, or gender non-conforming', nan], dtype=object)"
      ]
     },
     "execution_count": 31,
     "metadata": {},
     "output_type": "execute_result"
    }
   ],
   "source": [
    "gender['GenderSelect'].unique()"
   ]
  },
  {
   "cell_type": "code",
   "execution_count": 32,
   "metadata": {},
   "outputs": [
    {
     "data": {
      "text/plain": [
       "Male                                                 3581\n",
       "Female                                                562\n",
       "Non-binary, genderqueer, or gender non-conforming      25\n",
       "A different identity                                   22\n",
       "Name: GenderSelect, dtype: int64"
      ]
     },
     "execution_count": 32,
     "metadata": {},
     "output_type": "execute_result"
    }
   ],
   "source": [
    "gender['GenderSelect'].value_counts()"
   ]
  },
  {
   "cell_type": "markdown",
   "metadata": {},
   "source": [
    "From the value counts we can see that the sample size for 'A different identity' and 'Non-binary, genderqueer, or gender non-conforming' is quite small.  I will group these in an other category.  It is also necessary to deal with the Null values."
   ]
  },
  {
   "cell_type": "code",
   "execution_count": 33,
   "metadata": {},
   "outputs": [
    {
     "name": "stdout",
     "output_type": "stream",
     "text": [
      "<class 'pandas.core.frame.DataFrame'>\n",
      "Int64Index: 4194 entries, 5 to 6527\n",
      "Data columns (total 2 columns):\n",
      "GenderSelect       4190 non-null object\n",
      "JobSatisfaction    4194 non-null int32\n",
      "dtypes: int32(1), object(1)\n",
      "memory usage: 81.9+ KB\n"
     ]
    }
   ],
   "source": [
    "gender.info()"
   ]
  },
  {
   "cell_type": "markdown",
   "metadata": {},
   "source": [
    "Looking at the information we have 12 null values for Gender Select.  We could either fill this data, or drop it.  Dropping it is the best option in this case as it is a small proportion of the sample."
   ]
  },
  {
   "cell_type": "code",
   "execution_count": 34,
   "metadata": {},
   "outputs": [],
   "source": [
    "gender.dropna(inplace=True)\n",
    "gender['GenderSelect'].replace(['A different identity', 'Non-binary, genderqueer, or gender non-conforming'], ['Other', 'Other'], inplace=True)"
   ]
  },
  {
   "cell_type": "markdown",
   "metadata": {},
   "source": [
    "Taking a look at the data now."
   ]
  },
  {
   "cell_type": "code",
   "execution_count": 35,
   "metadata": {},
   "outputs": [
    {
     "data": {
      "text/plain": [
       "array(['Female', 'Male', 'Other'], dtype=object)"
      ]
     },
     "execution_count": 35,
     "metadata": {},
     "output_type": "execute_result"
    }
   ],
   "source": [
    "gender['GenderSelect'].unique()"
   ]
  },
  {
   "cell_type": "code",
   "execution_count": 36,
   "metadata": {},
   "outputs": [
    {
     "data": {
      "text/plain": [
       "Male      3581\n",
       "Female     562\n",
       "Other       47\n",
       "Name: GenderSelect, dtype: int64"
      ]
     },
     "execution_count": 36,
     "metadata": {},
     "output_type": "execute_result"
    }
   ],
   "source": [
    "gender['GenderSelect'].value_counts()"
   ]
  },
  {
   "cell_type": "markdown",
   "metadata": {},
   "source": [
    "Now lets take a look at the descriptive statistics for each of the demographics."
   ]
  },
  {
   "cell_type": "code",
   "execution_count": 37,
   "metadata": {},
   "outputs": [
    {
     "data": {
      "text/html": [
       "<div>\n",
       "<style>\n",
       "    .dataframe thead tr:only-child th {\n",
       "        text-align: right;\n",
       "    }\n",
       "\n",
       "    .dataframe thead th {\n",
       "        text-align: left;\n",
       "    }\n",
       "\n",
       "    .dataframe tbody tr th {\n",
       "        vertical-align: top;\n",
       "    }\n",
       "</style>\n",
       "<table border=\"1\" class=\"dataframe\">\n",
       "  <thead>\n",
       "    <tr>\n",
       "      <th></th>\n",
       "      <th colspan=\"8\" halign=\"left\">JobSatisfaction</th>\n",
       "    </tr>\n",
       "    <tr>\n",
       "      <th></th>\n",
       "      <th>count</th>\n",
       "      <th>mean</th>\n",
       "      <th>std</th>\n",
       "      <th>min</th>\n",
       "      <th>25%</th>\n",
       "      <th>50%</th>\n",
       "      <th>75%</th>\n",
       "      <th>max</th>\n",
       "    </tr>\n",
       "    <tr>\n",
       "      <th>GenderSelect</th>\n",
       "      <th></th>\n",
       "      <th></th>\n",
       "      <th></th>\n",
       "      <th></th>\n",
       "      <th></th>\n",
       "      <th></th>\n",
       "      <th></th>\n",
       "      <th></th>\n",
       "    </tr>\n",
       "  </thead>\n",
       "  <tbody>\n",
       "    <tr>\n",
       "      <th>Female</th>\n",
       "      <td>562.0</td>\n",
       "      <td>6.585409</td>\n",
       "      <td>2.349347</td>\n",
       "      <td>1.0</td>\n",
       "      <td>5.0</td>\n",
       "      <td>7.0</td>\n",
       "      <td>8.0</td>\n",
       "      <td>10.0</td>\n",
       "    </tr>\n",
       "    <tr>\n",
       "      <th>Male</th>\n",
       "      <td>3581.0</td>\n",
       "      <td>6.746160</td>\n",
       "      <td>2.108261</td>\n",
       "      <td>1.0</td>\n",
       "      <td>6.0</td>\n",
       "      <td>7.0</td>\n",
       "      <td>8.0</td>\n",
       "      <td>10.0</td>\n",
       "    </tr>\n",
       "    <tr>\n",
       "      <th>Other</th>\n",
       "      <td>47.0</td>\n",
       "      <td>6.872340</td>\n",
       "      <td>1.984911</td>\n",
       "      <td>3.0</td>\n",
       "      <td>6.0</td>\n",
       "      <td>7.0</td>\n",
       "      <td>8.0</td>\n",
       "      <td>10.0</td>\n",
       "    </tr>\n",
       "  </tbody>\n",
       "</table>\n",
       "</div>"
      ],
      "text/plain": [
       "             JobSatisfaction                                              \n",
       "                       count      mean       std  min  25%  50%  75%   max\n",
       "GenderSelect                                                              \n",
       "Female                 562.0  6.585409  2.349347  1.0  5.0  7.0  8.0  10.0\n",
       "Male                  3581.0  6.746160  2.108261  1.0  6.0  7.0  8.0  10.0\n",
       "Other                   47.0  6.872340  1.984911  3.0  6.0  7.0  8.0  10.0"
      ]
     },
     "execution_count": 37,
     "metadata": {},
     "output_type": "execute_result"
    }
   ],
   "source": [
    "gender.groupby('GenderSelect').describe()"
   ]
  },
  {
   "cell_type": "markdown",
   "metadata": {},
   "source": [
    "From the descriptive statistics all 3 of the categories look quite similar"
   ]
  },
  {
   "cell_type": "code",
   "execution_count": 38,
   "metadata": {},
   "outputs": [
    {
     "data": {
      "image/png": "[encoded data removed]",
      "text/plain": [
       "<matplotlib.figure.Figure at 0x19170f197f0>"
      ]
     },
     "metadata": {},
     "output_type": "display_data"
    }
   ],
   "source": [
    "plt.figure(figsize=(12,6))\n",
    "\n",
    "plt.subplot(2,2,1)\n",
    "sns.countplot(x=\"JobSatisfaction\", data=gender[gender['GenderSelect'] == \"Male\"]).set_title(\"Male\")\n",
    "\n",
    "plt.subplot(2,2,2)\n",
    "sns.countplot(x=\"JobSatisfaction\", data=gender[gender['GenderSelect'] == \"Female\"]).set_title(\"Female\")\n",
    "\n",
    "plt.subplot(2,2,3)\n",
    "sns.countplot(x=\"JobSatisfaction\", data=gender[gender['GenderSelect'] == \"Other\"]).set_title(\"Other\")\n",
    "\n",
    "plt.tight_layout()\n",
    "plt.show()"
   ]
  },
  {
   "cell_type": "code",
   "execution_count": 39,
   "metadata": {},
   "outputs": [
    {
     "data": {
      "text/html": [
       "<div>\n",
       "<style>\n",
       "    .dataframe thead tr:only-child th {\n",
       "        text-align: right;\n",
       "    }\n",
       "\n",
       "    .dataframe thead th {\n",
       "        text-align: left;\n",
       "    }\n",
       "\n",
       "    .dataframe tbody tr th {\n",
       "        vertical-align: top;\n",
       "    }\n",
       "</style>\n",
       "<table border=\"1\" class=\"dataframe\">\n",
       "  <thead>\n",
       "    <tr style=\"text-align: right;\">\n",
       "      <th>JobSatisfaction</th>\n",
       "      <th>1</th>\n",
       "      <th>2</th>\n",
       "      <th>3</th>\n",
       "      <th>4</th>\n",
       "      <th>5</th>\n",
       "      <th>6</th>\n",
       "      <th>7</th>\n",
       "      <th>8</th>\n",
       "      <th>9</th>\n",
       "      <th>10</th>\n",
       "    </tr>\n",
       "    <tr>\n",
       "      <th>GenderSelect</th>\n",
       "      <th></th>\n",
       "      <th></th>\n",
       "      <th></th>\n",
       "      <th></th>\n",
       "      <th></th>\n",
       "      <th></th>\n",
       "      <th></th>\n",
       "      <th></th>\n",
       "      <th></th>\n",
       "      <th></th>\n",
       "    </tr>\n",
       "  </thead>\n",
       "  <tbody>\n",
       "    <tr>\n",
       "      <th>Female</th>\n",
       "      <td>24</td>\n",
       "      <td>11</td>\n",
       "      <td>37</td>\n",
       "      <td>25</td>\n",
       "      <td>72</td>\n",
       "      <td>66</td>\n",
       "      <td>112</td>\n",
       "      <td>89</td>\n",
       "      <td>68</td>\n",
       "      <td>58</td>\n",
       "    </tr>\n",
       "    <tr>\n",
       "      <th>Male</th>\n",
       "      <td>86</td>\n",
       "      <td>56</td>\n",
       "      <td>198</td>\n",
       "      <td>211</td>\n",
       "      <td>334</td>\n",
       "      <td>416</td>\n",
       "      <td>820</td>\n",
       "      <td>804</td>\n",
       "      <td>376</td>\n",
       "      <td>280</td>\n",
       "    </tr>\n",
       "    <tr>\n",
       "      <th>Other</th>\n",
       "      <td>0</td>\n",
       "      <td>0</td>\n",
       "      <td>3</td>\n",
       "      <td>4</td>\n",
       "      <td>3</td>\n",
       "      <td>9</td>\n",
       "      <td>11</td>\n",
       "      <td>7</td>\n",
       "      <td>4</td>\n",
       "      <td>6</td>\n",
       "    </tr>\n",
       "  </tbody>\n",
       "</table>\n",
       "</div>"
      ],
      "text/plain": [
       "JobSatisfaction  1   2    3    4    5    6    7    8    9    10\n",
       "GenderSelect                                                   \n",
       "Female           24  11   37   25   72   66  112   89   68   58\n",
       "Male             86  56  198  211  334  416  820  804  376  280\n",
       "Other             0   0    3    4    3    9   11    7    4    6"
      ]
     },
     "execution_count": 39,
     "metadata": {},
     "output_type": "execute_result"
    }
   ],
   "source": [
    "gender_crosstab = pd.crosstab(index=gender[\"GenderSelect\"],\n",
    "                             columns=gender[\"JobSatisfaction\"])\n",
    "gender_crosstab"
   ]
  },
  {
   "cell_type": "markdown",
   "metadata": {},
   "source": [
    "From this I would say that Gender does not have a significant impact on Job Satisfaction."
   ]
  },
  {
   "cell_type": "markdown",
   "metadata": {},
   "source": [
    "# Formal Education"
   ]
  },
  {
   "cell_type": "code",
   "execution_count": 47,
   "metadata": {},
   "outputs": [],
   "source": [
    "formal_education = clean_MC_data[['JobSatisfaction', 'FormalEducation']].dropna()"
   ]
  },
  {
   "cell_type": "code",
   "execution_count": 48,
   "metadata": {},
   "outputs": [
    {
     "name": "stdout",
     "output_type": "stream",
     "text": [
      "<class 'pandas.core.frame.DataFrame'>\n",
      "Int64Index: 4193 entries, 5 to 6527\n",
      "Data columns (total 2 columns):\n",
      "JobSatisfaction    4193 non-null int32\n",
      "FormalEducation    4193 non-null object\n",
      "dtypes: int32(1), object(1)\n",
      "memory usage: 81.9+ KB\n"
     ]
    }
   ],
   "source": [
    "formal_education.info()"
   ]
  },
  {
   "cell_type": "code",
   "execution_count": 49,
   "metadata": {},
   "outputs": [
    {
     "data": {
      "text/plain": [
       "array([\"Bachelor's degree\", \"Master's degree\", 'Doctoral degree',\n",
       "       \"Some college/university study without earning a bachelor's degree\",\n",
       "       'I did not complete any formal education past high school',\n",
       "       'Professional degree', 'I prefer not to answer'], dtype=object)"
      ]
     },
     "execution_count": 49,
     "metadata": {},
     "output_type": "execute_result"
    }
   ],
   "source": [
    "formal_education['FormalEducation'].unique()"
   ]
  },
  {
   "cell_type": "code",
   "execution_count": 50,
   "metadata": {},
   "outputs": [
    {
     "data": {
      "text/plain": [
       "Master's degree                                                      1933\n",
       "Bachelor's degree                                                    1068\n",
       "Doctoral degree                                                       926\n",
       "Professional degree                                                   128\n",
       "Some college/university study without earning a bachelor's degree     107\n",
       "I did not complete any formal education past high school               25\n",
       "I prefer not to answer                                                  6\n",
       "Name: FormalEducation, dtype: int64"
      ]
     },
     "execution_count": 50,
     "metadata": {},
     "output_type": "execute_result"
    }
   ],
   "source": [
    "formal_education['FormalEducation'].value_counts()"
   ]
  },
  {
   "cell_type": "code",
   "execution_count": 51,
   "metadata": {},
   "outputs": [],
   "source": [
    "formal_education = formal_education[formal_education['FormalEducation'] != \"I prefer not to answer\"]"
   ]
  },
  {
   "cell_type": "code",
   "execution_count": 52,
   "metadata": {},
   "outputs": [
    {
     "data": {
      "text/html": [
       "<div>\n",
       "<style>\n",
       "    .dataframe thead tr:only-child th {\n",
       "        text-align: right;\n",
       "    }\n",
       "\n",
       "    .dataframe thead th {\n",
       "        text-align: left;\n",
       "    }\n",
       "\n",
       "    .dataframe tbody tr th {\n",
       "        vertical-align: top;\n",
       "    }\n",
       "</style>\n",
       "<table border=\"1\" class=\"dataframe\">\n",
       "  <thead>\n",
       "    <tr>\n",
       "      <th></th>\n",
       "      <th colspan=\"8\" halign=\"left\">JobSatisfaction</th>\n",
       "    </tr>\n",
       "    <tr>\n",
       "      <th></th>\n",
       "      <th>count</th>\n",
       "      <th>mean</th>\n",
       "      <th>std</th>\n",
       "      <th>min</th>\n",
       "      <th>25%</th>\n",
       "      <th>50%</th>\n",
       "      <th>75%</th>\n",
       "      <th>max</th>\n",
       "    </tr>\n",
       "    <tr>\n",
       "      <th>FormalEducation</th>\n",
       "      <th></th>\n",
       "      <th></th>\n",
       "      <th></th>\n",
       "      <th></th>\n",
       "      <th></th>\n",
       "      <th></th>\n",
       "      <th></th>\n",
       "      <th></th>\n",
       "    </tr>\n",
       "  </thead>\n",
       "  <tbody>\n",
       "    <tr>\n",
       "      <th>Bachelor's degree</th>\n",
       "      <td>1068.0</td>\n",
       "      <td>6.513109</td>\n",
       "      <td>2.122494</td>\n",
       "      <td>1.0</td>\n",
       "      <td>5.0</td>\n",
       "      <td>7.0</td>\n",
       "      <td>8.0</td>\n",
       "      <td>10.0</td>\n",
       "    </tr>\n",
       "    <tr>\n",
       "      <th>Doctoral degree</th>\n",
       "      <td>926.0</td>\n",
       "      <td>6.988121</td>\n",
       "      <td>2.172772</td>\n",
       "      <td>1.0</td>\n",
       "      <td>6.0</td>\n",
       "      <td>7.0</td>\n",
       "      <td>8.0</td>\n",
       "      <td>10.0</td>\n",
       "    </tr>\n",
       "    <tr>\n",
       "      <th>I did not complete any formal education past high school</th>\n",
       "      <td>25.0</td>\n",
       "      <td>6.800000</td>\n",
       "      <td>2.160247</td>\n",
       "      <td>2.0</td>\n",
       "      <td>5.0</td>\n",
       "      <td>8.0</td>\n",
       "      <td>8.0</td>\n",
       "      <td>10.0</td>\n",
       "    </tr>\n",
       "    <tr>\n",
       "      <th>Master's degree</th>\n",
       "      <td>1933.0</td>\n",
       "      <td>6.708226</td>\n",
       "      <td>2.113919</td>\n",
       "      <td>1.0</td>\n",
       "      <td>5.0</td>\n",
       "      <td>7.0</td>\n",
       "      <td>8.0</td>\n",
       "      <td>10.0</td>\n",
       "    </tr>\n",
       "    <tr>\n",
       "      <th>Professional degree</th>\n",
       "      <td>128.0</td>\n",
       "      <td>6.640625</td>\n",
       "      <td>2.247429</td>\n",
       "      <td>1.0</td>\n",
       "      <td>5.0</td>\n",
       "      <td>7.0</td>\n",
       "      <td>8.0</td>\n",
       "      <td>10.0</td>\n",
       "    </tr>\n",
       "    <tr>\n",
       "      <th>Some college/university study without earning a bachelor's degree</th>\n",
       "      <td>107.0</td>\n",
       "      <td>6.850467</td>\n",
       "      <td>2.192628</td>\n",
       "      <td>1.0</td>\n",
       "      <td>5.0</td>\n",
       "      <td>7.0</td>\n",
       "      <td>8.0</td>\n",
       "      <td>10.0</td>\n",
       "    </tr>\n",
       "  </tbody>\n",
       "</table>\n",
       "</div>"
      ],
      "text/plain": [
       "                                                   JobSatisfaction            \\\n",
       "                                                             count      mean   \n",
       "FormalEducation                                                                \n",
       "Bachelor's degree                                           1068.0  6.513109   \n",
       "Doctoral degree                                              926.0  6.988121   \n",
       "I did not complete any formal education past hi...            25.0  6.800000   \n",
       "Master's degree                                             1933.0  6.708226   \n",
       "Professional degree                                          128.0  6.640625   \n",
       "Some college/university study without earning a...           107.0  6.850467   \n",
       "\n",
       "                                                                             \\\n",
       "                                                         std  min  25%  50%   \n",
       "FormalEducation                                                               \n",
       "Bachelor's degree                                   2.122494  1.0  5.0  7.0   \n",
       "Doctoral degree                                     2.172772  1.0  6.0  7.0   \n",
       "I did not complete any formal education past hi...  2.160247  2.0  5.0  8.0   \n",
       "Master's degree                                     2.113919  1.0  5.0  7.0   \n",
       "Professional degree                                 2.247429  1.0  5.0  7.0   \n",
       "Some college/university study without earning a...  2.192628  1.0  5.0  7.0   \n",
       "\n",
       "                                                               \n",
       "                                                    75%   max  \n",
       "FormalEducation                                                \n",
       "Bachelor's degree                                   8.0  10.0  \n",
       "Doctoral degree                                     8.0  10.0  \n",
       "I did not complete any formal education past hi...  8.0  10.0  \n",
       "Master's degree                                     8.0  10.0  \n",
       "Professional degree                                 8.0  10.0  \n",
       "Some college/university study without earning a...  8.0  10.0  "
      ]
     },
     "execution_count": 52,
     "metadata": {},
     "output_type": "execute_result"
    }
   ],
   "source": [
    "formal_education.groupby('FormalEducation').describe()"
   ]
  },
  {
   "cell_type": "code",
   "execution_count": 53,
   "metadata": {},
   "outputs": [],
   "source": [
    "formal_education['FormalEducation'] = formal_education['FormalEducation'].replace([\"Doctoral degree\", \"Master's degree\", \"Bachelor's degree\", \"Professional degree\", \"Some college/university study without earning a bachelor's degree\", \"I did not complete any formal education past high school\"], ['6', '5', '4', '3', '2', '1']).astype(int)"
   ]
  },
  {
   "cell_type": "code",
   "execution_count": 54,
   "metadata": {},
   "outputs": [
    {
     "name": "stdout",
     "output_type": "stream",
     "text": [
      "The correlation between JobSatisfaction and FormalEducation (r): 0.0523637057407\n",
      "The correlation is statistically significant with a 95% C.I. as the p_value < 0.05: 0.000699911652629\n",
      "The correlation is not very large however, so the correlation would not be useful for a prediction model.\n"
     ]
    }
   ],
   "source": [
    "correlation_linregress('FormalEducation', formal_education)"
   ]
  },
  {
   "cell_type": "markdown",
   "metadata": {},
   "source": [
    "# Current Job Title Select - NEEDS DOING"
   ]
  },
  {
   "cell_type": "code",
   "execution_count": 55,
   "metadata": {},
   "outputs": [],
   "source": [
    "current_job = clean_MC_data[['JobSatisfaction','CurrentJobTitleSelect']]"
   ]
  },
  {
   "cell_type": "code",
   "execution_count": 56,
   "metadata": {},
   "outputs": [
    {
     "data": {
      "text/plain": [
       "array(['Business Analyst', 'Software Developer/Software Engineer',\n",
       "       'Data Scientist', 'Researcher', 'Scientist/Researcher', 'Other',\n",
       "       'Data Analyst', 'Engineer', 'Machine Learning Engineer',\n",
       "       'Predictive Modeler', 'Computer Scientist', 'Programmer',\n",
       "       'DBA/Database Engineer', 'Statistician', 'Data Miner',\n",
       "       'Operations Research Practitioner', nan], dtype=object)"
      ]
     },
     "execution_count": 56,
     "metadata": {},
     "output_type": "execute_result"
    }
   ],
   "source": [
    "current_job['CurrentJobTitleSelect'].unique()"
   ]
  },
  {
   "cell_type": "code",
   "execution_count": 57,
   "metadata": {},
   "outputs": [],
   "source": [
    "current_job.dropna(inplace=True)"
   ]
  },
  {
   "cell_type": "code",
   "execution_count": 58,
   "metadata": {},
   "outputs": [
    {
     "data": {
      "text/html": [
       "<div>\n",
       "<style>\n",
       "    .dataframe thead tr:only-child th {\n",
       "        text-align: right;\n",
       "    }\n",
       "\n",
       "    .dataframe thead th {\n",
       "        text-align: left;\n",
       "    }\n",
       "\n",
       "    .dataframe tbody tr th {\n",
       "        vertical-align: top;\n",
       "    }\n",
       "</style>\n",
       "<table border=\"1\" class=\"dataframe\">\n",
       "  <thead>\n",
       "    <tr>\n",
       "      <th></th>\n",
       "      <th colspan=\"8\" halign=\"left\">JobSatisfaction</th>\n",
       "    </tr>\n",
       "    <tr>\n",
       "      <th></th>\n",
       "      <th>count</th>\n",
       "      <th>mean</th>\n",
       "      <th>std</th>\n",
       "      <th>min</th>\n",
       "      <th>25%</th>\n",
       "      <th>50%</th>\n",
       "      <th>75%</th>\n",
       "      <th>max</th>\n",
       "    </tr>\n",
       "    <tr>\n",
       "      <th>CurrentJobTitleSelect</th>\n",
       "      <th></th>\n",
       "      <th></th>\n",
       "      <th></th>\n",
       "      <th></th>\n",
       "      <th></th>\n",
       "      <th></th>\n",
       "      <th></th>\n",
       "      <th></th>\n",
       "    </tr>\n",
       "  </thead>\n",
       "  <tbody>\n",
       "    <tr>\n",
       "      <th>Business Analyst</th>\n",
       "      <td>221.0</td>\n",
       "      <td>6.158371</td>\n",
       "      <td>2.148421</td>\n",
       "      <td>1.0</td>\n",
       "      <td>5.00</td>\n",
       "      <td>7.0</td>\n",
       "      <td>8.0</td>\n",
       "      <td>10.0</td>\n",
       "    </tr>\n",
       "    <tr>\n",
       "      <th>Computer Scientist</th>\n",
       "      <td>103.0</td>\n",
       "      <td>6.776699</td>\n",
       "      <td>2.090745</td>\n",
       "      <td>1.0</td>\n",
       "      <td>6.00</td>\n",
       "      <td>7.0</td>\n",
       "      <td>8.0</td>\n",
       "      <td>10.0</td>\n",
       "    </tr>\n",
       "    <tr>\n",
       "      <th>DBA/Database Engineer</th>\n",
       "      <td>65.0</td>\n",
       "      <td>5.830769</td>\n",
       "      <td>2.472153</td>\n",
       "      <td>1.0</td>\n",
       "      <td>4.00</td>\n",
       "      <td>6.0</td>\n",
       "      <td>8.0</td>\n",
       "      <td>10.0</td>\n",
       "    </tr>\n",
       "    <tr>\n",
       "      <th>Data Analyst</th>\n",
       "      <td>468.0</td>\n",
       "      <td>6.288462</td>\n",
       "      <td>2.158623</td>\n",
       "      <td>1.0</td>\n",
       "      <td>5.00</td>\n",
       "      <td>7.0</td>\n",
       "      <td>8.0</td>\n",
       "      <td>10.0</td>\n",
       "    </tr>\n",
       "    <tr>\n",
       "      <th>Data Miner</th>\n",
       "      <td>38.0</td>\n",
       "      <td>6.631579</td>\n",
       "      <td>1.937134</td>\n",
       "      <td>1.0</td>\n",
       "      <td>5.25</td>\n",
       "      <td>7.0</td>\n",
       "      <td>8.0</td>\n",
       "      <td>10.0</td>\n",
       "    </tr>\n",
       "    <tr>\n",
       "      <th>Data Scientist</th>\n",
       "      <td>1229.0</td>\n",
       "      <td>7.235151</td>\n",
       "      <td>1.890108</td>\n",
       "      <td>1.0</td>\n",
       "      <td>6.00</td>\n",
       "      <td>8.0</td>\n",
       "      <td>8.0</td>\n",
       "      <td>10.0</td>\n",
       "    </tr>\n",
       "    <tr>\n",
       "      <th>Engineer</th>\n",
       "      <td>140.0</td>\n",
       "      <td>6.342857</td>\n",
       "      <td>2.181582</td>\n",
       "      <td>1.0</td>\n",
       "      <td>5.00</td>\n",
       "      <td>7.0</td>\n",
       "      <td>8.0</td>\n",
       "      <td>10.0</td>\n",
       "    </tr>\n",
       "    <tr>\n",
       "      <th>Machine Learning Engineer</th>\n",
       "      <td>268.0</td>\n",
       "      <td>7.149254</td>\n",
       "      <td>1.862331</td>\n",
       "      <td>1.0</td>\n",
       "      <td>6.00</td>\n",
       "      <td>7.0</td>\n",
       "      <td>8.0</td>\n",
       "      <td>10.0</td>\n",
       "    </tr>\n",
       "    <tr>\n",
       "      <th>Operations Research Practitioner</th>\n",
       "      <td>17.0</td>\n",
       "      <td>6.941176</td>\n",
       "      <td>1.784327</td>\n",
       "      <td>4.0</td>\n",
       "      <td>5.00</td>\n",
       "      <td>7.0</td>\n",
       "      <td>8.0</td>\n",
       "      <td>9.0</td>\n",
       "    </tr>\n",
       "    <tr>\n",
       "      <th>Other</th>\n",
       "      <td>320.0</td>\n",
       "      <td>6.606250</td>\n",
       "      <td>2.358462</td>\n",
       "      <td>1.0</td>\n",
       "      <td>5.00</td>\n",
       "      <td>7.0</td>\n",
       "      <td>8.0</td>\n",
       "      <td>10.0</td>\n",
       "    </tr>\n",
       "    <tr>\n",
       "      <th>Predictive Modeler</th>\n",
       "      <td>83.0</td>\n",
       "      <td>7.048193</td>\n",
       "      <td>1.956251</td>\n",
       "      <td>1.0</td>\n",
       "      <td>6.00</td>\n",
       "      <td>7.0</td>\n",
       "      <td>8.0</td>\n",
       "      <td>10.0</td>\n",
       "    </tr>\n",
       "    <tr>\n",
       "      <th>Programmer</th>\n",
       "      <td>85.0</td>\n",
       "      <td>5.600000</td>\n",
       "      <td>2.464993</td>\n",
       "      <td>1.0</td>\n",
       "      <td>4.00</td>\n",
       "      <td>6.0</td>\n",
       "      <td>7.0</td>\n",
       "      <td>10.0</td>\n",
       "    </tr>\n",
       "    <tr>\n",
       "      <th>Researcher</th>\n",
       "      <td>217.0</td>\n",
       "      <td>6.645161</td>\n",
       "      <td>2.153461</td>\n",
       "      <td>1.0</td>\n",
       "      <td>5.00</td>\n",
       "      <td>7.0</td>\n",
       "      <td>8.0</td>\n",
       "      <td>10.0</td>\n",
       "    </tr>\n",
       "    <tr>\n",
       "      <th>Scientist/Researcher</th>\n",
       "      <td>398.0</td>\n",
       "      <td>6.796482</td>\n",
       "      <td>2.264898</td>\n",
       "      <td>1.0</td>\n",
       "      <td>6.00</td>\n",
       "      <td>7.0</td>\n",
       "      <td>8.0</td>\n",
       "      <td>10.0</td>\n",
       "    </tr>\n",
       "    <tr>\n",
       "      <th>Software Developer/Software Engineer</th>\n",
       "      <td>427.0</td>\n",
       "      <td>6.269321</td>\n",
       "      <td>2.161349</td>\n",
       "      <td>1.0</td>\n",
       "      <td>5.00</td>\n",
       "      <td>7.0</td>\n",
       "      <td>8.0</td>\n",
       "      <td>10.0</td>\n",
       "    </tr>\n",
       "    <tr>\n",
       "      <th>Statistician</th>\n",
       "      <td>114.0</td>\n",
       "      <td>6.605263</td>\n",
       "      <td>2.275761</td>\n",
       "      <td>1.0</td>\n",
       "      <td>5.00</td>\n",
       "      <td>7.0</td>\n",
       "      <td>8.0</td>\n",
       "      <td>10.0</td>\n",
       "    </tr>\n",
       "  </tbody>\n",
       "</table>\n",
       "</div>"
      ],
      "text/plain": [
       "                                     JobSatisfaction                           \\\n",
       "                                               count      mean       std  min   \n",
       "CurrentJobTitleSelect                                                           \n",
       "Business Analyst                               221.0  6.158371  2.148421  1.0   \n",
       "Computer Scientist                             103.0  6.776699  2.090745  1.0   \n",
       "DBA/Database Engineer                           65.0  5.830769  2.472153  1.0   \n",
       "Data Analyst                                   468.0  6.288462  2.158623  1.0   \n",
       "Data Miner                                      38.0  6.631579  1.937134  1.0   \n",
       "Data Scientist                                1229.0  7.235151  1.890108  1.0   \n",
       "Engineer                                       140.0  6.342857  2.181582  1.0   \n",
       "Machine Learning Engineer                      268.0  7.149254  1.862331  1.0   \n",
       "Operations Research Practitioner                17.0  6.941176  1.784327  4.0   \n",
       "Other                                          320.0  6.606250  2.358462  1.0   \n",
       "Predictive Modeler                              83.0  7.048193  1.956251  1.0   \n",
       "Programmer                                      85.0  5.600000  2.464993  1.0   \n",
       "Researcher                                     217.0  6.645161  2.153461  1.0   \n",
       "Scientist/Researcher                           398.0  6.796482  2.264898  1.0   \n",
       "Software Developer/Software Engineer           427.0  6.269321  2.161349  1.0   \n",
       "Statistician                                   114.0  6.605263  2.275761  1.0   \n",
       "\n",
       "                                                            \n",
       "                                       25%  50%  75%   max  \n",
       "CurrentJobTitleSelect                                       \n",
       "Business Analyst                      5.00  7.0  8.0  10.0  \n",
       "Computer Scientist                    6.00  7.0  8.0  10.0  \n",
       "DBA/Database Engineer                 4.00  6.0  8.0  10.0  \n",
       "Data Analyst                          5.00  7.0  8.0  10.0  \n",
       "Data Miner                            5.25  7.0  8.0  10.0  \n",
       "Data Scientist                        6.00  8.0  8.0  10.0  \n",
       "Engineer                              5.00  7.0  8.0  10.0  \n",
       "Machine Learning Engineer             6.00  7.0  8.0  10.0  \n",
       "Operations Research Practitioner      5.00  7.0  8.0   9.0  \n",
       "Other                                 5.00  7.0  8.0  10.0  \n",
       "Predictive Modeler                    6.00  7.0  8.0  10.0  \n",
       "Programmer                            4.00  6.0  7.0  10.0  \n",
       "Researcher                            5.00  7.0  8.0  10.0  \n",
       "Scientist/Researcher                  6.00  7.0  8.0  10.0  \n",
       "Software Developer/Software Engineer  5.00  7.0  8.0  10.0  \n",
       "Statistician                          5.00  7.0  8.0  10.0  "
      ]
     },
     "execution_count": 58,
     "metadata": {},
     "output_type": "execute_result"
    }
   ],
   "source": [
    "current_job.groupby('CurrentJobTitleSelect').describe()"
   ]
  },
  {
   "cell_type": "code",
   "execution_count": null,
   "metadata": {},
   "outputs": [],
   "source": []
  },
  {
   "cell_type": "markdown",
   "metadata": {},
   "source": [
    "# Title Fit"
   ]
  },
  {
   "cell_type": "code",
   "execution_count": 59,
   "metadata": {},
   "outputs": [],
   "source": [
    "#title_fit = clean_MC_data[['JobSatisfaction','TitleFit']].dropna(subset=['TitleFit'])\n",
    "title_fit = clean_MC_data[['JobSatisfaction','TitleFit', 'Age', 'GenderSelect']]"
   ]
  },
  {
   "cell_type": "code",
   "execution_count": 60,
   "metadata": {},
   "outputs": [
    {
     "data": {
      "text/plain": [
       "array(['Fine', 'Perfectly', 'Poorly', nan], dtype=object)"
      ]
     },
     "execution_count": 60,
     "metadata": {},
     "output_type": "execute_result"
    }
   ],
   "source": [
    "title_fit['TitleFit'].unique()"
   ]
  },
  {
   "cell_type": "code",
   "execution_count": 61,
   "metadata": {},
   "outputs": [
    {
     "data": {
      "text/plain": [
       "Fine         2780\n",
       "Perfectly     860\n",
       "Poorly        554\n",
       "Name: TitleFit, dtype: int64"
      ]
     },
     "execution_count": 61,
     "metadata": {},
     "output_type": "execute_result"
    }
   ],
   "source": [
    "title_fit['TitleFit'].fillna(value='Fine', inplace=True)\n",
    "title_fit['TitleFit'].value_counts()"
   ]
  },
  {
   "cell_type": "code",
   "execution_count": 62,
   "metadata": {},
   "outputs": [
    {
     "data": {
      "image/png": "[encoded data removed]",
      "text/plain": [
       "<matplotlib.figure.Figure at 0x1917132d128>"
      ]
     },
     "metadata": {},
     "output_type": "display_data"
    }
   ],
   "source": [
    "plt.figure(figsize=(12,6))\n",
    "\n",
    "plt.subplot(2,2,1)\n",
    "sns.countplot(x=\"JobSatisfaction\", data=title_fit[title_fit[\"TitleFit\"] == \"Perfectly\"]).set_title('Perfectly')\n",
    "\n",
    "plt.subplot(2,2,2)\n",
    "sns.countplot(x=\"JobSatisfaction\", data=title_fit[title_fit[\"TitleFit\"] == \"Fine\"]).set_title('Fine')\n",
    "\n",
    "plt.subplot(2,2,3)\n",
    "sns.countplot(x=\"JobSatisfaction\", data=title_fit[title_fit[\"TitleFit\"] == \"Poorly\"]).set_title('Poorly')\n",
    "\n",
    "plt.tight_layout()\n",
    "plt.show()"
   ]
  },
  {
   "cell_type": "code",
   "execution_count": 63,
   "metadata": {},
   "outputs": [
    {
     "data": {
      "text/html": [
       "<div>\n",
       "<style>\n",
       "    .dataframe thead tr:only-child th {\n",
       "        text-align: right;\n",
       "    }\n",
       "\n",
       "    .dataframe thead th {\n",
       "        text-align: left;\n",
       "    }\n",
       "\n",
       "    .dataframe tbody tr th {\n",
       "        vertical-align: top;\n",
       "    }\n",
       "</style>\n",
       "<table border=\"1\" class=\"dataframe\">\n",
       "  <thead>\n",
       "    <tr>\n",
       "      <th></th>\n",
       "      <th colspan=\"8\" halign=\"left\">Age</th>\n",
       "      <th colspan=\"8\" halign=\"left\">JobSatisfaction</th>\n",
       "    </tr>\n",
       "    <tr>\n",
       "      <th></th>\n",
       "      <th>count</th>\n",
       "      <th>mean</th>\n",
       "      <th>std</th>\n",
       "      <th>min</th>\n",
       "      <th>25%</th>\n",
       "      <th>50%</th>\n",
       "      <th>75%</th>\n",
       "      <th>max</th>\n",
       "      <th>count</th>\n",
       "      <th>mean</th>\n",
       "      <th>std</th>\n",
       "      <th>min</th>\n",
       "      <th>25%</th>\n",
       "      <th>50%</th>\n",
       "      <th>75%</th>\n",
       "      <th>max</th>\n",
       "    </tr>\n",
       "    <tr>\n",
       "      <th>TitleFit</th>\n",
       "      <th></th>\n",
       "      <th></th>\n",
       "      <th></th>\n",
       "      <th></th>\n",
       "      <th></th>\n",
       "      <th></th>\n",
       "      <th></th>\n",
       "      <th></th>\n",
       "      <th></th>\n",
       "      <th></th>\n",
       "      <th></th>\n",
       "      <th></th>\n",
       "      <th></th>\n",
       "      <th></th>\n",
       "      <th></th>\n",
       "      <th></th>\n",
       "    </tr>\n",
       "  </thead>\n",
       "  <tbody>\n",
       "    <tr>\n",
       "      <th>Fine</th>\n",
       "      <td>2762.0</td>\n",
       "      <td>33.866763</td>\n",
       "      <td>9.285347</td>\n",
       "      <td>1.0</td>\n",
       "      <td>27.0</td>\n",
       "      <td>32.0</td>\n",
       "      <td>38.0</td>\n",
       "      <td>74.0</td>\n",
       "      <td>2780.0</td>\n",
       "      <td>6.735971</td>\n",
       "      <td>2.035684</td>\n",
       "      <td>1.0</td>\n",
       "      <td>6.0</td>\n",
       "      <td>7.0</td>\n",
       "      <td>8.0</td>\n",
       "      <td>10.0</td>\n",
       "    </tr>\n",
       "    <tr>\n",
       "      <th>Perfectly</th>\n",
       "      <td>858.0</td>\n",
       "      <td>33.298368</td>\n",
       "      <td>8.926748</td>\n",
       "      <td>18.0</td>\n",
       "      <td>27.0</td>\n",
       "      <td>31.0</td>\n",
       "      <td>37.0</td>\n",
       "      <td>78.0</td>\n",
       "      <td>860.0</td>\n",
       "      <td>7.283721</td>\n",
       "      <td>2.106803</td>\n",
       "      <td>1.0</td>\n",
       "      <td>6.0</td>\n",
       "      <td>8.0</td>\n",
       "      <td>9.0</td>\n",
       "      <td>10.0</td>\n",
       "    </tr>\n",
       "    <tr>\n",
       "      <th>Poorly</th>\n",
       "      <td>549.0</td>\n",
       "      <td>35.846995</td>\n",
       "      <td>10.826025</td>\n",
       "      <td>0.0</td>\n",
       "      <td>28.0</td>\n",
       "      <td>33.0</td>\n",
       "      <td>42.0</td>\n",
       "      <td>99.0</td>\n",
       "      <td>554.0</td>\n",
       "      <td>5.803249</td>\n",
       "      <td>2.388018</td>\n",
       "      <td>1.0</td>\n",
       "      <td>4.0</td>\n",
       "      <td>6.0</td>\n",
       "      <td>8.0</td>\n",
       "      <td>10.0</td>\n",
       "    </tr>\n",
       "  </tbody>\n",
       "</table>\n",
       "</div>"
      ],
      "text/plain": [
       "              Age                                                      \\\n",
       "            count       mean        std   min   25%   50%   75%   max   \n",
       "TitleFit                                                                \n",
       "Fine       2762.0  33.866763   9.285347   1.0  27.0  32.0  38.0  74.0   \n",
       "Perfectly   858.0  33.298368   8.926748  18.0  27.0  31.0  37.0  78.0   \n",
       "Poorly      549.0  35.846995  10.826025   0.0  28.0  33.0  42.0  99.0   \n",
       "\n",
       "          JobSatisfaction                                                \n",
       "                    count      mean       std  min  25%  50%  75%   max  \n",
       "TitleFit                                                                 \n",
       "Fine               2780.0  6.735971  2.035684  1.0  6.0  7.0  8.0  10.0  \n",
       "Perfectly           860.0  7.283721  2.106803  1.0  6.0  8.0  9.0  10.0  \n",
       "Poorly              554.0  5.803249  2.388018  1.0  4.0  6.0  8.0  10.0  "
      ]
     },
     "execution_count": 63,
     "metadata": {},
     "output_type": "execute_result"
    }
   ],
   "source": [
    "title_fit.groupby('TitleFit').describe()"
   ]
  },
  {
   "cell_type": "code",
   "execution_count": 64,
   "metadata": {},
   "outputs": [],
   "source": [
    "title_fit['TitleFit'] = title_fit['TitleFit'].replace(['Perfectly', 'Fine', 'Poorly'], [3, 2, 1])"
   ]
  },
  {
   "cell_type": "code",
   "execution_count": 65,
   "metadata": {},
   "outputs": [
    {
     "name": "stdout",
     "output_type": "stream",
     "text": [
      "The correlation between JobSatisfaction and TitleFit (r): 0.191628429763\n",
      "The correlation is statistically significant with a 95% C.I. as the p_value < 0.05: 5.617257309e-36\n",
      "The correlation is reasonable and would be a good candidate for improving the accuracy of a prediction model.\n"
     ]
    }
   ],
   "source": [
    "correlation_linregress('TitleFit', title_fit)"
   ]
  },
  {
   "cell_type": "markdown",
   "metadata": {},
   "source": [
    "# Employer Size"
   ]
  },
  {
   "cell_type": "code",
   "execution_count": 66,
   "metadata": {},
   "outputs": [],
   "source": [
    "employer_size = clean_MC_data[['JobSatisfaction', 'EmployerSize']].dropna()"
   ]
  },
  {
   "cell_type": "code",
   "execution_count": 67,
   "metadata": {},
   "outputs": [
    {
     "data": {
      "text/plain": [
       "array(['20 to 99 employees', '100 to 499 employees',\n",
       "       'Fewer than 10 employees', \"I don't know\",\n",
       "       '5,000 to 9,999 employees', '10,000 or more employees',\n",
       "       '1,000 to 4,999 employees', '10 to 19 employees',\n",
       "       '500 to 999 employees', 'I prefer not to answer'], dtype=object)"
      ]
     },
     "execution_count": 67,
     "metadata": {},
     "output_type": "execute_result"
    }
   ],
   "source": [
    "employer_size['EmployerSize'].unique()"
   ]
  },
  {
   "cell_type": "code",
   "execution_count": 68,
   "metadata": {},
   "outputs": [
    {
     "data": {
      "text/plain": [
       "10,000 or more employees    814\n",
       "100 to 499 employees        669\n",
       "20 to 99 employees          652\n",
       "1,000 to 4,999 employees    552\n",
       "500 to 999 employees        304\n",
       "10 to 19 employees          276\n",
       "Fewer than 10 employees     233\n",
       "5,000 to 9,999 employees    207\n",
       "I don't know                 96\n",
       "I prefer not to answer       21\n",
       "Name: EmployerSize, dtype: int64"
      ]
     },
     "execution_count": 68,
     "metadata": {},
     "output_type": "execute_result"
    }
   ],
   "source": [
    "employer_size['EmployerSize'].value_counts()"
   ]
  },
  {
   "cell_type": "code",
   "execution_count": 69,
   "metadata": {},
   "outputs": [],
   "source": [
    "employer_size = employer_size[employer_size['EmployerSize'] != \"I don't know\"]\n",
    "employer_size = employer_size[employer_size['EmployerSize'] != \"I prefer not to answer\"]"
   ]
  },
  {
   "cell_type": "code",
   "execution_count": 70,
   "metadata": {},
   "outputs": [
    {
     "data": {
      "text/plain": [
       "10,000 or more employees    814\n",
       "100 to 499 employees        669\n",
       "20 to 99 employees          652\n",
       "1,000 to 4,999 employees    552\n",
       "500 to 999 employees        304\n",
       "10 to 19 employees          276\n",
       "Fewer than 10 employees     233\n",
       "5,000 to 9,999 employees    207\n",
       "Name: EmployerSize, dtype: int64"
      ]
     },
     "execution_count": 70,
     "metadata": {},
     "output_type": "execute_result"
    }
   ],
   "source": [
    "employer_size['EmployerSize'].value_counts()"
   ]
  },
  {
   "cell_type": "code",
   "execution_count": 71,
   "metadata": {},
   "outputs": [
    {
     "data": {
      "image/png": "[encoded data removed]",
      "text/plain": [
       "<matplotlib.figure.Figure at 0x1917121b1d0>"
      ]
     },
     "metadata": {},
     "output_type": "display_data"
    }
   ],
   "source": [
    "plt.figure(figsize=(16,6))\n",
    "sns.countplot(x=\"EmployerSize\", data=employer_size).set_title('Size of Employer')\n",
    "plt.tight_layout()\n",
    "plt.show()"
   ]
  },
  {
   "cell_type": "code",
   "execution_count": 72,
   "metadata": {},
   "outputs": [
    {
     "data": {
      "text/plain": [
       "array(['20 to 99 employees', '100 to 499 employees',\n",
       "       'Fewer than 10 employees', '5,000 to 9,999 employees',\n",
       "       '10,000 or more employees', '1,000 to 4,999 employees',\n",
       "       '10 to 19 employees', '500 to 999 employees'], dtype=object)"
      ]
     },
     "execution_count": 72,
     "metadata": {},
     "output_type": "execute_result"
    }
   ],
   "source": [
    "employer_size[\"EmployerSize\"].unique()"
   ]
  },
  {
   "cell_type": "code",
   "execution_count": 73,
   "metadata": {},
   "outputs": [],
   "source": [
    "employer_size[\"EmployerSize\"] = employer_size[\"EmployerSize\"].str.replace(',', '')"
   ]
  },
  {
   "cell_type": "code",
   "execution_count": 74,
   "metadata": {},
   "outputs": [
    {
     "data": {
      "text/plain": [
       "array(['20 to 99 employees', '100 to 499 employees',\n",
       "       'Fewer than 10 employees', '5000 to 9999 employees',\n",
       "       '10000 or more employees', '1000 to 4999 employees',\n",
       "       '10 to 19 employees', '500 to 999 employees'], dtype=object)"
      ]
     },
     "execution_count": 74,
     "metadata": {},
     "output_type": "execute_result"
    }
   ],
   "source": [
    "employer_size[\"EmployerSize\"].unique()"
   ]
  },
  {
   "cell_type": "code",
   "execution_count": 75,
   "metadata": {},
   "outputs": [
    {
     "data": {
      "text/html": [
       "<div>\n",
       "<style>\n",
       "    .dataframe thead tr:only-child th {\n",
       "        text-align: right;\n",
       "    }\n",
       "\n",
       "    .dataframe thead th {\n",
       "        text-align: left;\n",
       "    }\n",
       "\n",
       "    .dataframe tbody tr th {\n",
       "        vertical-align: top;\n",
       "    }\n",
       "</style>\n",
       "<table border=\"1\" class=\"dataframe\">\n",
       "  <thead>\n",
       "    <tr style=\"text-align: right;\">\n",
       "      <th>JobSatisfaction</th>\n",
       "      <th>1</th>\n",
       "      <th>2</th>\n",
       "      <th>3</th>\n",
       "      <th>4</th>\n",
       "      <th>5</th>\n",
       "      <th>6</th>\n",
       "      <th>7</th>\n",
       "      <th>8</th>\n",
       "      <th>9</th>\n",
       "      <th>10</th>\n",
       "    </tr>\n",
       "    <tr>\n",
       "      <th>EmployerSize</th>\n",
       "      <th></th>\n",
       "      <th></th>\n",
       "      <th></th>\n",
       "      <th></th>\n",
       "      <th></th>\n",
       "      <th></th>\n",
       "      <th></th>\n",
       "      <th></th>\n",
       "      <th></th>\n",
       "      <th></th>\n",
       "    </tr>\n",
       "  </thead>\n",
       "  <tbody>\n",
       "    <tr>\n",
       "      <th>10 to 19 employees</th>\n",
       "      <td>9</td>\n",
       "      <td>5</td>\n",
       "      <td>17</td>\n",
       "      <td>5</td>\n",
       "      <td>31</td>\n",
       "      <td>37</td>\n",
       "      <td>62</td>\n",
       "      <td>56</td>\n",
       "      <td>32</td>\n",
       "      <td>22</td>\n",
       "    </tr>\n",
       "    <tr>\n",
       "      <th>100 to 499 employees</th>\n",
       "      <td>18</td>\n",
       "      <td>9</td>\n",
       "      <td>41</td>\n",
       "      <td>38</td>\n",
       "      <td>71</td>\n",
       "      <td>83</td>\n",
       "      <td>154</td>\n",
       "      <td>137</td>\n",
       "      <td>75</td>\n",
       "      <td>43</td>\n",
       "    </tr>\n",
       "    <tr>\n",
       "      <th>1000 to 4999 employees</th>\n",
       "      <td>15</td>\n",
       "      <td>8</td>\n",
       "      <td>27</td>\n",
       "      <td>43</td>\n",
       "      <td>44</td>\n",
       "      <td>58</td>\n",
       "      <td>133</td>\n",
       "      <td>130</td>\n",
       "      <td>62</td>\n",
       "      <td>32</td>\n",
       "    </tr>\n",
       "    <tr>\n",
       "      <th>10000 or more employees</th>\n",
       "      <td>27</td>\n",
       "      <td>13</td>\n",
       "      <td>57</td>\n",
       "      <td>49</td>\n",
       "      <td>82</td>\n",
       "      <td>91</td>\n",
       "      <td>192</td>\n",
       "      <td>170</td>\n",
       "      <td>65</td>\n",
       "      <td>68</td>\n",
       "    </tr>\n",
       "    <tr>\n",
       "      <th>20 to 99 employees</th>\n",
       "      <td>10</td>\n",
       "      <td>14</td>\n",
       "      <td>35</td>\n",
       "      <td>39</td>\n",
       "      <td>57</td>\n",
       "      <td>95</td>\n",
       "      <td>140</td>\n",
       "      <td>140</td>\n",
       "      <td>80</td>\n",
       "      <td>42</td>\n",
       "    </tr>\n",
       "    <tr>\n",
       "      <th>500 to 999 employees</th>\n",
       "      <td>11</td>\n",
       "      <td>4</td>\n",
       "      <td>17</td>\n",
       "      <td>15</td>\n",
       "      <td>33</td>\n",
       "      <td>30</td>\n",
       "      <td>65</td>\n",
       "      <td>67</td>\n",
       "      <td>40</td>\n",
       "      <td>22</td>\n",
       "    </tr>\n",
       "    <tr>\n",
       "      <th>5000 to 9999 employees</th>\n",
       "      <td>8</td>\n",
       "      <td>3</td>\n",
       "      <td>14</td>\n",
       "      <td>14</td>\n",
       "      <td>21</td>\n",
       "      <td>24</td>\n",
       "      <td>46</td>\n",
       "      <td>36</td>\n",
       "      <td>23</td>\n",
       "      <td>18</td>\n",
       "    </tr>\n",
       "    <tr>\n",
       "      <th>Fewer than 10 employees</th>\n",
       "      <td>8</td>\n",
       "      <td>2</td>\n",
       "      <td>10</td>\n",
       "      <td>12</td>\n",
       "      <td>18</td>\n",
       "      <td>22</td>\n",
       "      <td>52</td>\n",
       "      <td>50</td>\n",
       "      <td>34</td>\n",
       "      <td>25</td>\n",
       "    </tr>\n",
       "  </tbody>\n",
       "</table>\n",
       "</div>"
      ],
      "text/plain": [
       "JobSatisfaction          1   2   3   4   5   6    7    8   9   10\n",
       "EmployerSize                                                     \n",
       "10 to 19 employees        9   5  17   5  31  37   62   56  32  22\n",
       "100 to 499 employees     18   9  41  38  71  83  154  137  75  43\n",
       "1000 to 4999 employees   15   8  27  43  44  58  133  130  62  32\n",
       "10000 or more employees  27  13  57  49  82  91  192  170  65  68\n",
       "20 to 99 employees       10  14  35  39  57  95  140  140  80  42\n",
       "500 to 999 employees     11   4  17  15  33  30   65   67  40  22\n",
       "5000 to 9999 employees    8   3  14  14  21  24   46   36  23  18\n",
       "Fewer than 10 employees   8   2  10  12  18  22   52   50  34  25"
      ]
     },
     "execution_count": 75,
     "metadata": {},
     "output_type": "execute_result"
    }
   ],
   "source": [
    "employer_size_crosstab = pd.crosstab(index=employer_size[\"EmployerSize\"],\n",
    "                                columns=employer_size[\"JobSatisfaction\"])\n",
    "employer_size_crosstab"
   ]
  },
  {
   "cell_type": "code",
   "execution_count": 76,
   "metadata": {},
   "outputs": [
    {
     "data": {
      "text/html": [
       "<div>\n",
       "<style>\n",
       "    .dataframe thead tr:only-child th {\n",
       "        text-align: right;\n",
       "    }\n",
       "\n",
       "    .dataframe thead th {\n",
       "        text-align: left;\n",
       "    }\n",
       "\n",
       "    .dataframe tbody tr th {\n",
       "        vertical-align: top;\n",
       "    }\n",
       "</style>\n",
       "<table border=\"1\" class=\"dataframe\">\n",
       "  <thead>\n",
       "    <tr>\n",
       "      <th></th>\n",
       "      <th colspan=\"8\" halign=\"left\">JobSatisfaction</th>\n",
       "    </tr>\n",
       "    <tr>\n",
       "      <th></th>\n",
       "      <th>count</th>\n",
       "      <th>mean</th>\n",
       "      <th>std</th>\n",
       "      <th>min</th>\n",
       "      <th>25%</th>\n",
       "      <th>50%</th>\n",
       "      <th>75%</th>\n",
       "      <th>max</th>\n",
       "    </tr>\n",
       "    <tr>\n",
       "      <th>EmployerSize</th>\n",
       "      <th></th>\n",
       "      <th></th>\n",
       "      <th></th>\n",
       "      <th></th>\n",
       "      <th></th>\n",
       "      <th></th>\n",
       "      <th></th>\n",
       "      <th></th>\n",
       "    </tr>\n",
       "  </thead>\n",
       "  <tbody>\n",
       "    <tr>\n",
       "      <th>10 to 19 employees</th>\n",
       "      <td>276.0</td>\n",
       "      <td>6.728261</td>\n",
       "      <td>2.164692</td>\n",
       "      <td>1.0</td>\n",
       "      <td>6.0</td>\n",
       "      <td>7.0</td>\n",
       "      <td>8.0</td>\n",
       "      <td>10.0</td>\n",
       "    </tr>\n",
       "    <tr>\n",
       "      <th>100 to 499 employees</th>\n",
       "      <td>669.0</td>\n",
       "      <td>6.641256</td>\n",
       "      <td>2.110673</td>\n",
       "      <td>1.0</td>\n",
       "      <td>5.0</td>\n",
       "      <td>7.0</td>\n",
       "      <td>8.0</td>\n",
       "      <td>10.0</td>\n",
       "    </tr>\n",
       "    <tr>\n",
       "      <th>1000 to 4999 employees</th>\n",
       "      <td>552.0</td>\n",
       "      <td>6.704710</td>\n",
       "      <td>2.091755</td>\n",
       "      <td>1.0</td>\n",
       "      <td>6.0</td>\n",
       "      <td>7.0</td>\n",
       "      <td>8.0</td>\n",
       "      <td>10.0</td>\n",
       "    </tr>\n",
       "    <tr>\n",
       "      <th>10000 or more employees</th>\n",
       "      <td>814.0</td>\n",
       "      <td>6.566339</td>\n",
       "      <td>2.206420</td>\n",
       "      <td>1.0</td>\n",
       "      <td>5.0</td>\n",
       "      <td>7.0</td>\n",
       "      <td>8.0</td>\n",
       "      <td>10.0</td>\n",
       "    </tr>\n",
       "    <tr>\n",
       "      <th>20 to 99 employees</th>\n",
       "      <td>652.0</td>\n",
       "      <td>6.739264</td>\n",
       "      <td>2.050692</td>\n",
       "      <td>1.0</td>\n",
       "      <td>6.0</td>\n",
       "      <td>7.0</td>\n",
       "      <td>8.0</td>\n",
       "      <td>10.0</td>\n",
       "    </tr>\n",
       "    <tr>\n",
       "      <th>500 to 999 employees</th>\n",
       "      <td>304.0</td>\n",
       "      <td>6.730263</td>\n",
       "      <td>2.201021</td>\n",
       "      <td>1.0</td>\n",
       "      <td>5.0</td>\n",
       "      <td>7.0</td>\n",
       "      <td>8.0</td>\n",
       "      <td>10.0</td>\n",
       "    </tr>\n",
       "    <tr>\n",
       "      <th>5000 to 9999 employees</th>\n",
       "      <td>207.0</td>\n",
       "      <td>6.560386</td>\n",
       "      <td>2.280133</td>\n",
       "      <td>1.0</td>\n",
       "      <td>5.0</td>\n",
       "      <td>7.0</td>\n",
       "      <td>8.0</td>\n",
       "      <td>10.0</td>\n",
       "    </tr>\n",
       "    <tr>\n",
       "      <th>Fewer than 10 employees</th>\n",
       "      <td>233.0</td>\n",
       "      <td>7.004292</td>\n",
       "      <td>2.188327</td>\n",
       "      <td>1.0</td>\n",
       "      <td>6.0</td>\n",
       "      <td>7.0</td>\n",
       "      <td>9.0</td>\n",
       "      <td>10.0</td>\n",
       "    </tr>\n",
       "  </tbody>\n",
       "</table>\n",
       "</div>"
      ],
      "text/plain": [
       "                        JobSatisfaction                                     \\\n",
       "                                  count      mean       std  min  25%  50%   \n",
       "EmployerSize                                                                 \n",
       "10 to 19 employees                276.0  6.728261  2.164692  1.0  6.0  7.0   \n",
       "100 to 499 employees              669.0  6.641256  2.110673  1.0  5.0  7.0   \n",
       "1000 to 4999 employees            552.0  6.704710  2.091755  1.0  6.0  7.0   \n",
       "10000 or more employees           814.0  6.566339  2.206420  1.0  5.0  7.0   \n",
       "20 to 99 employees                652.0  6.739264  2.050692  1.0  6.0  7.0   \n",
       "500 to 999 employees              304.0  6.730263  2.201021  1.0  5.0  7.0   \n",
       "5000 to 9999 employees            207.0  6.560386  2.280133  1.0  5.0  7.0   \n",
       "Fewer than 10 employees           233.0  7.004292  2.188327  1.0  6.0  7.0   \n",
       "\n",
       "                                    \n",
       "                         75%   max  \n",
       "EmployerSize                        \n",
       "10 to 19 employees       8.0  10.0  \n",
       "100 to 499 employees     8.0  10.0  \n",
       "1000 to 4999 employees   8.0  10.0  \n",
       "10000 or more employees  8.0  10.0  \n",
       "20 to 99 employees       8.0  10.0  \n",
       "500 to 999 employees     8.0  10.0  \n",
       "5000 to 9999 employees   8.0  10.0  \n",
       "Fewer than 10 employees  9.0  10.0  "
      ]
     },
     "execution_count": 76,
     "metadata": {},
     "output_type": "execute_result"
    }
   ],
   "source": [
    "employer_size.groupby('EmployerSize').describe()"
   ]
  },
  {
   "cell_type": "markdown",
   "metadata": {},
   "source": [
    "# Remote Work"
   ]
  },
  {
   "cell_type": "code",
   "execution_count": 126,
   "metadata": {},
   "outputs": [],
   "source": [
    "#remote_work = clean_MC_data[['JobSatisfaction', 'RemoteWork']].dropna()\n",
    "remote_work = clean_MC_data[['JobSatisfaction', 'RemoteWork', 'Age', 'GenderSelect']]"
   ]
  },
  {
   "cell_type": "code",
   "execution_count": 127,
   "metadata": {},
   "outputs": [
    {
     "data": {
      "text/plain": [
       "array(['Rarely', 'Sometimes', 'Always', 'Most of the time', nan, 'Never',\n",
       "       \"Don't know\"], dtype=object)"
      ]
     },
     "execution_count": 127,
     "metadata": {},
     "output_type": "execute_result"
    }
   ],
   "source": [
    "remote_work['RemoteWork'].unique()"
   ]
  },
  {
   "cell_type": "code",
   "execution_count": 128,
   "metadata": {},
   "outputs": [
    {
     "data": {
      "text/plain": [
       "Sometimes           1570\n",
       "Rarely              1146\n",
       "Never                526\n",
       "Most of the time     392\n",
       "Always               217\n",
       "Don't know            13\n",
       "Name: RemoteWork, dtype: int64"
      ]
     },
     "execution_count": 128,
     "metadata": {},
     "output_type": "execute_result"
    }
   ],
   "source": [
    "remote_work['RemoteWork'].value_counts()"
   ]
  },
  {
   "cell_type": "code",
   "execution_count": 129,
   "metadata": {},
   "outputs": [],
   "source": [
    "#remote_work = remote_work[remote_work['RemoteWork'] != \"Don't know\"]\n",
    "remote_work.replace(\"Don't know\", \"Sometimes\", inplace=True)\n",
    "remote_work.fillna(value=\"Sometimes\", inplace=True)"
   ]
  },
  {
   "cell_type": "code",
   "execution_count": 130,
   "metadata": {},
   "outputs": [
    {
     "data": {
      "text/plain": [
       "Sometimes           1913\n",
       "Rarely              1146\n",
       "Never                526\n",
       "Most of the time     392\n",
       "Always               217\n",
       "Name: RemoteWork, dtype: int64"
      ]
     },
     "execution_count": 130,
     "metadata": {},
     "output_type": "execute_result"
    }
   ],
   "source": [
    "remote_work['RemoteWork'].value_counts()"
   ]
  },
  {
   "cell_type": "code",
   "execution_count": 82,
   "metadata": {},
   "outputs": [
    {
     "data": {
      "image/png": "[encoded data removed]",
      "text/plain": [
       "<matplotlib.figure.Figure at 0x1917130eac8>"
      ]
     },
     "metadata": {},
     "output_type": "display_data"
    }
   ],
   "source": [
    "sns.countplot(x=\"RemoteWork\", data=remote_work).set_title('Working Remotely')\n",
    "plt.show()"
   ]
  },
  {
   "cell_type": "code",
   "execution_count": 83,
   "metadata": {},
   "outputs": [
    {
     "data": {
      "text/html": [
       "<div>\n",
       "<style>\n",
       "    .dataframe thead tr:only-child th {\n",
       "        text-align: right;\n",
       "    }\n",
       "\n",
       "    .dataframe thead th {\n",
       "        text-align: left;\n",
       "    }\n",
       "\n",
       "    .dataframe tbody tr th {\n",
       "        vertical-align: top;\n",
       "    }\n",
       "</style>\n",
       "<table border=\"1\" class=\"dataframe\">\n",
       "  <thead>\n",
       "    <tr>\n",
       "      <th></th>\n",
       "      <th colspan=\"8\" halign=\"left\">JobSatisfaction</th>\n",
       "    </tr>\n",
       "    <tr>\n",
       "      <th></th>\n",
       "      <th>count</th>\n",
       "      <th>mean</th>\n",
       "      <th>std</th>\n",
       "      <th>min</th>\n",
       "      <th>25%</th>\n",
       "      <th>50%</th>\n",
       "      <th>75%</th>\n",
       "      <th>max</th>\n",
       "    </tr>\n",
       "    <tr>\n",
       "      <th>RemoteWork</th>\n",
       "      <th></th>\n",
       "      <th></th>\n",
       "      <th></th>\n",
       "      <th></th>\n",
       "      <th></th>\n",
       "      <th></th>\n",
       "      <th></th>\n",
       "      <th></th>\n",
       "    </tr>\n",
       "  </thead>\n",
       "  <tbody>\n",
       "    <tr>\n",
       "      <th>Always</th>\n",
       "      <td>217.0</td>\n",
       "      <td>7.529954</td>\n",
       "      <td>2.083950</td>\n",
       "      <td>1.0</td>\n",
       "      <td>7.0</td>\n",
       "      <td>8.0</td>\n",
       "      <td>9.0</td>\n",
       "      <td>10.0</td>\n",
       "    </tr>\n",
       "    <tr>\n",
       "      <th>Most of the time</th>\n",
       "      <td>392.0</td>\n",
       "      <td>7.035714</td>\n",
       "      <td>2.093407</td>\n",
       "      <td>1.0</td>\n",
       "      <td>6.0</td>\n",
       "      <td>7.0</td>\n",
       "      <td>8.0</td>\n",
       "      <td>10.0</td>\n",
       "    </tr>\n",
       "    <tr>\n",
       "      <th>Never</th>\n",
       "      <td>526.0</td>\n",
       "      <td>6.019011</td>\n",
       "      <td>2.245762</td>\n",
       "      <td>1.0</td>\n",
       "      <td>5.0</td>\n",
       "      <td>6.0</td>\n",
       "      <td>8.0</td>\n",
       "      <td>10.0</td>\n",
       "    </tr>\n",
       "    <tr>\n",
       "      <th>Rarely</th>\n",
       "      <td>1146.0</td>\n",
       "      <td>6.678010</td>\n",
       "      <td>2.066194</td>\n",
       "      <td>1.0</td>\n",
       "      <td>6.0</td>\n",
       "      <td>7.0</td>\n",
       "      <td>8.0</td>\n",
       "      <td>10.0</td>\n",
       "    </tr>\n",
       "    <tr>\n",
       "      <th>Sometimes</th>\n",
       "      <td>1913.0</td>\n",
       "      <td>6.792473</td>\n",
       "      <td>2.118682</td>\n",
       "      <td>1.0</td>\n",
       "      <td>6.0</td>\n",
       "      <td>7.0</td>\n",
       "      <td>8.0</td>\n",
       "      <td>10.0</td>\n",
       "    </tr>\n",
       "  </tbody>\n",
       "</table>\n",
       "</div>"
      ],
      "text/plain": [
       "                 JobSatisfaction                                              \n",
       "                           count      mean       std  min  25%  50%  75%   max\n",
       "RemoteWork                                                                    \n",
       "Always                     217.0  7.529954  2.083950  1.0  7.0  8.0  9.0  10.0\n",
       "Most of the time           392.0  7.035714  2.093407  1.0  6.0  7.0  8.0  10.0\n",
       "Never                      526.0  6.019011  2.245762  1.0  5.0  6.0  8.0  10.0\n",
       "Rarely                    1146.0  6.678010  2.066194  1.0  6.0  7.0  8.0  10.0\n",
       "Sometimes                 1913.0  6.792473  2.118682  1.0  6.0  7.0  8.0  10.0"
      ]
     },
     "execution_count": 83,
     "metadata": {},
     "output_type": "execute_result"
    }
   ],
   "source": [
    "remote_work.groupby('RemoteWork').describe()"
   ]
  },
  {
   "cell_type": "code",
   "execution_count": 84,
   "metadata": {},
   "outputs": [],
   "source": [
    "remote_work = remote_work.replace(['Always', 'Most of the time', 'Sometimes', 'Rarely', 'Never'], [5, 4, 3, 2, 1]).astype(int)"
   ]
  },
  {
   "cell_type": "code",
   "execution_count": 85,
   "metadata": {},
   "outputs": [
    {
     "name": "stdout",
     "output_type": "stream",
     "text": [
      "The correlation between JobSatisfaction and RemoteWork (r): 0.143492924703\n",
      "The correlation is statistically significant with a 95% C.I. as the p_value < 0.05: 9.78450808879e-21\n",
      "The correlation is reasonable and would be a good candidate for improving the accuracy of a prediction model.\n"
     ]
    }
   ],
   "source": [
    "correlation_linregress('RemoteWork', remote_work)"
   ]
  },
  {
   "cell_type": "markdown",
   "metadata": {},
   "source": [
    "# Salary Change"
   ]
  },
  {
   "cell_type": "code",
   "execution_count": 144,
   "metadata": {},
   "outputs": [],
   "source": [
    "salary_change = clean_MC_data[['JobSatisfaction', 'SalaryChange', 'Age', 'GenderSelect']]\n",
    "salary_change.fillna(value=\"Other\", inplace=True)"
   ]
  },
  {
   "cell_type": "code",
   "execution_count": 133,
   "metadata": {},
   "outputs": [
    {
     "data": {
      "text/plain": [
       "array(['Has stayed about the same (has not increased or decreased more than 5%)',\n",
       "       'Has increased between 6% and 19%', 'Has increased 20% or more',\n",
       "       'I was not employed 3 years ago',\n",
       "       'I do not want to share information about my salary/compensation',\n",
       "       'Has decreased 20% or more', 'Other',\n",
       "       'Has decreased between 6% and 19%', 'I am not currently employed'], dtype=object)"
      ]
     },
     "execution_count": 133,
     "metadata": {},
     "output_type": "execute_result"
    }
   ],
   "source": [
    "salary_change['SalaryChange'].unique()"
   ]
  },
  {
   "cell_type": "code",
   "execution_count": 134,
   "metadata": {},
   "outputs": [
    {
     "data": {
      "text/plain": [
       "Has increased 20% or more                                                  1390\n",
       "Has increased between 6% and 19%                                           1040\n",
       "Has stayed about the same (has not increased or decreased more than 5%)     943\n",
       "I was not employed 3 years ago                                              487\n",
       "I do not want to share information about my salary/compensation              89\n",
       "Other                                                                        83\n",
       "Has decreased 20% or more                                                    78\n",
       "Has decreased between 6% and 19%                                             66\n",
       "I am not currently employed                                                  18\n",
       "Name: SalaryChange, dtype: int64"
      ]
     },
     "execution_count": 134,
     "metadata": {},
     "output_type": "execute_result"
    }
   ],
   "source": [
    "salary_change['SalaryChange'].value_counts()"
   ]
  },
  {
   "cell_type": "code",
   "execution_count": 135,
   "metadata": {},
   "outputs": [],
   "source": [
    "# salary_change = salary_change[salary_change['SalaryChange'] != \"I am not currently employed\"]\n",
    "# salary_change = salary_change[salary_change['SalaryChange'] != \"I was not employed 3 years ago\"]\n",
    "# salary_change = salary_change[salary_change['SalaryChange'] != \"Other\"]\n",
    "# salary_change = salary_change[salary_change['SalaryChange'] != \"I do not want to share information about my salary/compensation\"]"
   ]
  },
  {
   "cell_type": "code",
   "execution_count": 136,
   "metadata": {},
   "outputs": [
    {
     "data": {
      "text/plain": [
       "Has increased 20% or more                                                  1390\n",
       "Has increased between 6% and 19%                                           1040\n",
       "Has stayed about the same (has not increased or decreased more than 5%)     943\n",
       "I was not employed 3 years ago                                              487\n",
       "I do not want to share information about my salary/compensation              89\n",
       "Other                                                                        83\n",
       "Has decreased 20% or more                                                    78\n",
       "Has decreased between 6% and 19%                                             66\n",
       "I am not currently employed                                                  18\n",
       "Name: SalaryChange, dtype: int64"
      ]
     },
     "execution_count": 136,
     "metadata": {},
     "output_type": "execute_result"
    }
   ],
   "source": [
    "salary_change['SalaryChange'].value_counts()"
   ]
  },
  {
   "cell_type": "code",
   "execution_count": 137,
   "metadata": {},
   "outputs": [
    {
     "data": {
      "text/html": [
       "<div>\n",
       "<style>\n",
       "    .dataframe thead tr:only-child th {\n",
       "        text-align: right;\n",
       "    }\n",
       "\n",
       "    .dataframe thead th {\n",
       "        text-align: left;\n",
       "    }\n",
       "\n",
       "    .dataframe tbody tr th {\n",
       "        vertical-align: top;\n",
       "    }\n",
       "</style>\n",
       "<table border=\"1\" class=\"dataframe\">\n",
       "  <thead>\n",
       "    <tr>\n",
       "      <th></th>\n",
       "      <th colspan=\"8\" halign=\"left\">JobSatisfaction</th>\n",
       "    </tr>\n",
       "    <tr>\n",
       "      <th></th>\n",
       "      <th>count</th>\n",
       "      <th>mean</th>\n",
       "      <th>std</th>\n",
       "      <th>min</th>\n",
       "      <th>25%</th>\n",
       "      <th>50%</th>\n",
       "      <th>75%</th>\n",
       "      <th>max</th>\n",
       "    </tr>\n",
       "    <tr>\n",
       "      <th>SalaryChange</th>\n",
       "      <th></th>\n",
       "      <th></th>\n",
       "      <th></th>\n",
       "      <th></th>\n",
       "      <th></th>\n",
       "      <th></th>\n",
       "      <th></th>\n",
       "      <th></th>\n",
       "    </tr>\n",
       "  </thead>\n",
       "  <tbody>\n",
       "    <tr>\n",
       "      <th>Has decreased 20% or more</th>\n",
       "      <td>78.0</td>\n",
       "      <td>6.269231</td>\n",
       "      <td>2.479386</td>\n",
       "      <td>1.0</td>\n",
       "      <td>5.0</td>\n",
       "      <td>7.0</td>\n",
       "      <td>8.0</td>\n",
       "      <td>10.0</td>\n",
       "    </tr>\n",
       "    <tr>\n",
       "      <th>Has decreased between 6% and 19%</th>\n",
       "      <td>66.0</td>\n",
       "      <td>5.893939</td>\n",
       "      <td>2.354235</td>\n",
       "      <td>1.0</td>\n",
       "      <td>5.0</td>\n",
       "      <td>6.0</td>\n",
       "      <td>8.0</td>\n",
       "      <td>10.0</td>\n",
       "    </tr>\n",
       "    <tr>\n",
       "      <th>Has increased 20% or more</th>\n",
       "      <td>1390.0</td>\n",
       "      <td>7.151079</td>\n",
       "      <td>1.970677</td>\n",
       "      <td>1.0</td>\n",
       "      <td>6.0</td>\n",
       "      <td>7.0</td>\n",
       "      <td>8.0</td>\n",
       "      <td>10.0</td>\n",
       "    </tr>\n",
       "    <tr>\n",
       "      <th>Has increased between 6% and 19%</th>\n",
       "      <td>1040.0</td>\n",
       "      <td>6.653846</td>\n",
       "      <td>2.102152</td>\n",
       "      <td>1.0</td>\n",
       "      <td>6.0</td>\n",
       "      <td>7.0</td>\n",
       "      <td>8.0</td>\n",
       "      <td>10.0</td>\n",
       "    </tr>\n",
       "    <tr>\n",
       "      <th>Has stayed about the same (has not increased or decreased more than 5%)</th>\n",
       "      <td>943.0</td>\n",
       "      <td>6.218452</td>\n",
       "      <td>2.267419</td>\n",
       "      <td>1.0</td>\n",
       "      <td>5.0</td>\n",
       "      <td>7.0</td>\n",
       "      <td>8.0</td>\n",
       "      <td>10.0</td>\n",
       "    </tr>\n",
       "    <tr>\n",
       "      <th>I am not currently employed</th>\n",
       "      <td>18.0</td>\n",
       "      <td>7.388889</td>\n",
       "      <td>1.649916</td>\n",
       "      <td>5.0</td>\n",
       "      <td>6.0</td>\n",
       "      <td>7.5</td>\n",
       "      <td>8.0</td>\n",
       "      <td>10.0</td>\n",
       "    </tr>\n",
       "    <tr>\n",
       "      <th>I do not want to share information about my salary/compensation</th>\n",
       "      <td>89.0</td>\n",
       "      <td>6.539326</td>\n",
       "      <td>2.067366</td>\n",
       "      <td>1.0</td>\n",
       "      <td>5.0</td>\n",
       "      <td>7.0</td>\n",
       "      <td>8.0</td>\n",
       "      <td>10.0</td>\n",
       "    </tr>\n",
       "    <tr>\n",
       "      <th>I was not employed 3 years ago</th>\n",
       "      <td>487.0</td>\n",
       "      <td>6.815195</td>\n",
       "      <td>2.084317</td>\n",
       "      <td>1.0</td>\n",
       "      <td>6.0</td>\n",
       "      <td>7.0</td>\n",
       "      <td>8.0</td>\n",
       "      <td>10.0</td>\n",
       "    </tr>\n",
       "    <tr>\n",
       "      <th>Other</th>\n",
       "      <td>83.0</td>\n",
       "      <td>6.855422</td>\n",
       "      <td>2.338086</td>\n",
       "      <td>1.0</td>\n",
       "      <td>6.0</td>\n",
       "      <td>7.0</td>\n",
       "      <td>8.0</td>\n",
       "      <td>10.0</td>\n",
       "    </tr>\n",
       "  </tbody>\n",
       "</table>\n",
       "</div>"
      ],
      "text/plain": [
       "                                                   JobSatisfaction            \\\n",
       "                                                             count      mean   \n",
       "SalaryChange                                                                   \n",
       "Has decreased 20% or more                                     78.0  6.269231   \n",
       "Has decreased between 6% and 19%                              66.0  5.893939   \n",
       "Has increased 20% or more                                   1390.0  7.151079   \n",
       "Has increased between 6% and 19%                            1040.0  6.653846   \n",
       "Has stayed about the same (has not increased or...           943.0  6.218452   \n",
       "I am not currently employed                                   18.0  7.388889   \n",
       "I do not want to share information about my sal...            89.0  6.539326   \n",
       "I was not employed 3 years ago                               487.0  6.815195   \n",
       "Other                                                         83.0  6.855422   \n",
       "\n",
       "                                                                             \\\n",
       "                                                         std  min  25%  50%   \n",
       "SalaryChange                                                                  \n",
       "Has decreased 20% or more                           2.479386  1.0  5.0  7.0   \n",
       "Has decreased between 6% and 19%                    2.354235  1.0  5.0  6.0   \n",
       "Has increased 20% or more                           1.970677  1.0  6.0  7.0   \n",
       "Has increased between 6% and 19%                    2.102152  1.0  6.0  7.0   \n",
       "Has stayed about the same (has not increased or...  2.267419  1.0  5.0  7.0   \n",
       "I am not currently employed                         1.649916  5.0  6.0  7.5   \n",
       "I do not want to share information about my sal...  2.067366  1.0  5.0  7.0   \n",
       "I was not employed 3 years ago                      2.084317  1.0  6.0  7.0   \n",
       "Other                                               2.338086  1.0  6.0  7.0   \n",
       "\n",
       "                                                               \n",
       "                                                    75%   max  \n",
       "SalaryChange                                                   \n",
       "Has decreased 20% or more                           8.0  10.0  \n",
       "Has decreased between 6% and 19%                    8.0  10.0  \n",
       "Has increased 20% or more                           8.0  10.0  \n",
       "Has increased between 6% and 19%                    8.0  10.0  \n",
       "Has stayed about the same (has not increased or...  8.0  10.0  \n",
       "I am not currently employed                         8.0  10.0  \n",
       "I do not want to share information about my sal...  8.0  10.0  \n",
       "I was not employed 3 years ago                      8.0  10.0  \n",
       "Other                                               8.0  10.0  "
      ]
     },
     "execution_count": 137,
     "metadata": {},
     "output_type": "execute_result"
    }
   ],
   "source": [
    "salary_change.groupby('SalaryChange').describe()"
   ]
  },
  {
   "cell_type": "code",
   "execution_count": 138,
   "metadata": {},
   "outputs": [
    {
     "data": {
      "image/png": "[encoded data removed]",
      "text/plain": [
       "<matplotlib.figure.Figure at 0x19170f7c908>"
      ]
     },
     "metadata": {},
     "output_type": "display_data"
    }
   ],
   "source": [
    "plt.figure(figsize=(12,6))\n",
    "\n",
    "plt.subplot(2,3,1)\n",
    "sns.countplot(x=\"JobSatisfaction\", data=salary_change[salary_change[\"SalaryChange\"] == \"Has increased 20% or more\"]).set_title(\"Increased  greater than 20%\")\n",
    "\n",
    "plt.subplot(2,3,2)\n",
    "sns.countplot(x=\"JobSatisfaction\", data=salary_change[salary_change[\"SalaryChange\"] == \"Has increased between 6% and 19%\"]).set_title(\"Increased 6 - 19%\")\n",
    "\n",
    "plt.subplot(2,3,3)\n",
    "sns.countplot(x=\"JobSatisfaction\", data=salary_change[salary_change[\"SalaryChange\"] == \"Has stayed about the same (has not increased or decreased more than 5%)\"]).set_title(\"No big change\")\n",
    "\n",
    "plt.subplot(2,3,4)\n",
    "sns.countplot(x=\"JobSatisfaction\", data=salary_change[salary_change[\"SalaryChange\"] == \"Has decreased between 6% and 19%\"]).set_title(\"Decreased 6 - 19%\")\n",
    "\n",
    "plt.subplot(2,3,5)\n",
    "sns.countplot(x=\"JobSatisfaction\", data=salary_change[salary_change[\"SalaryChange\"] == \"Has decreased 20% or more\"]).set_title(\"Decreased >20%\")\n",
    "\n",
    "plt.tight_layout()\n",
    "plt.show()"
   ]
  },
  {
   "cell_type": "code",
   "execution_count": 139,
   "metadata": {},
   "outputs": [],
   "source": [
    "#salary_change = salary_change.replace(['Has increased 20% or more', 'Has increased between 6% and 19%', 'Has stayed about the same (has not increased or decreased more than 5%)', 'Has decreased between 6% and 19%', 'Has decreased 20% or more'], [5, 4, 3, 2, 1])\n",
    "salary_change = salary_change.replace(['Has increased 20% or more', 'Has increased between 6% and 19%', 'Has stayed about the same (has not increased or decreased more than 5%)', 'Has decreased between 6% and 19%', 'Has decreased 20% or more', \"I am not currently employed\", \"I was not employed 3 years ago\", \"Other\", \"I do not want to share information about my salary/compensation\"], [5, 4, 3, 2, 1, 3, 3, 3, 3])"
   ]
  },
  {
   "cell_type": "code",
   "execution_count": 140,
   "metadata": {},
   "outputs": [
    {
     "name": "stdout",
     "output_type": "stream",
     "text": [
      "The correlation between JobSatisfaction and SalaryChange (r): 0.142930195458\n",
      "The correlation is statistically significant with a 95% C.I. as the p_value < 0.05: 1.38674930899e-20\n",
      "The correlation is reasonable and would be a good candidate for improving the accuracy of a prediction model.\n"
     ]
    }
   ],
   "source": [
    "correlation_linregress('SalaryChange', salary_change)"
   ]
  },
  {
   "cell_type": "markdown",
   "metadata": {},
   "source": [
    "# Job Function Select"
   ]
  },
  {
   "cell_type": "code",
   "execution_count": 95,
   "metadata": {},
   "outputs": [],
   "source": [
    "job_func = clean_MC_data[['JobSatisfaction', 'JobFunctionSelect']]"
   ]
  },
  {
   "cell_type": "code",
   "execution_count": 96,
   "metadata": {},
   "outputs": [
    {
     "data": {
      "text/plain": [
       "array(['Analyze and understand data to influence product or business decisions',\n",
       "       'Build and/or run a machine learning service that operationally improves your product or workflows',\n",
       "       'Research that advances the state of the art of machine learning',\n",
       "       'Build and/or run the data infrastructure that your business uses for storing, analyzing, and operationalizing data',\n",
       "       'Build prototypes to explore applying machine learning to new areas',\n",
       "       'Other', nan], dtype=object)"
      ]
     },
     "execution_count": 96,
     "metadata": {},
     "output_type": "execute_result"
    }
   ],
   "source": [
    "job_func['JobFunctionSelect'].unique()"
   ]
  },
  {
   "cell_type": "code",
   "execution_count": 97,
   "metadata": {},
   "outputs": [
    {
     "data": {
      "text/plain": [
       "Analyze and understand data to influence product or business decisions                                                1624\n",
       "Build prototypes to explore applying machine learning to new areas                                                     741\n",
       "Build and/or run a machine learning service that operationally improves your product or workflows                      718\n",
       "Build and/or run the data infrastructure that your business uses for storing, analyzing, and operationalizing data     449\n",
       "Research that advances the state of the art of machine learning                                                        330\n",
       "Other                                                                                                                  297\n",
       "Name: JobFunctionSelect, dtype: int64"
      ]
     },
     "execution_count": 97,
     "metadata": {},
     "output_type": "execute_result"
    }
   ],
   "source": [
    "job_func['JobFunctionSelect'].value_counts()"
   ]
  },
  {
   "cell_type": "code",
   "execution_count": 98,
   "metadata": {},
   "outputs": [
    {
     "data": {
      "text/html": [
       "<div>\n",
       "<style>\n",
       "    .dataframe thead tr:only-child th {\n",
       "        text-align: right;\n",
       "    }\n",
       "\n",
       "    .dataframe thead th {\n",
       "        text-align: left;\n",
       "    }\n",
       "\n",
       "    .dataframe tbody tr th {\n",
       "        vertical-align: top;\n",
       "    }\n",
       "</style>\n",
       "<table border=\"1\" class=\"dataframe\">\n",
       "  <thead>\n",
       "    <tr>\n",
       "      <th></th>\n",
       "      <th colspan=\"8\" halign=\"left\">JobSatisfaction</th>\n",
       "    </tr>\n",
       "    <tr>\n",
       "      <th></th>\n",
       "      <th>count</th>\n",
       "      <th>mean</th>\n",
       "      <th>std</th>\n",
       "      <th>min</th>\n",
       "      <th>25%</th>\n",
       "      <th>50%</th>\n",
       "      <th>75%</th>\n",
       "      <th>max</th>\n",
       "    </tr>\n",
       "    <tr>\n",
       "      <th>JobFunctionSelect</th>\n",
       "      <th></th>\n",
       "      <th></th>\n",
       "      <th></th>\n",
       "      <th></th>\n",
       "      <th></th>\n",
       "      <th></th>\n",
       "      <th></th>\n",
       "      <th></th>\n",
       "    </tr>\n",
       "  </thead>\n",
       "  <tbody>\n",
       "    <tr>\n",
       "      <th>Analyze and understand data to influence product or business decisions</th>\n",
       "      <td>1624.0</td>\n",
       "      <td>6.540025</td>\n",
       "      <td>2.133181</td>\n",
       "      <td>1.0</td>\n",
       "      <td>5.0</td>\n",
       "      <td>7.0</td>\n",
       "      <td>8.0</td>\n",
       "      <td>10.0</td>\n",
       "    </tr>\n",
       "    <tr>\n",
       "      <th>Build and/or run a machine learning service that operationally improves your product or workflows</th>\n",
       "      <td>718.0</td>\n",
       "      <td>7.077994</td>\n",
       "      <td>1.971071</td>\n",
       "      <td>1.0</td>\n",
       "      <td>6.0</td>\n",
       "      <td>7.0</td>\n",
       "      <td>8.0</td>\n",
       "      <td>10.0</td>\n",
       "    </tr>\n",
       "    <tr>\n",
       "      <th>Build and/or run the data infrastructure that your business uses for storing, analyzing, and operationalizing data</th>\n",
       "      <td>449.0</td>\n",
       "      <td>6.309577</td>\n",
       "      <td>2.251968</td>\n",
       "      <td>1.0</td>\n",
       "      <td>5.0</td>\n",
       "      <td>7.0</td>\n",
       "      <td>8.0</td>\n",
       "      <td>10.0</td>\n",
       "    </tr>\n",
       "    <tr>\n",
       "      <th>Build prototypes to explore applying machine learning to new areas</th>\n",
       "      <td>741.0</td>\n",
       "      <td>7.047233</td>\n",
       "      <td>1.978720</td>\n",
       "      <td>1.0</td>\n",
       "      <td>6.0</td>\n",
       "      <td>7.0</td>\n",
       "      <td>8.0</td>\n",
       "      <td>10.0</td>\n",
       "    </tr>\n",
       "    <tr>\n",
       "      <th>Other</th>\n",
       "      <td>297.0</td>\n",
       "      <td>6.417508</td>\n",
       "      <td>2.426089</td>\n",
       "      <td>1.0</td>\n",
       "      <td>5.0</td>\n",
       "      <td>7.0</td>\n",
       "      <td>8.0</td>\n",
       "      <td>10.0</td>\n",
       "    </tr>\n",
       "    <tr>\n",
       "      <th>Research that advances the state of the art of machine learning</th>\n",
       "      <td>330.0</td>\n",
       "      <td>7.048485</td>\n",
       "      <td>2.204737</td>\n",
       "      <td>1.0</td>\n",
       "      <td>6.0</td>\n",
       "      <td>8.0</td>\n",
       "      <td>8.0</td>\n",
       "      <td>10.0</td>\n",
       "    </tr>\n",
       "  </tbody>\n",
       "</table>\n",
       "</div>"
      ],
      "text/plain": [
       "                                                   JobSatisfaction            \\\n",
       "                                                             count      mean   \n",
       "JobFunctionSelect                                                              \n",
       "Analyze and understand data to influence produc...          1624.0  6.540025   \n",
       "Build and/or run a machine learning service tha...           718.0  7.077994   \n",
       "Build and/or run the data infrastructure that y...           449.0  6.309577   \n",
       "Build prototypes to explore applying machine le...           741.0  7.047233   \n",
       "Other                                                        297.0  6.417508   \n",
       "Research that advances the state of the art of ...           330.0  7.048485   \n",
       "\n",
       "                                                                             \\\n",
       "                                                         std  min  25%  50%   \n",
       "JobFunctionSelect                                                             \n",
       "Analyze and understand data to influence produc...  2.133181  1.0  5.0  7.0   \n",
       "Build and/or run a machine learning service tha...  1.971071  1.0  6.0  7.0   \n",
       "Build and/or run the data infrastructure that y...  2.251968  1.0  5.0  7.0   \n",
       "Build prototypes to explore applying machine le...  1.978720  1.0  6.0  7.0   \n",
       "Other                                               2.426089  1.0  5.0  7.0   \n",
       "Research that advances the state of the art of ...  2.204737  1.0  6.0  8.0   \n",
       "\n",
       "                                                               \n",
       "                                                    75%   max  \n",
       "JobFunctionSelect                                              \n",
       "Analyze and understand data to influence produc...  8.0  10.0  \n",
       "Build and/or run a machine learning service tha...  8.0  10.0  \n",
       "Build and/or run the data infrastructure that y...  8.0  10.0  \n",
       "Build prototypes to explore applying machine le...  8.0  10.0  \n",
       "Other                                               8.0  10.0  \n",
       "Research that advances the state of the art of ...  8.0  10.0  "
      ]
     },
     "execution_count": 98,
     "metadata": {},
     "output_type": "execute_result"
    }
   ],
   "source": [
    "job_func.groupby('JobFunctionSelect').describe()"
   ]
  },
  {
   "cell_type": "markdown",
   "metadata": {},
   "source": [
    "# Work Data Visualizations"
   ]
  },
  {
   "cell_type": "code",
   "execution_count": 99,
   "metadata": {},
   "outputs": [],
   "source": [
    "work_data_viz = clean_MC_data[['JobSatisfaction', 'WorkDataVisualizations']].dropna()"
   ]
  },
  {
   "cell_type": "code",
   "execution_count": 100,
   "metadata": {},
   "outputs": [
    {
     "data": {
      "text/plain": [
       "76-99% of projects           808\n",
       "100% of projects             768\n",
       "10-25% of projects           755\n",
       "51-75% of projects           703\n",
       "26-50% of projects           541\n",
       "Less than 10% of projects    528\n",
       "None                          77\n",
       "Name: WorkDataVisualizations, dtype: int64"
      ]
     },
     "execution_count": 100,
     "metadata": {},
     "output_type": "execute_result"
    }
   ],
   "source": [
    "work_data_viz['WorkDataVisualizations'].value_counts()"
   ]
  },
  {
   "cell_type": "code",
   "execution_count": 101,
   "metadata": {},
   "outputs": [
    {
     "data": {
      "text/html": [
       "<div>\n",
       "<style>\n",
       "    .dataframe thead tr:only-child th {\n",
       "        text-align: right;\n",
       "    }\n",
       "\n",
       "    .dataframe thead th {\n",
       "        text-align: left;\n",
       "    }\n",
       "\n",
       "    .dataframe tbody tr th {\n",
       "        vertical-align: top;\n",
       "    }\n",
       "</style>\n",
       "<table border=\"1\" class=\"dataframe\">\n",
       "  <thead>\n",
       "    <tr>\n",
       "      <th></th>\n",
       "      <th colspan=\"8\" halign=\"left\">JobSatisfaction</th>\n",
       "    </tr>\n",
       "    <tr>\n",
       "      <th></th>\n",
       "      <th>count</th>\n",
       "      <th>mean</th>\n",
       "      <th>std</th>\n",
       "      <th>min</th>\n",
       "      <th>25%</th>\n",
       "      <th>50%</th>\n",
       "      <th>75%</th>\n",
       "      <th>max</th>\n",
       "    </tr>\n",
       "    <tr>\n",
       "      <th>WorkDataVisualizations</th>\n",
       "      <th></th>\n",
       "      <th></th>\n",
       "      <th></th>\n",
       "      <th></th>\n",
       "      <th></th>\n",
       "      <th></th>\n",
       "      <th></th>\n",
       "      <th></th>\n",
       "    </tr>\n",
       "  </thead>\n",
       "  <tbody>\n",
       "    <tr>\n",
       "      <th>10-25% of projects</th>\n",
       "      <td>755.0</td>\n",
       "      <td>6.460927</td>\n",
       "      <td>2.141418</td>\n",
       "      <td>1.0</td>\n",
       "      <td>5.0</td>\n",
       "      <td>7.0</td>\n",
       "      <td>8.00</td>\n",
       "      <td>10.0</td>\n",
       "    </tr>\n",
       "    <tr>\n",
       "      <th>100% of projects</th>\n",
       "      <td>768.0</td>\n",
       "      <td>6.967448</td>\n",
       "      <td>2.210614</td>\n",
       "      <td>1.0</td>\n",
       "      <td>6.0</td>\n",
       "      <td>7.0</td>\n",
       "      <td>8.25</td>\n",
       "      <td>10.0</td>\n",
       "    </tr>\n",
       "    <tr>\n",
       "      <th>26-50% of projects</th>\n",
       "      <td>541.0</td>\n",
       "      <td>6.757856</td>\n",
       "      <td>2.029997</td>\n",
       "      <td>1.0</td>\n",
       "      <td>6.0</td>\n",
       "      <td>7.0</td>\n",
       "      <td>8.00</td>\n",
       "      <td>10.0</td>\n",
       "    </tr>\n",
       "    <tr>\n",
       "      <th>51-75% of projects</th>\n",
       "      <td>703.0</td>\n",
       "      <td>6.871977</td>\n",
       "      <td>2.059125</td>\n",
       "      <td>1.0</td>\n",
       "      <td>6.0</td>\n",
       "      <td>7.0</td>\n",
       "      <td>8.00</td>\n",
       "      <td>10.0</td>\n",
       "    </tr>\n",
       "    <tr>\n",
       "      <th>76-99% of projects</th>\n",
       "      <td>808.0</td>\n",
       "      <td>6.893564</td>\n",
       "      <td>2.021215</td>\n",
       "      <td>1.0</td>\n",
       "      <td>6.0</td>\n",
       "      <td>7.0</td>\n",
       "      <td>8.00</td>\n",
       "      <td>10.0</td>\n",
       "    </tr>\n",
       "    <tr>\n",
       "      <th>Less than 10% of projects</th>\n",
       "      <td>528.0</td>\n",
       "      <td>6.380682</td>\n",
       "      <td>2.262005</td>\n",
       "      <td>1.0</td>\n",
       "      <td>5.0</td>\n",
       "      <td>7.0</td>\n",
       "      <td>8.00</td>\n",
       "      <td>10.0</td>\n",
       "    </tr>\n",
       "    <tr>\n",
       "      <th>None</th>\n",
       "      <td>77.0</td>\n",
       "      <td>6.090909</td>\n",
       "      <td>2.540109</td>\n",
       "      <td>1.0</td>\n",
       "      <td>4.0</td>\n",
       "      <td>7.0</td>\n",
       "      <td>8.00</td>\n",
       "      <td>10.0</td>\n",
       "    </tr>\n",
       "  </tbody>\n",
       "</table>\n",
       "</div>"
      ],
      "text/plain": [
       "                          JobSatisfaction                                     \\\n",
       "                                    count      mean       std  min  25%  50%   \n",
       "WorkDataVisualizations                                                         \n",
       "10-25% of projects                  755.0  6.460927  2.141418  1.0  5.0  7.0   \n",
       "100% of projects                    768.0  6.967448  2.210614  1.0  6.0  7.0   \n",
       "26-50% of projects                  541.0  6.757856  2.029997  1.0  6.0  7.0   \n",
       "51-75% of projects                  703.0  6.871977  2.059125  1.0  6.0  7.0   \n",
       "76-99% of projects                  808.0  6.893564  2.021215  1.0  6.0  7.0   \n",
       "Less than 10% of projects           528.0  6.380682  2.262005  1.0  5.0  7.0   \n",
       "None                                 77.0  6.090909  2.540109  1.0  4.0  7.0   \n",
       "\n",
       "                                       \n",
       "                            75%   max  \n",
       "WorkDataVisualizations                 \n",
       "10-25% of projects         8.00  10.0  \n",
       "100% of projects           8.25  10.0  \n",
       "26-50% of projects         8.00  10.0  \n",
       "51-75% of projects         8.00  10.0  \n",
       "76-99% of projects         8.00  10.0  \n",
       "Less than 10% of projects  8.00  10.0  \n",
       "None                       8.00  10.0  "
      ]
     },
     "execution_count": 101,
     "metadata": {},
     "output_type": "execute_result"
    }
   ],
   "source": [
    "work_data_viz.groupby('WorkDataVisualizations').describe()"
   ]
  },
  {
   "cell_type": "code",
   "execution_count": 102,
   "metadata": {},
   "outputs": [],
   "source": [
    "work_data_viz = work_data_viz.replace(['100% of projects', '76-99% of projects', '51-75% of projects', '26-50% of projects', '10-25% of projects', 'Less than 10% of projects', 'None'], [7, 6, 5, 4, 3, 2, 1]).astype(int)"
   ]
  },
  {
   "cell_type": "code",
   "execution_count": 103,
   "metadata": {},
   "outputs": [
    {
     "name": "stdout",
     "output_type": "stream",
     "text": [
      "The correlation between JobSatisfaction and WorkDataVisualizations (r): 0.104482879949\n",
      "The correlation is statistically significant with a 95% C.I. as the p_value < 0.05: 1.27327677968e-11\n",
      "The correlation is reasonable and would be a good candidate for improving the accuracy of a prediction model.\n"
     ]
    }
   ],
   "source": [
    "correlation_linregress('WorkDataVisualizations', work_data_viz)"
   ]
  },
  {
   "cell_type": "markdown",
   "metadata": {},
   "source": [
    "# How time is spent"
   ]
  },
  {
   "cell_type": "code",
   "execution_count": 104,
   "metadata": {},
   "outputs": [],
   "source": [
    "time_spent = clean_MC_data[['JobSatisfaction','TimeGatheringData','TimeModelBuilding','TimeProduction','TimeVisualizing','TimeFindingInsights','TimeOtherSelect']].dropna()"
   ]
  },
  {
   "cell_type": "code",
   "execution_count": 105,
   "metadata": {},
   "outputs": [
    {
     "data": {
      "text/html": [
       "<div>\n",
       "<style>\n",
       "    .dataframe thead tr:only-child th {\n",
       "        text-align: right;\n",
       "    }\n",
       "\n",
       "    .dataframe thead th {\n",
       "        text-align: left;\n",
       "    }\n",
       "\n",
       "    .dataframe tbody tr th {\n",
       "        vertical-align: top;\n",
       "    }\n",
       "</style>\n",
       "<table border=\"1\" class=\"dataframe\">\n",
       "  <thead>\n",
       "    <tr style=\"text-align: right;\">\n",
       "      <th></th>\n",
       "      <th>JobSatisfaction</th>\n",
       "      <th>TimeGatheringData</th>\n",
       "      <th>TimeModelBuilding</th>\n",
       "      <th>TimeProduction</th>\n",
       "      <th>TimeVisualizing</th>\n",
       "      <th>TimeFindingInsights</th>\n",
       "      <th>TimeOtherSelect</th>\n",
       "    </tr>\n",
       "  </thead>\n",
       "  <tbody>\n",
       "    <tr>\n",
       "      <th>count</th>\n",
       "      <td>4164.000000</td>\n",
       "      <td>4164.000000</td>\n",
       "      <td>4164.000000</td>\n",
       "      <td>4164.000000</td>\n",
       "      <td>4164.00000</td>\n",
       "      <td>4164.000000</td>\n",
       "      <td>4164.000000</td>\n",
       "    </tr>\n",
       "    <tr>\n",
       "      <th>mean</th>\n",
       "      <td>6.731268</td>\n",
       "      <td>37.206772</td>\n",
       "      <td>21.292747</td>\n",
       "      <td>11.042867</td>\n",
       "      <td>14.23403</td>\n",
       "      <td>13.414265</td>\n",
       "      <td>2.191643</td>\n",
       "    </tr>\n",
       "    <tr>\n",
       "      <th>std</th>\n",
       "      <td>2.138732</td>\n",
       "      <td>20.867155</td>\n",
       "      <td>15.336780</td>\n",
       "      <td>12.039002</td>\n",
       "      <td>10.98881</td>\n",
       "      <td>12.048833</td>\n",
       "      <td>11.029986</td>\n",
       "    </tr>\n",
       "    <tr>\n",
       "      <th>min</th>\n",
       "      <td>1.000000</td>\n",
       "      <td>0.000000</td>\n",
       "      <td>0.000000</td>\n",
       "      <td>0.000000</td>\n",
       "      <td>0.00000</td>\n",
       "      <td>0.000000</td>\n",
       "      <td>0.000000</td>\n",
       "    </tr>\n",
       "    <tr>\n",
       "      <th>25%</th>\n",
       "      <td>5.000000</td>\n",
       "      <td>20.000000</td>\n",
       "      <td>10.000000</td>\n",
       "      <td>1.000000</td>\n",
       "      <td>10.00000</td>\n",
       "      <td>5.000000</td>\n",
       "      <td>0.000000</td>\n",
       "    </tr>\n",
       "    <tr>\n",
       "      <th>50%</th>\n",
       "      <td>7.000000</td>\n",
       "      <td>40.000000</td>\n",
       "      <td>20.000000</td>\n",
       "      <td>10.000000</td>\n",
       "      <td>10.00000</td>\n",
       "      <td>10.000000</td>\n",
       "      <td>0.000000</td>\n",
       "    </tr>\n",
       "    <tr>\n",
       "      <th>75%</th>\n",
       "      <td>8.000000</td>\n",
       "      <td>50.000000</td>\n",
       "      <td>30.000000</td>\n",
       "      <td>15.000000</td>\n",
       "      <td>20.00000</td>\n",
       "      <td>20.000000</td>\n",
       "      <td>0.000000</td>\n",
       "    </tr>\n",
       "    <tr>\n",
       "      <th>max</th>\n",
       "      <td>10.000000</td>\n",
       "      <td>100.000000</td>\n",
       "      <td>100.000000</td>\n",
       "      <td>100.000000</td>\n",
       "      <td>100.00000</td>\n",
       "      <td>100.000000</td>\n",
       "      <td>100.000000</td>\n",
       "    </tr>\n",
       "  </tbody>\n",
       "</table>\n",
       "</div>"
      ],
      "text/plain": [
       "       JobSatisfaction  TimeGatheringData  TimeModelBuilding  TimeProduction  \\\n",
       "count      4164.000000        4164.000000        4164.000000     4164.000000   \n",
       "mean          6.731268          37.206772          21.292747       11.042867   \n",
       "std           2.138732          20.867155          15.336780       12.039002   \n",
       "min           1.000000           0.000000           0.000000        0.000000   \n",
       "25%           5.000000          20.000000          10.000000        1.000000   \n",
       "50%           7.000000          40.000000          20.000000       10.000000   \n",
       "75%           8.000000          50.000000          30.000000       15.000000   \n",
       "max          10.000000         100.000000         100.000000      100.000000   \n",
       "\n",
       "       TimeVisualizing  TimeFindingInsights  TimeOtherSelect  \n",
       "count       4164.00000          4164.000000      4164.000000  \n",
       "mean          14.23403            13.414265         2.191643  \n",
       "std           10.98881            12.048833        11.029986  \n",
       "min            0.00000             0.000000         0.000000  \n",
       "25%           10.00000             5.000000         0.000000  \n",
       "50%           10.00000            10.000000         0.000000  \n",
       "75%           20.00000            20.000000         0.000000  \n",
       "max          100.00000           100.000000       100.000000  "
      ]
     },
     "execution_count": 105,
     "metadata": {},
     "output_type": "execute_result"
    }
   ],
   "source": [
    "time_spent.describe()"
   ]
  },
  {
   "cell_type": "code",
   "execution_count": 106,
   "metadata": {},
   "outputs": [
    {
     "name": "stdout",
     "output_type": "stream",
     "text": [
      "The correlation between JobSatisfaction and TimeGatheringData (r): -0.0538809246107\n",
      "The correlation is statistically significant with a 95% C.I. as the p_value < 0.05: 0.000504475957706\n",
      "The correlation is not very large however, so the correlation would not be useful for a prediction model.\n",
      "\n",
      "\n",
      "The correlation between JobSatisfaction and TimeModelBuilding (r): 0.074825780822\n",
      "The correlation is statistically significant with a 95% C.I. as the p_value < 0.05: 1.33974704238e-06\n",
      "The correlation is not very large however, so the correlation would not be useful for a prediction model.\n",
      "\n",
      "\n",
      "The correlation between JobSatisfaction and TimeProduction (r): 0.0520429290583\n",
      "The correlation is statistically significant with a 95% C.I. as the p_value < 0.05: 0.00078069567187\n",
      "The correlation is not very large however, so the correlation would not be useful for a prediction model.\n",
      "\n",
      "\n",
      "The correlation between JobSatisfaction and TimeVisualizing (r): -0.0438792954427\n",
      "The correlation is statistically significant with a 95% C.I. as the p_value < 0.05: 0.00462573141757\n",
      "The correlation is not very large however, so the correlation would not be useful for a prediction model.\n",
      "\n",
      "\n",
      "The correlation between JobSatisfaction and TimeFindingInsights (r): 0.0361126111155\n",
      "The correlation is statistically significant with a 95% C.I. as the p_value < 0.05: 0.0197864241943\n",
      "The correlation is not very large however, so the correlation would not be useful for a prediction model.\n",
      "\n",
      "\n",
      "The correlation between JobSatisfaction and TimeOtherSelect (r): -0.0156971348662\n",
      "The correlation is not statistically significant with a 95% C.I. as the p_value > 0.05: 0.311213185857\n",
      "The correlation is not very large however, so the correlation would not be useful for a prediction model.\n",
      "\n",
      "\n"
     ]
    }
   ],
   "source": [
    "for column in time_spent.columns[1:]:\n",
    "    correlation_linregress(column, time_spent)\n",
    "    print(\"\\n\")"
   ]
  },
  {
   "cell_type": "markdown",
   "metadata": {},
   "source": [
    "## Question 1) What barriers or issues effect job satisfaction?"
   ]
  },
  {
   "cell_type": "code",
   "execution_count": 141,
   "metadata": {},
   "outputs": [],
   "source": [
    "# question1 = binary_data[['JobSatisfaction', 'WorkChallengesSelect', 'WorkChallengeFrequencyPolitics', 'WorkChallengeFrequencyUnusedResults', 'WorkChallengeFrequencyUnusefulInstrumenting', 'WorkChallengeFrequencyDeployment', 'WorkChallengeFrequencyDirtyData', 'WorkChallengeFrequencyExplaining', 'WorkChallengeFrequencyPass', 'WorkChallengeFrequencyIntegration', 'WorkChallengeFrequencyTalent', 'WorkChallengeFrequencyDataFunds', 'WorkChallengeFrequencyDomainExpertise', 'WorkChallengeFrequencyML', 'WorkChallengeFrequencyTools', 'WorkChallengeFrequencyExpectations', 'WorkChallengeFrequencyITCoordination', 'WorkChallengeFrequencyHiringFunds', 'WorkChallengeFrequencyPrivacy', 'WorkChallengeFrequencyScaling', 'WorkChallengeFrequencyEnvironments', 'WorkChallengeFrequencyClarity', 'WorkChallengeFrequencyDataAccess', 'WorkChallengeFrequencyOtherSelect']]\n",
    "question1 = clean_MC_data[['JobSatisfaction', 'WorkChallengeFrequencyPolitics', 'WorkChallengeFrequencyUnusedResults', 'WorkChallengeFrequencyUnusefulInstrumenting', 'WorkChallengeFrequencyDeployment', 'WorkChallengeFrequencyDirtyData', 'WorkChallengeFrequencyExplaining', 'WorkChallengeFrequencyPass', 'WorkChallengeFrequencyIntegration', 'WorkChallengeFrequencyTalent', 'WorkChallengeFrequencyDataFunds', 'WorkChallengeFrequencyDomainExpertise', 'WorkChallengeFrequencyML', 'WorkChallengeFrequencyTools', 'WorkChallengeFrequencyExpectations', 'WorkChallengeFrequencyITCoordination', 'WorkChallengeFrequencyHiringFunds', 'WorkChallengeFrequencyPrivacy', 'WorkChallengeFrequencyScaling', 'WorkChallengeFrequencyEnvironments', 'WorkChallengeFrequencyClarity', 'WorkChallengeFrequencyDataAccess', 'WorkChallengeFrequencyOtherSelect']]"
   ]
  },
  {
   "cell_type": "code",
   "execution_count": 108,
   "metadata": {},
   "outputs": [
    {
     "data": {
      "text/html": [
       "<div>\n",
       "<style>\n",
       "    .dataframe thead tr:only-child th {\n",
       "        text-align: right;\n",
       "    }\n",
       "\n",
       "    .dataframe thead th {\n",
       "        text-align: left;\n",
       "    }\n",
       "\n",
       "    .dataframe tbody tr th {\n",
       "        vertical-align: top;\n",
       "    }\n",
       "</style>\n",
       "<table border=\"1\" class=\"dataframe\">\n",
       "  <thead>\n",
       "    <tr style=\"text-align: right;\">\n",
       "      <th></th>\n",
       "      <th>JobSatisfaction</th>\n",
       "      <th>WorkChallengeFrequencyPolitics</th>\n",
       "      <th>WorkChallengeFrequencyUnusedResults</th>\n",
       "      <th>WorkChallengeFrequencyUnusefulInstrumenting</th>\n",
       "      <th>WorkChallengeFrequencyDeployment</th>\n",
       "      <th>WorkChallengeFrequencyDirtyData</th>\n",
       "      <th>WorkChallengeFrequencyExplaining</th>\n",
       "      <th>WorkChallengeFrequencyPass</th>\n",
       "      <th>WorkChallengeFrequencyIntegration</th>\n",
       "      <th>WorkChallengeFrequencyTalent</th>\n",
       "      <th>...</th>\n",
       "      <th>WorkChallengeFrequencyTools</th>\n",
       "      <th>WorkChallengeFrequencyExpectations</th>\n",
       "      <th>WorkChallengeFrequencyITCoordination</th>\n",
       "      <th>WorkChallengeFrequencyHiringFunds</th>\n",
       "      <th>WorkChallengeFrequencyPrivacy</th>\n",
       "      <th>WorkChallengeFrequencyScaling</th>\n",
       "      <th>WorkChallengeFrequencyEnvironments</th>\n",
       "      <th>WorkChallengeFrequencyClarity</th>\n",
       "      <th>WorkChallengeFrequencyDataAccess</th>\n",
       "      <th>WorkChallengeFrequencyOtherSelect</th>\n",
       "    </tr>\n",
       "  </thead>\n",
       "  <tbody>\n",
       "    <tr>\n",
       "      <th>5</th>\n",
       "      <td>7</td>\n",
       "      <td>NaN</td>\n",
       "      <td>NaN</td>\n",
       "      <td>NaN</td>\n",
       "      <td>NaN</td>\n",
       "      <td>Often</td>\n",
       "      <td>NaN</td>\n",
       "      <td>NaN</td>\n",
       "      <td>NaN</td>\n",
       "      <td>NaN</td>\n",
       "      <td>...</td>\n",
       "      <td>NaN</td>\n",
       "      <td>NaN</td>\n",
       "      <td>NaN</td>\n",
       "      <td>NaN</td>\n",
       "      <td>NaN</td>\n",
       "      <td>NaN</td>\n",
       "      <td>NaN</td>\n",
       "      <td>NaN</td>\n",
       "      <td>NaN</td>\n",
       "      <td>NaN</td>\n",
       "    </tr>\n",
       "    <tr>\n",
       "      <th>6</th>\n",
       "      <td>7</td>\n",
       "      <td>NaN</td>\n",
       "      <td>Sometimes</td>\n",
       "      <td>NaN</td>\n",
       "      <td>NaN</td>\n",
       "      <td>Often</td>\n",
       "      <td>Often</td>\n",
       "      <td>NaN</td>\n",
       "      <td>NaN</td>\n",
       "      <td>Often</td>\n",
       "      <td>...</td>\n",
       "      <td>Rarely</td>\n",
       "      <td>NaN</td>\n",
       "      <td>NaN</td>\n",
       "      <td>Sometimes</td>\n",
       "      <td>Rarely</td>\n",
       "      <td>Rarely</td>\n",
       "      <td>NaN</td>\n",
       "      <td>NaN</td>\n",
       "      <td>NaN</td>\n",
       "      <td>NaN</td>\n",
       "    </tr>\n",
       "    <tr>\n",
       "      <th>7</th>\n",
       "      <td>7</td>\n",
       "      <td>NaN</td>\n",
       "      <td>NaN</td>\n",
       "      <td>NaN</td>\n",
       "      <td>NaN</td>\n",
       "      <td>NaN</td>\n",
       "      <td>Often</td>\n",
       "      <td>NaN</td>\n",
       "      <td>NaN</td>\n",
       "      <td>Sometimes</td>\n",
       "      <td>...</td>\n",
       "      <td>NaN</td>\n",
       "      <td>NaN</td>\n",
       "      <td>NaN</td>\n",
       "      <td>NaN</td>\n",
       "      <td>Sometimes</td>\n",
       "      <td>NaN</td>\n",
       "      <td>NaN</td>\n",
       "      <td>NaN</td>\n",
       "      <td>NaN</td>\n",
       "      <td>NaN</td>\n",
       "    </tr>\n",
       "    <tr>\n",
       "      <th>8</th>\n",
       "      <td>5</td>\n",
       "      <td>Often</td>\n",
       "      <td>NaN</td>\n",
       "      <td>NaN</td>\n",
       "      <td>NaN</td>\n",
       "      <td>NaN</td>\n",
       "      <td>Often</td>\n",
       "      <td>NaN</td>\n",
       "      <td>NaN</td>\n",
       "      <td>Often</td>\n",
       "      <td>...</td>\n",
       "      <td>NaN</td>\n",
       "      <td>NaN</td>\n",
       "      <td>NaN</td>\n",
       "      <td>Often</td>\n",
       "      <td>NaN</td>\n",
       "      <td>NaN</td>\n",
       "      <td>Often</td>\n",
       "      <td>NaN</td>\n",
       "      <td>NaN</td>\n",
       "      <td>NaN</td>\n",
       "    </tr>\n",
       "    <tr>\n",
       "      <th>10</th>\n",
       "      <td>6</td>\n",
       "      <td>NaN</td>\n",
       "      <td>NaN</td>\n",
       "      <td>NaN</td>\n",
       "      <td>NaN</td>\n",
       "      <td>NaN</td>\n",
       "      <td>Often</td>\n",
       "      <td>NaN</td>\n",
       "      <td>NaN</td>\n",
       "      <td>NaN</td>\n",
       "      <td>...</td>\n",
       "      <td>NaN</td>\n",
       "      <td>NaN</td>\n",
       "      <td>NaN</td>\n",
       "      <td>NaN</td>\n",
       "      <td>NaN</td>\n",
       "      <td>NaN</td>\n",
       "      <td>NaN</td>\n",
       "      <td>NaN</td>\n",
       "      <td>NaN</td>\n",
       "      <td>Most of the time</td>\n",
       "    </tr>\n",
       "  </tbody>\n",
       "</table>\n",
       "<p>5 rows × 23 columns</p>\n",
       "</div>"
      ],
      "text/plain": [
       "    JobSatisfaction WorkChallengeFrequencyPolitics  \\\n",
       "5                 7                            NaN   \n",
       "6                 7                            NaN   \n",
       "7                 7                            NaN   \n",
       "8                 5                          Often   \n",
       "10                6                            NaN   \n",
       "\n",
       "   WorkChallengeFrequencyUnusedResults  \\\n",
       "5                                  NaN   \n",
       "6                            Sometimes   \n",
       "7                                  NaN   \n",
       "8                                  NaN   \n",
       "10                                 NaN   \n",
       "\n",
       "   WorkChallengeFrequencyUnusefulInstrumenting  \\\n",
       "5                                          NaN   \n",
       "6                                          NaN   \n",
       "7                                          NaN   \n",
       "8                                          NaN   \n",
       "10                                         NaN   \n",
       "\n",
       "   WorkChallengeFrequencyDeployment WorkChallengeFrequencyDirtyData  \\\n",
       "5                               NaN                           Often   \n",
       "6                               NaN                           Often   \n",
       "7                               NaN                             NaN   \n",
       "8                               NaN                             NaN   \n",
       "10                              NaN                             NaN   \n",
       "\n",
       "   WorkChallengeFrequencyExplaining WorkChallengeFrequencyPass  \\\n",
       "5                               NaN                        NaN   \n",
       "6                             Often                        NaN   \n",
       "7                             Often                        NaN   \n",
       "8                             Often                        NaN   \n",
       "10                            Often                        NaN   \n",
       "\n",
       "   WorkChallengeFrequencyIntegration WorkChallengeFrequencyTalent  \\\n",
       "5                                NaN                          NaN   \n",
       "6                                NaN                        Often   \n",
       "7                                NaN                    Sometimes   \n",
       "8                                NaN                        Often   \n",
       "10                               NaN                          NaN   \n",
       "\n",
       "                  ...                WorkChallengeFrequencyTools  \\\n",
       "5                 ...                                        NaN   \n",
       "6                 ...                                     Rarely   \n",
       "7                 ...                                        NaN   \n",
       "8                 ...                                        NaN   \n",
       "10                ...                                        NaN   \n",
       "\n",
       "   WorkChallengeFrequencyExpectations WorkChallengeFrequencyITCoordination  \\\n",
       "5                                 NaN                                  NaN   \n",
       "6                                 NaN                                  NaN   \n",
       "7                                 NaN                                  NaN   \n",
       "8                                 NaN                                  NaN   \n",
       "10                                NaN                                  NaN   \n",
       "\n",
       "   WorkChallengeFrequencyHiringFunds WorkChallengeFrequencyPrivacy  \\\n",
       "5                                NaN                           NaN   \n",
       "6                          Sometimes                        Rarely   \n",
       "7                                NaN                     Sometimes   \n",
       "8                              Often                           NaN   \n",
       "10                               NaN                           NaN   \n",
       "\n",
       "   WorkChallengeFrequencyScaling WorkChallengeFrequencyEnvironments  \\\n",
       "5                            NaN                                NaN   \n",
       "6                         Rarely                                NaN   \n",
       "7                            NaN                                NaN   \n",
       "8                            NaN                              Often   \n",
       "10                           NaN                                NaN   \n",
       "\n",
       "   WorkChallengeFrequencyClarity WorkChallengeFrequencyDataAccess  \\\n",
       "5                            NaN                              NaN   \n",
       "6                            NaN                              NaN   \n",
       "7                            NaN                              NaN   \n",
       "8                            NaN                              NaN   \n",
       "10                           NaN                              NaN   \n",
       "\n",
       "   WorkChallengeFrequencyOtherSelect  \n",
       "5                                NaN  \n",
       "6                                NaN  \n",
       "7                                NaN  \n",
       "8                                NaN  \n",
       "10                  Most of the time  \n",
       "\n",
       "[5 rows x 23 columns]"
      ]
     },
     "execution_count": 108,
     "metadata": {},
     "output_type": "execute_result"
    }
   ],
   "source": [
    "question1.head()"
   ]
  },
  {
   "cell_type": "code",
   "execution_count": 109,
   "metadata": {},
   "outputs": [],
   "source": [
    "question1.fillna(value='Never', inplace=True)"
   ]
  },
  {
   "cell_type": "code",
   "execution_count": 110,
   "metadata": {},
   "outputs": [
    {
     "data": {
      "text/plain": [
       "array(['Never', 'Often', 'Most of the time', 'Sometimes', 'Rarely'], dtype=object)"
      ]
     },
     "execution_count": 110,
     "metadata": {},
     "output_type": "execute_result"
    }
   ],
   "source": [
    "question1['WorkChallengeFrequencyPolitics'].unique()"
   ]
  },
  {
   "cell_type": "code",
   "execution_count": 111,
   "metadata": {},
   "outputs": [],
   "source": [
    "question1 = question1.replace(['Never', 'Rarely', 'Sometimes', 'Often', 'Most of the time'], [4, 3, 2, 1, 0]).astype(int)"
   ]
  },
  {
   "cell_type": "code",
   "execution_count": 112,
   "metadata": {},
   "outputs": [
    {
     "data": {
      "text/html": [
       "<div>\n",
       "<style>\n",
       "    .dataframe thead tr:only-child th {\n",
       "        text-align: right;\n",
       "    }\n",
       "\n",
       "    .dataframe thead th {\n",
       "        text-align: left;\n",
       "    }\n",
       "\n",
       "    .dataframe tbody tr th {\n",
       "        vertical-align: top;\n",
       "    }\n",
       "</style>\n",
       "<table border=\"1\" class=\"dataframe\">\n",
       "  <thead>\n",
       "    <tr style=\"text-align: right;\">\n",
       "      <th></th>\n",
       "      <th>JobSatisfaction</th>\n",
       "      <th>WorkChallengeFrequencyPolitics</th>\n",
       "      <th>WorkChallengeFrequencyUnusedResults</th>\n",
       "      <th>WorkChallengeFrequencyUnusefulInstrumenting</th>\n",
       "      <th>WorkChallengeFrequencyDeployment</th>\n",
       "      <th>WorkChallengeFrequencyDirtyData</th>\n",
       "      <th>WorkChallengeFrequencyExplaining</th>\n",
       "      <th>WorkChallengeFrequencyPass</th>\n",
       "      <th>WorkChallengeFrequencyIntegration</th>\n",
       "      <th>WorkChallengeFrequencyTalent</th>\n",
       "      <th>...</th>\n",
       "      <th>WorkChallengeFrequencyTools</th>\n",
       "      <th>WorkChallengeFrequencyExpectations</th>\n",
       "      <th>WorkChallengeFrequencyITCoordination</th>\n",
       "      <th>WorkChallengeFrequencyHiringFunds</th>\n",
       "      <th>WorkChallengeFrequencyPrivacy</th>\n",
       "      <th>WorkChallengeFrequencyScaling</th>\n",
       "      <th>WorkChallengeFrequencyEnvironments</th>\n",
       "      <th>WorkChallengeFrequencyClarity</th>\n",
       "      <th>WorkChallengeFrequencyDataAccess</th>\n",
       "      <th>WorkChallengeFrequencyOtherSelect</th>\n",
       "    </tr>\n",
       "  </thead>\n",
       "  <tbody>\n",
       "    <tr>\n",
       "      <th>JobSatisfaction</th>\n",
       "      <td>1.000000</td>\n",
       "      <td>0.254710</td>\n",
       "      <td>0.118057</td>\n",
       "      <td>0.078249</td>\n",
       "      <td>-0.039487</td>\n",
       "      <td>-0.068256</td>\n",
       "      <td>0.022542</td>\n",
       "      <td>0.012318</td>\n",
       "      <td>0.082899</td>\n",
       "      <td>0.184308</td>\n",
       "      <td>...</td>\n",
       "      <td>0.071771</td>\n",
       "      <td>-0.031450</td>\n",
       "      <td>0.014732</td>\n",
       "      <td>0.085227</td>\n",
       "      <td>-0.014127</td>\n",
       "      <td>-0.006555</td>\n",
       "      <td>-0.005816</td>\n",
       "      <td>0.046306</td>\n",
       "      <td>-0.055942</td>\n",
       "      <td>0.016071</td>\n",
       "    </tr>\n",
       "    <tr>\n",
       "      <th>WorkChallengeFrequencyPolitics</th>\n",
       "      <td>0.254710</td>\n",
       "      <td>1.000000</td>\n",
       "      <td>0.253221</td>\n",
       "      <td>0.125299</td>\n",
       "      <td>0.068786</td>\n",
       "      <td>0.050069</td>\n",
       "      <td>0.158601</td>\n",
       "      <td>-0.091219</td>\n",
       "      <td>0.241217</td>\n",
       "      <td>0.251429</td>\n",
       "      <td>...</td>\n",
       "      <td>0.075986</td>\n",
       "      <td>0.091912</td>\n",
       "      <td>0.177090</td>\n",
       "      <td>0.095877</td>\n",
       "      <td>0.121974</td>\n",
       "      <td>0.084929</td>\n",
       "      <td>0.080058</td>\n",
       "      <td>0.133983</td>\n",
       "      <td>0.059931</td>\n",
       "      <td>-0.010531</td>\n",
       "    </tr>\n",
       "    <tr>\n",
       "      <th>WorkChallengeFrequencyUnusedResults</th>\n",
       "      <td>0.118057</td>\n",
       "      <td>0.253221</td>\n",
       "      <td>1.000000</td>\n",
       "      <td>0.172568</td>\n",
       "      <td>0.085312</td>\n",
       "      <td>0.108340</td>\n",
       "      <td>0.236084</td>\n",
       "      <td>-0.067540</td>\n",
       "      <td>0.358166</td>\n",
       "      <td>0.144177</td>\n",
       "      <td>...</td>\n",
       "      <td>0.052326</td>\n",
       "      <td>0.144769</td>\n",
       "      <td>0.116164</td>\n",
       "      <td>0.022142</td>\n",
       "      <td>0.068165</td>\n",
       "      <td>0.071832</td>\n",
       "      <td>0.089919</td>\n",
       "      <td>0.195614</td>\n",
       "      <td>0.070394</td>\n",
       "      <td>-0.027244</td>\n",
       "    </tr>\n",
       "    <tr>\n",
       "      <th>WorkChallengeFrequencyUnusefulInstrumenting</th>\n",
       "      <td>0.078249</td>\n",
       "      <td>0.125299</td>\n",
       "      <td>0.172568</td>\n",
       "      <td>1.000000</td>\n",
       "      <td>0.112255</td>\n",
       "      <td>0.082423</td>\n",
       "      <td>0.110090</td>\n",
       "      <td>-0.031723</td>\n",
       "      <td>0.138677</td>\n",
       "      <td>0.094105</td>\n",
       "      <td>...</td>\n",
       "      <td>0.077292</td>\n",
       "      <td>0.139388</td>\n",
       "      <td>0.089727</td>\n",
       "      <td>0.038629</td>\n",
       "      <td>0.055562</td>\n",
       "      <td>0.118823</td>\n",
       "      <td>0.082920</td>\n",
       "      <td>0.136262</td>\n",
       "      <td>0.102498</td>\n",
       "      <td>-0.001098</td>\n",
       "    </tr>\n",
       "    <tr>\n",
       "      <th>WorkChallengeFrequencyDeployment</th>\n",
       "      <td>-0.039487</td>\n",
       "      <td>0.068786</td>\n",
       "      <td>0.085312</td>\n",
       "      <td>0.112255</td>\n",
       "      <td>1.000000</td>\n",
       "      <td>0.089669</td>\n",
       "      <td>0.096091</td>\n",
       "      <td>-0.062261</td>\n",
       "      <td>0.100610</td>\n",
       "      <td>0.054765</td>\n",
       "      <td>...</td>\n",
       "      <td>0.072813</td>\n",
       "      <td>0.146284</td>\n",
       "      <td>0.148703</td>\n",
       "      <td>-0.025879</td>\n",
       "      <td>0.063797</td>\n",
       "      <td>0.185499</td>\n",
       "      <td>0.121011</td>\n",
       "      <td>0.073967</td>\n",
       "      <td>0.118445</td>\n",
       "      <td>-0.005343</td>\n",
       "    </tr>\n",
       "    <tr>\n",
       "      <th>WorkChallengeFrequencyDirtyData</th>\n",
       "      <td>-0.068256</td>\n",
       "      <td>0.050069</td>\n",
       "      <td>0.108340</td>\n",
       "      <td>0.082423</td>\n",
       "      <td>0.089669</td>\n",
       "      <td>1.000000</td>\n",
       "      <td>0.161495</td>\n",
       "      <td>-0.136569</td>\n",
       "      <td>0.089129</td>\n",
       "      <td>0.047711</td>\n",
       "      <td>...</td>\n",
       "      <td>0.080551</td>\n",
       "      <td>0.163785</td>\n",
       "      <td>0.126356</td>\n",
       "      <td>-0.018237</td>\n",
       "      <td>0.133675</td>\n",
       "      <td>0.072324</td>\n",
       "      <td>0.139605</td>\n",
       "      <td>0.152560</td>\n",
       "      <td>0.209864</td>\n",
       "      <td>-0.040670</td>\n",
       "    </tr>\n",
       "    <tr>\n",
       "      <th>WorkChallengeFrequencyExplaining</th>\n",
       "      <td>0.022542</td>\n",
       "      <td>0.158601</td>\n",
       "      <td>0.236084</td>\n",
       "      <td>0.110090</td>\n",
       "      <td>0.096091</td>\n",
       "      <td>0.161495</td>\n",
       "      <td>1.000000</td>\n",
       "      <td>-0.069618</td>\n",
       "      <td>0.193029</td>\n",
       "      <td>0.186333</td>\n",
       "      <td>...</td>\n",
       "      <td>0.053489</td>\n",
       "      <td>0.229456</td>\n",
       "      <td>0.125516</td>\n",
       "      <td>0.057141</td>\n",
       "      <td>0.085651</td>\n",
       "      <td>0.099121</td>\n",
       "      <td>0.102796</td>\n",
       "      <td>0.162836</td>\n",
       "      <td>0.109187</td>\n",
       "      <td>-0.010597</td>\n",
       "    </tr>\n",
       "    <tr>\n",
       "      <th>WorkChallengeFrequencyPass</th>\n",
       "      <td>0.012318</td>\n",
       "      <td>-0.091219</td>\n",
       "      <td>-0.067540</td>\n",
       "      <td>-0.031723</td>\n",
       "      <td>-0.062261</td>\n",
       "      <td>-0.136569</td>\n",
       "      <td>-0.069618</td>\n",
       "      <td>1.000000</td>\n",
       "      <td>-0.057125</td>\n",
       "      <td>-0.109147</td>\n",
       "      <td>...</td>\n",
       "      <td>-0.043282</td>\n",
       "      <td>-0.054953</td>\n",
       "      <td>-0.068881</td>\n",
       "      <td>-0.048922</td>\n",
       "      <td>-0.050704</td>\n",
       "      <td>-0.047641</td>\n",
       "      <td>-0.068504</td>\n",
       "      <td>-0.096485</td>\n",
       "      <td>-0.086146</td>\n",
       "      <td>-0.010909</td>\n",
       "    </tr>\n",
       "    <tr>\n",
       "      <th>WorkChallengeFrequencyIntegration</th>\n",
       "      <td>0.082899</td>\n",
       "      <td>0.241217</td>\n",
       "      <td>0.358166</td>\n",
       "      <td>0.138677</td>\n",
       "      <td>0.100610</td>\n",
       "      <td>0.089129</td>\n",
       "      <td>0.193029</td>\n",
       "      <td>-0.057125</td>\n",
       "      <td>1.000000</td>\n",
       "      <td>0.137682</td>\n",
       "      <td>...</td>\n",
       "      <td>0.030585</td>\n",
       "      <td>0.185496</td>\n",
       "      <td>0.172750</td>\n",
       "      <td>0.022339</td>\n",
       "      <td>0.074054</td>\n",
       "      <td>0.089686</td>\n",
       "      <td>0.089064</td>\n",
       "      <td>0.195944</td>\n",
       "      <td>0.096513</td>\n",
       "      <td>-0.036517</td>\n",
       "    </tr>\n",
       "    <tr>\n",
       "      <th>WorkChallengeFrequencyTalent</th>\n",
       "      <td>0.184308</td>\n",
       "      <td>0.251429</td>\n",
       "      <td>0.144177</td>\n",
       "      <td>0.094105</td>\n",
       "      <td>0.054765</td>\n",
       "      <td>0.047711</td>\n",
       "      <td>0.186333</td>\n",
       "      <td>-0.109147</td>\n",
       "      <td>0.137682</td>\n",
       "      <td>1.000000</td>\n",
       "      <td>...</td>\n",
       "      <td>0.081855</td>\n",
       "      <td>0.091123</td>\n",
       "      <td>0.115102</td>\n",
       "      <td>0.199987</td>\n",
       "      <td>0.067681</td>\n",
       "      <td>0.067635</td>\n",
       "      <td>0.070689</td>\n",
       "      <td>0.080996</td>\n",
       "      <td>0.039738</td>\n",
       "      <td>-0.016921</td>\n",
       "    </tr>\n",
       "    <tr>\n",
       "      <th>WorkChallengeFrequencyDataFunds</th>\n",
       "      <td>0.049588</td>\n",
       "      <td>0.105192</td>\n",
       "      <td>0.054735</td>\n",
       "      <td>0.108804</td>\n",
       "      <td>0.023152</td>\n",
       "      <td>0.035017</td>\n",
       "      <td>0.049663</td>\n",
       "      <td>-0.048083</td>\n",
       "      <td>0.038919</td>\n",
       "      <td>0.075952</td>\n",
       "      <td>...</td>\n",
       "      <td>0.117373</td>\n",
       "      <td>0.054505</td>\n",
       "      <td>0.055095</td>\n",
       "      <td>0.175691</td>\n",
       "      <td>0.077455</td>\n",
       "      <td>0.081164</td>\n",
       "      <td>0.070537</td>\n",
       "      <td>0.049889</td>\n",
       "      <td>0.134326</td>\n",
       "      <td>-0.000279</td>\n",
       "    </tr>\n",
       "    <tr>\n",
       "      <th>WorkChallengeFrequencyDomainExpertise</th>\n",
       "      <td>0.090923</td>\n",
       "      <td>0.075755</td>\n",
       "      <td>0.084263</td>\n",
       "      <td>0.105454</td>\n",
       "      <td>0.033831</td>\n",
       "      <td>0.064749</td>\n",
       "      <td>0.073236</td>\n",
       "      <td>-0.063803</td>\n",
       "      <td>0.079038</td>\n",
       "      <td>0.174917</td>\n",
       "      <td>...</td>\n",
       "      <td>0.055616</td>\n",
       "      <td>0.091881</td>\n",
       "      <td>0.042797</td>\n",
       "      <td>0.061268</td>\n",
       "      <td>0.034405</td>\n",
       "      <td>0.076792</td>\n",
       "      <td>0.071534</td>\n",
       "      <td>0.165969</td>\n",
       "      <td>0.075297</td>\n",
       "      <td>0.003919</td>\n",
       "    </tr>\n",
       "    <tr>\n",
       "      <th>WorkChallengeFrequencyML</th>\n",
       "      <td>0.017725</td>\n",
       "      <td>0.002805</td>\n",
       "      <td>0.013032</td>\n",
       "      <td>0.059471</td>\n",
       "      <td>0.071265</td>\n",
       "      <td>-0.003187</td>\n",
       "      <td>0.073433</td>\n",
       "      <td>-0.038079</td>\n",
       "      <td>0.031166</td>\n",
       "      <td>0.099972</td>\n",
       "      <td>...</td>\n",
       "      <td>0.136709</td>\n",
       "      <td>0.066694</td>\n",
       "      <td>0.023656</td>\n",
       "      <td>0.043725</td>\n",
       "      <td>-0.001623</td>\n",
       "      <td>0.088771</td>\n",
       "      <td>0.095054</td>\n",
       "      <td>0.035776</td>\n",
       "      <td>0.027975</td>\n",
       "      <td>-0.001102</td>\n",
       "    </tr>\n",
       "    <tr>\n",
       "      <th>WorkChallengeFrequencyTools</th>\n",
       "      <td>0.071771</td>\n",
       "      <td>0.075986</td>\n",
       "      <td>0.052326</td>\n",
       "      <td>0.077292</td>\n",
       "      <td>0.072813</td>\n",
       "      <td>0.080551</td>\n",
       "      <td>0.053489</td>\n",
       "      <td>-0.043282</td>\n",
       "      <td>0.030585</td>\n",
       "      <td>0.081855</td>\n",
       "      <td>...</td>\n",
       "      <td>1.000000</td>\n",
       "      <td>0.035670</td>\n",
       "      <td>0.123796</td>\n",
       "      <td>0.038355</td>\n",
       "      <td>0.057872</td>\n",
       "      <td>0.080309</td>\n",
       "      <td>0.099185</td>\n",
       "      <td>-0.005347</td>\n",
       "      <td>0.108626</td>\n",
       "      <td>0.004810</td>\n",
       "    </tr>\n",
       "    <tr>\n",
       "      <th>WorkChallengeFrequencyExpectations</th>\n",
       "      <td>-0.031450</td>\n",
       "      <td>0.091912</td>\n",
       "      <td>0.144769</td>\n",
       "      <td>0.139388</td>\n",
       "      <td>0.146284</td>\n",
       "      <td>0.163785</td>\n",
       "      <td>0.229456</td>\n",
       "      <td>-0.054953</td>\n",
       "      <td>0.185496</td>\n",
       "      <td>0.091123</td>\n",
       "      <td>...</td>\n",
       "      <td>0.035670</td>\n",
       "      <td>1.000000</td>\n",
       "      <td>0.078306</td>\n",
       "      <td>0.004186</td>\n",
       "      <td>0.076246</td>\n",
       "      <td>0.134533</td>\n",
       "      <td>0.123590</td>\n",
       "      <td>0.221317</td>\n",
       "      <td>0.124547</td>\n",
       "      <td>0.001666</td>\n",
       "    </tr>\n",
       "    <tr>\n",
       "      <th>WorkChallengeFrequencyITCoordination</th>\n",
       "      <td>0.014732</td>\n",
       "      <td>0.177090</td>\n",
       "      <td>0.116164</td>\n",
       "      <td>0.089727</td>\n",
       "      <td>0.148703</td>\n",
       "      <td>0.126356</td>\n",
       "      <td>0.125516</td>\n",
       "      <td>-0.068881</td>\n",
       "      <td>0.172750</td>\n",
       "      <td>0.115102</td>\n",
       "      <td>...</td>\n",
       "      <td>0.123796</td>\n",
       "      <td>0.078306</td>\n",
       "      <td>1.000000</td>\n",
       "      <td>-0.035698</td>\n",
       "      <td>0.125061</td>\n",
       "      <td>0.105943</td>\n",
       "      <td>0.096241</td>\n",
       "      <td>0.060349</td>\n",
       "      <td>0.127290</td>\n",
       "      <td>-0.031528</td>\n",
       "    </tr>\n",
       "    <tr>\n",
       "      <th>WorkChallengeFrequencyHiringFunds</th>\n",
       "      <td>0.085227</td>\n",
       "      <td>0.095877</td>\n",
       "      <td>0.022142</td>\n",
       "      <td>0.038629</td>\n",
       "      <td>-0.025879</td>\n",
       "      <td>-0.018237</td>\n",
       "      <td>0.057141</td>\n",
       "      <td>-0.048922</td>\n",
       "      <td>0.022339</td>\n",
       "      <td>0.199987</td>\n",
       "      <td>...</td>\n",
       "      <td>0.038355</td>\n",
       "      <td>0.004186</td>\n",
       "      <td>-0.035698</td>\n",
       "      <td>1.000000</td>\n",
       "      <td>-0.019840</td>\n",
       "      <td>0.018824</td>\n",
       "      <td>-0.009157</td>\n",
       "      <td>0.034078</td>\n",
       "      <td>0.004753</td>\n",
       "      <td>-0.015056</td>\n",
       "    </tr>\n",
       "    <tr>\n",
       "      <th>WorkChallengeFrequencyPrivacy</th>\n",
       "      <td>-0.014127</td>\n",
       "      <td>0.121974</td>\n",
       "      <td>0.068165</td>\n",
       "      <td>0.055562</td>\n",
       "      <td>0.063797</td>\n",
       "      <td>0.133675</td>\n",
       "      <td>0.085651</td>\n",
       "      <td>-0.050704</td>\n",
       "      <td>0.074054</td>\n",
       "      <td>0.067681</td>\n",
       "      <td>...</td>\n",
       "      <td>0.057872</td>\n",
       "      <td>0.076246</td>\n",
       "      <td>0.125061</td>\n",
       "      <td>-0.019840</td>\n",
       "      <td>1.000000</td>\n",
       "      <td>0.068562</td>\n",
       "      <td>0.075381</td>\n",
       "      <td>0.060351</td>\n",
       "      <td>0.180287</td>\n",
       "      <td>-0.015965</td>\n",
       "    </tr>\n",
       "    <tr>\n",
       "      <th>WorkChallengeFrequencyScaling</th>\n",
       "      <td>-0.006555</td>\n",
       "      <td>0.084929</td>\n",
       "      <td>0.071832</td>\n",
       "      <td>0.118823</td>\n",
       "      <td>0.185499</td>\n",
       "      <td>0.072324</td>\n",
       "      <td>0.099121</td>\n",
       "      <td>-0.047641</td>\n",
       "      <td>0.089686</td>\n",
       "      <td>0.067635</td>\n",
       "      <td>...</td>\n",
       "      <td>0.080309</td>\n",
       "      <td>0.134533</td>\n",
       "      <td>0.105943</td>\n",
       "      <td>0.018824</td>\n",
       "      <td>0.068562</td>\n",
       "      <td>1.000000</td>\n",
       "      <td>0.160202</td>\n",
       "      <td>0.079453</td>\n",
       "      <td>0.078968</td>\n",
       "      <td>0.009397</td>\n",
       "    </tr>\n",
       "    <tr>\n",
       "      <th>WorkChallengeFrequencyEnvironments</th>\n",
       "      <td>-0.005816</td>\n",
       "      <td>0.080058</td>\n",
       "      <td>0.089919</td>\n",
       "      <td>0.082920</td>\n",
       "      <td>0.121011</td>\n",
       "      <td>0.139605</td>\n",
       "      <td>0.102796</td>\n",
       "      <td>-0.068504</td>\n",
       "      <td>0.089064</td>\n",
       "      <td>0.070689</td>\n",
       "      <td>...</td>\n",
       "      <td>0.099185</td>\n",
       "      <td>0.123590</td>\n",
       "      <td>0.096241</td>\n",
       "      <td>-0.009157</td>\n",
       "      <td>0.075381</td>\n",
       "      <td>0.160202</td>\n",
       "      <td>1.000000</td>\n",
       "      <td>0.103925</td>\n",
       "      <td>0.077610</td>\n",
       "      <td>-0.013722</td>\n",
       "    </tr>\n",
       "    <tr>\n",
       "      <th>WorkChallengeFrequencyClarity</th>\n",
       "      <td>0.046306</td>\n",
       "      <td>0.133983</td>\n",
       "      <td>0.195614</td>\n",
       "      <td>0.136262</td>\n",
       "      <td>0.073967</td>\n",
       "      <td>0.152560</td>\n",
       "      <td>0.162836</td>\n",
       "      <td>-0.096485</td>\n",
       "      <td>0.195944</td>\n",
       "      <td>0.080996</td>\n",
       "      <td>...</td>\n",
       "      <td>-0.005347</td>\n",
       "      <td>0.221317</td>\n",
       "      <td>0.060349</td>\n",
       "      <td>0.034078</td>\n",
       "      <td>0.060351</td>\n",
       "      <td>0.079453</td>\n",
       "      <td>0.103925</td>\n",
       "      <td>1.000000</td>\n",
       "      <td>0.120958</td>\n",
       "      <td>-0.042979</td>\n",
       "    </tr>\n",
       "    <tr>\n",
       "      <th>WorkChallengeFrequencyDataAccess</th>\n",
       "      <td>-0.055942</td>\n",
       "      <td>0.059931</td>\n",
       "      <td>0.070394</td>\n",
       "      <td>0.102498</td>\n",
       "      <td>0.118445</td>\n",
       "      <td>0.209864</td>\n",
       "      <td>0.109187</td>\n",
       "      <td>-0.086146</td>\n",
       "      <td>0.096513</td>\n",
       "      <td>0.039738</td>\n",
       "      <td>...</td>\n",
       "      <td>0.108626</td>\n",
       "      <td>0.124547</td>\n",
       "      <td>0.127290</td>\n",
       "      <td>0.004753</td>\n",
       "      <td>0.180287</td>\n",
       "      <td>0.078968</td>\n",
       "      <td>0.077610</td>\n",
       "      <td>0.120958</td>\n",
       "      <td>1.000000</td>\n",
       "      <td>-0.015414</td>\n",
       "    </tr>\n",
       "    <tr>\n",
       "      <th>WorkChallengeFrequencyOtherSelect</th>\n",
       "      <td>0.016071</td>\n",
       "      <td>-0.010531</td>\n",
       "      <td>-0.027244</td>\n",
       "      <td>-0.001098</td>\n",
       "      <td>-0.005343</td>\n",
       "      <td>-0.040670</td>\n",
       "      <td>-0.010597</td>\n",
       "      <td>-0.010909</td>\n",
       "      <td>-0.036517</td>\n",
       "      <td>-0.016921</td>\n",
       "      <td>...</td>\n",
       "      <td>0.004810</td>\n",
       "      <td>0.001666</td>\n",
       "      <td>-0.031528</td>\n",
       "      <td>-0.015056</td>\n",
       "      <td>-0.015965</td>\n",
       "      <td>0.009397</td>\n",
       "      <td>-0.013722</td>\n",
       "      <td>-0.042979</td>\n",
       "      <td>-0.015414</td>\n",
       "      <td>1.000000</td>\n",
       "    </tr>\n",
       "  </tbody>\n",
       "</table>\n",
       "<p>23 rows × 23 columns</p>\n",
       "</div>"
      ],
      "text/plain": [
       "                                             JobSatisfaction  \\\n",
       "JobSatisfaction                                     1.000000   \n",
       "WorkChallengeFrequencyPolitics                      0.254710   \n",
       "WorkChallengeFrequencyUnusedResults                 0.118057   \n",
       "WorkChallengeFrequencyUnusefulInstrumenting         0.078249   \n",
       "WorkChallengeFrequencyDeployment                   -0.039487   \n",
       "WorkChallengeFrequencyDirtyData                    -0.068256   \n",
       "WorkChallengeFrequencyExplaining                    0.022542   \n",
       "WorkChallengeFrequencyPass                          0.012318   \n",
       "WorkChallengeFrequencyIntegration                   0.082899   \n",
       "WorkChallengeFrequencyTalent                        0.184308   \n",
       "WorkChallengeFrequencyDataFunds                     0.049588   \n",
       "WorkChallengeFrequencyDomainExpertise               0.090923   \n",
       "WorkChallengeFrequencyML                            0.017725   \n",
       "WorkChallengeFrequencyTools                         0.071771   \n",
       "WorkChallengeFrequencyExpectations                 -0.031450   \n",
       "WorkChallengeFrequencyITCoordination                0.014732   \n",
       "WorkChallengeFrequencyHiringFunds                   0.085227   \n",
       "WorkChallengeFrequencyPrivacy                      -0.014127   \n",
       "WorkChallengeFrequencyScaling                      -0.006555   \n",
       "WorkChallengeFrequencyEnvironments                 -0.005816   \n",
       "WorkChallengeFrequencyClarity                       0.046306   \n",
       "WorkChallengeFrequencyDataAccess                   -0.055942   \n",
       "WorkChallengeFrequencyOtherSelect                   0.016071   \n",
       "\n",
       "                                             WorkChallengeFrequencyPolitics  \\\n",
       "JobSatisfaction                                                    0.254710   \n",
       "WorkChallengeFrequencyPolitics                                     1.000000   \n",
       "WorkChallengeFrequencyUnusedResults                                0.253221   \n",
       "WorkChallengeFrequencyUnusefulInstrumenting                        0.125299   \n",
       "WorkChallengeFrequencyDeployment                                   0.068786   \n",
       "WorkChallengeFrequencyDirtyData                                    0.050069   \n",
       "WorkChallengeFrequencyExplaining                                   0.158601   \n",
       "WorkChallengeFrequencyPass                                        -0.091219   \n",
       "WorkChallengeFrequencyIntegration                                  0.241217   \n",
       "WorkChallengeFrequencyTalent                                       0.251429   \n",
       "WorkChallengeFrequencyDataFunds                                    0.105192   \n",
       "WorkChallengeFrequencyDomainExpertise                              0.075755   \n",
       "WorkChallengeFrequencyML                                           0.002805   \n",
       "WorkChallengeFrequencyTools                                        0.075986   \n",
       "WorkChallengeFrequencyExpectations                                 0.091912   \n",
       "WorkChallengeFrequencyITCoordination                               0.177090   \n",
       "WorkChallengeFrequencyHiringFunds                                  0.095877   \n",
       "WorkChallengeFrequencyPrivacy                                      0.121974   \n",
       "WorkChallengeFrequencyScaling                                      0.084929   \n",
       "WorkChallengeFrequencyEnvironments                                 0.080058   \n",
       "WorkChallengeFrequencyClarity                                      0.133983   \n",
       "WorkChallengeFrequencyDataAccess                                   0.059931   \n",
       "WorkChallengeFrequencyOtherSelect                                 -0.010531   \n",
       "\n",
       "                                             WorkChallengeFrequencyUnusedResults  \\\n",
       "JobSatisfaction                                                         0.118057   \n",
       "WorkChallengeFrequencyPolitics                                          0.253221   \n",
       "WorkChallengeFrequencyUnusedResults                                     1.000000   \n",
       "WorkChallengeFrequencyUnusefulInstrumenting                             0.172568   \n",
       "WorkChallengeFrequencyDeployment                                        0.085312   \n",
       "WorkChallengeFrequencyDirtyData                                         0.108340   \n",
       "WorkChallengeFrequencyExplaining                                        0.236084   \n",
       "WorkChallengeFrequencyPass                                             -0.067540   \n",
       "WorkChallengeFrequencyIntegration                                       0.358166   \n",
       "WorkChallengeFrequencyTalent                                            0.144177   \n",
       "WorkChallengeFrequencyDataFunds                                         0.054735   \n",
       "WorkChallengeFrequencyDomainExpertise                                   0.084263   \n",
       "WorkChallengeFrequencyML                                                0.013032   \n",
       "WorkChallengeFrequencyTools                                             0.052326   \n",
       "WorkChallengeFrequencyExpectations                                      0.144769   \n",
       "WorkChallengeFrequencyITCoordination                                    0.116164   \n",
       "WorkChallengeFrequencyHiringFunds                                       0.022142   \n",
       "WorkChallengeFrequencyPrivacy                                           0.068165   \n",
       "WorkChallengeFrequencyScaling                                           0.071832   \n",
       "WorkChallengeFrequencyEnvironments                                      0.089919   \n",
       "WorkChallengeFrequencyClarity                                           0.195614   \n",
       "WorkChallengeFrequencyDataAccess                                        0.070394   \n",
       "WorkChallengeFrequencyOtherSelect                                      -0.027244   \n",
       "\n",
       "                                             WorkChallengeFrequencyUnusefulInstrumenting  \\\n",
       "JobSatisfaction                                                                 0.078249   \n",
       "WorkChallengeFrequencyPolitics                                                  0.125299   \n",
       "WorkChallengeFrequencyUnusedResults                                             0.172568   \n",
       "WorkChallengeFrequencyUnusefulInstrumenting                                     1.000000   \n",
       "WorkChallengeFrequencyDeployment                                                0.112255   \n",
       "WorkChallengeFrequencyDirtyData                                                 0.082423   \n",
       "WorkChallengeFrequencyExplaining                                                0.110090   \n",
       "WorkChallengeFrequencyPass                                                     -0.031723   \n",
       "WorkChallengeFrequencyIntegration                                               0.138677   \n",
       "WorkChallengeFrequencyTalent                                                    0.094105   \n",
       "WorkChallengeFrequencyDataFunds                                                 0.108804   \n",
       "WorkChallengeFrequencyDomainExpertise                                           0.105454   \n",
       "WorkChallengeFrequencyML                                                        0.059471   \n",
       "WorkChallengeFrequencyTools                                                     0.077292   \n",
       "WorkChallengeFrequencyExpectations                                              0.139388   \n",
       "WorkChallengeFrequencyITCoordination                                            0.089727   \n",
       "WorkChallengeFrequencyHiringFunds                                               0.038629   \n",
       "WorkChallengeFrequencyPrivacy                                                   0.055562   \n",
       "WorkChallengeFrequencyScaling                                                   0.118823   \n",
       "WorkChallengeFrequencyEnvironments                                              0.082920   \n",
       "WorkChallengeFrequencyClarity                                                   0.136262   \n",
       "WorkChallengeFrequencyDataAccess                                                0.102498   \n",
       "WorkChallengeFrequencyOtherSelect                                              -0.001098   \n",
       "\n",
       "                                             WorkChallengeFrequencyDeployment  \\\n",
       "JobSatisfaction                                                     -0.039487   \n",
       "WorkChallengeFrequencyPolitics                                       0.068786   \n",
       "WorkChallengeFrequencyUnusedResults                                  0.085312   \n",
       "WorkChallengeFrequencyUnusefulInstrumenting                          0.112255   \n",
       "WorkChallengeFrequencyDeployment                                     1.000000   \n",
       "WorkChallengeFrequencyDirtyData                                      0.089669   \n",
       "WorkChallengeFrequencyExplaining                                     0.096091   \n",
       "WorkChallengeFrequencyPass                                          -0.062261   \n",
       "WorkChallengeFrequencyIntegration                                    0.100610   \n",
       "WorkChallengeFrequencyTalent                                         0.054765   \n",
       "WorkChallengeFrequencyDataFunds                                      0.023152   \n",
       "WorkChallengeFrequencyDomainExpertise                                0.033831   \n",
       "WorkChallengeFrequencyML                                             0.071265   \n",
       "WorkChallengeFrequencyTools                                          0.072813   \n",
       "WorkChallengeFrequencyExpectations                                   0.146284   \n",
       "WorkChallengeFrequencyITCoordination                                 0.148703   \n",
       "WorkChallengeFrequencyHiringFunds                                   -0.025879   \n",
       "WorkChallengeFrequencyPrivacy                                        0.063797   \n",
       "WorkChallengeFrequencyScaling                                        0.185499   \n",
       "WorkChallengeFrequencyEnvironments                                   0.121011   \n",
       "WorkChallengeFrequencyClarity                                        0.073967   \n",
       "WorkChallengeFrequencyDataAccess                                     0.118445   \n",
       "WorkChallengeFrequencyOtherSelect                                   -0.005343   \n",
       "\n",
       "                                             WorkChallengeFrequencyDirtyData  \\\n",
       "JobSatisfaction                                                    -0.068256   \n",
       "WorkChallengeFrequencyPolitics                                      0.050069   \n",
       "WorkChallengeFrequencyUnusedResults                                 0.108340   \n",
       "WorkChallengeFrequencyUnusefulInstrumenting                         0.082423   \n",
       "WorkChallengeFrequencyDeployment                                    0.089669   \n",
       "WorkChallengeFrequencyDirtyData                                     1.000000   \n",
       "WorkChallengeFrequencyExplaining                                    0.161495   \n",
       "WorkChallengeFrequencyPass                                         -0.136569   \n",
       "WorkChallengeFrequencyIntegration                                   0.089129   \n",
       "WorkChallengeFrequencyTalent                                        0.047711   \n",
       "WorkChallengeFrequencyDataFunds                                     0.035017   \n",
       "WorkChallengeFrequencyDomainExpertise                               0.064749   \n",
       "WorkChallengeFrequencyML                                           -0.003187   \n",
       "WorkChallengeFrequencyTools                                         0.080551   \n",
       "WorkChallengeFrequencyExpectations                                  0.163785   \n",
       "WorkChallengeFrequencyITCoordination                                0.126356   \n",
       "WorkChallengeFrequencyHiringFunds                                  -0.018237   \n",
       "WorkChallengeFrequencyPrivacy                                       0.133675   \n",
       "WorkChallengeFrequencyScaling                                       0.072324   \n",
       "WorkChallengeFrequencyEnvironments                                  0.139605   \n",
       "WorkChallengeFrequencyClarity                                       0.152560   \n",
       "WorkChallengeFrequencyDataAccess                                    0.209864   \n",
       "WorkChallengeFrequencyOtherSelect                                  -0.040670   \n",
       "\n",
       "                                             WorkChallengeFrequencyExplaining  \\\n",
       "JobSatisfaction                                                      0.022542   \n",
       "WorkChallengeFrequencyPolitics                                       0.158601   \n",
       "WorkChallengeFrequencyUnusedResults                                  0.236084   \n",
       "WorkChallengeFrequencyUnusefulInstrumenting                          0.110090   \n",
       "WorkChallengeFrequencyDeployment                                     0.096091   \n",
       "WorkChallengeFrequencyDirtyData                                      0.161495   \n",
       "WorkChallengeFrequencyExplaining                                     1.000000   \n",
       "WorkChallengeFrequencyPass                                          -0.069618   \n",
       "WorkChallengeFrequencyIntegration                                    0.193029   \n",
       "WorkChallengeFrequencyTalent                                         0.186333   \n",
       "WorkChallengeFrequencyDataFunds                                      0.049663   \n",
       "WorkChallengeFrequencyDomainExpertise                                0.073236   \n",
       "WorkChallengeFrequencyML                                             0.073433   \n",
       "WorkChallengeFrequencyTools                                          0.053489   \n",
       "WorkChallengeFrequencyExpectations                                   0.229456   \n",
       "WorkChallengeFrequencyITCoordination                                 0.125516   \n",
       "WorkChallengeFrequencyHiringFunds                                    0.057141   \n",
       "WorkChallengeFrequencyPrivacy                                        0.085651   \n",
       "WorkChallengeFrequencyScaling                                        0.099121   \n",
       "WorkChallengeFrequencyEnvironments                                   0.102796   \n",
       "WorkChallengeFrequencyClarity                                        0.162836   \n",
       "WorkChallengeFrequencyDataAccess                                     0.109187   \n",
       "WorkChallengeFrequencyOtherSelect                                   -0.010597   \n",
       "\n",
       "                                             WorkChallengeFrequencyPass  \\\n",
       "JobSatisfaction                                                0.012318   \n",
       "WorkChallengeFrequencyPolitics                                -0.091219   \n",
       "WorkChallengeFrequencyUnusedResults                           -0.067540   \n",
       "WorkChallengeFrequencyUnusefulInstrumenting                   -0.031723   \n",
       "WorkChallengeFrequencyDeployment                              -0.062261   \n",
       "WorkChallengeFrequencyDirtyData                               -0.136569   \n",
       "WorkChallengeFrequencyExplaining                              -0.069618   \n",
       "WorkChallengeFrequencyPass                                     1.000000   \n",
       "WorkChallengeFrequencyIntegration                             -0.057125   \n",
       "WorkChallengeFrequencyTalent                                  -0.109147   \n",
       "WorkChallengeFrequencyDataFunds                               -0.048083   \n",
       "WorkChallengeFrequencyDomainExpertise                         -0.063803   \n",
       "WorkChallengeFrequencyML                                      -0.038079   \n",
       "WorkChallengeFrequencyTools                                   -0.043282   \n",
       "WorkChallengeFrequencyExpectations                            -0.054953   \n",
       "WorkChallengeFrequencyITCoordination                          -0.068881   \n",
       "WorkChallengeFrequencyHiringFunds                             -0.048922   \n",
       "WorkChallengeFrequencyPrivacy                                 -0.050704   \n",
       "WorkChallengeFrequencyScaling                                 -0.047641   \n",
       "WorkChallengeFrequencyEnvironments                            -0.068504   \n",
       "WorkChallengeFrequencyClarity                                 -0.096485   \n",
       "WorkChallengeFrequencyDataAccess                              -0.086146   \n",
       "WorkChallengeFrequencyOtherSelect                             -0.010909   \n",
       "\n",
       "                                             WorkChallengeFrequencyIntegration  \\\n",
       "JobSatisfaction                                                       0.082899   \n",
       "WorkChallengeFrequencyPolitics                                        0.241217   \n",
       "WorkChallengeFrequencyUnusedResults                                   0.358166   \n",
       "WorkChallengeFrequencyUnusefulInstrumenting                           0.138677   \n",
       "WorkChallengeFrequencyDeployment                                      0.100610   \n",
       "WorkChallengeFrequencyDirtyData                                       0.089129   \n",
       "WorkChallengeFrequencyExplaining                                      0.193029   \n",
       "WorkChallengeFrequencyPass                                           -0.057125   \n",
       "WorkChallengeFrequencyIntegration                                     1.000000   \n",
       "WorkChallengeFrequencyTalent                                          0.137682   \n",
       "WorkChallengeFrequencyDataFunds                                       0.038919   \n",
       "WorkChallengeFrequencyDomainExpertise                                 0.079038   \n",
       "WorkChallengeFrequencyML                                              0.031166   \n",
       "WorkChallengeFrequencyTools                                           0.030585   \n",
       "WorkChallengeFrequencyExpectations                                    0.185496   \n",
       "WorkChallengeFrequencyITCoordination                                  0.172750   \n",
       "WorkChallengeFrequencyHiringFunds                                     0.022339   \n",
       "WorkChallengeFrequencyPrivacy                                         0.074054   \n",
       "WorkChallengeFrequencyScaling                                         0.089686   \n",
       "WorkChallengeFrequencyEnvironments                                    0.089064   \n",
       "WorkChallengeFrequencyClarity                                         0.195944   \n",
       "WorkChallengeFrequencyDataAccess                                      0.096513   \n",
       "WorkChallengeFrequencyOtherSelect                                    -0.036517   \n",
       "\n",
       "                                             WorkChallengeFrequencyTalent  \\\n",
       "JobSatisfaction                                                  0.184308   \n",
       "WorkChallengeFrequencyPolitics                                   0.251429   \n",
       "WorkChallengeFrequencyUnusedResults                              0.144177   \n",
       "WorkChallengeFrequencyUnusefulInstrumenting                      0.094105   \n",
       "WorkChallengeFrequencyDeployment                                 0.054765   \n",
       "WorkChallengeFrequencyDirtyData                                  0.047711   \n",
       "WorkChallengeFrequencyExplaining                                 0.186333   \n",
       "WorkChallengeFrequencyPass                                      -0.109147   \n",
       "WorkChallengeFrequencyIntegration                                0.137682   \n",
       "WorkChallengeFrequencyTalent                                     1.000000   \n",
       "WorkChallengeFrequencyDataFunds                                  0.075952   \n",
       "WorkChallengeFrequencyDomainExpertise                            0.174917   \n",
       "WorkChallengeFrequencyML                                         0.099972   \n",
       "WorkChallengeFrequencyTools                                      0.081855   \n",
       "WorkChallengeFrequencyExpectations                               0.091123   \n",
       "WorkChallengeFrequencyITCoordination                             0.115102   \n",
       "WorkChallengeFrequencyHiringFunds                                0.199987   \n",
       "WorkChallengeFrequencyPrivacy                                    0.067681   \n",
       "WorkChallengeFrequencyScaling                                    0.067635   \n",
       "WorkChallengeFrequencyEnvironments                               0.070689   \n",
       "WorkChallengeFrequencyClarity                                    0.080996   \n",
       "WorkChallengeFrequencyDataAccess                                 0.039738   \n",
       "WorkChallengeFrequencyOtherSelect                               -0.016921   \n",
       "\n",
       "                                                           ...                  \\\n",
       "JobSatisfaction                                            ...                   \n",
       "WorkChallengeFrequencyPolitics                             ...                   \n",
       "WorkChallengeFrequencyUnusedResults                        ...                   \n",
       "WorkChallengeFrequencyUnusefulInstrumenting                ...                   \n",
       "WorkChallengeFrequencyDeployment                           ...                   \n",
       "WorkChallengeFrequencyDirtyData                            ...                   \n",
       "WorkChallengeFrequencyExplaining                           ...                   \n",
       "WorkChallengeFrequencyPass                                 ...                   \n",
       "WorkChallengeFrequencyIntegration                          ...                   \n",
       "WorkChallengeFrequencyTalent                               ...                   \n",
       "WorkChallengeFrequencyDataFunds                            ...                   \n",
       "WorkChallengeFrequencyDomainExpertise                      ...                   \n",
       "WorkChallengeFrequencyML                                   ...                   \n",
       "WorkChallengeFrequencyTools                                ...                   \n",
       "WorkChallengeFrequencyExpectations                         ...                   \n",
       "WorkChallengeFrequencyITCoordination                       ...                   \n",
       "WorkChallengeFrequencyHiringFunds                          ...                   \n",
       "WorkChallengeFrequencyPrivacy                              ...                   \n",
       "WorkChallengeFrequencyScaling                              ...                   \n",
       "WorkChallengeFrequencyEnvironments                         ...                   \n",
       "WorkChallengeFrequencyClarity                              ...                   \n",
       "WorkChallengeFrequencyDataAccess                           ...                   \n",
       "WorkChallengeFrequencyOtherSelect                          ...                   \n",
       "\n",
       "                                             WorkChallengeFrequencyTools  \\\n",
       "JobSatisfaction                                                 0.071771   \n",
       "WorkChallengeFrequencyPolitics                                  0.075986   \n",
       "WorkChallengeFrequencyUnusedResults                             0.052326   \n",
       "WorkChallengeFrequencyUnusefulInstrumenting                     0.077292   \n",
       "WorkChallengeFrequencyDeployment                                0.072813   \n",
       "WorkChallengeFrequencyDirtyData                                 0.080551   \n",
       "WorkChallengeFrequencyExplaining                                0.053489   \n",
       "WorkChallengeFrequencyPass                                     -0.043282   \n",
       "WorkChallengeFrequencyIntegration                               0.030585   \n",
       "WorkChallengeFrequencyTalent                                    0.081855   \n",
       "WorkChallengeFrequencyDataFunds                                 0.117373   \n",
       "WorkChallengeFrequencyDomainExpertise                           0.055616   \n",
       "WorkChallengeFrequencyML                                        0.136709   \n",
       "WorkChallengeFrequencyTools                                     1.000000   \n",
       "WorkChallengeFrequencyExpectations                              0.035670   \n",
       "WorkChallengeFrequencyITCoordination                            0.123796   \n",
       "WorkChallengeFrequencyHiringFunds                               0.038355   \n",
       "WorkChallengeFrequencyPrivacy                                   0.057872   \n",
       "WorkChallengeFrequencyScaling                                   0.080309   \n",
       "WorkChallengeFrequencyEnvironments                              0.099185   \n",
       "WorkChallengeFrequencyClarity                                  -0.005347   \n",
       "WorkChallengeFrequencyDataAccess                                0.108626   \n",
       "WorkChallengeFrequencyOtherSelect                               0.004810   \n",
       "\n",
       "                                             WorkChallengeFrequencyExpectations  \\\n",
       "JobSatisfaction                                                       -0.031450   \n",
       "WorkChallengeFrequencyPolitics                                         0.091912   \n",
       "WorkChallengeFrequencyUnusedResults                                    0.144769   \n",
       "WorkChallengeFrequencyUnusefulInstrumenting                            0.139388   \n",
       "WorkChallengeFrequencyDeployment                                       0.146284   \n",
       "WorkChallengeFrequencyDirtyData                                        0.163785   \n",
       "WorkChallengeFrequencyExplaining                                       0.229456   \n",
       "WorkChallengeFrequencyPass                                            -0.054953   \n",
       "WorkChallengeFrequencyIntegration                                      0.185496   \n",
       "WorkChallengeFrequencyTalent                                           0.091123   \n",
       "WorkChallengeFrequencyDataFunds                                        0.054505   \n",
       "WorkChallengeFrequencyDomainExpertise                                  0.091881   \n",
       "WorkChallengeFrequencyML                                               0.066694   \n",
       "WorkChallengeFrequencyTools                                            0.035670   \n",
       "WorkChallengeFrequencyExpectations                                     1.000000   \n",
       "WorkChallengeFrequencyITCoordination                                   0.078306   \n",
       "WorkChallengeFrequencyHiringFunds                                      0.004186   \n",
       "WorkChallengeFrequencyPrivacy                                          0.076246   \n",
       "WorkChallengeFrequencyScaling                                          0.134533   \n",
       "WorkChallengeFrequencyEnvironments                                     0.123590   \n",
       "WorkChallengeFrequencyClarity                                          0.221317   \n",
       "WorkChallengeFrequencyDataAccess                                       0.124547   \n",
       "WorkChallengeFrequencyOtherSelect                                      0.001666   \n",
       "\n",
       "                                             WorkChallengeFrequencyITCoordination  \\\n",
       "JobSatisfaction                                                          0.014732   \n",
       "WorkChallengeFrequencyPolitics                                           0.177090   \n",
       "WorkChallengeFrequencyUnusedResults                                      0.116164   \n",
       "WorkChallengeFrequencyUnusefulInstrumenting                              0.089727   \n",
       "WorkChallengeFrequencyDeployment                                         0.148703   \n",
       "WorkChallengeFrequencyDirtyData                                          0.126356   \n",
       "WorkChallengeFrequencyExplaining                                         0.125516   \n",
       "WorkChallengeFrequencyPass                                              -0.068881   \n",
       "WorkChallengeFrequencyIntegration                                        0.172750   \n",
       "WorkChallengeFrequencyTalent                                             0.115102   \n",
       "WorkChallengeFrequencyDataFunds                                          0.055095   \n",
       "WorkChallengeFrequencyDomainExpertise                                    0.042797   \n",
       "WorkChallengeFrequencyML                                                 0.023656   \n",
       "WorkChallengeFrequencyTools                                              0.123796   \n",
       "WorkChallengeFrequencyExpectations                                       0.078306   \n",
       "WorkChallengeFrequencyITCoordination                                     1.000000   \n",
       "WorkChallengeFrequencyHiringFunds                                       -0.035698   \n",
       "WorkChallengeFrequencyPrivacy                                            0.125061   \n",
       "WorkChallengeFrequencyScaling                                            0.105943   \n",
       "WorkChallengeFrequencyEnvironments                                       0.096241   \n",
       "WorkChallengeFrequencyClarity                                            0.060349   \n",
       "WorkChallengeFrequencyDataAccess                                         0.127290   \n",
       "WorkChallengeFrequencyOtherSelect                                       -0.031528   \n",
       "\n",
       "                                             WorkChallengeFrequencyHiringFunds  \\\n",
       "JobSatisfaction                                                       0.085227   \n",
       "WorkChallengeFrequencyPolitics                                        0.095877   \n",
       "WorkChallengeFrequencyUnusedResults                                   0.022142   \n",
       "WorkChallengeFrequencyUnusefulInstrumenting                           0.038629   \n",
       "WorkChallengeFrequencyDeployment                                     -0.025879   \n",
       "WorkChallengeFrequencyDirtyData                                      -0.018237   \n",
       "WorkChallengeFrequencyExplaining                                      0.057141   \n",
       "WorkChallengeFrequencyPass                                           -0.048922   \n",
       "WorkChallengeFrequencyIntegration                                     0.022339   \n",
       "WorkChallengeFrequencyTalent                                          0.199987   \n",
       "WorkChallengeFrequencyDataFunds                                       0.175691   \n",
       "WorkChallengeFrequencyDomainExpertise                                 0.061268   \n",
       "WorkChallengeFrequencyML                                              0.043725   \n",
       "WorkChallengeFrequencyTools                                           0.038355   \n",
       "WorkChallengeFrequencyExpectations                                    0.004186   \n",
       "WorkChallengeFrequencyITCoordination                                 -0.035698   \n",
       "WorkChallengeFrequencyHiringFunds                                     1.000000   \n",
       "WorkChallengeFrequencyPrivacy                                        -0.019840   \n",
       "WorkChallengeFrequencyScaling                                         0.018824   \n",
       "WorkChallengeFrequencyEnvironments                                   -0.009157   \n",
       "WorkChallengeFrequencyClarity                                         0.034078   \n",
       "WorkChallengeFrequencyDataAccess                                      0.004753   \n",
       "WorkChallengeFrequencyOtherSelect                                    -0.015056   \n",
       "\n",
       "                                             WorkChallengeFrequencyPrivacy  \\\n",
       "JobSatisfaction                                                  -0.014127   \n",
       "WorkChallengeFrequencyPolitics                                    0.121974   \n",
       "WorkChallengeFrequencyUnusedResults                               0.068165   \n",
       "WorkChallengeFrequencyUnusefulInstrumenting                       0.055562   \n",
       "WorkChallengeFrequencyDeployment                                  0.063797   \n",
       "WorkChallengeFrequencyDirtyData                                   0.133675   \n",
       "WorkChallengeFrequencyExplaining                                  0.085651   \n",
       "WorkChallengeFrequencyPass                                       -0.050704   \n",
       "WorkChallengeFrequencyIntegration                                 0.074054   \n",
       "WorkChallengeFrequencyTalent                                      0.067681   \n",
       "WorkChallengeFrequencyDataFunds                                   0.077455   \n",
       "WorkChallengeFrequencyDomainExpertise                             0.034405   \n",
       "WorkChallengeFrequencyML                                         -0.001623   \n",
       "WorkChallengeFrequencyTools                                       0.057872   \n",
       "WorkChallengeFrequencyExpectations                                0.076246   \n",
       "WorkChallengeFrequencyITCoordination                              0.125061   \n",
       "WorkChallengeFrequencyHiringFunds                                -0.019840   \n",
       "WorkChallengeFrequencyPrivacy                                     1.000000   \n",
       "WorkChallengeFrequencyScaling                                     0.068562   \n",
       "WorkChallengeFrequencyEnvironments                                0.075381   \n",
       "WorkChallengeFrequencyClarity                                     0.060351   \n",
       "WorkChallengeFrequencyDataAccess                                  0.180287   \n",
       "WorkChallengeFrequencyOtherSelect                                -0.015965   \n",
       "\n",
       "                                             WorkChallengeFrequencyScaling  \\\n",
       "JobSatisfaction                                                  -0.006555   \n",
       "WorkChallengeFrequencyPolitics                                    0.084929   \n",
       "WorkChallengeFrequencyUnusedResults                               0.071832   \n",
       "WorkChallengeFrequencyUnusefulInstrumenting                       0.118823   \n",
       "WorkChallengeFrequencyDeployment                                  0.185499   \n",
       "WorkChallengeFrequencyDirtyData                                   0.072324   \n",
       "WorkChallengeFrequencyExplaining                                  0.099121   \n",
       "WorkChallengeFrequencyPass                                       -0.047641   \n",
       "WorkChallengeFrequencyIntegration                                 0.089686   \n",
       "WorkChallengeFrequencyTalent                                      0.067635   \n",
       "WorkChallengeFrequencyDataFunds                                   0.081164   \n",
       "WorkChallengeFrequencyDomainExpertise                             0.076792   \n",
       "WorkChallengeFrequencyML                                          0.088771   \n",
       "WorkChallengeFrequencyTools                                       0.080309   \n",
       "WorkChallengeFrequencyExpectations                                0.134533   \n",
       "WorkChallengeFrequencyITCoordination                              0.105943   \n",
       "WorkChallengeFrequencyHiringFunds                                 0.018824   \n",
       "WorkChallengeFrequencyPrivacy                                     0.068562   \n",
       "WorkChallengeFrequencyScaling                                     1.000000   \n",
       "WorkChallengeFrequencyEnvironments                                0.160202   \n",
       "WorkChallengeFrequencyClarity                                     0.079453   \n",
       "WorkChallengeFrequencyDataAccess                                  0.078968   \n",
       "WorkChallengeFrequencyOtherSelect                                 0.009397   \n",
       "\n",
       "                                             WorkChallengeFrequencyEnvironments  \\\n",
       "JobSatisfaction                                                       -0.005816   \n",
       "WorkChallengeFrequencyPolitics                                         0.080058   \n",
       "WorkChallengeFrequencyUnusedResults                                    0.089919   \n",
       "WorkChallengeFrequencyUnusefulInstrumenting                            0.082920   \n",
       "WorkChallengeFrequencyDeployment                                       0.121011   \n",
       "WorkChallengeFrequencyDirtyData                                        0.139605   \n",
       "WorkChallengeFrequencyExplaining                                       0.102796   \n",
       "WorkChallengeFrequencyPass                                            -0.068504   \n",
       "WorkChallengeFrequencyIntegration                                      0.089064   \n",
       "WorkChallengeFrequencyTalent                                           0.070689   \n",
       "WorkChallengeFrequencyDataFunds                                        0.070537   \n",
       "WorkChallengeFrequencyDomainExpertise                                  0.071534   \n",
       "WorkChallengeFrequencyML                                               0.095054   \n",
       "WorkChallengeFrequencyTools                                            0.099185   \n",
       "WorkChallengeFrequencyExpectations                                     0.123590   \n",
       "WorkChallengeFrequencyITCoordination                                   0.096241   \n",
       "WorkChallengeFrequencyHiringFunds                                     -0.009157   \n",
       "WorkChallengeFrequencyPrivacy                                          0.075381   \n",
       "WorkChallengeFrequencyScaling                                          0.160202   \n",
       "WorkChallengeFrequencyEnvironments                                     1.000000   \n",
       "WorkChallengeFrequencyClarity                                          0.103925   \n",
       "WorkChallengeFrequencyDataAccess                                       0.077610   \n",
       "WorkChallengeFrequencyOtherSelect                                     -0.013722   \n",
       "\n",
       "                                             WorkChallengeFrequencyClarity  \\\n",
       "JobSatisfaction                                                   0.046306   \n",
       "WorkChallengeFrequencyPolitics                                    0.133983   \n",
       "WorkChallengeFrequencyUnusedResults                               0.195614   \n",
       "WorkChallengeFrequencyUnusefulInstrumenting                       0.136262   \n",
       "WorkChallengeFrequencyDeployment                                  0.073967   \n",
       "WorkChallengeFrequencyDirtyData                                   0.152560   \n",
       "WorkChallengeFrequencyExplaining                                  0.162836   \n",
       "WorkChallengeFrequencyPass                                       -0.096485   \n",
       "WorkChallengeFrequencyIntegration                                 0.195944   \n",
       "WorkChallengeFrequencyTalent                                      0.080996   \n",
       "WorkChallengeFrequencyDataFunds                                   0.049889   \n",
       "WorkChallengeFrequencyDomainExpertise                             0.165969   \n",
       "WorkChallengeFrequencyML                                          0.035776   \n",
       "WorkChallengeFrequencyTools                                      -0.005347   \n",
       "WorkChallengeFrequencyExpectations                                0.221317   \n",
       "WorkChallengeFrequencyITCoordination                              0.060349   \n",
       "WorkChallengeFrequencyHiringFunds                                 0.034078   \n",
       "WorkChallengeFrequencyPrivacy                                     0.060351   \n",
       "WorkChallengeFrequencyScaling                                     0.079453   \n",
       "WorkChallengeFrequencyEnvironments                                0.103925   \n",
       "WorkChallengeFrequencyClarity                                     1.000000   \n",
       "WorkChallengeFrequencyDataAccess                                  0.120958   \n",
       "WorkChallengeFrequencyOtherSelect                                -0.042979   \n",
       "\n",
       "                                             WorkChallengeFrequencyDataAccess  \\\n",
       "JobSatisfaction                                                     -0.055942   \n",
       "WorkChallengeFrequencyPolitics                                       0.059931   \n",
       "WorkChallengeFrequencyUnusedResults                                  0.070394   \n",
       "WorkChallengeFrequencyUnusefulInstrumenting                          0.102498   \n",
       "WorkChallengeFrequencyDeployment                                     0.118445   \n",
       "WorkChallengeFrequencyDirtyData                                      0.209864   \n",
       "WorkChallengeFrequencyExplaining                                     0.109187   \n",
       "WorkChallengeFrequencyPass                                          -0.086146   \n",
       "WorkChallengeFrequencyIntegration                                    0.096513   \n",
       "WorkChallengeFrequencyTalent                                         0.039738   \n",
       "WorkChallengeFrequencyDataFunds                                      0.134326   \n",
       "WorkChallengeFrequencyDomainExpertise                                0.075297   \n",
       "WorkChallengeFrequencyML                                             0.027975   \n",
       "WorkChallengeFrequencyTools                                          0.108626   \n",
       "WorkChallengeFrequencyExpectations                                   0.124547   \n",
       "WorkChallengeFrequencyITCoordination                                 0.127290   \n",
       "WorkChallengeFrequencyHiringFunds                                    0.004753   \n",
       "WorkChallengeFrequencyPrivacy                                        0.180287   \n",
       "WorkChallengeFrequencyScaling                                        0.078968   \n",
       "WorkChallengeFrequencyEnvironments                                   0.077610   \n",
       "WorkChallengeFrequencyClarity                                        0.120958   \n",
       "WorkChallengeFrequencyDataAccess                                     1.000000   \n",
       "WorkChallengeFrequencyOtherSelect                                   -0.015414   \n",
       "\n",
       "                                             WorkChallengeFrequencyOtherSelect  \n",
       "JobSatisfaction                                                       0.016071  \n",
       "WorkChallengeFrequencyPolitics                                       -0.010531  \n",
       "WorkChallengeFrequencyUnusedResults                                  -0.027244  \n",
       "WorkChallengeFrequencyUnusefulInstrumenting                          -0.001098  \n",
       "WorkChallengeFrequencyDeployment                                     -0.005343  \n",
       "WorkChallengeFrequencyDirtyData                                      -0.040670  \n",
       "WorkChallengeFrequencyExplaining                                     -0.010597  \n",
       "WorkChallengeFrequencyPass                                           -0.010909  \n",
       "WorkChallengeFrequencyIntegration                                    -0.036517  \n",
       "WorkChallengeFrequencyTalent                                         -0.016921  \n",
       "WorkChallengeFrequencyDataFunds                                      -0.000279  \n",
       "WorkChallengeFrequencyDomainExpertise                                 0.003919  \n",
       "WorkChallengeFrequencyML                                             -0.001102  \n",
       "WorkChallengeFrequencyTools                                           0.004810  \n",
       "WorkChallengeFrequencyExpectations                                    0.001666  \n",
       "WorkChallengeFrequencyITCoordination                                 -0.031528  \n",
       "WorkChallengeFrequencyHiringFunds                                    -0.015056  \n",
       "WorkChallengeFrequencyPrivacy                                        -0.015965  \n",
       "WorkChallengeFrequencyScaling                                         0.009397  \n",
       "WorkChallengeFrequencyEnvironments                                   -0.013722  \n",
       "WorkChallengeFrequencyClarity                                        -0.042979  \n",
       "WorkChallengeFrequencyDataAccess                                     -0.015414  \n",
       "WorkChallengeFrequencyOtherSelect                                     1.000000  \n",
       "\n",
       "[23 rows x 23 columns]"
      ]
     },
     "execution_count": 112,
     "metadata": {},
     "output_type": "execute_result"
    }
   ],
   "source": [
    "question1[['JobSatisfaction', 'WorkChallengeFrequencyPolitics', 'WorkChallengeFrequencyUnusedResults', 'WorkChallengeFrequencyUnusefulInstrumenting', 'WorkChallengeFrequencyDeployment', 'WorkChallengeFrequencyDirtyData', 'WorkChallengeFrequencyExplaining', 'WorkChallengeFrequencyPass', 'WorkChallengeFrequencyIntegration', 'WorkChallengeFrequencyTalent', 'WorkChallengeFrequencyDataFunds', 'WorkChallengeFrequencyDomainExpertise', 'WorkChallengeFrequencyML', 'WorkChallengeFrequencyTools', 'WorkChallengeFrequencyExpectations', 'WorkChallengeFrequencyITCoordination', 'WorkChallengeFrequencyHiringFunds', 'WorkChallengeFrequencyPrivacy', 'WorkChallengeFrequencyScaling', 'WorkChallengeFrequencyEnvironments', 'WorkChallengeFrequencyClarity', 'WorkChallengeFrequencyDataAccess', 'WorkChallengeFrequencyOtherSelect']].corr()"
   ]
  },
  {
   "cell_type": "code",
   "execution_count": 113,
   "metadata": {},
   "outputs": [
    {
     "data": {
      "text/plain": [
       "Index(['WorkChallengeFrequencyPolitics', 'WorkChallengeFrequencyUnusedResults',\n",
       "       'WorkChallengeFrequencyUnusefulInstrumenting',\n",
       "       'WorkChallengeFrequencyDeployment', 'WorkChallengeFrequencyDirtyData',\n",
       "       'WorkChallengeFrequencyExplaining', 'WorkChallengeFrequencyPass',\n",
       "       'WorkChallengeFrequencyIntegration', 'WorkChallengeFrequencyTalent',\n",
       "       'WorkChallengeFrequencyDataFunds',\n",
       "       'WorkChallengeFrequencyDomainExpertise', 'WorkChallengeFrequencyML',\n",
       "       'WorkChallengeFrequencyTools', 'WorkChallengeFrequencyExpectations',\n",
       "       'WorkChallengeFrequencyITCoordination',\n",
       "       'WorkChallengeFrequencyHiringFunds', 'WorkChallengeFrequencyPrivacy',\n",
       "       'WorkChallengeFrequencyScaling', 'WorkChallengeFrequencyEnvironments',\n",
       "       'WorkChallengeFrequencyClarity', 'WorkChallengeFrequencyDataAccess',\n",
       "       'WorkChallengeFrequencyOtherSelect'],\n",
       "      dtype='object')"
      ]
     },
     "execution_count": 113,
     "metadata": {},
     "output_type": "execute_result"
    }
   ],
   "source": [
    "question1.columns[1:]"
   ]
  },
  {
   "cell_type": "code",
   "execution_count": 114,
   "metadata": {},
   "outputs": [
    {
     "name": "stdout",
     "output_type": "stream",
     "text": [
      "Sig: WorkChallengeFrequencyPolitics\n",
      "Sig: WorkChallengeFrequencyUnusedResults\n",
      "Sig: WorkChallengeFrequencyUnusefulInstrumenting\n",
      "Sig: WorkChallengeFrequencyDeployment\n",
      "Sig: WorkChallengeFrequencyDirtyData\n",
      "Sig: WorkChallengeFrequencyIntegration\n",
      "Sig: WorkChallengeFrequencyTalent\n",
      "Sig: WorkChallengeFrequencyDataFunds\n",
      "Sig: WorkChallengeFrequencyDomainExpertise\n",
      "Sig: WorkChallengeFrequencyTools\n",
      "Sig: WorkChallengeFrequencyExpectations\n",
      "Sig: WorkChallengeFrequencyHiringFunds\n",
      "Sig: WorkChallengeFrequencyClarity\n",
      "Sig: WorkChallengeFrequencyDataAccess\n",
      "Meaningful: WorkChallengeFrequencyPolitics\n",
      "Meaningful: WorkChallengeFrequencyUnusedResults\n",
      "Meaningful: WorkChallengeFrequencyTalent\n"
     ]
    }
   ],
   "source": [
    "sig = []\n",
    "non_sig = []\n",
    "sig_and_meaningful = []\n",
    "\n",
    "for i in question1.columns[1:]:\n",
    "    slope, intercept, r_value, p_value, std_err = linregress(question1['JobSatisfaction'],question1[i])\n",
    "    if p_value < 0.05:\n",
    "        if r_value > 0.1:\n",
    "            sig_and_meaningful.append(i)\n",
    "            sig.append(i)\n",
    "        else:\n",
    "            sig.append(i)\n",
    "    else:\n",
    "        non_sig.append(i)\n",
    "for i in sig:\n",
    "    print(\"Sig: \" + i)\n",
    "\n",
    "for i in sig_and_meaningful:\n",
    "    print(\"Meaningful: \" + i)\n",
    "\n",
    "# for i in non_sig:\n",
    "#     print(\"Not sig: \" + i)"
   ]
  },
  {
   "cell_type": "markdown",
   "metadata": {},
   "source": [
    "Therefore, there are 14 workplace challenges that effect job satisfaction at a level of statistical significance (p < 0.05).  However, of them 14 there are only 3 meaningful (r > 0.1).  They are:\n",
    "\n",
    "1) Politics\n",
    "\n",
    "2) Unused Results\n",
    "\n",
    "3) Lack of Talent"
   ]
  },
  {
   "cell_type": "markdown",
   "metadata": {},
   "source": [
    "## Question 2) Do certain variables effect job satisfaction more than others and therefore require more attention?"
   ]
  },
  {
   "cell_type": "markdown",
   "metadata": {},
   "source": [
    "Defining the level of correlation with Job Satisfaction to require more attention at r>0.10 we have 7 total variables that require more attention.  They are:\n",
    "\n",
    "1) Title Fit\n",
    "\n",
    "2) Remote Work\n",
    "\n",
    "3) Compensation Amount\n",
    "\n",
    "4) Salary Change\n",
    "\n",
    "5) Workplace Politics\n",
    "\n",
    "6) Unused Results in the workplace\n",
    "\n",
    "7) Lack of Talent\n"
   ]
  },
  {
   "cell_type": "code",
   "execution_count": null,
   "metadata": {},
   "outputs": [],
   "source": []
  },
  {
   "cell_type": "code",
   "execution_count": 125,
   "metadata": {},
   "outputs": [
    {
     "ename": "ValueError",
     "evalue": "Length of values does not match length of index",
     "output_type": "error",
     "traceback": [
      "\u001b[1;31m---------------------------------------------------------------------------\u001b[0m",
      "\u001b[1;31mValueError\u001b[0m                                Traceback (most recent call last)",
      "\u001b[1;32m<ipython-input-125-e48673fa95c5>\u001b[0m in \u001b[0;36m<module>\u001b[1;34m()\u001b[0m\n\u001b[0;32m     14\u001b[0m \u001b[0mclean_feature_data\u001b[0m\u001b[1;33m[\u001b[0m\u001b[1;34m'JobSatisfaction'\u001b[0m\u001b[1;33m]\u001b[0m \u001b[1;33m=\u001b[0m \u001b[0mbinning\u001b[0m\u001b[1;33m(\u001b[0m\u001b[0mclean_MC_data\u001b[0m\u001b[1;33m[\u001b[0m\u001b[1;34m'JobSatisfaction'\u001b[0m\u001b[1;33m]\u001b[0m\u001b[1;33m,\u001b[0m \u001b[0mcut_points\u001b[0m\u001b[1;33m,\u001b[0m \u001b[0mlabels\u001b[0m\u001b[1;33m)\u001b[0m\u001b[1;33m\u001b[0m\u001b[0m\n\u001b[0;32m     15\u001b[0m \u001b[1;33m\u001b[0m\u001b[0m\n\u001b[1;32m---> 16\u001b[1;33m \u001b[0mclean_feature_data\u001b[0m\u001b[1;33m[\u001b[0m\u001b[1;34m'is_train'\u001b[0m\u001b[1;33m]\u001b[0m \u001b[1;33m=\u001b[0m \u001b[0mnp\u001b[0m\u001b[1;33m.\u001b[0m\u001b[0mrandom\u001b[0m\u001b[1;33m.\u001b[0m\u001b[0muniform\u001b[0m\u001b[1;33m(\u001b[0m\u001b[1;36m0\u001b[0m\u001b[1;33m,\u001b[0m\u001b[1;36m1\u001b[0m\u001b[1;33m,\u001b[0m \u001b[0mlen\u001b[0m\u001b[1;33m(\u001b[0m\u001b[0mclean_MC_data\u001b[0m\u001b[1;33m)\u001b[0m\u001b[1;33m)\u001b[0m  \u001b[1;33m<=\u001b[0m \u001b[1;36m0.95\u001b[0m\u001b[1;33m\u001b[0m\u001b[0m\n\u001b[0m\u001b[0;32m     17\u001b[0m \u001b[0mclean_feature_data\u001b[0m\u001b[1;33m.\u001b[0m\u001b[0mfillna\u001b[0m\u001b[1;33m(\u001b[0m\u001b[0mmethod\u001b[0m\u001b[1;33m=\u001b[0m\u001b[1;34m'backfill'\u001b[0m\u001b[1;33m,\u001b[0m \u001b[0minplace\u001b[0m\u001b[1;33m=\u001b[0m\u001b[1;32mTrue\u001b[0m\u001b[1;33m)\u001b[0m\u001b[1;33m\u001b[0m\u001b[0m\n\u001b[0;32m     18\u001b[0m \u001b[1;31m#clean_feature_data = clean_feature_data.astype(float)\u001b[0m\u001b[1;33m\u001b[0m\u001b[1;33m\u001b[0m\u001b[0m\n",
      "\u001b[1;32mc:\\users\\jorda\\appdata\\local\\programs\\python\\python36\\lib\\site-packages\\pandas\\core\\frame.py\u001b[0m in \u001b[0;36m__setitem__\u001b[1;34m(self, key, value)\u001b[0m\n\u001b[0;32m   2329\u001b[0m         \u001b[1;32melse\u001b[0m\u001b[1;33m:\u001b[0m\u001b[1;33m\u001b[0m\u001b[0m\n\u001b[0;32m   2330\u001b[0m             \u001b[1;31m# set column\u001b[0m\u001b[1;33m\u001b[0m\u001b[1;33m\u001b[0m\u001b[0m\n\u001b[1;32m-> 2331\u001b[1;33m             \u001b[0mself\u001b[0m\u001b[1;33m.\u001b[0m\u001b[0m_set_item\u001b[0m\u001b[1;33m(\u001b[0m\u001b[0mkey\u001b[0m\u001b[1;33m,\u001b[0m \u001b[0mvalue\u001b[0m\u001b[1;33m)\u001b[0m\u001b[1;33m\u001b[0m\u001b[0m\n\u001b[0m\u001b[0;32m   2332\u001b[0m \u001b[1;33m\u001b[0m\u001b[0m\n\u001b[0;32m   2333\u001b[0m     \u001b[1;32mdef\u001b[0m \u001b[0m_setitem_slice\u001b[0m\u001b[1;33m(\u001b[0m\u001b[0mself\u001b[0m\u001b[1;33m,\u001b[0m \u001b[0mkey\u001b[0m\u001b[1;33m,\u001b[0m \u001b[0mvalue\u001b[0m\u001b[1;33m)\u001b[0m\u001b[1;33m:\u001b[0m\u001b[1;33m\u001b[0m\u001b[0m\n",
      "\u001b[1;32mc:\\users\\jorda\\appdata\\local\\programs\\python\\python36\\lib\\site-packages\\pandas\\core\\frame.py\u001b[0m in \u001b[0;36m_set_item\u001b[1;34m(self, key, value)\u001b[0m\n\u001b[0;32m   2395\u001b[0m \u001b[1;33m\u001b[0m\u001b[0m\n\u001b[0;32m   2396\u001b[0m         \u001b[0mself\u001b[0m\u001b[1;33m.\u001b[0m\u001b[0m_ensure_valid_index\u001b[0m\u001b[1;33m(\u001b[0m\u001b[0mvalue\u001b[0m\u001b[1;33m)\u001b[0m\u001b[1;33m\u001b[0m\u001b[0m\n\u001b[1;32m-> 2397\u001b[1;33m         \u001b[0mvalue\u001b[0m \u001b[1;33m=\u001b[0m \u001b[0mself\u001b[0m\u001b[1;33m.\u001b[0m\u001b[0m_sanitize_column\u001b[0m\u001b[1;33m(\u001b[0m\u001b[0mkey\u001b[0m\u001b[1;33m,\u001b[0m \u001b[0mvalue\u001b[0m\u001b[1;33m)\u001b[0m\u001b[1;33m\u001b[0m\u001b[0m\n\u001b[0m\u001b[0;32m   2398\u001b[0m         \u001b[0mNDFrame\u001b[0m\u001b[1;33m.\u001b[0m\u001b[0m_set_item\u001b[0m\u001b[1;33m(\u001b[0m\u001b[0mself\u001b[0m\u001b[1;33m,\u001b[0m \u001b[0mkey\u001b[0m\u001b[1;33m,\u001b[0m \u001b[0mvalue\u001b[0m\u001b[1;33m)\u001b[0m\u001b[1;33m\u001b[0m\u001b[0m\n\u001b[0;32m   2399\u001b[0m \u001b[1;33m\u001b[0m\u001b[0m\n",
      "\u001b[1;32mc:\\users\\jorda\\appdata\\local\\programs\\python\\python36\\lib\\site-packages\\pandas\\core\\frame.py\u001b[0m in \u001b[0;36m_sanitize_column\u001b[1;34m(self, key, value, broadcast)\u001b[0m\n\u001b[0;32m   2566\u001b[0m \u001b[1;33m\u001b[0m\u001b[0m\n\u001b[0;32m   2567\u001b[0m             \u001b[1;31m# turn me into an ndarray\u001b[0m\u001b[1;33m\u001b[0m\u001b[1;33m\u001b[0m\u001b[0m\n\u001b[1;32m-> 2568\u001b[1;33m             \u001b[0mvalue\u001b[0m \u001b[1;33m=\u001b[0m \u001b[0m_sanitize_index\u001b[0m\u001b[1;33m(\u001b[0m\u001b[0mvalue\u001b[0m\u001b[1;33m,\u001b[0m \u001b[0mself\u001b[0m\u001b[1;33m.\u001b[0m\u001b[0mindex\u001b[0m\u001b[1;33m,\u001b[0m \u001b[0mcopy\u001b[0m\u001b[1;33m=\u001b[0m\u001b[1;32mFalse\u001b[0m\u001b[1;33m)\u001b[0m\u001b[1;33m\u001b[0m\u001b[0m\n\u001b[0m\u001b[0;32m   2569\u001b[0m             \u001b[1;32mif\u001b[0m \u001b[1;32mnot\u001b[0m \u001b[0misinstance\u001b[0m\u001b[1;33m(\u001b[0m\u001b[0mvalue\u001b[0m\u001b[1;33m,\u001b[0m \u001b[1;33m(\u001b[0m\u001b[0mnp\u001b[0m\u001b[1;33m.\u001b[0m\u001b[0mndarray\u001b[0m\u001b[1;33m,\u001b[0m \u001b[0mIndex\u001b[0m\u001b[1;33m)\u001b[0m\u001b[1;33m)\u001b[0m\u001b[1;33m:\u001b[0m\u001b[1;33m\u001b[0m\u001b[0m\n\u001b[0;32m   2570\u001b[0m                 \u001b[1;32mif\u001b[0m \u001b[0misinstance\u001b[0m\u001b[1;33m(\u001b[0m\u001b[0mvalue\u001b[0m\u001b[1;33m,\u001b[0m \u001b[0mlist\u001b[0m\u001b[1;33m)\u001b[0m \u001b[1;32mand\u001b[0m \u001b[0mlen\u001b[0m\u001b[1;33m(\u001b[0m\u001b[0mvalue\u001b[0m\u001b[1;33m)\u001b[0m \u001b[1;33m>\u001b[0m \u001b[1;36m0\u001b[0m\u001b[1;33m:\u001b[0m\u001b[1;33m\u001b[0m\u001b[0m\n",
      "\u001b[1;32mc:\\users\\jorda\\appdata\\local\\programs\\python\\python36\\lib\\site-packages\\pandas\\core\\series.py\u001b[0m in \u001b[0;36m_sanitize_index\u001b[1;34m(data, index, copy)\u001b[0m\n\u001b[0;32m   2877\u001b[0m \u001b[1;33m\u001b[0m\u001b[0m\n\u001b[0;32m   2878\u001b[0m     \u001b[1;32mif\u001b[0m \u001b[0mlen\u001b[0m\u001b[1;33m(\u001b[0m\u001b[0mdata\u001b[0m\u001b[1;33m)\u001b[0m \u001b[1;33m!=\u001b[0m \u001b[0mlen\u001b[0m\u001b[1;33m(\u001b[0m\u001b[0mindex\u001b[0m\u001b[1;33m)\u001b[0m\u001b[1;33m:\u001b[0m\u001b[1;33m\u001b[0m\u001b[0m\n\u001b[1;32m-> 2879\u001b[1;33m         \u001b[1;32mraise\u001b[0m \u001b[0mValueError\u001b[0m\u001b[1;33m(\u001b[0m\u001b[1;34m'Length of values does not match length of '\u001b[0m \u001b[1;34m'index'\u001b[0m\u001b[1;33m)\u001b[0m\u001b[1;33m\u001b[0m\u001b[0m\n\u001b[0m\u001b[0;32m   2880\u001b[0m \u001b[1;33m\u001b[0m\u001b[0m\n\u001b[0;32m   2881\u001b[0m     \u001b[1;32mif\u001b[0m \u001b[0misinstance\u001b[0m\u001b[1;33m(\u001b[0m\u001b[0mdata\u001b[0m\u001b[1;33m,\u001b[0m \u001b[0mPeriodIndex\u001b[0m\u001b[1;33m)\u001b[0m\u001b[1;33m:\u001b[0m\u001b[1;33m\u001b[0m\u001b[0m\n",
      "\u001b[1;31mValueError\u001b[0m: Length of values does not match length of index"
     ]
    }
   ],
   "source": [
    "# Appending the useful correlations to a feature data set\n",
    "clean_feature_data = pd.DataFrame()\n",
    "clean_feature_data['TitleFit'] = title_fit['TitleFit']\n",
    "clean_feature_data['RemoteWork'] = remote_work['RemoteWork']\n",
    "clean_feature_data['CompensationAmount'] = clean_MC_data['CompensationAmount_USD']\n",
    "clean_feature_data['SalaryChange'] = salary_change['SalaryChange']\n",
    "clean_feature_data['WorkChallengeFrequencyPolitics'] = question1['WorkChallengeFrequencyPolitics']\n",
    "clean_feature_data['WorkChallengeFrequencyUnusedResults'] = question1['WorkChallengeFrequencyUnusedResults']\n",
    "clean_feature_data['WorkChallengeFrequencyTalent'] = question1['WorkChallengeFrequencyTalent']\n",
    "\n",
    "#clean_feature_data['JobSatisfaction'] = clean_MC_data['JobSatisfaction']\n",
    "cut_points = [4]\n",
    "labels=['0','1']\n",
    "clean_feature_data['JobSatisfaction'] = binning(clean_MC_data['JobSatisfaction'], cut_points, labels)\n",
    "\n",
    "clean_feature_data['is_train'] = np.random.uniform(0,1, len(clean_MC_data))  <= 0.95\n",
    "clean_feature_data.fillna(method='backfill', inplace=True)\n",
    "#clean_feature_data = clean_feature_data.astype(float)\n",
    "clean_feature_data.head()"
   ]
  },
  {
   "cell_type": "code",
   "execution_count": null,
   "metadata": {},
   "outputs": [],
   "source": [
    "# clean_MC_data['WorkChallengeFrequencyPolitics'] = question1_corr['WorkChallengeFrequencyPolitics']\n",
    "# clean_MC_data['WorkChallengeFrequencyUnusedResults'] = question1_corr['WorkChallengeFrequencyUnusedResults']\n",
    "# clean_MC_data['WorkChallengeFrequencyTalent'] = question1_corr['WorkChallengeFrequencyTalent']\n",
    "\n",
    "\n",
    "# clean_feature_data = clean_MC_data[['Age', 'WorkChallengeFrequencyPolitics','WorkChallengeFrequencyUnusedResults','WorkChallengeFrequencyTalent','RemoteWork', 'TitleFit', 'JobSatisfaction']]\n",
    "# #clean_feature_data = clean_MC_data[['RemoteWork', 'TitleFit', 'JobSatisfaction']]\n",
    "# clean_feature_data['JobSatisfaction'] = clean_feature_data['JobSatisfaction'] * 10\n",
    "# clean_feature_data['Age'] = clean_feature_data['Age']\n",
    "# clean_feature_data['RemoteWork'] = clean_feature_data['RemoteWork'].replace(['Always', 'Most of the time', 'Sometimes', 'Rarely', 'Never', \"Don't know\"],['100','80','60','40','20','60'])\n",
    "# clean_feature_data['TitleFit'] = clean_feature_data['TitleFit'].replace(['Perfectly','Fine','Poorly'],['100','50','0'])\n",
    "\n",
    "# clean_feature_data['is_train'] = np.random.uniform(0,1, len(clean_MC_data))  <= 0.90\n",
    "# clean_feature_data.fillna(method='backfill', inplace=True)"
   ]
  },
  {
   "cell_type": "code",
   "execution_count": null,
   "metadata": {},
   "outputs": [],
   "source": [
    "clean_feature_data.head()"
   ]
  },
  {
   "cell_type": "code",
   "execution_count": null,
   "metadata": {},
   "outputs": [],
   "source": [
    "train, test = clean_feature_data[clean_feature_data['is_train'] == True], clean_feature_data[clean_feature_data['is_train'] == False]"
   ]
  },
  {
   "cell_type": "code",
   "execution_count": null,
   "metadata": {},
   "outputs": [],
   "source": [
    "print('No obs in train:', len(train))\n",
    "print('No obs in test:', len(test))"
   ]
  },
  {
   "cell_type": "code",
   "execution_count": null,
   "metadata": {},
   "outputs": [],
   "source": [
    "y = train['JobSatisfaction'].values"
   ]
  },
  {
   "cell_type": "code",
   "execution_count": null,
   "metadata": {},
   "outputs": [],
   "source": [
    "y"
   ]
  },
  {
   "cell_type": "code",
   "execution_count": null,
   "metadata": {},
   "outputs": [],
   "source": [
    "#features = clean_feature_data.columns[:]\n",
    "features = clean_feature_data.columns[0:7]\n",
    "features"
   ]
  },
  {
   "cell_type": "code",
   "execution_count": null,
   "metadata": {},
   "outputs": [],
   "source": [
    "train[features].to_csv('../Output/train.csv')"
   ]
  },
  {
   "cell_type": "code",
   "execution_count": null,
   "metadata": {},
   "outputs": [],
   "source": [
    "clf = RandomForestClassifier(n_jobs=2, random_state=0)\n",
    "clf.fit(train[features], y)"
   ]
  },
  {
   "cell_type": "code",
   "execution_count": null,
   "metadata": {},
   "outputs": [],
   "source": [
    "clf.predict(test[features])[0:10]"
   ]
  },
  {
   "cell_type": "code",
   "execution_count": null,
   "metadata": {},
   "outputs": [],
   "source": [
    "clf.predict_proba(test[features])[0:10]"
   ]
  },
  {
   "cell_type": "code",
   "execution_count": null,
   "metadata": {},
   "outputs": [],
   "source": [
    "preds = clf.predict(test[features])"
   ]
  },
  {
   "cell_type": "code",
   "execution_count": null,
   "metadata": {},
   "outputs": [],
   "source": [
    "preds[0:20]"
   ]
  },
  {
   "cell_type": "code",
   "execution_count": null,
   "metadata": {},
   "outputs": [],
   "source": [
    "test['JobSatisfaction'].head(10)"
   ]
  },
  {
   "cell_type": "code",
   "execution_count": null,
   "metadata": {},
   "outputs": [],
   "source": [
    "pd.crosstab(test['JobSatisfaction'], preds, rownames=['Actual Satisfaction'], colnames=['Predicted Satisfaction'])"
   ]
  },
  {
   "cell_type": "code",
   "execution_count": null,
   "metadata": {},
   "outputs": [],
   "source": [
    "list(zip(train[features], clf.feature_importances_))"
   ]
  },
  {
   "cell_type": "code",
   "execution_count": null,
   "metadata": {},
   "outputs": [],
   "source": [
    "accuracy_score(test['JobSatisfaction'], preds)"
   ]
  },
  {
   "cell_type": "code",
   "execution_count": null,
   "metadata": {},
   "outputs": [],
   "source": [
    "clean_feature_data = pd.DataFrame()\n",
    "clean_feature_data['TitleFit'] = title_fit['TitleFit']\n",
    "clean_feature_data['RemoteWork'] = remote_work['RemoteWork']\n",
    "clean_feature_data['CompensationAmount'] = clean_MC_data['CompensationAmount_USD']\n",
    "clean_feature_data['SalaryChange'] = salary_change['SalaryChange']\n",
    "clean_feature_data['WorkChallengeFrequencyPolitics'] = question1['WorkChallengeFrequencyPolitics']\n",
    "clean_feature_data['WorkChallengeFrequencyUnusedResults'] = question1['WorkChallengeFrequencyUnusedResults']\n",
    "clean_feature_data['WorkChallengeFrequencyTalent'] = question1['WorkChallengeFrequencyTalent']\n",
    "\n",
    "#clean_feature_data['JobSatisfaction'] = clean_MC_data['JobSatisfaction']\n",
    "cut_points = [5]\n",
    "labels=['0','1']\n",
    "clean_feature_data['JobSatisfaction'] = binning(clean_MC_data['JobSatisfaction'], cut_points, labels)\n",
    "\n",
    "clean_feature_data['is_train'] = np.random.uniform(0,1, len(clean_MC_data))  <= 0.95\n",
    "clean_feature_data.fillna(method='backfill', inplace=True)\n",
    "#clean_feature_data = clean_feature_data.astype(float)\n",
    "clean_feature_data.head()\n",
    "features = clean_feature_data.columns[0:7]\n",
    "\n",
    "avg_acc = []\n",
    "test_cnt = 0\n",
    "while test_cnt < 50:\n",
    "    test_cnt = test_cnt + 1\n",
    "    train, test = clean_feature_data[clean_feature_data['is_train'] == True], clean_feature_data[clean_feature_data['is_train'] == False]\n",
    "    y = train['JobSatisfaction'].values\n",
    "    clf = RandomForestClassifier(n_jobs=2, criterion='entropy')\n",
    "    clf.fit(train[features], y)\n",
    "    preds = clf.predict(test[features])\n",
    "    avg_acc.append(accuracy_score(test['JobSatisfaction'], preds))\n",
    "\n",
    "print(sum(avg_acc)/len(avg_acc))"
   ]
  },
  {
   "cell_type": "code",
   "execution_count": null,
   "metadata": {},
   "outputs": [],
   "source": [
    "clean_feature_data['JobSatisfaction'].value_counts()"
   ]
  },
  {
   "cell_type": "code",
   "execution_count": null,
   "metadata": {},
   "outputs": [],
   "source": [
    "clean_feature_data = pd.DataFrame()\n",
    "clean_feature_data['TitleFit'] = title_fit['TitleFit']\n",
    "clean_feature_data['RemoteWork'] = remote_work['RemoteWork']\n",
    "clean_feature_data['CompensationAmount'] = clean_MC_data['CompensationAmount_USD']\n",
    "clean_feature_data['SalaryChange'] = salary_change['SalaryChange']\n",
    "clean_feature_data['WorkChallengeFrequencyPolitics'] = question1['WorkChallengeFrequencyPolitics']\n",
    "clean_feature_data['WorkChallengeFrequencyUnusedResults'] = question1['WorkChallengeFrequencyUnusedResults']\n",
    "clean_feature_data['WorkChallengeFrequencyTalent'] = question1['WorkChallengeFrequencyTalent']\n",
    "\n",
    "# clean_feature_data['JobSatisfaction'] = clean_MC_data['JobSatisfaction']\n",
    "cut_points = [5]\n",
    "labels=['0','1']\n",
    "clean_feature_data['JobSatisfaction'] = binning(clean_MC_data['JobSatisfaction'], cut_points, labels)\n",
    "\n",
    "clean_feature_data['is_train'] = np.random.uniform(0,1, len(clean_MC_data))  <= 0.90\n",
    "clean_feature_data.fillna(method='backfill', inplace=True)\n",
    "#clean_feature_data = clean_feature_data.astype(float)\n",
    "clean_feature_data.head()\n",
    "features = clean_feature_data.columns[0:7]\n",
    "print(features)\n",
    "\n",
    "avg_acc = []\n",
    "test_cnt = 0\n",
    "while test_cnt < 1000:\n",
    "    test_cnt = test_cnt + 1\n",
    "    train, test = clean_feature_data[clean_feature_data['is_train'] == True], clean_feature_data[clean_feature_data['is_train'] == False]\n",
    "    y = train['JobSatisfaction'].values\n",
    "    clf = LogisticRegression()\n",
    "    clf.fit(train[features], y)\n",
    "    preds = clf.predict(test[features])\n",
    "    avg_acc.append(accuracy_score(test['JobSatisfaction'], preds))\n",
    "    #print(list(zip(train[features], clf.feature_importances_)))\n",
    "print(sum(avg_acc)/len(avg_acc))\n",
    "\n"
   ]
  },
  {
   "cell_type": "code",
   "execution_count": null,
   "metadata": {},
   "outputs": [],
   "source": [
    "clean_feature_data['JobSatisfaction'].value_counts()"
   ]
  },
  {
   "cell_type": "code",
   "execution_count": null,
   "metadata": {},
   "outputs": [],
   "source": [
    "clean_feature_data = pd.DataFrame()\n",
    "clean_feature_data['TitleFit'] = title_fit['TitleFit']\n",
    "clean_feature_data['RemoteWork'] = remote_work['RemoteWork']\n",
    "clean_feature_data['CompensationAmount'] = clean_MC_data['CompensationAmount_USD']\n",
    "clean_feature_data['SalaryChange'] = salary_change['SalaryChange']\n",
    "clean_feature_data['WorkChallengeFrequencyPolitics'] = question1['WorkChallengeFrequencyPolitics']\n",
    "clean_feature_data['WorkChallengeFrequencyUnusedResults'] = question1['WorkChallengeFrequencyUnusedResults']\n",
    "clean_feature_data['WorkChallengeFrequencyTalent'] = question1['WorkChallengeFrequencyTalent']\n",
    "\n",
    "# clean_feature_data['JobSatisfaction'] = clean_MC_data['JobSatisfaction']\n",
    "cut_points = [5]\n",
    "labels=['0','1']\n",
    "clean_feature_data['JobSatisfaction'] = binning(clean_MC_data['JobSatisfaction'], cut_points, labels)\n",
    "\n",
    "clean_feature_data['is_train'] = np.random.uniform(0,1, len(clean_MC_data))  <= 0.90\n",
    "clean_feature_data.fillna(method='backfill', inplace=True)\n",
    "#clean_feature_data = clean_feature_data.astype(float)\n",
    "clean_feature_data.head()\n",
    "features = clean_feature_data.columns[0:7]\n",
    "print(features)\n",
    "\n",
    "avg_acc = []\n",
    "test_cnt = 0\n",
    "while test_cnt < 10:\n",
    "    test_cnt = test_cnt + 1\n",
    "    train, test = clean_feature_data[clean_feature_data['is_train'] == True], clean_feature_data[clean_feature_data['is_train'] == False]\n",
    "    y = train['JobSatisfaction'].values\n",
    "    clf = svm.SVC()\n",
    "    clf.fit(train[features], y)\n",
    "    preds = clf.predict(test[features])\n",
    "    avg_acc.append(accuracy_score(test['JobSatisfaction'], preds))\n",
    "    #print(list(zip(train[features], clf.feature_importances_)))\n",
    "print(sum(avg_acc)/len(avg_acc))\n"
   ]
  },
  {
   "cell_type": "code",
   "execution_count": null,
   "metadata": {},
   "outputs": [],
   "source": [
    "clean_feature_data = pd.DataFrame()\n",
    "clean_feature_data['TitleFit'] = title_fit['TitleFit']\n",
    "clean_feature_data['RemoteWork'] = remote_work['RemoteWork']\n",
    "clean_feature_data['CompensationAmount'] = clean_MC_data['CompensationAmount_USD']\n",
    "clean_feature_data['SalaryChange'] = salary_change['SalaryChange']\n",
    "clean_feature_data['WorkChallengeFrequencyPolitics'] = question1['WorkChallengeFrequencyPolitics']\n",
    "clean_feature_data['WorkChallengeFrequencyUnusedResults'] = question1['WorkChallengeFrequencyUnusedResults']\n",
    "clean_feature_data['WorkChallengeFrequencyTalent'] = question1['WorkChallengeFrequencyTalent']\n",
    "\n",
    "# clean_feature_data['JobSatisfaction'] = clean_MC_data['JobSatisfaction']\n",
    "cut_points = [5]\n",
    "labels=['0','1']\n",
    "clean_feature_data['JobSatisfaction'] = binning(clean_MC_data['JobSatisfaction'], cut_points, labels)\n",
    "\n",
    "clean_feature_data['is_train'] = np.random.uniform(0,1, len(clean_MC_data))  <= 0.90\n",
    "clean_feature_data.fillna(method='backfill', inplace=True)\n",
    "#clean_feature_data = clean_feature_data.astype(float)\n",
    "clean_feature_data.head()\n",
    "features = clean_feature_data.columns[0:7]\n",
    "print(features)\n",
    "\n",
    "avg_acc = []\n",
    "test_cnt = 0\n",
    "while test_cnt < 10:\n",
    "    test_cnt = test_cnt + 1\n",
    "    train, test = clean_feature_data[clean_feature_data['is_train'] == True], clean_feature_data[clean_feature_data['is_train'] == False]\n",
    "    y = train['JobSatisfaction'].values\n",
    "    clf = svm.NuSVC()\n",
    "    clf.fit(train[features], y)\n",
    "    preds = clf.predict(test[features])\n",
    "    avg_acc.append(accuracy_score(test['JobSatisfaction'], preds))\n",
    "    #print(list(zip(train[features], clf.feature_importances_)))\n",
    "print(sum(avg_acc)/len(avg_acc))"
   ]
  },
  {
   "cell_type": "code",
   "execution_count": null,
   "metadata": {},
   "outputs": [],
   "source": [
    "clean_feature_data = pd.DataFrame()\n",
    "clean_feature_data['TitleFit'] = title_fit['TitleFit']\n",
    "clean_feature_data['RemoteWork'] = remote_work['RemoteWork']\n",
    "clean_feature_data['CompensationAmount'] = clean_MC_data['CompensationAmount_USD']\n",
    "clean_feature_data['SalaryChange'] = salary_change['SalaryChange']\n",
    "clean_feature_data['WorkChallengeFrequencyPolitics'] = question1['WorkChallengeFrequencyPolitics']\n",
    "clean_feature_data['WorkChallengeFrequencyUnusedResults'] = question1['WorkChallengeFrequencyUnusedResults']\n",
    "clean_feature_data['WorkChallengeFrequencyTalent'] = question1['WorkChallengeFrequencyTalent']\n",
    "\n",
    "# clean_feature_data['JobSatisfaction'] = clean_MC_data['JobSatisfaction']\n",
    "cut_points = [5]\n",
    "labels=['0','1']\n",
    "clean_feature_data['JobSatisfaction'] = binning(clean_MC_data['JobSatisfaction'], cut_points, labels)\n",
    "\n",
    "clean_feature_data['is_train'] = np.random.uniform(0,1, len(clean_MC_data))  <= 0.90\n",
    "clean_feature_data.fillna(method='backfill', inplace=True)\n",
    "#clean_feature_data = clean_feature_data.astype(float)\n",
    "clean_feature_data.head()\n",
    "features = clean_feature_data.columns[0:7]\n",
    "print(features)\n",
    "\n",
    "avg_acc = []\n",
    "test_cnt = 0\n",
    "while test_cnt < 10:\n",
    "    test_cnt = test_cnt + 1\n",
    "    train, test = clean_feature_data[clean_feature_data['is_train'] == True], clean_feature_data[clean_feature_data['is_train'] == False]\n",
    "    y = train['JobSatisfaction'].values\n",
    "    clf = svm.LinearSVC()\n",
    "    clf.fit(train[features], y)\n",
    "    preds = clf.predict(test[features])\n",
    "    avg_acc.append(accuracy_score(test['JobSatisfaction'], preds))\n",
    "    #print(list(zip(train[features], clf.feature_importances_)))\n",
    "print(sum(avg_acc)/len(avg_acc))"
   ]
  },
  {
   "cell_type": "code",
   "execution_count": null,
   "metadata": {},
   "outputs": [],
   "source": [
    "clean_feature_data = pd.DataFrame()\n",
    "clean_feature_data['TitleFit'] = title_fit['TitleFit']\n",
    "clean_feature_data['RemoteWork'] = remote_work['RemoteWork']\n",
    "clean_feature_data['CompensationAmount'] = clean_MC_data['CompensationAmount_USD']\n",
    "clean_feature_data['SalaryChange'] = salary_change['SalaryChange']\n",
    "clean_feature_data['WorkChallengeFrequencyPolitics'] = question1['WorkChallengeFrequencyPolitics']\n",
    "clean_feature_data['WorkChallengeFrequencyUnusedResults'] = question1['WorkChallengeFrequencyUnusedResults']\n",
    "clean_feature_data['WorkChallengeFrequencyTalent'] = question1['WorkChallengeFrequencyTalent']\n",
    "\n",
    "# clean_feature_data['JobSatisfaction'] = clean_MC_data['JobSatisfaction']\n",
    "cut_points = [5]\n",
    "labels=['0','1']\n",
    "clean_feature_data['JobSatisfaction'] = binning(clean_MC_data['JobSatisfaction'], cut_points, labels)\n",
    "\n",
    "clean_feature_data['is_train'] = np.random.uniform(0,1, len(clean_MC_data))  <= 0.90\n",
    "clean_feature_data.fillna(method='backfill', inplace=True)\n",
    "#clean_feature_data = clean_feature_data.astype(float)\n",
    "clean_feature_data.head()\n",
    "features = clean_feature_data.columns[0:7]\n",
    "print(features)\n",
    "\n",
    "avg_acc = []\n",
    "test_cnt = 0\n",
    "while test_cnt < 1000:\n",
    "    test_cnt = test_cnt + 1\n",
    "    train, test = clean_feature_data[clean_feature_data['is_train'] == True], clean_feature_data[clean_feature_data['is_train'] == False]\n",
    "    y = train['JobSatisfaction'].values\n",
    "    clf = Perceptron()\n",
    "    clf.fit(train[features], y)\n",
    "    preds = clf.predict(test[features])\n",
    "    avg_acc.append(accuracy_score(test['JobSatisfaction'], preds))\n",
    "    #print(list(zip(train[features], clf.feature_importances_)))\n",
    "print(sum(avg_acc)/len(avg_acc))"
   ]
  },
  {
   "cell_type": "code",
   "execution_count": null,
   "metadata": {},
   "outputs": [],
   "source": []
  },
  {
   "cell_type": "markdown",
   "metadata": {},
   "source": [
    "## Question 5) Do these variables effect job satisfaction differently depending on the demographics of the individual?"
   ]
  },
  {
   "cell_type": "code",
   "execution_count": 143,
   "metadata": {},
   "outputs": [],
   "source": [
    "politics = clean_MC_data[['JobSatisfaction','WorkChallengeFrequencyPolitics', 'Age', 'GenderSelect']]\n",
    "unused_results = clean_MC_data[['JobSatisfaction','WorkChallengeFrequencyUnusedResults', 'Age', 'GenderSelect']]\n",
    "talent = clean_MC_data[['JobSatisfaction','WorkChallengeFrequencyTalent', 'Age', 'GenderSelect']]\n",
    "compensation = clean_MC_data[['JobSatisfaction', 'CompensationAmount_USD', 'Age', 'GenderSelect']]"
   ]
  },
  {
   "cell_type": "markdown",
   "metadata": {},
   "source": [
    "### i) Title Fit"
   ]
  },
  {
   "cell_type": "code",
   "execution_count": 115,
   "metadata": {},
   "outputs": [
    {
     "data": {
      "text/html": [
       "<div>\n",
       "<style>\n",
       "    .dataframe thead tr:only-child th {\n",
       "        text-align: right;\n",
       "    }\n",
       "\n",
       "    .dataframe thead th {\n",
       "        text-align: left;\n",
       "    }\n",
       "\n",
       "    .dataframe tbody tr th {\n",
       "        vertical-align: top;\n",
       "    }\n",
       "</style>\n",
       "<table border=\"1\" class=\"dataframe\">\n",
       "  <thead>\n",
       "    <tr style=\"text-align: right;\">\n",
       "      <th></th>\n",
       "      <th>JobSatisfaction</th>\n",
       "      <th>TitleFit</th>\n",
       "      <th>Age</th>\n",
       "      <th>GenderSelect</th>\n",
       "    </tr>\n",
       "  </thead>\n",
       "  <tbody>\n",
       "    <tr>\n",
       "      <th>5</th>\n",
       "      <td>7</td>\n",
       "      <td>2</td>\n",
       "      <td>43.0</td>\n",
       "      <td>Female</td>\n",
       "    </tr>\n",
       "    <tr>\n",
       "      <th>6</th>\n",
       "      <td>7</td>\n",
       "      <td>2</td>\n",
       "      <td>33.0</td>\n",
       "      <td>Male</td>\n",
       "    </tr>\n",
       "    <tr>\n",
       "      <th>7</th>\n",
       "      <td>7</td>\n",
       "      <td>2</td>\n",
       "      <td>27.0</td>\n",
       "      <td>Male</td>\n",
       "    </tr>\n",
       "    <tr>\n",
       "      <th>8</th>\n",
       "      <td>5</td>\n",
       "      <td>2</td>\n",
       "      <td>26.0</td>\n",
       "      <td>Male</td>\n",
       "    </tr>\n",
       "    <tr>\n",
       "      <th>10</th>\n",
       "      <td>6</td>\n",
       "      <td>2</td>\n",
       "      <td>25.0</td>\n",
       "      <td>Male</td>\n",
       "    </tr>\n",
       "  </tbody>\n",
       "</table>\n",
       "</div>"
      ],
      "text/plain": [
       "    JobSatisfaction  TitleFit   Age GenderSelect\n",
       "5                 7         2  43.0       Female\n",
       "6                 7         2  33.0         Male\n",
       "7                 7         2  27.0         Male\n",
       "8                 5         2  26.0         Male\n",
       "10                6         2  25.0         Male"
      ]
     },
     "execution_count": 115,
     "metadata": {},
     "output_type": "execute_result"
    }
   ],
   "source": [
    "title_fit.head()"
   ]
  },
  {
   "cell_type": "code",
   "execution_count": 116,
   "metadata": {},
   "outputs": [
    {
     "data": {
      "text/plain": [
       "JobSatisfaction     0\n",
       "TitleFit            0\n",
       "Age                25\n",
       "GenderSelect        4\n",
       "dtype: int64"
      ]
     },
     "execution_count": 116,
     "metadata": {},
     "output_type": "execute_result"
    }
   ],
   "source": [
    "title_fit.isnull().sum()"
   ]
  },
  {
   "cell_type": "code",
   "execution_count": 117,
   "metadata": {},
   "outputs": [],
   "source": [
    "title_fit.dropna(inplace=True)"
   ]
  },
  {
   "cell_type": "code",
   "execution_count": 118,
   "metadata": {},
   "outputs": [
    {
     "data": {
      "text/plain": [
       "Male                                                 3563\n",
       "Female                                                557\n",
       "Non-binary, genderqueer, or gender non-conforming      25\n",
       "A different identity                                   22\n",
       "Name: GenderSelect, dtype: int64"
      ]
     },
     "execution_count": 118,
     "metadata": {},
     "output_type": "execute_result"
    }
   ],
   "source": [
    "title_fit['GenderSelect'].value_counts()"
   ]
  },
  {
   "cell_type": "code",
   "execution_count": 119,
   "metadata": {},
   "outputs": [
    {
     "name": "stdout",
     "output_type": "stream",
     "text": [
      "Male Correlation\n",
      "                 JobSatisfaction  TitleFit\n",
      "JobSatisfaction         1.000000  0.191704\n",
      "TitleFit                0.191704  1.000000\n",
      "\n",
      "Female Correlation\n",
      "                 JobSatisfaction  TitleFit\n",
      "JobSatisfaction         1.000000  0.197091\n",
      "TitleFit                0.197091  1.000000\n",
      "\n",
      "Other Correlation\n",
      "                 JobSatisfaction  TitleFit\n",
      "JobSatisfaction         1.000000  0.103908\n",
      "TitleFit                0.103908  1.000000\n"
     ]
    }
   ],
   "source": [
    "gender_split(title_fit, \"TitleFit\")"
   ]
  },
  {
   "cell_type": "code",
   "execution_count": 124,
   "metadata": {},
   "outputs": [
    {
     "name": "stdout",
     "output_type": "stream",
     "text": [
      "Under 25 Correlation\n",
      "                 JobSatisfaction  TitleFit\n",
      "JobSatisfaction         1.000000  0.237904\n",
      "TitleFit                0.237904  1.000000\n",
      "\n",
      "25 to 29 Correlation\n",
      "                 JobSatisfaction  TitleFit\n",
      "JobSatisfaction         1.000000  0.192042\n",
      "TitleFit                0.192042  1.000000\n",
      "\n",
      "30 to 34 Correlation\n",
      "                 JobSatisfaction  TitleFit\n",
      "JobSatisfaction         1.000000  0.188055\n",
      "TitleFit                0.188055  1.000000\n",
      "\n",
      "35 to 39 Correlation\n",
      "                 JobSatisfaction  TitleFit\n",
      "JobSatisfaction         1.000000  0.186161\n",
      "TitleFit                0.186161  1.000000\n",
      "\n",
      "40 to 4 Correlation\n",
      "                 JobSatisfaction  TitleFit\n",
      "JobSatisfaction         1.000000  0.211345\n",
      "TitleFit                0.211345  1.000000\n",
      "\n",
      "45 and Over Correlation\n",
      "                 JobSatisfaction  TitleFit\n",
      "JobSatisfaction         1.000000  0.188147\n",
      "TitleFit                0.188147  1.000000\n",
      "\n"
     ]
    }
   ],
   "source": [
    "age_split(title_fit, \"TitleFit\")"
   ]
  },
  {
   "cell_type": "markdown",
   "metadata": {},
   "source": [
    "### ii) Remote Work"
   ]
  },
  {
   "cell_type": "code",
   "execution_count": null,
   "metadata": {},
   "outputs": [],
   "source": []
  }
 ],
 "metadata": {
  "kernelspec": {
   "display_name": "Python 3",
   "language": "python",
   "name": "python3"
  },
  "language_info": {
   "codemirror_mode": {
    "name": "ipython",
    "version": 3
   },
   "file_extension": ".py",
   "mimetype": "text/x-python",
   "name": "python",
   "nbconvert_exporter": "python",
   "pygments_lexer": "ipython3",
   "version": "3.6.2"
  }
 },
 "nbformat": 4,
 "nbformat_minor": 2
}
