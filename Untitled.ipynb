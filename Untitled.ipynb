{
 "cells": [
  {
   "cell_type": "markdown",
   "metadata": {},
   "source": [
    "# Kaggle Data Science Survey - Data Exploration on Job Satisfaction"
   ]
  },
  {
   "cell_type": "markdown",
   "metadata": {},
   "source": [
    "We are building upon what has already been done on the Kaggle Survey Report: https://www.kaggle.com/amberthomas/kaggle-2017-survey-results\n",
    "We will follow along in the data cleaning process etc and then move onto finding our own insights that are targetted more towards my specific questions around Job Satisfaction.\n",
    "\n",
    "The first section just shows the packages we are importing, as well as removing a pandas warning message and setting the standard plot style to be seaborn\n"
   ]
  },
  {
   "cell_type": "code",
   "execution_count": 1,
   "metadata": {},
   "outputs": [],
   "source": [
    "import pandas as pd\n",
    "import numpy as np\n",
    "import seaborn as sns\n",
    "import matplotlib.pyplot as plt\n",
    "from sklearn.ensemble import RandomForestClassifier\n",
    "from sklearn.metrics import accuracy_score\n",
    "from sklearn.linear_model import LogisticRegression, Perceptron\n",
    "from sklearn import svm\n",
    "from scipy.stats import linregress\n",
    "import scipy.stats as scs\n",
    "pd.options.mode.chained_assignment = None\n",
    "sns.set()"
   ]
  },
  {
   "cell_type": "markdown",
   "metadata": {},
   "source": [
    "First we must import the data from the csv files."
   ]
  },
  {
   "cell_type": "code",
   "execution_count": 2,
   "metadata": {},
   "outputs": [],
   "source": [
    "raw_multiple_choice_data = pd.read_csv('../Input/multipleChoiceResponses.csv', encoding='ISO-8859-1', low_memory=False)\n",
    "raw_freeform_data = pd.read_csv('../Input/freeformResponses.csv', low_memory=False)\n",
    "schema = pd.read_csv('../Input/schema.csv')\n",
    "conversion_rates = pd.read_csv('../Input/conversionRates.csv')"
   ]
  },
  {
   "cell_type": "code",
   "execution_count": 3,
   "metadata": {},
   "outputs": [],
   "source": [
    "clean_MC_data = raw_multiple_choice_data\n",
    "clean_FF_data = raw_freeform_data"
   ]
  },
  {
   "cell_type": "markdown",
   "metadata": {},
   "source": [
    "We are then going to do some exploration of the data and clean it up so that we can do some basic visual analysis.\n",
    "\n",
    "How much data do we have?"
   ]
  },
  {
   "cell_type": "code",
   "execution_count": 4,
   "metadata": {},
   "outputs": [
    {
     "data": {
      "text/plain": [
       "(16716, 228)"
      ]
     },
     "execution_count": 4,
     "metadata": {},
     "output_type": "execute_result"
    }
   ],
   "source": [
    "clean_MC_data.shape"
   ]
  },
  {
   "cell_type": "markdown",
   "metadata": {},
   "source": [
    "228 Columns, with 16716 Rows.\n",
    "\n",
    "What does the data look like?  Using sample takes a random sample of the data, rather than using the likes of head with always shows the first 10 results."
   ]
  },
  {
   "cell_type": "code",
   "execution_count": 5,
   "metadata": {},
   "outputs": [
    {
     "data": {
      "text/html": [
       "<div>\n",
       "<style>\n",
       "    .dataframe thead tr:only-child th {\n",
       "        text-align: right;\n",
       "    }\n",
       "\n",
       "    .dataframe thead th {\n",
       "        text-align: left;\n",
       "    }\n",
       "\n",
       "    .dataframe tbody tr th {\n",
       "        vertical-align: top;\n",
       "    }\n",
       "</style>\n",
       "<table border=\"1\" class=\"dataframe\">\n",
       "  <thead>\n",
       "    <tr style=\"text-align: right;\">\n",
       "      <th></th>\n",
       "      <th>GenderSelect</th>\n",
       "      <th>Country</th>\n",
       "      <th>Age</th>\n",
       "      <th>EmploymentStatus</th>\n",
       "      <th>StudentStatus</th>\n",
       "      <th>LearningDataScience</th>\n",
       "      <th>CodeWriter</th>\n",
       "      <th>CareerSwitcher</th>\n",
       "      <th>CurrentJobTitleSelect</th>\n",
       "      <th>TitleFit</th>\n",
       "      <th>...</th>\n",
       "      <th>JobFactorExperienceLevel</th>\n",
       "      <th>JobFactorDepartment</th>\n",
       "      <th>JobFactorTitle</th>\n",
       "      <th>JobFactorCompanyFunding</th>\n",
       "      <th>JobFactorImpact</th>\n",
       "      <th>JobFactorRemote</th>\n",
       "      <th>JobFactorIndustry</th>\n",
       "      <th>JobFactorLeaderReputation</th>\n",
       "      <th>JobFactorDiversity</th>\n",
       "      <th>JobFactorPublishingOpportunity</th>\n",
       "    </tr>\n",
       "  </thead>\n",
       "  <tbody>\n",
       "    <tr>\n",
       "      <th>1867</th>\n",
       "      <td>Male</td>\n",
       "      <td>Malaysia</td>\n",
       "      <td>24.0</td>\n",
       "      <td>Not employed, but looking for work</td>\n",
       "      <td>NaN</td>\n",
       "      <td>NaN</td>\n",
       "      <td>NaN</td>\n",
       "      <td>NaN</td>\n",
       "      <td>NaN</td>\n",
       "      <td>NaN</td>\n",
       "      <td>...</td>\n",
       "      <td>Somewhat important</td>\n",
       "      <td>Somewhat important</td>\n",
       "      <td>Very Important</td>\n",
       "      <td>Not important</td>\n",
       "      <td>Somewhat important</td>\n",
       "      <td>Very Important</td>\n",
       "      <td>Somewhat important</td>\n",
       "      <td>Somewhat important</td>\n",
       "      <td>Somewhat important</td>\n",
       "      <td>Somewhat important</td>\n",
       "    </tr>\n",
       "    <tr>\n",
       "      <th>8533</th>\n",
       "      <td>Male</td>\n",
       "      <td>Spain</td>\n",
       "      <td>38.0</td>\n",
       "      <td>Employed full-time</td>\n",
       "      <td>NaN</td>\n",
       "      <td>NaN</td>\n",
       "      <td>Yes</td>\n",
       "      <td>NaN</td>\n",
       "      <td>Data Scientist</td>\n",
       "      <td>Fine</td>\n",
       "      <td>...</td>\n",
       "      <td>NaN</td>\n",
       "      <td>NaN</td>\n",
       "      <td>NaN</td>\n",
       "      <td>NaN</td>\n",
       "      <td>NaN</td>\n",
       "      <td>NaN</td>\n",
       "      <td>NaN</td>\n",
       "      <td>NaN</td>\n",
       "      <td>NaN</td>\n",
       "      <td>NaN</td>\n",
       "    </tr>\n",
       "    <tr>\n",
       "      <th>10732</th>\n",
       "      <td>Male</td>\n",
       "      <td>United Kingdom</td>\n",
       "      <td>30.0</td>\n",
       "      <td>Employed full-time</td>\n",
       "      <td>NaN</td>\n",
       "      <td>NaN</td>\n",
       "      <td>Yes</td>\n",
       "      <td>NaN</td>\n",
       "      <td>Machine Learning Engineer</td>\n",
       "      <td>Poorly</td>\n",
       "      <td>...</td>\n",
       "      <td>NaN</td>\n",
       "      <td>NaN</td>\n",
       "      <td>NaN</td>\n",
       "      <td>NaN</td>\n",
       "      <td>NaN</td>\n",
       "      <td>NaN</td>\n",
       "      <td>NaN</td>\n",
       "      <td>NaN</td>\n",
       "      <td>NaN</td>\n",
       "      <td>NaN</td>\n",
       "    </tr>\n",
       "    <tr>\n",
       "      <th>10789</th>\n",
       "      <td>Male</td>\n",
       "      <td>France</td>\n",
       "      <td>30.0</td>\n",
       "      <td>Employed full-time</td>\n",
       "      <td>NaN</td>\n",
       "      <td>NaN</td>\n",
       "      <td>Yes</td>\n",
       "      <td>NaN</td>\n",
       "      <td>Scientist/Researcher</td>\n",
       "      <td>Perfectly</td>\n",
       "      <td>...</td>\n",
       "      <td>NaN</td>\n",
       "      <td>NaN</td>\n",
       "      <td>NaN</td>\n",
       "      <td>NaN</td>\n",
       "      <td>NaN</td>\n",
       "      <td>NaN</td>\n",
       "      <td>NaN</td>\n",
       "      <td>NaN</td>\n",
       "      <td>NaN</td>\n",
       "      <td>NaN</td>\n",
       "    </tr>\n",
       "    <tr>\n",
       "      <th>5734</th>\n",
       "      <td>Male</td>\n",
       "      <td>United States</td>\n",
       "      <td>57.0</td>\n",
       "      <td>Employed full-time</td>\n",
       "      <td>NaN</td>\n",
       "      <td>NaN</td>\n",
       "      <td>Yes</td>\n",
       "      <td>NaN</td>\n",
       "      <td>Engineer</td>\n",
       "      <td>Perfectly</td>\n",
       "      <td>...</td>\n",
       "      <td>NaN</td>\n",
       "      <td>NaN</td>\n",
       "      <td>NaN</td>\n",
       "      <td>NaN</td>\n",
       "      <td>NaN</td>\n",
       "      <td>NaN</td>\n",
       "      <td>NaN</td>\n",
       "      <td>NaN</td>\n",
       "      <td>NaN</td>\n",
       "      <td>NaN</td>\n",
       "    </tr>\n",
       "  </tbody>\n",
       "</table>\n",
       "<p>5 rows × 228 columns</p>\n",
       "</div>"
      ],
      "text/plain": [
       "      GenderSelect         Country   Age                    EmploymentStatus  \\\n",
       "1867          Male        Malaysia  24.0  Not employed, but looking for work   \n",
       "8533          Male           Spain  38.0                  Employed full-time   \n",
       "10732         Male  United Kingdom  30.0                  Employed full-time   \n",
       "10789         Male          France  30.0                  Employed full-time   \n",
       "5734          Male   United States  57.0                  Employed full-time   \n",
       "\n",
       "      StudentStatus LearningDataScience CodeWriter CareerSwitcher  \\\n",
       "1867            NaN                 NaN        NaN            NaN   \n",
       "8533            NaN                 NaN        Yes            NaN   \n",
       "10732           NaN                 NaN        Yes            NaN   \n",
       "10789           NaN                 NaN        Yes            NaN   \n",
       "5734            NaN                 NaN        Yes            NaN   \n",
       "\n",
       "           CurrentJobTitleSelect   TitleFit              ...                \\\n",
       "1867                         NaN        NaN              ...                 \n",
       "8533              Data Scientist       Fine              ...                 \n",
       "10732  Machine Learning Engineer     Poorly              ...                 \n",
       "10789       Scientist/Researcher  Perfectly              ...                 \n",
       "5734                    Engineer  Perfectly              ...                 \n",
       "\n",
       "      JobFactorExperienceLevel JobFactorDepartment  JobFactorTitle  \\\n",
       "1867        Somewhat important  Somewhat important  Very Important   \n",
       "8533                       NaN                 NaN             NaN   \n",
       "10732                      NaN                 NaN             NaN   \n",
       "10789                      NaN                 NaN             NaN   \n",
       "5734                       NaN                 NaN             NaN   \n",
       "\n",
       "      JobFactorCompanyFunding     JobFactorImpact JobFactorRemote  \\\n",
       "1867            Not important  Somewhat important  Very Important   \n",
       "8533                      NaN                 NaN             NaN   \n",
       "10732                     NaN                 NaN             NaN   \n",
       "10789                     NaN                 NaN             NaN   \n",
       "5734                      NaN                 NaN             NaN   \n",
       "\n",
       "        JobFactorIndustry JobFactorLeaderReputation  JobFactorDiversity  \\\n",
       "1867   Somewhat important        Somewhat important  Somewhat important   \n",
       "8533                  NaN                       NaN                 NaN   \n",
       "10732                 NaN                       NaN                 NaN   \n",
       "10789                 NaN                       NaN                 NaN   \n",
       "5734                  NaN                       NaN                 NaN   \n",
       "\n",
       "      JobFactorPublishingOpportunity  \n",
       "1867              Somewhat important  \n",
       "8533                             NaN  \n",
       "10732                            NaN  \n",
       "10789                            NaN  \n",
       "5734                             NaN  \n",
       "\n",
       "[5 rows x 228 columns]"
      ]
     },
     "execution_count": 5,
     "metadata": {},
     "output_type": "execute_result"
    }
   ],
   "source": [
    "clean_MC_data.sample(5)"
   ]
  },
  {
   "cell_type": "markdown",
   "metadata": {},
   "source": [
    "What can we test to see if they effect Job Satisfaction?  I used grep on the schema.csv to find only questions answered by CodingWorkers as they were the only respondents that answered JobSatisfaction.  From them I looked at the data in the answers and tried to see which ones I think could be correlated or useful in determining Job Satisfaction.  Below are the ones I picked out.\n",
    "\n",
    "* Gender\n",
    "* Age\n",
    "* FormalEducation\n",
    "* TitleFit\n",
    "* EmployerSize\n",
    "* TimeGatheringData, TimeModelBuilding, TimeProduction, TimeVisualizing, TimeFindingInsights, TimeOtherSelect\n",
    "* WorkDataVisualizations\n",
    "* RemoteWork\n",
    "* SalaryChange\n",
    "* CompensationAmount\n",
    "* JobFunctionSelect"
   ]
  },
  {
   "cell_type": "code",
   "execution_count": 6,
   "metadata": {},
   "outputs": [],
   "source": [
    "def gender_split(data, column, barrier):\n",
    "    if barrier == True:\n",
    "        data.fillna(value='Never', inplace=True)\n",
    "        data = data.replace(['Never', 'Rarely', 'Sometimes', 'Often', 'Most of the time'], [4, 3, 2, 1, 0])\n",
    "    \n",
    "    data['GenderSelect'].replace(['A different identity', 'Non-binary, genderqueer, or gender non-conforming'], ['Other', 'Other'], inplace=True)\n",
    "    data.dropna(inplace=True)\n",
    "    \n",
    "    data_m = data[data['GenderSelect'] == \"Male\"]\n",
    "    data_f = data[data['GenderSelect'] == \"Female\"]\n",
    "    data_o = data[data['GenderSelect'] == \"Other\"]\n",
    "    \n",
    "    print(\"Male Correlation\")\n",
    "    print(data_m[[\"JobSatisfaction\", column]].corr())\n",
    "    print(\"\")\n",
    "    print(\"Female Correlation\")\n",
    "    print(data_f[[\"JobSatisfaction\", column]].corr())\n",
    "    print(\"\")\n",
    "    print(\"Other Correlation\")\n",
    "    print(data_o[[\"JobSatisfaction\", column]].corr())"
   ]
  },
  {
   "cell_type": "code",
   "execution_count": 7,
   "metadata": {},
   "outputs": [],
   "source": [
    "def age_split(data, column, barrier):\n",
    "    if barrier == True:\n",
    "        data.fillna(value='Never', inplace=True)\n",
    "        data = data.replace(['Never', 'Rarely', 'Sometimes', 'Often', 'Most of the time'], [4, 3, 2, 1, 0])\n",
    "    \n",
    "    data = data[data['Age'] > 15.0]\n",
    "    data = data[data['Age'] < 71.0]\n",
    "    data.dropna(inplace=True)\n",
    "    \n",
    "    data_u25 = data[data['Age'] < 25.0]\n",
    "    data_25to29 = data[data['Age'].between(25.0,29.0,inclusive=True)]\n",
    "    data_30to34 = data[data['Age'].between(30.0,34.0,inclusive=True)]\n",
    "    data_35to39 = data[data['Age'].between(35.0,39.0,inclusive=True)]\n",
    "    data_40to44 = data[data['Age'].between(40.0,44.0,inclusive=True)]\n",
    "    data_o45 = data[data['Age'] >= 45.0]\n",
    "    \n",
    "    print(\"Under 25 Correlation\")\n",
    "    print(data_u25[[\"JobSatisfaction\", column]].corr())\n",
    "    print(\"\")\n",
    "    print(\"25 to 29 Correlation\")\n",
    "    print(data_25to29[[\"JobSatisfaction\", column]].corr())\n",
    "    print(\"\")\n",
    "    print(\"30 to 34 Correlation\")\n",
    "    print(data_30to34[[\"JobSatisfaction\", column]].corr())\n",
    "    print(\"\")\n",
    "    print(\"35 to 39 Correlation\")\n",
    "    print(data_35to39[[\"JobSatisfaction\", column]].corr())\n",
    "    print(\"\")\n",
    "    print(\"40 to 44 Correlation\")\n",
    "    print(data_40to44[[\"JobSatisfaction\", column]].corr())\n",
    "    print(\"\")\n",
    "    print(\"45 and Over Correlation\")\n",
    "    print(data_o45[[\"JobSatisfaction\", column]].corr())\n",
    "    print(\"\")"
   ]
  },
  {
   "cell_type": "code",
   "execution_count": 8,
   "metadata": {},
   "outputs": [],
   "source": [
    "def correlation_linregress(column, dataset):\n",
    "    slope, intercept, r_value, p_value, std_err = linregress(dataset['JobSatisfaction'],dataset[column])\n",
    "    print(\"The correlation between JobSatisfaction and \" + str(column) + \" (r): \" + str(r_value))\n",
    "    if p_value < 0.05:\n",
    "        print(\"The correlation is statistically significant with a 95% C.I. as the p_value < 0.05: \" + str(p_value))\n",
    "    else:\n",
    "        print(\"The correlation is not statistically significant with a 95% C.I. as the p_value > 0.05: \" + str(p_value))\n",
    "    if r_value > 0.1:\n",
    "        print(\"The correlation is reasonable and would be a good candidate for improving the accuracy of a prediction model.\")\n",
    "    else:\n",
    "        print(\"The correlation is not very large however, so the correlation would not be useful for a prediction model.\")"
   ]
  },
  {
   "cell_type": "code",
   "execution_count": 9,
   "metadata": {},
   "outputs": [],
   "source": [
    "def binning(col, cut, labels=None):\n",
    "  min_v = col.min()\n",
    "  max_v = col.max()\n",
    "\n",
    "  #create list by adding min and max to cut_points\n",
    "  break_points = [min_v] + cut + [max_v]\n",
    "\n",
    "  #if no labels provided, use default labels 0 ... (n-1)\n",
    "  if not labels:\n",
    "    labels = range(len(cut)+1)\n",
    "\n",
    "  #Binning using cut function of pandas\n",
    "  colBin = pd.cut(col,bins=break_points,labels=labels,include_lowest=True)\n",
    "  return colBin"
   ]
  },
  {
   "cell_type": "markdown",
   "metadata": {},
   "source": [
    "# JobSatisfaction\n",
    "\n",
    "Let's look at the current state of the Job Satisfaction column as it is the main focus of our questions."
   ]
  },
  {
   "cell_type": "code",
   "execution_count": 10,
   "metadata": {},
   "outputs": [
    {
     "data": {
      "text/plain": [
       "array(['5', nan, '10 - Highly Satisfied', '2', '8', '7', '6', '9',\n",
       "       '1 - Highly Dissatisfied', 'I prefer not to share', '3', '4'], dtype=object)"
      ]
     },
     "execution_count": 10,
     "metadata": {},
     "output_type": "execute_result"
    }
   ],
   "source": [
    "clean_MC_data['JobSatisfaction'].unique()"
   ]
  },
  {
   "cell_type": "code",
   "execution_count": 11,
   "metadata": {},
   "outputs": [
    {
     "data": {
      "text/plain": [
       "7                          1448\n",
       "8                          1427\n",
       "6                           765\n",
       "9                           677\n",
       "5                           627\n",
       "10 - Highly Satisfied       589\n",
       "3                           358\n",
       "4                           354\n",
       "1 - Highly Dissatisfied     167\n",
       "I prefer not to share       148\n",
       "2                           117\n",
       "Name: JobSatisfaction, dtype: int64"
      ]
     },
     "execution_count": 11,
     "metadata": {},
     "output_type": "execute_result"
    }
   ],
   "source": [
    "clean_MC_data['JobSatisfaction'].value_counts()"
   ]
  },
  {
   "cell_type": "markdown",
   "metadata": {},
   "source": [
    "We want to convert this to an integer scale between 1-10.  Therefore I am going to need to drop the 'I prefer not to share' respondents, as well as the NaN values.  I will then replace the String answers of '10 - Highly Satisfied' and '1 - Highly Dissatisfied' with the integer equivalents "
   ]
  },
  {
   "cell_type": "code",
   "execution_count": 12,
   "metadata": {},
   "outputs": [],
   "source": [
    "clean_MC_data = clean_MC_data[clean_MC_data['JobSatisfaction'] != 'I prefer not to share']\n",
    "clean_MC_data.dropna(subset=['JobSatisfaction'],inplace=True)\n",
    "clean_MC_data['JobSatisfaction'] = clean_MC_data['JobSatisfaction'].replace(['10 - Highly Satisfied', '1 - Highly Dissatisfied'], ['10','1']).astype(int)"
   ]
  },
  {
   "cell_type": "markdown",
   "metadata": {},
   "source": [
    "Looking at the data now it is much cleaner.  We can do immediately pull some simple stats from this."
   ]
  },
  {
   "cell_type": "code",
   "execution_count": 13,
   "metadata": {},
   "outputs": [
    {
     "data": {
      "text/plain": [
       "array([ 5, 10,  2,  8,  7,  6,  9,  1,  3,  4], dtype=int64)"
      ]
     },
     "execution_count": 13,
     "metadata": {},
     "output_type": "execute_result"
    }
   ],
   "source": [
    "clean_MC_data['JobSatisfaction'].unique()"
   ]
  },
  {
   "cell_type": "code",
   "execution_count": 14,
   "metadata": {},
   "outputs": [
    {
     "data": {
      "text/plain": [
       "7     1448\n",
       "8     1427\n",
       "6      765\n",
       "9      677\n",
       "5      627\n",
       "10     589\n",
       "3      358\n",
       "4      354\n",
       "1      167\n",
       "2      117\n",
       "Name: JobSatisfaction, dtype: int64"
      ]
     },
     "execution_count": 14,
     "metadata": {},
     "output_type": "execute_result"
    }
   ],
   "source": [
    "clean_MC_data['JobSatisfaction'].value_counts()"
   ]
  },
  {
   "cell_type": "code",
   "execution_count": 15,
   "metadata": {},
   "outputs": [
    {
     "data": {
      "text/plain": [
       "count    6529.000000\n",
       "mean        6.762291\n",
       "std         2.150548\n",
       "min         1.000000\n",
       "25%         6.000000\n",
       "50%         7.000000\n",
       "75%         8.000000\n",
       "max        10.000000\n",
       "Name: JobSatisfaction, dtype: float64"
      ]
     },
     "execution_count": 15,
     "metadata": {},
     "output_type": "execute_result"
    }
   ],
   "source": [
    "clean_MC_data['JobSatisfaction'].describe()"
   ]
  },
  {
   "cell_type": "markdown",
   "metadata": {},
   "source": [
    "From these we can see that the data is negatively skewed.  Good news, on the whole Coding Workers are satisfied with their jobs.  The mean answer is 6.76 with the median at 7, showing that the data is evenly distributed about the mean."
   ]
  },
  {
   "cell_type": "code",
   "execution_count": 16,
   "metadata": {},
   "outputs": [
    {
     "data": {
      "image/png": "[encoded data removed]",
      "text/plain": [
       "<matplotlib.figure.Figure at 0x28aa69036d8>"
      ]
     },
     "metadata": {},
     "output_type": "display_data"
    }
   ],
   "source": [
    "sns.countplot(x=\"JobSatisfaction\", data=clean_MC_data)\n",
    "plt.show()"
   ]
  },
  {
   "cell_type": "code",
   "execution_count": 17,
   "metadata": {},
   "outputs": [
    {
     "data": {
      "image/png": "[encoded data removed]",
      "text/plain": [
       "<matplotlib.figure.Figure at 0x28aa96f7eb8>"
      ]
     },
     "metadata": {},
     "output_type": "display_data"
    }
   ],
   "source": [
    "sns.boxplot(x=\"JobSatisfaction\", data=clean_MC_data)\n",
    "plt.show()"
   ]
  },
  {
   "cell_type": "markdown",
   "metadata": {},
   "source": [
    "From the graphics we can see the negative skew."
   ]
  },
  {
   "cell_type": "markdown",
   "metadata": {},
   "source": [
    "# Age"
   ]
  },
  {
   "cell_type": "markdown",
   "metadata": {},
   "source": [
    "Let's take a look at the age distribution"
   ]
  },
  {
   "cell_type": "code",
   "execution_count": 18,
   "metadata": {},
   "outputs": [
    {
     "data": {
      "text/html": [
       "<div>\n",
       "<style>\n",
       "    .dataframe thead tr:only-child th {\n",
       "        text-align: right;\n",
       "    }\n",
       "\n",
       "    .dataframe thead th {\n",
       "        text-align: left;\n",
       "    }\n",
       "\n",
       "    .dataframe tbody tr th {\n",
       "        vertical-align: top;\n",
       "    }\n",
       "</style>\n",
       "<table border=\"1\" class=\"dataframe\">\n",
       "  <thead>\n",
       "    <tr style=\"text-align: right;\">\n",
       "      <th></th>\n",
       "      <th>Age</th>\n",
       "      <th>JobSatisfaction</th>\n",
       "    </tr>\n",
       "  </thead>\n",
       "  <tbody>\n",
       "    <tr>\n",
       "      <th>count</th>\n",
       "      <td>6447.000000</td>\n",
       "      <td>6529.000000</td>\n",
       "    </tr>\n",
       "    <tr>\n",
       "      <th>mean</th>\n",
       "      <td>34.429502</td>\n",
       "      <td>6.762291</td>\n",
       "    </tr>\n",
       "    <tr>\n",
       "      <th>std</th>\n",
       "      <td>9.876586</td>\n",
       "      <td>2.150548</td>\n",
       "    </tr>\n",
       "    <tr>\n",
       "      <th>min</th>\n",
       "      <td>0.000000</td>\n",
       "      <td>1.000000</td>\n",
       "    </tr>\n",
       "    <tr>\n",
       "      <th>25%</th>\n",
       "      <td>27.000000</td>\n",
       "      <td>6.000000</td>\n",
       "    </tr>\n",
       "    <tr>\n",
       "      <th>50%</th>\n",
       "      <td>32.000000</td>\n",
       "      <td>7.000000</td>\n",
       "    </tr>\n",
       "    <tr>\n",
       "      <th>75%</th>\n",
       "      <td>39.000000</td>\n",
       "      <td>8.000000</td>\n",
       "    </tr>\n",
       "    <tr>\n",
       "      <th>max</th>\n",
       "      <td>100.000000</td>\n",
       "      <td>10.000000</td>\n",
       "    </tr>\n",
       "  </tbody>\n",
       "</table>\n",
       "</div>"
      ],
      "text/plain": [
       "               Age  JobSatisfaction\n",
       "count  6447.000000      6529.000000\n",
       "mean     34.429502         6.762291\n",
       "std       9.876586         2.150548\n",
       "min       0.000000         1.000000\n",
       "25%      27.000000         6.000000\n",
       "50%      32.000000         7.000000\n",
       "75%      39.000000         8.000000\n",
       "max     100.000000        10.000000"
      ]
     },
     "execution_count": 18,
     "metadata": {},
     "output_type": "execute_result"
    }
   ],
   "source": [
    "clean_MC_data[['Age', 'JobSatisfaction']].describe()"
   ]
  },
  {
   "cell_type": "code",
   "execution_count": 19,
   "metadata": {},
   "outputs": [
    {
     "data": {
      "image/png": "[encoded data removed]",
      "text/plain": [
       "<matplotlib.figure.Figure at 0x28aa9777b70>"
      ]
     },
     "metadata": {},
     "output_type": "display_data"
    }
   ],
   "source": [
    "sns.boxplot(x=\"Age\", data=clean_MC_data)\n",
    "plt.show()"
   ]
  },
  {
   "cell_type": "markdown",
   "metadata": {},
   "source": [
    "Because we have subsetted for JobSatisfaction, these respondents are people who identify as coding workers.\n",
    "I would not expect anybody under the age of 16 to be employed as a coding worker.  Likewise, I would not expect anybody to be working over the age of 70."
   ]
  },
  {
   "cell_type": "code",
   "execution_count": 20,
   "metadata": {},
   "outputs": [],
   "source": [
    "clean_MC_data = clean_MC_data[clean_MC_data['Age'] > 15]\n",
    "clean_MC_data = clean_MC_data[clean_MC_data['Age'] < 71]"
   ]
  },
  {
   "cell_type": "code",
   "execution_count": 21,
   "metadata": {},
   "outputs": [
    {
     "data": {
      "text/html": [
       "<div>\n",
       "<style>\n",
       "    .dataframe thead tr:only-child th {\n",
       "        text-align: right;\n",
       "    }\n",
       "\n",
       "    .dataframe thead th {\n",
       "        text-align: left;\n",
       "    }\n",
       "\n",
       "    .dataframe tbody tr th {\n",
       "        vertical-align: top;\n",
       "    }\n",
       "</style>\n",
       "<table border=\"1\" class=\"dataframe\">\n",
       "  <thead>\n",
       "    <tr style=\"text-align: right;\">\n",
       "      <th></th>\n",
       "      <th>Age</th>\n",
       "      <th>JobSatisfaction</th>\n",
       "    </tr>\n",
       "  </thead>\n",
       "  <tbody>\n",
       "    <tr>\n",
       "      <th>count</th>\n",
       "      <td>6429.000000</td>\n",
       "      <td>6429.000000</td>\n",
       "    </tr>\n",
       "    <tr>\n",
       "      <th>mean</th>\n",
       "      <td>34.329134</td>\n",
       "      <td>6.763416</td>\n",
       "    </tr>\n",
       "    <tr>\n",
       "      <th>std</th>\n",
       "      <td>9.564258</td>\n",
       "      <td>2.145572</td>\n",
       "    </tr>\n",
       "    <tr>\n",
       "      <th>min</th>\n",
       "      <td>16.000000</td>\n",
       "      <td>1.000000</td>\n",
       "    </tr>\n",
       "    <tr>\n",
       "      <th>25%</th>\n",
       "      <td>27.000000</td>\n",
       "      <td>6.000000</td>\n",
       "    </tr>\n",
       "    <tr>\n",
       "      <th>50%</th>\n",
       "      <td>32.000000</td>\n",
       "      <td>7.000000</td>\n",
       "    </tr>\n",
       "    <tr>\n",
       "      <th>75%</th>\n",
       "      <td>39.000000</td>\n",
       "      <td>8.000000</td>\n",
       "    </tr>\n",
       "    <tr>\n",
       "      <th>max</th>\n",
       "      <td>70.000000</td>\n",
       "      <td>10.000000</td>\n",
       "    </tr>\n",
       "  </tbody>\n",
       "</table>\n",
       "</div>"
      ],
      "text/plain": [
       "               Age  JobSatisfaction\n",
       "count  6429.000000      6429.000000\n",
       "mean     34.329134         6.763416\n",
       "std       9.564258         2.145572\n",
       "min      16.000000         1.000000\n",
       "25%      27.000000         6.000000\n",
       "50%      32.000000         7.000000\n",
       "75%      39.000000         8.000000\n",
       "max      70.000000        10.000000"
      ]
     },
     "execution_count": 21,
     "metadata": {},
     "output_type": "execute_result"
    }
   ],
   "source": [
    "clean_MC_data[['Age', 'JobSatisfaction']].describe()"
   ]
  },
  {
   "cell_type": "code",
   "execution_count": 22,
   "metadata": {},
   "outputs": [
    {
     "data": {
      "image/png": "[encoded data removed]",
      "text/plain": [
       "<matplotlib.figure.Figure at 0x28aa982e4a8>"
      ]
     },
     "metadata": {},
     "output_type": "display_data"
    }
   ],
   "source": [
    "sns.boxplot(x=\"Age\", data=clean_MC_data)\n",
    "plt.show()"
   ]
  },
  {
   "cell_type": "markdown",
   "metadata": {},
   "source": [
    "This boxplot looks much closer to the distribution we would expect from Coding Workers.  It shows that the mean age of the respondents is 34, and 50% of respondents are between 27 and 39."
   ]
  },
  {
   "cell_type": "code",
   "execution_count": 23,
   "metadata": {},
   "outputs": [],
   "source": [
    "age = clean_MC_data[['Age', 'JobSatisfaction']]"
   ]
  },
  {
   "cell_type": "code",
   "execution_count": 24,
   "metadata": {},
   "outputs": [
    {
     "name": "stdout",
     "output_type": "stream",
     "text": [
      "The correlation between JobSatisfaction and Age (r): 0.061987369069\n",
      "The correlation is statistically significant with a 95% C.I. as the p_value < 0.05: 6.5575456051e-07\n",
      "The correlation is not very large however, so the correlation would not be useful for a prediction model.\n"
     ]
    }
   ],
   "source": [
    "correlation_linregress('Age', age)"
   ]
  },
  {
   "cell_type": "markdown",
   "metadata": {},
   "source": [
    "# Compensation Amount"
   ]
  },
  {
   "cell_type": "code",
   "execution_count": 25,
   "metadata": {},
   "outputs": [],
   "source": [
    "clean_MC_data = pd.merge(left=clean_MC_data, right=conversion_rates, how='left', left_on='CompensationCurrency', right_on='originCountry')"
   ]
  },
  {
   "cell_type": "code",
   "execution_count": 26,
   "metadata": {},
   "outputs": [],
   "source": [
    "#compensation = clean_MC_data[['JobSatisfaction', 'CompensationAmount', 'exchangeRate']]"
   ]
  },
  {
   "cell_type": "code",
   "execution_count": 27,
   "metadata": {},
   "outputs": [],
   "source": [
    "#compensation.dropna(inplace=True)\n",
    "clean_MC_data['CompensationAmount'] = clean_MC_data['CompensationAmount'].str.replace(',', '').replace('-', '').replace('', '0')\n",
    "clean_MC_data.dropna(subset=['CompensationAmount'],inplace=True)"
   ]
  },
  {
   "cell_type": "code",
   "execution_count": 28,
   "metadata": {},
   "outputs": [],
   "source": [
    "clean_MC_data['CompensationAmount'] = clean_MC_data['CompensationAmount'].astype(float)"
   ]
  },
  {
   "cell_type": "code",
   "execution_count": 29,
   "metadata": {},
   "outputs": [
    {
     "data": {
      "text/html": [
       "<div>\n",
       "<style>\n",
       "    .dataframe thead tr:only-child th {\n",
       "        text-align: right;\n",
       "    }\n",
       "\n",
       "    .dataframe thead th {\n",
       "        text-align: left;\n",
       "    }\n",
       "\n",
       "    .dataframe tbody tr th {\n",
       "        vertical-align: top;\n",
       "    }\n",
       "</style>\n",
       "<table border=\"1\" class=\"dataframe\">\n",
       "  <thead>\n",
       "    <tr style=\"text-align: right;\">\n",
       "      <th></th>\n",
       "      <th>JobSatisfaction</th>\n",
       "      <th>CompensationAmount</th>\n",
       "      <th>exchangeRate</th>\n",
       "    </tr>\n",
       "  </thead>\n",
       "  <tbody>\n",
       "    <tr>\n",
       "      <th>count</th>\n",
       "      <td>5091.000000</td>\n",
       "      <td>5.091000e+03</td>\n",
       "      <td>4265.000000</td>\n",
       "    </tr>\n",
       "    <tr>\n",
       "      <th>mean</th>\n",
       "      <td>6.728344</td>\n",
       "      <td>2.627877e+06</td>\n",
       "      <td>0.708762</td>\n",
       "    </tr>\n",
       "    <tr>\n",
       "      <th>std</th>\n",
       "      <td>2.157060</td>\n",
       "      <td>3.140457e+07</td>\n",
       "      <td>0.483851</td>\n",
       "    </tr>\n",
       "    <tr>\n",
       "      <th>min</th>\n",
       "      <td>1.000000</td>\n",
       "      <td>-9.900000e+01</td>\n",
       "      <td>0.000030</td>\n",
       "    </tr>\n",
       "    <tr>\n",
       "      <th>25%</th>\n",
       "      <td>5.000000</td>\n",
       "      <td>4.987500e+04</td>\n",
       "      <td>0.077002</td>\n",
       "    </tr>\n",
       "    <tr>\n",
       "      <th>50%</th>\n",
       "      <td>7.000000</td>\n",
       "      <td>9.000000e+04</td>\n",
       "      <td>1.000000</td>\n",
       "    </tr>\n",
       "    <tr>\n",
       "      <th>75%</th>\n",
       "      <td>8.000000</td>\n",
       "      <td>1.850000e+05</td>\n",
       "      <td>1.000000</td>\n",
       "    </tr>\n",
       "    <tr>\n",
       "      <th>max</th>\n",
       "      <td>10.000000</td>\n",
       "      <td>1.194000e+09</td>\n",
       "      <td>2.652053</td>\n",
       "    </tr>\n",
       "  </tbody>\n",
       "</table>\n",
       "</div>"
      ],
      "text/plain": [
       "       JobSatisfaction  CompensationAmount  exchangeRate\n",
       "count      5091.000000        5.091000e+03   4265.000000\n",
       "mean          6.728344        2.627877e+06      0.708762\n",
       "std           2.157060        3.140457e+07      0.483851\n",
       "min           1.000000       -9.900000e+01      0.000030\n",
       "25%           5.000000        4.987500e+04      0.077002\n",
       "50%           7.000000        9.000000e+04      1.000000\n",
       "75%           8.000000        1.850000e+05      1.000000\n",
       "max          10.000000        1.194000e+09      2.652053"
      ]
     },
     "execution_count": 29,
     "metadata": {},
     "output_type": "execute_result"
    }
   ],
   "source": [
    "clean_MC_data[['JobSatisfaction', 'CompensationAmount', 'exchangeRate']].describe()"
   ]
  },
  {
   "cell_type": "code",
   "execution_count": 30,
   "metadata": {},
   "outputs": [],
   "source": [
    "clean_MC_data['CompensationAmount_USD'] = clean_MC_data.CompensationAmount * clean_MC_data.exchangeRate"
   ]
  },
  {
   "cell_type": "code",
   "execution_count": 31,
   "metadata": {},
   "outputs": [
    {
     "data": {
      "text/html": [
       "<div>\n",
       "<style>\n",
       "    .dataframe thead tr:only-child th {\n",
       "        text-align: right;\n",
       "    }\n",
       "\n",
       "    .dataframe thead th {\n",
       "        text-align: left;\n",
       "    }\n",
       "\n",
       "    .dataframe tbody tr th {\n",
       "        vertical-align: top;\n",
       "    }\n",
       "</style>\n",
       "<table border=\"1\" class=\"dataframe\">\n",
       "  <thead>\n",
       "    <tr style=\"text-align: right;\">\n",
       "      <th></th>\n",
       "      <th>JobSatisfaction</th>\n",
       "      <th>CompensationAmount</th>\n",
       "      <th>exchangeRate</th>\n",
       "    </tr>\n",
       "  </thead>\n",
       "  <tbody>\n",
       "    <tr>\n",
       "      <th>0</th>\n",
       "      <td>10</td>\n",
       "      <td>250000.0</td>\n",
       "      <td>1.000000</td>\n",
       "    </tr>\n",
       "    <tr>\n",
       "      <th>4</th>\n",
       "      <td>7</td>\n",
       "      <td>80000.0</td>\n",
       "      <td>0.802310</td>\n",
       "    </tr>\n",
       "    <tr>\n",
       "      <th>5</th>\n",
       "      <td>7</td>\n",
       "      <td>1200000.0</td>\n",
       "      <td>0.017402</td>\n",
       "    </tr>\n",
       "    <tr>\n",
       "      <th>6</th>\n",
       "      <td>7</td>\n",
       "      <td>95000.0</td>\n",
       "      <td>0.015620</td>\n",
       "    </tr>\n",
       "    <tr>\n",
       "      <th>7</th>\n",
       "      <td>5</td>\n",
       "      <td>1100000.0</td>\n",
       "      <td>0.033304</td>\n",
       "    </tr>\n",
       "  </tbody>\n",
       "</table>\n",
       "</div>"
      ],
      "text/plain": [
       "   JobSatisfaction  CompensationAmount  exchangeRate\n",
       "0               10            250000.0      1.000000\n",
       "4                7             80000.0      0.802310\n",
       "5                7           1200000.0      0.017402\n",
       "6                7             95000.0      0.015620\n",
       "7                5           1100000.0      0.033304"
      ]
     },
     "execution_count": 31,
     "metadata": {},
     "output_type": "execute_result"
    }
   ],
   "source": [
    "clean_MC_data[['JobSatisfaction', 'CompensationAmount', 'exchangeRate']].head()"
   ]
  },
  {
   "cell_type": "code",
   "execution_count": 32,
   "metadata": {},
   "outputs": [
    {
     "data": {
      "image/png": "[encoded data removed]",
      "text/plain": [
       "<matplotlib.figure.Figure at 0x28aa995c4e0>"
      ]
     },
     "metadata": {},
     "output_type": "display_data"
    }
   ],
   "source": [
    "sns.boxplot(x=\"CompensationAmount_USD\", data=clean_MC_data)\n",
    "plt.show()"
   ]
  },
  {
   "cell_type": "code",
   "execution_count": 33,
   "metadata": {},
   "outputs": [],
   "source": [
    "clean_MC_data = clean_MC_data[clean_MC_data['CompensationAmount_USD'] < 250000.0]\n",
    "clean_MC_data = clean_MC_data[clean_MC_data['CompensationAmount_USD'] > 0.0]"
   ]
  },
  {
   "cell_type": "code",
   "execution_count": 34,
   "metadata": {},
   "outputs": [
    {
     "data": {
      "image/png": "[encoded data removed]",
      "text/plain": [
       "<matplotlib.figure.Figure at 0x28aa99eb860>"
      ]
     },
     "metadata": {},
     "output_type": "display_data"
    }
   ],
   "source": [
    "sns.boxplot(x=\"CompensationAmount_USD\", data=clean_MC_data)\n",
    "plt.show()"
   ]
  },
  {
   "cell_type": "code",
   "execution_count": 35,
   "metadata": {},
   "outputs": [
    {
     "data": {
      "text/plain": [
       "count      4162.000000\n",
       "mean      63513.397674\n",
       "std       51548.717133\n",
       "min           0.060000\n",
       "25%       21009.960000\n",
       "50%       53812.170000\n",
       "75%       95000.000000\n",
       "max      248716.100000\n",
       "Name: CompensationAmount_USD, dtype: float64"
      ]
     },
     "execution_count": 35,
     "metadata": {},
     "output_type": "execute_result"
    }
   ],
   "source": [
    "clean_MC_data['CompensationAmount_USD'].describe()"
   ]
  },
  {
   "cell_type": "code",
   "execution_count": 36,
   "metadata": {},
   "outputs": [
    {
     "name": "stdout",
     "output_type": "stream",
     "text": [
      "The correlation between JobSatisfaction and CompensationAmount_USD (r): 0.155272683252\n",
      "The correlation is statistically significant with a 95% C.I. as the p_value < 0.05: 7.10094439428e-24\n",
      "The correlation is reasonable and would be a good candidate for improving the accuracy of a prediction model.\n"
     ]
    }
   ],
   "source": [
    "correlation_linregress('CompensationAmount_USD', clean_MC_data)"
   ]
  },
  {
   "cell_type": "markdown",
   "metadata": {},
   "source": [
    "# Gender"
   ]
  },
  {
   "cell_type": "code",
   "execution_count": 37,
   "metadata": {},
   "outputs": [
    {
     "data": {
      "text/html": [
       "<div>\n",
       "<style>\n",
       "    .dataframe thead tr:only-child th {\n",
       "        text-align: right;\n",
       "    }\n",
       "\n",
       "    .dataframe thead th {\n",
       "        text-align: left;\n",
       "    }\n",
       "\n",
       "    .dataframe tbody tr th {\n",
       "        vertical-align: top;\n",
       "    }\n",
       "</style>\n",
       "<table border=\"1\" class=\"dataframe\">\n",
       "  <thead>\n",
       "    <tr style=\"text-align: right;\">\n",
       "      <th></th>\n",
       "      <th>GenderSelect</th>\n",
       "      <th>JobSatisfaction</th>\n",
       "    </tr>\n",
       "  </thead>\n",
       "  <tbody>\n",
       "    <tr>\n",
       "      <th>4</th>\n",
       "      <td>Female</td>\n",
       "      <td>7</td>\n",
       "    </tr>\n",
       "    <tr>\n",
       "      <th>5</th>\n",
       "      <td>Male</td>\n",
       "      <td>7</td>\n",
       "    </tr>\n",
       "    <tr>\n",
       "      <th>6</th>\n",
       "      <td>Male</td>\n",
       "      <td>7</td>\n",
       "    </tr>\n",
       "    <tr>\n",
       "      <th>7</th>\n",
       "      <td>Male</td>\n",
       "      <td>5</td>\n",
       "    </tr>\n",
       "    <tr>\n",
       "      <th>9</th>\n",
       "      <td>Male</td>\n",
       "      <td>6</td>\n",
       "    </tr>\n",
       "  </tbody>\n",
       "</table>\n",
       "</div>"
      ],
      "text/plain": [
       "  GenderSelect  JobSatisfaction\n",
       "4       Female                7\n",
       "5         Male                7\n",
       "6         Male                7\n",
       "7         Male                5\n",
       "9         Male                6"
      ]
     },
     "execution_count": 37,
     "metadata": {},
     "output_type": "execute_result"
    }
   ],
   "source": [
    "gender = clean_MC_data[['GenderSelect', 'JobSatisfaction']]\n",
    "gender.head()"
   ]
  },
  {
   "cell_type": "code",
   "execution_count": 38,
   "metadata": {},
   "outputs": [
    {
     "data": {
      "text/plain": [
       "array(['Female', 'Male', 'A different identity',\n",
       "       'Non-binary, genderqueer, or gender non-conforming', nan], dtype=object)"
      ]
     },
     "execution_count": 38,
     "metadata": {},
     "output_type": "execute_result"
    }
   ],
   "source": [
    "gender['GenderSelect'].unique()"
   ]
  },
  {
   "cell_type": "code",
   "execution_count": 39,
   "metadata": {},
   "outputs": [
    {
     "data": {
      "text/plain": [
       "Male                                                 3557\n",
       "Female                                                557\n",
       "Non-binary, genderqueer, or gender non-conforming      25\n",
       "A different identity                                   21\n",
       "Name: GenderSelect, dtype: int64"
      ]
     },
     "execution_count": 39,
     "metadata": {},
     "output_type": "execute_result"
    }
   ],
   "source": [
    "gender['GenderSelect'].value_counts()"
   ]
  },
  {
   "cell_type": "markdown",
   "metadata": {},
   "source": [
    "From the value counts we can see that the sample size for 'A different identity' and 'Non-binary, genderqueer, or gender non-conforming' is quite small.  I will group these in an other category.  It is also necessary to deal with the Null values."
   ]
  },
  {
   "cell_type": "code",
   "execution_count": 40,
   "metadata": {},
   "outputs": [
    {
     "name": "stdout",
     "output_type": "stream",
     "text": [
      "<class 'pandas.core.frame.DataFrame'>\n",
      "Int64Index: 4162 entries, 4 to 6427\n",
      "Data columns (total 2 columns):\n",
      "GenderSelect       4160 non-null object\n",
      "JobSatisfaction    4162 non-null int32\n",
      "dtypes: int32(1), object(1)\n",
      "memory usage: 81.3+ KB\n"
     ]
    }
   ],
   "source": [
    "gender.info()"
   ]
  },
  {
   "cell_type": "markdown",
   "metadata": {},
   "source": [
    "Looking at the information we have 12 null values for Gender Select.  We could either fill this data, or drop it.  Dropping it is the best option in this case as it is a small proportion of the sample."
   ]
  },
  {
   "cell_type": "code",
   "execution_count": 41,
   "metadata": {},
   "outputs": [],
   "source": [
    "gender.dropna(inplace=True)\n",
    "gender['GenderSelect'].replace(['A different identity', 'Non-binary, genderqueer, or gender non-conforming'], ['Other', 'Other'], inplace=True)"
   ]
  },
  {
   "cell_type": "markdown",
   "metadata": {},
   "source": [
    "Taking a look at the data now."
   ]
  },
  {
   "cell_type": "code",
   "execution_count": 42,
   "metadata": {},
   "outputs": [
    {
     "data": {
      "text/plain": [
       "array(['Female', 'Male', 'Other'], dtype=object)"
      ]
     },
     "execution_count": 42,
     "metadata": {},
     "output_type": "execute_result"
    }
   ],
   "source": [
    "gender['GenderSelect'].unique()"
   ]
  },
  {
   "cell_type": "code",
   "execution_count": 43,
   "metadata": {},
   "outputs": [
    {
     "data": {
      "text/plain": [
       "Male      3557\n",
       "Female     557\n",
       "Other       46\n",
       "Name: GenderSelect, dtype: int64"
      ]
     },
     "execution_count": 43,
     "metadata": {},
     "output_type": "execute_result"
    }
   ],
   "source": [
    "gender['GenderSelect'].value_counts()"
   ]
  },
  {
   "cell_type": "markdown",
   "metadata": {},
   "source": [
    "Now lets take a look at the descriptive statistics for each of the demographics."
   ]
  },
  {
   "cell_type": "code",
   "execution_count": 44,
   "metadata": {},
   "outputs": [
    {
     "data": {
      "text/html": [
       "<div>\n",
       "<style>\n",
       "    .dataframe thead tr:only-child th {\n",
       "        text-align: right;\n",
       "    }\n",
       "\n",
       "    .dataframe thead th {\n",
       "        text-align: left;\n",
       "    }\n",
       "\n",
       "    .dataframe tbody tr th {\n",
       "        vertical-align: top;\n",
       "    }\n",
       "</style>\n",
       "<table border=\"1\" class=\"dataframe\">\n",
       "  <thead>\n",
       "    <tr>\n",
       "      <th></th>\n",
       "      <th colspan=\"8\" halign=\"left\">JobSatisfaction</th>\n",
       "    </tr>\n",
       "    <tr>\n",
       "      <th></th>\n",
       "      <th>count</th>\n",
       "      <th>mean</th>\n",
       "      <th>std</th>\n",
       "      <th>min</th>\n",
       "      <th>25%</th>\n",
       "      <th>50%</th>\n",
       "      <th>75%</th>\n",
       "      <th>max</th>\n",
       "    </tr>\n",
       "    <tr>\n",
       "      <th>GenderSelect</th>\n",
       "      <th></th>\n",
       "      <th></th>\n",
       "      <th></th>\n",
       "      <th></th>\n",
       "      <th></th>\n",
       "      <th></th>\n",
       "      <th></th>\n",
       "      <th></th>\n",
       "    </tr>\n",
       "  </thead>\n",
       "  <tbody>\n",
       "    <tr>\n",
       "      <th>Female</th>\n",
       "      <td>557.0</td>\n",
       "      <td>6.570916</td>\n",
       "      <td>2.348445</td>\n",
       "      <td>1.0</td>\n",
       "      <td>5.0</td>\n",
       "      <td>7.0</td>\n",
       "      <td>8.0</td>\n",
       "      <td>10.0</td>\n",
       "    </tr>\n",
       "    <tr>\n",
       "      <th>Male</th>\n",
       "      <td>3557.0</td>\n",
       "      <td>6.748383</td>\n",
       "      <td>2.104538</td>\n",
       "      <td>1.0</td>\n",
       "      <td>6.0</td>\n",
       "      <td>7.0</td>\n",
       "      <td>8.0</td>\n",
       "      <td>10.0</td>\n",
       "    </tr>\n",
       "    <tr>\n",
       "      <th>Other</th>\n",
       "      <td>46.0</td>\n",
       "      <td>6.891304</td>\n",
       "      <td>2.002535</td>\n",
       "      <td>3.0</td>\n",
       "      <td>6.0</td>\n",
       "      <td>7.0</td>\n",
       "      <td>8.0</td>\n",
       "      <td>10.0</td>\n",
       "    </tr>\n",
       "  </tbody>\n",
       "</table>\n",
       "</div>"
      ],
      "text/plain": [
       "             JobSatisfaction                                              \n",
       "                       count      mean       std  min  25%  50%  75%   max\n",
       "GenderSelect                                                              \n",
       "Female                 557.0  6.570916  2.348445  1.0  5.0  7.0  8.0  10.0\n",
       "Male                  3557.0  6.748383  2.104538  1.0  6.0  7.0  8.0  10.0\n",
       "Other                   46.0  6.891304  2.002535  3.0  6.0  7.0  8.0  10.0"
      ]
     },
     "execution_count": 44,
     "metadata": {},
     "output_type": "execute_result"
    }
   ],
   "source": [
    "gender.groupby('GenderSelect').describe()"
   ]
  },
  {
   "cell_type": "markdown",
   "metadata": {},
   "source": [
    "From the descriptive statistics all 3 of the categories look quite similar"
   ]
  },
  {
   "cell_type": "code",
   "execution_count": 45,
   "metadata": {},
   "outputs": [
    {
     "data": {
      "image/png": "[encoded data removed]",
      "text/plain": [
       "<matplotlib.figure.Figure at 0x28aa980ac88>"
      ]
     },
     "metadata": {},
     "output_type": "display_data"
    }
   ],
   "source": [
    "plt.figure(figsize=(12,6))\n",
    "\n",
    "plt.subplot(2,2,1)\n",
    "sns.countplot(x=\"JobSatisfaction\", data=gender[gender['GenderSelect'] == \"Male\"]).set_title(\"Male\")\n",
    "\n",
    "plt.subplot(2,2,2)\n",
    "sns.countplot(x=\"JobSatisfaction\", data=gender[gender['GenderSelect'] == \"Female\"]).set_title(\"Female\")\n",
    "\n",
    "plt.subplot(2,2,3)\n",
    "sns.countplot(x=\"JobSatisfaction\", data=gender[gender['GenderSelect'] == \"Other\"]).set_title(\"Other\")\n",
    "\n",
    "plt.tight_layout()\n",
    "plt.show()"
   ]
  },
  {
   "cell_type": "code",
   "execution_count": 46,
   "metadata": {},
   "outputs": [
    {
     "data": {
      "text/html": [
       "<div>\n",
       "<style>\n",
       "    .dataframe thead tr:only-child th {\n",
       "        text-align: right;\n",
       "    }\n",
       "\n",
       "    .dataframe thead th {\n",
       "        text-align: left;\n",
       "    }\n",
       "\n",
       "    .dataframe tbody tr th {\n",
       "        vertical-align: top;\n",
       "    }\n",
       "</style>\n",
       "<table border=\"1\" class=\"dataframe\">\n",
       "  <thead>\n",
       "    <tr style=\"text-align: right;\">\n",
       "      <th>JobSatisfaction</th>\n",
       "      <th>1</th>\n",
       "      <th>2</th>\n",
       "      <th>3</th>\n",
       "      <th>4</th>\n",
       "      <th>5</th>\n",
       "      <th>6</th>\n",
       "      <th>7</th>\n",
       "      <th>8</th>\n",
       "      <th>9</th>\n",
       "      <th>10</th>\n",
       "    </tr>\n",
       "    <tr>\n",
       "      <th>GenderSelect</th>\n",
       "      <th></th>\n",
       "      <th></th>\n",
       "      <th></th>\n",
       "      <th></th>\n",
       "      <th></th>\n",
       "      <th></th>\n",
       "      <th></th>\n",
       "      <th></th>\n",
       "      <th></th>\n",
       "      <th></th>\n",
       "    </tr>\n",
       "  </thead>\n",
       "  <tbody>\n",
       "    <tr>\n",
       "      <th>Female</th>\n",
       "      <td>24</td>\n",
       "      <td>11</td>\n",
       "      <td>37</td>\n",
       "      <td>25</td>\n",
       "      <td>71</td>\n",
       "      <td>66</td>\n",
       "      <td>112</td>\n",
       "      <td>87</td>\n",
       "      <td>68</td>\n",
       "      <td>56</td>\n",
       "    </tr>\n",
       "    <tr>\n",
       "      <th>Male</th>\n",
       "      <td>84</td>\n",
       "      <td>56</td>\n",
       "      <td>197</td>\n",
       "      <td>209</td>\n",
       "      <td>330</td>\n",
       "      <td>414</td>\n",
       "      <td>816</td>\n",
       "      <td>800</td>\n",
       "      <td>375</td>\n",
       "      <td>276</td>\n",
       "    </tr>\n",
       "    <tr>\n",
       "      <th>Other</th>\n",
       "      <td>0</td>\n",
       "      <td>0</td>\n",
       "      <td>3</td>\n",
       "      <td>4</td>\n",
       "      <td>3</td>\n",
       "      <td>8</td>\n",
       "      <td>11</td>\n",
       "      <td>7</td>\n",
       "      <td>4</td>\n",
       "      <td>6</td>\n",
       "    </tr>\n",
       "  </tbody>\n",
       "</table>\n",
       "</div>"
      ],
      "text/plain": [
       "JobSatisfaction  1   2    3    4    5    6    7    8    9    10\n",
       "GenderSelect                                                   \n",
       "Female           24  11   37   25   71   66  112   87   68   56\n",
       "Male             84  56  197  209  330  414  816  800  375  276\n",
       "Other             0   0    3    4    3    8   11    7    4    6"
      ]
     },
     "execution_count": 46,
     "metadata": {},
     "output_type": "execute_result"
    }
   ],
   "source": [
    "gender_crosstab = pd.crosstab(index=gender[\"GenderSelect\"],\n",
    "                             columns=gender[\"JobSatisfaction\"])\n",
    "gender_crosstab"
   ]
  },
  {
   "cell_type": "markdown",
   "metadata": {},
   "source": [
    "From this I would say that Gender does not have a significant impact on Job Satisfaction."
   ]
  },
  {
   "cell_type": "markdown",
   "metadata": {},
   "source": [
    "# Formal Education"
   ]
  },
  {
   "cell_type": "code",
   "execution_count": 47,
   "metadata": {},
   "outputs": [],
   "source": [
    "formal_education = clean_MC_data[['JobSatisfaction', 'FormalEducation']].dropna()"
   ]
  },
  {
   "cell_type": "code",
   "execution_count": 48,
   "metadata": {},
   "outputs": [
    {
     "name": "stdout",
     "output_type": "stream",
     "text": [
      "<class 'pandas.core.frame.DataFrame'>\n",
      "Int64Index: 4161 entries, 4 to 6427\n",
      "Data columns (total 2 columns):\n",
      "JobSatisfaction    4161 non-null int32\n",
      "FormalEducation    4161 non-null object\n",
      "dtypes: int32(1), object(1)\n",
      "memory usage: 81.3+ KB\n"
     ]
    }
   ],
   "source": [
    "formal_education.info()"
   ]
  },
  {
   "cell_type": "code",
   "execution_count": 49,
   "metadata": {},
   "outputs": [
    {
     "data": {
      "text/plain": [
       "array([\"Bachelor's degree\", \"Master's degree\", 'Doctoral degree',\n",
       "       \"Some college/university study without earning a bachelor's degree\",\n",
       "       'I did not complete any formal education past high school',\n",
       "       'Professional degree', 'I prefer not to answer'], dtype=object)"
      ]
     },
     "execution_count": 49,
     "metadata": {},
     "output_type": "execute_result"
    }
   ],
   "source": [
    "formal_education['FormalEducation'].unique()"
   ]
  },
  {
   "cell_type": "code",
   "execution_count": 50,
   "metadata": {},
   "outputs": [
    {
     "data": {
      "text/plain": [
       "Master's degree                                                      1919\n",
       "Bachelor's degree                                                    1063\n",
       "Doctoral degree                                                       914\n",
       "Professional degree                                                   127\n",
       "Some college/university study without earning a bachelor's degree     107\n",
       "I did not complete any formal education past high school               25\n",
       "I prefer not to answer                                                  6\n",
       "Name: FormalEducation, dtype: int64"
      ]
     },
     "execution_count": 50,
     "metadata": {},
     "output_type": "execute_result"
    }
   ],
   "source": [
    "formal_education['FormalEducation'].value_counts()"
   ]
  },
  {
   "cell_type": "code",
   "execution_count": 51,
   "metadata": {},
   "outputs": [],
   "source": [
    "formal_education = formal_education[formal_education['FormalEducation'] != \"I prefer not to answer\"]"
   ]
  },
  {
   "cell_type": "code",
   "execution_count": 52,
   "metadata": {},
   "outputs": [
    {
     "data": {
      "text/html": [
       "<div>\n",
       "<style>\n",
       "    .dataframe thead tr:only-child th {\n",
       "        text-align: right;\n",
       "    }\n",
       "\n",
       "    .dataframe thead th {\n",
       "        text-align: left;\n",
       "    }\n",
       "\n",
       "    .dataframe tbody tr th {\n",
       "        vertical-align: top;\n",
       "    }\n",
       "</style>\n",
       "<table border=\"1\" class=\"dataframe\">\n",
       "  <thead>\n",
       "    <tr>\n",
       "      <th></th>\n",
       "      <th colspan=\"8\" halign=\"left\">JobSatisfaction</th>\n",
       "    </tr>\n",
       "    <tr>\n",
       "      <th></th>\n",
       "      <th>count</th>\n",
       "      <th>mean</th>\n",
       "      <th>std</th>\n",
       "      <th>min</th>\n",
       "      <th>25%</th>\n",
       "      <th>50%</th>\n",
       "      <th>75%</th>\n",
       "      <th>max</th>\n",
       "    </tr>\n",
       "    <tr>\n",
       "      <th>FormalEducation</th>\n",
       "      <th></th>\n",
       "      <th></th>\n",
       "      <th></th>\n",
       "      <th></th>\n",
       "      <th></th>\n",
       "      <th></th>\n",
       "      <th></th>\n",
       "      <th></th>\n",
       "    </tr>\n",
       "  </thead>\n",
       "  <tbody>\n",
       "    <tr>\n",
       "      <th>Bachelor's degree</th>\n",
       "      <td>1063.0</td>\n",
       "      <td>6.508937</td>\n",
       "      <td>2.124129</td>\n",
       "      <td>1.0</td>\n",
       "      <td>5.0</td>\n",
       "      <td>7.0</td>\n",
       "      <td>8.0</td>\n",
       "      <td>10.0</td>\n",
       "    </tr>\n",
       "    <tr>\n",
       "      <th>Doctoral degree</th>\n",
       "      <td>914.0</td>\n",
       "      <td>6.984683</td>\n",
       "      <td>2.173167</td>\n",
       "      <td>1.0</td>\n",
       "      <td>6.0</td>\n",
       "      <td>7.0</td>\n",
       "      <td>8.0</td>\n",
       "      <td>10.0</td>\n",
       "    </tr>\n",
       "    <tr>\n",
       "      <th>I did not complete any formal education past high school</th>\n",
       "      <td>25.0</td>\n",
       "      <td>6.800000</td>\n",
       "      <td>2.160247</td>\n",
       "      <td>2.0</td>\n",
       "      <td>5.0</td>\n",
       "      <td>8.0</td>\n",
       "      <td>8.0</td>\n",
       "      <td>10.0</td>\n",
       "    </tr>\n",
       "    <tr>\n",
       "      <th>Master's degree</th>\n",
       "      <td>1919.0</td>\n",
       "      <td>6.716519</td>\n",
       "      <td>2.104886</td>\n",
       "      <td>1.0</td>\n",
       "      <td>5.5</td>\n",
       "      <td>7.0</td>\n",
       "      <td>8.0</td>\n",
       "      <td>10.0</td>\n",
       "    </tr>\n",
       "    <tr>\n",
       "      <th>Professional degree</th>\n",
       "      <td>127.0</td>\n",
       "      <td>6.637795</td>\n",
       "      <td>2.256100</td>\n",
       "      <td>1.0</td>\n",
       "      <td>5.0</td>\n",
       "      <td>7.0</td>\n",
       "      <td>8.0</td>\n",
       "      <td>10.0</td>\n",
       "    </tr>\n",
       "    <tr>\n",
       "      <th>Some college/university study without earning a bachelor's degree</th>\n",
       "      <td>107.0</td>\n",
       "      <td>6.850467</td>\n",
       "      <td>2.192628</td>\n",
       "      <td>1.0</td>\n",
       "      <td>5.0</td>\n",
       "      <td>7.0</td>\n",
       "      <td>8.0</td>\n",
       "      <td>10.0</td>\n",
       "    </tr>\n",
       "  </tbody>\n",
       "</table>\n",
       "</div>"
      ],
      "text/plain": [
       "                                                   JobSatisfaction            \\\n",
       "                                                             count      mean   \n",
       "FormalEducation                                                                \n",
       "Bachelor's degree                                           1063.0  6.508937   \n",
       "Doctoral degree                                              914.0  6.984683   \n",
       "I did not complete any formal education past hi...            25.0  6.800000   \n",
       "Master's degree                                             1919.0  6.716519   \n",
       "Professional degree                                          127.0  6.637795   \n",
       "Some college/university study without earning a...           107.0  6.850467   \n",
       "\n",
       "                                                                             \\\n",
       "                                                         std  min  25%  50%   \n",
       "FormalEducation                                                               \n",
       "Bachelor's degree                                   2.124129  1.0  5.0  7.0   \n",
       "Doctoral degree                                     2.173167  1.0  6.0  7.0   \n",
       "I did not complete any formal education past hi...  2.160247  2.0  5.0  8.0   \n",
       "Master's degree                                     2.104886  1.0  5.5  7.0   \n",
       "Professional degree                                 2.256100  1.0  5.0  7.0   \n",
       "Some college/university study without earning a...  2.192628  1.0  5.0  7.0   \n",
       "\n",
       "                                                               \n",
       "                                                    75%   max  \n",
       "FormalEducation                                                \n",
       "Bachelor's degree                                   8.0  10.0  \n",
       "Doctoral degree                                     8.0  10.0  \n",
       "I did not complete any formal education past hi...  8.0  10.0  \n",
       "Master's degree                                     8.0  10.0  \n",
       "Professional degree                                 8.0  10.0  \n",
       "Some college/university study without earning a...  8.0  10.0  "
      ]
     },
     "execution_count": 52,
     "metadata": {},
     "output_type": "execute_result"
    }
   ],
   "source": [
    "formal_education.groupby('FormalEducation').describe()"
   ]
  },
  {
   "cell_type": "code",
   "execution_count": 53,
   "metadata": {},
   "outputs": [],
   "source": [
    "formal_education['FormalEducation'] = formal_education['FormalEducation'].replace([\"Doctoral degree\", \"Master's degree\", \"Bachelor's degree\", \"Professional degree\", \"Some college/university study without earning a bachelor's degree\", \"I did not complete any formal education past high school\"], ['6', '5', '4', '3', '2', '1']).astype(int)"
   ]
  },
  {
   "cell_type": "code",
   "execution_count": 54,
   "metadata": {},
   "outputs": [
    {
     "name": "stdout",
     "output_type": "stream",
     "text": [
      "The correlation between JobSatisfaction and FormalEducation (r): 0.0526809895297\n",
      "The correlation is statistically significant with a 95% C.I. as the p_value < 0.05: 0.000681000002658\n",
      "The correlation is not very large however, so the correlation would not be useful for a prediction model.\n"
     ]
    }
   ],
   "source": [
    "correlation_linregress('FormalEducation', formal_education)"
   ]
  },
  {
   "cell_type": "markdown",
   "metadata": {},
   "source": [
    "# Title Fit"
   ]
  },
  {
   "cell_type": "code",
   "execution_count": 55,
   "metadata": {},
   "outputs": [],
   "source": [
    "#title_fit = clean_MC_data[['JobSatisfaction','TitleFit']].dropna(subset=['TitleFit'])\n",
    "title_fit = clean_MC_data[['JobSatisfaction','TitleFit', 'Age', 'GenderSelect']]"
   ]
  },
  {
   "cell_type": "code",
   "execution_count": 56,
   "metadata": {},
   "outputs": [
    {
     "data": {
      "text/plain": [
       "array(['Fine', 'Perfectly', 'Poorly', nan], dtype=object)"
      ]
     },
     "execution_count": 56,
     "metadata": {},
     "output_type": "execute_result"
    }
   ],
   "source": [
    "title_fit['TitleFit'].unique()"
   ]
  },
  {
   "cell_type": "code",
   "execution_count": 57,
   "metadata": {},
   "outputs": [
    {
     "data": {
      "text/plain": [
       "Fine         2759\n",
       "Perfectly     857\n",
       "Poorly        546\n",
       "Name: TitleFit, dtype: int64"
      ]
     },
     "execution_count": 57,
     "metadata": {},
     "output_type": "execute_result"
    }
   ],
   "source": [
    "title_fit['TitleFit'].fillna(value='Fine', inplace=True)\n",
    "title_fit['TitleFit'].value_counts()"
   ]
  },
  {
   "cell_type": "code",
   "execution_count": 58,
   "metadata": {},
   "outputs": [
    {
     "data": {
      "image/png": "[encoded data removed]",
      "text/plain": [
       "<matplotlib.figure.Figure at 0x28aa9ae7940>"
      ]
     },
     "metadata": {},
     "output_type": "display_data"
    }
   ],
   "source": [
    "plt.figure(figsize=(12,6))\n",
    "\n",
    "plt.subplot(2,2,1)\n",
    "sns.countplot(x=\"JobSatisfaction\", data=title_fit[title_fit[\"TitleFit\"] == \"Perfectly\"]).set_title('Perfectly')\n",
    "\n",
    "plt.subplot(2,2,2)\n",
    "sns.countplot(x=\"JobSatisfaction\", data=title_fit[title_fit[\"TitleFit\"] == \"Fine\"]).set_title('Fine')\n",
    "\n",
    "plt.subplot(2,2,3)\n",
    "sns.countplot(x=\"JobSatisfaction\", data=title_fit[title_fit[\"TitleFit\"] == \"Poorly\"]).set_title('Poorly')\n",
    "\n",
    "plt.tight_layout()\n",
    "plt.show()"
   ]
  },
  {
   "cell_type": "code",
   "execution_count": 59,
   "metadata": {},
   "outputs": [
    {
     "data": {
      "text/html": [
       "<div>\n",
       "<style>\n",
       "    .dataframe thead tr:only-child th {\n",
       "        text-align: right;\n",
       "    }\n",
       "\n",
       "    .dataframe thead th {\n",
       "        text-align: left;\n",
       "    }\n",
       "\n",
       "    .dataframe tbody tr th {\n",
       "        vertical-align: top;\n",
       "    }\n",
       "</style>\n",
       "<table border=\"1\" class=\"dataframe\">\n",
       "  <thead>\n",
       "    <tr>\n",
       "      <th></th>\n",
       "      <th colspan=\"8\" halign=\"left\">Age</th>\n",
       "      <th colspan=\"8\" halign=\"left\">JobSatisfaction</th>\n",
       "    </tr>\n",
       "    <tr>\n",
       "      <th></th>\n",
       "      <th>count</th>\n",
       "      <th>mean</th>\n",
       "      <th>std</th>\n",
       "      <th>min</th>\n",
       "      <th>25%</th>\n",
       "      <th>50%</th>\n",
       "      <th>75%</th>\n",
       "      <th>max</th>\n",
       "      <th>count</th>\n",
       "      <th>mean</th>\n",
       "      <th>std</th>\n",
       "      <th>min</th>\n",
       "      <th>25%</th>\n",
       "      <th>50%</th>\n",
       "      <th>75%</th>\n",
       "      <th>max</th>\n",
       "    </tr>\n",
       "    <tr>\n",
       "      <th>TitleFit</th>\n",
       "      <th></th>\n",
       "      <th></th>\n",
       "      <th></th>\n",
       "      <th></th>\n",
       "      <th></th>\n",
       "      <th></th>\n",
       "      <th></th>\n",
       "      <th></th>\n",
       "      <th></th>\n",
       "      <th></th>\n",
       "      <th></th>\n",
       "      <th></th>\n",
       "      <th></th>\n",
       "      <th></th>\n",
       "      <th></th>\n",
       "      <th></th>\n",
       "    </tr>\n",
       "  </thead>\n",
       "  <tbody>\n",
       "    <tr>\n",
       "      <th>Fine</th>\n",
       "      <td>2759.0</td>\n",
       "      <td>33.849946</td>\n",
       "      <td>9.207618</td>\n",
       "      <td>16.0</td>\n",
       "      <td>27.0</td>\n",
       "      <td>32.0</td>\n",
       "      <td>38.0</td>\n",
       "      <td>70.0</td>\n",
       "      <td>2759.0</td>\n",
       "      <td>6.733237</td>\n",
       "      <td>2.035015</td>\n",
       "      <td>1.0</td>\n",
       "      <td>6.0</td>\n",
       "      <td>7.0</td>\n",
       "      <td>8.0</td>\n",
       "      <td>10.0</td>\n",
       "    </tr>\n",
       "    <tr>\n",
       "      <th>Perfectly</th>\n",
       "      <td>857.0</td>\n",
       "      <td>33.246208</td>\n",
       "      <td>8.800160</td>\n",
       "      <td>18.0</td>\n",
       "      <td>27.0</td>\n",
       "      <td>31.0</td>\n",
       "      <td>37.0</td>\n",
       "      <td>67.0</td>\n",
       "      <td>857.0</td>\n",
       "      <td>7.284714</td>\n",
       "      <td>2.106546</td>\n",
       "      <td>1.0</td>\n",
       "      <td>6.0</td>\n",
       "      <td>8.0</td>\n",
       "      <td>9.0</td>\n",
       "      <td>10.0</td>\n",
       "    </tr>\n",
       "    <tr>\n",
       "      <th>Poorly</th>\n",
       "      <td>546.0</td>\n",
       "      <td>35.725275</td>\n",
       "      <td>10.263750</td>\n",
       "      <td>20.0</td>\n",
       "      <td>28.0</td>\n",
       "      <td>33.0</td>\n",
       "      <td>42.0</td>\n",
       "      <td>70.0</td>\n",
       "      <td>546.0</td>\n",
       "      <td>5.816850</td>\n",
       "      <td>2.375596</td>\n",
       "      <td>1.0</td>\n",
       "      <td>4.0</td>\n",
       "      <td>6.0</td>\n",
       "      <td>8.0</td>\n",
       "      <td>10.0</td>\n",
       "    </tr>\n",
       "  </tbody>\n",
       "</table>\n",
       "</div>"
      ],
      "text/plain": [
       "              Age                                                      \\\n",
       "            count       mean        std   min   25%   50%   75%   max   \n",
       "TitleFit                                                                \n",
       "Fine       2759.0  33.849946   9.207618  16.0  27.0  32.0  38.0  70.0   \n",
       "Perfectly   857.0  33.246208   8.800160  18.0  27.0  31.0  37.0  67.0   \n",
       "Poorly      546.0  35.725275  10.263750  20.0  28.0  33.0  42.0  70.0   \n",
       "\n",
       "          JobSatisfaction                                                \n",
       "                    count      mean       std  min  25%  50%  75%   max  \n",
       "TitleFit                                                                 \n",
       "Fine               2759.0  6.733237  2.035015  1.0  6.0  7.0  8.0  10.0  \n",
       "Perfectly           857.0  7.284714  2.106546  1.0  6.0  8.0  9.0  10.0  \n",
       "Poorly              546.0  5.816850  2.375596  1.0  4.0  6.0  8.0  10.0  "
      ]
     },
     "execution_count": 59,
     "metadata": {},
     "output_type": "execute_result"
    }
   ],
   "source": [
    "title_fit.groupby('TitleFit').describe()"
   ]
  },
  {
   "cell_type": "code",
   "execution_count": 60,
   "metadata": {},
   "outputs": [],
   "source": [
    "title_fit['TitleFit'] = title_fit['TitleFit'].replace(['Perfectly', 'Fine', 'Poorly'], [3, 2, 1])"
   ]
  },
  {
   "cell_type": "code",
   "execution_count": 61,
   "metadata": {},
   "outputs": [
    {
     "name": "stdout",
     "output_type": "stream",
     "text": [
      "The correlation between JobSatisfaction and TitleFit (r): 0.190358460781\n",
      "The correlation is statistically significant with a 95% C.I. as the p_value < 0.05: 2.9430415927e-35\n",
      "The correlation is reasonable and would be a good candidate for improving the accuracy of a prediction model.\n"
     ]
    }
   ],
   "source": [
    "correlation_linregress('TitleFit', title_fit)"
   ]
  },
  {
   "cell_type": "markdown",
   "metadata": {},
   "source": [
    "# Employer Size"
   ]
  },
  {
   "cell_type": "code",
   "execution_count": 62,
   "metadata": {},
   "outputs": [],
   "source": [
    "employer_size = clean_MC_data[['JobSatisfaction', 'EmployerSize']].dropna()"
   ]
  },
  {
   "cell_type": "code",
   "execution_count": 63,
   "metadata": {},
   "outputs": [
    {
     "data": {
      "text/plain": [
       "array(['20 to 99 employees', '100 to 499 employees',\n",
       "       'Fewer than 10 employees', \"I don't know\",\n",
       "       '5,000 to 9,999 employees', '10,000 or more employees',\n",
       "       '1,000 to 4,999 employees', '10 to 19 employees',\n",
       "       '500 to 999 employees', 'I prefer not to answer'], dtype=object)"
      ]
     },
     "execution_count": 63,
     "metadata": {},
     "output_type": "execute_result"
    }
   ],
   "source": [
    "employer_size['EmployerSize'].unique()"
   ]
  },
  {
   "cell_type": "code",
   "execution_count": 64,
   "metadata": {},
   "outputs": [
    {
     "data": {
      "text/plain": [
       "10,000 or more employees    805\n",
       "100 to 499 employees        665\n",
       "20 to 99 employees          646\n",
       "1,000 to 4,999 employees    547\n",
       "500 to 999 employees        302\n",
       "10 to 19 employees          276\n",
       "Fewer than 10 employees     232\n",
       "5,000 to 9,999 employees    206\n",
       "I don't know                 96\n",
       "I prefer not to answer       21\n",
       "Name: EmployerSize, dtype: int64"
      ]
     },
     "execution_count": 64,
     "metadata": {},
     "output_type": "execute_result"
    }
   ],
   "source": [
    "employer_size['EmployerSize'].value_counts()"
   ]
  },
  {
   "cell_type": "code",
   "execution_count": 65,
   "metadata": {},
   "outputs": [],
   "source": [
    "employer_size = employer_size[employer_size['EmployerSize'] != \"I don't know\"]\n",
    "employer_size = employer_size[employer_size['EmployerSize'] != \"I prefer not to answer\"]"
   ]
  },
  {
   "cell_type": "code",
   "execution_count": 66,
   "metadata": {},
   "outputs": [
    {
     "data": {
      "text/plain": [
       "10,000 or more employees    805\n",
       "100 to 499 employees        665\n",
       "20 to 99 employees          646\n",
       "1,000 to 4,999 employees    547\n",
       "500 to 999 employees        302\n",
       "10 to 19 employees          276\n",
       "Fewer than 10 employees     232\n",
       "5,000 to 9,999 employees    206\n",
       "Name: EmployerSize, dtype: int64"
      ]
     },
     "execution_count": 66,
     "metadata": {},
     "output_type": "execute_result"
    }
   ],
   "source": [
    "employer_size['EmployerSize'].value_counts()"
   ]
  },
  {
   "cell_type": "code",
   "execution_count": 67,
   "metadata": {},
   "outputs": [
    {
     "data": {
      "image/png": "[encoded data removed]",
      "text/plain": [
       "<matplotlib.figure.Figure at 0x28aa9b73828>"
      ]
     },
     "metadata": {},
     "output_type": "display_data"
    }
   ],
   "source": [
    "plt.figure(figsize=(16,6))\n",
    "sns.countplot(x=\"EmployerSize\", data=employer_size).set_title('Size of Employer')\n",
    "plt.tight_layout()\n",
    "plt.show()"
   ]
  },
  {
   "cell_type": "code",
   "execution_count": 68,
   "metadata": {},
   "outputs": [
    {
     "data": {
      "text/plain": [
       "array(['20 to 99 employees', '100 to 499 employees',\n",
       "       'Fewer than 10 employees', '5,000 to 9,999 employees',\n",
       "       '10,000 or more employees', '1,000 to 4,999 employees',\n",
       "       '10 to 19 employees', '500 to 999 employees'], dtype=object)"
      ]
     },
     "execution_count": 68,
     "metadata": {},
     "output_type": "execute_result"
    }
   ],
   "source": [
    "employer_size[\"EmployerSize\"].unique()"
   ]
  },
  {
   "cell_type": "code",
   "execution_count": 69,
   "metadata": {},
   "outputs": [],
   "source": [
    "employer_size[\"EmployerSize\"] = employer_size[\"EmployerSize\"].str.replace(',', '')"
   ]
  },
  {
   "cell_type": "code",
   "execution_count": 70,
   "metadata": {},
   "outputs": [
    {
     "data": {
      "text/plain": [
       "array(['20 to 99 employees', '100 to 499 employees',\n",
       "       'Fewer than 10 employees', '5000 to 9999 employees',\n",
       "       '10000 or more employees', '1000 to 4999 employees',\n",
       "       '10 to 19 employees', '500 to 999 employees'], dtype=object)"
      ]
     },
     "execution_count": 70,
     "metadata": {},
     "output_type": "execute_result"
    }
   ],
   "source": [
    "employer_size[\"EmployerSize\"].unique()"
   ]
  },
  {
   "cell_type": "code",
   "execution_count": 71,
   "metadata": {},
   "outputs": [
    {
     "data": {
      "text/html": [
       "<div>\n",
       "<style>\n",
       "    .dataframe thead tr:only-child th {\n",
       "        text-align: right;\n",
       "    }\n",
       "\n",
       "    .dataframe thead th {\n",
       "        text-align: left;\n",
       "    }\n",
       "\n",
       "    .dataframe tbody tr th {\n",
       "        vertical-align: top;\n",
       "    }\n",
       "</style>\n",
       "<table border=\"1\" class=\"dataframe\">\n",
       "  <thead>\n",
       "    <tr style=\"text-align: right;\">\n",
       "      <th>JobSatisfaction</th>\n",
       "      <th>1</th>\n",
       "      <th>2</th>\n",
       "      <th>3</th>\n",
       "      <th>4</th>\n",
       "      <th>5</th>\n",
       "      <th>6</th>\n",
       "      <th>7</th>\n",
       "      <th>8</th>\n",
       "      <th>9</th>\n",
       "      <th>10</th>\n",
       "    </tr>\n",
       "    <tr>\n",
       "      <th>EmployerSize</th>\n",
       "      <th></th>\n",
       "      <th></th>\n",
       "      <th></th>\n",
       "      <th></th>\n",
       "      <th></th>\n",
       "      <th></th>\n",
       "      <th></th>\n",
       "      <th></th>\n",
       "      <th></th>\n",
       "      <th></th>\n",
       "    </tr>\n",
       "  </thead>\n",
       "  <tbody>\n",
       "    <tr>\n",
       "      <th>10 to 19 employees</th>\n",
       "      <td>9</td>\n",
       "      <td>5</td>\n",
       "      <td>17</td>\n",
       "      <td>5</td>\n",
       "      <td>31</td>\n",
       "      <td>37</td>\n",
       "      <td>62</td>\n",
       "      <td>56</td>\n",
       "      <td>32</td>\n",
       "      <td>22</td>\n",
       "    </tr>\n",
       "    <tr>\n",
       "      <th>100 to 499 employees</th>\n",
       "      <td>18</td>\n",
       "      <td>9</td>\n",
       "      <td>41</td>\n",
       "      <td>37</td>\n",
       "      <td>70</td>\n",
       "      <td>83</td>\n",
       "      <td>153</td>\n",
       "      <td>136</td>\n",
       "      <td>75</td>\n",
       "      <td>43</td>\n",
       "    </tr>\n",
       "    <tr>\n",
       "      <th>1000 to 4999 employees</th>\n",
       "      <td>14</td>\n",
       "      <td>8</td>\n",
       "      <td>27</td>\n",
       "      <td>43</td>\n",
       "      <td>43</td>\n",
       "      <td>57</td>\n",
       "      <td>131</td>\n",
       "      <td>130</td>\n",
       "      <td>62</td>\n",
       "      <td>32</td>\n",
       "    </tr>\n",
       "    <tr>\n",
       "      <th>10000 or more employees</th>\n",
       "      <td>27</td>\n",
       "      <td>13</td>\n",
       "      <td>56</td>\n",
       "      <td>48</td>\n",
       "      <td>81</td>\n",
       "      <td>91</td>\n",
       "      <td>192</td>\n",
       "      <td>166</td>\n",
       "      <td>65</td>\n",
       "      <td>66</td>\n",
       "    </tr>\n",
       "    <tr>\n",
       "      <th>20 to 99 employees</th>\n",
       "      <td>10</td>\n",
       "      <td>14</td>\n",
       "      <td>35</td>\n",
       "      <td>39</td>\n",
       "      <td>56</td>\n",
       "      <td>93</td>\n",
       "      <td>139</td>\n",
       "      <td>140</td>\n",
       "      <td>79</td>\n",
       "      <td>41</td>\n",
       "    </tr>\n",
       "    <tr>\n",
       "      <th>500 to 999 employees</th>\n",
       "      <td>10</td>\n",
       "      <td>4</td>\n",
       "      <td>16</td>\n",
       "      <td>15</td>\n",
       "      <td>33</td>\n",
       "      <td>30</td>\n",
       "      <td>65</td>\n",
       "      <td>67</td>\n",
       "      <td>40</td>\n",
       "      <td>22</td>\n",
       "    </tr>\n",
       "    <tr>\n",
       "      <th>5000 to 9999 employees</th>\n",
       "      <td>8</td>\n",
       "      <td>3</td>\n",
       "      <td>14</td>\n",
       "      <td>14</td>\n",
       "      <td>21</td>\n",
       "      <td>24</td>\n",
       "      <td>46</td>\n",
       "      <td>35</td>\n",
       "      <td>23</td>\n",
       "      <td>18</td>\n",
       "    </tr>\n",
       "    <tr>\n",
       "      <th>Fewer than 10 employees</th>\n",
       "      <td>8</td>\n",
       "      <td>2</td>\n",
       "      <td>10</td>\n",
       "      <td>12</td>\n",
       "      <td>18</td>\n",
       "      <td>22</td>\n",
       "      <td>52</td>\n",
       "      <td>50</td>\n",
       "      <td>34</td>\n",
       "      <td>24</td>\n",
       "    </tr>\n",
       "  </tbody>\n",
       "</table>\n",
       "</div>"
      ],
      "text/plain": [
       "JobSatisfaction          1   2   3   4   5   6    7    8   9   10\n",
       "EmployerSize                                                     \n",
       "10 to 19 employees        9   5  17   5  31  37   62   56  32  22\n",
       "100 to 499 employees     18   9  41  37  70  83  153  136  75  43\n",
       "1000 to 4999 employees   14   8  27  43  43  57  131  130  62  32\n",
       "10000 or more employees  27  13  56  48  81  91  192  166  65  66\n",
       "20 to 99 employees       10  14  35  39  56  93  139  140  79  41\n",
       "500 to 999 employees     10   4  16  15  33  30   65   67  40  22\n",
       "5000 to 9999 employees    8   3  14  14  21  24   46   35  23  18\n",
       "Fewer than 10 employees   8   2  10  12  18  22   52   50  34  24"
      ]
     },
     "execution_count": 71,
     "metadata": {},
     "output_type": "execute_result"
    }
   ],
   "source": [
    "employer_size_crosstab = pd.crosstab(index=employer_size[\"EmployerSize\"],\n",
    "                                columns=employer_size[\"JobSatisfaction\"])\n",
    "employer_size_crosstab"
   ]
  },
  {
   "cell_type": "code",
   "execution_count": 72,
   "metadata": {},
   "outputs": [
    {
     "data": {
      "text/html": [
       "<div>\n",
       "<style>\n",
       "    .dataframe thead tr:only-child th {\n",
       "        text-align: right;\n",
       "    }\n",
       "\n",
       "    .dataframe thead th {\n",
       "        text-align: left;\n",
       "    }\n",
       "\n",
       "    .dataframe tbody tr th {\n",
       "        vertical-align: top;\n",
       "    }\n",
       "</style>\n",
       "<table border=\"1\" class=\"dataframe\">\n",
       "  <thead>\n",
       "    <tr>\n",
       "      <th></th>\n",
       "      <th colspan=\"8\" halign=\"left\">JobSatisfaction</th>\n",
       "    </tr>\n",
       "    <tr>\n",
       "      <th></th>\n",
       "      <th>count</th>\n",
       "      <th>mean</th>\n",
       "      <th>std</th>\n",
       "      <th>min</th>\n",
       "      <th>25%</th>\n",
       "      <th>50%</th>\n",
       "      <th>75%</th>\n",
       "      <th>max</th>\n",
       "    </tr>\n",
       "    <tr>\n",
       "      <th>EmployerSize</th>\n",
       "      <th></th>\n",
       "      <th></th>\n",
       "      <th></th>\n",
       "      <th></th>\n",
       "      <th></th>\n",
       "      <th></th>\n",
       "      <th></th>\n",
       "      <th></th>\n",
       "    </tr>\n",
       "  </thead>\n",
       "  <tbody>\n",
       "    <tr>\n",
       "      <th>10 to 19 employees</th>\n",
       "      <td>276.0</td>\n",
       "      <td>6.728261</td>\n",
       "      <td>2.164692</td>\n",
       "      <td>1.0</td>\n",
       "      <td>6.0</td>\n",
       "      <td>7.0</td>\n",
       "      <td>8.00</td>\n",
       "      <td>10.0</td>\n",
       "    </tr>\n",
       "    <tr>\n",
       "      <th>100 to 499 employees</th>\n",
       "      <td>665.0</td>\n",
       "      <td>6.645113</td>\n",
       "      <td>2.112872</td>\n",
       "      <td>1.0</td>\n",
       "      <td>5.0</td>\n",
       "      <td>7.0</td>\n",
       "      <td>8.00</td>\n",
       "      <td>10.0</td>\n",
       "    </tr>\n",
       "    <tr>\n",
       "      <th>1000 to 4999 employees</th>\n",
       "      <td>547.0</td>\n",
       "      <td>6.718464</td>\n",
       "      <td>2.085465</td>\n",
       "      <td>1.0</td>\n",
       "      <td>6.0</td>\n",
       "      <td>7.0</td>\n",
       "      <td>8.00</td>\n",
       "      <td>10.0</td>\n",
       "    </tr>\n",
       "    <tr>\n",
       "      <th>10000 or more employees</th>\n",
       "      <td>805.0</td>\n",
       "      <td>6.560248</td>\n",
       "      <td>2.203663</td>\n",
       "      <td>1.0</td>\n",
       "      <td>5.0</td>\n",
       "      <td>7.0</td>\n",
       "      <td>8.00</td>\n",
       "      <td>10.0</td>\n",
       "    </tr>\n",
       "    <tr>\n",
       "      <th>20 to 99 employees</th>\n",
       "      <td>646.0</td>\n",
       "      <td>6.735294</td>\n",
       "      <td>2.052692</td>\n",
       "      <td>1.0</td>\n",
       "      <td>6.0</td>\n",
       "      <td>7.0</td>\n",
       "      <td>8.00</td>\n",
       "      <td>10.0</td>\n",
       "    </tr>\n",
       "    <tr>\n",
       "      <th>500 to 999 employees</th>\n",
       "      <td>302.0</td>\n",
       "      <td>6.761589</td>\n",
       "      <td>2.172644</td>\n",
       "      <td>1.0</td>\n",
       "      <td>5.0</td>\n",
       "      <td>7.0</td>\n",
       "      <td>8.00</td>\n",
       "      <td>10.0</td>\n",
       "    </tr>\n",
       "    <tr>\n",
       "      <th>5000 to 9999 employees</th>\n",
       "      <td>206.0</td>\n",
       "      <td>6.553398</td>\n",
       "      <td>2.283464</td>\n",
       "      <td>1.0</td>\n",
       "      <td>5.0</td>\n",
       "      <td>7.0</td>\n",
       "      <td>8.00</td>\n",
       "      <td>10.0</td>\n",
       "    </tr>\n",
       "    <tr>\n",
       "      <th>Fewer than 10 employees</th>\n",
       "      <td>232.0</td>\n",
       "      <td>6.991379</td>\n",
       "      <td>2.184145</td>\n",
       "      <td>1.0</td>\n",
       "      <td>6.0</td>\n",
       "      <td>7.0</td>\n",
       "      <td>8.25</td>\n",
       "      <td>10.0</td>\n",
       "    </tr>\n",
       "  </tbody>\n",
       "</table>\n",
       "</div>"
      ],
      "text/plain": [
       "                        JobSatisfaction                                     \\\n",
       "                                  count      mean       std  min  25%  50%   \n",
       "EmployerSize                                                                 \n",
       "10 to 19 employees                276.0  6.728261  2.164692  1.0  6.0  7.0   \n",
       "100 to 499 employees              665.0  6.645113  2.112872  1.0  5.0  7.0   \n",
       "1000 to 4999 employees            547.0  6.718464  2.085465  1.0  6.0  7.0   \n",
       "10000 or more employees           805.0  6.560248  2.203663  1.0  5.0  7.0   \n",
       "20 to 99 employees                646.0  6.735294  2.052692  1.0  6.0  7.0   \n",
       "500 to 999 employees              302.0  6.761589  2.172644  1.0  5.0  7.0   \n",
       "5000 to 9999 employees            206.0  6.553398  2.283464  1.0  5.0  7.0   \n",
       "Fewer than 10 employees           232.0  6.991379  2.184145  1.0  6.0  7.0   \n",
       "\n",
       "                                     \n",
       "                          75%   max  \n",
       "EmployerSize                         \n",
       "10 to 19 employees       8.00  10.0  \n",
       "100 to 499 employees     8.00  10.0  \n",
       "1000 to 4999 employees   8.00  10.0  \n",
       "10000 or more employees  8.00  10.0  \n",
       "20 to 99 employees       8.00  10.0  \n",
       "500 to 999 employees     8.00  10.0  \n",
       "5000 to 9999 employees   8.00  10.0  \n",
       "Fewer than 10 employees  8.25  10.0  "
      ]
     },
     "execution_count": 72,
     "metadata": {},
     "output_type": "execute_result"
    }
   ],
   "source": [
    "employer_size.groupby('EmployerSize').describe()"
   ]
  },
  {
   "cell_type": "markdown",
   "metadata": {},
   "source": [
    "# Remote Work"
   ]
  },
  {
   "cell_type": "code",
   "execution_count": 73,
   "metadata": {},
   "outputs": [],
   "source": [
    "#remote_work = clean_MC_data[['JobSatisfaction', 'RemoteWork']].dropna()\n",
    "remote_work = clean_MC_data[['JobSatisfaction', 'RemoteWork', 'Age', 'GenderSelect']]"
   ]
  },
  {
   "cell_type": "code",
   "execution_count": 74,
   "metadata": {},
   "outputs": [
    {
     "data": {
      "text/plain": [
       "array(['Rarely', 'Sometimes', 'Always', 'Most of the time', nan, 'Never',\n",
       "       \"Don't know\"], dtype=object)"
      ]
     },
     "execution_count": 74,
     "metadata": {},
     "output_type": "execute_result"
    }
   ],
   "source": [
    "remote_work['RemoteWork'].unique()"
   ]
  },
  {
   "cell_type": "code",
   "execution_count": 75,
   "metadata": {},
   "outputs": [
    {
     "data": {
      "text/plain": [
       "Sometimes           1562\n",
       "Rarely              1141\n",
       "Never                520\n",
       "Most of the time     386\n",
       "Always               214\n",
       "Don't know            12\n",
       "Name: RemoteWork, dtype: int64"
      ]
     },
     "execution_count": 75,
     "metadata": {},
     "output_type": "execute_result"
    }
   ],
   "source": [
    "remote_work['RemoteWork'].value_counts()"
   ]
  },
  {
   "cell_type": "code",
   "execution_count": 76,
   "metadata": {},
   "outputs": [],
   "source": [
    "#remote_work = remote_work[remote_work['RemoteWork'] != \"Don't know\"]\n",
    "remote_work.replace(\"Don't know\", \"Sometimes\", inplace=True)\n",
    "remote_work.fillna(value=\"Sometimes\", inplace=True)"
   ]
  },
  {
   "cell_type": "code",
   "execution_count": 77,
   "metadata": {},
   "outputs": [
    {
     "data": {
      "text/plain": [
       "Sometimes           1901\n",
       "Rarely              1141\n",
       "Never                520\n",
       "Most of the time     386\n",
       "Always               214\n",
       "Name: RemoteWork, dtype: int64"
      ]
     },
     "execution_count": 77,
     "metadata": {},
     "output_type": "execute_result"
    }
   ],
   "source": [
    "remote_work['RemoteWork'].value_counts()"
   ]
  },
  {
   "cell_type": "code",
   "execution_count": 78,
   "metadata": {},
   "outputs": [
    {
     "data": {
      "image/png": "[encoded data removed]",
      "text/plain": [
       "<matplotlib.figure.Figure at 0x28aa9b51ba8>"
      ]
     },
     "metadata": {},
     "output_type": "display_data"
    }
   ],
   "source": [
    "sns.countplot(x=\"RemoteWork\", data=remote_work).set_title('Working Remotely')\n",
    "plt.show()"
   ]
  },
  {
   "cell_type": "code",
   "execution_count": 79,
   "metadata": {},
   "outputs": [
    {
     "data": {
      "text/html": [
       "<div>\n",
       "<style>\n",
       "    .dataframe thead tr:only-child th {\n",
       "        text-align: right;\n",
       "    }\n",
       "\n",
       "    .dataframe thead th {\n",
       "        text-align: left;\n",
       "    }\n",
       "\n",
       "    .dataframe tbody tr th {\n",
       "        vertical-align: top;\n",
       "    }\n",
       "</style>\n",
       "<table border=\"1\" class=\"dataframe\">\n",
       "  <thead>\n",
       "    <tr>\n",
       "      <th></th>\n",
       "      <th colspan=\"8\" halign=\"left\">Age</th>\n",
       "      <th colspan=\"8\" halign=\"left\">JobSatisfaction</th>\n",
       "    </tr>\n",
       "    <tr>\n",
       "      <th></th>\n",
       "      <th>count</th>\n",
       "      <th>mean</th>\n",
       "      <th>std</th>\n",
       "      <th>min</th>\n",
       "      <th>25%</th>\n",
       "      <th>50%</th>\n",
       "      <th>75%</th>\n",
       "      <th>max</th>\n",
       "      <th>count</th>\n",
       "      <th>mean</th>\n",
       "      <th>std</th>\n",
       "      <th>min</th>\n",
       "      <th>25%</th>\n",
       "      <th>50%</th>\n",
       "      <th>75%</th>\n",
       "      <th>max</th>\n",
       "    </tr>\n",
       "    <tr>\n",
       "      <th>RemoteWork</th>\n",
       "      <th></th>\n",
       "      <th></th>\n",
       "      <th></th>\n",
       "      <th></th>\n",
       "      <th></th>\n",
       "      <th></th>\n",
       "      <th></th>\n",
       "      <th></th>\n",
       "      <th></th>\n",
       "      <th></th>\n",
       "      <th></th>\n",
       "      <th></th>\n",
       "      <th></th>\n",
       "      <th></th>\n",
       "      <th></th>\n",
       "      <th></th>\n",
       "    </tr>\n",
       "  </thead>\n",
       "  <tbody>\n",
       "    <tr>\n",
       "      <th>Always</th>\n",
       "      <td>214.0</td>\n",
       "      <td>35.705607</td>\n",
       "      <td>10.442881</td>\n",
       "      <td>16.0</td>\n",
       "      <td>28.0</td>\n",
       "      <td>33.0</td>\n",
       "      <td>42.0</td>\n",
       "      <td>68.0</td>\n",
       "      <td>214.0</td>\n",
       "      <td>7.546729</td>\n",
       "      <td>2.043003</td>\n",
       "      <td>1.0</td>\n",
       "      <td>7.0</td>\n",
       "      <td>8.0</td>\n",
       "      <td>9.0</td>\n",
       "      <td>10.0</td>\n",
       "    </tr>\n",
       "    <tr>\n",
       "      <th>Most of the time</th>\n",
       "      <td>386.0</td>\n",
       "      <td>37.365285</td>\n",
       "      <td>10.533742</td>\n",
       "      <td>20.0</td>\n",
       "      <td>29.0</td>\n",
       "      <td>35.0</td>\n",
       "      <td>44.0</td>\n",
       "      <td>67.0</td>\n",
       "      <td>386.0</td>\n",
       "      <td>7.018135</td>\n",
       "      <td>2.077006</td>\n",
       "      <td>1.0</td>\n",
       "      <td>6.0</td>\n",
       "      <td>7.0</td>\n",
       "      <td>8.0</td>\n",
       "      <td>10.0</td>\n",
       "    </tr>\n",
       "    <tr>\n",
       "      <th>Never</th>\n",
       "      <td>520.0</td>\n",
       "      <td>31.936538</td>\n",
       "      <td>8.073710</td>\n",
       "      <td>21.0</td>\n",
       "      <td>26.0</td>\n",
       "      <td>30.0</td>\n",
       "      <td>36.0</td>\n",
       "      <td>66.0</td>\n",
       "      <td>520.0</td>\n",
       "      <td>6.028846</td>\n",
       "      <td>2.244483</td>\n",
       "      <td>1.0</td>\n",
       "      <td>5.0</td>\n",
       "      <td>6.0</td>\n",
       "      <td>8.0</td>\n",
       "      <td>10.0</td>\n",
       "    </tr>\n",
       "    <tr>\n",
       "      <th>Rarely</th>\n",
       "      <td>1141.0</td>\n",
       "      <td>32.506573</td>\n",
       "      <td>8.380177</td>\n",
       "      <td>20.0</td>\n",
       "      <td>27.0</td>\n",
       "      <td>31.0</td>\n",
       "      <td>36.0</td>\n",
       "      <td>70.0</td>\n",
       "      <td>1141.0</td>\n",
       "      <td>6.677476</td>\n",
       "      <td>2.066719</td>\n",
       "      <td>1.0</td>\n",
       "      <td>6.0</td>\n",
       "      <td>7.0</td>\n",
       "      <td>8.0</td>\n",
       "      <td>10.0</td>\n",
       "    </tr>\n",
       "    <tr>\n",
       "      <th>Sometimes</th>\n",
       "      <td>1901.0</td>\n",
       "      <td>34.523409</td>\n",
       "      <td>9.447645</td>\n",
       "      <td>18.0</td>\n",
       "      <td>27.0</td>\n",
       "      <td>32.0</td>\n",
       "      <td>40.0</td>\n",
       "      <td>70.0</td>\n",
       "      <td>1901.0</td>\n",
       "      <td>6.795371</td>\n",
       "      <td>2.120005</td>\n",
       "      <td>1.0</td>\n",
       "      <td>6.0</td>\n",
       "      <td>7.0</td>\n",
       "      <td>8.0</td>\n",
       "      <td>10.0</td>\n",
       "    </tr>\n",
       "  </tbody>\n",
       "</table>\n",
       "</div>"
      ],
      "text/plain": [
       "                     Age                                                      \\\n",
       "                   count       mean        std   min   25%   50%   75%   max   \n",
       "RemoteWork                                                                     \n",
       "Always             214.0  35.705607  10.442881  16.0  28.0  33.0  42.0  68.0   \n",
       "Most of the time   386.0  37.365285  10.533742  20.0  29.0  35.0  44.0  67.0   \n",
       "Never              520.0  31.936538   8.073710  21.0  26.0  30.0  36.0  66.0   \n",
       "Rarely            1141.0  32.506573   8.380177  20.0  27.0  31.0  36.0  70.0   \n",
       "Sometimes         1901.0  34.523409   9.447645  18.0  27.0  32.0  40.0  70.0   \n",
       "\n",
       "                 JobSatisfaction                                                \n",
       "                           count      mean       std  min  25%  50%  75%   max  \n",
       "RemoteWork                                                                      \n",
       "Always                     214.0  7.546729  2.043003  1.0  7.0  8.0  9.0  10.0  \n",
       "Most of the time           386.0  7.018135  2.077006  1.0  6.0  7.0  8.0  10.0  \n",
       "Never                      520.0  6.028846  2.244483  1.0  5.0  6.0  8.0  10.0  \n",
       "Rarely                    1141.0  6.677476  2.066719  1.0  6.0  7.0  8.0  10.0  \n",
       "Sometimes                 1901.0  6.795371  2.120005  1.0  6.0  7.0  8.0  10.0  "
      ]
     },
     "execution_count": 79,
     "metadata": {},
     "output_type": "execute_result"
    }
   ],
   "source": [
    "remote_work.groupby('RemoteWork').describe()"
   ]
  },
  {
   "cell_type": "code",
   "execution_count": 80,
   "metadata": {},
   "outputs": [],
   "source": [
    "remote_work = remote_work.replace(['Always', 'Most of the time', 'Sometimes', 'Rarely', 'Never'], [5, 4, 3, 2, 1])"
   ]
  },
  {
   "cell_type": "code",
   "execution_count": 81,
   "metadata": {},
   "outputs": [
    {
     "name": "stdout",
     "output_type": "stream",
     "text": [
      "The correlation between JobSatisfaction and RemoteWork (r): 0.142532081316\n",
      "The correlation is statistically significant with a 95% C.I. as the p_value < 0.05: 2.47190071757e-20\n",
      "The correlation is reasonable and would be a good candidate for improving the accuracy of a prediction model.\n"
     ]
    }
   ],
   "source": [
    "correlation_linregress('RemoteWork', remote_work)"
   ]
  },
  {
   "cell_type": "markdown",
   "metadata": {},
   "source": [
    "# Salary Change"
   ]
  },
  {
   "cell_type": "code",
   "execution_count": 82,
   "metadata": {},
   "outputs": [],
   "source": [
    "salary_change = clean_MC_data[['JobSatisfaction', 'SalaryChange', 'Age', 'GenderSelect']]\n",
    "salary_change.fillna(value=\"Other\", inplace=True)"
   ]
  },
  {
   "cell_type": "code",
   "execution_count": 83,
   "metadata": {},
   "outputs": [
    {
     "data": {
      "text/plain": [
       "array(['Has stayed about the same (has not increased or decreased more than 5%)',\n",
       "       'Has increased between 6% and 19%', 'Has increased 20% or more',\n",
       "       'I was not employed 3 years ago',\n",
       "       'I do not want to share information about my salary/compensation',\n",
       "       'Has decreased 20% or more', 'Other',\n",
       "       'Has decreased between 6% and 19%', 'I am not currently employed'], dtype=object)"
      ]
     },
     "execution_count": 83,
     "metadata": {},
     "output_type": "execute_result"
    }
   ],
   "source": [
    "salary_change['SalaryChange'].unique()"
   ]
  },
  {
   "cell_type": "code",
   "execution_count": 84,
   "metadata": {},
   "outputs": [
    {
     "data": {
      "text/plain": [
       "Has increased 20% or more                                                  1381\n",
       "Has increased between 6% and 19%                                           1029\n",
       "Has stayed about the same (has not increased or decreased more than 5%)     932\n",
       "I was not employed 3 years ago                                              487\n",
       "I do not want to share information about my salary/compensation              88\n",
       "Other                                                                        83\n",
       "Has decreased 20% or more                                                    78\n",
       "Has decreased between 6% and 19%                                             66\n",
       "I am not currently employed                                                  18\n",
       "Name: SalaryChange, dtype: int64"
      ]
     },
     "execution_count": 84,
     "metadata": {},
     "output_type": "execute_result"
    }
   ],
   "source": [
    "salary_change['SalaryChange'].value_counts()"
   ]
  },
  {
   "cell_type": "code",
   "execution_count": 85,
   "metadata": {},
   "outputs": [],
   "source": [
    "# salary_change = salary_change[salary_change['SalaryChange'] != \"I am not currently employed\"]\n",
    "# salary_change = salary_change[salary_change['SalaryChange'] != \"I was not employed 3 years ago\"]\n",
    "# salary_change = salary_change[salary_change['SalaryChange'] != \"Other\"]\n",
    "# salary_change = salary_change[salary_change['SalaryChange'] != \"I do not want to share information about my salary/compensation\"]"
   ]
  },
  {
   "cell_type": "code",
   "execution_count": 86,
   "metadata": {},
   "outputs": [
    {
     "data": {
      "text/plain": [
       "Has increased 20% or more                                                  1381\n",
       "Has increased between 6% and 19%                                           1029\n",
       "Has stayed about the same (has not increased or decreased more than 5%)     932\n",
       "I was not employed 3 years ago                                              487\n",
       "I do not want to share information about my salary/compensation              88\n",
       "Other                                                                        83\n",
       "Has decreased 20% or more                                                    78\n",
       "Has decreased between 6% and 19%                                             66\n",
       "I am not currently employed                                                  18\n",
       "Name: SalaryChange, dtype: int64"
      ]
     },
     "execution_count": 86,
     "metadata": {},
     "output_type": "execute_result"
    }
   ],
   "source": [
    "salary_change['SalaryChange'].value_counts()"
   ]
  },
  {
   "cell_type": "code",
   "execution_count": 87,
   "metadata": {},
   "outputs": [
    {
     "data": {
      "text/html": [
       "<div>\n",
       "<style>\n",
       "    .dataframe thead tr:only-child th {\n",
       "        text-align: right;\n",
       "    }\n",
       "\n",
       "    .dataframe thead th {\n",
       "        text-align: left;\n",
       "    }\n",
       "\n",
       "    .dataframe tbody tr th {\n",
       "        vertical-align: top;\n",
       "    }\n",
       "</style>\n",
       "<table border=\"1\" class=\"dataframe\">\n",
       "  <thead>\n",
       "    <tr>\n",
       "      <th></th>\n",
       "      <th colspan=\"8\" halign=\"left\">Age</th>\n",
       "      <th colspan=\"8\" halign=\"left\">JobSatisfaction</th>\n",
       "    </tr>\n",
       "    <tr>\n",
       "      <th></th>\n",
       "      <th>count</th>\n",
       "      <th>mean</th>\n",
       "      <th>std</th>\n",
       "      <th>min</th>\n",
       "      <th>25%</th>\n",
       "      <th>50%</th>\n",
       "      <th>75%</th>\n",
       "      <th>max</th>\n",
       "      <th>count</th>\n",
       "      <th>mean</th>\n",
       "      <th>std</th>\n",
       "      <th>min</th>\n",
       "      <th>25%</th>\n",
       "      <th>50%</th>\n",
       "      <th>75%</th>\n",
       "      <th>max</th>\n",
       "    </tr>\n",
       "    <tr>\n",
       "      <th>SalaryChange</th>\n",
       "      <th></th>\n",
       "      <th></th>\n",
       "      <th></th>\n",
       "      <th></th>\n",
       "      <th></th>\n",
       "      <th></th>\n",
       "      <th></th>\n",
       "      <th></th>\n",
       "      <th></th>\n",
       "      <th></th>\n",
       "      <th></th>\n",
       "      <th></th>\n",
       "      <th></th>\n",
       "      <th></th>\n",
       "      <th></th>\n",
       "      <th></th>\n",
       "    </tr>\n",
       "  </thead>\n",
       "  <tbody>\n",
       "    <tr>\n",
       "      <th>Has decreased 20% or more</th>\n",
       "      <td>78.0</td>\n",
       "      <td>39.833333</td>\n",
       "      <td>10.897893</td>\n",
       "      <td>22.0</td>\n",
       "      <td>32.00</td>\n",
       "      <td>37.0</td>\n",
       "      <td>46.00</td>\n",
       "      <td>66.0</td>\n",
       "      <td>78.0</td>\n",
       "      <td>6.269231</td>\n",
       "      <td>2.479386</td>\n",
       "      <td>1.0</td>\n",
       "      <td>5.0</td>\n",
       "      <td>7.0</td>\n",
       "      <td>8.0</td>\n",
       "      <td>10.0</td>\n",
       "    </tr>\n",
       "    <tr>\n",
       "      <th>Has decreased between 6% and 19%</th>\n",
       "      <td>66.0</td>\n",
       "      <td>36.757576</td>\n",
       "      <td>9.303532</td>\n",
       "      <td>22.0</td>\n",
       "      <td>30.00</td>\n",
       "      <td>35.0</td>\n",
       "      <td>42.00</td>\n",
       "      <td>65.0</td>\n",
       "      <td>66.0</td>\n",
       "      <td>5.893939</td>\n",
       "      <td>2.354235</td>\n",
       "      <td>1.0</td>\n",
       "      <td>5.0</td>\n",
       "      <td>6.0</td>\n",
       "      <td>8.0</td>\n",
       "      <td>10.0</td>\n",
       "    </tr>\n",
       "    <tr>\n",
       "      <th>Has increased 20% or more</th>\n",
       "      <td>1381.0</td>\n",
       "      <td>31.989862</td>\n",
       "      <td>7.092753</td>\n",
       "      <td>16.0</td>\n",
       "      <td>27.00</td>\n",
       "      <td>30.0</td>\n",
       "      <td>35.00</td>\n",
       "      <td>70.0</td>\n",
       "      <td>1381.0</td>\n",
       "      <td>7.144823</td>\n",
       "      <td>1.972094</td>\n",
       "      <td>1.0</td>\n",
       "      <td>6.0</td>\n",
       "      <td>7.0</td>\n",
       "      <td>8.0</td>\n",
       "      <td>10.0</td>\n",
       "    </tr>\n",
       "    <tr>\n",
       "      <th>Has increased between 6% and 19%</th>\n",
       "      <td>1029.0</td>\n",
       "      <td>35.957240</td>\n",
       "      <td>9.151031</td>\n",
       "      <td>21.0</td>\n",
       "      <td>29.00</td>\n",
       "      <td>34.0</td>\n",
       "      <td>41.00</td>\n",
       "      <td>69.0</td>\n",
       "      <td>1029.0</td>\n",
       "      <td>6.658892</td>\n",
       "      <td>2.097634</td>\n",
       "      <td>1.0</td>\n",
       "      <td>6.0</td>\n",
       "      <td>7.0</td>\n",
       "      <td>8.0</td>\n",
       "      <td>10.0</td>\n",
       "    </tr>\n",
       "    <tr>\n",
       "      <th>Has stayed about the same (has not increased or decreased more than 5%)</th>\n",
       "      <td>932.0</td>\n",
       "      <td>38.358369</td>\n",
       "      <td>10.387358</td>\n",
       "      <td>18.0</td>\n",
       "      <td>30.00</td>\n",
       "      <td>37.0</td>\n",
       "      <td>46.00</td>\n",
       "      <td>70.0</td>\n",
       "      <td>932.0</td>\n",
       "      <td>6.226395</td>\n",
       "      <td>2.259062</td>\n",
       "      <td>1.0</td>\n",
       "      <td>5.0</td>\n",
       "      <td>7.0</td>\n",
       "      <td>8.0</td>\n",
       "      <td>10.0</td>\n",
       "    </tr>\n",
       "    <tr>\n",
       "      <th>I am not currently employed</th>\n",
       "      <td>18.0</td>\n",
       "      <td>33.333333</td>\n",
       "      <td>12.870395</td>\n",
       "      <td>19.0</td>\n",
       "      <td>24.25</td>\n",
       "      <td>28.5</td>\n",
       "      <td>43.75</td>\n",
       "      <td>55.0</td>\n",
       "      <td>18.0</td>\n",
       "      <td>7.388889</td>\n",
       "      <td>1.649916</td>\n",
       "      <td>5.0</td>\n",
       "      <td>6.0</td>\n",
       "      <td>7.5</td>\n",
       "      <td>8.0</td>\n",
       "      <td>10.0</td>\n",
       "    </tr>\n",
       "    <tr>\n",
       "      <th>I do not want to share information about my salary/compensation</th>\n",
       "      <td>88.0</td>\n",
       "      <td>31.113636</td>\n",
       "      <td>9.045774</td>\n",
       "      <td>19.0</td>\n",
       "      <td>24.75</td>\n",
       "      <td>28.0</td>\n",
       "      <td>36.00</td>\n",
       "      <td>56.0</td>\n",
       "      <td>88.0</td>\n",
       "      <td>6.534091</td>\n",
       "      <td>2.078621</td>\n",
       "      <td>1.0</td>\n",
       "      <td>5.0</td>\n",
       "      <td>7.0</td>\n",
       "      <td>8.0</td>\n",
       "      <td>10.0</td>\n",
       "    </tr>\n",
       "    <tr>\n",
       "      <th>I was not employed 3 years ago</th>\n",
       "      <td>487.0</td>\n",
       "      <td>26.663244</td>\n",
       "      <td>5.703362</td>\n",
       "      <td>19.0</td>\n",
       "      <td>23.00</td>\n",
       "      <td>25.0</td>\n",
       "      <td>28.00</td>\n",
       "      <td>70.0</td>\n",
       "      <td>487.0</td>\n",
       "      <td>6.815195</td>\n",
       "      <td>2.084317</td>\n",
       "      <td>1.0</td>\n",
       "      <td>6.0</td>\n",
       "      <td>7.0</td>\n",
       "      <td>8.0</td>\n",
       "      <td>10.0</td>\n",
       "    </tr>\n",
       "    <tr>\n",
       "      <th>Other</th>\n",
       "      <td>83.0</td>\n",
       "      <td>31.397590</td>\n",
       "      <td>8.059141</td>\n",
       "      <td>20.0</td>\n",
       "      <td>25.00</td>\n",
       "      <td>30.0</td>\n",
       "      <td>35.50</td>\n",
       "      <td>55.0</td>\n",
       "      <td>83.0</td>\n",
       "      <td>6.855422</td>\n",
       "      <td>2.338086</td>\n",
       "      <td>1.0</td>\n",
       "      <td>6.0</td>\n",
       "      <td>7.0</td>\n",
       "      <td>8.0</td>\n",
       "      <td>10.0</td>\n",
       "    </tr>\n",
       "  </tbody>\n",
       "</table>\n",
       "</div>"
      ],
      "text/plain": [
       "                                                       Age             \\\n",
       "                                                     count       mean   \n",
       "SalaryChange                                                            \n",
       "Has decreased 20% or more                             78.0  39.833333   \n",
       "Has decreased between 6% and 19%                      66.0  36.757576   \n",
       "Has increased 20% or more                           1381.0  31.989862   \n",
       "Has increased between 6% and 19%                    1029.0  35.957240   \n",
       "Has stayed about the same (has not increased or...   932.0  38.358369   \n",
       "I am not currently employed                           18.0  33.333333   \n",
       "I do not want to share information about my sal...    88.0  31.113636   \n",
       "I was not employed 3 years ago                       487.0  26.663244   \n",
       "Other                                                 83.0  31.397590   \n",
       "\n",
       "                                                                            \\\n",
       "                                                          std   min    25%   \n",
       "SalaryChange                                                                 \n",
       "Has decreased 20% or more                           10.897893  22.0  32.00   \n",
       "Has decreased between 6% and 19%                     9.303532  22.0  30.00   \n",
       "Has increased 20% or more                            7.092753  16.0  27.00   \n",
       "Has increased between 6% and 19%                     9.151031  21.0  29.00   \n",
       "Has stayed about the same (has not increased or...  10.387358  18.0  30.00   \n",
       "I am not currently employed                         12.870395  19.0  24.25   \n",
       "I do not want to share information about my sal...   9.045774  19.0  24.75   \n",
       "I was not employed 3 years ago                       5.703362  19.0  23.00   \n",
       "Other                                                8.059141  20.0  25.00   \n",
       "\n",
       "                                                                       \\\n",
       "                                                     50%    75%   max   \n",
       "SalaryChange                                                            \n",
       "Has decreased 20% or more                           37.0  46.00  66.0   \n",
       "Has decreased between 6% and 19%                    35.0  42.00  65.0   \n",
       "Has increased 20% or more                           30.0  35.00  70.0   \n",
       "Has increased between 6% and 19%                    34.0  41.00  69.0   \n",
       "Has stayed about the same (has not increased or...  37.0  46.00  70.0   \n",
       "I am not currently employed                         28.5  43.75  55.0   \n",
       "I do not want to share information about my sal...  28.0  36.00  56.0   \n",
       "I was not employed 3 years ago                      25.0  28.00  70.0   \n",
       "Other                                               30.0  35.50  55.0   \n",
       "\n",
       "                                                   JobSatisfaction            \\\n",
       "                                                             count      mean   \n",
       "SalaryChange                                                                   \n",
       "Has decreased 20% or more                                     78.0  6.269231   \n",
       "Has decreased between 6% and 19%                              66.0  5.893939   \n",
       "Has increased 20% or more                                   1381.0  7.144823   \n",
       "Has increased between 6% and 19%                            1029.0  6.658892   \n",
       "Has stayed about the same (has not increased or...           932.0  6.226395   \n",
       "I am not currently employed                                   18.0  7.388889   \n",
       "I do not want to share information about my sal...            88.0  6.534091   \n",
       "I was not employed 3 years ago                               487.0  6.815195   \n",
       "Other                                                         83.0  6.855422   \n",
       "\n",
       "                                                                             \\\n",
       "                                                         std  min  25%  50%   \n",
       "SalaryChange                                                                  \n",
       "Has decreased 20% or more                           2.479386  1.0  5.0  7.0   \n",
       "Has decreased between 6% and 19%                    2.354235  1.0  5.0  6.0   \n",
       "Has increased 20% or more                           1.972094  1.0  6.0  7.0   \n",
       "Has increased between 6% and 19%                    2.097634  1.0  6.0  7.0   \n",
       "Has stayed about the same (has not increased or...  2.259062  1.0  5.0  7.0   \n",
       "I am not currently employed                         1.649916  5.0  6.0  7.5   \n",
       "I do not want to share information about my sal...  2.078621  1.0  5.0  7.0   \n",
       "I was not employed 3 years ago                      2.084317  1.0  6.0  7.0   \n",
       "Other                                               2.338086  1.0  6.0  7.0   \n",
       "\n",
       "                                                               \n",
       "                                                    75%   max  \n",
       "SalaryChange                                                   \n",
       "Has decreased 20% or more                           8.0  10.0  \n",
       "Has decreased between 6% and 19%                    8.0  10.0  \n",
       "Has increased 20% or more                           8.0  10.0  \n",
       "Has increased between 6% and 19%                    8.0  10.0  \n",
       "Has stayed about the same (has not increased or...  8.0  10.0  \n",
       "I am not currently employed                         8.0  10.0  \n",
       "I do not want to share information about my sal...  8.0  10.0  \n",
       "I was not employed 3 years ago                      8.0  10.0  \n",
       "Other                                               8.0  10.0  "
      ]
     },
     "execution_count": 87,
     "metadata": {},
     "output_type": "execute_result"
    }
   ],
   "source": [
    "salary_change.groupby('SalaryChange').describe()"
   ]
  },
  {
   "cell_type": "code",
   "execution_count": 88,
   "metadata": {},
   "outputs": [
    {
     "data": {
      "image/png": "[encoded data removed]",
      "text/plain": [
       "<matplotlib.figure.Figure at 0x28aa9917c50>"
      ]
     },
     "metadata": {},
     "output_type": "display_data"
    }
   ],
   "source": [
    "plt.figure(figsize=(12,6))\n",
    "\n",
    "plt.subplot(2,3,1)\n",
    "sns.countplot(x=\"JobSatisfaction\", data=salary_change[salary_change[\"SalaryChange\"] == \"Has increased 20% or more\"]).set_title(\"Increased  greater than 20%\")\n",
    "\n",
    "plt.subplot(2,3,2)\n",
    "sns.countplot(x=\"JobSatisfaction\", data=salary_change[salary_change[\"SalaryChange\"] == \"Has increased between 6% and 19%\"]).set_title(\"Increased 6 - 19%\")\n",
    "\n",
    "plt.subplot(2,3,3)\n",
    "sns.countplot(x=\"JobSatisfaction\", data=salary_change[salary_change[\"SalaryChange\"] == \"Has stayed about the same (has not increased or decreased more than 5%)\"]).set_title(\"No big change\")\n",
    "\n",
    "plt.subplot(2,3,4)\n",
    "sns.countplot(x=\"JobSatisfaction\", data=salary_change[salary_change[\"SalaryChange\"] == \"Has decreased between 6% and 19%\"]).set_title(\"Decreased 6 - 19%\")\n",
    "\n",
    "plt.subplot(2,3,5)\n",
    "sns.countplot(x=\"JobSatisfaction\", data=salary_change[salary_change[\"SalaryChange\"] == \"Has decreased 20% or more\"]).set_title(\"Decreased >20%\")\n",
    "\n",
    "plt.tight_layout()\n",
    "plt.show()"
   ]
  },
  {
   "cell_type": "code",
   "execution_count": 89,
   "metadata": {},
   "outputs": [],
   "source": [
    "#salary_change = salary_change.replace(['Has increased 20% or more', 'Has increased between 6% and 19%', 'Has stayed about the same (has not increased or decreased more than 5%)', 'Has decreased between 6% and 19%', 'Has decreased 20% or more'], [5, 4, 3, 2, 1])\n",
    "salary_change = salary_change.replace(['Has increased 20% or more', 'Has increased between 6% and 19%', 'Has stayed about the same (has not increased or decreased more than 5%)', 'Has decreased between 6% and 19%', 'Has decreased 20% or more', \"I am not currently employed\", \"I was not employed 3 years ago\", \"Other\", \"I do not want to share information about my salary/compensation\"], [5, 4, 3, 2, 1, 3, 3, 3, 3])"
   ]
  },
  {
   "cell_type": "code",
   "execution_count": 90,
   "metadata": {},
   "outputs": [
    {
     "name": "stdout",
     "output_type": "stream",
     "text": [
      "The correlation between JobSatisfaction and SalaryChange (r): 0.141260714004\n",
      "The correlation is statistically significant with a 95% C.I. as the p_value < 0.05: 5.36362688744e-20\n",
      "The correlation is reasonable and would be a good candidate for improving the accuracy of a prediction model.\n"
     ]
    }
   ],
   "source": [
    "correlation_linregress('SalaryChange', salary_change)"
   ]
  },
  {
   "cell_type": "markdown",
   "metadata": {},
   "source": [
    "# Job Function Select"
   ]
  },
  {
   "cell_type": "code",
   "execution_count": 91,
   "metadata": {},
   "outputs": [],
   "source": [
    "job_func = clean_MC_data[['JobSatisfaction', 'JobFunctionSelect']]"
   ]
  },
  {
   "cell_type": "code",
   "execution_count": 92,
   "metadata": {},
   "outputs": [
    {
     "data": {
      "text/plain": [
       "array(['Analyze and understand data to influence product or business decisions',\n",
       "       'Build and/or run a machine learning service that operationally improves your product or workflows',\n",
       "       'Research that advances the state of the art of machine learning',\n",
       "       'Build and/or run the data infrastructure that your business uses for storing, analyzing, and operationalizing data',\n",
       "       'Build prototypes to explore applying machine learning to new areas',\n",
       "       'Other', nan], dtype=object)"
      ]
     },
     "execution_count": 92,
     "metadata": {},
     "output_type": "execute_result"
    }
   ],
   "source": [
    "job_func['JobFunctionSelect'].unique()"
   ]
  },
  {
   "cell_type": "code",
   "execution_count": 93,
   "metadata": {},
   "outputs": [
    {
     "data": {
      "text/plain": [
       "Analyze and understand data to influence product or business decisions                                                1612\n",
       "Build prototypes to explore applying machine learning to new areas                                                     738\n",
       "Build and/or run a machine learning service that operationally improves your product or workflows                      714\n",
       "Build and/or run the data infrastructure that your business uses for storing, analyzing, and operationalizing data     443\n",
       "Research that advances the state of the art of machine learning                                                        327\n",
       "Other                                                                                                                  293\n",
       "Name: JobFunctionSelect, dtype: int64"
      ]
     },
     "execution_count": 93,
     "metadata": {},
     "output_type": "execute_result"
    }
   ],
   "source": [
    "job_func['JobFunctionSelect'].value_counts()"
   ]
  },
  {
   "cell_type": "code",
   "execution_count": 94,
   "metadata": {},
   "outputs": [
    {
     "data": {
      "text/html": [
       "<div>\n",
       "<style>\n",
       "    .dataframe thead tr:only-child th {\n",
       "        text-align: right;\n",
       "    }\n",
       "\n",
       "    .dataframe thead th {\n",
       "        text-align: left;\n",
       "    }\n",
       "\n",
       "    .dataframe tbody tr th {\n",
       "        vertical-align: top;\n",
       "    }\n",
       "</style>\n",
       "<table border=\"1\" class=\"dataframe\">\n",
       "  <thead>\n",
       "    <tr>\n",
       "      <th></th>\n",
       "      <th colspan=\"8\" halign=\"left\">JobSatisfaction</th>\n",
       "    </tr>\n",
       "    <tr>\n",
       "      <th></th>\n",
       "      <th>count</th>\n",
       "      <th>mean</th>\n",
       "      <th>std</th>\n",
       "      <th>min</th>\n",
       "      <th>25%</th>\n",
       "      <th>50%</th>\n",
       "      <th>75%</th>\n",
       "      <th>max</th>\n",
       "    </tr>\n",
       "    <tr>\n",
       "      <th>JobFunctionSelect</th>\n",
       "      <th></th>\n",
       "      <th></th>\n",
       "      <th></th>\n",
       "      <th></th>\n",
       "      <th></th>\n",
       "      <th></th>\n",
       "      <th></th>\n",
       "      <th></th>\n",
       "    </tr>\n",
       "  </thead>\n",
       "  <tbody>\n",
       "    <tr>\n",
       "      <th>Analyze and understand data to influence product or business decisions</th>\n",
       "      <td>1612.0</td>\n",
       "      <td>6.537841</td>\n",
       "      <td>2.127922</td>\n",
       "      <td>1.0</td>\n",
       "      <td>5.0</td>\n",
       "      <td>7.0</td>\n",
       "      <td>8.0</td>\n",
       "      <td>10.0</td>\n",
       "    </tr>\n",
       "    <tr>\n",
       "      <th>Build and/or run a machine learning service that operationally improves your product or workflows</th>\n",
       "      <td>714.0</td>\n",
       "      <td>7.070028</td>\n",
       "      <td>1.967655</td>\n",
       "      <td>1.0</td>\n",
       "      <td>6.0</td>\n",
       "      <td>7.0</td>\n",
       "      <td>8.0</td>\n",
       "      <td>10.0</td>\n",
       "    </tr>\n",
       "    <tr>\n",
       "      <th>Build and/or run the data infrastructure that your business uses for storing, analyzing, and operationalizing data</th>\n",
       "      <td>443.0</td>\n",
       "      <td>6.295711</td>\n",
       "      <td>2.256344</td>\n",
       "      <td>1.0</td>\n",
       "      <td>5.0</td>\n",
       "      <td>7.0</td>\n",
       "      <td>8.0</td>\n",
       "      <td>10.0</td>\n",
       "    </tr>\n",
       "    <tr>\n",
       "      <th>Build prototypes to explore applying machine learning to new areas</th>\n",
       "      <td>738.0</td>\n",
       "      <td>7.054201</td>\n",
       "      <td>1.975368</td>\n",
       "      <td>1.0</td>\n",
       "      <td>6.0</td>\n",
       "      <td>7.0</td>\n",
       "      <td>8.0</td>\n",
       "      <td>10.0</td>\n",
       "    </tr>\n",
       "    <tr>\n",
       "      <th>Other</th>\n",
       "      <td>293.0</td>\n",
       "      <td>6.450512</td>\n",
       "      <td>2.416079</td>\n",
       "      <td>1.0</td>\n",
       "      <td>5.0</td>\n",
       "      <td>7.0</td>\n",
       "      <td>8.0</td>\n",
       "      <td>10.0</td>\n",
       "    </tr>\n",
       "    <tr>\n",
       "      <th>Research that advances the state of the art of machine learning</th>\n",
       "      <td>327.0</td>\n",
       "      <td>7.061162</td>\n",
       "      <td>2.207611</td>\n",
       "      <td>1.0</td>\n",
       "      <td>6.0</td>\n",
       "      <td>8.0</td>\n",
       "      <td>8.0</td>\n",
       "      <td>10.0</td>\n",
       "    </tr>\n",
       "  </tbody>\n",
       "</table>\n",
       "</div>"
      ],
      "text/plain": [
       "                                                   JobSatisfaction            \\\n",
       "                                                             count      mean   \n",
       "JobFunctionSelect                                                              \n",
       "Analyze and understand data to influence produc...          1612.0  6.537841   \n",
       "Build and/or run a machine learning service tha...           714.0  7.070028   \n",
       "Build and/or run the data infrastructure that y...           443.0  6.295711   \n",
       "Build prototypes to explore applying machine le...           738.0  7.054201   \n",
       "Other                                                        293.0  6.450512   \n",
       "Research that advances the state of the art of ...           327.0  7.061162   \n",
       "\n",
       "                                                                             \\\n",
       "                                                         std  min  25%  50%   \n",
       "JobFunctionSelect                                                             \n",
       "Analyze and understand data to influence produc...  2.127922  1.0  5.0  7.0   \n",
       "Build and/or run a machine learning service tha...  1.967655  1.0  6.0  7.0   \n",
       "Build and/or run the data infrastructure that y...  2.256344  1.0  5.0  7.0   \n",
       "Build prototypes to explore applying machine le...  1.975368  1.0  6.0  7.0   \n",
       "Other                                               2.416079  1.0  5.0  7.0   \n",
       "Research that advances the state of the art of ...  2.207611  1.0  6.0  8.0   \n",
       "\n",
       "                                                               \n",
       "                                                    75%   max  \n",
       "JobFunctionSelect                                              \n",
       "Analyze and understand data to influence produc...  8.0  10.0  \n",
       "Build and/or run a machine learning service tha...  8.0  10.0  \n",
       "Build and/or run the data infrastructure that y...  8.0  10.0  \n",
       "Build prototypes to explore applying machine le...  8.0  10.0  \n",
       "Other                                               8.0  10.0  \n",
       "Research that advances the state of the art of ...  8.0  10.0  "
      ]
     },
     "execution_count": 94,
     "metadata": {},
     "output_type": "execute_result"
    }
   ],
   "source": [
    "job_func.groupby('JobFunctionSelect').describe()"
   ]
  },
  {
   "cell_type": "markdown",
   "metadata": {},
   "source": [
    "# Work Data Visualizations"
   ]
  },
  {
   "cell_type": "code",
   "execution_count": 95,
   "metadata": {},
   "outputs": [],
   "source": [
    "work_data_viz = clean_MC_data[['JobSatisfaction', 'WorkDataVisualizations']].dropna()"
   ]
  },
  {
   "cell_type": "code",
   "execution_count": 96,
   "metadata": {},
   "outputs": [
    {
     "data": {
      "text/plain": [
       "76-99% of projects           801\n",
       "100% of projects             758\n",
       "10-25% of projects           749\n",
       "51-75% of projects           702\n",
       "26-50% of projects           538\n",
       "Less than 10% of projects    523\n",
       "None                          77\n",
       "Name: WorkDataVisualizations, dtype: int64"
      ]
     },
     "execution_count": 96,
     "metadata": {},
     "output_type": "execute_result"
    }
   ],
   "source": [
    "work_data_viz['WorkDataVisualizations'].value_counts()"
   ]
  },
  {
   "cell_type": "code",
   "execution_count": 97,
   "metadata": {},
   "outputs": [
    {
     "data": {
      "text/html": [
       "<div>\n",
       "<style>\n",
       "    .dataframe thead tr:only-child th {\n",
       "        text-align: right;\n",
       "    }\n",
       "\n",
       "    .dataframe thead th {\n",
       "        text-align: left;\n",
       "    }\n",
       "\n",
       "    .dataframe tbody tr th {\n",
       "        vertical-align: top;\n",
       "    }\n",
       "</style>\n",
       "<table border=\"1\" class=\"dataframe\">\n",
       "  <thead>\n",
       "    <tr>\n",
       "      <th></th>\n",
       "      <th colspan=\"8\" halign=\"left\">JobSatisfaction</th>\n",
       "    </tr>\n",
       "    <tr>\n",
       "      <th></th>\n",
       "      <th>count</th>\n",
       "      <th>mean</th>\n",
       "      <th>std</th>\n",
       "      <th>min</th>\n",
       "      <th>25%</th>\n",
       "      <th>50%</th>\n",
       "      <th>75%</th>\n",
       "      <th>max</th>\n",
       "    </tr>\n",
       "    <tr>\n",
       "      <th>WorkDataVisualizations</th>\n",
       "      <th></th>\n",
       "      <th></th>\n",
       "      <th></th>\n",
       "      <th></th>\n",
       "      <th></th>\n",
       "      <th></th>\n",
       "      <th></th>\n",
       "      <th></th>\n",
       "    </tr>\n",
       "  </thead>\n",
       "  <tbody>\n",
       "    <tr>\n",
       "      <th>10-25% of projects</th>\n",
       "      <td>749.0</td>\n",
       "      <td>6.468625</td>\n",
       "      <td>2.137804</td>\n",
       "      <td>1.0</td>\n",
       "      <td>5.0</td>\n",
       "      <td>7.0</td>\n",
       "      <td>8.0</td>\n",
       "      <td>10.0</td>\n",
       "    </tr>\n",
       "    <tr>\n",
       "      <th>100% of projects</th>\n",
       "      <td>758.0</td>\n",
       "      <td>6.974934</td>\n",
       "      <td>2.189963</td>\n",
       "      <td>1.0</td>\n",
       "      <td>6.0</td>\n",
       "      <td>7.0</td>\n",
       "      <td>8.0</td>\n",
       "      <td>10.0</td>\n",
       "    </tr>\n",
       "    <tr>\n",
       "      <th>26-50% of projects</th>\n",
       "      <td>538.0</td>\n",
       "      <td>6.756506</td>\n",
       "      <td>2.029165</td>\n",
       "      <td>1.0</td>\n",
       "      <td>6.0</td>\n",
       "      <td>7.0</td>\n",
       "      <td>8.0</td>\n",
       "      <td>10.0</td>\n",
       "    </tr>\n",
       "    <tr>\n",
       "      <th>51-75% of projects</th>\n",
       "      <td>702.0</td>\n",
       "      <td>6.874644</td>\n",
       "      <td>2.059378</td>\n",
       "      <td>1.0</td>\n",
       "      <td>6.0</td>\n",
       "      <td>7.0</td>\n",
       "      <td>8.0</td>\n",
       "      <td>10.0</td>\n",
       "    </tr>\n",
       "    <tr>\n",
       "      <th>76-99% of projects</th>\n",
       "      <td>801.0</td>\n",
       "      <td>6.887640</td>\n",
       "      <td>2.026045</td>\n",
       "      <td>1.0</td>\n",
       "      <td>6.0</td>\n",
       "      <td>7.0</td>\n",
       "      <td>8.0</td>\n",
       "      <td>10.0</td>\n",
       "    </tr>\n",
       "    <tr>\n",
       "      <th>Less than 10% of projects</th>\n",
       "      <td>523.0</td>\n",
       "      <td>6.378585</td>\n",
       "      <td>2.265449</td>\n",
       "      <td>1.0</td>\n",
       "      <td>5.0</td>\n",
       "      <td>7.0</td>\n",
       "      <td>8.0</td>\n",
       "      <td>10.0</td>\n",
       "    </tr>\n",
       "    <tr>\n",
       "      <th>None</th>\n",
       "      <td>77.0</td>\n",
       "      <td>6.090909</td>\n",
       "      <td>2.540109</td>\n",
       "      <td>1.0</td>\n",
       "      <td>4.0</td>\n",
       "      <td>7.0</td>\n",
       "      <td>8.0</td>\n",
       "      <td>10.0</td>\n",
       "    </tr>\n",
       "  </tbody>\n",
       "</table>\n",
       "</div>"
      ],
      "text/plain": [
       "                          JobSatisfaction                                     \\\n",
       "                                    count      mean       std  min  25%  50%   \n",
       "WorkDataVisualizations                                                         \n",
       "10-25% of projects                  749.0  6.468625  2.137804  1.0  5.0  7.0   \n",
       "100% of projects                    758.0  6.974934  2.189963  1.0  6.0  7.0   \n",
       "26-50% of projects                  538.0  6.756506  2.029165  1.0  6.0  7.0   \n",
       "51-75% of projects                  702.0  6.874644  2.059378  1.0  6.0  7.0   \n",
       "76-99% of projects                  801.0  6.887640  2.026045  1.0  6.0  7.0   \n",
       "Less than 10% of projects           523.0  6.378585  2.265449  1.0  5.0  7.0   \n",
       "None                                 77.0  6.090909  2.540109  1.0  4.0  7.0   \n",
       "\n",
       "                                      \n",
       "                           75%   max  \n",
       "WorkDataVisualizations                \n",
       "10-25% of projects         8.0  10.0  \n",
       "100% of projects           8.0  10.0  \n",
       "26-50% of projects         8.0  10.0  \n",
       "51-75% of projects         8.0  10.0  \n",
       "76-99% of projects         8.0  10.0  \n",
       "Less than 10% of projects  8.0  10.0  \n",
       "None                       8.0  10.0  "
      ]
     },
     "execution_count": 97,
     "metadata": {},
     "output_type": "execute_result"
    }
   ],
   "source": [
    "work_data_viz.groupby('WorkDataVisualizations').describe()"
   ]
  },
  {
   "cell_type": "code",
   "execution_count": 98,
   "metadata": {},
   "outputs": [],
   "source": [
    "work_data_viz = work_data_viz.replace(['100% of projects', '76-99% of projects', '51-75% of projects', '26-50% of projects', '10-25% of projects', 'Less than 10% of projects', 'None'], [7, 6, 5, 4, 3, 2, 1]).astype(int)"
   ]
  },
  {
   "cell_type": "code",
   "execution_count": 99,
   "metadata": {},
   "outputs": [
    {
     "name": "stdout",
     "output_type": "stream",
     "text": [
      "The correlation between JobSatisfaction and WorkDataVisualizations (r): 0.104731415924\n",
      "The correlation is statistically significant with a 95% C.I. as the p_value < 0.05: 1.36294696688e-11\n",
      "The correlation is reasonable and would be a good candidate for improving the accuracy of a prediction model.\n"
     ]
    }
   ],
   "source": [
    "correlation_linregress('WorkDataVisualizations', work_data_viz)"
   ]
  },
  {
   "cell_type": "markdown",
   "metadata": {},
   "source": [
    "# How time is spent"
   ]
  },
  {
   "cell_type": "code",
   "execution_count": 100,
   "metadata": {},
   "outputs": [],
   "source": [
    "time_spent = clean_MC_data[['JobSatisfaction','TimeGatheringData','TimeModelBuilding','TimeProduction','TimeVisualizing','TimeFindingInsights','TimeOtherSelect']].dropna()"
   ]
  },
  {
   "cell_type": "code",
   "execution_count": 101,
   "metadata": {},
   "outputs": [
    {
     "data": {
      "text/html": [
       "<div>\n",
       "<style>\n",
       "    .dataframe thead tr:only-child th {\n",
       "        text-align: right;\n",
       "    }\n",
       "\n",
       "    .dataframe thead th {\n",
       "        text-align: left;\n",
       "    }\n",
       "\n",
       "    .dataframe tbody tr th {\n",
       "        vertical-align: top;\n",
       "    }\n",
       "</style>\n",
       "<table border=\"1\" class=\"dataframe\">\n",
       "  <thead>\n",
       "    <tr style=\"text-align: right;\">\n",
       "      <th></th>\n",
       "      <th>JobSatisfaction</th>\n",
       "      <th>TimeGatheringData</th>\n",
       "      <th>TimeModelBuilding</th>\n",
       "      <th>TimeProduction</th>\n",
       "      <th>TimeVisualizing</th>\n",
       "      <th>TimeFindingInsights</th>\n",
       "      <th>TimeOtherSelect</th>\n",
       "    </tr>\n",
       "  </thead>\n",
       "  <tbody>\n",
       "    <tr>\n",
       "      <th>count</th>\n",
       "      <td>4133.000000</td>\n",
       "      <td>4133.000000</td>\n",
       "      <td>4133.000000</td>\n",
       "      <td>4133.000000</td>\n",
       "      <td>4133.000000</td>\n",
       "      <td>4133.000000</td>\n",
       "      <td>4133.000000</td>\n",
       "    </tr>\n",
       "    <tr>\n",
       "      <th>mean</th>\n",
       "      <td>6.731914</td>\n",
       "      <td>37.153158</td>\n",
       "      <td>21.288652</td>\n",
       "      <td>11.071256</td>\n",
       "      <td>14.242076</td>\n",
       "      <td>13.422937</td>\n",
       "      <td>2.199613</td>\n",
       "    </tr>\n",
       "    <tr>\n",
       "      <th>std</th>\n",
       "      <td>2.135815</td>\n",
       "      <td>20.844327</td>\n",
       "      <td>15.314974</td>\n",
       "      <td>12.069657</td>\n",
       "      <td>10.998642</td>\n",
       "      <td>12.031413</td>\n",
       "      <td>11.063404</td>\n",
       "    </tr>\n",
       "    <tr>\n",
       "      <th>min</th>\n",
       "      <td>1.000000</td>\n",
       "      <td>0.000000</td>\n",
       "      <td>0.000000</td>\n",
       "      <td>0.000000</td>\n",
       "      <td>0.000000</td>\n",
       "      <td>0.000000</td>\n",
       "      <td>0.000000</td>\n",
       "    </tr>\n",
       "    <tr>\n",
       "      <th>25%</th>\n",
       "      <td>5.000000</td>\n",
       "      <td>20.000000</td>\n",
       "      <td>10.000000</td>\n",
       "      <td>1.000000</td>\n",
       "      <td>10.000000</td>\n",
       "      <td>5.000000</td>\n",
       "      <td>0.000000</td>\n",
       "    </tr>\n",
       "    <tr>\n",
       "      <th>50%</th>\n",
       "      <td>7.000000</td>\n",
       "      <td>40.000000</td>\n",
       "      <td>20.000000</td>\n",
       "      <td>10.000000</td>\n",
       "      <td>10.000000</td>\n",
       "      <td>10.000000</td>\n",
       "      <td>0.000000</td>\n",
       "    </tr>\n",
       "    <tr>\n",
       "      <th>75%</th>\n",
       "      <td>8.000000</td>\n",
       "      <td>50.000000</td>\n",
       "      <td>30.000000</td>\n",
       "      <td>15.000000</td>\n",
       "      <td>20.000000</td>\n",
       "      <td>20.000000</td>\n",
       "      <td>0.000000</td>\n",
       "    </tr>\n",
       "    <tr>\n",
       "      <th>max</th>\n",
       "      <td>10.000000</td>\n",
       "      <td>100.000000</td>\n",
       "      <td>100.000000</td>\n",
       "      <td>100.000000</td>\n",
       "      <td>100.000000</td>\n",
       "      <td>100.000000</td>\n",
       "      <td>100.000000</td>\n",
       "    </tr>\n",
       "  </tbody>\n",
       "</table>\n",
       "</div>"
      ],
      "text/plain": [
       "       JobSatisfaction  TimeGatheringData  TimeModelBuilding  TimeProduction  \\\n",
       "count      4133.000000        4133.000000        4133.000000     4133.000000   \n",
       "mean          6.731914          37.153158          21.288652       11.071256   \n",
       "std           2.135815          20.844327          15.314974       12.069657   \n",
       "min           1.000000           0.000000           0.000000        0.000000   \n",
       "25%           5.000000          20.000000          10.000000        1.000000   \n",
       "50%           7.000000          40.000000          20.000000       10.000000   \n",
       "75%           8.000000          50.000000          30.000000       15.000000   \n",
       "max          10.000000         100.000000         100.000000      100.000000   \n",
       "\n",
       "       TimeVisualizing  TimeFindingInsights  TimeOtherSelect  \n",
       "count      4133.000000          4133.000000      4133.000000  \n",
       "mean         14.242076            13.422937         2.199613  \n",
       "std          10.998642            12.031413        11.063404  \n",
       "min           0.000000             0.000000         0.000000  \n",
       "25%          10.000000             5.000000         0.000000  \n",
       "50%          10.000000            10.000000         0.000000  \n",
       "75%          20.000000            20.000000         0.000000  \n",
       "max         100.000000           100.000000       100.000000  "
      ]
     },
     "execution_count": 101,
     "metadata": {},
     "output_type": "execute_result"
    }
   ],
   "source": [
    "time_spent.describe()"
   ]
  },
  {
   "cell_type": "code",
   "execution_count": 102,
   "metadata": {},
   "outputs": [
    {
     "name": "stdout",
     "output_type": "stream",
     "text": [
      "The correlation between JobSatisfaction and TimeGatheringData (r): -0.0537321529633\n",
      "The correlation is statistically significant with a 95% C.I. as the p_value < 0.05: 0.000548649159754\n",
      "The correlation is not very large however, so the correlation would not be useful for a prediction model.\n",
      "\n",
      "\n",
      "The correlation between JobSatisfaction and TimeModelBuilding (r): 0.074119654642\n",
      "The correlation is statistically significant with a 95% C.I. as the p_value < 0.05: 1.84083551171e-06\n",
      "The correlation is not very large however, so the correlation would not be useful for a prediction model.\n",
      "\n",
      "\n",
      "The correlation between JobSatisfaction and TimeProduction (r): 0.0530286555789\n",
      "The correlation is statistically significant with a 95% C.I. as the p_value < 0.05: 0.000648447144125\n",
      "The correlation is not very large however, so the correlation would not be useful for a prediction model.\n",
      "\n",
      "\n",
      "The correlation between JobSatisfaction and TimeVisualizing (r): -0.0428555843628\n",
      "The correlation is statistically significant with a 95% C.I. as the p_value < 0.05: 0.00585935440973\n",
      "The correlation is not very large however, so the correlation would not be useful for a prediction model.\n",
      "\n",
      "\n",
      "The correlation between JobSatisfaction and TimeFindingInsights (r): 0.0356106052622\n",
      "The correlation is statistically significant with a 95% C.I. as the p_value < 0.05: 0.0220571163482\n",
      "The correlation is not very large however, so the correlation would not be useful for a prediction model.\n",
      "\n",
      "\n",
      "The correlation between JobSatisfaction and TimeOtherSelect (r): -0.0161499780739\n",
      "The correlation is not statistically significant with a 95% C.I. as the p_value > 0.05: 0.299265358942\n",
      "The correlation is not very large however, so the correlation would not be useful for a prediction model.\n",
      "\n",
      "\n"
     ]
    }
   ],
   "source": [
    "for column in time_spent.columns[1:]:\n",
    "    correlation_linregress(column, time_spent)\n",
    "    print(\"\\n\")"
   ]
  },
  {
   "cell_type": "markdown",
   "metadata": {},
   "source": [
    "## Question 1) What barriers or issues effect job satisfaction?"
   ]
  },
  {
   "cell_type": "code",
   "execution_count": 103,
   "metadata": {},
   "outputs": [],
   "source": [
    "# question1 = binary_data[['JobSatisfaction', 'WorkChallengesSelect', 'WorkChallengeFrequencyPolitics', 'WorkChallengeFrequencyUnusedResults', 'WorkChallengeFrequencyUnusefulInstrumenting', 'WorkChallengeFrequencyDeployment', 'WorkChallengeFrequencyDirtyData', 'WorkChallengeFrequencyExplaining', 'WorkChallengeFrequencyPass', 'WorkChallengeFrequencyIntegration', 'WorkChallengeFrequencyTalent', 'WorkChallengeFrequencyDataFunds', 'WorkChallengeFrequencyDomainExpertise', 'WorkChallengeFrequencyML', 'WorkChallengeFrequencyTools', 'WorkChallengeFrequencyExpectations', 'WorkChallengeFrequencyITCoordination', 'WorkChallengeFrequencyHiringFunds', 'WorkChallengeFrequencyPrivacy', 'WorkChallengeFrequencyScaling', 'WorkChallengeFrequencyEnvironments', 'WorkChallengeFrequencyClarity', 'WorkChallengeFrequencyDataAccess', 'WorkChallengeFrequencyOtherSelect']]\n",
    "question1 = clean_MC_data[['JobSatisfaction', 'WorkChallengeFrequencyPolitics', 'WorkChallengeFrequencyUnusedResults', 'WorkChallengeFrequencyUnusefulInstrumenting', 'WorkChallengeFrequencyDeployment', 'WorkChallengeFrequencyDirtyData', 'WorkChallengeFrequencyExplaining', 'WorkChallengeFrequencyPass', 'WorkChallengeFrequencyIntegration', 'WorkChallengeFrequencyTalent', 'WorkChallengeFrequencyDataFunds', 'WorkChallengeFrequencyDomainExpertise', 'WorkChallengeFrequencyML', 'WorkChallengeFrequencyTools', 'WorkChallengeFrequencyExpectations', 'WorkChallengeFrequencyITCoordination', 'WorkChallengeFrequencyHiringFunds', 'WorkChallengeFrequencyPrivacy', 'WorkChallengeFrequencyScaling', 'WorkChallengeFrequencyEnvironments', 'WorkChallengeFrequencyClarity', 'WorkChallengeFrequencyDataAccess', 'WorkChallengeFrequencyOtherSelect']]"
   ]
  },
  {
   "cell_type": "code",
   "execution_count": 104,
   "metadata": {},
   "outputs": [
    {
     "data": {
      "text/html": [
       "<div>\n",
       "<style>\n",
       "    .dataframe thead tr:only-child th {\n",
       "        text-align: right;\n",
       "    }\n",
       "\n",
       "    .dataframe thead th {\n",
       "        text-align: left;\n",
       "    }\n",
       "\n",
       "    .dataframe tbody tr th {\n",
       "        vertical-align: top;\n",
       "    }\n",
       "</style>\n",
       "<table border=\"1\" class=\"dataframe\">\n",
       "  <thead>\n",
       "    <tr style=\"text-align: right;\">\n",
       "      <th></th>\n",
       "      <th>JobSatisfaction</th>\n",
       "      <th>WorkChallengeFrequencyPolitics</th>\n",
       "      <th>WorkChallengeFrequencyUnusedResults</th>\n",
       "      <th>WorkChallengeFrequencyUnusefulInstrumenting</th>\n",
       "      <th>WorkChallengeFrequencyDeployment</th>\n",
       "      <th>WorkChallengeFrequencyDirtyData</th>\n",
       "      <th>WorkChallengeFrequencyExplaining</th>\n",
       "      <th>WorkChallengeFrequencyPass</th>\n",
       "      <th>WorkChallengeFrequencyIntegration</th>\n",
       "      <th>WorkChallengeFrequencyTalent</th>\n",
       "      <th>...</th>\n",
       "      <th>WorkChallengeFrequencyTools</th>\n",
       "      <th>WorkChallengeFrequencyExpectations</th>\n",
       "      <th>WorkChallengeFrequencyITCoordination</th>\n",
       "      <th>WorkChallengeFrequencyHiringFunds</th>\n",
       "      <th>WorkChallengeFrequencyPrivacy</th>\n",
       "      <th>WorkChallengeFrequencyScaling</th>\n",
       "      <th>WorkChallengeFrequencyEnvironments</th>\n",
       "      <th>WorkChallengeFrequencyClarity</th>\n",
       "      <th>WorkChallengeFrequencyDataAccess</th>\n",
       "      <th>WorkChallengeFrequencyOtherSelect</th>\n",
       "    </tr>\n",
       "  </thead>\n",
       "  <tbody>\n",
       "    <tr>\n",
       "      <th>4</th>\n",
       "      <td>7</td>\n",
       "      <td>NaN</td>\n",
       "      <td>NaN</td>\n",
       "      <td>NaN</td>\n",
       "      <td>NaN</td>\n",
       "      <td>Often</td>\n",
       "      <td>NaN</td>\n",
       "      <td>NaN</td>\n",
       "      <td>NaN</td>\n",
       "      <td>NaN</td>\n",
       "      <td>...</td>\n",
       "      <td>NaN</td>\n",
       "      <td>NaN</td>\n",
       "      <td>NaN</td>\n",
       "      <td>NaN</td>\n",
       "      <td>NaN</td>\n",
       "      <td>NaN</td>\n",
       "      <td>NaN</td>\n",
       "      <td>NaN</td>\n",
       "      <td>NaN</td>\n",
       "      <td>NaN</td>\n",
       "    </tr>\n",
       "    <tr>\n",
       "      <th>5</th>\n",
       "      <td>7</td>\n",
       "      <td>NaN</td>\n",
       "      <td>Sometimes</td>\n",
       "      <td>NaN</td>\n",
       "      <td>NaN</td>\n",
       "      <td>Often</td>\n",
       "      <td>Often</td>\n",
       "      <td>NaN</td>\n",
       "      <td>NaN</td>\n",
       "      <td>Often</td>\n",
       "      <td>...</td>\n",
       "      <td>Rarely</td>\n",
       "      <td>NaN</td>\n",
       "      <td>NaN</td>\n",
       "      <td>Sometimes</td>\n",
       "      <td>Rarely</td>\n",
       "      <td>Rarely</td>\n",
       "      <td>NaN</td>\n",
       "      <td>NaN</td>\n",
       "      <td>NaN</td>\n",
       "      <td>NaN</td>\n",
       "    </tr>\n",
       "    <tr>\n",
       "      <th>6</th>\n",
       "      <td>7</td>\n",
       "      <td>NaN</td>\n",
       "      <td>NaN</td>\n",
       "      <td>NaN</td>\n",
       "      <td>NaN</td>\n",
       "      <td>NaN</td>\n",
       "      <td>Often</td>\n",
       "      <td>NaN</td>\n",
       "      <td>NaN</td>\n",
       "      <td>Sometimes</td>\n",
       "      <td>...</td>\n",
       "      <td>NaN</td>\n",
       "      <td>NaN</td>\n",
       "      <td>NaN</td>\n",
       "      <td>NaN</td>\n",
       "      <td>Sometimes</td>\n",
       "      <td>NaN</td>\n",
       "      <td>NaN</td>\n",
       "      <td>NaN</td>\n",
       "      <td>NaN</td>\n",
       "      <td>NaN</td>\n",
       "    </tr>\n",
       "    <tr>\n",
       "      <th>7</th>\n",
       "      <td>5</td>\n",
       "      <td>Often</td>\n",
       "      <td>NaN</td>\n",
       "      <td>NaN</td>\n",
       "      <td>NaN</td>\n",
       "      <td>NaN</td>\n",
       "      <td>Often</td>\n",
       "      <td>NaN</td>\n",
       "      <td>NaN</td>\n",
       "      <td>Often</td>\n",
       "      <td>...</td>\n",
       "      <td>NaN</td>\n",
       "      <td>NaN</td>\n",
       "      <td>NaN</td>\n",
       "      <td>Often</td>\n",
       "      <td>NaN</td>\n",
       "      <td>NaN</td>\n",
       "      <td>Often</td>\n",
       "      <td>NaN</td>\n",
       "      <td>NaN</td>\n",
       "      <td>NaN</td>\n",
       "    </tr>\n",
       "    <tr>\n",
       "      <th>9</th>\n",
       "      <td>6</td>\n",
       "      <td>NaN</td>\n",
       "      <td>NaN</td>\n",
       "      <td>NaN</td>\n",
       "      <td>NaN</td>\n",
       "      <td>NaN</td>\n",
       "      <td>Often</td>\n",
       "      <td>NaN</td>\n",
       "      <td>NaN</td>\n",
       "      <td>NaN</td>\n",
       "      <td>...</td>\n",
       "      <td>NaN</td>\n",
       "      <td>NaN</td>\n",
       "      <td>NaN</td>\n",
       "      <td>NaN</td>\n",
       "      <td>NaN</td>\n",
       "      <td>NaN</td>\n",
       "      <td>NaN</td>\n",
       "      <td>NaN</td>\n",
       "      <td>NaN</td>\n",
       "      <td>Most of the time</td>\n",
       "    </tr>\n",
       "  </tbody>\n",
       "</table>\n",
       "<p>5 rows × 23 columns</p>\n",
       "</div>"
      ],
      "text/plain": [
       "   JobSatisfaction WorkChallengeFrequencyPolitics  \\\n",
       "4                7                            NaN   \n",
       "5                7                            NaN   \n",
       "6                7                            NaN   \n",
       "7                5                          Often   \n",
       "9                6                            NaN   \n",
       "\n",
       "  WorkChallengeFrequencyUnusedResults  \\\n",
       "4                                 NaN   \n",
       "5                           Sometimes   \n",
       "6                                 NaN   \n",
       "7                                 NaN   \n",
       "9                                 NaN   \n",
       "\n",
       "  WorkChallengeFrequencyUnusefulInstrumenting  \\\n",
       "4                                         NaN   \n",
       "5                                         NaN   \n",
       "6                                         NaN   \n",
       "7                                         NaN   \n",
       "9                                         NaN   \n",
       "\n",
       "  WorkChallengeFrequencyDeployment WorkChallengeFrequencyDirtyData  \\\n",
       "4                              NaN                           Often   \n",
       "5                              NaN                           Often   \n",
       "6                              NaN                             NaN   \n",
       "7                              NaN                             NaN   \n",
       "9                              NaN                             NaN   \n",
       "\n",
       "  WorkChallengeFrequencyExplaining WorkChallengeFrequencyPass  \\\n",
       "4                              NaN                        NaN   \n",
       "5                            Often                        NaN   \n",
       "6                            Often                        NaN   \n",
       "7                            Often                        NaN   \n",
       "9                            Often                        NaN   \n",
       "\n",
       "  WorkChallengeFrequencyIntegration WorkChallengeFrequencyTalent  \\\n",
       "4                               NaN                          NaN   \n",
       "5                               NaN                        Often   \n",
       "6                               NaN                    Sometimes   \n",
       "7                               NaN                        Often   \n",
       "9                               NaN                          NaN   \n",
       "\n",
       "                 ...                WorkChallengeFrequencyTools  \\\n",
       "4                ...                                        NaN   \n",
       "5                ...                                     Rarely   \n",
       "6                ...                                        NaN   \n",
       "7                ...                                        NaN   \n",
       "9                ...                                        NaN   \n",
       "\n",
       "  WorkChallengeFrequencyExpectations WorkChallengeFrequencyITCoordination  \\\n",
       "4                                NaN                                  NaN   \n",
       "5                                NaN                                  NaN   \n",
       "6                                NaN                                  NaN   \n",
       "7                                NaN                                  NaN   \n",
       "9                                NaN                                  NaN   \n",
       "\n",
       "  WorkChallengeFrequencyHiringFunds WorkChallengeFrequencyPrivacy  \\\n",
       "4                               NaN                           NaN   \n",
       "5                         Sometimes                        Rarely   \n",
       "6                               NaN                     Sometimes   \n",
       "7                             Often                           NaN   \n",
       "9                               NaN                           NaN   \n",
       "\n",
       "  WorkChallengeFrequencyScaling WorkChallengeFrequencyEnvironments  \\\n",
       "4                           NaN                                NaN   \n",
       "5                        Rarely                                NaN   \n",
       "6                           NaN                                NaN   \n",
       "7                           NaN                              Often   \n",
       "9                           NaN                                NaN   \n",
       "\n",
       "  WorkChallengeFrequencyClarity WorkChallengeFrequencyDataAccess  \\\n",
       "4                           NaN                              NaN   \n",
       "5                           NaN                              NaN   \n",
       "6                           NaN                              NaN   \n",
       "7                           NaN                              NaN   \n",
       "9                           NaN                              NaN   \n",
       "\n",
       "  WorkChallengeFrequencyOtherSelect  \n",
       "4                               NaN  \n",
       "5                               NaN  \n",
       "6                               NaN  \n",
       "7                               NaN  \n",
       "9                  Most of the time  \n",
       "\n",
       "[5 rows x 23 columns]"
      ]
     },
     "execution_count": 104,
     "metadata": {},
     "output_type": "execute_result"
    }
   ],
   "source": [
    "question1.head()"
   ]
  },
  {
   "cell_type": "code",
   "execution_count": 105,
   "metadata": {},
   "outputs": [],
   "source": [
    "question1.fillna(value='Never', inplace=True)"
   ]
  },
  {
   "cell_type": "code",
   "execution_count": 106,
   "metadata": {},
   "outputs": [
    {
     "data": {
      "text/plain": [
       "array(['Never', 'Often', 'Most of the time', 'Sometimes', 'Rarely'], dtype=object)"
      ]
     },
     "execution_count": 106,
     "metadata": {},
     "output_type": "execute_result"
    }
   ],
   "source": [
    "question1['WorkChallengeFrequencyPolitics'].unique()"
   ]
  },
  {
   "cell_type": "code",
   "execution_count": 107,
   "metadata": {},
   "outputs": [],
   "source": [
    "question1 = question1.replace(['Never', 'Rarely', 'Sometimes', 'Often', 'Most of the time'], [4, 3, 2, 1, 0]).astype(int)"
   ]
  },
  {
   "cell_type": "code",
   "execution_count": 108,
   "metadata": {},
   "outputs": [
    {
     "data": {
      "text/html": [
       "<div>\n",
       "<style>\n",
       "    .dataframe thead tr:only-child th {\n",
       "        text-align: right;\n",
       "    }\n",
       "\n",
       "    .dataframe thead th {\n",
       "        text-align: left;\n",
       "    }\n",
       "\n",
       "    .dataframe tbody tr th {\n",
       "        vertical-align: top;\n",
       "    }\n",
       "</style>\n",
       "<table border=\"1\" class=\"dataframe\">\n",
       "  <thead>\n",
       "    <tr style=\"text-align: right;\">\n",
       "      <th></th>\n",
       "      <th>JobSatisfaction</th>\n",
       "      <th>WorkChallengeFrequencyPolitics</th>\n",
       "      <th>WorkChallengeFrequencyUnusedResults</th>\n",
       "      <th>WorkChallengeFrequencyUnusefulInstrumenting</th>\n",
       "      <th>WorkChallengeFrequencyDeployment</th>\n",
       "      <th>WorkChallengeFrequencyDirtyData</th>\n",
       "      <th>WorkChallengeFrequencyExplaining</th>\n",
       "      <th>WorkChallengeFrequencyPass</th>\n",
       "      <th>WorkChallengeFrequencyIntegration</th>\n",
       "      <th>WorkChallengeFrequencyTalent</th>\n",
       "      <th>...</th>\n",
       "      <th>WorkChallengeFrequencyTools</th>\n",
       "      <th>WorkChallengeFrequencyExpectations</th>\n",
       "      <th>WorkChallengeFrequencyITCoordination</th>\n",
       "      <th>WorkChallengeFrequencyHiringFunds</th>\n",
       "      <th>WorkChallengeFrequencyPrivacy</th>\n",
       "      <th>WorkChallengeFrequencyScaling</th>\n",
       "      <th>WorkChallengeFrequencyEnvironments</th>\n",
       "      <th>WorkChallengeFrequencyClarity</th>\n",
       "      <th>WorkChallengeFrequencyDataAccess</th>\n",
       "      <th>WorkChallengeFrequencyOtherSelect</th>\n",
       "    </tr>\n",
       "  </thead>\n",
       "  <tbody>\n",
       "    <tr>\n",
       "      <th>JobSatisfaction</th>\n",
       "      <td>1.000000</td>\n",
       "      <td>0.252714</td>\n",
       "      <td>0.117567</td>\n",
       "      <td>0.078323</td>\n",
       "      <td>-0.037893</td>\n",
       "      <td>-0.070082</td>\n",
       "      <td>0.020433</td>\n",
       "      <td>0.011235</td>\n",
       "      <td>0.083406</td>\n",
       "      <td>0.183400</td>\n",
       "      <td>...</td>\n",
       "      <td>0.071025</td>\n",
       "      <td>-0.030452</td>\n",
       "      <td>0.013840</td>\n",
       "      <td>0.084112</td>\n",
       "      <td>-0.010935</td>\n",
       "      <td>-0.004967</td>\n",
       "      <td>-0.005826</td>\n",
       "      <td>0.047984</td>\n",
       "      <td>-0.054692</td>\n",
       "      <td>0.008760</td>\n",
       "    </tr>\n",
       "    <tr>\n",
       "      <th>WorkChallengeFrequencyPolitics</th>\n",
       "      <td>0.252714</td>\n",
       "      <td>1.000000</td>\n",
       "      <td>0.254692</td>\n",
       "      <td>0.125909</td>\n",
       "      <td>0.069845</td>\n",
       "      <td>0.050855</td>\n",
       "      <td>0.157402</td>\n",
       "      <td>-0.094855</td>\n",
       "      <td>0.241704</td>\n",
       "      <td>0.251172</td>\n",
       "      <td>...</td>\n",
       "      <td>0.077138</td>\n",
       "      <td>0.093572</td>\n",
       "      <td>0.178397</td>\n",
       "      <td>0.096092</td>\n",
       "      <td>0.125283</td>\n",
       "      <td>0.086433</td>\n",
       "      <td>0.080329</td>\n",
       "      <td>0.136624</td>\n",
       "      <td>0.062854</td>\n",
       "      <td>-0.018930</td>\n",
       "    </tr>\n",
       "    <tr>\n",
       "      <th>WorkChallengeFrequencyUnusedResults</th>\n",
       "      <td>0.117567</td>\n",
       "      <td>0.254692</td>\n",
       "      <td>1.000000</td>\n",
       "      <td>0.174099</td>\n",
       "      <td>0.087342</td>\n",
       "      <td>0.110481</td>\n",
       "      <td>0.237031</td>\n",
       "      <td>-0.066543</td>\n",
       "      <td>0.355768</td>\n",
       "      <td>0.144425</td>\n",
       "      <td>...</td>\n",
       "      <td>0.055077</td>\n",
       "      <td>0.147147</td>\n",
       "      <td>0.118580</td>\n",
       "      <td>0.022498</td>\n",
       "      <td>0.070609</td>\n",
       "      <td>0.073961</td>\n",
       "      <td>0.089002</td>\n",
       "      <td>0.195699</td>\n",
       "      <td>0.072111</td>\n",
       "      <td>-0.028182</td>\n",
       "    </tr>\n",
       "    <tr>\n",
       "      <th>WorkChallengeFrequencyUnusefulInstrumenting</th>\n",
       "      <td>0.078323</td>\n",
       "      <td>0.125909</td>\n",
       "      <td>0.174099</td>\n",
       "      <td>1.000000</td>\n",
       "      <td>0.113159</td>\n",
       "      <td>0.082786</td>\n",
       "      <td>0.110438</td>\n",
       "      <td>-0.036082</td>\n",
       "      <td>0.140361</td>\n",
       "      <td>0.093384</td>\n",
       "      <td>...</td>\n",
       "      <td>0.076947</td>\n",
       "      <td>0.140278</td>\n",
       "      <td>0.090091</td>\n",
       "      <td>0.039174</td>\n",
       "      <td>0.054384</td>\n",
       "      <td>0.119999</td>\n",
       "      <td>0.083455</td>\n",
       "      <td>0.137151</td>\n",
       "      <td>0.100760</td>\n",
       "      <td>-0.002380</td>\n",
       "    </tr>\n",
       "    <tr>\n",
       "      <th>WorkChallengeFrequencyDeployment</th>\n",
       "      <td>-0.037893</td>\n",
       "      <td>0.069845</td>\n",
       "      <td>0.087342</td>\n",
       "      <td>0.113159</td>\n",
       "      <td>1.000000</td>\n",
       "      <td>0.089596</td>\n",
       "      <td>0.095749</td>\n",
       "      <td>-0.061865</td>\n",
       "      <td>0.102828</td>\n",
       "      <td>0.055595</td>\n",
       "      <td>...</td>\n",
       "      <td>0.071063</td>\n",
       "      <td>0.146613</td>\n",
       "      <td>0.149452</td>\n",
       "      <td>-0.027606</td>\n",
       "      <td>0.063689</td>\n",
       "      <td>0.182495</td>\n",
       "      <td>0.119886</td>\n",
       "      <td>0.073465</td>\n",
       "      <td>0.118111</td>\n",
       "      <td>-0.003447</td>\n",
       "    </tr>\n",
       "    <tr>\n",
       "      <th>WorkChallengeFrequencyDirtyData</th>\n",
       "      <td>-0.070082</td>\n",
       "      <td>0.050855</td>\n",
       "      <td>0.110481</td>\n",
       "      <td>0.082786</td>\n",
       "      <td>0.089596</td>\n",
       "      <td>1.000000</td>\n",
       "      <td>0.162466</td>\n",
       "      <td>-0.138649</td>\n",
       "      <td>0.090729</td>\n",
       "      <td>0.046415</td>\n",
       "      <td>...</td>\n",
       "      <td>0.080373</td>\n",
       "      <td>0.164889</td>\n",
       "      <td>0.127618</td>\n",
       "      <td>-0.019457</td>\n",
       "      <td>0.137856</td>\n",
       "      <td>0.074112</td>\n",
       "      <td>0.140601</td>\n",
       "      <td>0.152193</td>\n",
       "      <td>0.209994</td>\n",
       "      <td>-0.041488</td>\n",
       "    </tr>\n",
       "    <tr>\n",
       "      <th>WorkChallengeFrequencyExplaining</th>\n",
       "      <td>0.020433</td>\n",
       "      <td>0.157402</td>\n",
       "      <td>0.237031</td>\n",
       "      <td>0.110438</td>\n",
       "      <td>0.095749</td>\n",
       "      <td>0.162466</td>\n",
       "      <td>1.000000</td>\n",
       "      <td>-0.071836</td>\n",
       "      <td>0.193130</td>\n",
       "      <td>0.186961</td>\n",
       "      <td>...</td>\n",
       "      <td>0.052810</td>\n",
       "      <td>0.230365</td>\n",
       "      <td>0.128062</td>\n",
       "      <td>0.056796</td>\n",
       "      <td>0.088341</td>\n",
       "      <td>0.098734</td>\n",
       "      <td>0.103552</td>\n",
       "      <td>0.164829</td>\n",
       "      <td>0.110170</td>\n",
       "      <td>-0.009569</td>\n",
       "    </tr>\n",
       "    <tr>\n",
       "      <th>WorkChallengeFrequencyPass</th>\n",
       "      <td>0.011235</td>\n",
       "      <td>-0.094855</td>\n",
       "      <td>-0.066543</td>\n",
       "      <td>-0.036082</td>\n",
       "      <td>-0.061865</td>\n",
       "      <td>-0.138649</td>\n",
       "      <td>-0.071836</td>\n",
       "      <td>1.000000</td>\n",
       "      <td>-0.056498</td>\n",
       "      <td>-0.110404</td>\n",
       "      <td>...</td>\n",
       "      <td>-0.047630</td>\n",
       "      <td>-0.054287</td>\n",
       "      <td>-0.068182</td>\n",
       "      <td>-0.048128</td>\n",
       "      <td>-0.049840</td>\n",
       "      <td>-0.047122</td>\n",
       "      <td>-0.068062</td>\n",
       "      <td>-0.095704</td>\n",
       "      <td>-0.088002</td>\n",
       "      <td>-0.018885</td>\n",
       "    </tr>\n",
       "    <tr>\n",
       "      <th>WorkChallengeFrequencyIntegration</th>\n",
       "      <td>0.083406</td>\n",
       "      <td>0.241704</td>\n",
       "      <td>0.355768</td>\n",
       "      <td>0.140361</td>\n",
       "      <td>0.102828</td>\n",
       "      <td>0.090729</td>\n",
       "      <td>0.193130</td>\n",
       "      <td>-0.056498</td>\n",
       "      <td>1.000000</td>\n",
       "      <td>0.138740</td>\n",
       "      <td>...</td>\n",
       "      <td>0.032911</td>\n",
       "      <td>0.188429</td>\n",
       "      <td>0.174367</td>\n",
       "      <td>0.024071</td>\n",
       "      <td>0.076548</td>\n",
       "      <td>0.091998</td>\n",
       "      <td>0.088799</td>\n",
       "      <td>0.199506</td>\n",
       "      <td>0.098228</td>\n",
       "      <td>-0.034902</td>\n",
       "    </tr>\n",
       "    <tr>\n",
       "      <th>WorkChallengeFrequencyTalent</th>\n",
       "      <td>0.183400</td>\n",
       "      <td>0.251172</td>\n",
       "      <td>0.144425</td>\n",
       "      <td>0.093384</td>\n",
       "      <td>0.055595</td>\n",
       "      <td>0.046415</td>\n",
       "      <td>0.186961</td>\n",
       "      <td>-0.110404</td>\n",
       "      <td>0.138740</td>\n",
       "      <td>1.000000</td>\n",
       "      <td>...</td>\n",
       "      <td>0.083240</td>\n",
       "      <td>0.091053</td>\n",
       "      <td>0.115135</td>\n",
       "      <td>0.199920</td>\n",
       "      <td>0.069117</td>\n",
       "      <td>0.067570</td>\n",
       "      <td>0.069269</td>\n",
       "      <td>0.081596</td>\n",
       "      <td>0.039774</td>\n",
       "      <td>-0.019816</td>\n",
       "    </tr>\n",
       "    <tr>\n",
       "      <th>WorkChallengeFrequencyDataFunds</th>\n",
       "      <td>0.048510</td>\n",
       "      <td>0.104368</td>\n",
       "      <td>0.056803</td>\n",
       "      <td>0.108687</td>\n",
       "      <td>0.022822</td>\n",
       "      <td>0.035014</td>\n",
       "      <td>0.050267</td>\n",
       "      <td>-0.051216</td>\n",
       "      <td>0.040786</td>\n",
       "      <td>0.074736</td>\n",
       "      <td>...</td>\n",
       "      <td>0.115162</td>\n",
       "      <td>0.055049</td>\n",
       "      <td>0.055716</td>\n",
       "      <td>0.173681</td>\n",
       "      <td>0.077864</td>\n",
       "      <td>0.080992</td>\n",
       "      <td>0.070350</td>\n",
       "      <td>0.051632</td>\n",
       "      <td>0.134617</td>\n",
       "      <td>-0.006059</td>\n",
       "    </tr>\n",
       "    <tr>\n",
       "      <th>WorkChallengeFrequencyDomainExpertise</th>\n",
       "      <td>0.090613</td>\n",
       "      <td>0.077201</td>\n",
       "      <td>0.085192</td>\n",
       "      <td>0.106258</td>\n",
       "      <td>0.033112</td>\n",
       "      <td>0.063993</td>\n",
       "      <td>0.071396</td>\n",
       "      <td>-0.063089</td>\n",
       "      <td>0.079815</td>\n",
       "      <td>0.174979</td>\n",
       "      <td>...</td>\n",
       "      <td>0.054042</td>\n",
       "      <td>0.089789</td>\n",
       "      <td>0.044854</td>\n",
       "      <td>0.058980</td>\n",
       "      <td>0.035949</td>\n",
       "      <td>0.073590</td>\n",
       "      <td>0.070719</td>\n",
       "      <td>0.166943</td>\n",
       "      <td>0.075604</td>\n",
       "      <td>0.006595</td>\n",
       "    </tr>\n",
       "    <tr>\n",
       "      <th>WorkChallengeFrequencyML</th>\n",
       "      <td>0.019058</td>\n",
       "      <td>0.004587</td>\n",
       "      <td>0.013974</td>\n",
       "      <td>0.059805</td>\n",
       "      <td>0.072198</td>\n",
       "      <td>-0.003279</td>\n",
       "      <td>0.073573</td>\n",
       "      <td>-0.037570</td>\n",
       "      <td>0.032329</td>\n",
       "      <td>0.100166</td>\n",
       "      <td>...</td>\n",
       "      <td>0.138723</td>\n",
       "      <td>0.063124</td>\n",
       "      <td>0.024815</td>\n",
       "      <td>0.044514</td>\n",
       "      <td>-0.002296</td>\n",
       "      <td>0.087503</td>\n",
       "      <td>0.095900</td>\n",
       "      <td>0.035430</td>\n",
       "      <td>0.028587</td>\n",
       "      <td>0.000566</td>\n",
       "    </tr>\n",
       "    <tr>\n",
       "      <th>WorkChallengeFrequencyTools</th>\n",
       "      <td>0.071025</td>\n",
       "      <td>0.077138</td>\n",
       "      <td>0.055077</td>\n",
       "      <td>0.076947</td>\n",
       "      <td>0.071063</td>\n",
       "      <td>0.080373</td>\n",
       "      <td>0.052810</td>\n",
       "      <td>-0.047630</td>\n",
       "      <td>0.032911</td>\n",
       "      <td>0.083240</td>\n",
       "      <td>...</td>\n",
       "      <td>1.000000</td>\n",
       "      <td>0.035852</td>\n",
       "      <td>0.127240</td>\n",
       "      <td>0.035457</td>\n",
       "      <td>0.058832</td>\n",
       "      <td>0.077155</td>\n",
       "      <td>0.098423</td>\n",
       "      <td>-0.003315</td>\n",
       "      <td>0.110555</td>\n",
       "      <td>0.004457</td>\n",
       "    </tr>\n",
       "    <tr>\n",
       "      <th>WorkChallengeFrequencyExpectations</th>\n",
       "      <td>-0.030452</td>\n",
       "      <td>0.093572</td>\n",
       "      <td>0.147147</td>\n",
       "      <td>0.140278</td>\n",
       "      <td>0.146613</td>\n",
       "      <td>0.164889</td>\n",
       "      <td>0.230365</td>\n",
       "      <td>-0.054287</td>\n",
       "      <td>0.188429</td>\n",
       "      <td>0.091053</td>\n",
       "      <td>...</td>\n",
       "      <td>0.035852</td>\n",
       "      <td>1.000000</td>\n",
       "      <td>0.079359</td>\n",
       "      <td>0.003734</td>\n",
       "      <td>0.076475</td>\n",
       "      <td>0.133306</td>\n",
       "      <td>0.123502</td>\n",
       "      <td>0.221543</td>\n",
       "      <td>0.125328</td>\n",
       "      <td>0.003977</td>\n",
       "    </tr>\n",
       "    <tr>\n",
       "      <th>WorkChallengeFrequencyITCoordination</th>\n",
       "      <td>0.013840</td>\n",
       "      <td>0.178397</td>\n",
       "      <td>0.118580</td>\n",
       "      <td>0.090091</td>\n",
       "      <td>0.149452</td>\n",
       "      <td>0.127618</td>\n",
       "      <td>0.128062</td>\n",
       "      <td>-0.068182</td>\n",
       "      <td>0.174367</td>\n",
       "      <td>0.115135</td>\n",
       "      <td>...</td>\n",
       "      <td>0.127240</td>\n",
       "      <td>0.079359</td>\n",
       "      <td>1.000000</td>\n",
       "      <td>-0.034333</td>\n",
       "      <td>0.124203</td>\n",
       "      <td>0.108486</td>\n",
       "      <td>0.097389</td>\n",
       "      <td>0.061352</td>\n",
       "      <td>0.126269</td>\n",
       "      <td>-0.031856</td>\n",
       "    </tr>\n",
       "    <tr>\n",
       "      <th>WorkChallengeFrequencyHiringFunds</th>\n",
       "      <td>0.084112</td>\n",
       "      <td>0.096092</td>\n",
       "      <td>0.022498</td>\n",
       "      <td>0.039174</td>\n",
       "      <td>-0.027606</td>\n",
       "      <td>-0.019457</td>\n",
       "      <td>0.056796</td>\n",
       "      <td>-0.048128</td>\n",
       "      <td>0.024071</td>\n",
       "      <td>0.199920</td>\n",
       "      <td>...</td>\n",
       "      <td>0.035457</td>\n",
       "      <td>0.003734</td>\n",
       "      <td>-0.034333</td>\n",
       "      <td>1.000000</td>\n",
       "      <td>-0.018738</td>\n",
       "      <td>0.016825</td>\n",
       "      <td>-0.011086</td>\n",
       "      <td>0.034336</td>\n",
       "      <td>0.005857</td>\n",
       "      <td>-0.017627</td>\n",
       "    </tr>\n",
       "    <tr>\n",
       "      <th>WorkChallengeFrequencyPrivacy</th>\n",
       "      <td>-0.010935</td>\n",
       "      <td>0.125283</td>\n",
       "      <td>0.070609</td>\n",
       "      <td>0.054384</td>\n",
       "      <td>0.063689</td>\n",
       "      <td>0.137856</td>\n",
       "      <td>0.088341</td>\n",
       "      <td>-0.049840</td>\n",
       "      <td>0.076548</td>\n",
       "      <td>0.069117</td>\n",
       "      <td>...</td>\n",
       "      <td>0.058832</td>\n",
       "      <td>0.076475</td>\n",
       "      <td>0.124203</td>\n",
       "      <td>-0.018738</td>\n",
       "      <td>1.000000</td>\n",
       "      <td>0.067059</td>\n",
       "      <td>0.076917</td>\n",
       "      <td>0.061788</td>\n",
       "      <td>0.178617</td>\n",
       "      <td>-0.013673</td>\n",
       "    </tr>\n",
       "    <tr>\n",
       "      <th>WorkChallengeFrequencyScaling</th>\n",
       "      <td>-0.004967</td>\n",
       "      <td>0.086433</td>\n",
       "      <td>0.073961</td>\n",
       "      <td>0.119999</td>\n",
       "      <td>0.182495</td>\n",
       "      <td>0.074112</td>\n",
       "      <td>0.098734</td>\n",
       "      <td>-0.047122</td>\n",
       "      <td>0.091998</td>\n",
       "      <td>0.067570</td>\n",
       "      <td>...</td>\n",
       "      <td>0.077155</td>\n",
       "      <td>0.133306</td>\n",
       "      <td>0.108486</td>\n",
       "      <td>0.016825</td>\n",
       "      <td>0.067059</td>\n",
       "      <td>1.000000</td>\n",
       "      <td>0.158935</td>\n",
       "      <td>0.081331</td>\n",
       "      <td>0.080759</td>\n",
       "      <td>0.011571</td>\n",
       "    </tr>\n",
       "    <tr>\n",
       "      <th>WorkChallengeFrequencyEnvironments</th>\n",
       "      <td>-0.005826</td>\n",
       "      <td>0.080329</td>\n",
       "      <td>0.089002</td>\n",
       "      <td>0.083455</td>\n",
       "      <td>0.119886</td>\n",
       "      <td>0.140601</td>\n",
       "      <td>0.103552</td>\n",
       "      <td>-0.068062</td>\n",
       "      <td>0.088799</td>\n",
       "      <td>0.069269</td>\n",
       "      <td>...</td>\n",
       "      <td>0.098423</td>\n",
       "      <td>0.123502</td>\n",
       "      <td>0.097389</td>\n",
       "      <td>-0.011086</td>\n",
       "      <td>0.076917</td>\n",
       "      <td>0.158935</td>\n",
       "      <td>1.000000</td>\n",
       "      <td>0.104092</td>\n",
       "      <td>0.077644</td>\n",
       "      <td>-0.015407</td>\n",
       "    </tr>\n",
       "    <tr>\n",
       "      <th>WorkChallengeFrequencyClarity</th>\n",
       "      <td>0.047984</td>\n",
       "      <td>0.136624</td>\n",
       "      <td>0.195699</td>\n",
       "      <td>0.137151</td>\n",
       "      <td>0.073465</td>\n",
       "      <td>0.152193</td>\n",
       "      <td>0.164829</td>\n",
       "      <td>-0.095704</td>\n",
       "      <td>0.199506</td>\n",
       "      <td>0.081596</td>\n",
       "      <td>...</td>\n",
       "      <td>-0.003315</td>\n",
       "      <td>0.221543</td>\n",
       "      <td>0.061352</td>\n",
       "      <td>0.034336</td>\n",
       "      <td>0.061788</td>\n",
       "      <td>0.081331</td>\n",
       "      <td>0.104092</td>\n",
       "      <td>1.000000</td>\n",
       "      <td>0.120391</td>\n",
       "      <td>-0.043366</td>\n",
       "    </tr>\n",
       "    <tr>\n",
       "      <th>WorkChallengeFrequencyDataAccess</th>\n",
       "      <td>-0.054692</td>\n",
       "      <td>0.062854</td>\n",
       "      <td>0.072111</td>\n",
       "      <td>0.100760</td>\n",
       "      <td>0.118111</td>\n",
       "      <td>0.209994</td>\n",
       "      <td>0.110170</td>\n",
       "      <td>-0.088002</td>\n",
       "      <td>0.098228</td>\n",
       "      <td>0.039774</td>\n",
       "      <td>...</td>\n",
       "      <td>0.110555</td>\n",
       "      <td>0.125328</td>\n",
       "      <td>0.126269</td>\n",
       "      <td>0.005857</td>\n",
       "      <td>0.178617</td>\n",
       "      <td>0.080759</td>\n",
       "      <td>0.077644</td>\n",
       "      <td>0.120391</td>\n",
       "      <td>1.000000</td>\n",
       "      <td>-0.013925</td>\n",
       "    </tr>\n",
       "    <tr>\n",
       "      <th>WorkChallengeFrequencyOtherSelect</th>\n",
       "      <td>0.008760</td>\n",
       "      <td>-0.018930</td>\n",
       "      <td>-0.028182</td>\n",
       "      <td>-0.002380</td>\n",
       "      <td>-0.003447</td>\n",
       "      <td>-0.041488</td>\n",
       "      <td>-0.009569</td>\n",
       "      <td>-0.018885</td>\n",
       "      <td>-0.034902</td>\n",
       "      <td>-0.019816</td>\n",
       "      <td>...</td>\n",
       "      <td>0.004457</td>\n",
       "      <td>0.003977</td>\n",
       "      <td>-0.031856</td>\n",
       "      <td>-0.017627</td>\n",
       "      <td>-0.013673</td>\n",
       "      <td>0.011571</td>\n",
       "      <td>-0.015407</td>\n",
       "      <td>-0.043366</td>\n",
       "      <td>-0.013925</td>\n",
       "      <td>1.000000</td>\n",
       "    </tr>\n",
       "  </tbody>\n",
       "</table>\n",
       "<p>23 rows × 23 columns</p>\n",
       "</div>"
      ],
      "text/plain": [
       "                                             JobSatisfaction  \\\n",
       "JobSatisfaction                                     1.000000   \n",
       "WorkChallengeFrequencyPolitics                      0.252714   \n",
       "WorkChallengeFrequencyUnusedResults                 0.117567   \n",
       "WorkChallengeFrequencyUnusefulInstrumenting         0.078323   \n",
       "WorkChallengeFrequencyDeployment                   -0.037893   \n",
       "WorkChallengeFrequencyDirtyData                    -0.070082   \n",
       "WorkChallengeFrequencyExplaining                    0.020433   \n",
       "WorkChallengeFrequencyPass                          0.011235   \n",
       "WorkChallengeFrequencyIntegration                   0.083406   \n",
       "WorkChallengeFrequencyTalent                        0.183400   \n",
       "WorkChallengeFrequencyDataFunds                     0.048510   \n",
       "WorkChallengeFrequencyDomainExpertise               0.090613   \n",
       "WorkChallengeFrequencyML                            0.019058   \n",
       "WorkChallengeFrequencyTools                         0.071025   \n",
       "WorkChallengeFrequencyExpectations                 -0.030452   \n",
       "WorkChallengeFrequencyITCoordination                0.013840   \n",
       "WorkChallengeFrequencyHiringFunds                   0.084112   \n",
       "WorkChallengeFrequencyPrivacy                      -0.010935   \n",
       "WorkChallengeFrequencyScaling                      -0.004967   \n",
       "WorkChallengeFrequencyEnvironments                 -0.005826   \n",
       "WorkChallengeFrequencyClarity                       0.047984   \n",
       "WorkChallengeFrequencyDataAccess                   -0.054692   \n",
       "WorkChallengeFrequencyOtherSelect                   0.008760   \n",
       "\n",
       "                                             WorkChallengeFrequencyPolitics  \\\n",
       "JobSatisfaction                                                    0.252714   \n",
       "WorkChallengeFrequencyPolitics                                     1.000000   \n",
       "WorkChallengeFrequencyUnusedResults                                0.254692   \n",
       "WorkChallengeFrequencyUnusefulInstrumenting                        0.125909   \n",
       "WorkChallengeFrequencyDeployment                                   0.069845   \n",
       "WorkChallengeFrequencyDirtyData                                    0.050855   \n",
       "WorkChallengeFrequencyExplaining                                   0.157402   \n",
       "WorkChallengeFrequencyPass                                        -0.094855   \n",
       "WorkChallengeFrequencyIntegration                                  0.241704   \n",
       "WorkChallengeFrequencyTalent                                       0.251172   \n",
       "WorkChallengeFrequencyDataFunds                                    0.104368   \n",
       "WorkChallengeFrequencyDomainExpertise                              0.077201   \n",
       "WorkChallengeFrequencyML                                           0.004587   \n",
       "WorkChallengeFrequencyTools                                        0.077138   \n",
       "WorkChallengeFrequencyExpectations                                 0.093572   \n",
       "WorkChallengeFrequencyITCoordination                               0.178397   \n",
       "WorkChallengeFrequencyHiringFunds                                  0.096092   \n",
       "WorkChallengeFrequencyPrivacy                                      0.125283   \n",
       "WorkChallengeFrequencyScaling                                      0.086433   \n",
       "WorkChallengeFrequencyEnvironments                                 0.080329   \n",
       "WorkChallengeFrequencyClarity                                      0.136624   \n",
       "WorkChallengeFrequencyDataAccess                                   0.062854   \n",
       "WorkChallengeFrequencyOtherSelect                                 -0.018930   \n",
       "\n",
       "                                             WorkChallengeFrequencyUnusedResults  \\\n",
       "JobSatisfaction                                                         0.117567   \n",
       "WorkChallengeFrequencyPolitics                                          0.254692   \n",
       "WorkChallengeFrequencyUnusedResults                                     1.000000   \n",
       "WorkChallengeFrequencyUnusefulInstrumenting                             0.174099   \n",
       "WorkChallengeFrequencyDeployment                                        0.087342   \n",
       "WorkChallengeFrequencyDirtyData                                         0.110481   \n",
       "WorkChallengeFrequencyExplaining                                        0.237031   \n",
       "WorkChallengeFrequencyPass                                             -0.066543   \n",
       "WorkChallengeFrequencyIntegration                                       0.355768   \n",
       "WorkChallengeFrequencyTalent                                            0.144425   \n",
       "WorkChallengeFrequencyDataFunds                                         0.056803   \n",
       "WorkChallengeFrequencyDomainExpertise                                   0.085192   \n",
       "WorkChallengeFrequencyML                                                0.013974   \n",
       "WorkChallengeFrequencyTools                                             0.055077   \n",
       "WorkChallengeFrequencyExpectations                                      0.147147   \n",
       "WorkChallengeFrequencyITCoordination                                    0.118580   \n",
       "WorkChallengeFrequencyHiringFunds                                       0.022498   \n",
       "WorkChallengeFrequencyPrivacy                                           0.070609   \n",
       "WorkChallengeFrequencyScaling                                           0.073961   \n",
       "WorkChallengeFrequencyEnvironments                                      0.089002   \n",
       "WorkChallengeFrequencyClarity                                           0.195699   \n",
       "WorkChallengeFrequencyDataAccess                                        0.072111   \n",
       "WorkChallengeFrequencyOtherSelect                                      -0.028182   \n",
       "\n",
       "                                             WorkChallengeFrequencyUnusefulInstrumenting  \\\n",
       "JobSatisfaction                                                                 0.078323   \n",
       "WorkChallengeFrequencyPolitics                                                  0.125909   \n",
       "WorkChallengeFrequencyUnusedResults                                             0.174099   \n",
       "WorkChallengeFrequencyUnusefulInstrumenting                                     1.000000   \n",
       "WorkChallengeFrequencyDeployment                                                0.113159   \n",
       "WorkChallengeFrequencyDirtyData                                                 0.082786   \n",
       "WorkChallengeFrequencyExplaining                                                0.110438   \n",
       "WorkChallengeFrequencyPass                                                     -0.036082   \n",
       "WorkChallengeFrequencyIntegration                                               0.140361   \n",
       "WorkChallengeFrequencyTalent                                                    0.093384   \n",
       "WorkChallengeFrequencyDataFunds                                                 0.108687   \n",
       "WorkChallengeFrequencyDomainExpertise                                           0.106258   \n",
       "WorkChallengeFrequencyML                                                        0.059805   \n",
       "WorkChallengeFrequencyTools                                                     0.076947   \n",
       "WorkChallengeFrequencyExpectations                                              0.140278   \n",
       "WorkChallengeFrequencyITCoordination                                            0.090091   \n",
       "WorkChallengeFrequencyHiringFunds                                               0.039174   \n",
       "WorkChallengeFrequencyPrivacy                                                   0.054384   \n",
       "WorkChallengeFrequencyScaling                                                   0.119999   \n",
       "WorkChallengeFrequencyEnvironments                                              0.083455   \n",
       "WorkChallengeFrequencyClarity                                                   0.137151   \n",
       "WorkChallengeFrequencyDataAccess                                                0.100760   \n",
       "WorkChallengeFrequencyOtherSelect                                              -0.002380   \n",
       "\n",
       "                                             WorkChallengeFrequencyDeployment  \\\n",
       "JobSatisfaction                                                     -0.037893   \n",
       "WorkChallengeFrequencyPolitics                                       0.069845   \n",
       "WorkChallengeFrequencyUnusedResults                                  0.087342   \n",
       "WorkChallengeFrequencyUnusefulInstrumenting                          0.113159   \n",
       "WorkChallengeFrequencyDeployment                                     1.000000   \n",
       "WorkChallengeFrequencyDirtyData                                      0.089596   \n",
       "WorkChallengeFrequencyExplaining                                     0.095749   \n",
       "WorkChallengeFrequencyPass                                          -0.061865   \n",
       "WorkChallengeFrequencyIntegration                                    0.102828   \n",
       "WorkChallengeFrequencyTalent                                         0.055595   \n",
       "WorkChallengeFrequencyDataFunds                                      0.022822   \n",
       "WorkChallengeFrequencyDomainExpertise                                0.033112   \n",
       "WorkChallengeFrequencyML                                             0.072198   \n",
       "WorkChallengeFrequencyTools                                          0.071063   \n",
       "WorkChallengeFrequencyExpectations                                   0.146613   \n",
       "WorkChallengeFrequencyITCoordination                                 0.149452   \n",
       "WorkChallengeFrequencyHiringFunds                                   -0.027606   \n",
       "WorkChallengeFrequencyPrivacy                                        0.063689   \n",
       "WorkChallengeFrequencyScaling                                        0.182495   \n",
       "WorkChallengeFrequencyEnvironments                                   0.119886   \n",
       "WorkChallengeFrequencyClarity                                        0.073465   \n",
       "WorkChallengeFrequencyDataAccess                                     0.118111   \n",
       "WorkChallengeFrequencyOtherSelect                                   -0.003447   \n",
       "\n",
       "                                             WorkChallengeFrequencyDirtyData  \\\n",
       "JobSatisfaction                                                    -0.070082   \n",
       "WorkChallengeFrequencyPolitics                                      0.050855   \n",
       "WorkChallengeFrequencyUnusedResults                                 0.110481   \n",
       "WorkChallengeFrequencyUnusefulInstrumenting                         0.082786   \n",
       "WorkChallengeFrequencyDeployment                                    0.089596   \n",
       "WorkChallengeFrequencyDirtyData                                     1.000000   \n",
       "WorkChallengeFrequencyExplaining                                    0.162466   \n",
       "WorkChallengeFrequencyPass                                         -0.138649   \n",
       "WorkChallengeFrequencyIntegration                                   0.090729   \n",
       "WorkChallengeFrequencyTalent                                        0.046415   \n",
       "WorkChallengeFrequencyDataFunds                                     0.035014   \n",
       "WorkChallengeFrequencyDomainExpertise                               0.063993   \n",
       "WorkChallengeFrequencyML                                           -0.003279   \n",
       "WorkChallengeFrequencyTools                                         0.080373   \n",
       "WorkChallengeFrequencyExpectations                                  0.164889   \n",
       "WorkChallengeFrequencyITCoordination                                0.127618   \n",
       "WorkChallengeFrequencyHiringFunds                                  -0.019457   \n",
       "WorkChallengeFrequencyPrivacy                                       0.137856   \n",
       "WorkChallengeFrequencyScaling                                       0.074112   \n",
       "WorkChallengeFrequencyEnvironments                                  0.140601   \n",
       "WorkChallengeFrequencyClarity                                       0.152193   \n",
       "WorkChallengeFrequencyDataAccess                                    0.209994   \n",
       "WorkChallengeFrequencyOtherSelect                                  -0.041488   \n",
       "\n",
       "                                             WorkChallengeFrequencyExplaining  \\\n",
       "JobSatisfaction                                                      0.020433   \n",
       "WorkChallengeFrequencyPolitics                                       0.157402   \n",
       "WorkChallengeFrequencyUnusedResults                                  0.237031   \n",
       "WorkChallengeFrequencyUnusefulInstrumenting                          0.110438   \n",
       "WorkChallengeFrequencyDeployment                                     0.095749   \n",
       "WorkChallengeFrequencyDirtyData                                      0.162466   \n",
       "WorkChallengeFrequencyExplaining                                     1.000000   \n",
       "WorkChallengeFrequencyPass                                          -0.071836   \n",
       "WorkChallengeFrequencyIntegration                                    0.193130   \n",
       "WorkChallengeFrequencyTalent                                         0.186961   \n",
       "WorkChallengeFrequencyDataFunds                                      0.050267   \n",
       "WorkChallengeFrequencyDomainExpertise                                0.071396   \n",
       "WorkChallengeFrequencyML                                             0.073573   \n",
       "WorkChallengeFrequencyTools                                          0.052810   \n",
       "WorkChallengeFrequencyExpectations                                   0.230365   \n",
       "WorkChallengeFrequencyITCoordination                                 0.128062   \n",
       "WorkChallengeFrequencyHiringFunds                                    0.056796   \n",
       "WorkChallengeFrequencyPrivacy                                        0.088341   \n",
       "WorkChallengeFrequencyScaling                                        0.098734   \n",
       "WorkChallengeFrequencyEnvironments                                   0.103552   \n",
       "WorkChallengeFrequencyClarity                                        0.164829   \n",
       "WorkChallengeFrequencyDataAccess                                     0.110170   \n",
       "WorkChallengeFrequencyOtherSelect                                   -0.009569   \n",
       "\n",
       "                                             WorkChallengeFrequencyPass  \\\n",
       "JobSatisfaction                                                0.011235   \n",
       "WorkChallengeFrequencyPolitics                                -0.094855   \n",
       "WorkChallengeFrequencyUnusedResults                           -0.066543   \n",
       "WorkChallengeFrequencyUnusefulInstrumenting                   -0.036082   \n",
       "WorkChallengeFrequencyDeployment                              -0.061865   \n",
       "WorkChallengeFrequencyDirtyData                               -0.138649   \n",
       "WorkChallengeFrequencyExplaining                              -0.071836   \n",
       "WorkChallengeFrequencyPass                                     1.000000   \n",
       "WorkChallengeFrequencyIntegration                             -0.056498   \n",
       "WorkChallengeFrequencyTalent                                  -0.110404   \n",
       "WorkChallengeFrequencyDataFunds                               -0.051216   \n",
       "WorkChallengeFrequencyDomainExpertise                         -0.063089   \n",
       "WorkChallengeFrequencyML                                      -0.037570   \n",
       "WorkChallengeFrequencyTools                                   -0.047630   \n",
       "WorkChallengeFrequencyExpectations                            -0.054287   \n",
       "WorkChallengeFrequencyITCoordination                          -0.068182   \n",
       "WorkChallengeFrequencyHiringFunds                             -0.048128   \n",
       "WorkChallengeFrequencyPrivacy                                 -0.049840   \n",
       "WorkChallengeFrequencyScaling                                 -0.047122   \n",
       "WorkChallengeFrequencyEnvironments                            -0.068062   \n",
       "WorkChallengeFrequencyClarity                                 -0.095704   \n",
       "WorkChallengeFrequencyDataAccess                              -0.088002   \n",
       "WorkChallengeFrequencyOtherSelect                             -0.018885   \n",
       "\n",
       "                                             WorkChallengeFrequencyIntegration  \\\n",
       "JobSatisfaction                                                       0.083406   \n",
       "WorkChallengeFrequencyPolitics                                        0.241704   \n",
       "WorkChallengeFrequencyUnusedResults                                   0.355768   \n",
       "WorkChallengeFrequencyUnusefulInstrumenting                           0.140361   \n",
       "WorkChallengeFrequencyDeployment                                      0.102828   \n",
       "WorkChallengeFrequencyDirtyData                                       0.090729   \n",
       "WorkChallengeFrequencyExplaining                                      0.193130   \n",
       "WorkChallengeFrequencyPass                                           -0.056498   \n",
       "WorkChallengeFrequencyIntegration                                     1.000000   \n",
       "WorkChallengeFrequencyTalent                                          0.138740   \n",
       "WorkChallengeFrequencyDataFunds                                       0.040786   \n",
       "WorkChallengeFrequencyDomainExpertise                                 0.079815   \n",
       "WorkChallengeFrequencyML                                              0.032329   \n",
       "WorkChallengeFrequencyTools                                           0.032911   \n",
       "WorkChallengeFrequencyExpectations                                    0.188429   \n",
       "WorkChallengeFrequencyITCoordination                                  0.174367   \n",
       "WorkChallengeFrequencyHiringFunds                                     0.024071   \n",
       "WorkChallengeFrequencyPrivacy                                         0.076548   \n",
       "WorkChallengeFrequencyScaling                                         0.091998   \n",
       "WorkChallengeFrequencyEnvironments                                    0.088799   \n",
       "WorkChallengeFrequencyClarity                                         0.199506   \n",
       "WorkChallengeFrequencyDataAccess                                      0.098228   \n",
       "WorkChallengeFrequencyOtherSelect                                    -0.034902   \n",
       "\n",
       "                                             WorkChallengeFrequencyTalent  \\\n",
       "JobSatisfaction                                                  0.183400   \n",
       "WorkChallengeFrequencyPolitics                                   0.251172   \n",
       "WorkChallengeFrequencyUnusedResults                              0.144425   \n",
       "WorkChallengeFrequencyUnusefulInstrumenting                      0.093384   \n",
       "WorkChallengeFrequencyDeployment                                 0.055595   \n",
       "WorkChallengeFrequencyDirtyData                                  0.046415   \n",
       "WorkChallengeFrequencyExplaining                                 0.186961   \n",
       "WorkChallengeFrequencyPass                                      -0.110404   \n",
       "WorkChallengeFrequencyIntegration                                0.138740   \n",
       "WorkChallengeFrequencyTalent                                     1.000000   \n",
       "WorkChallengeFrequencyDataFunds                                  0.074736   \n",
       "WorkChallengeFrequencyDomainExpertise                            0.174979   \n",
       "WorkChallengeFrequencyML                                         0.100166   \n",
       "WorkChallengeFrequencyTools                                      0.083240   \n",
       "WorkChallengeFrequencyExpectations                               0.091053   \n",
       "WorkChallengeFrequencyITCoordination                             0.115135   \n",
       "WorkChallengeFrequencyHiringFunds                                0.199920   \n",
       "WorkChallengeFrequencyPrivacy                                    0.069117   \n",
       "WorkChallengeFrequencyScaling                                    0.067570   \n",
       "WorkChallengeFrequencyEnvironments                               0.069269   \n",
       "WorkChallengeFrequencyClarity                                    0.081596   \n",
       "WorkChallengeFrequencyDataAccess                                 0.039774   \n",
       "WorkChallengeFrequencyOtherSelect                               -0.019816   \n",
       "\n",
       "                                                           ...                  \\\n",
       "JobSatisfaction                                            ...                   \n",
       "WorkChallengeFrequencyPolitics                             ...                   \n",
       "WorkChallengeFrequencyUnusedResults                        ...                   \n",
       "WorkChallengeFrequencyUnusefulInstrumenting                ...                   \n",
       "WorkChallengeFrequencyDeployment                           ...                   \n",
       "WorkChallengeFrequencyDirtyData                            ...                   \n",
       "WorkChallengeFrequencyExplaining                           ...                   \n",
       "WorkChallengeFrequencyPass                                 ...                   \n",
       "WorkChallengeFrequencyIntegration                          ...                   \n",
       "WorkChallengeFrequencyTalent                               ...                   \n",
       "WorkChallengeFrequencyDataFunds                            ...                   \n",
       "WorkChallengeFrequencyDomainExpertise                      ...                   \n",
       "WorkChallengeFrequencyML                                   ...                   \n",
       "WorkChallengeFrequencyTools                                ...                   \n",
       "WorkChallengeFrequencyExpectations                         ...                   \n",
       "WorkChallengeFrequencyITCoordination                       ...                   \n",
       "WorkChallengeFrequencyHiringFunds                          ...                   \n",
       "WorkChallengeFrequencyPrivacy                              ...                   \n",
       "WorkChallengeFrequencyScaling                              ...                   \n",
       "WorkChallengeFrequencyEnvironments                         ...                   \n",
       "WorkChallengeFrequencyClarity                              ...                   \n",
       "WorkChallengeFrequencyDataAccess                           ...                   \n",
       "WorkChallengeFrequencyOtherSelect                          ...                   \n",
       "\n",
       "                                             WorkChallengeFrequencyTools  \\\n",
       "JobSatisfaction                                                 0.071025   \n",
       "WorkChallengeFrequencyPolitics                                  0.077138   \n",
       "WorkChallengeFrequencyUnusedResults                             0.055077   \n",
       "WorkChallengeFrequencyUnusefulInstrumenting                     0.076947   \n",
       "WorkChallengeFrequencyDeployment                                0.071063   \n",
       "WorkChallengeFrequencyDirtyData                                 0.080373   \n",
       "WorkChallengeFrequencyExplaining                                0.052810   \n",
       "WorkChallengeFrequencyPass                                     -0.047630   \n",
       "WorkChallengeFrequencyIntegration                               0.032911   \n",
       "WorkChallengeFrequencyTalent                                    0.083240   \n",
       "WorkChallengeFrequencyDataFunds                                 0.115162   \n",
       "WorkChallengeFrequencyDomainExpertise                           0.054042   \n",
       "WorkChallengeFrequencyML                                        0.138723   \n",
       "WorkChallengeFrequencyTools                                     1.000000   \n",
       "WorkChallengeFrequencyExpectations                              0.035852   \n",
       "WorkChallengeFrequencyITCoordination                            0.127240   \n",
       "WorkChallengeFrequencyHiringFunds                               0.035457   \n",
       "WorkChallengeFrequencyPrivacy                                   0.058832   \n",
       "WorkChallengeFrequencyScaling                                   0.077155   \n",
       "WorkChallengeFrequencyEnvironments                              0.098423   \n",
       "WorkChallengeFrequencyClarity                                  -0.003315   \n",
       "WorkChallengeFrequencyDataAccess                                0.110555   \n",
       "WorkChallengeFrequencyOtherSelect                               0.004457   \n",
       "\n",
       "                                             WorkChallengeFrequencyExpectations  \\\n",
       "JobSatisfaction                                                       -0.030452   \n",
       "WorkChallengeFrequencyPolitics                                         0.093572   \n",
       "WorkChallengeFrequencyUnusedResults                                    0.147147   \n",
       "WorkChallengeFrequencyUnusefulInstrumenting                            0.140278   \n",
       "WorkChallengeFrequencyDeployment                                       0.146613   \n",
       "WorkChallengeFrequencyDirtyData                                        0.164889   \n",
       "WorkChallengeFrequencyExplaining                                       0.230365   \n",
       "WorkChallengeFrequencyPass                                            -0.054287   \n",
       "WorkChallengeFrequencyIntegration                                      0.188429   \n",
       "WorkChallengeFrequencyTalent                                           0.091053   \n",
       "WorkChallengeFrequencyDataFunds                                        0.055049   \n",
       "WorkChallengeFrequencyDomainExpertise                                  0.089789   \n",
       "WorkChallengeFrequencyML                                               0.063124   \n",
       "WorkChallengeFrequencyTools                                            0.035852   \n",
       "WorkChallengeFrequencyExpectations                                     1.000000   \n",
       "WorkChallengeFrequencyITCoordination                                   0.079359   \n",
       "WorkChallengeFrequencyHiringFunds                                      0.003734   \n",
       "WorkChallengeFrequencyPrivacy                                          0.076475   \n",
       "WorkChallengeFrequencyScaling                                          0.133306   \n",
       "WorkChallengeFrequencyEnvironments                                     0.123502   \n",
       "WorkChallengeFrequencyClarity                                          0.221543   \n",
       "WorkChallengeFrequencyDataAccess                                       0.125328   \n",
       "WorkChallengeFrequencyOtherSelect                                      0.003977   \n",
       "\n",
       "                                             WorkChallengeFrequencyITCoordination  \\\n",
       "JobSatisfaction                                                          0.013840   \n",
       "WorkChallengeFrequencyPolitics                                           0.178397   \n",
       "WorkChallengeFrequencyUnusedResults                                      0.118580   \n",
       "WorkChallengeFrequencyUnusefulInstrumenting                              0.090091   \n",
       "WorkChallengeFrequencyDeployment                                         0.149452   \n",
       "WorkChallengeFrequencyDirtyData                                          0.127618   \n",
       "WorkChallengeFrequencyExplaining                                         0.128062   \n",
       "WorkChallengeFrequencyPass                                              -0.068182   \n",
       "WorkChallengeFrequencyIntegration                                        0.174367   \n",
       "WorkChallengeFrequencyTalent                                             0.115135   \n",
       "WorkChallengeFrequencyDataFunds                                          0.055716   \n",
       "WorkChallengeFrequencyDomainExpertise                                    0.044854   \n",
       "WorkChallengeFrequencyML                                                 0.024815   \n",
       "WorkChallengeFrequencyTools                                              0.127240   \n",
       "WorkChallengeFrequencyExpectations                                       0.079359   \n",
       "WorkChallengeFrequencyITCoordination                                     1.000000   \n",
       "WorkChallengeFrequencyHiringFunds                                       -0.034333   \n",
       "WorkChallengeFrequencyPrivacy                                            0.124203   \n",
       "WorkChallengeFrequencyScaling                                            0.108486   \n",
       "WorkChallengeFrequencyEnvironments                                       0.097389   \n",
       "WorkChallengeFrequencyClarity                                            0.061352   \n",
       "WorkChallengeFrequencyDataAccess                                         0.126269   \n",
       "WorkChallengeFrequencyOtherSelect                                       -0.031856   \n",
       "\n",
       "                                             WorkChallengeFrequencyHiringFunds  \\\n",
       "JobSatisfaction                                                       0.084112   \n",
       "WorkChallengeFrequencyPolitics                                        0.096092   \n",
       "WorkChallengeFrequencyUnusedResults                                   0.022498   \n",
       "WorkChallengeFrequencyUnusefulInstrumenting                           0.039174   \n",
       "WorkChallengeFrequencyDeployment                                     -0.027606   \n",
       "WorkChallengeFrequencyDirtyData                                      -0.019457   \n",
       "WorkChallengeFrequencyExplaining                                      0.056796   \n",
       "WorkChallengeFrequencyPass                                           -0.048128   \n",
       "WorkChallengeFrequencyIntegration                                     0.024071   \n",
       "WorkChallengeFrequencyTalent                                          0.199920   \n",
       "WorkChallengeFrequencyDataFunds                                       0.173681   \n",
       "WorkChallengeFrequencyDomainExpertise                                 0.058980   \n",
       "WorkChallengeFrequencyML                                              0.044514   \n",
       "WorkChallengeFrequencyTools                                           0.035457   \n",
       "WorkChallengeFrequencyExpectations                                    0.003734   \n",
       "WorkChallengeFrequencyITCoordination                                 -0.034333   \n",
       "WorkChallengeFrequencyHiringFunds                                     1.000000   \n",
       "WorkChallengeFrequencyPrivacy                                        -0.018738   \n",
       "WorkChallengeFrequencyScaling                                         0.016825   \n",
       "WorkChallengeFrequencyEnvironments                                   -0.011086   \n",
       "WorkChallengeFrequencyClarity                                         0.034336   \n",
       "WorkChallengeFrequencyDataAccess                                      0.005857   \n",
       "WorkChallengeFrequencyOtherSelect                                    -0.017627   \n",
       "\n",
       "                                             WorkChallengeFrequencyPrivacy  \\\n",
       "JobSatisfaction                                                  -0.010935   \n",
       "WorkChallengeFrequencyPolitics                                    0.125283   \n",
       "WorkChallengeFrequencyUnusedResults                               0.070609   \n",
       "WorkChallengeFrequencyUnusefulInstrumenting                       0.054384   \n",
       "WorkChallengeFrequencyDeployment                                  0.063689   \n",
       "WorkChallengeFrequencyDirtyData                                   0.137856   \n",
       "WorkChallengeFrequencyExplaining                                  0.088341   \n",
       "WorkChallengeFrequencyPass                                       -0.049840   \n",
       "WorkChallengeFrequencyIntegration                                 0.076548   \n",
       "WorkChallengeFrequencyTalent                                      0.069117   \n",
       "WorkChallengeFrequencyDataFunds                                   0.077864   \n",
       "WorkChallengeFrequencyDomainExpertise                             0.035949   \n",
       "WorkChallengeFrequencyML                                         -0.002296   \n",
       "WorkChallengeFrequencyTools                                       0.058832   \n",
       "WorkChallengeFrequencyExpectations                                0.076475   \n",
       "WorkChallengeFrequencyITCoordination                              0.124203   \n",
       "WorkChallengeFrequencyHiringFunds                                -0.018738   \n",
       "WorkChallengeFrequencyPrivacy                                     1.000000   \n",
       "WorkChallengeFrequencyScaling                                     0.067059   \n",
       "WorkChallengeFrequencyEnvironments                                0.076917   \n",
       "WorkChallengeFrequencyClarity                                     0.061788   \n",
       "WorkChallengeFrequencyDataAccess                                  0.178617   \n",
       "WorkChallengeFrequencyOtherSelect                                -0.013673   \n",
       "\n",
       "                                             WorkChallengeFrequencyScaling  \\\n",
       "JobSatisfaction                                                  -0.004967   \n",
       "WorkChallengeFrequencyPolitics                                    0.086433   \n",
       "WorkChallengeFrequencyUnusedResults                               0.073961   \n",
       "WorkChallengeFrequencyUnusefulInstrumenting                       0.119999   \n",
       "WorkChallengeFrequencyDeployment                                  0.182495   \n",
       "WorkChallengeFrequencyDirtyData                                   0.074112   \n",
       "WorkChallengeFrequencyExplaining                                  0.098734   \n",
       "WorkChallengeFrequencyPass                                       -0.047122   \n",
       "WorkChallengeFrequencyIntegration                                 0.091998   \n",
       "WorkChallengeFrequencyTalent                                      0.067570   \n",
       "WorkChallengeFrequencyDataFunds                                   0.080992   \n",
       "WorkChallengeFrequencyDomainExpertise                             0.073590   \n",
       "WorkChallengeFrequencyML                                          0.087503   \n",
       "WorkChallengeFrequencyTools                                       0.077155   \n",
       "WorkChallengeFrequencyExpectations                                0.133306   \n",
       "WorkChallengeFrequencyITCoordination                              0.108486   \n",
       "WorkChallengeFrequencyHiringFunds                                 0.016825   \n",
       "WorkChallengeFrequencyPrivacy                                     0.067059   \n",
       "WorkChallengeFrequencyScaling                                     1.000000   \n",
       "WorkChallengeFrequencyEnvironments                                0.158935   \n",
       "WorkChallengeFrequencyClarity                                     0.081331   \n",
       "WorkChallengeFrequencyDataAccess                                  0.080759   \n",
       "WorkChallengeFrequencyOtherSelect                                 0.011571   \n",
       "\n",
       "                                             WorkChallengeFrequencyEnvironments  \\\n",
       "JobSatisfaction                                                       -0.005826   \n",
       "WorkChallengeFrequencyPolitics                                         0.080329   \n",
       "WorkChallengeFrequencyUnusedResults                                    0.089002   \n",
       "WorkChallengeFrequencyUnusefulInstrumenting                            0.083455   \n",
       "WorkChallengeFrequencyDeployment                                       0.119886   \n",
       "WorkChallengeFrequencyDirtyData                                        0.140601   \n",
       "WorkChallengeFrequencyExplaining                                       0.103552   \n",
       "WorkChallengeFrequencyPass                                            -0.068062   \n",
       "WorkChallengeFrequencyIntegration                                      0.088799   \n",
       "WorkChallengeFrequencyTalent                                           0.069269   \n",
       "WorkChallengeFrequencyDataFunds                                        0.070350   \n",
       "WorkChallengeFrequencyDomainExpertise                                  0.070719   \n",
       "WorkChallengeFrequencyML                                               0.095900   \n",
       "WorkChallengeFrequencyTools                                            0.098423   \n",
       "WorkChallengeFrequencyExpectations                                     0.123502   \n",
       "WorkChallengeFrequencyITCoordination                                   0.097389   \n",
       "WorkChallengeFrequencyHiringFunds                                     -0.011086   \n",
       "WorkChallengeFrequencyPrivacy                                          0.076917   \n",
       "WorkChallengeFrequencyScaling                                          0.158935   \n",
       "WorkChallengeFrequencyEnvironments                                     1.000000   \n",
       "WorkChallengeFrequencyClarity                                          0.104092   \n",
       "WorkChallengeFrequencyDataAccess                                       0.077644   \n",
       "WorkChallengeFrequencyOtherSelect                                     -0.015407   \n",
       "\n",
       "                                             WorkChallengeFrequencyClarity  \\\n",
       "JobSatisfaction                                                   0.047984   \n",
       "WorkChallengeFrequencyPolitics                                    0.136624   \n",
       "WorkChallengeFrequencyUnusedResults                               0.195699   \n",
       "WorkChallengeFrequencyUnusefulInstrumenting                       0.137151   \n",
       "WorkChallengeFrequencyDeployment                                  0.073465   \n",
       "WorkChallengeFrequencyDirtyData                                   0.152193   \n",
       "WorkChallengeFrequencyExplaining                                  0.164829   \n",
       "WorkChallengeFrequencyPass                                       -0.095704   \n",
       "WorkChallengeFrequencyIntegration                                 0.199506   \n",
       "WorkChallengeFrequencyTalent                                      0.081596   \n",
       "WorkChallengeFrequencyDataFunds                                   0.051632   \n",
       "WorkChallengeFrequencyDomainExpertise                             0.166943   \n",
       "WorkChallengeFrequencyML                                          0.035430   \n",
       "WorkChallengeFrequencyTools                                      -0.003315   \n",
       "WorkChallengeFrequencyExpectations                                0.221543   \n",
       "WorkChallengeFrequencyITCoordination                              0.061352   \n",
       "WorkChallengeFrequencyHiringFunds                                 0.034336   \n",
       "WorkChallengeFrequencyPrivacy                                     0.061788   \n",
       "WorkChallengeFrequencyScaling                                     0.081331   \n",
       "WorkChallengeFrequencyEnvironments                                0.104092   \n",
       "WorkChallengeFrequencyClarity                                     1.000000   \n",
       "WorkChallengeFrequencyDataAccess                                  0.120391   \n",
       "WorkChallengeFrequencyOtherSelect                                -0.043366   \n",
       "\n",
       "                                             WorkChallengeFrequencyDataAccess  \\\n",
       "JobSatisfaction                                                     -0.054692   \n",
       "WorkChallengeFrequencyPolitics                                       0.062854   \n",
       "WorkChallengeFrequencyUnusedResults                                  0.072111   \n",
       "WorkChallengeFrequencyUnusefulInstrumenting                          0.100760   \n",
       "WorkChallengeFrequencyDeployment                                     0.118111   \n",
       "WorkChallengeFrequencyDirtyData                                      0.209994   \n",
       "WorkChallengeFrequencyExplaining                                     0.110170   \n",
       "WorkChallengeFrequencyPass                                          -0.088002   \n",
       "WorkChallengeFrequencyIntegration                                    0.098228   \n",
       "WorkChallengeFrequencyTalent                                         0.039774   \n",
       "WorkChallengeFrequencyDataFunds                                      0.134617   \n",
       "WorkChallengeFrequencyDomainExpertise                                0.075604   \n",
       "WorkChallengeFrequencyML                                             0.028587   \n",
       "WorkChallengeFrequencyTools                                          0.110555   \n",
       "WorkChallengeFrequencyExpectations                                   0.125328   \n",
       "WorkChallengeFrequencyITCoordination                                 0.126269   \n",
       "WorkChallengeFrequencyHiringFunds                                    0.005857   \n",
       "WorkChallengeFrequencyPrivacy                                        0.178617   \n",
       "WorkChallengeFrequencyScaling                                        0.080759   \n",
       "WorkChallengeFrequencyEnvironments                                   0.077644   \n",
       "WorkChallengeFrequencyClarity                                        0.120391   \n",
       "WorkChallengeFrequencyDataAccess                                     1.000000   \n",
       "WorkChallengeFrequencyOtherSelect                                   -0.013925   \n",
       "\n",
       "                                             WorkChallengeFrequencyOtherSelect  \n",
       "JobSatisfaction                                                       0.008760  \n",
       "WorkChallengeFrequencyPolitics                                       -0.018930  \n",
       "WorkChallengeFrequencyUnusedResults                                  -0.028182  \n",
       "WorkChallengeFrequencyUnusefulInstrumenting                          -0.002380  \n",
       "WorkChallengeFrequencyDeployment                                     -0.003447  \n",
       "WorkChallengeFrequencyDirtyData                                      -0.041488  \n",
       "WorkChallengeFrequencyExplaining                                     -0.009569  \n",
       "WorkChallengeFrequencyPass                                           -0.018885  \n",
       "WorkChallengeFrequencyIntegration                                    -0.034902  \n",
       "WorkChallengeFrequencyTalent                                         -0.019816  \n",
       "WorkChallengeFrequencyDataFunds                                      -0.006059  \n",
       "WorkChallengeFrequencyDomainExpertise                                 0.006595  \n",
       "WorkChallengeFrequencyML                                              0.000566  \n",
       "WorkChallengeFrequencyTools                                           0.004457  \n",
       "WorkChallengeFrequencyExpectations                                    0.003977  \n",
       "WorkChallengeFrequencyITCoordination                                 -0.031856  \n",
       "WorkChallengeFrequencyHiringFunds                                    -0.017627  \n",
       "WorkChallengeFrequencyPrivacy                                        -0.013673  \n",
       "WorkChallengeFrequencyScaling                                         0.011571  \n",
       "WorkChallengeFrequencyEnvironments                                   -0.015407  \n",
       "WorkChallengeFrequencyClarity                                        -0.043366  \n",
       "WorkChallengeFrequencyDataAccess                                     -0.013925  \n",
       "WorkChallengeFrequencyOtherSelect                                     1.000000  \n",
       "\n",
       "[23 rows x 23 columns]"
      ]
     },
     "execution_count": 108,
     "metadata": {},
     "output_type": "execute_result"
    }
   ],
   "source": [
    "question1[['JobSatisfaction', 'WorkChallengeFrequencyPolitics', 'WorkChallengeFrequencyUnusedResults', 'WorkChallengeFrequencyUnusefulInstrumenting', 'WorkChallengeFrequencyDeployment', 'WorkChallengeFrequencyDirtyData', 'WorkChallengeFrequencyExplaining', 'WorkChallengeFrequencyPass', 'WorkChallengeFrequencyIntegration', 'WorkChallengeFrequencyTalent', 'WorkChallengeFrequencyDataFunds', 'WorkChallengeFrequencyDomainExpertise', 'WorkChallengeFrequencyML', 'WorkChallengeFrequencyTools', 'WorkChallengeFrequencyExpectations', 'WorkChallengeFrequencyITCoordination', 'WorkChallengeFrequencyHiringFunds', 'WorkChallengeFrequencyPrivacy', 'WorkChallengeFrequencyScaling', 'WorkChallengeFrequencyEnvironments', 'WorkChallengeFrequencyClarity', 'WorkChallengeFrequencyDataAccess', 'WorkChallengeFrequencyOtherSelect']].corr()"
   ]
  },
  {
   "cell_type": "code",
   "execution_count": 109,
   "metadata": {},
   "outputs": [
    {
     "data": {
      "text/plain": [
       "Index(['WorkChallengeFrequencyPolitics', 'WorkChallengeFrequencyUnusedResults',\n",
       "       'WorkChallengeFrequencyUnusefulInstrumenting',\n",
       "       'WorkChallengeFrequencyDeployment', 'WorkChallengeFrequencyDirtyData',\n",
       "       'WorkChallengeFrequencyExplaining', 'WorkChallengeFrequencyPass',\n",
       "       'WorkChallengeFrequencyIntegration', 'WorkChallengeFrequencyTalent',\n",
       "       'WorkChallengeFrequencyDataFunds',\n",
       "       'WorkChallengeFrequencyDomainExpertise', 'WorkChallengeFrequencyML',\n",
       "       'WorkChallengeFrequencyTools', 'WorkChallengeFrequencyExpectations',\n",
       "       'WorkChallengeFrequencyITCoordination',\n",
       "       'WorkChallengeFrequencyHiringFunds', 'WorkChallengeFrequencyPrivacy',\n",
       "       'WorkChallengeFrequencyScaling', 'WorkChallengeFrequencyEnvironments',\n",
       "       'WorkChallengeFrequencyClarity', 'WorkChallengeFrequencyDataAccess',\n",
       "       'WorkChallengeFrequencyOtherSelect'],\n",
       "      dtype='object')"
      ]
     },
     "execution_count": 109,
     "metadata": {},
     "output_type": "execute_result"
    }
   ],
   "source": [
    "question1.columns[1:]"
   ]
  },
  {
   "cell_type": "code",
   "execution_count": 110,
   "metadata": {},
   "outputs": [
    {
     "name": "stdout",
     "output_type": "stream",
     "text": [
      "Sig: WorkChallengeFrequencyPolitics\n",
      "Sig: WorkChallengeFrequencyUnusedResults\n",
      "Sig: WorkChallengeFrequencyUnusefulInstrumenting\n",
      "Sig: WorkChallengeFrequencyDeployment\n",
      "Sig: WorkChallengeFrequencyDirtyData\n",
      "Sig: WorkChallengeFrequencyIntegration\n",
      "Sig: WorkChallengeFrequencyTalent\n",
      "Sig: WorkChallengeFrequencyDataFunds\n",
      "Sig: WorkChallengeFrequencyDomainExpertise\n",
      "Sig: WorkChallengeFrequencyTools\n",
      "Sig: WorkChallengeFrequencyExpectations\n",
      "Sig: WorkChallengeFrequencyHiringFunds\n",
      "Sig: WorkChallengeFrequencyClarity\n",
      "Sig: WorkChallengeFrequencyDataAccess\n",
      "Meaningful: WorkChallengeFrequencyPolitics\n",
      "Meaningful: WorkChallengeFrequencyUnusedResults\n",
      "Meaningful: WorkChallengeFrequencyTalent\n"
     ]
    }
   ],
   "source": [
    "sig = []\n",
    "non_sig = []\n",
    "sig_and_meaningful = []\n",
    "\n",
    "for i in question1.columns[1:]:\n",
    "    slope, intercept, r_value, p_value, std_err = linregress(question1['JobSatisfaction'],question1[i])\n",
    "    if p_value < 0.05:\n",
    "        if r_value > 0.1:\n",
    "            sig_and_meaningful.append(i)\n",
    "            sig.append(i)\n",
    "        else:\n",
    "            sig.append(i)\n",
    "    else:\n",
    "        non_sig.append(i)\n",
    "for i in sig:\n",
    "    print(\"Sig: \" + i)\n",
    "\n",
    "for i in sig_and_meaningful:\n",
    "    print(\"Meaningful: \" + i)\n",
    "\n",
    "# for i in non_sig:\n",
    "#     print(\"Not sig: \" + i)"
   ]
  },
  {
   "cell_type": "markdown",
   "metadata": {},
   "source": [
    "Therefore, there are 14 workplace challenges that effect job satisfaction at a level of statistical significance (p < 0.05).  However, of them 14 there are only 3 meaningful (r > 0.1).  They are:\n",
    "\n",
    "1) Politics\n",
    "\n",
    "2) Unused Results\n",
    "\n",
    "3) Lack of Talent"
   ]
  },
  {
   "cell_type": "markdown",
   "metadata": {},
   "source": [
    "## Question 2) Do certain variables effect job satisfaction more than others and therefore require more attention?"
   ]
  },
  {
   "cell_type": "markdown",
   "metadata": {},
   "source": [
    "Defining the level of correlation with Job Satisfaction to require more attention at r>0.10 we have 7 total variables that require more attention.  They are:\n",
    "\n",
    "1) Title Fit\n",
    "\n",
    "2) Remote Work\n",
    "\n",
    "3) Compensation Amount\n",
    "\n",
    "4) Salary Change\n",
    "\n",
    "5) Workplace Politics\n",
    "\n",
    "6) Unused Results in the workplace\n",
    "\n",
    "7) Lack of Talent\n"
   ]
  },
  {
   "cell_type": "code",
   "execution_count": null,
   "metadata": {},
   "outputs": [],
   "source": []
  },
  {
   "cell_type": "code",
   "execution_count": 111,
   "metadata": {},
   "outputs": [
    {
     "data": {
      "text/html": [
       "<div>\n",
       "<style>\n",
       "    .dataframe thead tr:only-child th {\n",
       "        text-align: right;\n",
       "    }\n",
       "\n",
       "    .dataframe thead th {\n",
       "        text-align: left;\n",
       "    }\n",
       "\n",
       "    .dataframe tbody tr th {\n",
       "        vertical-align: top;\n",
       "    }\n",
       "</style>\n",
       "<table border=\"1\" class=\"dataframe\">\n",
       "  <thead>\n",
       "    <tr style=\"text-align: right;\">\n",
       "      <th></th>\n",
       "      <th>TitleFit</th>\n",
       "      <th>RemoteWork</th>\n",
       "      <th>CompensationAmount</th>\n",
       "      <th>SalaryChange</th>\n",
       "      <th>WorkChallengeFrequencyPolitics</th>\n",
       "      <th>WorkChallengeFrequencyUnusedResults</th>\n",
       "      <th>WorkChallengeFrequencyTalent</th>\n",
       "      <th>JobSatisfaction</th>\n",
       "      <th>is_train</th>\n",
       "    </tr>\n",
       "  </thead>\n",
       "  <tbody>\n",
       "    <tr>\n",
       "      <th>4</th>\n",
       "      <td>2</td>\n",
       "      <td>2</td>\n",
       "      <td>64184.8</td>\n",
       "      <td>3</td>\n",
       "      <td>4</td>\n",
       "      <td>4</td>\n",
       "      <td>4</td>\n",
       "      <td>1</td>\n",
       "      <td>True</td>\n",
       "    </tr>\n",
       "    <tr>\n",
       "      <th>5</th>\n",
       "      <td>2</td>\n",
       "      <td>2</td>\n",
       "      <td>20882.4</td>\n",
       "      <td>4</td>\n",
       "      <td>4</td>\n",
       "      <td>2</td>\n",
       "      <td>1</td>\n",
       "      <td>1</td>\n",
       "      <td>True</td>\n",
       "    </tr>\n",
       "    <tr>\n",
       "      <th>6</th>\n",
       "      <td>2</td>\n",
       "      <td>2</td>\n",
       "      <td>1483.9</td>\n",
       "      <td>5</td>\n",
       "      <td>4</td>\n",
       "      <td>4</td>\n",
       "      <td>2</td>\n",
       "      <td>1</td>\n",
       "      <td>True</td>\n",
       "    </tr>\n",
       "    <tr>\n",
       "      <th>7</th>\n",
       "      <td>2</td>\n",
       "      <td>3</td>\n",
       "      <td>36634.4</td>\n",
       "      <td>3</td>\n",
       "      <td>1</td>\n",
       "      <td>4</td>\n",
       "      <td>1</td>\n",
       "      <td>1</td>\n",
       "      <td>False</td>\n",
       "    </tr>\n",
       "    <tr>\n",
       "      <th>9</th>\n",
       "      <td>2</td>\n",
       "      <td>3</td>\n",
       "      <td>20000.0</td>\n",
       "      <td>3</td>\n",
       "      <td>4</td>\n",
       "      <td>4</td>\n",
       "      <td>4</td>\n",
       "      <td>1</td>\n",
       "      <td>True</td>\n",
       "    </tr>\n",
       "  </tbody>\n",
       "</table>\n",
       "</div>"
      ],
      "text/plain": [
       "   TitleFit  RemoteWork  CompensationAmount  SalaryChange  \\\n",
       "4         2           2             64184.8             3   \n",
       "5         2           2             20882.4             4   \n",
       "6         2           2              1483.9             5   \n",
       "7         2           3             36634.4             3   \n",
       "9         2           3             20000.0             3   \n",
       "\n",
       "   WorkChallengeFrequencyPolitics  WorkChallengeFrequencyUnusedResults  \\\n",
       "4                               4                                    4   \n",
       "5                               4                                    2   \n",
       "6                               4                                    4   \n",
       "7                               1                                    4   \n",
       "9                               4                                    4   \n",
       "\n",
       "   WorkChallengeFrequencyTalent JobSatisfaction  is_train  \n",
       "4                             4               1      True  \n",
       "5                             1               1      True  \n",
       "6                             2               1      True  \n",
       "7                             1               1     False  \n",
       "9                             4               1      True  "
      ]
     },
     "execution_count": 111,
     "metadata": {},
     "output_type": "execute_result"
    }
   ],
   "source": [
    "# Appending the useful correlations to a feature data set\n",
    "clean_feature_data = pd.DataFrame()\n",
    "clean_feature_data['TitleFit'] = title_fit['TitleFit']\n",
    "clean_feature_data['RemoteWork'] = remote_work['RemoteWork']\n",
    "clean_feature_data['CompensationAmount'] = clean_MC_data['CompensationAmount_USD']\n",
    "clean_feature_data['SalaryChange'] = salary_change['SalaryChange']\n",
    "clean_feature_data['WorkChallengeFrequencyPolitics'] = question1['WorkChallengeFrequencyPolitics']\n",
    "clean_feature_data['WorkChallengeFrequencyUnusedResults'] = question1['WorkChallengeFrequencyUnusedResults']\n",
    "clean_feature_data['WorkChallengeFrequencyTalent'] = question1['WorkChallengeFrequencyTalent']\n",
    "\n",
    "#clean_feature_data['JobSatisfaction'] = clean_MC_data['JobSatisfaction']\n",
    "cut_points = [4]\n",
    "labels=['0','1']\n",
    "clean_feature_data['JobSatisfaction'] = binning(clean_MC_data['JobSatisfaction'], cut_points, labels)\n",
    "\n",
    "clean_feature_data['is_train'] = np.random.uniform(0,1, len(clean_MC_data))  <= 0.95\n",
    "clean_feature_data.fillna(method='backfill', inplace=True)\n",
    "#clean_feature_data = clean_feature_data.astype(float)\n",
    "clean_feature_data.head()"
   ]
  },
  {
   "cell_type": "code",
   "execution_count": 112,
   "metadata": {},
   "outputs": [],
   "source": [
    "# clean_MC_data['WorkChallengeFrequencyPolitics'] = question1_corr['WorkChallengeFrequencyPolitics']\n",
    "# clean_MC_data['WorkChallengeFrequencyUnusedResults'] = question1_corr['WorkChallengeFrequencyUnusedResults']\n",
    "# clean_MC_data['WorkChallengeFrequencyTalent'] = question1_corr['WorkChallengeFrequencyTalent']\n",
    "\n",
    "\n",
    "# clean_feature_data = clean_MC_data[['Age', 'WorkChallengeFrequencyPolitics','WorkChallengeFrequencyUnusedResults','WorkChallengeFrequencyTalent','RemoteWork', 'TitleFit', 'JobSatisfaction']]\n",
    "# #clean_feature_data = clean_MC_data[['RemoteWork', 'TitleFit', 'JobSatisfaction']]\n",
    "# clean_feature_data['JobSatisfaction'] = clean_feature_data['JobSatisfaction'] * 10\n",
    "# clean_feature_data['Age'] = clean_feature_data['Age']\n",
    "# clean_feature_data['RemoteWork'] = clean_feature_data['RemoteWork'].replace(['Always', 'Most of the time', 'Sometimes', 'Rarely', 'Never', \"Don't know\"],['100','80','60','40','20','60'])\n",
    "# clean_feature_data['TitleFit'] = clean_feature_data['TitleFit'].replace(['Perfectly','Fine','Poorly'],['100','50','0'])\n",
    "\n",
    "# clean_feature_data['is_train'] = np.random.uniform(0,1, len(clean_MC_data))  <= 0.90\n",
    "# clean_feature_data.fillna(method='backfill', inplace=True)"
   ]
  },
  {
   "cell_type": "code",
   "execution_count": 113,
   "metadata": {},
   "outputs": [
    {
     "data": {
      "text/html": [
       "<div>\n",
       "<style>\n",
       "    .dataframe thead tr:only-child th {\n",
       "        text-align: right;\n",
       "    }\n",
       "\n",
       "    .dataframe thead th {\n",
       "        text-align: left;\n",
       "    }\n",
       "\n",
       "    .dataframe tbody tr th {\n",
       "        vertical-align: top;\n",
       "    }\n",
       "</style>\n",
       "<table border=\"1\" class=\"dataframe\">\n",
       "  <thead>\n",
       "    <tr style=\"text-align: right;\">\n",
       "      <th></th>\n",
       "      <th>TitleFit</th>\n",
       "      <th>RemoteWork</th>\n",
       "      <th>CompensationAmount</th>\n",
       "      <th>SalaryChange</th>\n",
       "      <th>WorkChallengeFrequencyPolitics</th>\n",
       "      <th>WorkChallengeFrequencyUnusedResults</th>\n",
       "      <th>WorkChallengeFrequencyTalent</th>\n",
       "      <th>JobSatisfaction</th>\n",
       "      <th>is_train</th>\n",
       "    </tr>\n",
       "  </thead>\n",
       "  <tbody>\n",
       "    <tr>\n",
       "      <th>4</th>\n",
       "      <td>2</td>\n",
       "      <td>2</td>\n",
       "      <td>64184.8</td>\n",
       "      <td>3</td>\n",
       "      <td>4</td>\n",
       "      <td>4</td>\n",
       "      <td>4</td>\n",
       "      <td>1</td>\n",
       "      <td>True</td>\n",
       "    </tr>\n",
       "    <tr>\n",
       "      <th>5</th>\n",
       "      <td>2</td>\n",
       "      <td>2</td>\n",
       "      <td>20882.4</td>\n",
       "      <td>4</td>\n",
       "      <td>4</td>\n",
       "      <td>2</td>\n",
       "      <td>1</td>\n",
       "      <td>1</td>\n",
       "      <td>True</td>\n",
       "    </tr>\n",
       "    <tr>\n",
       "      <th>6</th>\n",
       "      <td>2</td>\n",
       "      <td>2</td>\n",
       "      <td>1483.9</td>\n",
       "      <td>5</td>\n",
       "      <td>4</td>\n",
       "      <td>4</td>\n",
       "      <td>2</td>\n",
       "      <td>1</td>\n",
       "      <td>True</td>\n",
       "    </tr>\n",
       "    <tr>\n",
       "      <th>7</th>\n",
       "      <td>2</td>\n",
       "      <td>3</td>\n",
       "      <td>36634.4</td>\n",
       "      <td>3</td>\n",
       "      <td>1</td>\n",
       "      <td>4</td>\n",
       "      <td>1</td>\n",
       "      <td>1</td>\n",
       "      <td>False</td>\n",
       "    </tr>\n",
       "    <tr>\n",
       "      <th>9</th>\n",
       "      <td>2</td>\n",
       "      <td>3</td>\n",
       "      <td>20000.0</td>\n",
       "      <td>3</td>\n",
       "      <td>4</td>\n",
       "      <td>4</td>\n",
       "      <td>4</td>\n",
       "      <td>1</td>\n",
       "      <td>True</td>\n",
       "    </tr>\n",
       "  </tbody>\n",
       "</table>\n",
       "</div>"
      ],
      "text/plain": [
       "   TitleFit  RemoteWork  CompensationAmount  SalaryChange  \\\n",
       "4         2           2             64184.8             3   \n",
       "5         2           2             20882.4             4   \n",
       "6         2           2              1483.9             5   \n",
       "7         2           3             36634.4             3   \n",
       "9         2           3             20000.0             3   \n",
       "\n",
       "   WorkChallengeFrequencyPolitics  WorkChallengeFrequencyUnusedResults  \\\n",
       "4                               4                                    4   \n",
       "5                               4                                    2   \n",
       "6                               4                                    4   \n",
       "7                               1                                    4   \n",
       "9                               4                                    4   \n",
       "\n",
       "   WorkChallengeFrequencyTalent JobSatisfaction  is_train  \n",
       "4                             4               1      True  \n",
       "5                             1               1      True  \n",
       "6                             2               1      True  \n",
       "7                             1               1     False  \n",
       "9                             4               1      True  "
      ]
     },
     "execution_count": 113,
     "metadata": {},
     "output_type": "execute_result"
    }
   ],
   "source": [
    "clean_feature_data.head()"
   ]
  },
  {
   "cell_type": "code",
   "execution_count": 114,
   "metadata": {},
   "outputs": [],
   "source": [
    "train, test = clean_feature_data[clean_feature_data['is_train'] == True], clean_feature_data[clean_feature_data['is_train'] == False]"
   ]
  },
  {
   "cell_type": "code",
   "execution_count": 115,
   "metadata": {},
   "outputs": [
    {
     "name": "stdout",
     "output_type": "stream",
     "text": [
      "No obs in train: 3950\n",
      "No obs in test: 212\n"
     ]
    }
   ],
   "source": [
    "print('No obs in train:', len(train))\n",
    "print('No obs in test:', len(test))"
   ]
  },
  {
   "cell_type": "code",
   "execution_count": 116,
   "metadata": {},
   "outputs": [],
   "source": [
    "y = train['JobSatisfaction'].values"
   ]
  },
  {
   "cell_type": "code",
   "execution_count": 117,
   "metadata": {},
   "outputs": [
    {
     "data": {
      "text/plain": [
       "[1, 1, 1, 1, 1, ..., 1, 1, 0, 1, 1]\n",
       "Length: 3950\n",
       "Categories (2, object): [0 < 1]"
      ]
     },
     "execution_count": 117,
     "metadata": {},
     "output_type": "execute_result"
    }
   ],
   "source": [
    "y"
   ]
  },
  {
   "cell_type": "code",
   "execution_count": 118,
   "metadata": {},
   "outputs": [
    {
     "data": {
      "text/plain": [
       "Index(['TitleFit', 'RemoteWork', 'CompensationAmount', 'SalaryChange',\n",
       "       'WorkChallengeFrequencyPolitics', 'WorkChallengeFrequencyUnusedResults',\n",
       "       'WorkChallengeFrequencyTalent'],\n",
       "      dtype='object')"
      ]
     },
     "execution_count": 118,
     "metadata": {},
     "output_type": "execute_result"
    }
   ],
   "source": [
    "#features = clean_feature_data.columns[:]\n",
    "features = clean_feature_data.columns[0:7]\n",
    "features"
   ]
  },
  {
   "cell_type": "code",
   "execution_count": 119,
   "metadata": {},
   "outputs": [],
   "source": [
    "train[features].to_csv('../Output/train.csv')"
   ]
  },
  {
   "cell_type": "code",
   "execution_count": 120,
   "metadata": {},
   "outputs": [
    {
     "data": {
      "text/plain": [
       "RandomForestClassifier(bootstrap=True, class_weight=None, criterion='gini',\n",
       "            max_depth=None, max_features='auto', max_leaf_nodes=None,\n",
       "            min_impurity_decrease=0.0, min_impurity_split=None,\n",
       "            min_samples_leaf=1, min_samples_split=2,\n",
       "            min_weight_fraction_leaf=0.0, n_estimators=10, n_jobs=2,\n",
       "            oob_score=False, random_state=0, verbose=0, warm_start=False)"
      ]
     },
     "execution_count": 120,
     "metadata": {},
     "output_type": "execute_result"
    }
   ],
   "source": [
    "clf = RandomForestClassifier(n_jobs=2, random_state=0)\n",
    "clf.fit(train[features], y)"
   ]
  },
  {
   "cell_type": "code",
   "execution_count": 121,
   "metadata": {},
   "outputs": [
    {
     "data": {
      "text/plain": [
       "array(['0', '1', '1', '0', '1', '1', '1', '0', '1', '1'], dtype=object)"
      ]
     },
     "execution_count": 121,
     "metadata": {},
     "output_type": "execute_result"
    }
   ],
   "source": [
    "clf.predict(test[features])[0:10]"
   ]
  },
  {
   "cell_type": "code",
   "execution_count": 122,
   "metadata": {},
   "outputs": [
    {
     "data": {
      "text/plain": [
       "array([[ 0.5 ,  0.5 ],\n",
       "       [ 0.  ,  1.  ],\n",
       "       [ 0.  ,  1.  ],\n",
       "       [ 0.5 ,  0.5 ],\n",
       "       [ 0.1 ,  0.9 ],\n",
       "       [ 0.4 ,  0.6 ],\n",
       "       [ 0.1 ,  0.9 ],\n",
       "       [ 0.5 ,  0.5 ],\n",
       "       [ 0.15,  0.85],\n",
       "       [ 0.  ,  1.  ]])"
      ]
     },
     "execution_count": 122,
     "metadata": {},
     "output_type": "execute_result"
    }
   ],
   "source": [
    "clf.predict_proba(test[features])[0:10]"
   ]
  },
  {
   "cell_type": "code",
   "execution_count": 123,
   "metadata": {},
   "outputs": [],
   "source": [
    "preds = clf.predict(test[features])"
   ]
  },
  {
   "cell_type": "code",
   "execution_count": 124,
   "metadata": {},
   "outputs": [
    {
     "data": {
      "text/plain": [
       "array(['0', '1', '1', '0', '1', '1', '1', '0', '1', '1', '1', '0', '1',\n",
       "       '1', '1', '1', '1', '0', '0', '1'], dtype=object)"
      ]
     },
     "execution_count": 124,
     "metadata": {},
     "output_type": "execute_result"
    }
   ],
   "source": [
    "preds[0:20]"
   ]
  },
  {
   "cell_type": "code",
   "execution_count": 125,
   "metadata": {},
   "outputs": [
    {
     "data": {
      "text/plain": [
       "7      1\n",
       "23     1\n",
       "25     1\n",
       "84     0\n",
       "103    1\n",
       "172    1\n",
       "191    1\n",
       "385    1\n",
       "416    1\n",
       "436    1\n",
       "Name: JobSatisfaction, dtype: category\n",
       "Categories (2, object): [0 < 1]"
      ]
     },
     "execution_count": 125,
     "metadata": {},
     "output_type": "execute_result"
    }
   ],
   "source": [
    "test['JobSatisfaction'].head(10)"
   ]
  },
  {
   "cell_type": "code",
   "execution_count": 126,
   "metadata": {},
   "outputs": [
    {
     "data": {
      "text/html": [
       "<div>\n",
       "<style>\n",
       "    .dataframe thead tr:only-child th {\n",
       "        text-align: right;\n",
       "    }\n",
       "\n",
       "    .dataframe thead th {\n",
       "        text-align: left;\n",
       "    }\n",
       "\n",
       "    .dataframe tbody tr th {\n",
       "        vertical-align: top;\n",
       "    }\n",
       "</style>\n",
       "<table border=\"1\" class=\"dataframe\">\n",
       "  <thead>\n",
       "    <tr style=\"text-align: right;\">\n",
       "      <th>Predicted Satisfaction</th>\n",
       "      <th>0</th>\n",
       "      <th>1</th>\n",
       "    </tr>\n",
       "    <tr>\n",
       "      <th>Actual Satisfaction</th>\n",
       "      <th></th>\n",
       "      <th></th>\n",
       "    </tr>\n",
       "  </thead>\n",
       "  <tbody>\n",
       "    <tr>\n",
       "      <th>0</th>\n",
       "      <td>7</td>\n",
       "      <td>15</td>\n",
       "    </tr>\n",
       "    <tr>\n",
       "      <th>1</th>\n",
       "      <td>20</td>\n",
       "      <td>170</td>\n",
       "    </tr>\n",
       "  </tbody>\n",
       "</table>\n",
       "</div>"
      ],
      "text/plain": [
       "Predicted Satisfaction   0    1\n",
       "Actual Satisfaction            \n",
       "0                        7   15\n",
       "1                       20  170"
      ]
     },
     "execution_count": 126,
     "metadata": {},
     "output_type": "execute_result"
    }
   ],
   "source": [
    "pd.crosstab(test['JobSatisfaction'], preds, rownames=['Actual Satisfaction'], colnames=['Predicted Satisfaction'])"
   ]
  },
  {
   "cell_type": "code",
   "execution_count": 127,
   "metadata": {},
   "outputs": [
    {
     "data": {
      "text/plain": [
       "[('TitleFit', 0.059610943659940629),\n",
       " ('RemoteWork', 0.10558406343160978),\n",
       " ('CompensationAmount', 0.51247544884272112),\n",
       " ('SalaryChange', 0.083907234275676562),\n",
       " ('WorkChallengeFrequencyPolitics', 0.093059375833832836),\n",
       " ('WorkChallengeFrequencyUnusedResults', 0.073726796496240171),\n",
       " ('WorkChallengeFrequencyTalent', 0.071636137459979016)]"
      ]
     },
     "execution_count": 127,
     "metadata": {},
     "output_type": "execute_result"
    }
   ],
   "source": [
    "list(zip(train[features], clf.feature_importances_))"
   ]
  },
  {
   "cell_type": "code",
   "execution_count": 128,
   "metadata": {},
   "outputs": [
    {
     "data": {
      "text/plain": [
       "0.83490566037735847"
      ]
     },
     "execution_count": 128,
     "metadata": {},
     "output_type": "execute_result"
    }
   ],
   "source": [
    "accuracy_score(test['JobSatisfaction'], preds)"
   ]
  },
  {
   "cell_type": "code",
   "execution_count": 129,
   "metadata": {},
   "outputs": [
    {
     "name": "stdout",
     "output_type": "stream",
     "text": [
      "0.690721649485\n"
     ]
    }
   ],
   "source": [
    "clean_feature_data = pd.DataFrame()\n",
    "clean_feature_data['TitleFit'] = title_fit['TitleFit']\n",
    "clean_feature_data['RemoteWork'] = remote_work['RemoteWork']\n",
    "clean_feature_data['CompensationAmount'] = clean_MC_data['CompensationAmount_USD']\n",
    "clean_feature_data['SalaryChange'] = salary_change['SalaryChange']\n",
    "clean_feature_data['WorkChallengeFrequencyPolitics'] = question1['WorkChallengeFrequencyPolitics']\n",
    "clean_feature_data['WorkChallengeFrequencyUnusedResults'] = question1['WorkChallengeFrequencyUnusedResults']\n",
    "clean_feature_data['WorkChallengeFrequencyTalent'] = question1['WorkChallengeFrequencyTalent']\n",
    "\n",
    "#clean_feature_data['JobSatisfaction'] = clean_MC_data['JobSatisfaction']\n",
    "cut_points = [5]\n",
    "labels=['0','1']\n",
    "clean_feature_data['JobSatisfaction'] = binning(clean_MC_data['JobSatisfaction'], cut_points, labels)\n",
    "\n",
    "clean_feature_data['is_train'] = np.random.uniform(0,1, len(clean_MC_data))  <= 0.95\n",
    "clean_feature_data.fillna(method='backfill', inplace=True)\n",
    "#clean_feature_data = clean_feature_data.astype(float)\n",
    "clean_feature_data.head()\n",
    "features = clean_feature_data.columns[0:7]\n",
    "\n",
    "avg_acc = []\n",
    "test_cnt = 0\n",
    "while test_cnt < 1:\n",
    "    test_cnt = test_cnt + 1\n",
    "    train, test = clean_feature_data[clean_feature_data['is_train'] == True], clean_feature_data[clean_feature_data['is_train'] == False]\n",
    "    y = train['JobSatisfaction'].values\n",
    "    clf = RandomForestClassifier(n_jobs=2, criterion='entropy')\n",
    "    clf.fit(train[features], y)\n",
    "    preds = clf.predict(test[features])\n",
    "    avg_acc.append(accuracy_score(test['JobSatisfaction'], preds))\n",
    "\n",
    "print(sum(avg_acc)/len(avg_acc))"
   ]
  },
  {
   "cell_type": "code",
   "execution_count": 130,
   "metadata": {},
   "outputs": [
    {
     "data": {
      "text/plain": [
       "1    3108\n",
       "0    1054\n",
       "Name: JobSatisfaction, dtype: int64"
      ]
     },
     "execution_count": 130,
     "metadata": {},
     "output_type": "execute_result"
    }
   ],
   "source": [
    "clean_feature_data['JobSatisfaction'].value_counts()"
   ]
  },
  {
   "cell_type": "code",
   "execution_count": 131,
   "metadata": {},
   "outputs": [
    {
     "name": "stdout",
     "output_type": "stream",
     "text": [
      "Index(['TitleFit', 'RemoteWork', 'CompensationAmount', 'SalaryChange',\n",
      "       'WorkChallengeFrequencyPolitics', 'WorkChallengeFrequencyUnusedResults',\n",
      "       'WorkChallengeFrequencyTalent'],\n",
      "      dtype='object')\n",
      "0.715294117647\n"
     ]
    }
   ],
   "source": [
    "clean_feature_data = pd.DataFrame()\n",
    "clean_feature_data['TitleFit'] = title_fit['TitleFit']\n",
    "clean_feature_data['RemoteWork'] = remote_work['RemoteWork']\n",
    "clean_feature_data['CompensationAmount'] = clean_MC_data['CompensationAmount_USD']\n",
    "clean_feature_data['SalaryChange'] = salary_change['SalaryChange']\n",
    "clean_feature_data['WorkChallengeFrequencyPolitics'] = question1['WorkChallengeFrequencyPolitics']\n",
    "clean_feature_data['WorkChallengeFrequencyUnusedResults'] = question1['WorkChallengeFrequencyUnusedResults']\n",
    "clean_feature_data['WorkChallengeFrequencyTalent'] = question1['WorkChallengeFrequencyTalent']\n",
    "\n",
    "# clean_feature_data['JobSatisfaction'] = clean_MC_data['JobSatisfaction']\n",
    "cut_points = [5]\n",
    "labels=['0','1']\n",
    "clean_feature_data['JobSatisfaction'] = binning(clean_MC_data['JobSatisfaction'], cut_points, labels)\n",
    "\n",
    "clean_feature_data['is_train'] = np.random.uniform(0,1, len(clean_MC_data))  <= 0.90\n",
    "clean_feature_data.fillna(method='backfill', inplace=True)\n",
    "#clean_feature_data = clean_feature_data.astype(float)\n",
    "clean_feature_data.head()\n",
    "features = clean_feature_data.columns[0:7]\n",
    "print(features)\n",
    "\n",
    "avg_acc = []\n",
    "test_cnt = 0\n",
    "while test_cnt < 1:\n",
    "    test_cnt = test_cnt + 1\n",
    "    train, test = clean_feature_data[clean_feature_data['is_train'] == True], clean_feature_data[clean_feature_data['is_train'] == False]\n",
    "    y = train['JobSatisfaction'].values\n",
    "    clf = LogisticRegression()\n",
    "    clf.fit(train[features], y)\n",
    "    preds = clf.predict(test[features])\n",
    "    avg_acc.append(accuracy_score(test['JobSatisfaction'], preds))\n",
    "    #print(list(zip(train[features], clf.feature_importances_)))\n",
    "print(sum(avg_acc)/len(avg_acc))\n",
    "\n"
   ]
  },
  {
   "cell_type": "code",
   "execution_count": 132,
   "metadata": {},
   "outputs": [
    {
     "data": {
      "text/plain": [
       "1    3108\n",
       "0    1054\n",
       "Name: JobSatisfaction, dtype: int64"
      ]
     },
     "execution_count": 132,
     "metadata": {},
     "output_type": "execute_result"
    }
   ],
   "source": [
    "clean_feature_data['JobSatisfaction'].value_counts()"
   ]
  },
  {
   "cell_type": "code",
   "execution_count": 133,
   "metadata": {},
   "outputs": [
    {
     "name": "stdout",
     "output_type": "stream",
     "text": [
      "Index(['TitleFit', 'RemoteWork', 'CompensationAmount', 'SalaryChange',\n",
      "       'WorkChallengeFrequencyPolitics', 'WorkChallengeFrequencyUnusedResults',\n",
      "       'WorkChallengeFrequencyTalent'],\n",
      "      dtype='object')\n",
      "0.73623853211\n"
     ]
    }
   ],
   "source": [
    "clean_feature_data = pd.DataFrame()\n",
    "clean_feature_data['TitleFit'] = title_fit['TitleFit']\n",
    "clean_feature_data['RemoteWork'] = remote_work['RemoteWork']\n",
    "clean_feature_data['CompensationAmount'] = clean_MC_data['CompensationAmount_USD']\n",
    "clean_feature_data['SalaryChange'] = salary_change['SalaryChange']\n",
    "clean_feature_data['WorkChallengeFrequencyPolitics'] = question1['WorkChallengeFrequencyPolitics']\n",
    "clean_feature_data['WorkChallengeFrequencyUnusedResults'] = question1['WorkChallengeFrequencyUnusedResults']\n",
    "clean_feature_data['WorkChallengeFrequencyTalent'] = question1['WorkChallengeFrequencyTalent']\n",
    "\n",
    "# clean_feature_data['JobSatisfaction'] = clean_MC_data['JobSatisfaction']\n",
    "cut_points = [5]\n",
    "labels=['0','1']\n",
    "clean_feature_data['JobSatisfaction'] = binning(clean_MC_data['JobSatisfaction'], cut_points, labels)\n",
    "\n",
    "clean_feature_data['is_train'] = np.random.uniform(0,1, len(clean_MC_data))  <= 0.90\n",
    "clean_feature_data.fillna(method='backfill', inplace=True)\n",
    "#clean_feature_data = clean_feature_data.astype(float)\n",
    "clean_feature_data.head()\n",
    "features = clean_feature_data.columns[0:7]\n",
    "print(features)\n",
    "\n",
    "avg_acc = []\n",
    "test_cnt = 0\n",
    "while test_cnt < 1:\n",
    "    test_cnt = test_cnt + 1\n",
    "    train, test = clean_feature_data[clean_feature_data['is_train'] == True], clean_feature_data[clean_feature_data['is_train'] == False]\n",
    "    y = train['JobSatisfaction'].values\n",
    "    clf = svm.SVC()\n",
    "    clf.fit(train[features], y)\n",
    "    preds = clf.predict(test[features])\n",
    "    avg_acc.append(accuracy_score(test['JobSatisfaction'], preds))\n",
    "    #print(list(zip(train[features], clf.feature_importances_)))\n",
    "print(sum(avg_acc)/len(avg_acc))\n"
   ]
  },
  {
   "cell_type": "code",
   "execution_count": 134,
   "metadata": {},
   "outputs": [
    {
     "name": "stdout",
     "output_type": "stream",
     "text": [
      "Index(['TitleFit', 'RemoteWork', 'CompensationAmount', 'SalaryChange',\n",
      "       'WorkChallengeFrequencyPolitics', 'WorkChallengeFrequencyUnusedResults',\n",
      "       'WorkChallengeFrequencyTalent'],\n",
      "      dtype='object')\n",
      "0.729857819905\n"
     ]
    }
   ],
   "source": [
    "clean_feature_data = pd.DataFrame()\n",
    "clean_feature_data['TitleFit'] = title_fit['TitleFit']\n",
    "clean_feature_data['RemoteWork'] = remote_work['RemoteWork']\n",
    "clean_feature_data['CompensationAmount'] = clean_MC_data['CompensationAmount_USD']\n",
    "clean_feature_data['SalaryChange'] = salary_change['SalaryChange']\n",
    "clean_feature_data['WorkChallengeFrequencyPolitics'] = question1['WorkChallengeFrequencyPolitics']\n",
    "clean_feature_data['WorkChallengeFrequencyUnusedResults'] = question1['WorkChallengeFrequencyUnusedResults']\n",
    "clean_feature_data['WorkChallengeFrequencyTalent'] = question1['WorkChallengeFrequencyTalent']\n",
    "\n",
    "# clean_feature_data['JobSatisfaction'] = clean_MC_data['JobSatisfaction']\n",
    "cut_points = [5]\n",
    "labels=['0','1']\n",
    "clean_feature_data['JobSatisfaction'] = binning(clean_MC_data['JobSatisfaction'], cut_points, labels)\n",
    "\n",
    "clean_feature_data['is_train'] = np.random.uniform(0,1, len(clean_MC_data))  <= 0.90\n",
    "clean_feature_data.fillna(method='backfill', inplace=True)\n",
    "#clean_feature_data = clean_feature_data.astype(float)\n",
    "clean_feature_data.head()\n",
    "features = clean_feature_data.columns[0:7]\n",
    "print(features)\n",
    "\n",
    "avg_acc = []\n",
    "test_cnt = 0\n",
    "while test_cnt < 1:\n",
    "    test_cnt = test_cnt + 1\n",
    "    train, test = clean_feature_data[clean_feature_data['is_train'] == True], clean_feature_data[clean_feature_data['is_train'] == False]\n",
    "    y = train['JobSatisfaction'].values\n",
    "    clf = svm.NuSVC()\n",
    "    clf.fit(train[features], y)\n",
    "    preds = clf.predict(test[features])\n",
    "    avg_acc.append(accuracy_score(test['JobSatisfaction'], preds))\n",
    "    #print(list(zip(train[features], clf.feature_importances_)))\n",
    "print(sum(avg_acc)/len(avg_acc))"
   ]
  },
  {
   "cell_type": "code",
   "execution_count": 135,
   "metadata": {},
   "outputs": [
    {
     "name": "stdout",
     "output_type": "stream",
     "text": [
      "Index(['TitleFit', 'RemoteWork', 'CompensationAmount', 'SalaryChange',\n",
      "       'WorkChallengeFrequencyPolitics', 'WorkChallengeFrequencyUnusedResults',\n",
      "       'WorkChallengeFrequencyTalent'],\n",
      "      dtype='object')\n",
      "0.254237288136\n"
     ]
    }
   ],
   "source": [
    "clean_feature_data = pd.DataFrame()\n",
    "clean_feature_data['TitleFit'] = title_fit['TitleFit']\n",
    "clean_feature_data['RemoteWork'] = remote_work['RemoteWork']\n",
    "clean_feature_data['CompensationAmount'] = clean_MC_data['CompensationAmount_USD']\n",
    "clean_feature_data['SalaryChange'] = salary_change['SalaryChange']\n",
    "clean_feature_data['WorkChallengeFrequencyPolitics'] = question1['WorkChallengeFrequencyPolitics']\n",
    "clean_feature_data['WorkChallengeFrequencyUnusedResults'] = question1['WorkChallengeFrequencyUnusedResults']\n",
    "clean_feature_data['WorkChallengeFrequencyTalent'] = question1['WorkChallengeFrequencyTalent']\n",
    "\n",
    "# clean_feature_data['JobSatisfaction'] = clean_MC_data['JobSatisfaction']\n",
    "cut_points = [5]\n",
    "labels=['0','1']\n",
    "clean_feature_data['JobSatisfaction'] = binning(clean_MC_data['JobSatisfaction'], cut_points, labels)\n",
    "\n",
    "clean_feature_data['is_train'] = np.random.uniform(0,1, len(clean_MC_data))  <= 0.90\n",
    "clean_feature_data.fillna(method='backfill', inplace=True)\n",
    "#clean_feature_data = clean_feature_data.astype(float)\n",
    "clean_feature_data.head()\n",
    "features = clean_feature_data.columns[0:7]\n",
    "print(features)\n",
    "\n",
    "avg_acc = []\n",
    "test_cnt = 0\n",
    "while test_cnt < 1:\n",
    "    test_cnt = test_cnt + 1\n",
    "    train, test = clean_feature_data[clean_feature_data['is_train'] == True], clean_feature_data[clean_feature_data['is_train'] == False]\n",
    "    y = train['JobSatisfaction'].values\n",
    "    clf = svm.LinearSVC()\n",
    "    clf.fit(train[features], y)\n",
    "    preds = clf.predict(test[features])\n",
    "    avg_acc.append(accuracy_score(test['JobSatisfaction'], preds))\n",
    "    #print(list(zip(train[features], clf.feature_importances_)))\n",
    "print(sum(avg_acc)/len(avg_acc))"
   ]
  },
  {
   "cell_type": "code",
   "execution_count": 136,
   "metadata": {},
   "outputs": [
    {
     "name": "stdout",
     "output_type": "stream",
     "text": [
      "Index(['TitleFit', 'RemoteWork', 'CompensationAmount', 'SalaryChange',\n",
      "       'WorkChallengeFrequencyPolitics', 'WorkChallengeFrequencyUnusedResults',\n",
      "       'WorkChallengeFrequencyTalent'],\n",
      "      dtype='object')\n",
      "0.703016241299\n"
     ]
    },
    {
     "name": "stderr",
     "output_type": "stream",
     "text": [
      "c:\\users\\jorda\\appdata\\local\\programs\\python\\python36\\lib\\site-packages\\sklearn\\linear_model\\stochastic_gradient.py:128: FutureWarning: max_iter and tol parameters have been added in <class 'sklearn.linear_model.perceptron.Perceptron'> in 0.19. If both are left unset, they default to max_iter=5 and tol=None. If tol is not None, max_iter defaults to max_iter=1000. From 0.21, default max_iter will be 1000, and default tol will be 1e-3.\n",
      "  \"and default tol will be 1e-3.\" % type(self), FutureWarning)\n"
     ]
    }
   ],
   "source": [
    "clean_feature_data = pd.DataFrame()\n",
    "clean_feature_data['TitleFit'] = title_fit['TitleFit']\n",
    "clean_feature_data['RemoteWork'] = remote_work['RemoteWork']\n",
    "clean_feature_data['CompensationAmount'] = clean_MC_data['CompensationAmount_USD']\n",
    "clean_feature_data['SalaryChange'] = salary_change['SalaryChange']\n",
    "clean_feature_data['WorkChallengeFrequencyPolitics'] = question1['WorkChallengeFrequencyPolitics']\n",
    "clean_feature_data['WorkChallengeFrequencyUnusedResults'] = question1['WorkChallengeFrequencyUnusedResults']\n",
    "clean_feature_data['WorkChallengeFrequencyTalent'] = question1['WorkChallengeFrequencyTalent']\n",
    "\n",
    "# clean_feature_data['JobSatisfaction'] = clean_MC_data['JobSatisfaction']\n",
    "cut_points = [5]\n",
    "labels=['0','1']\n",
    "clean_feature_data['JobSatisfaction'] = binning(clean_MC_data['JobSatisfaction'], cut_points, labels)\n",
    "\n",
    "clean_feature_data['is_train'] = np.random.uniform(0,1, len(clean_MC_data))  <= 0.90\n",
    "clean_feature_data.fillna(method='backfill', inplace=True)\n",
    "#clean_feature_data = clean_feature_data.astype(float)\n",
    "clean_feature_data.head()\n",
    "features = clean_feature_data.columns[0:7]\n",
    "print(features)\n",
    "\n",
    "avg_acc = []\n",
    "test_cnt = 0\n",
    "while test_cnt < 1:\n",
    "    test_cnt = test_cnt + 1\n",
    "    train, test = clean_feature_data[clean_feature_data['is_train'] == True], clean_feature_data[clean_feature_data['is_train'] == False]\n",
    "    y = train['JobSatisfaction'].values\n",
    "    clf = Perceptron()\n",
    "    clf.fit(train[features], y)\n",
    "    preds = clf.predict(test[features])\n",
    "    avg_acc.append(accuracy_score(test['JobSatisfaction'], preds))\n",
    "    #print(list(zip(train[features], clf.feature_importances_)))\n",
    "print(sum(avg_acc)/len(avg_acc))"
   ]
  },
  {
   "cell_type": "code",
   "execution_count": null,
   "metadata": {},
   "outputs": [],
   "source": []
  },
  {
   "cell_type": "markdown",
   "metadata": {},
   "source": [
    "## Question 5) Do these variables effect job satisfaction differently depending on the demographics of the individual?"
   ]
  },
  {
   "cell_type": "code",
   "execution_count": 137,
   "metadata": {},
   "outputs": [],
   "source": [
    "politics = clean_MC_data[['JobSatisfaction','WorkChallengeFrequencyPolitics', 'Age', 'GenderSelect']]\n",
    "politics = politics.rename(columns={'WorkChallengeFrequencyPolitics': 'Politics'})\n",
    "\n",
    "unused_results = clean_MC_data[['JobSatisfaction','WorkChallengeFrequencyUnusedResults', 'Age', 'GenderSelect']]\n",
    "unused_results = unused_results.rename(columns={'WorkChallengeFrequencyUnusedResults': 'UnusedResults'})\n",
    "\n",
    "talent = clean_MC_data[['JobSatisfaction','WorkChallengeFrequencyTalent', 'Age', 'GenderSelect']]\n",
    "talent = talent.rename(columns={'WorkChallengeFrequencyTalent': 'Talent'})\n",
    "\n",
    "compensation = clean_MC_data[['JobSatisfaction', 'CompensationAmount_USD', 'Age', 'GenderSelect']]"
   ]
  },
  {
   "cell_type": "markdown",
   "metadata": {},
   "source": [
    "### i) Title Fit"
   ]
  },
  {
   "cell_type": "code",
   "execution_count": 138,
   "metadata": {},
   "outputs": [
    {
     "data": {
      "text/html": [
       "<div>\n",
       "<style>\n",
       "    .dataframe thead tr:only-child th {\n",
       "        text-align: right;\n",
       "    }\n",
       "\n",
       "    .dataframe thead th {\n",
       "        text-align: left;\n",
       "    }\n",
       "\n",
       "    .dataframe tbody tr th {\n",
       "        vertical-align: top;\n",
       "    }\n",
       "</style>\n",
       "<table border=\"1\" class=\"dataframe\">\n",
       "  <thead>\n",
       "    <tr style=\"text-align: right;\">\n",
       "      <th></th>\n",
       "      <th>JobSatisfaction</th>\n",
       "      <th>TitleFit</th>\n",
       "      <th>Age</th>\n",
       "      <th>GenderSelect</th>\n",
       "    </tr>\n",
       "  </thead>\n",
       "  <tbody>\n",
       "    <tr>\n",
       "      <th>4</th>\n",
       "      <td>7</td>\n",
       "      <td>2</td>\n",
       "      <td>43.0</td>\n",
       "      <td>Female</td>\n",
       "    </tr>\n",
       "    <tr>\n",
       "      <th>5</th>\n",
       "      <td>7</td>\n",
       "      <td>2</td>\n",
       "      <td>33.0</td>\n",
       "      <td>Male</td>\n",
       "    </tr>\n",
       "    <tr>\n",
       "      <th>6</th>\n",
       "      <td>7</td>\n",
       "      <td>2</td>\n",
       "      <td>27.0</td>\n",
       "      <td>Male</td>\n",
       "    </tr>\n",
       "    <tr>\n",
       "      <th>7</th>\n",
       "      <td>5</td>\n",
       "      <td>2</td>\n",
       "      <td>26.0</td>\n",
       "      <td>Male</td>\n",
       "    </tr>\n",
       "    <tr>\n",
       "      <th>9</th>\n",
       "      <td>6</td>\n",
       "      <td>2</td>\n",
       "      <td>25.0</td>\n",
       "      <td>Male</td>\n",
       "    </tr>\n",
       "  </tbody>\n",
       "</table>\n",
       "</div>"
      ],
      "text/plain": [
       "   JobSatisfaction  TitleFit   Age GenderSelect\n",
       "4                7         2  43.0       Female\n",
       "5                7         2  33.0         Male\n",
       "6                7         2  27.0         Male\n",
       "7                5         2  26.0         Male\n",
       "9                6         2  25.0         Male"
      ]
     },
     "execution_count": 138,
     "metadata": {},
     "output_type": "execute_result"
    }
   ],
   "source": [
    "title_fit.head()"
   ]
  },
  {
   "cell_type": "code",
   "execution_count": 139,
   "metadata": {},
   "outputs": [
    {
     "name": "stdout",
     "output_type": "stream",
     "text": [
      "Male Correlation\n",
      "                 JobSatisfaction  TitleFit\n",
      "JobSatisfaction         1.000000  0.192116\n",
      "TitleFit                0.192116  1.000000\n",
      "\n",
      "Female Correlation\n",
      "                 JobSatisfaction  TitleFit\n",
      "JobSatisfaction         1.000000  0.197091\n",
      "TitleFit                0.197091  1.000000\n",
      "\n",
      "Other Correlation\n",
      "                 JobSatisfaction  TitleFit\n",
      "JobSatisfaction         1.000000  0.089348\n",
      "TitleFit                0.089348  1.000000\n"
     ]
    }
   ],
   "source": [
    "gender_split(title_fit, \"TitleFit\", False)"
   ]
  },
  {
   "cell_type": "code",
   "execution_count": 140,
   "metadata": {},
   "outputs": [
    {
     "name": "stdout",
     "output_type": "stream",
     "text": [
      "Under 25 Correlation\n",
      "                 JobSatisfaction  TitleFit\n",
      "JobSatisfaction         1.000000  0.237904\n",
      "TitleFit                0.237904  1.000000\n",
      "\n",
      "25 to 29 Correlation\n",
      "                 JobSatisfaction  TitleFit\n",
      "JobSatisfaction         1.000000  0.192042\n",
      "TitleFit                0.192042  1.000000\n",
      "\n",
      "30 to 34 Correlation\n",
      "                 JobSatisfaction  TitleFit\n",
      "JobSatisfaction         1.000000  0.188055\n",
      "TitleFit                0.188055  1.000000\n",
      "\n",
      "35 to 39 Correlation\n",
      "                 JobSatisfaction  TitleFit\n",
      "JobSatisfaction         1.000000  0.186161\n",
      "TitleFit                0.186161  1.000000\n",
      "\n",
      "40 to 44 Correlation\n",
      "                 JobSatisfaction  TitleFit\n",
      "JobSatisfaction         1.000000  0.211345\n",
      "TitleFit                0.211345  1.000000\n",
      "\n",
      "45 and Over Correlation\n",
      "                 JobSatisfaction  TitleFit\n",
      "JobSatisfaction         1.000000  0.188147\n",
      "TitleFit                0.188147  1.000000\n",
      "\n"
     ]
    }
   ],
   "source": [
    "age_split(title_fit, \"TitleFit\", False)"
   ]
  },
  {
   "cell_type": "markdown",
   "metadata": {},
   "source": [
    "### ii) Remote Work"
   ]
  },
  {
   "cell_type": "code",
   "execution_count": 141,
   "metadata": {},
   "outputs": [
    {
     "data": {
      "text/html": [
       "<div>\n",
       "<style>\n",
       "    .dataframe thead tr:only-child th {\n",
       "        text-align: right;\n",
       "    }\n",
       "\n",
       "    .dataframe thead th {\n",
       "        text-align: left;\n",
       "    }\n",
       "\n",
       "    .dataframe tbody tr th {\n",
       "        vertical-align: top;\n",
       "    }\n",
       "</style>\n",
       "<table border=\"1\" class=\"dataframe\">\n",
       "  <thead>\n",
       "    <tr style=\"text-align: right;\">\n",
       "      <th></th>\n",
       "      <th>JobSatisfaction</th>\n",
       "      <th>RemoteWork</th>\n",
       "      <th>Age</th>\n",
       "      <th>GenderSelect</th>\n",
       "    </tr>\n",
       "  </thead>\n",
       "  <tbody>\n",
       "    <tr>\n",
       "      <th>4</th>\n",
       "      <td>7</td>\n",
       "      <td>2</td>\n",
       "      <td>43.0</td>\n",
       "      <td>Female</td>\n",
       "    </tr>\n",
       "    <tr>\n",
       "      <th>5</th>\n",
       "      <td>7</td>\n",
       "      <td>2</td>\n",
       "      <td>33.0</td>\n",
       "      <td>Male</td>\n",
       "    </tr>\n",
       "    <tr>\n",
       "      <th>6</th>\n",
       "      <td>7</td>\n",
       "      <td>2</td>\n",
       "      <td>27.0</td>\n",
       "      <td>Male</td>\n",
       "    </tr>\n",
       "    <tr>\n",
       "      <th>7</th>\n",
       "      <td>5</td>\n",
       "      <td>3</td>\n",
       "      <td>26.0</td>\n",
       "      <td>Male</td>\n",
       "    </tr>\n",
       "    <tr>\n",
       "      <th>9</th>\n",
       "      <td>6</td>\n",
       "      <td>3</td>\n",
       "      <td>25.0</td>\n",
       "      <td>Male</td>\n",
       "    </tr>\n",
       "  </tbody>\n",
       "</table>\n",
       "</div>"
      ],
      "text/plain": [
       "   JobSatisfaction  RemoteWork   Age GenderSelect\n",
       "4                7           2  43.0       Female\n",
       "5                7           2  33.0         Male\n",
       "6                7           2  27.0         Male\n",
       "7                5           3  26.0         Male\n",
       "9                6           3  25.0         Male"
      ]
     },
     "execution_count": 141,
     "metadata": {},
     "output_type": "execute_result"
    }
   ],
   "source": [
    "remote_work.head()"
   ]
  },
  {
   "cell_type": "code",
   "execution_count": 142,
   "metadata": {},
   "outputs": [
    {
     "name": "stdout",
     "output_type": "stream",
     "text": [
      "Male Correlation\n",
      "                 JobSatisfaction  RemoteWork\n",
      "JobSatisfaction          1.00000     0.14971\n",
      "RemoteWork               0.14971     1.00000\n",
      "\n",
      "Female Correlation\n",
      "                 JobSatisfaction  RemoteWork\n",
      "JobSatisfaction         1.000000    0.129355\n",
      "RemoteWork              0.129355    1.000000\n",
      "\n",
      "Other Correlation\n",
      "                 JobSatisfaction  RemoteWork\n",
      "JobSatisfaction         1.000000   -0.249995\n",
      "RemoteWork             -0.249995    1.000000\n"
     ]
    }
   ],
   "source": [
    "gender_split(remote_work, \"RemoteWork\", False)"
   ]
  },
  {
   "cell_type": "code",
   "execution_count": 143,
   "metadata": {},
   "outputs": [
    {
     "name": "stdout",
     "output_type": "stream",
     "text": [
      "Under 25 Correlation\n",
      "                 JobSatisfaction  RemoteWork\n",
      "JobSatisfaction          1.00000     0.07725\n",
      "RemoteWork               0.07725     1.00000\n",
      "\n",
      "25 to 29 Correlation\n",
      "                 JobSatisfaction  RemoteWork\n",
      "JobSatisfaction         1.000000    0.094691\n",
      "RemoteWork              0.094691    1.000000\n",
      "\n",
      "30 to 34 Correlation\n",
      "                 JobSatisfaction  RemoteWork\n",
      "JobSatisfaction         1.000000    0.128371\n",
      "RemoteWork              0.128371    1.000000\n",
      "\n",
      "35 to 39 Correlation\n",
      "                 JobSatisfaction  RemoteWork\n",
      "JobSatisfaction         1.000000    0.151348\n",
      "RemoteWork              0.151348    1.000000\n",
      "\n",
      "40 to 44 Correlation\n",
      "                 JobSatisfaction  RemoteWork\n",
      "JobSatisfaction         1.000000    0.184016\n",
      "RemoteWork              0.184016    1.000000\n",
      "\n",
      "45 and Over Correlation\n",
      "                 JobSatisfaction  RemoteWork\n",
      "JobSatisfaction         1.000000    0.217789\n",
      "RemoteWork              0.217789    1.000000\n",
      "\n"
     ]
    }
   ],
   "source": [
    "age_split(remote_work, \"RemoteWork\", False)"
   ]
  },
  {
   "cell_type": "markdown",
   "metadata": {},
   "source": [
    "### iii) Compensation Amount"
   ]
  },
  {
   "cell_type": "code",
   "execution_count": 144,
   "metadata": {},
   "outputs": [
    {
     "data": {
      "text/html": [
       "<div>\n",
       "<style>\n",
       "    .dataframe thead tr:only-child th {\n",
       "        text-align: right;\n",
       "    }\n",
       "\n",
       "    .dataframe thead th {\n",
       "        text-align: left;\n",
       "    }\n",
       "\n",
       "    .dataframe tbody tr th {\n",
       "        vertical-align: top;\n",
       "    }\n",
       "</style>\n",
       "<table border=\"1\" class=\"dataframe\">\n",
       "  <thead>\n",
       "    <tr style=\"text-align: right;\">\n",
       "      <th></th>\n",
       "      <th>JobSatisfaction</th>\n",
       "      <th>CompensationAmount_USD</th>\n",
       "      <th>Age</th>\n",
       "      <th>GenderSelect</th>\n",
       "    </tr>\n",
       "  </thead>\n",
       "  <tbody>\n",
       "    <tr>\n",
       "      <th>4</th>\n",
       "      <td>7</td>\n",
       "      <td>64184.8</td>\n",
       "      <td>43.0</td>\n",
       "      <td>Female</td>\n",
       "    </tr>\n",
       "    <tr>\n",
       "      <th>5</th>\n",
       "      <td>7</td>\n",
       "      <td>20882.4</td>\n",
       "      <td>33.0</td>\n",
       "      <td>Male</td>\n",
       "    </tr>\n",
       "    <tr>\n",
       "      <th>6</th>\n",
       "      <td>7</td>\n",
       "      <td>1483.9</td>\n",
       "      <td>27.0</td>\n",
       "      <td>Male</td>\n",
       "    </tr>\n",
       "    <tr>\n",
       "      <th>7</th>\n",
       "      <td>5</td>\n",
       "      <td>36634.4</td>\n",
       "      <td>26.0</td>\n",
       "      <td>Male</td>\n",
       "    </tr>\n",
       "    <tr>\n",
       "      <th>9</th>\n",
       "      <td>6</td>\n",
       "      <td>20000.0</td>\n",
       "      <td>25.0</td>\n",
       "      <td>Male</td>\n",
       "    </tr>\n",
       "  </tbody>\n",
       "</table>\n",
       "</div>"
      ],
      "text/plain": [
       "   JobSatisfaction  CompensationAmount_USD   Age GenderSelect\n",
       "4                7                 64184.8  43.0       Female\n",
       "5                7                 20882.4  33.0         Male\n",
       "6                7                  1483.9  27.0         Male\n",
       "7                5                 36634.4  26.0         Male\n",
       "9                6                 20000.0  25.0         Male"
      ]
     },
     "execution_count": 144,
     "metadata": {},
     "output_type": "execute_result"
    }
   ],
   "source": [
    "compensation.head()"
   ]
  },
  {
   "cell_type": "code",
   "execution_count": 145,
   "metadata": {},
   "outputs": [
    {
     "name": "stdout",
     "output_type": "stream",
     "text": [
      "Male Correlation\n",
      "                        JobSatisfaction  CompensationAmount_USD\n",
      "JobSatisfaction                1.000000                0.142633\n",
      "CompensationAmount_USD         0.142633                1.000000\n",
      "\n",
      "Female Correlation\n",
      "                        JobSatisfaction  CompensationAmount_USD\n",
      "JobSatisfaction                1.000000                0.206206\n",
      "CompensationAmount_USD         0.206206                1.000000\n",
      "\n",
      "Other Correlation\n",
      "                        JobSatisfaction  CompensationAmount_USD\n",
      "JobSatisfaction                1.000000                0.402513\n",
      "CompensationAmount_USD         0.402513                1.000000\n"
     ]
    }
   ],
   "source": [
    "gender_split(compensation, \"CompensationAmount_USD\", False)"
   ]
  },
  {
   "cell_type": "code",
   "execution_count": 146,
   "metadata": {},
   "outputs": [
    {
     "name": "stdout",
     "output_type": "stream",
     "text": [
      "Under 25 Correlation\n",
      "                        JobSatisfaction  CompensationAmount_USD\n",
      "JobSatisfaction                1.000000                0.176246\n",
      "CompensationAmount_USD         0.176246                1.000000\n",
      "\n",
      "25 to 29 Correlation\n",
      "                        JobSatisfaction  CompensationAmount_USD\n",
      "JobSatisfaction                1.000000                0.153347\n",
      "CompensationAmount_USD         0.153347                1.000000\n",
      "\n",
      "30 to 34 Correlation\n",
      "                        JobSatisfaction  CompensationAmount_USD\n",
      "JobSatisfaction                1.000000                0.156963\n",
      "CompensationAmount_USD         0.156963                1.000000\n",
      "\n",
      "35 to 39 Correlation\n",
      "                        JobSatisfaction  CompensationAmount_USD\n",
      "JobSatisfaction                1.000000                0.206337\n",
      "CompensationAmount_USD         0.206337                1.000000\n",
      "\n",
      "40 to 44 Correlation\n",
      "                        JobSatisfaction  CompensationAmount_USD\n",
      "JobSatisfaction                1.000000                0.089592\n",
      "CompensationAmount_USD         0.089592                1.000000\n",
      "\n",
      "45 and Over Correlation\n",
      "                        JobSatisfaction  CompensationAmount_USD\n",
      "JobSatisfaction                1.000000                0.113982\n",
      "CompensationAmount_USD         0.113982                1.000000\n",
      "\n"
     ]
    }
   ],
   "source": [
    "age_split(compensation, \"CompensationAmount_USD\", False)"
   ]
  },
  {
   "cell_type": "markdown",
   "metadata": {},
   "source": [
    "### iv) Salary Change"
   ]
  },
  {
   "cell_type": "code",
   "execution_count": 147,
   "metadata": {},
   "outputs": [
    {
     "data": {
      "text/html": [
       "<div>\n",
       "<style>\n",
       "    .dataframe thead tr:only-child th {\n",
       "        text-align: right;\n",
       "    }\n",
       "\n",
       "    .dataframe thead th {\n",
       "        text-align: left;\n",
       "    }\n",
       "\n",
       "    .dataframe tbody tr th {\n",
       "        vertical-align: top;\n",
       "    }\n",
       "</style>\n",
       "<table border=\"1\" class=\"dataframe\">\n",
       "  <thead>\n",
       "    <tr style=\"text-align: right;\">\n",
       "      <th></th>\n",
       "      <th>JobSatisfaction</th>\n",
       "      <th>SalaryChange</th>\n",
       "      <th>Age</th>\n",
       "      <th>GenderSelect</th>\n",
       "    </tr>\n",
       "  </thead>\n",
       "  <tbody>\n",
       "    <tr>\n",
       "      <th>4</th>\n",
       "      <td>7</td>\n",
       "      <td>3</td>\n",
       "      <td>43.0</td>\n",
       "      <td>Female</td>\n",
       "    </tr>\n",
       "    <tr>\n",
       "      <th>5</th>\n",
       "      <td>7</td>\n",
       "      <td>4</td>\n",
       "      <td>33.0</td>\n",
       "      <td>Male</td>\n",
       "    </tr>\n",
       "    <tr>\n",
       "      <th>6</th>\n",
       "      <td>7</td>\n",
       "      <td>5</td>\n",
       "      <td>27.0</td>\n",
       "      <td>Male</td>\n",
       "    </tr>\n",
       "    <tr>\n",
       "      <th>7</th>\n",
       "      <td>5</td>\n",
       "      <td>3</td>\n",
       "      <td>26.0</td>\n",
       "      <td>Male</td>\n",
       "    </tr>\n",
       "    <tr>\n",
       "      <th>9</th>\n",
       "      <td>6</td>\n",
       "      <td>3</td>\n",
       "      <td>25.0</td>\n",
       "      <td>Male</td>\n",
       "    </tr>\n",
       "  </tbody>\n",
       "</table>\n",
       "</div>"
      ],
      "text/plain": [
       "   JobSatisfaction  SalaryChange   Age GenderSelect\n",
       "4                7             3  43.0       Female\n",
       "5                7             4  33.0         Male\n",
       "6                7             5  27.0         Male\n",
       "7                5             3  26.0         Male\n",
       "9                6             3  25.0         Male"
      ]
     },
     "execution_count": 147,
     "metadata": {},
     "output_type": "execute_result"
    }
   ],
   "source": [
    "salary_change.head()"
   ]
  },
  {
   "cell_type": "code",
   "execution_count": 148,
   "metadata": {},
   "outputs": [
    {
     "name": "stdout",
     "output_type": "stream",
     "text": [
      "Male Correlation\n",
      "                 JobSatisfaction  SalaryChange\n",
      "JobSatisfaction         1.000000      0.137279\n",
      "SalaryChange            0.137279      1.000000\n",
      "\n",
      "Female Correlation\n",
      "                 JobSatisfaction  SalaryChange\n",
      "JobSatisfaction         1.000000      0.162564\n",
      "SalaryChange            0.162564      1.000000\n",
      "\n",
      "Other Correlation\n",
      "                 JobSatisfaction  SalaryChange\n",
      "JobSatisfaction         1.000000      0.121365\n",
      "SalaryChange            0.121365      1.000000\n"
     ]
    }
   ],
   "source": [
    "gender_split(salary_change, \"SalaryChange\", False)"
   ]
  },
  {
   "cell_type": "code",
   "execution_count": 149,
   "metadata": {},
   "outputs": [
    {
     "name": "stdout",
     "output_type": "stream",
     "text": [
      "Under 25 Correlation\n",
      "                 JobSatisfaction  SalaryChange\n",
      "JobSatisfaction         1.000000      0.053715\n",
      "SalaryChange            0.053715      1.000000\n",
      "\n",
      "25 to 29 Correlation\n",
      "                 JobSatisfaction  SalaryChange\n",
      "JobSatisfaction         1.000000      0.171179\n",
      "SalaryChange            0.171179      1.000000\n",
      "\n",
      "30 to 34 Correlation\n",
      "                 JobSatisfaction  SalaryChange\n",
      "JobSatisfaction          1.00000       0.20776\n",
      "SalaryChange             0.20776       1.00000\n",
      "\n",
      "35 to 39 Correlation\n",
      "                 JobSatisfaction  SalaryChange\n",
      "JobSatisfaction         1.000000      0.144474\n",
      "SalaryChange            0.144474      1.000000\n",
      "\n",
      "40 to 44 Correlation\n",
      "                 JobSatisfaction  SalaryChange\n",
      "JobSatisfaction         1.000000      0.113554\n",
      "SalaryChange            0.113554      1.000000\n",
      "\n",
      "45 and Over Correlation\n",
      "                 JobSatisfaction  SalaryChange\n",
      "JobSatisfaction           1.0000        0.1609\n",
      "SalaryChange              0.1609        1.0000\n",
      "\n"
     ]
    }
   ],
   "source": [
    "age_split(salary_change, \"SalaryChange\", False)"
   ]
  },
  {
   "cell_type": "markdown",
   "metadata": {},
   "source": [
    "### v) Workplace Politics"
   ]
  },
  {
   "cell_type": "code",
   "execution_count": 150,
   "metadata": {},
   "outputs": [
    {
     "data": {
      "text/html": [
       "<div>\n",
       "<style>\n",
       "    .dataframe thead tr:only-child th {\n",
       "        text-align: right;\n",
       "    }\n",
       "\n",
       "    .dataframe thead th {\n",
       "        text-align: left;\n",
       "    }\n",
       "\n",
       "    .dataframe tbody tr th {\n",
       "        vertical-align: top;\n",
       "    }\n",
       "</style>\n",
       "<table border=\"1\" class=\"dataframe\">\n",
       "  <thead>\n",
       "    <tr style=\"text-align: right;\">\n",
       "      <th></th>\n",
       "      <th>JobSatisfaction</th>\n",
       "      <th>Politics</th>\n",
       "      <th>Age</th>\n",
       "      <th>GenderSelect</th>\n",
       "    </tr>\n",
       "  </thead>\n",
       "  <tbody>\n",
       "    <tr>\n",
       "      <th>4</th>\n",
       "      <td>7</td>\n",
       "      <td>NaN</td>\n",
       "      <td>43.0</td>\n",
       "      <td>Female</td>\n",
       "    </tr>\n",
       "    <tr>\n",
       "      <th>5</th>\n",
       "      <td>7</td>\n",
       "      <td>NaN</td>\n",
       "      <td>33.0</td>\n",
       "      <td>Male</td>\n",
       "    </tr>\n",
       "    <tr>\n",
       "      <th>6</th>\n",
       "      <td>7</td>\n",
       "      <td>NaN</td>\n",
       "      <td>27.0</td>\n",
       "      <td>Male</td>\n",
       "    </tr>\n",
       "    <tr>\n",
       "      <th>7</th>\n",
       "      <td>5</td>\n",
       "      <td>Often</td>\n",
       "      <td>26.0</td>\n",
       "      <td>Male</td>\n",
       "    </tr>\n",
       "    <tr>\n",
       "      <th>9</th>\n",
       "      <td>6</td>\n",
       "      <td>NaN</td>\n",
       "      <td>25.0</td>\n",
       "      <td>Male</td>\n",
       "    </tr>\n",
       "  </tbody>\n",
       "</table>\n",
       "</div>"
      ],
      "text/plain": [
       "   JobSatisfaction Politics   Age GenderSelect\n",
       "4                7      NaN  43.0       Female\n",
       "5                7      NaN  33.0         Male\n",
       "6                7      NaN  27.0         Male\n",
       "7                5    Often  26.0         Male\n",
       "9                6      NaN  25.0         Male"
      ]
     },
     "execution_count": 150,
     "metadata": {},
     "output_type": "execute_result"
    }
   ],
   "source": [
    "politics.head()"
   ]
  },
  {
   "cell_type": "code",
   "execution_count": 151,
   "metadata": {},
   "outputs": [
    {
     "name": "stdout",
     "output_type": "stream",
     "text": [
      "Male Correlation\n",
      "                 JobSatisfaction  Politics\n",
      "JobSatisfaction         1.000000  0.256382\n",
      "Politics                0.256382  1.000000\n",
      "\n",
      "Female Correlation\n",
      "                 JobSatisfaction  Politics\n",
      "JobSatisfaction          1.00000   0.24238\n",
      "Politics                 0.24238   1.00000\n",
      "\n",
      "Other Correlation\n",
      "                 JobSatisfaction  Politics\n",
      "JobSatisfaction          1.00000   0.19791\n",
      "Politics                 0.19791   1.00000\n"
     ]
    }
   ],
   "source": [
    "gender_split(politics, \"Politics\", True)"
   ]
  },
  {
   "cell_type": "code",
   "execution_count": 152,
   "metadata": {},
   "outputs": [
    {
     "name": "stdout",
     "output_type": "stream",
     "text": [
      "Under 25 Correlation\n",
      "                 JobSatisfaction  Politics\n",
      "JobSatisfaction         1.000000  0.291597\n",
      "Politics                0.291597  1.000000\n",
      "\n",
      "25 to 29 Correlation\n",
      "                 JobSatisfaction  Politics\n",
      "JobSatisfaction         1.000000  0.222129\n",
      "Politics                0.222129  1.000000\n",
      "\n",
      "30 to 34 Correlation\n",
      "                 JobSatisfaction  Politics\n",
      "JobSatisfaction         1.000000  0.236641\n",
      "Politics                0.236641  1.000000\n",
      "\n",
      "35 to 39 Correlation\n",
      "                 JobSatisfaction  Politics\n",
      "JobSatisfaction         1.000000  0.308775\n",
      "Politics                0.308775  1.000000\n",
      "\n",
      "40 to 44 Correlation\n",
      "                 JobSatisfaction  Politics\n",
      "JobSatisfaction          1.00000   0.21724\n",
      "Politics                 0.21724   1.00000\n",
      "\n",
      "45 and Over Correlation\n",
      "                 JobSatisfaction  Politics\n",
      "JobSatisfaction         1.000000  0.282162\n",
      "Politics                0.282162  1.000000\n",
      "\n"
     ]
    }
   ],
   "source": [
    "age_split(politics, \"Politics\", True)"
   ]
  },
  {
   "cell_type": "markdown",
   "metadata": {},
   "source": [
    "### vi) Unused Results"
   ]
  },
  {
   "cell_type": "code",
   "execution_count": 153,
   "metadata": {},
   "outputs": [
    {
     "data": {
      "text/html": [
       "<div>\n",
       "<style>\n",
       "    .dataframe thead tr:only-child th {\n",
       "        text-align: right;\n",
       "    }\n",
       "\n",
       "    .dataframe thead th {\n",
       "        text-align: left;\n",
       "    }\n",
       "\n",
       "    .dataframe tbody tr th {\n",
       "        vertical-align: top;\n",
       "    }\n",
       "</style>\n",
       "<table border=\"1\" class=\"dataframe\">\n",
       "  <thead>\n",
       "    <tr style=\"text-align: right;\">\n",
       "      <th></th>\n",
       "      <th>JobSatisfaction</th>\n",
       "      <th>UnusedResults</th>\n",
       "      <th>Age</th>\n",
       "      <th>GenderSelect</th>\n",
       "    </tr>\n",
       "  </thead>\n",
       "  <tbody>\n",
       "    <tr>\n",
       "      <th>4</th>\n",
       "      <td>7</td>\n",
       "      <td>NaN</td>\n",
       "      <td>43.0</td>\n",
       "      <td>Female</td>\n",
       "    </tr>\n",
       "    <tr>\n",
       "      <th>5</th>\n",
       "      <td>7</td>\n",
       "      <td>Sometimes</td>\n",
       "      <td>33.0</td>\n",
       "      <td>Male</td>\n",
       "    </tr>\n",
       "    <tr>\n",
       "      <th>6</th>\n",
       "      <td>7</td>\n",
       "      <td>NaN</td>\n",
       "      <td>27.0</td>\n",
       "      <td>Male</td>\n",
       "    </tr>\n",
       "    <tr>\n",
       "      <th>7</th>\n",
       "      <td>5</td>\n",
       "      <td>NaN</td>\n",
       "      <td>26.0</td>\n",
       "      <td>Male</td>\n",
       "    </tr>\n",
       "    <tr>\n",
       "      <th>9</th>\n",
       "      <td>6</td>\n",
       "      <td>NaN</td>\n",
       "      <td>25.0</td>\n",
       "      <td>Male</td>\n",
       "    </tr>\n",
       "  </tbody>\n",
       "</table>\n",
       "</div>"
      ],
      "text/plain": [
       "   JobSatisfaction UnusedResults   Age GenderSelect\n",
       "4                7           NaN  43.0       Female\n",
       "5                7     Sometimes  33.0         Male\n",
       "6                7           NaN  27.0         Male\n",
       "7                5           NaN  26.0         Male\n",
       "9                6           NaN  25.0         Male"
      ]
     },
     "execution_count": 153,
     "metadata": {},
     "output_type": "execute_result"
    }
   ],
   "source": [
    "unused_results.head()"
   ]
  },
  {
   "cell_type": "code",
   "execution_count": 154,
   "metadata": {},
   "outputs": [
    {
     "name": "stdout",
     "output_type": "stream",
     "text": [
      "Male Correlation\n",
      "                 JobSatisfaction  UnusedResults\n",
      "JobSatisfaction         1.000000       0.118121\n",
      "UnusedResults           0.118121       1.000000\n",
      "\n",
      "Female Correlation\n",
      "                 JobSatisfaction  UnusedResults\n",
      "JobSatisfaction         1.000000       0.115146\n",
      "UnusedResults           0.115146       1.000000\n",
      "\n",
      "Other Correlation\n",
      "                 JobSatisfaction  UnusedResults\n",
      "JobSatisfaction         1.000000       0.168675\n",
      "UnusedResults           0.168675       1.000000\n"
     ]
    }
   ],
   "source": [
    "gender_split(unused_results, \"UnusedResults\", True)"
   ]
  },
  {
   "cell_type": "code",
   "execution_count": 155,
   "metadata": {},
   "outputs": [
    {
     "name": "stdout",
     "output_type": "stream",
     "text": [
      "Under 25 Correlation\n",
      "                 JobSatisfaction  UnusedResults\n",
      "JobSatisfaction         1.000000       0.094622\n",
      "UnusedResults           0.094622       1.000000\n",
      "\n",
      "25 to 29 Correlation\n",
      "                 JobSatisfaction  UnusedResults\n",
      "JobSatisfaction         1.000000       0.060537\n",
      "UnusedResults           0.060537       1.000000\n",
      "\n",
      "30 to 34 Correlation\n",
      "                 JobSatisfaction  UnusedResults\n",
      "JobSatisfaction         1.000000       0.140486\n",
      "UnusedResults           0.140486       1.000000\n",
      "\n",
      "35 to 39 Correlation\n",
      "                 JobSatisfaction  UnusedResults\n",
      "JobSatisfaction         1.000000       0.217416\n",
      "UnusedResults           0.217416       1.000000\n",
      "\n",
      "40 to 44 Correlation\n",
      "                 JobSatisfaction  UnusedResults\n",
      "JobSatisfaction           1.0000         0.0305\n",
      "UnusedResults             0.0305         1.0000\n",
      "\n",
      "45 and Over Correlation\n",
      "                 JobSatisfaction  UnusedResults\n",
      "JobSatisfaction         1.000000       0.140611\n",
      "UnusedResults           0.140611       1.000000\n",
      "\n"
     ]
    }
   ],
   "source": [
    "age_split(unused_results, \"UnusedResults\", True)"
   ]
  },
  {
   "cell_type": "markdown",
   "metadata": {},
   "source": [
    "### vii) Talent"
   ]
  },
  {
   "cell_type": "code",
   "execution_count": 156,
   "metadata": {},
   "outputs": [
    {
     "data": {
      "text/html": [
       "<div>\n",
       "<style>\n",
       "    .dataframe thead tr:only-child th {\n",
       "        text-align: right;\n",
       "    }\n",
       "\n",
       "    .dataframe thead th {\n",
       "        text-align: left;\n",
       "    }\n",
       "\n",
       "    .dataframe tbody tr th {\n",
       "        vertical-align: top;\n",
       "    }\n",
       "</style>\n",
       "<table border=\"1\" class=\"dataframe\">\n",
       "  <thead>\n",
       "    <tr style=\"text-align: right;\">\n",
       "      <th></th>\n",
       "      <th>JobSatisfaction</th>\n",
       "      <th>Talent</th>\n",
       "      <th>Age</th>\n",
       "      <th>GenderSelect</th>\n",
       "    </tr>\n",
       "  </thead>\n",
       "  <tbody>\n",
       "    <tr>\n",
       "      <th>4</th>\n",
       "      <td>7</td>\n",
       "      <td>NaN</td>\n",
       "      <td>43.0</td>\n",
       "      <td>Female</td>\n",
       "    </tr>\n",
       "    <tr>\n",
       "      <th>5</th>\n",
       "      <td>7</td>\n",
       "      <td>Often</td>\n",
       "      <td>33.0</td>\n",
       "      <td>Male</td>\n",
       "    </tr>\n",
       "    <tr>\n",
       "      <th>6</th>\n",
       "      <td>7</td>\n",
       "      <td>Sometimes</td>\n",
       "      <td>27.0</td>\n",
       "      <td>Male</td>\n",
       "    </tr>\n",
       "    <tr>\n",
       "      <th>7</th>\n",
       "      <td>5</td>\n",
       "      <td>Often</td>\n",
       "      <td>26.0</td>\n",
       "      <td>Male</td>\n",
       "    </tr>\n",
       "    <tr>\n",
       "      <th>9</th>\n",
       "      <td>6</td>\n",
       "      <td>NaN</td>\n",
       "      <td>25.0</td>\n",
       "      <td>Male</td>\n",
       "    </tr>\n",
       "  </tbody>\n",
       "</table>\n",
       "</div>"
      ],
      "text/plain": [
       "   JobSatisfaction     Talent   Age GenderSelect\n",
       "4                7        NaN  43.0       Female\n",
       "5                7      Often  33.0         Male\n",
       "6                7  Sometimes  27.0         Male\n",
       "7                5      Often  26.0         Male\n",
       "9                6        NaN  25.0         Male"
      ]
     },
     "execution_count": 156,
     "metadata": {},
     "output_type": "execute_result"
    }
   ],
   "source": [
    "talent.head()"
   ]
  },
  {
   "cell_type": "code",
   "execution_count": 157,
   "metadata": {},
   "outputs": [
    {
     "name": "stdout",
     "output_type": "stream",
     "text": [
      "Male Correlation\n",
      "                 JobSatisfaction    Talent\n",
      "JobSatisfaction         1.000000  0.183691\n",
      "Talent                  0.183691  1.000000\n",
      "\n",
      "Female Correlation\n",
      "                 JobSatisfaction    Talent\n",
      "JobSatisfaction         1.000000  0.189283\n",
      "Talent                  0.189283  1.000000\n",
      "\n",
      "Other Correlation\n",
      "                 JobSatisfaction    Talent\n",
      "JobSatisfaction         1.000000  0.193854\n",
      "Talent                  0.193854  1.000000\n"
     ]
    }
   ],
   "source": [
    "gender_split(talent, \"Talent\", True)"
   ]
  },
  {
   "cell_type": "code",
   "execution_count": 158,
   "metadata": {},
   "outputs": [
    {
     "name": "stdout",
     "output_type": "stream",
     "text": [
      "Under 25 Correlation\n",
      "                 JobSatisfaction    Talent\n",
      "JobSatisfaction         1.000000  0.297811\n",
      "Talent                  0.297811  1.000000\n",
      "\n",
      "25 to 29 Correlation\n",
      "                 JobSatisfaction    Talent\n",
      "JobSatisfaction         1.000000  0.178063\n",
      "Talent                  0.178063  1.000000\n",
      "\n",
      "30 to 34 Correlation\n",
      "                 JobSatisfaction    Talent\n",
      "JobSatisfaction         1.000000  0.197161\n",
      "Talent                  0.197161  1.000000\n",
      "\n",
      "35 to 39 Correlation\n",
      "                 JobSatisfaction    Talent\n",
      "JobSatisfaction         1.000000  0.208017\n",
      "Talent                  0.208017  1.000000\n",
      "\n",
      "40 to 44 Correlation\n",
      "                 JobSatisfaction    Talent\n",
      "JobSatisfaction         1.000000  0.110588\n",
      "Talent                  0.110588  1.000000\n",
      "\n",
      "45 and Over Correlation\n",
      "                 JobSatisfaction    Talent\n",
      "JobSatisfaction         1.000000  0.104533\n",
      "Talent                  0.104533  1.000000\n",
      "\n"
     ]
    }
   ],
   "source": [
    "age_split(talent, \"Talent\", True)"
   ]
  },
  {
   "cell_type": "code",
   "execution_count": null,
   "metadata": {},
   "outputs": [],
   "source": []
  }
 ],
 "metadata": {
  "kernelspec": {
   "display_name": "Python 3",
   "language": "python",
   "name": "python3"
  },
  "language_info": {
   "codemirror_mode": {
    "name": "ipython",
    "version": 3
   },
   "file_extension": ".py",
   "mimetype": "text/x-python",
   "name": "python",
   "nbconvert_exporter": "python",
   "pygments_lexer": "ipython3",
   "version": "3.6.2"
  }
 },
 "nbformat": 4,
 "nbformat_minor": 2
}
