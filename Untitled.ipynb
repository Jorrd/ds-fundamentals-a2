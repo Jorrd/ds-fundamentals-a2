{
 "cells": [
  {
   "cell_type": "markdown",
   "metadata": {},
   "source": [
    "# Kaggle Data Science Survey - Data Exploration on Job Satisfaction"
   ]
  },
  {
   "cell_type": "markdown",
   "metadata": {},
   "source": [
    "We are building upon what has already been done on the Kaggle Survey Report: https://www.kaggle.com/amberthomas/kaggle-2017-survey-results\n",
    "We will follow along in the data cleaning process etc and then move onto finding our own insights that are targetted more towards my specific questions around Job Satisfaction.\n",
    "\n",
    "The first section just shows the packages we are importing, as well as removing a pandas warning message and setting the standard plot style to be seaborn\n"
   ]
  },
  {
   "cell_type": "code",
   "execution_count": 1,
   "metadata": {},
   "outputs": [],
   "source": [
    "import pandas as pd\n",
    "import numpy as np\n",
    "import seaborn as sns\n",
    "import matplotlib.pyplot as plt\n",
    "from sklearn.ensemble import RandomForestClassifier\n",
    "from sklearn.metrics import accuracy_score\n",
    "from scipy.stats import linregress\n",
    "import scipy.stats as scs\n",
    "pd.options.mode.chained_assignment = None\n",
    "sns.set()"
   ]
  },
  {
   "cell_type": "markdown",
   "metadata": {},
   "source": [
    "First we must import the data from the csv files."
   ]
  },
  {
   "cell_type": "code",
   "execution_count": 2,
   "metadata": {},
   "outputs": [],
   "source": [
    "raw_multiple_choice_data = pd.read_csv('../Input/multipleChoiceResponses.csv', encoding='ISO-8859-1', low_memory=False)\n",
    "raw_freeform_data = pd.read_csv('../Input/freeformResponses.csv', low_memory=False)\n",
    "schema = pd.read_csv('../Input/schema.csv')\n",
    "conversion_rates = pd.read_csv('../Input/conversionRates.csv')"
   ]
  },
  {
   "cell_type": "code",
   "execution_count": 3,
   "metadata": {},
   "outputs": [],
   "source": [
    "clean_MC_data = raw_multiple_choice_data\n",
    "clean_FF_data = raw_freeform_data"
   ]
  },
  {
   "cell_type": "markdown",
   "metadata": {},
   "source": [
    "We are then going to do some exploration of the data and clean it up so that we can do some basic visual analysis.\n",
    "\n",
    "How much data do we have?"
   ]
  },
  {
   "cell_type": "code",
   "execution_count": 4,
   "metadata": {},
   "outputs": [
    {
     "data": {
      "text/plain": [
       "(16716, 228)"
      ]
     },
     "execution_count": 4,
     "metadata": {},
     "output_type": "execute_result"
    }
   ],
   "source": [
    "clean_MC_data.shape"
   ]
  },
  {
   "cell_type": "markdown",
   "metadata": {},
   "source": [
    "228 Columns, with 16716 Rows.\n",
    "\n",
    "What does the data look like?  Using sample takes a random sample of the data, rather than using the likes of head with always shows the first 10 results."
   ]
  },
  {
   "cell_type": "code",
   "execution_count": 5,
   "metadata": {},
   "outputs": [
    {
     "data": {
      "text/html": [
       "<div>\n",
       "<style>\n",
       "    .dataframe thead tr:only-child th {\n",
       "        text-align: right;\n",
       "    }\n",
       "\n",
       "    .dataframe thead th {\n",
       "        text-align: left;\n",
       "    }\n",
       "\n",
       "    .dataframe tbody tr th {\n",
       "        vertical-align: top;\n",
       "    }\n",
       "</style>\n",
       "<table border=\"1\" class=\"dataframe\">\n",
       "  <thead>\n",
       "    <tr style=\"text-align: right;\">\n",
       "      <th></th>\n",
       "      <th>GenderSelect</th>\n",
       "      <th>Country</th>\n",
       "      <th>Age</th>\n",
       "      <th>EmploymentStatus</th>\n",
       "      <th>StudentStatus</th>\n",
       "      <th>LearningDataScience</th>\n",
       "      <th>CodeWriter</th>\n",
       "      <th>CareerSwitcher</th>\n",
       "      <th>CurrentJobTitleSelect</th>\n",
       "      <th>TitleFit</th>\n",
       "      <th>...</th>\n",
       "      <th>JobFactorExperienceLevel</th>\n",
       "      <th>JobFactorDepartment</th>\n",
       "      <th>JobFactorTitle</th>\n",
       "      <th>JobFactorCompanyFunding</th>\n",
       "      <th>JobFactorImpact</th>\n",
       "      <th>JobFactorRemote</th>\n",
       "      <th>JobFactorIndustry</th>\n",
       "      <th>JobFactorLeaderReputation</th>\n",
       "      <th>JobFactorDiversity</th>\n",
       "      <th>JobFactorPublishingOpportunity</th>\n",
       "    </tr>\n",
       "  </thead>\n",
       "  <tbody>\n",
       "    <tr>\n",
       "      <th>8638</th>\n",
       "      <td>Male</td>\n",
       "      <td>South Korea</td>\n",
       "      <td>46.0</td>\n",
       "      <td>Employed full-time</td>\n",
       "      <td>NaN</td>\n",
       "      <td>NaN</td>\n",
       "      <td>Yes</td>\n",
       "      <td>NaN</td>\n",
       "      <td>Data Scientist</td>\n",
       "      <td>Perfectly</td>\n",
       "      <td>...</td>\n",
       "      <td>NaN</td>\n",
       "      <td>NaN</td>\n",
       "      <td>NaN</td>\n",
       "      <td>NaN</td>\n",
       "      <td>NaN</td>\n",
       "      <td>NaN</td>\n",
       "      <td>NaN</td>\n",
       "      <td>NaN</td>\n",
       "      <td>NaN</td>\n",
       "      <td>NaN</td>\n",
       "    </tr>\n",
       "    <tr>\n",
       "      <th>7826</th>\n",
       "      <td>Male</td>\n",
       "      <td>Singapore</td>\n",
       "      <td>56.0</td>\n",
       "      <td>Employed full-time</td>\n",
       "      <td>NaN</td>\n",
       "      <td>NaN</td>\n",
       "      <td>Yes</td>\n",
       "      <td>NaN</td>\n",
       "      <td>Other</td>\n",
       "      <td>Fine</td>\n",
       "      <td>...</td>\n",
       "      <td>NaN</td>\n",
       "      <td>NaN</td>\n",
       "      <td>NaN</td>\n",
       "      <td>NaN</td>\n",
       "      <td>NaN</td>\n",
       "      <td>NaN</td>\n",
       "      <td>NaN</td>\n",
       "      <td>NaN</td>\n",
       "      <td>NaN</td>\n",
       "      <td>NaN</td>\n",
       "    </tr>\n",
       "    <tr>\n",
       "      <th>7626</th>\n",
       "      <td>A different identity</td>\n",
       "      <td>NaN</td>\n",
       "      <td>45.0</td>\n",
       "      <td>Employed full-time</td>\n",
       "      <td>NaN</td>\n",
       "      <td>NaN</td>\n",
       "      <td>No</td>\n",
       "      <td>Yes</td>\n",
       "      <td>Researcher</td>\n",
       "      <td>NaN</td>\n",
       "      <td>...</td>\n",
       "      <td>NaN</td>\n",
       "      <td>NaN</td>\n",
       "      <td>NaN</td>\n",
       "      <td>NaN</td>\n",
       "      <td>NaN</td>\n",
       "      <td>NaN</td>\n",
       "      <td>NaN</td>\n",
       "      <td>NaN</td>\n",
       "      <td>NaN</td>\n",
       "      <td>NaN</td>\n",
       "    </tr>\n",
       "    <tr>\n",
       "      <th>11928</th>\n",
       "      <td>Male</td>\n",
       "      <td>France</td>\n",
       "      <td>47.0</td>\n",
       "      <td>Employed full-time</td>\n",
       "      <td>NaN</td>\n",
       "      <td>NaN</td>\n",
       "      <td>Yes</td>\n",
       "      <td>NaN</td>\n",
       "      <td>Data Analyst</td>\n",
       "      <td>Fine</td>\n",
       "      <td>...</td>\n",
       "      <td>NaN</td>\n",
       "      <td>NaN</td>\n",
       "      <td>NaN</td>\n",
       "      <td>NaN</td>\n",
       "      <td>NaN</td>\n",
       "      <td>NaN</td>\n",
       "      <td>NaN</td>\n",
       "      <td>NaN</td>\n",
       "      <td>NaN</td>\n",
       "      <td>NaN</td>\n",
       "    </tr>\n",
       "    <tr>\n",
       "      <th>8798</th>\n",
       "      <td>Male</td>\n",
       "      <td>Spain</td>\n",
       "      <td>24.0</td>\n",
       "      <td>Employed full-time</td>\n",
       "      <td>NaN</td>\n",
       "      <td>NaN</td>\n",
       "      <td>Yes</td>\n",
       "      <td>NaN</td>\n",
       "      <td>Data Scientist</td>\n",
       "      <td>Perfectly</td>\n",
       "      <td>...</td>\n",
       "      <td>NaN</td>\n",
       "      <td>NaN</td>\n",
       "      <td>NaN</td>\n",
       "      <td>NaN</td>\n",
       "      <td>NaN</td>\n",
       "      <td>NaN</td>\n",
       "      <td>NaN</td>\n",
       "      <td>NaN</td>\n",
       "      <td>NaN</td>\n",
       "      <td>NaN</td>\n",
       "    </tr>\n",
       "  </tbody>\n",
       "</table>\n",
       "<p>5 rows × 228 columns</p>\n",
       "</div>"
      ],
      "text/plain": [
       "               GenderSelect      Country   Age    EmploymentStatus  \\\n",
       "8638                   Male  South Korea  46.0  Employed full-time   \n",
       "7826                   Male    Singapore  56.0  Employed full-time   \n",
       "7626   A different identity          NaN  45.0  Employed full-time   \n",
       "11928                  Male       France  47.0  Employed full-time   \n",
       "8798                   Male        Spain  24.0  Employed full-time   \n",
       "\n",
       "      StudentStatus LearningDataScience CodeWriter CareerSwitcher  \\\n",
       "8638            NaN                 NaN        Yes            NaN   \n",
       "7826            NaN                 NaN        Yes            NaN   \n",
       "7626            NaN                 NaN         No            Yes   \n",
       "11928           NaN                 NaN        Yes            NaN   \n",
       "8798            NaN                 NaN        Yes            NaN   \n",
       "\n",
       "      CurrentJobTitleSelect   TitleFit              ...                \\\n",
       "8638         Data Scientist  Perfectly              ...                 \n",
       "7826                  Other       Fine              ...                 \n",
       "7626             Researcher        NaN              ...                 \n",
       "11928          Data Analyst       Fine              ...                 \n",
       "8798         Data Scientist  Perfectly              ...                 \n",
       "\n",
       "      JobFactorExperienceLevel JobFactorDepartment JobFactorTitle  \\\n",
       "8638                       NaN                 NaN            NaN   \n",
       "7826                       NaN                 NaN            NaN   \n",
       "7626                       NaN                 NaN            NaN   \n",
       "11928                      NaN                 NaN            NaN   \n",
       "8798                       NaN                 NaN            NaN   \n",
       "\n",
       "      JobFactorCompanyFunding JobFactorImpact JobFactorRemote  \\\n",
       "8638                      NaN             NaN             NaN   \n",
       "7826                      NaN             NaN             NaN   \n",
       "7626                      NaN             NaN             NaN   \n",
       "11928                     NaN             NaN             NaN   \n",
       "8798                      NaN             NaN             NaN   \n",
       "\n",
       "      JobFactorIndustry JobFactorLeaderReputation JobFactorDiversity  \\\n",
       "8638                NaN                       NaN                NaN   \n",
       "7826                NaN                       NaN                NaN   \n",
       "7626                NaN                       NaN                NaN   \n",
       "11928               NaN                       NaN                NaN   \n",
       "8798                NaN                       NaN                NaN   \n",
       "\n",
       "      JobFactorPublishingOpportunity  \n",
       "8638                             NaN  \n",
       "7826                             NaN  \n",
       "7626                             NaN  \n",
       "11928                            NaN  \n",
       "8798                             NaN  \n",
       "\n",
       "[5 rows x 228 columns]"
      ]
     },
     "execution_count": 5,
     "metadata": {},
     "output_type": "execute_result"
    }
   ],
   "source": [
    "clean_MC_data.sample(5)"
   ]
  },
  {
   "cell_type": "markdown",
   "metadata": {},
   "source": [
    "What can we test to see if they effect Job Satisfaction?  I used grep on the schema.csv to find only questions answered by CodingWorkers as they were the only respondents that answered JobSatisfaction.  From them I looked at the data in the answers and tried to see which ones I think could be correlated or useful in determining Job Satisfaction.  Below are the ones I picked out.\n",
    "\n",
    "* Gender\n",
    "* Age\n",
    "* FormalEducation\n",
    "* CurrentJobTitleSelect\n",
    "* TitleFit\n",
    "* EmployerSize\n",
    "* TimeGatheringData, TimeModelBuilding, TimeProduction, TimeVisualizingm TimeFindingInsights, TimeOtherSelect\n",
    "* WorkDataVisualizations\n",
    "* RemoteWork\n",
    "* SalaryChange\n",
    "* CompensationAmount\n",
    "* JobFunctionSelect\n"
   ]
  },
  {
   "cell_type": "markdown",
   "metadata": {},
   "source": [
    "# JobSatisfaction\n",
    "\n",
    "Let's look at the current state of the Job Satisfaction column as it is the main focus of our questions."
   ]
  },
  {
   "cell_type": "code",
   "execution_count": 6,
   "metadata": {},
   "outputs": [
    {
     "data": {
      "text/plain": [
       "array(['5', nan, '10 - Highly Satisfied', '2', '8', '7', '6', '9',\n",
       "       '1 - Highly Dissatisfied', 'I prefer not to share', '3', '4'], dtype=object)"
      ]
     },
     "execution_count": 6,
     "metadata": {},
     "output_type": "execute_result"
    }
   ],
   "source": [
    "clean_MC_data['JobSatisfaction'].unique()"
   ]
  },
  {
   "cell_type": "code",
   "execution_count": 7,
   "metadata": {},
   "outputs": [
    {
     "data": {
      "text/plain": [
       "7                          1448\n",
       "8                          1427\n",
       "6                           765\n",
       "9                           677\n",
       "5                           627\n",
       "10 - Highly Satisfied       589\n",
       "3                           358\n",
       "4                           354\n",
       "1 - Highly Dissatisfied     167\n",
       "I prefer not to share       148\n",
       "2                           117\n",
       "Name: JobSatisfaction, dtype: int64"
      ]
     },
     "execution_count": 7,
     "metadata": {},
     "output_type": "execute_result"
    }
   ],
   "source": [
    "clean_MC_data['JobSatisfaction'].value_counts()"
   ]
  },
  {
   "cell_type": "markdown",
   "metadata": {},
   "source": [
    "We want to convert this to an integer scale between 1-10.  Therefore I am going to need to drop the 'I prefer not to share' respondents, as well as the NaN values.  I will then replace the String answers of '10 - Highly Satisfied' and '1 - Highly Dissatisfied' with the integer equivalents "
   ]
  },
  {
   "cell_type": "code",
   "execution_count": 8,
   "metadata": {},
   "outputs": [],
   "source": [
    "clean_MC_data = clean_MC_data[clean_MC_data['JobSatisfaction'] != 'I prefer not to share']\n",
    "clean_MC_data.dropna(subset=['JobSatisfaction'],inplace=True)\n",
    "clean_MC_data['JobSatisfaction'] = clean_MC_data['JobSatisfaction'].replace(['10 - Highly Satisfied', '1 - Highly Dissatisfied'], ['10','1']).astype(int)"
   ]
  },
  {
   "cell_type": "markdown",
   "metadata": {},
   "source": [
    "Looking at the data now it is much cleaner.  We can do immediately pull some simple stats from this."
   ]
  },
  {
   "cell_type": "code",
   "execution_count": 9,
   "metadata": {},
   "outputs": [
    {
     "data": {
      "text/plain": [
       "array([ 5, 10,  2,  8,  7,  6,  9,  1,  3,  4], dtype=int64)"
      ]
     },
     "execution_count": 9,
     "metadata": {},
     "output_type": "execute_result"
    }
   ],
   "source": [
    "clean_MC_data['JobSatisfaction'].unique()"
   ]
  },
  {
   "cell_type": "code",
   "execution_count": 10,
   "metadata": {},
   "outputs": [
    {
     "data": {
      "text/plain": [
       "7     1448\n",
       "8     1427\n",
       "6      765\n",
       "9      677\n",
       "5      627\n",
       "10     589\n",
       "3      358\n",
       "4      354\n",
       "1      167\n",
       "2      117\n",
       "Name: JobSatisfaction, dtype: int64"
      ]
     },
     "execution_count": 10,
     "metadata": {},
     "output_type": "execute_result"
    }
   ],
   "source": [
    "clean_MC_data['JobSatisfaction'].value_counts()"
   ]
  },
  {
   "cell_type": "code",
   "execution_count": 11,
   "metadata": {},
   "outputs": [
    {
     "data": {
      "text/plain": [
       "count    6529.000000\n",
       "mean        6.762291\n",
       "std         2.150548\n",
       "min         1.000000\n",
       "25%         6.000000\n",
       "50%         7.000000\n",
       "75%         8.000000\n",
       "max        10.000000\n",
       "Name: JobSatisfaction, dtype: float64"
      ]
     },
     "execution_count": 11,
     "metadata": {},
     "output_type": "execute_result"
    }
   ],
   "source": [
    "clean_MC_data['JobSatisfaction'].describe()"
   ]
  },
  {
   "cell_type": "markdown",
   "metadata": {},
   "source": [
    "From these we can see that the data is negatively skewed.  Good news, on the whole Coding Workers are satisfied with their jobs.  The mean answer is 6.76 with the median at 7, showing that the data is evenly distributed about the mean."
   ]
  },
  {
   "cell_type": "code",
   "execution_count": 12,
   "metadata": {},
   "outputs": [
    {
     "data": {
      "image/png": "[encoded data removed]",
      "text/plain": [
       "<matplotlib.figure.Figure at 0x29d40dfc7b8>"
      ]
     },
     "metadata": {},
     "output_type": "display_data"
    }
   ],
   "source": [
    "sns.countplot(x=\"JobSatisfaction\", data=clean_MC_data)\n",
    "plt.show()"
   ]
  },
  {
   "cell_type": "code",
   "execution_count": 13,
   "metadata": {},
   "outputs": [
    {
     "data": {
      "image/png": "[encoded data removed]",
      "text/plain": [
       "<matplotlib.figure.Figure at 0x29d422a05f8>"
      ]
     },
     "metadata": {},
     "output_type": "display_data"
    }
   ],
   "source": [
    "sns.boxplot(x=\"JobSatisfaction\", data=clean_MC_data)\n",
    "plt.show()"
   ]
  },
  {
   "cell_type": "markdown",
   "metadata": {},
   "source": [
    "From the graphics we can see the negative skew."
   ]
  },
  {
   "cell_type": "markdown",
   "metadata": {},
   "source": [
    "# Gender"
   ]
  },
  {
   "cell_type": "code",
   "execution_count": 14,
   "metadata": {},
   "outputs": [
    {
     "data": {
      "text/html": [
       "<div>\n",
       "<style>\n",
       "    .dataframe thead tr:only-child th {\n",
       "        text-align: right;\n",
       "    }\n",
       "\n",
       "    .dataframe thead th {\n",
       "        text-align: left;\n",
       "    }\n",
       "\n",
       "    .dataframe tbody tr th {\n",
       "        vertical-align: top;\n",
       "    }\n",
       "</style>\n",
       "<table border=\"1\" class=\"dataframe\">\n",
       "  <thead>\n",
       "    <tr style=\"text-align: right;\">\n",
       "      <th></th>\n",
       "      <th>GenderSelect</th>\n",
       "      <th>JobSatisfaction</th>\n",
       "    </tr>\n",
       "  </thead>\n",
       "  <tbody>\n",
       "    <tr>\n",
       "      <th>0</th>\n",
       "      <td>Non-binary, genderqueer, or gender non-conforming</td>\n",
       "      <td>5</td>\n",
       "    </tr>\n",
       "    <tr>\n",
       "      <th>3</th>\n",
       "      <td>Male</td>\n",
       "      <td>10</td>\n",
       "    </tr>\n",
       "    <tr>\n",
       "      <th>4</th>\n",
       "      <td>Male</td>\n",
       "      <td>2</td>\n",
       "    </tr>\n",
       "    <tr>\n",
       "      <th>5</th>\n",
       "      <td>Male</td>\n",
       "      <td>8</td>\n",
       "    </tr>\n",
       "    <tr>\n",
       "      <th>6</th>\n",
       "      <td>Male</td>\n",
       "      <td>8</td>\n",
       "    </tr>\n",
       "  </tbody>\n",
       "</table>\n",
       "</div>"
      ],
      "text/plain": [
       "                                        GenderSelect  JobSatisfaction\n",
       "0  Non-binary, genderqueer, or gender non-conforming                5\n",
       "3                                               Male               10\n",
       "4                                               Male                2\n",
       "5                                               Male                8\n",
       "6                                               Male                8"
      ]
     },
     "execution_count": 14,
     "metadata": {},
     "output_type": "execute_result"
    }
   ],
   "source": [
    "gender = clean_MC_data[['GenderSelect', 'JobSatisfaction']]\n",
    "gender.head()"
   ]
  },
  {
   "cell_type": "code",
   "execution_count": 16,
   "metadata": {},
   "outputs": [
    {
     "data": {
      "text/plain": [
       "array(['Non-binary, genderqueer, or gender non-conforming', 'Male',\n",
       "       'Female', 'A different identity', nan], dtype=object)"
      ]
     },
     "execution_count": 16,
     "metadata": {},
     "output_type": "execute_result"
    }
   ],
   "source": [
    "gender['GenderSelect'].unique()"
   ]
  },
  {
   "cell_type": "code",
   "execution_count": 17,
   "metadata": {},
   "outputs": [
    {
     "data": {
      "text/plain": [
       "Male                                                 5511\n",
       "Female                                                930\n",
       "A different identity                                   44\n",
       "Non-binary, genderqueer, or gender non-conforming      32\n",
       "Name: GenderSelect, dtype: int64"
      ]
     },
     "execution_count": 17,
     "metadata": {},
     "output_type": "execute_result"
    }
   ],
   "source": [
    "gender['GenderSelect'].value_counts()"
   ]
  },
  {
   "cell_type": "markdown",
   "metadata": {},
   "source": [
    "From the value counts we can see that the sample size for 'A different identity' and 'Non-binary, genderqueer, or gender non-conforming' is quite small.  I will group these in an other category.  It is also necessary to deal with the Null values."
   ]
  },
  {
   "cell_type": "code",
   "execution_count": 15,
   "metadata": {},
   "outputs": [
    {
     "name": "stdout",
     "output_type": "stream",
     "text": [
      "<class 'pandas.core.frame.DataFrame'>\n",
      "Int64Index: 6529 entries, 0 to 16712\n",
      "Data columns (total 2 columns):\n",
      "GenderSelect       6517 non-null object\n",
      "JobSatisfaction    6529 non-null int32\n",
      "dtypes: int32(1), object(1)\n",
      "memory usage: 447.5+ KB\n"
     ]
    }
   ],
   "source": [
    "gender.info()"
   ]
  },
  {
   "cell_type": "markdown",
   "metadata": {},
   "source": [
    "Looking at the information we have 12 null values for Gender Select.  We could either fill this data, or drop it.  Dropping it is the best option in this case as it is a small proportion of the sample."
   ]
  },
  {
   "cell_type": "code",
   "execution_count": 18,
   "metadata": {},
   "outputs": [],
   "source": [
    "gender.dropna(inplace=True)\n",
    "gender['GenderSelect'].replace(['A different identity', 'Non-binary, genderqueer, or gender non-conforming'], ['Other', 'Other'], inplace=True)"
   ]
  },
  {
   "cell_type": "markdown",
   "metadata": {},
   "source": [
    "Taking a look at the data now."
   ]
  },
  {
   "cell_type": "code",
   "execution_count": 19,
   "metadata": {},
   "outputs": [
    {
     "data": {
      "text/plain": [
       "array(['Other', 'Male', 'Female'], dtype=object)"
      ]
     },
     "execution_count": 19,
     "metadata": {},
     "output_type": "execute_result"
    }
   ],
   "source": [
    "gender['GenderSelect'].unique()"
   ]
  },
  {
   "cell_type": "code",
   "execution_count": 20,
   "metadata": {},
   "outputs": [
    {
     "data": {
      "text/plain": [
       "Male      5511\n",
       "Female     930\n",
       "Other       76\n",
       "Name: GenderSelect, dtype: int64"
      ]
     },
     "execution_count": 20,
     "metadata": {},
     "output_type": "execute_result"
    }
   ],
   "source": [
    "gender['GenderSelect'].value_counts()"
   ]
  },
  {
   "cell_type": "markdown",
   "metadata": {},
   "source": [
    "Now lets take a look at the descriptive statistics for each of the demographics."
   ]
  },
  {
   "cell_type": "code",
   "execution_count": 149,
   "metadata": {},
   "outputs": [
    {
     "data": {
      "text/html": [
       "<div>\n",
       "<style>\n",
       "    .dataframe thead tr:only-child th {\n",
       "        text-align: right;\n",
       "    }\n",
       "\n",
       "    .dataframe thead th {\n",
       "        text-align: left;\n",
       "    }\n",
       "\n",
       "    .dataframe tbody tr th {\n",
       "        vertical-align: top;\n",
       "    }\n",
       "</style>\n",
       "<table border=\"1\" class=\"dataframe\">\n",
       "  <thead>\n",
       "    <tr>\n",
       "      <th></th>\n",
       "      <th colspan=\"8\" halign=\"left\">JobSatisfaction</th>\n",
       "    </tr>\n",
       "    <tr>\n",
       "      <th></th>\n",
       "      <th>count</th>\n",
       "      <th>mean</th>\n",
       "      <th>std</th>\n",
       "      <th>min</th>\n",
       "      <th>25%</th>\n",
       "      <th>50%</th>\n",
       "      <th>75%</th>\n",
       "      <th>max</th>\n",
       "    </tr>\n",
       "    <tr>\n",
       "      <th>GenderSelect</th>\n",
       "      <th></th>\n",
       "      <th></th>\n",
       "      <th></th>\n",
       "      <th></th>\n",
       "      <th></th>\n",
       "      <th></th>\n",
       "      <th></th>\n",
       "      <th></th>\n",
       "    </tr>\n",
       "  </thead>\n",
       "  <tbody>\n",
       "    <tr>\n",
       "      <th>Female</th>\n",
       "      <td>930.0</td>\n",
       "      <td>6.624731</td>\n",
       "      <td>2.279225</td>\n",
       "      <td>1.0</td>\n",
       "      <td>5.0</td>\n",
       "      <td>7.0</td>\n",
       "      <td>8.0</td>\n",
       "      <td>10.0</td>\n",
       "    </tr>\n",
       "    <tr>\n",
       "      <th>Male</th>\n",
       "      <td>5511.0</td>\n",
       "      <td>6.783705</td>\n",
       "      <td>2.125985</td>\n",
       "      <td>1.0</td>\n",
       "      <td>6.0</td>\n",
       "      <td>7.0</td>\n",
       "      <td>8.0</td>\n",
       "      <td>10.0</td>\n",
       "    </tr>\n",
       "    <tr>\n",
       "      <th>Other</th>\n",
       "      <td>76.0</td>\n",
       "      <td>6.960526</td>\n",
       "      <td>2.241671</td>\n",
       "      <td>1.0</td>\n",
       "      <td>5.0</td>\n",
       "      <td>7.0</td>\n",
       "      <td>8.0</td>\n",
       "      <td>10.0</td>\n",
       "    </tr>\n",
       "  </tbody>\n",
       "</table>\n",
       "</div>"
      ],
      "text/plain": [
       "             JobSatisfaction                                              \n",
       "                       count      mean       std  min  25%  50%  75%   max\n",
       "GenderSelect                                                              \n",
       "Female                 930.0  6.624731  2.279225  1.0  5.0  7.0  8.0  10.0\n",
       "Male                  5511.0  6.783705  2.125985  1.0  6.0  7.0  8.0  10.0\n",
       "Other                   76.0  6.960526  2.241671  1.0  5.0  7.0  8.0  10.0"
      ]
     },
     "execution_count": 149,
     "metadata": {},
     "output_type": "execute_result"
    }
   ],
   "source": [
    "gender.groupby('GenderSelect').describe()"
   ]
  },
  {
   "cell_type": "markdown",
   "metadata": {},
   "source": [
    "From the descriptive statistics all 3 of the categories look quite similar"
   ]
  },
  {
   "cell_type": "code",
   "execution_count": 22,
   "metadata": {},
   "outputs": [
    {
     "data": {
      "image/png": "[encoded data removed]",
      "text/plain": [
       "<matplotlib.figure.Figure at 0x29d422a55f8>"
      ]
     },
     "metadata": {},
     "output_type": "display_data"
    }
   ],
   "source": [
    "plt.figure(figsize=(12,6))\n",
    "\n",
    "plt.subplot(2,2,1)\n",
    "sns.countplot(x=\"JobSatisfaction\", data=gender[gender['GenderSelect'] == \"Male\"]).set_title(\"Male\")\n",
    "\n",
    "plt.subplot(2,2,2)\n",
    "sns.countplot(x=\"JobSatisfaction\", data=gender[gender['GenderSelect'] == \"Female\"]).set_title(\"Female\")\n",
    "\n",
    "plt.subplot(2,2,3)\n",
    "sns.countplot(x=\"JobSatisfaction\", data=gender[gender['GenderSelect'] == \"Other\"]).set_title(\"Other\")\n",
    "\n",
    "plt.tight_layout()\n",
    "plt.show()"
   ]
  },
  {
   "cell_type": "code",
   "execution_count": 95,
   "metadata": {},
   "outputs": [
    {
     "data": {
      "text/html": [
       "<div>\n",
       "<style>\n",
       "    .dataframe thead tr:only-child th {\n",
       "        text-align: right;\n",
       "    }\n",
       "\n",
       "    .dataframe thead th {\n",
       "        text-align: left;\n",
       "    }\n",
       "\n",
       "    .dataframe tbody tr th {\n",
       "        vertical-align: top;\n",
       "    }\n",
       "</style>\n",
       "<table border=\"1\" class=\"dataframe\">\n",
       "  <thead>\n",
       "    <tr style=\"text-align: right;\">\n",
       "      <th>JobSatisfaction</th>\n",
       "      <th>1</th>\n",
       "      <th>2</th>\n",
       "      <th>3</th>\n",
       "      <th>4</th>\n",
       "      <th>5</th>\n",
       "      <th>6</th>\n",
       "      <th>7</th>\n",
       "      <th>8</th>\n",
       "      <th>9</th>\n",
       "      <th>10</th>\n",
       "    </tr>\n",
       "    <tr>\n",
       "      <th>GenderSelect</th>\n",
       "      <th></th>\n",
       "      <th></th>\n",
       "      <th></th>\n",
       "      <th></th>\n",
       "      <th></th>\n",
       "      <th></th>\n",
       "      <th></th>\n",
       "      <th></th>\n",
       "      <th></th>\n",
       "      <th></th>\n",
       "    </tr>\n",
       "  </thead>\n",
       "  <tbody>\n",
       "    <tr>\n",
       "      <th>Female</th>\n",
       "      <td>31</td>\n",
       "      <td>22</td>\n",
       "      <td>61</td>\n",
       "      <td>44</td>\n",
       "      <td>102</td>\n",
       "      <td>113</td>\n",
       "      <td>202</td>\n",
       "      <td>164</td>\n",
       "      <td>97</td>\n",
       "      <td>94</td>\n",
       "    </tr>\n",
       "    <tr>\n",
       "      <th>Male</th>\n",
       "      <td>134</td>\n",
       "      <td>94</td>\n",
       "      <td>293</td>\n",
       "      <td>304</td>\n",
       "      <td>514</td>\n",
       "      <td>641</td>\n",
       "      <td>1232</td>\n",
       "      <td>1243</td>\n",
       "      <td>576</td>\n",
       "      <td>480</td>\n",
       "    </tr>\n",
       "    <tr>\n",
       "      <th>Other</th>\n",
       "      <td>2</td>\n",
       "      <td>0</td>\n",
       "      <td>3</td>\n",
       "      <td>6</td>\n",
       "      <td>9</td>\n",
       "      <td>9</td>\n",
       "      <td>13</td>\n",
       "      <td>16</td>\n",
       "      <td>4</td>\n",
       "      <td>14</td>\n",
       "    </tr>\n",
       "  </tbody>\n",
       "</table>\n",
       "</div>"
      ],
      "text/plain": [
       "JobSatisfaction   1   2    3    4    5    6     7     8    9    10\n",
       "GenderSelect                                                      \n",
       "Female            31  22   61   44  102  113   202   164   97   94\n",
       "Male             134  94  293  304  514  641  1232  1243  576  480\n",
       "Other              2   0    3    6    9    9    13    16    4   14"
      ]
     },
     "execution_count": 95,
     "metadata": {},
     "output_type": "execute_result"
    }
   ],
   "source": [
    "gender_crosstab = pd.crosstab(index=gender[\"GenderSelect\"],\n",
    "                             columns=gender[\"JobSatisfaction\"])\n",
    "gender_crosstab"
   ]
  },
  {
   "cell_type": "markdown",
   "metadata": {},
   "source": [
    "From this I would say that Gender does not have a significant impact on Job Satisfaction."
   ]
  },
  {
   "cell_type": "markdown",
   "metadata": {},
   "source": [
    "# Age"
   ]
  },
  {
   "cell_type": "code",
   "execution_count": 96,
   "metadata": {},
   "outputs": [],
   "source": [
    "age = clean_MC_data[['Age', 'JobSatisfaction']]"
   ]
  },
  {
   "cell_type": "markdown",
   "metadata": {},
   "source": [
    "Let's take a look at the age distribution"
   ]
  },
  {
   "cell_type": "code",
   "execution_count": 105,
   "metadata": {},
   "outputs": [
    {
     "data": {
      "text/html": [
       "<div>\n",
       "<style>\n",
       "    .dataframe thead tr:only-child th {\n",
       "        text-align: right;\n",
       "    }\n",
       "\n",
       "    .dataframe thead th {\n",
       "        text-align: left;\n",
       "    }\n",
       "\n",
       "    .dataframe tbody tr th {\n",
       "        vertical-align: top;\n",
       "    }\n",
       "</style>\n",
       "<table border=\"1\" class=\"dataframe\">\n",
       "  <thead>\n",
       "    <tr style=\"text-align: right;\">\n",
       "      <th></th>\n",
       "      <th>Age</th>\n",
       "      <th>JobSatisfaction</th>\n",
       "    </tr>\n",
       "  </thead>\n",
       "  <tbody>\n",
       "    <tr>\n",
       "      <th>count</th>\n",
       "      <td>6447.000000</td>\n",
       "      <td>6529.000000</td>\n",
       "    </tr>\n",
       "    <tr>\n",
       "      <th>mean</th>\n",
       "      <td>34.429502</td>\n",
       "      <td>6.762291</td>\n",
       "    </tr>\n",
       "    <tr>\n",
       "      <th>std</th>\n",
       "      <td>9.876586</td>\n",
       "      <td>2.150548</td>\n",
       "    </tr>\n",
       "    <tr>\n",
       "      <th>min</th>\n",
       "      <td>0.000000</td>\n",
       "      <td>1.000000</td>\n",
       "    </tr>\n",
       "    <tr>\n",
       "      <th>25%</th>\n",
       "      <td>27.000000</td>\n",
       "      <td>6.000000</td>\n",
       "    </tr>\n",
       "    <tr>\n",
       "      <th>50%</th>\n",
       "      <td>32.000000</td>\n",
       "      <td>7.000000</td>\n",
       "    </tr>\n",
       "    <tr>\n",
       "      <th>75%</th>\n",
       "      <td>39.000000</td>\n",
       "      <td>8.000000</td>\n",
       "    </tr>\n",
       "    <tr>\n",
       "      <th>max</th>\n",
       "      <td>100.000000</td>\n",
       "      <td>10.000000</td>\n",
       "    </tr>\n",
       "  </tbody>\n",
       "</table>\n",
       "</div>"
      ],
      "text/plain": [
       "               Age  JobSatisfaction\n",
       "count  6447.000000      6529.000000\n",
       "mean     34.429502         6.762291\n",
       "std       9.876586         2.150548\n",
       "min       0.000000         1.000000\n",
       "25%      27.000000         6.000000\n",
       "50%      32.000000         7.000000\n",
       "75%      39.000000         8.000000\n",
       "max     100.000000        10.000000"
      ]
     },
     "execution_count": 105,
     "metadata": {},
     "output_type": "execute_result"
    }
   ],
   "source": [
    "age.describe()"
   ]
  },
  {
   "cell_type": "code",
   "execution_count": 103,
   "metadata": {},
   "outputs": [
    {
     "data": {
      "image/png": "[encoded data removed]",
      "text/plain": [
       "<matplotlib.figure.Figure at 0x29d423b1e48>"
      ]
     },
     "metadata": {},
     "output_type": "display_data"
    }
   ],
   "source": [
    "sns.boxplot(x=\"Age\", data=age)\n",
    "plt.show()"
   ]
  },
  {
   "cell_type": "markdown",
   "metadata": {},
   "source": [
    "Because we have subsetted for JobSatisfaction, these respondents are people who identify as coding workers.\n",
    "I would not expect anybody under the age of 16 to be employed as a coding worker.  Likewise, I would not expect anybody to be working over the age of 70."
   ]
  },
  {
   "cell_type": "code",
   "execution_count": 110,
   "metadata": {},
   "outputs": [],
   "source": [
    "age = age[age['Age'] > 15]\n",
    "age = age[age['Age'] < 71]"
   ]
  },
  {
   "cell_type": "code",
   "execution_count": 111,
   "metadata": {},
   "outputs": [
    {
     "data": {
      "text/html": [
       "<div>\n",
       "<style>\n",
       "    .dataframe thead tr:only-child th {\n",
       "        text-align: right;\n",
       "    }\n",
       "\n",
       "    .dataframe thead th {\n",
       "        text-align: left;\n",
       "    }\n",
       "\n",
       "    .dataframe tbody tr th {\n",
       "        vertical-align: top;\n",
       "    }\n",
       "</style>\n",
       "<table border=\"1\" class=\"dataframe\">\n",
       "  <thead>\n",
       "    <tr style=\"text-align: right;\">\n",
       "      <th></th>\n",
       "      <th>Age</th>\n",
       "      <th>JobSatisfaction</th>\n",
       "    </tr>\n",
       "  </thead>\n",
       "  <tbody>\n",
       "    <tr>\n",
       "      <th>count</th>\n",
       "      <td>6423.000000</td>\n",
       "      <td>6423.000000</td>\n",
       "    </tr>\n",
       "    <tr>\n",
       "      <th>mean</th>\n",
       "      <td>34.295812</td>\n",
       "      <td>6.763039</td>\n",
       "    </tr>\n",
       "    <tr>\n",
       "      <th>std</th>\n",
       "      <td>9.506345</td>\n",
       "      <td>2.146436</td>\n",
       "    </tr>\n",
       "    <tr>\n",
       "      <th>min</th>\n",
       "      <td>16.000000</td>\n",
       "      <td>1.000000</td>\n",
       "    </tr>\n",
       "    <tr>\n",
       "      <th>25%</th>\n",
       "      <td>27.000000</td>\n",
       "      <td>6.000000</td>\n",
       "    </tr>\n",
       "    <tr>\n",
       "      <th>50%</th>\n",
       "      <td>32.000000</td>\n",
       "      <td>7.000000</td>\n",
       "    </tr>\n",
       "    <tr>\n",
       "      <th>75%</th>\n",
       "      <td>39.000000</td>\n",
       "      <td>8.000000</td>\n",
       "    </tr>\n",
       "    <tr>\n",
       "      <th>max</th>\n",
       "      <td>69.000000</td>\n",
       "      <td>10.000000</td>\n",
       "    </tr>\n",
       "  </tbody>\n",
       "</table>\n",
       "</div>"
      ],
      "text/plain": [
       "               Age  JobSatisfaction\n",
       "count  6423.000000      6423.000000\n",
       "mean     34.295812         6.763039\n",
       "std       9.506345         2.146436\n",
       "min      16.000000         1.000000\n",
       "25%      27.000000         6.000000\n",
       "50%      32.000000         7.000000\n",
       "75%      39.000000         8.000000\n",
       "max      69.000000        10.000000"
      ]
     },
     "execution_count": 111,
     "metadata": {},
     "output_type": "execute_result"
    }
   ],
   "source": [
    "age.describe()"
   ]
  },
  {
   "cell_type": "code",
   "execution_count": 112,
   "metadata": {},
   "outputs": [
    {
     "data": {
      "image/png": "[encoded data removed]",
      "text/plain": [
       "<matplotlib.figure.Figure at 0x29d40ec1400>"
      ]
     },
     "metadata": {},
     "output_type": "display_data"
    }
   ],
   "source": [
    "sns.boxplot(x=\"Age\", data=age)\n",
    "plt.show()"
   ]
  },
  {
   "cell_type": "markdown",
   "metadata": {},
   "source": [
    "This boxplot looks much closer to the distribution we would expect from Coding Workers.  It shows that the mean age of the respondents is 34, and 50% of respondents are between 27 and 39."
   ]
  },
  {
   "cell_type": "code",
   "execution_count": 157,
   "metadata": {},
   "outputs": [
    {
     "name": "stdout",
     "output_type": "stream",
     "text": [
      "The correlation between JobSatisfaction and Age r: 0.0617389044865\n",
      "The correlation is statistically significant with a 95% C.I. as the p_value < 0.05: 7.35527262983e-07\n",
      "\n",
      "The correlation is not very large however, so the usefulness is questionable.\n"
     ]
    }
   ],
   "source": [
    "slope, intercept, r_value, p_value, std_err = linregress(age['JobSatisfaction'],age['Age'])\n",
    "\n",
    "print(\"The correlation between JobSatisfaction and Age r: \" + str(r_value))\n",
    "print(\"The correlation is statistically significant with a 95% C.I. as the p_value < 0.05: \" + str(p_value))\n",
    "print(\"\")\n",
    "print(\"The correlation is not very large however, so the usefulness is questionable.\")"
   ]
  },
  {
   "cell_type": "markdown",
   "metadata": {},
   "source": [
    "# Formal Education"
   ]
  },
  {
   "cell_type": "code",
   "execution_count": 163,
   "metadata": {},
   "outputs": [],
   "source": [
    "formal_education = clean_MC_data[['JobSatisfaction', 'FormalEducation']].dropna()"
   ]
  },
  {
   "cell_type": "code",
   "execution_count": 164,
   "metadata": {},
   "outputs": [
    {
     "name": "stdout",
     "output_type": "stream",
     "text": [
      "<class 'pandas.core.frame.DataFrame'>\n",
      "Int64Index: 6521 entries, 0 to 16712\n",
      "Data columns (total 2 columns):\n",
      "JobSatisfaction    6521 non-null int32\n",
      "FormalEducation    6521 non-null object\n",
      "dtypes: int32(1), object(1)\n",
      "memory usage: 127.4+ KB\n"
     ]
    }
   ],
   "source": [
    "formal_education.info()"
   ]
  },
  {
   "cell_type": "code",
   "execution_count": 165,
   "metadata": {},
   "outputs": [
    {
     "data": {
      "text/plain": [
       "array([\"Bachelor's degree\", \"Master's degree\", 'Doctoral degree',\n",
       "       \"Some college/university study without earning a bachelor's degree\",\n",
       "       'I did not complete any formal education past high school',\n",
       "       'Professional degree', 'I prefer not to answer'], dtype=object)"
      ]
     },
     "execution_count": 165,
     "metadata": {},
     "output_type": "execute_result"
    }
   ],
   "source": [
    "formal_education['FormalEducation'].unique()"
   ]
  },
  {
   "cell_type": "code",
   "execution_count": 174,
   "metadata": {},
   "outputs": [
    {
     "data": {
      "text/plain": [
       "5    2998\n",
       "4    1622\n",
       "6    1447\n",
       "3     200\n",
       "2     194\n",
       "1      41\n",
       "Name: FormalEducation, dtype: int64"
      ]
     },
     "execution_count": 174,
     "metadata": {},
     "output_type": "execute_result"
    }
   ],
   "source": [
    "formal_education['FormalEducation'].value_counts()"
   ]
  },
  {
   "cell_type": "code",
   "execution_count": 166,
   "metadata": {},
   "outputs": [],
   "source": [
    "formal_education = formal_education[formal_education['FormalEducation'] != \"I prefer not to answer\"]"
   ]
  },
  {
   "cell_type": "code",
   "execution_count": 170,
   "metadata": {},
   "outputs": [
    {
     "data": {
      "text/html": [
       "<div>\n",
       "<style>\n",
       "    .dataframe thead tr:only-child th {\n",
       "        text-align: right;\n",
       "    }\n",
       "\n",
       "    .dataframe thead th {\n",
       "        text-align: left;\n",
       "    }\n",
       "\n",
       "    .dataframe tbody tr th {\n",
       "        vertical-align: top;\n",
       "    }\n",
       "</style>\n",
       "<table border=\"1\" class=\"dataframe\">\n",
       "  <thead>\n",
       "    <tr>\n",
       "      <th></th>\n",
       "      <th colspan=\"8\" halign=\"left\">JobSatisfaction</th>\n",
       "    </tr>\n",
       "    <tr>\n",
       "      <th></th>\n",
       "      <th>count</th>\n",
       "      <th>mean</th>\n",
       "      <th>std</th>\n",
       "      <th>min</th>\n",
       "      <th>25%</th>\n",
       "      <th>50%</th>\n",
       "      <th>75%</th>\n",
       "      <th>max</th>\n",
       "    </tr>\n",
       "    <tr>\n",
       "      <th>FormalEducation</th>\n",
       "      <th></th>\n",
       "      <th></th>\n",
       "      <th></th>\n",
       "      <th></th>\n",
       "      <th></th>\n",
       "      <th></th>\n",
       "      <th></th>\n",
       "      <th></th>\n",
       "    </tr>\n",
       "  </thead>\n",
       "  <tbody>\n",
       "    <tr>\n",
       "      <th>Bachelor's degree</th>\n",
       "      <td>1622.0</td>\n",
       "      <td>6.557337</td>\n",
       "      <td>2.132294</td>\n",
       "      <td>1.0</td>\n",
       "      <td>5.0</td>\n",
       "      <td>7.0</td>\n",
       "      <td>8.0</td>\n",
       "      <td>10.0</td>\n",
       "    </tr>\n",
       "    <tr>\n",
       "      <th>Doctoral degree</th>\n",
       "      <td>1447.0</td>\n",
       "      <td>7.075328</td>\n",
       "      <td>2.161333</td>\n",
       "      <td>1.0</td>\n",
       "      <td>6.0</td>\n",
       "      <td>8.0</td>\n",
       "      <td>9.0</td>\n",
       "      <td>10.0</td>\n",
       "    </tr>\n",
       "    <tr>\n",
       "      <th>I did not complete any formal education past high school</th>\n",
       "      <td>41.0</td>\n",
       "      <td>6.902439</td>\n",
       "      <td>2.130785</td>\n",
       "      <td>2.0</td>\n",
       "      <td>6.0</td>\n",
       "      <td>7.0</td>\n",
       "      <td>8.0</td>\n",
       "      <td>10.0</td>\n",
       "    </tr>\n",
       "    <tr>\n",
       "      <th>Master's degree</th>\n",
       "      <td>2998.0</td>\n",
       "      <td>6.729153</td>\n",
       "      <td>2.127726</td>\n",
       "      <td>1.0</td>\n",
       "      <td>6.0</td>\n",
       "      <td>7.0</td>\n",
       "      <td>8.0</td>\n",
       "      <td>10.0</td>\n",
       "    </tr>\n",
       "    <tr>\n",
       "      <th>Professional degree</th>\n",
       "      <td>200.0</td>\n",
       "      <td>6.580000</td>\n",
       "      <td>2.238000</td>\n",
       "      <td>1.0</td>\n",
       "      <td>5.0</td>\n",
       "      <td>7.0</td>\n",
       "      <td>8.0</td>\n",
       "      <td>10.0</td>\n",
       "    </tr>\n",
       "    <tr>\n",
       "      <th>Some college/university study without earning a bachelor's degree</th>\n",
       "      <td>194.0</td>\n",
       "      <td>6.711340</td>\n",
       "      <td>2.190222</td>\n",
       "      <td>1.0</td>\n",
       "      <td>5.0</td>\n",
       "      <td>7.0</td>\n",
       "      <td>8.0</td>\n",
       "      <td>10.0</td>\n",
       "    </tr>\n",
       "  </tbody>\n",
       "</table>\n",
       "</div>"
      ],
      "text/plain": [
       "                                                   JobSatisfaction            \\\n",
       "                                                             count      mean   \n",
       "FormalEducation                                                                \n",
       "Bachelor's degree                                           1622.0  6.557337   \n",
       "Doctoral degree                                             1447.0  7.075328   \n",
       "I did not complete any formal education past hi...            41.0  6.902439   \n",
       "Master's degree                                             2998.0  6.729153   \n",
       "Professional degree                                          200.0  6.580000   \n",
       "Some college/university study without earning a...           194.0  6.711340   \n",
       "\n",
       "                                                                             \\\n",
       "                                                         std  min  25%  50%   \n",
       "FormalEducation                                                               \n",
       "Bachelor's degree                                   2.132294  1.0  5.0  7.0   \n",
       "Doctoral degree                                     2.161333  1.0  6.0  8.0   \n",
       "I did not complete any formal education past hi...  2.130785  2.0  6.0  7.0   \n",
       "Master's degree                                     2.127726  1.0  6.0  7.0   \n",
       "Professional degree                                 2.238000  1.0  5.0  7.0   \n",
       "Some college/university study without earning a...  2.190222  1.0  5.0  7.0   \n",
       "\n",
       "                                                               \n",
       "                                                    75%   max  \n",
       "FormalEducation                                                \n",
       "Bachelor's degree                                   8.0  10.0  \n",
       "Doctoral degree                                     9.0  10.0  \n",
       "I did not complete any formal education past hi...  8.0  10.0  \n",
       "Master's degree                                     8.0  10.0  \n",
       "Professional degree                                 8.0  10.0  \n",
       "Some college/university study without earning a...  8.0  10.0  "
      ]
     },
     "execution_count": 170,
     "metadata": {},
     "output_type": "execute_result"
    }
   ],
   "source": [
    "formal_education.groupby('FormalEducation').describe()"
   ]
  },
  {
   "cell_type": "code",
   "execution_count": 171,
   "metadata": {},
   "outputs": [],
   "source": [
    "formal_education['FormalEducation'] = formal_education['FormalEducation'].replace([\"Doctoral degree\", \"Master's degree\", \"Bachelor's degree\", \"Professional degree\", \"Some college/university study without earning a bachelor's degree\", \"I did not complete any formal education past high school\"], ['6', '5', '4', '3', '2', '1']).astype(int)"
   ]
  },
  {
   "cell_type": "code",
   "execution_count": 173,
   "metadata": {},
   "outputs": [
    {
     "name": "stdout",
     "output_type": "stream",
     "text": [
      "The correlation between JobSatisfaction and Age r: 0.0641447040005\n",
      "The correlation is statistically significant with a 95% C.I. as the p_value < 0.05: 2.2591291502e-07\n",
      "\n",
      "The correlation is not very large however, so the usefulness is questionable.\n"
     ]
    }
   ],
   "source": [
    "slope, intercept, r_value, p_value, std_err = linregress(formal_education['JobSatisfaction'],formal_education['FormalEducation'])\n",
    "print(\"The correlation between JobSatisfaction and Age r: \" + str(r_value))\n",
    "print(\"The correlation is statistically significant with a 95% C.I. as the p_value < 0.05: \" + str(p_value))\n",
    "print(\"\")\n",
    "print(\"The correlation is not very large however, so the usefulness is questionable.\")"
   ]
  },
  {
   "cell_type": "code",
   "execution_count": null,
   "metadata": {},
   "outputs": [],
   "source": []
  },
  {
   "cell_type": "markdown",
   "metadata": {},
   "source": [
    "# Current Job Title Select - NEEDS DOING"
   ]
  },
  {
   "cell_type": "code",
   "execution_count": 122,
   "metadata": {},
   "outputs": [],
   "source": [
    "current_job = clean_MC_data[['JobSatisfaction','CurrentJobTitleSelect']]"
   ]
  },
  {
   "cell_type": "code",
   "execution_count": 124,
   "metadata": {},
   "outputs": [
    {
     "data": {
      "text/plain": [
       "array(['DBA/Database Engineer', 'Operations Research Practitioner',\n",
       "       'Computer Scientist', 'Data Scientist', 'Business Analyst',\n",
       "       'Software Developer/Software Engineer', 'Researcher',\n",
       "       'Scientist/Researcher', 'Other', 'Data Analyst', 'Engineer',\n",
       "       'Machine Learning Engineer', 'Predictive Modeler', 'Programmer',\n",
       "       'Data Miner', 'Statistician', nan], dtype=object)"
      ]
     },
     "execution_count": 124,
     "metadata": {},
     "output_type": "execute_result"
    }
   ],
   "source": [
    "current_job['CurrentJobTitleSelect'].unique()"
   ]
  },
  {
   "cell_type": "code",
   "execution_count": 129,
   "metadata": {},
   "outputs": [],
   "source": [
    "current_job.dropna(inplace=True)"
   ]
  },
  {
   "cell_type": "code",
   "execution_count": 150,
   "metadata": {},
   "outputs": [
    {
     "data": {
      "text/html": [
       "<div>\n",
       "<style>\n",
       "    .dataframe thead tr:only-child th {\n",
       "        text-align: right;\n",
       "    }\n",
       "\n",
       "    .dataframe thead th {\n",
       "        text-align: left;\n",
       "    }\n",
       "\n",
       "    .dataframe tbody tr th {\n",
       "        vertical-align: top;\n",
       "    }\n",
       "</style>\n",
       "<table border=\"1\" class=\"dataframe\">\n",
       "  <thead>\n",
       "    <tr>\n",
       "      <th></th>\n",
       "      <th colspan=\"8\" halign=\"left\">JobSatisfaction</th>\n",
       "    </tr>\n",
       "    <tr>\n",
       "      <th></th>\n",
       "      <th>count</th>\n",
       "      <th>mean</th>\n",
       "      <th>std</th>\n",
       "      <th>min</th>\n",
       "      <th>25%</th>\n",
       "      <th>50%</th>\n",
       "      <th>75%</th>\n",
       "      <th>max</th>\n",
       "    </tr>\n",
       "    <tr>\n",
       "      <th>CurrentJobTitleSelect</th>\n",
       "      <th></th>\n",
       "      <th></th>\n",
       "      <th></th>\n",
       "      <th></th>\n",
       "      <th></th>\n",
       "      <th></th>\n",
       "      <th></th>\n",
       "      <th></th>\n",
       "    </tr>\n",
       "  </thead>\n",
       "  <tbody>\n",
       "    <tr>\n",
       "      <th>Business Analyst</th>\n",
       "      <td>367.0</td>\n",
       "      <td>6.212534</td>\n",
       "      <td>2.182533</td>\n",
       "      <td>1.0</td>\n",
       "      <td>5.0</td>\n",
       "      <td>7.0</td>\n",
       "      <td>8.0</td>\n",
       "      <td>10.0</td>\n",
       "    </tr>\n",
       "    <tr>\n",
       "      <th>Computer Scientist</th>\n",
       "      <td>175.0</td>\n",
       "      <td>6.760000</td>\n",
       "      <td>2.233393</td>\n",
       "      <td>1.0</td>\n",
       "      <td>6.0</td>\n",
       "      <td>7.0</td>\n",
       "      <td>8.0</td>\n",
       "      <td>10.0</td>\n",
       "    </tr>\n",
       "    <tr>\n",
       "      <th>DBA/Database Engineer</th>\n",
       "      <td>97.0</td>\n",
       "      <td>6.051546</td>\n",
       "      <td>2.468008</td>\n",
       "      <td>1.0</td>\n",
       "      <td>4.0</td>\n",
       "      <td>6.0</td>\n",
       "      <td>8.0</td>\n",
       "      <td>10.0</td>\n",
       "    </tr>\n",
       "    <tr>\n",
       "      <th>Data Analyst</th>\n",
       "      <td>716.0</td>\n",
       "      <td>6.261173</td>\n",
       "      <td>2.196679</td>\n",
       "      <td>1.0</td>\n",
       "      <td>5.0</td>\n",
       "      <td>7.0</td>\n",
       "      <td>8.0</td>\n",
       "      <td>10.0</td>\n",
       "    </tr>\n",
       "    <tr>\n",
       "      <th>Data Miner</th>\n",
       "      <td>63.0</td>\n",
       "      <td>6.682540</td>\n",
       "      <td>1.873632</td>\n",
       "      <td>1.0</td>\n",
       "      <td>6.0</td>\n",
       "      <td>7.0</td>\n",
       "      <td>8.0</td>\n",
       "      <td>10.0</td>\n",
       "    </tr>\n",
       "    <tr>\n",
       "      <th>Data Scientist</th>\n",
       "      <td>1807.0</td>\n",
       "      <td>7.221915</td>\n",
       "      <td>1.904418</td>\n",
       "      <td>1.0</td>\n",
       "      <td>6.0</td>\n",
       "      <td>7.0</td>\n",
       "      <td>8.0</td>\n",
       "      <td>10.0</td>\n",
       "    </tr>\n",
       "    <tr>\n",
       "      <th>Engineer</th>\n",
       "      <td>233.0</td>\n",
       "      <td>6.158798</td>\n",
       "      <td>2.241002</td>\n",
       "      <td>1.0</td>\n",
       "      <td>5.0</td>\n",
       "      <td>7.0</td>\n",
       "      <td>8.0</td>\n",
       "      <td>10.0</td>\n",
       "    </tr>\n",
       "    <tr>\n",
       "      <th>Machine Learning Engineer</th>\n",
       "      <td>396.0</td>\n",
       "      <td>7.202020</td>\n",
       "      <td>1.844484</td>\n",
       "      <td>1.0</td>\n",
       "      <td>6.0</td>\n",
       "      <td>7.0</td>\n",
       "      <td>8.0</td>\n",
       "      <td>10.0</td>\n",
       "    </tr>\n",
       "    <tr>\n",
       "      <th>Operations Research Practitioner</th>\n",
       "      <td>31.0</td>\n",
       "      <td>7.064516</td>\n",
       "      <td>1.896233</td>\n",
       "      <td>3.0</td>\n",
       "      <td>5.5</td>\n",
       "      <td>8.0</td>\n",
       "      <td>8.0</td>\n",
       "      <td>10.0</td>\n",
       "    </tr>\n",
       "    <tr>\n",
       "      <th>Other</th>\n",
       "      <td>532.0</td>\n",
       "      <td>6.721805</td>\n",
       "      <td>2.322747</td>\n",
       "      <td>1.0</td>\n",
       "      <td>5.0</td>\n",
       "      <td>7.0</td>\n",
       "      <td>8.0</td>\n",
       "      <td>10.0</td>\n",
       "    </tr>\n",
       "    <tr>\n",
       "      <th>Predictive Modeler</th>\n",
       "      <td>128.0</td>\n",
       "      <td>6.937500</td>\n",
       "      <td>2.010798</td>\n",
       "      <td>1.0</td>\n",
       "      <td>6.0</td>\n",
       "      <td>7.0</td>\n",
       "      <td>8.0</td>\n",
       "      <td>10.0</td>\n",
       "    </tr>\n",
       "    <tr>\n",
       "      <th>Programmer</th>\n",
       "      <td>142.0</td>\n",
       "      <td>5.640845</td>\n",
       "      <td>2.456260</td>\n",
       "      <td>1.0</td>\n",
       "      <td>4.0</td>\n",
       "      <td>6.0</td>\n",
       "      <td>7.0</td>\n",
       "      <td>10.0</td>\n",
       "    </tr>\n",
       "    <tr>\n",
       "      <th>Researcher</th>\n",
       "      <td>350.0</td>\n",
       "      <td>6.857143</td>\n",
       "      <td>2.108013</td>\n",
       "      <td>1.0</td>\n",
       "      <td>6.0</td>\n",
       "      <td>7.0</td>\n",
       "      <td>8.0</td>\n",
       "      <td>10.0</td>\n",
       "    </tr>\n",
       "    <tr>\n",
       "      <th>Scientist/Researcher</th>\n",
       "      <td>626.0</td>\n",
       "      <td>6.958466</td>\n",
       "      <td>2.205056</td>\n",
       "      <td>1.0</td>\n",
       "      <td>6.0</td>\n",
       "      <td>7.0</td>\n",
       "      <td>8.0</td>\n",
       "      <td>10.0</td>\n",
       "    </tr>\n",
       "    <tr>\n",
       "      <th>Software Developer/Software Engineer</th>\n",
       "      <td>683.0</td>\n",
       "      <td>6.408492</td>\n",
       "      <td>2.171203</td>\n",
       "      <td>1.0</td>\n",
       "      <td>5.0</td>\n",
       "      <td>7.0</td>\n",
       "      <td>8.0</td>\n",
       "      <td>10.0</td>\n",
       "    </tr>\n",
       "    <tr>\n",
       "      <th>Statistician</th>\n",
       "      <td>181.0</td>\n",
       "      <td>6.823204</td>\n",
       "      <td>2.261197</td>\n",
       "      <td>1.0</td>\n",
       "      <td>6.0</td>\n",
       "      <td>7.0</td>\n",
       "      <td>8.0</td>\n",
       "      <td>10.0</td>\n",
       "    </tr>\n",
       "  </tbody>\n",
       "</table>\n",
       "</div>"
      ],
      "text/plain": [
       "                                     JobSatisfaction                           \\\n",
       "                                               count      mean       std  min   \n",
       "CurrentJobTitleSelect                                                           \n",
       "Business Analyst                               367.0  6.212534  2.182533  1.0   \n",
       "Computer Scientist                             175.0  6.760000  2.233393  1.0   \n",
       "DBA/Database Engineer                           97.0  6.051546  2.468008  1.0   \n",
       "Data Analyst                                   716.0  6.261173  2.196679  1.0   \n",
       "Data Miner                                      63.0  6.682540  1.873632  1.0   \n",
       "Data Scientist                                1807.0  7.221915  1.904418  1.0   \n",
       "Engineer                                       233.0  6.158798  2.241002  1.0   \n",
       "Machine Learning Engineer                      396.0  7.202020  1.844484  1.0   \n",
       "Operations Research Practitioner                31.0  7.064516  1.896233  3.0   \n",
       "Other                                          532.0  6.721805  2.322747  1.0   \n",
       "Predictive Modeler                             128.0  6.937500  2.010798  1.0   \n",
       "Programmer                                     142.0  5.640845  2.456260  1.0   \n",
       "Researcher                                     350.0  6.857143  2.108013  1.0   \n",
       "Scientist/Researcher                           626.0  6.958466  2.205056  1.0   \n",
       "Software Developer/Software Engineer           683.0  6.408492  2.171203  1.0   \n",
       "Statistician                                   181.0  6.823204  2.261197  1.0   \n",
       "\n",
       "                                                           \n",
       "                                      25%  50%  75%   max  \n",
       "CurrentJobTitleSelect                                      \n",
       "Business Analyst                      5.0  7.0  8.0  10.0  \n",
       "Computer Scientist                    6.0  7.0  8.0  10.0  \n",
       "DBA/Database Engineer                 4.0  6.0  8.0  10.0  \n",
       "Data Analyst                          5.0  7.0  8.0  10.0  \n",
       "Data Miner                            6.0  7.0  8.0  10.0  \n",
       "Data Scientist                        6.0  7.0  8.0  10.0  \n",
       "Engineer                              5.0  7.0  8.0  10.0  \n",
       "Machine Learning Engineer             6.0  7.0  8.0  10.0  \n",
       "Operations Research Practitioner      5.5  8.0  8.0  10.0  \n",
       "Other                                 5.0  7.0  8.0  10.0  \n",
       "Predictive Modeler                    6.0  7.0  8.0  10.0  \n",
       "Programmer                            4.0  6.0  7.0  10.0  \n",
       "Researcher                            6.0  7.0  8.0  10.0  \n",
       "Scientist/Researcher                  6.0  7.0  8.0  10.0  \n",
       "Software Developer/Software Engineer  5.0  7.0  8.0  10.0  \n",
       "Statistician                          6.0  7.0  8.0  10.0  "
      ]
     },
     "execution_count": 150,
     "metadata": {},
     "output_type": "execute_result"
    }
   ],
   "source": [
    "current_job.groupby('CurrentJobTitleSelect').describe()"
   ]
  },
  {
   "cell_type": "code",
   "execution_count": null,
   "metadata": {},
   "outputs": [],
   "source": []
  },
  {
   "cell_type": "markdown",
   "metadata": {},
   "source": [
    "# Title Fit"
   ]
  },
  {
   "cell_type": "code",
   "execution_count": 137,
   "metadata": {},
   "outputs": [],
   "source": [
    "title_fit = clean_MC_data[['JobSatisfaction','TitleFit']].dropna(subset=['TitleFit'])"
   ]
  },
  {
   "cell_type": "code",
   "execution_count": 140,
   "metadata": {},
   "outputs": [
    {
     "data": {
      "text/plain": [
       "array(['Fine', 'Poorly', 'Perfectly'], dtype=object)"
      ]
     },
     "execution_count": 140,
     "metadata": {},
     "output_type": "execute_result"
    }
   ],
   "source": [
    "title_fit['TitleFit'].unique()"
   ]
  },
  {
   "cell_type": "code",
   "execution_count": 141,
   "metadata": {},
   "outputs": [
    {
     "data": {
      "text/plain": [
       "Fine         4185\n",
       "Perfectly    1335\n",
       "Poorly        887\n",
       "Name: TitleFit, dtype: int64"
      ]
     },
     "execution_count": 141,
     "metadata": {},
     "output_type": "execute_result"
    }
   ],
   "source": [
    "title_fit['TitleFit'].value_counts()"
   ]
  },
  {
   "cell_type": "code",
   "execution_count": 143,
   "metadata": {},
   "outputs": [
    {
     "data": {
      "image/png": "[encoded data removed]",
      "text/plain": [
       "<matplotlib.figure.Figure at 0x29d424c3e10>"
      ]
     },
     "metadata": {},
     "output_type": "display_data"
    }
   ],
   "source": [
    "plt.figure(figsize=(12,6))\n",
    "\n",
    "plt.subplot(2,2,1)\n",
    "sns.countplot(x=\"JobSatisfaction\", data=title_fit[title_fit[\"TitleFit\"] == \"Perfectly\"]).set_title('Perfectly')\n",
    "\n",
    "plt.subplot(2,2,2)\n",
    "sns.countplot(x=\"JobSatisfaction\", data=title_fit[title_fit[\"TitleFit\"] == \"Fine\"]).set_title('Fine')\n",
    "\n",
    "plt.subplot(2,2,3)\n",
    "sns.countplot(x=\"JobSatisfaction\", data=title_fit[title_fit[\"TitleFit\"] == \"Poorly\"]).set_title('Poorly')\n",
    "\n",
    "plt.tight_layout()\n",
    "plt.show()"
   ]
  },
  {
   "cell_type": "code",
   "execution_count": 151,
   "metadata": {},
   "outputs": [
    {
     "data": {
      "text/html": [
       "<div>\n",
       "<style>\n",
       "    .dataframe thead tr:only-child th {\n",
       "        text-align: right;\n",
       "    }\n",
       "\n",
       "    .dataframe thead th {\n",
       "        text-align: left;\n",
       "    }\n",
       "\n",
       "    .dataframe tbody tr th {\n",
       "        vertical-align: top;\n",
       "    }\n",
       "</style>\n",
       "<table border=\"1\" class=\"dataframe\">\n",
       "  <thead>\n",
       "    <tr>\n",
       "      <th></th>\n",
       "      <th colspan=\"8\" halign=\"left\">JobSatisfaction</th>\n",
       "    </tr>\n",
       "    <tr>\n",
       "      <th></th>\n",
       "      <th>count</th>\n",
       "      <th>mean</th>\n",
       "      <th>std</th>\n",
       "      <th>min</th>\n",
       "      <th>25%</th>\n",
       "      <th>50%</th>\n",
       "      <th>75%</th>\n",
       "      <th>max</th>\n",
       "    </tr>\n",
       "    <tr>\n",
       "      <th>TitleFit</th>\n",
       "      <th></th>\n",
       "      <th></th>\n",
       "      <th></th>\n",
       "      <th></th>\n",
       "      <th></th>\n",
       "      <th></th>\n",
       "      <th></th>\n",
       "      <th></th>\n",
       "    </tr>\n",
       "  </thead>\n",
       "  <tbody>\n",
       "    <tr>\n",
       "      <th>Fine</th>\n",
       "      <td>4185.0</td>\n",
       "      <td>6.756989</td>\n",
       "      <td>2.036701</td>\n",
       "      <td>1.0</td>\n",
       "      <td>6.0</td>\n",
       "      <td>7.0</td>\n",
       "      <td>8.0</td>\n",
       "      <td>10.0</td>\n",
       "    </tr>\n",
       "    <tr>\n",
       "      <th>Perfectly</th>\n",
       "      <td>1335.0</td>\n",
       "      <td>7.380524</td>\n",
       "      <td>2.105304</td>\n",
       "      <td>1.0</td>\n",
       "      <td>6.0</td>\n",
       "      <td>8.0</td>\n",
       "      <td>9.0</td>\n",
       "      <td>10.0</td>\n",
       "    </tr>\n",
       "    <tr>\n",
       "      <th>Poorly</th>\n",
       "      <td>887.0</td>\n",
       "      <td>5.906426</td>\n",
       "      <td>2.414038</td>\n",
       "      <td>1.0</td>\n",
       "      <td>4.0</td>\n",
       "      <td>6.0</td>\n",
       "      <td>8.0</td>\n",
       "      <td>10.0</td>\n",
       "    </tr>\n",
       "  </tbody>\n",
       "</table>\n",
       "</div>"
      ],
      "text/plain": [
       "          JobSatisfaction                                              \n",
       "                    count      mean       std  min  25%  50%  75%   max\n",
       "TitleFit                                                               \n",
       "Fine               4185.0  6.756989  2.036701  1.0  6.0  7.0  8.0  10.0\n",
       "Perfectly          1335.0  7.380524  2.105304  1.0  6.0  8.0  9.0  10.0\n",
       "Poorly              887.0  5.906426  2.414038  1.0  4.0  6.0  8.0  10.0"
      ]
     },
     "execution_count": 151,
     "metadata": {},
     "output_type": "execute_result"
    }
   ],
   "source": [
    "title_fit.groupby('TitleFit').describe()"
   ]
  },
  {
   "cell_type": "code",
   "execution_count": 152,
   "metadata": {},
   "outputs": [],
   "source": [
    "title_fit['TitleFit'] = title_fit['TitleFit'].replace(['Perfectly', 'Fine', 'Poorly'], ['3', '2', '1']).astype(int)"
   ]
  },
  {
   "cell_type": "code",
   "execution_count": 156,
   "metadata": {},
   "outputs": [
    {
     "name": "stdout",
     "output_type": "stream",
     "text": [
      "The correlation between JobSatisfaction and Age r: 0.1964144114\n",
      "The correlation is statistically significant with a 95% C.I. as the p_value < 0.05: 9.66456415782e-57\n",
      "\n",
      "The correlation is reasonable and would be a good candidate for improving the accuracy of a prediction model.\n"
     ]
    }
   ],
   "source": [
    "slope, intercept, r_value, p_value, std_err = linregress(title_fit['JobSatisfaction'],title_fit['TitleFit'])\n",
    "print(\"The correlation between JobSatisfaction and Age r: \" + str(r_value))\n",
    "print(\"The correlation is statistically significant with a 95% C.I. as the p_value < 0.05: \" + str(p_value))\n",
    "print(\"\")\n",
    "print(\"The correlation is reasonable and would be a good candidate for improving the accuracy of a prediction model.\")"
   ]
  },
  {
   "cell_type": "code",
   "execution_count": null,
   "metadata": {},
   "outputs": [],
   "source": []
  },
  {
   "cell_type": "markdown",
   "metadata": {},
   "source": [
    "# Employer Size"
   ]
  },
  {
   "cell_type": "code",
   "execution_count": 175,
   "metadata": {},
   "outputs": [],
   "source": [
    "employer_size = clean_MC_data[['JobSatisfaction', 'EmployerSize']].dropna()"
   ]
  },
  {
   "cell_type": "code",
   "execution_count": 178,
   "metadata": {},
   "outputs": [
    {
     "data": {
      "text/plain": [
       "array(['100 to 499 employees', '5,000 to 9,999 employees',\n",
       "       '500 to 999 employees', '10,000 or more employees',\n",
       "       '20 to 99 employees', 'Fewer than 10 employees', \"I don't know\",\n",
       "       '1,000 to 4,999 employees', '10 to 19 employees',\n",
       "       'I prefer not to answer'], dtype=object)"
      ]
     },
     "execution_count": 178,
     "metadata": {},
     "output_type": "execute_result"
    }
   ],
   "source": [
    "employer_size['EmployerSize'].unique()"
   ]
  },
  {
   "cell_type": "code",
   "execution_count": 179,
   "metadata": {},
   "outputs": [
    {
     "data": {
      "text/plain": [
       "10,000 or more employees    1299\n",
       "100 to 499 employees         995\n",
       "20 to 99 employees           921\n",
       "1,000 to 4,999 employees     869\n",
       "500 to 999 employees         471\n",
       "10 to 19 employees           378\n",
       "5,000 to 9,999 employees     354\n",
       "Fewer than 10 employees      347\n",
       "I don't know                 169\n",
       "I prefer not to answer        43\n",
       "Name: EmployerSize, dtype: int64"
      ]
     },
     "execution_count": 179,
     "metadata": {},
     "output_type": "execute_result"
    }
   ],
   "source": [
    "employer_size['EmployerSize'].value_counts()"
   ]
  },
  {
   "cell_type": "code",
   "execution_count": 180,
   "metadata": {},
   "outputs": [],
   "source": [
    "employer_size = employer_size[employer_size['EmployerSize'] != \"I don't know\"]\n",
    "employer_size = employer_size[employer_size['EmployerSize'] != \"I prefer not to answer\"]"
   ]
  },
  {
   "cell_type": "code",
   "execution_count": 181,
   "metadata": {},
   "outputs": [
    {
     "data": {
      "text/plain": [
       "10,000 or more employees    1299\n",
       "100 to 499 employees         995\n",
       "20 to 99 employees           921\n",
       "1,000 to 4,999 employees     869\n",
       "500 to 999 employees         471\n",
       "10 to 19 employees           378\n",
       "5,000 to 9,999 employees     354\n",
       "Fewer than 10 employees      347\n",
       "Name: EmployerSize, dtype: int64"
      ]
     },
     "execution_count": 181,
     "metadata": {},
     "output_type": "execute_result"
    }
   ],
   "source": [
    "employer_size['EmployerSize'].value_counts()"
   ]
  },
  {
   "cell_type": "code",
   "execution_count": 186,
   "metadata": {},
   "outputs": [
    {
     "data": {
      "text/plain": [
       "array(['100 to 499 employees', '5,000 to 9,999 employees',\n",
       "       '500 to 999 employees', '10,000 or more employees',\n",
       "       '20 to 99 employees', 'Fewer than 10 employees',\n",
       "       '1,000 to 4,999 employees', '10 to 19 employees'], dtype=object)"
      ]
     },
     "execution_count": 186,
     "metadata": {},
     "output_type": "execute_result"
    }
   ],
   "source": [
    "employer_size[\"EmployerSize\"].unique()"
   ]
  },
  {
   "cell_type": "code",
   "execution_count": 196,
   "metadata": {},
   "outputs": [],
   "source": [
    "employer_size[\"EmployerSize\"] = employer_size[\"EmployerSize\"].str.replace(',', '')"
   ]
  },
  {
   "cell_type": "code",
   "execution_count": 197,
   "metadata": {},
   "outputs": [
    {
     "data": {
      "text/plain": [
       "array(['100 to 499 employees', '5000 to 9999 employees',\n",
       "       '500 to 999 employees', '10000 or more employees',\n",
       "       '20 to 99 employees', 'Fewer than 10 employees',\n",
       "       '1000 to 4999 employees', '10 to 19 employees'], dtype=object)"
      ]
     },
     "execution_count": 197,
     "metadata": {},
     "output_type": "execute_result"
    }
   ],
   "source": [
    "employer_size[\"EmployerSize\"].unique()"
   ]
  },
  {
   "cell_type": "code",
   "execution_count": 198,
   "metadata": {},
   "outputs": [
    {
     "data": {
      "text/html": [
       "<div>\n",
       "<style>\n",
       "    .dataframe thead tr:only-child th {\n",
       "        text-align: right;\n",
       "    }\n",
       "\n",
       "    .dataframe thead th {\n",
       "        text-align: left;\n",
       "    }\n",
       "\n",
       "    .dataframe tbody tr th {\n",
       "        vertical-align: top;\n",
       "    }\n",
       "</style>\n",
       "<table border=\"1\" class=\"dataframe\">\n",
       "  <thead>\n",
       "    <tr style=\"text-align: right;\">\n",
       "      <th>JobSatisfaction</th>\n",
       "      <th>1</th>\n",
       "      <th>10</th>\n",
       "      <th>2</th>\n",
       "      <th>3</th>\n",
       "      <th>4</th>\n",
       "      <th>5</th>\n",
       "      <th>6</th>\n",
       "      <th>7</th>\n",
       "      <th>8</th>\n",
       "      <th>9</th>\n",
       "    </tr>\n",
       "    <tr>\n",
       "      <th>EmployerSize</th>\n",
       "      <th></th>\n",
       "      <th></th>\n",
       "      <th></th>\n",
       "      <th></th>\n",
       "      <th></th>\n",
       "      <th></th>\n",
       "      <th></th>\n",
       "      <th></th>\n",
       "      <th></th>\n",
       "      <th></th>\n",
       "    </tr>\n",
       "  </thead>\n",
       "  <tbody>\n",
       "    <tr>\n",
       "      <th>10 to 19 employees</th>\n",
       "      <td>13</td>\n",
       "      <td>27</td>\n",
       "      <td>5</td>\n",
       "      <td>23</td>\n",
       "      <td>9</td>\n",
       "      <td>37</td>\n",
       "      <td>54</td>\n",
       "      <td>93</td>\n",
       "      <td>77</td>\n",
       "      <td>40</td>\n",
       "    </tr>\n",
       "    <tr>\n",
       "      <th>100 to 499 employees</th>\n",
       "      <td>26</td>\n",
       "      <td>70</td>\n",
       "      <td>16</td>\n",
       "      <td>62</td>\n",
       "      <td>56</td>\n",
       "      <td>96</td>\n",
       "      <td>112</td>\n",
       "      <td>229</td>\n",
       "      <td>217</td>\n",
       "      <td>111</td>\n",
       "    </tr>\n",
       "    <tr>\n",
       "      <th>1000 to 4999 employees</th>\n",
       "      <td>22</td>\n",
       "      <td>61</td>\n",
       "      <td>13</td>\n",
       "      <td>43</td>\n",
       "      <td>53</td>\n",
       "      <td>77</td>\n",
       "      <td>97</td>\n",
       "      <td>208</td>\n",
       "      <td>199</td>\n",
       "      <td>96</td>\n",
       "    </tr>\n",
       "    <tr>\n",
       "      <th>10000 or more employees</th>\n",
       "      <td>42</td>\n",
       "      <td>105</td>\n",
       "      <td>28</td>\n",
       "      <td>82</td>\n",
       "      <td>80</td>\n",
       "      <td>131</td>\n",
       "      <td>152</td>\n",
       "      <td>291</td>\n",
       "      <td>277</td>\n",
       "      <td>111</td>\n",
       "    </tr>\n",
       "    <tr>\n",
       "      <th>20 to 99 employees</th>\n",
       "      <td>13</td>\n",
       "      <td>71</td>\n",
       "      <td>19</td>\n",
       "      <td>54</td>\n",
       "      <td>54</td>\n",
       "      <td>71</td>\n",
       "      <td>126</td>\n",
       "      <td>193</td>\n",
       "      <td>207</td>\n",
       "      <td>113</td>\n",
       "    </tr>\n",
       "    <tr>\n",
       "      <th>500 to 999 employees</th>\n",
       "      <td>17</td>\n",
       "      <td>34</td>\n",
       "      <td>8</td>\n",
       "      <td>25</td>\n",
       "      <td>25</td>\n",
       "      <td>52</td>\n",
       "      <td>55</td>\n",
       "      <td>99</td>\n",
       "      <td>100</td>\n",
       "      <td>56</td>\n",
       "    </tr>\n",
       "    <tr>\n",
       "      <th>5000 to 9999 employees</th>\n",
       "      <td>12</td>\n",
       "      <td>34</td>\n",
       "      <td>6</td>\n",
       "      <td>24</td>\n",
       "      <td>21</td>\n",
       "      <td>31</td>\n",
       "      <td>41</td>\n",
       "      <td>75</td>\n",
       "      <td>72</td>\n",
       "      <td>38</td>\n",
       "    </tr>\n",
       "    <tr>\n",
       "      <th>Fewer than 10 employees</th>\n",
       "      <td>11</td>\n",
       "      <td>44</td>\n",
       "      <td>6</td>\n",
       "      <td>14</td>\n",
       "      <td>17</td>\n",
       "      <td>34</td>\n",
       "      <td>32</td>\n",
       "      <td>72</td>\n",
       "      <td>71</td>\n",
       "      <td>46</td>\n",
       "    </tr>\n",
       "  </tbody>\n",
       "</table>\n",
       "</div>"
      ],
      "text/plain": [
       "JobSatisfaction           1   10   2   3   4    5    6    7    8    9\n",
       "EmployerSize                                                         \n",
       "10 to 19 employees       13   27   5  23   9   37   54   93   77   40\n",
       "100 to 499 employees     26   70  16  62  56   96  112  229  217  111\n",
       "1000 to 4999 employees   22   61  13  43  53   77   97  208  199   96\n",
       "10000 or more employees  42  105  28  82  80  131  152  291  277  111\n",
       "20 to 99 employees       13   71  19  54  54   71  126  193  207  113\n",
       "500 to 999 employees     17   34   8  25  25   52   55   99  100   56\n",
       "5000 to 9999 employees   12   34   6  24  21   31   41   75   72   38\n",
       "Fewer than 10 employees  11   44   6  14  17   34   32   72   71   46"
      ]
     },
     "execution_count": 198,
     "metadata": {},
     "output_type": "execute_result"
    }
   ],
   "source": [
    "employer_size_crosstab = pd.crosstab(index=employer_size[\"EmployerSize\"],\n",
    "                                columns=employer_size[\"JobSatisfaction\"])\n",
    "employer_size_crosstab"
   ]
  },
  {
   "cell_type": "code",
   "execution_count": null,
   "metadata": {},
   "outputs": [],
   "source": []
  },
  {
   "cell_type": "code",
   "execution_count": 23,
   "metadata": {},
   "outputs": [
    {
     "data": {
      "text/plain": [
       "array(['Build prototypes to explore applying machine learning to new areas',\n",
       "       'Analyze and understand data to influence product or business decisions',\n",
       "       'Research that advances the state of the art of machine learning',\n",
       "       'Build and/or run the data infrastructure that your business uses for storing, analyzing, and operationalizing data',\n",
       "       'Build and/or run a machine learning service that operationally improves your product or workflows',\n",
       "       nan, 'Other'], dtype=object)"
      ]
     },
     "execution_count": 23,
     "metadata": {},
     "output_type": "execute_result"
    }
   ],
   "source": [
    "clean_MC_data['JobFunctionSelect'].unique()"
   ]
  },
  {
   "cell_type": "code",
   "execution_count": 24,
   "metadata": {},
   "outputs": [
    {
     "data": {
      "text/html": [
       "<div>\n",
       "<style>\n",
       "    .dataframe thead tr:only-child th {\n",
       "        text-align: right;\n",
       "    }\n",
       "\n",
       "    .dataframe thead th {\n",
       "        text-align: left;\n",
       "    }\n",
       "\n",
       "    .dataframe tbody tr th {\n",
       "        vertical-align: top;\n",
       "    }\n",
       "</style>\n",
       "<table border=\"1\" class=\"dataframe\">\n",
       "  <thead>\n",
       "    <tr style=\"text-align: right;\">\n",
       "      <th></th>\n",
       "      <th>TimeGatheringData</th>\n",
       "      <th>TimeModelBuilding</th>\n",
       "      <th>TimeProduction</th>\n",
       "      <th>TimeVisualizing</th>\n",
       "      <th>TimeFindingInsights</th>\n",
       "      <th>TimeOtherSelect</th>\n",
       "    </tr>\n",
       "  </thead>\n",
       "  <tbody>\n",
       "    <tr>\n",
       "      <th>11261</th>\n",
       "      <td>20.0</td>\n",
       "      <td>20.0</td>\n",
       "      <td>20.0</td>\n",
       "      <td>20.0</td>\n",
       "      <td>20.0</td>\n",
       "      <td>0.0</td>\n",
       "    </tr>\n",
       "    <tr>\n",
       "      <th>4888</th>\n",
       "      <td>10.0</td>\n",
       "      <td>70.0</td>\n",
       "      <td>10.0</td>\n",
       "      <td>10.0</td>\n",
       "      <td>0.0</td>\n",
       "      <td>0.0</td>\n",
       "    </tr>\n",
       "    <tr>\n",
       "      <th>13627</th>\n",
       "      <td>20.0</td>\n",
       "      <td>40.0</td>\n",
       "      <td>10.0</td>\n",
       "      <td>10.0</td>\n",
       "      <td>20.0</td>\n",
       "      <td>0.0</td>\n",
       "    </tr>\n",
       "    <tr>\n",
       "      <th>3799</th>\n",
       "      <td>70.0</td>\n",
       "      <td>10.0</td>\n",
       "      <td>5.0</td>\n",
       "      <td>10.0</td>\n",
       "      <td>5.0</td>\n",
       "      <td>0.0</td>\n",
       "    </tr>\n",
       "    <tr>\n",
       "      <th>12955</th>\n",
       "      <td>20.0</td>\n",
       "      <td>70.0</td>\n",
       "      <td>10.0</td>\n",
       "      <td>0.0</td>\n",
       "      <td>0.0</td>\n",
       "      <td>0.0</td>\n",
       "    </tr>\n",
       "    <tr>\n",
       "      <th>14262</th>\n",
       "      <td>30.0</td>\n",
       "      <td>25.0</td>\n",
       "      <td>15.0</td>\n",
       "      <td>10.0</td>\n",
       "      <td>20.0</td>\n",
       "      <td>0.0</td>\n",
       "    </tr>\n",
       "    <tr>\n",
       "      <th>11155</th>\n",
       "      <td>15.0</td>\n",
       "      <td>35.0</td>\n",
       "      <td>0.0</td>\n",
       "      <td>15.0</td>\n",
       "      <td>35.0</td>\n",
       "      <td>0.0</td>\n",
       "    </tr>\n",
       "    <tr>\n",
       "      <th>5132</th>\n",
       "      <td>45.0</td>\n",
       "      <td>20.0</td>\n",
       "      <td>5.0</td>\n",
       "      <td>10.0</td>\n",
       "      <td>20.0</td>\n",
       "      <td>0.0</td>\n",
       "    </tr>\n",
       "    <tr>\n",
       "      <th>7272</th>\n",
       "      <td>20.0</td>\n",
       "      <td>10.0</td>\n",
       "      <td>40.0</td>\n",
       "      <td>30.0</td>\n",
       "      <td>0.0</td>\n",
       "      <td>0.0</td>\n",
       "    </tr>\n",
       "    <tr>\n",
       "      <th>9972</th>\n",
       "      <td>60.0</td>\n",
       "      <td>20.0</td>\n",
       "      <td>0.0</td>\n",
       "      <td>20.0</td>\n",
       "      <td>0.0</td>\n",
       "      <td>0.0</td>\n",
       "    </tr>\n",
       "  </tbody>\n",
       "</table>\n",
       "</div>"
      ],
      "text/plain": [
       "       TimeGatheringData  TimeModelBuilding  TimeProduction  TimeVisualizing  \\\n",
       "11261               20.0               20.0            20.0             20.0   \n",
       "4888                10.0               70.0            10.0             10.0   \n",
       "13627               20.0               40.0            10.0             10.0   \n",
       "3799                70.0               10.0             5.0             10.0   \n",
       "12955               20.0               70.0            10.0              0.0   \n",
       "14262               30.0               25.0            15.0             10.0   \n",
       "11155               15.0               35.0             0.0             15.0   \n",
       "5132                45.0               20.0             5.0             10.0   \n",
       "7272                20.0               10.0            40.0             30.0   \n",
       "9972                60.0               20.0             0.0             20.0   \n",
       "\n",
       "       TimeFindingInsights  TimeOtherSelect  \n",
       "11261                 20.0              0.0  \n",
       "4888                   0.0              0.0  \n",
       "13627                 20.0              0.0  \n",
       "3799                   5.0              0.0  \n",
       "12955                  0.0              0.0  \n",
       "14262                 20.0              0.0  \n",
       "11155                 35.0              0.0  \n",
       "5132                  20.0              0.0  \n",
       "7272                   0.0              0.0  \n",
       "9972                   0.0              0.0  "
      ]
     },
     "execution_count": 24,
     "metadata": {},
     "output_type": "execute_result"
    }
   ],
   "source": [
    "clean_MC_data[['TimeGatheringData','TimeModelBuilding','TimeProduction','TimeVisualizing','TimeFindingInsights','TimeOtherSelect']].sample(10)"
   ]
  },
  {
   "cell_type": "markdown",
   "metadata": {},
   "source": [
    "# What barriers or issues effect job satisfaction?\n",
    "\n",
    "# Do certain variables effect job satisfaction more than others and therefore require more attention?\n",
    "\n",
    "# Do these variables effect job satisfaction differently depending on the demographics of the individual?\n",
    "\n",
    "# Can a model be created from the survey data to predict job satisfaction?\n",
    "\n",
    "# How accurate is the model in predicting job satisfaction, given certain parameters?\n"
   ]
  },
  {
   "cell_type": "code",
   "execution_count": 25,
   "metadata": {},
   "outputs": [
    {
     "name": "stdout",
     "output_type": "stream",
     "text": [
      "<class 'pandas.core.frame.DataFrame'>\n",
      "Int64Index: 6529 entries, 0 to 16712\n",
      "Columns: 228 entries, GenderSelect to JobFactorPublishingOpportunity\n",
      "dtypes: float64(13), int32(1), object(214)\n",
      "memory usage: 11.7+ MB\n"
     ]
    }
   ],
   "source": [
    "clean_MC_data.info()"
   ]
  },
  {
   "cell_type": "code",
   "execution_count": 26,
   "metadata": {},
   "outputs": [
    {
     "data": {
      "text/plain": [
       "Index(['GenderSelect', 'Country', 'Age', 'EmploymentStatus', 'StudentStatus',\n",
       "       'LearningDataScience', 'CodeWriter', 'CareerSwitcher',\n",
       "       'CurrentJobTitleSelect', 'TitleFit',\n",
       "       ...\n",
       "       'JobFactorExperienceLevel', 'JobFactorDepartment', 'JobFactorTitle',\n",
       "       'JobFactorCompanyFunding', 'JobFactorImpact', 'JobFactorRemote',\n",
       "       'JobFactorIndustry', 'JobFactorLeaderReputation', 'JobFactorDiversity',\n",
       "       'JobFactorPublishingOpportunity'],\n",
       "      dtype='object', length=228)"
      ]
     },
     "execution_count": 26,
     "metadata": {},
     "output_type": "execute_result"
    }
   ],
   "source": [
    "clean_MC_data.columns"
   ]
  },
  {
   "cell_type": "code",
   "execution_count": null,
   "metadata": {},
   "outputs": [],
   "source": []
  },
  {
   "cell_type": "code",
   "execution_count": 27,
   "metadata": {},
   "outputs": [
    {
     "data": {
      "text/plain": [
       "0     5\n",
       "3    10\n",
       "4     2\n",
       "5     8\n",
       "6     8\n",
       "Name: JobSatisfaction, dtype: int32"
      ]
     },
     "execution_count": 27,
     "metadata": {},
     "output_type": "execute_result"
    }
   ],
   "source": [
    "clean_MC_data['JobSatisfaction'].head()"
   ]
  },
  {
   "cell_type": "code",
   "execution_count": 28,
   "metadata": {},
   "outputs": [
    {
     "data": {
      "text/plain": [
       "7     1448\n",
       "8     1427\n",
       "6      765\n",
       "9      677\n",
       "5      627\n",
       "10     589\n",
       "3      358\n",
       "4      354\n",
       "1      167\n",
       "2      117\n",
       "Name: JobSatisfaction, dtype: int64"
      ]
     },
     "execution_count": 28,
     "metadata": {},
     "output_type": "execute_result"
    }
   ],
   "source": [
    "clean_MC_data['JobSatisfaction'].value_counts()"
   ]
  },
  {
   "cell_type": "code",
   "execution_count": 29,
   "metadata": {},
   "outputs": [
    {
     "data": {
      "text/plain": [
       "0        NaN\n",
       "3    250,000\n",
       "4        NaN\n",
       "5        NaN\n",
       "6        NaN\n",
       "Name: CompensationAmount, dtype: object"
      ]
     },
     "execution_count": 29,
     "metadata": {},
     "output_type": "execute_result"
    }
   ],
   "source": [
    "clean_MC_data['CompensationAmount'].head()"
   ]
  },
  {
   "cell_type": "code",
   "execution_count": 30,
   "metadata": {},
   "outputs": [
    {
     "data": {
      "text/html": [
       "<div>\n",
       "<style>\n",
       "    .dataframe thead tr:only-child th {\n",
       "        text-align: right;\n",
       "    }\n",
       "\n",
       "    .dataframe thead th {\n",
       "        text-align: left;\n",
       "    }\n",
       "\n",
       "    .dataframe tbody tr th {\n",
       "        vertical-align: top;\n",
       "    }\n",
       "</style>\n",
       "<table border=\"1\" class=\"dataframe\">\n",
       "  <thead>\n",
       "    <tr style=\"text-align: right;\">\n",
       "      <th></th>\n",
       "      <th>JobSatisfaction</th>\n",
       "    </tr>\n",
       "  </thead>\n",
       "  <tbody>\n",
       "    <tr>\n",
       "      <th>JobSatisfaction</th>\n",
       "      <td>1.0</td>\n",
       "    </tr>\n",
       "  </tbody>\n",
       "</table>\n",
       "</div>"
      ],
      "text/plain": [
       "                 JobSatisfaction\n",
       "JobSatisfaction              1.0"
      ]
     },
     "execution_count": 30,
     "metadata": {},
     "output_type": "execute_result"
    }
   ],
   "source": [
    "clean_MC_data[['JobSatisfaction','CompensationAmount']].corr()"
   ]
  },
  {
   "cell_type": "code",
   "execution_count": 31,
   "metadata": {},
   "outputs": [],
   "source": [
    "def binning(col, cut_points, labels=None):\n",
    "  #Define min and max values:\n",
    "  minval = col.min()\n",
    "  maxval = col.max()\n",
    "\n",
    "  #create list by adding min and max to cut_points\n",
    "  break_points = [minval] + cut_points + [maxval]\n",
    "\n",
    "  #if no labels provided, use default labels 0 ... (n-1)\n",
    "  if not labels:\n",
    "    labels = range(len(cut_points)+1)\n",
    "\n",
    "  #Binning using cut function of pandas\n",
    "  colBin = pd.cut(col,bins=break_points,labels=labels,include_lowest=True)\n",
    "  return colBin"
   ]
  },
  {
   "cell_type": "code",
   "execution_count": 32,
   "metadata": {
    "scrolled": true
   },
   "outputs": [
    {
     "data": {
      "text/plain": [
       "1    4906\n",
       "0    1623\n",
       "Name: JobSatisfaction_binned, dtype: int64"
      ]
     },
     "execution_count": 32,
     "metadata": {},
     "output_type": "execute_result"
    }
   ],
   "source": [
    "binary_data = clean_MC_data\n",
    "cut_points = [5]\n",
    "labels=['0','1']\n",
    "binary_data['JobSatisfaction_binned'] = binning(binary_data['JobSatisfaction'], cut_points, labels)\n",
    "\n",
    "binary_data['JobSatisfaction_binned'].value_counts()"
   ]
  },
  {
   "cell_type": "markdown",
   "metadata": {},
   "source": [
    "Question 1) What barriers or issues effect job satisfaction?\n",
    "\n",
    "In order to answer this we need to create a dataframe with the required columns, then we can do some clean-up and EDA"
   ]
  },
  {
   "cell_type": "code",
   "execution_count": 33,
   "metadata": {},
   "outputs": [],
   "source": [
    "# question1 = binary_data[['JobSatisfaction', 'WorkChallengesSelect', 'WorkChallengeFrequencyPolitics', 'WorkChallengeFrequencyUnusedResults', 'WorkChallengeFrequencyUnusefulInstrumenting', 'WorkChallengeFrequencyDeployment', 'WorkChallengeFrequencyDirtyData', 'WorkChallengeFrequencyExplaining', 'WorkChallengeFrequencyPass', 'WorkChallengeFrequencyIntegration', 'WorkChallengeFrequencyTalent', 'WorkChallengeFrequencyDataFunds', 'WorkChallengeFrequencyDomainExpertise', 'WorkChallengeFrequencyML', 'WorkChallengeFrequencyTools', 'WorkChallengeFrequencyExpectations', 'WorkChallengeFrequencyITCoordination', 'WorkChallengeFrequencyHiringFunds', 'WorkChallengeFrequencyPrivacy', 'WorkChallengeFrequencyScaling', 'WorkChallengeFrequencyEnvironments', 'WorkChallengeFrequencyClarity', 'WorkChallengeFrequencyDataAccess', 'WorkChallengeFrequencyOtherSelect']]\n",
    "question1 = binary_data[['JobSatisfaction', 'WorkChallengeFrequencyPolitics', 'WorkChallengeFrequencyUnusedResults', 'WorkChallengeFrequencyUnusefulInstrumenting', 'WorkChallengeFrequencyDeployment', 'WorkChallengeFrequencyDirtyData', 'WorkChallengeFrequencyExplaining', 'WorkChallengeFrequencyPass', 'WorkChallengeFrequencyIntegration', 'WorkChallengeFrequencyTalent', 'WorkChallengeFrequencyDataFunds', 'WorkChallengeFrequencyDomainExpertise', 'WorkChallengeFrequencyML', 'WorkChallengeFrequencyTools', 'WorkChallengeFrequencyExpectations', 'WorkChallengeFrequencyITCoordination', 'WorkChallengeFrequencyHiringFunds', 'WorkChallengeFrequencyPrivacy', 'WorkChallengeFrequencyScaling', 'WorkChallengeFrequencyEnvironments', 'WorkChallengeFrequencyClarity', 'WorkChallengeFrequencyDataAccess', 'WorkChallengeFrequencyOtherSelect']]"
   ]
  },
  {
   "cell_type": "code",
   "execution_count": 34,
   "metadata": {},
   "outputs": [
    {
     "data": {
      "text/html": [
       "<div>\n",
       "<style>\n",
       "    .dataframe thead tr:only-child th {\n",
       "        text-align: right;\n",
       "    }\n",
       "\n",
       "    .dataframe thead th {\n",
       "        text-align: left;\n",
       "    }\n",
       "\n",
       "    .dataframe tbody tr th {\n",
       "        vertical-align: top;\n",
       "    }\n",
       "</style>\n",
       "<table border=\"1\" class=\"dataframe\">\n",
       "  <thead>\n",
       "    <tr style=\"text-align: right;\">\n",
       "      <th></th>\n",
       "      <th>JobSatisfaction</th>\n",
       "      <th>WorkChallengeFrequencyPolitics</th>\n",
       "      <th>WorkChallengeFrequencyUnusedResults</th>\n",
       "      <th>WorkChallengeFrequencyUnusefulInstrumenting</th>\n",
       "      <th>WorkChallengeFrequencyDeployment</th>\n",
       "      <th>WorkChallengeFrequencyDirtyData</th>\n",
       "      <th>WorkChallengeFrequencyExplaining</th>\n",
       "      <th>WorkChallengeFrequencyPass</th>\n",
       "      <th>WorkChallengeFrequencyIntegration</th>\n",
       "      <th>WorkChallengeFrequencyTalent</th>\n",
       "      <th>...</th>\n",
       "      <th>WorkChallengeFrequencyTools</th>\n",
       "      <th>WorkChallengeFrequencyExpectations</th>\n",
       "      <th>WorkChallengeFrequencyITCoordination</th>\n",
       "      <th>WorkChallengeFrequencyHiringFunds</th>\n",
       "      <th>WorkChallengeFrequencyPrivacy</th>\n",
       "      <th>WorkChallengeFrequencyScaling</th>\n",
       "      <th>WorkChallengeFrequencyEnvironments</th>\n",
       "      <th>WorkChallengeFrequencyClarity</th>\n",
       "      <th>WorkChallengeFrequencyDataAccess</th>\n",
       "      <th>WorkChallengeFrequencyOtherSelect</th>\n",
       "    </tr>\n",
       "  </thead>\n",
       "  <tbody>\n",
       "    <tr>\n",
       "      <th>0</th>\n",
       "      <td>5</td>\n",
       "      <td>Rarely</td>\n",
       "      <td>NaN</td>\n",
       "      <td>NaN</td>\n",
       "      <td>NaN</td>\n",
       "      <td>NaN</td>\n",
       "      <td>NaN</td>\n",
       "      <td>NaN</td>\n",
       "      <td>NaN</td>\n",
       "      <td>NaN</td>\n",
       "      <td>...</td>\n",
       "      <td>NaN</td>\n",
       "      <td>NaN</td>\n",
       "      <td>NaN</td>\n",
       "      <td>NaN</td>\n",
       "      <td>Often</td>\n",
       "      <td>Most of the time</td>\n",
       "      <td>NaN</td>\n",
       "      <td>NaN</td>\n",
       "      <td>NaN</td>\n",
       "      <td>NaN</td>\n",
       "    </tr>\n",
       "    <tr>\n",
       "      <th>3</th>\n",
       "      <td>10</td>\n",
       "      <td>Often</td>\n",
       "      <td>Often</td>\n",
       "      <td>Often</td>\n",
       "      <td>Often</td>\n",
       "      <td>Often</td>\n",
       "      <td>Often</td>\n",
       "      <td>NaN</td>\n",
       "      <td>Often</td>\n",
       "      <td>Often</td>\n",
       "      <td>...</td>\n",
       "      <td>Often</td>\n",
       "      <td>Often</td>\n",
       "      <td>NaN</td>\n",
       "      <td>Often</td>\n",
       "      <td>Often</td>\n",
       "      <td>Often</td>\n",
       "      <td>Often</td>\n",
       "      <td>Often</td>\n",
       "      <td>Often</td>\n",
       "      <td>NaN</td>\n",
       "    </tr>\n",
       "    <tr>\n",
       "      <th>4</th>\n",
       "      <td>2</td>\n",
       "      <td>Often</td>\n",
       "      <td>Sometimes</td>\n",
       "      <td>NaN</td>\n",
       "      <td>NaN</td>\n",
       "      <td>NaN</td>\n",
       "      <td>NaN</td>\n",
       "      <td>NaN</td>\n",
       "      <td>NaN</td>\n",
       "      <td>Sometimes</td>\n",
       "      <td>...</td>\n",
       "      <td>NaN</td>\n",
       "      <td>NaN</td>\n",
       "      <td>Sometimes</td>\n",
       "      <td>NaN</td>\n",
       "      <td>Most of the time</td>\n",
       "      <td>NaN</td>\n",
       "      <td>Sometimes</td>\n",
       "      <td>NaN</td>\n",
       "      <td>NaN</td>\n",
       "      <td>NaN</td>\n",
       "    </tr>\n",
       "    <tr>\n",
       "      <th>5</th>\n",
       "      <td>8</td>\n",
       "      <td>NaN</td>\n",
       "      <td>NaN</td>\n",
       "      <td>NaN</td>\n",
       "      <td>NaN</td>\n",
       "      <td>Most of the time</td>\n",
       "      <td>NaN</td>\n",
       "      <td>NaN</td>\n",
       "      <td>NaN</td>\n",
       "      <td>NaN</td>\n",
       "      <td>...</td>\n",
       "      <td>NaN</td>\n",
       "      <td>NaN</td>\n",
       "      <td>NaN</td>\n",
       "      <td>NaN</td>\n",
       "      <td>NaN</td>\n",
       "      <td>NaN</td>\n",
       "      <td>NaN</td>\n",
       "      <td>NaN</td>\n",
       "      <td>NaN</td>\n",
       "      <td>NaN</td>\n",
       "    </tr>\n",
       "    <tr>\n",
       "      <th>6</th>\n",
       "      <td>8</td>\n",
       "      <td>NaN</td>\n",
       "      <td>NaN</td>\n",
       "      <td>NaN</td>\n",
       "      <td>NaN</td>\n",
       "      <td>NaN</td>\n",
       "      <td>NaN</td>\n",
       "      <td>NaN</td>\n",
       "      <td>NaN</td>\n",
       "      <td>NaN</td>\n",
       "      <td>...</td>\n",
       "      <td>NaN</td>\n",
       "      <td>NaN</td>\n",
       "      <td>NaN</td>\n",
       "      <td>NaN</td>\n",
       "      <td>NaN</td>\n",
       "      <td>NaN</td>\n",
       "      <td>NaN</td>\n",
       "      <td>NaN</td>\n",
       "      <td>NaN</td>\n",
       "      <td>NaN</td>\n",
       "    </tr>\n",
       "  </tbody>\n",
       "</table>\n",
       "<p>5 rows × 23 columns</p>\n",
       "</div>"
      ],
      "text/plain": [
       "   JobSatisfaction WorkChallengeFrequencyPolitics  \\\n",
       "0                5                         Rarely   \n",
       "3               10                          Often   \n",
       "4                2                          Often   \n",
       "5                8                            NaN   \n",
       "6                8                            NaN   \n",
       "\n",
       "  WorkChallengeFrequencyUnusedResults  \\\n",
       "0                                 NaN   \n",
       "3                               Often   \n",
       "4                           Sometimes   \n",
       "5                                 NaN   \n",
       "6                                 NaN   \n",
       "\n",
       "  WorkChallengeFrequencyUnusefulInstrumenting  \\\n",
       "0                                         NaN   \n",
       "3                                       Often   \n",
       "4                                         NaN   \n",
       "5                                         NaN   \n",
       "6                                         NaN   \n",
       "\n",
       "  WorkChallengeFrequencyDeployment WorkChallengeFrequencyDirtyData  \\\n",
       "0                              NaN                             NaN   \n",
       "3                            Often                           Often   \n",
       "4                              NaN                             NaN   \n",
       "5                              NaN                Most of the time   \n",
       "6                              NaN                             NaN   \n",
       "\n",
       "  WorkChallengeFrequencyExplaining WorkChallengeFrequencyPass  \\\n",
       "0                              NaN                        NaN   \n",
       "3                            Often                        NaN   \n",
       "4                              NaN                        NaN   \n",
       "5                              NaN                        NaN   \n",
       "6                              NaN                        NaN   \n",
       "\n",
       "  WorkChallengeFrequencyIntegration WorkChallengeFrequencyTalent  \\\n",
       "0                               NaN                          NaN   \n",
       "3                             Often                        Often   \n",
       "4                               NaN                    Sometimes   \n",
       "5                               NaN                          NaN   \n",
       "6                               NaN                          NaN   \n",
       "\n",
       "                 ...                WorkChallengeFrequencyTools  \\\n",
       "0                ...                                        NaN   \n",
       "3                ...                                      Often   \n",
       "4                ...                                        NaN   \n",
       "5                ...                                        NaN   \n",
       "6                ...                                        NaN   \n",
       "\n",
       "  WorkChallengeFrequencyExpectations WorkChallengeFrequencyITCoordination  \\\n",
       "0                                NaN                                  NaN   \n",
       "3                              Often                                  NaN   \n",
       "4                                NaN                            Sometimes   \n",
       "5                                NaN                                  NaN   \n",
       "6                                NaN                                  NaN   \n",
       "\n",
       "  WorkChallengeFrequencyHiringFunds WorkChallengeFrequencyPrivacy  \\\n",
       "0                               NaN                         Often   \n",
       "3                             Often                         Often   \n",
       "4                               NaN              Most of the time   \n",
       "5                               NaN                           NaN   \n",
       "6                               NaN                           NaN   \n",
       "\n",
       "  WorkChallengeFrequencyScaling WorkChallengeFrequencyEnvironments  \\\n",
       "0              Most of the time                                NaN   \n",
       "3                         Often                              Often   \n",
       "4                           NaN                          Sometimes   \n",
       "5                           NaN                                NaN   \n",
       "6                           NaN                                NaN   \n",
       "\n",
       "  WorkChallengeFrequencyClarity WorkChallengeFrequencyDataAccess  \\\n",
       "0                           NaN                              NaN   \n",
       "3                         Often                            Often   \n",
       "4                           NaN                              NaN   \n",
       "5                           NaN                              NaN   \n",
       "6                           NaN                              NaN   \n",
       "\n",
       "  WorkChallengeFrequencyOtherSelect  \n",
       "0                               NaN  \n",
       "3                               NaN  \n",
       "4                               NaN  \n",
       "5                               NaN  \n",
       "6                               NaN  \n",
       "\n",
       "[5 rows x 23 columns]"
      ]
     },
     "execution_count": 34,
     "metadata": {},
     "output_type": "execute_result"
    }
   ],
   "source": [
    "question1.head()"
   ]
  },
  {
   "cell_type": "code",
   "execution_count": 35,
   "metadata": {},
   "outputs": [
    {
     "name": "stdout",
     "output_type": "stream",
     "text": [
      "<class 'pandas.core.frame.DataFrame'>\n",
      "Int64Index: 6529 entries, 0 to 16712\n",
      "Data columns (total 23 columns):\n",
      "JobSatisfaction                                6529 non-null int32\n",
      "WorkChallengeFrequencyPolitics                 6529 non-null object\n",
      "WorkChallengeFrequencyUnusedResults            6529 non-null object\n",
      "WorkChallengeFrequencyUnusefulInstrumenting    6529 non-null object\n",
      "WorkChallengeFrequencyDeployment               6529 non-null object\n",
      "WorkChallengeFrequencyDirtyData                6529 non-null object\n",
      "WorkChallengeFrequencyExplaining               6529 non-null object\n",
      "WorkChallengeFrequencyPass                     6529 non-null object\n",
      "WorkChallengeFrequencyIntegration              6529 non-null object\n",
      "WorkChallengeFrequencyTalent                   6529 non-null object\n",
      "WorkChallengeFrequencyDataFunds                6529 non-null object\n",
      "WorkChallengeFrequencyDomainExpertise          6529 non-null object\n",
      "WorkChallengeFrequencyML                       6529 non-null object\n",
      "WorkChallengeFrequencyTools                    6529 non-null object\n",
      "WorkChallengeFrequencyExpectations             6529 non-null object\n",
      "WorkChallengeFrequencyITCoordination           6529 non-null object\n",
      "WorkChallengeFrequencyHiringFunds              6529 non-null object\n",
      "WorkChallengeFrequencyPrivacy                  6529 non-null object\n",
      "WorkChallengeFrequencyScaling                  6529 non-null object\n",
      "WorkChallengeFrequencyEnvironments             6529 non-null object\n",
      "WorkChallengeFrequencyClarity                  6529 non-null object\n",
      "WorkChallengeFrequencyDataAccess               6529 non-null object\n",
      "WorkChallengeFrequencyOtherSelect              6529 non-null object\n",
      "dtypes: int32(1), object(22)\n",
      "memory usage: 1.5+ MB\n"
     ]
    }
   ],
   "source": [
    "question1.fillna(value='Never', inplace=True)\n",
    "question1.info()"
   ]
  },
  {
   "cell_type": "code",
   "execution_count": 36,
   "metadata": {},
   "outputs": [
    {
     "data": {
      "text/plain": [
       "array(['Rarely', 'Often', 'Never', 'Most of the time', 'Sometimes'], dtype=object)"
      ]
     },
     "execution_count": 36,
     "metadata": {},
     "output_type": "execute_result"
    }
   ],
   "source": [
    "question1['WorkChallengeFrequencyPolitics'].unique()"
   ]
  },
  {
   "cell_type": "code",
   "execution_count": 37,
   "metadata": {},
   "outputs": [
    {
     "data": {
      "text/html": [
       "<div>\n",
       "<style>\n",
       "    .dataframe thead tr:only-child th {\n",
       "        text-align: right;\n",
       "    }\n",
       "\n",
       "    .dataframe thead th {\n",
       "        text-align: left;\n",
       "    }\n",
       "\n",
       "    .dataframe tbody tr th {\n",
       "        vertical-align: top;\n",
       "    }\n",
       "</style>\n",
       "<table border=\"1\" class=\"dataframe\">\n",
       "  <thead>\n",
       "    <tr style=\"text-align: right;\">\n",
       "      <th></th>\n",
       "      <th>JobSatisfaction</th>\n",
       "      <th>WorkChallengeFrequencyPolitics</th>\n",
       "      <th>WorkChallengeFrequencyUnusedResults</th>\n",
       "      <th>WorkChallengeFrequencyUnusefulInstrumenting</th>\n",
       "      <th>WorkChallengeFrequencyDeployment</th>\n",
       "      <th>WorkChallengeFrequencyDirtyData</th>\n",
       "      <th>WorkChallengeFrequencyExplaining</th>\n",
       "      <th>WorkChallengeFrequencyPass</th>\n",
       "      <th>WorkChallengeFrequencyIntegration</th>\n",
       "      <th>WorkChallengeFrequencyTalent</th>\n",
       "      <th>...</th>\n",
       "      <th>WorkChallengeFrequencyTools</th>\n",
       "      <th>WorkChallengeFrequencyExpectations</th>\n",
       "      <th>WorkChallengeFrequencyITCoordination</th>\n",
       "      <th>WorkChallengeFrequencyHiringFunds</th>\n",
       "      <th>WorkChallengeFrequencyPrivacy</th>\n",
       "      <th>WorkChallengeFrequencyScaling</th>\n",
       "      <th>WorkChallengeFrequencyEnvironments</th>\n",
       "      <th>WorkChallengeFrequencyClarity</th>\n",
       "      <th>WorkChallengeFrequencyDataAccess</th>\n",
       "      <th>WorkChallengeFrequencyOtherSelect</th>\n",
       "    </tr>\n",
       "  </thead>\n",
       "  <tbody>\n",
       "    <tr>\n",
       "      <th>51</th>\n",
       "      <td>1</td>\n",
       "      <td>Rarely</td>\n",
       "      <td>Never</td>\n",
       "      <td>Never</td>\n",
       "      <td>Never</td>\n",
       "      <td>Never</td>\n",
       "      <td>Never</td>\n",
       "      <td>Never</td>\n",
       "      <td>Never</td>\n",
       "      <td>Never</td>\n",
       "      <td>...</td>\n",
       "      <td>Never</td>\n",
       "      <td>Never</td>\n",
       "      <td>Never</td>\n",
       "      <td>Never</td>\n",
       "      <td>Never</td>\n",
       "      <td>Never</td>\n",
       "      <td>Never</td>\n",
       "      <td>Never</td>\n",
       "      <td>Never</td>\n",
       "      <td>Never</td>\n",
       "    </tr>\n",
       "    <tr>\n",
       "      <th>380</th>\n",
       "      <td>1</td>\n",
       "      <td>Never</td>\n",
       "      <td>Never</td>\n",
       "      <td>Never</td>\n",
       "      <td>Never</td>\n",
       "      <td>Never</td>\n",
       "      <td>Never</td>\n",
       "      <td>Never</td>\n",
       "      <td>Sometimes</td>\n",
       "      <td>Sometimes</td>\n",
       "      <td>...</td>\n",
       "      <td>Never</td>\n",
       "      <td>Never</td>\n",
       "      <td>Sometimes</td>\n",
       "      <td>Never</td>\n",
       "      <td>Never</td>\n",
       "      <td>Never</td>\n",
       "      <td>Never</td>\n",
       "      <td>Never</td>\n",
       "      <td>Sometimes</td>\n",
       "      <td>Never</td>\n",
       "    </tr>\n",
       "    <tr>\n",
       "      <th>404</th>\n",
       "      <td>1</td>\n",
       "      <td>Most of the time</td>\n",
       "      <td>Most of the time</td>\n",
       "      <td>Never</td>\n",
       "      <td>Never</td>\n",
       "      <td>Most of the time</td>\n",
       "      <td>Never</td>\n",
       "      <td>Never</td>\n",
       "      <td>Never</td>\n",
       "      <td>Never</td>\n",
       "      <td>...</td>\n",
       "      <td>Never</td>\n",
       "      <td>Never</td>\n",
       "      <td>Never</td>\n",
       "      <td>Never</td>\n",
       "      <td>Never</td>\n",
       "      <td>Never</td>\n",
       "      <td>Never</td>\n",
       "      <td>Most of the time</td>\n",
       "      <td>Most of the time</td>\n",
       "      <td>Never</td>\n",
       "    </tr>\n",
       "    <tr>\n",
       "      <th>479</th>\n",
       "      <td>1</td>\n",
       "      <td>Often</td>\n",
       "      <td>Never</td>\n",
       "      <td>Never</td>\n",
       "      <td>Never</td>\n",
       "      <td>Never</td>\n",
       "      <td>Never</td>\n",
       "      <td>Never</td>\n",
       "      <td>Often</td>\n",
       "      <td>Often</td>\n",
       "      <td>...</td>\n",
       "      <td>Often</td>\n",
       "      <td>Never</td>\n",
       "      <td>Often</td>\n",
       "      <td>Never</td>\n",
       "      <td>Never</td>\n",
       "      <td>Never</td>\n",
       "      <td>Never</td>\n",
       "      <td>Never</td>\n",
       "      <td>Often</td>\n",
       "      <td>Never</td>\n",
       "    </tr>\n",
       "    <tr>\n",
       "      <th>544</th>\n",
       "      <td>1</td>\n",
       "      <td>Most of the time</td>\n",
       "      <td>Never</td>\n",
       "      <td>Most of the time</td>\n",
       "      <td>Never</td>\n",
       "      <td>Never</td>\n",
       "      <td>Never</td>\n",
       "      <td>Never</td>\n",
       "      <td>Never</td>\n",
       "      <td>Never</td>\n",
       "      <td>...</td>\n",
       "      <td>Never</td>\n",
       "      <td>Never</td>\n",
       "      <td>Never</td>\n",
       "      <td>Most of the time</td>\n",
       "      <td>Never</td>\n",
       "      <td>Never</td>\n",
       "      <td>Never</td>\n",
       "      <td>Never</td>\n",
       "      <td>Never</td>\n",
       "      <td>Never</td>\n",
       "    </tr>\n",
       "  </tbody>\n",
       "</table>\n",
       "<p>5 rows × 23 columns</p>\n",
       "</div>"
      ],
      "text/plain": [
       "     JobSatisfaction WorkChallengeFrequencyPolitics  \\\n",
       "51                 1                         Rarely   \n",
       "380                1                          Never   \n",
       "404                1               Most of the time   \n",
       "479                1                          Often   \n",
       "544                1               Most of the time   \n",
       "\n",
       "    WorkChallengeFrequencyUnusedResults  \\\n",
       "51                                Never   \n",
       "380                               Never   \n",
       "404                    Most of the time   \n",
       "479                               Never   \n",
       "544                               Never   \n",
       "\n",
       "    WorkChallengeFrequencyUnusefulInstrumenting  \\\n",
       "51                                        Never   \n",
       "380                                       Never   \n",
       "404                                       Never   \n",
       "479                                       Never   \n",
       "544                            Most of the time   \n",
       "\n",
       "    WorkChallengeFrequencyDeployment WorkChallengeFrequencyDirtyData  \\\n",
       "51                             Never                           Never   \n",
       "380                            Never                           Never   \n",
       "404                            Never                Most of the time   \n",
       "479                            Never                           Never   \n",
       "544                            Never                           Never   \n",
       "\n",
       "    WorkChallengeFrequencyExplaining WorkChallengeFrequencyPass  \\\n",
       "51                             Never                      Never   \n",
       "380                            Never                      Never   \n",
       "404                            Never                      Never   \n",
       "479                            Never                      Never   \n",
       "544                            Never                      Never   \n",
       "\n",
       "    WorkChallengeFrequencyIntegration WorkChallengeFrequencyTalent  \\\n",
       "51                              Never                        Never   \n",
       "380                         Sometimes                    Sometimes   \n",
       "404                             Never                        Never   \n",
       "479                             Often                        Often   \n",
       "544                             Never                        Never   \n",
       "\n",
       "                   ...                WorkChallengeFrequencyTools  \\\n",
       "51                 ...                                      Never   \n",
       "380                ...                                      Never   \n",
       "404                ...                                      Never   \n",
       "479                ...                                      Often   \n",
       "544                ...                                      Never   \n",
       "\n",
       "    WorkChallengeFrequencyExpectations WorkChallengeFrequencyITCoordination  \\\n",
       "51                               Never                                Never   \n",
       "380                              Never                            Sometimes   \n",
       "404                              Never                                Never   \n",
       "479                              Never                                Often   \n",
       "544                              Never                                Never   \n",
       "\n",
       "    WorkChallengeFrequencyHiringFunds WorkChallengeFrequencyPrivacy  \\\n",
       "51                              Never                         Never   \n",
       "380                             Never                         Never   \n",
       "404                             Never                         Never   \n",
       "479                             Never                         Never   \n",
       "544                  Most of the time                         Never   \n",
       "\n",
       "    WorkChallengeFrequencyScaling WorkChallengeFrequencyEnvironments  \\\n",
       "51                          Never                              Never   \n",
       "380                         Never                              Never   \n",
       "404                         Never                              Never   \n",
       "479                         Never                              Never   \n",
       "544                         Never                              Never   \n",
       "\n",
       "    WorkChallengeFrequencyClarity WorkChallengeFrequencyDataAccess  \\\n",
       "51                          Never                            Never   \n",
       "380                         Never                        Sometimes   \n",
       "404              Most of the time                 Most of the time   \n",
       "479                         Never                            Often   \n",
       "544                         Never                            Never   \n",
       "\n",
       "    WorkChallengeFrequencyOtherSelect  \n",
       "51                              Never  \n",
       "380                             Never  \n",
       "404                             Never  \n",
       "479                             Never  \n",
       "544                             Never  \n",
       "\n",
       "[5 rows x 23 columns]"
      ]
     },
     "execution_count": 37,
     "metadata": {},
     "output_type": "execute_result"
    }
   ],
   "source": [
    "question1[question1['JobSatisfaction'] == 1].head()"
   ]
  },
  {
   "cell_type": "code",
   "execution_count": 38,
   "metadata": {},
   "outputs": [
    {
     "data": {
      "text/html": [
       "<div>\n",
       "<style>\n",
       "    .dataframe thead tr:only-child th {\n",
       "        text-align: right;\n",
       "    }\n",
       "\n",
       "    .dataframe thead th {\n",
       "        text-align: left;\n",
       "    }\n",
       "\n",
       "    .dataframe tbody tr th {\n",
       "        vertical-align: top;\n",
       "    }\n",
       "</style>\n",
       "<table border=\"1\" class=\"dataframe\">\n",
       "  <thead>\n",
       "    <tr style=\"text-align: right;\">\n",
       "      <th></th>\n",
       "      <th>JobSatisfaction</th>\n",
       "      <th>WorkChallengeFrequencyPolitics</th>\n",
       "      <th>WorkChallengeFrequencyUnusedResults</th>\n",
       "      <th>WorkChallengeFrequencyUnusefulInstrumenting</th>\n",
       "      <th>WorkChallengeFrequencyDeployment</th>\n",
       "      <th>WorkChallengeFrequencyDirtyData</th>\n",
       "      <th>WorkChallengeFrequencyExplaining</th>\n",
       "      <th>WorkChallengeFrequencyPass</th>\n",
       "      <th>WorkChallengeFrequencyIntegration</th>\n",
       "      <th>WorkChallengeFrequencyTalent</th>\n",
       "      <th>...</th>\n",
       "      <th>WorkChallengeFrequencyTools</th>\n",
       "      <th>WorkChallengeFrequencyExpectations</th>\n",
       "      <th>WorkChallengeFrequencyITCoordination</th>\n",
       "      <th>WorkChallengeFrequencyHiringFunds</th>\n",
       "      <th>WorkChallengeFrequencyPrivacy</th>\n",
       "      <th>WorkChallengeFrequencyScaling</th>\n",
       "      <th>WorkChallengeFrequencyEnvironments</th>\n",
       "      <th>WorkChallengeFrequencyClarity</th>\n",
       "      <th>WorkChallengeFrequencyDataAccess</th>\n",
       "      <th>WorkChallengeFrequencyOtherSelect</th>\n",
       "    </tr>\n",
       "  </thead>\n",
       "  <tbody>\n",
       "    <tr>\n",
       "      <th>3</th>\n",
       "      <td>10</td>\n",
       "      <td>Often</td>\n",
       "      <td>Often</td>\n",
       "      <td>Often</td>\n",
       "      <td>Often</td>\n",
       "      <td>Often</td>\n",
       "      <td>Often</td>\n",
       "      <td>Never</td>\n",
       "      <td>Often</td>\n",
       "      <td>Often</td>\n",
       "      <td>...</td>\n",
       "      <td>Often</td>\n",
       "      <td>Often</td>\n",
       "      <td>Never</td>\n",
       "      <td>Often</td>\n",
       "      <td>Often</td>\n",
       "      <td>Often</td>\n",
       "      <td>Often</td>\n",
       "      <td>Often</td>\n",
       "      <td>Often</td>\n",
       "      <td>Never</td>\n",
       "    </tr>\n",
       "    <tr>\n",
       "      <th>60</th>\n",
       "      <td>10</td>\n",
       "      <td>Never</td>\n",
       "      <td>Never</td>\n",
       "      <td>Never</td>\n",
       "      <td>Never</td>\n",
       "      <td>Most of the time</td>\n",
       "      <td>Sometimes</td>\n",
       "      <td>Never</td>\n",
       "      <td>Never</td>\n",
       "      <td>Never</td>\n",
       "      <td>...</td>\n",
       "      <td>Never</td>\n",
       "      <td>Never</td>\n",
       "      <td>Never</td>\n",
       "      <td>Never</td>\n",
       "      <td>Never</td>\n",
       "      <td>Never</td>\n",
       "      <td>Never</td>\n",
       "      <td>Never</td>\n",
       "      <td>Never</td>\n",
       "      <td>Never</td>\n",
       "    </tr>\n",
       "    <tr>\n",
       "      <th>77</th>\n",
       "      <td>10</td>\n",
       "      <td>Never</td>\n",
       "      <td>Never</td>\n",
       "      <td>Never</td>\n",
       "      <td>Never</td>\n",
       "      <td>Sometimes</td>\n",
       "      <td>Often</td>\n",
       "      <td>Never</td>\n",
       "      <td>Never</td>\n",
       "      <td>Never</td>\n",
       "      <td>...</td>\n",
       "      <td>Never</td>\n",
       "      <td>Never</td>\n",
       "      <td>Never</td>\n",
       "      <td>Never</td>\n",
       "      <td>Never</td>\n",
       "      <td>Never</td>\n",
       "      <td>Never</td>\n",
       "      <td>Never</td>\n",
       "      <td>Never</td>\n",
       "      <td>Never</td>\n",
       "    </tr>\n",
       "    <tr>\n",
       "      <th>83</th>\n",
       "      <td>10</td>\n",
       "      <td>Never</td>\n",
       "      <td>Never</td>\n",
       "      <td>Never</td>\n",
       "      <td>Never</td>\n",
       "      <td>Never</td>\n",
       "      <td>Never</td>\n",
       "      <td>Rarely</td>\n",
       "      <td>Never</td>\n",
       "      <td>Never</td>\n",
       "      <td>...</td>\n",
       "      <td>Never</td>\n",
       "      <td>Never</td>\n",
       "      <td>Never</td>\n",
       "      <td>Never</td>\n",
       "      <td>Never</td>\n",
       "      <td>Never</td>\n",
       "      <td>Never</td>\n",
       "      <td>Never</td>\n",
       "      <td>Never</td>\n",
       "      <td>Never</td>\n",
       "    </tr>\n",
       "    <tr>\n",
       "      <th>89</th>\n",
       "      <td>10</td>\n",
       "      <td>Never</td>\n",
       "      <td>Never</td>\n",
       "      <td>Never</td>\n",
       "      <td>Never</td>\n",
       "      <td>Most of the time</td>\n",
       "      <td>Never</td>\n",
       "      <td>Never</td>\n",
       "      <td>Never</td>\n",
       "      <td>Never</td>\n",
       "      <td>...</td>\n",
       "      <td>Sometimes</td>\n",
       "      <td>Never</td>\n",
       "      <td>Sometimes</td>\n",
       "      <td>Never</td>\n",
       "      <td>Never</td>\n",
       "      <td>Never</td>\n",
       "      <td>Never</td>\n",
       "      <td>Never</td>\n",
       "      <td>Never</td>\n",
       "      <td>Never</td>\n",
       "    </tr>\n",
       "  </tbody>\n",
       "</table>\n",
       "<p>5 rows × 23 columns</p>\n",
       "</div>"
      ],
      "text/plain": [
       "    JobSatisfaction WorkChallengeFrequencyPolitics  \\\n",
       "3                10                          Often   \n",
       "60               10                          Never   \n",
       "77               10                          Never   \n",
       "83               10                          Never   \n",
       "89               10                          Never   \n",
       "\n",
       "   WorkChallengeFrequencyUnusedResults  \\\n",
       "3                                Often   \n",
       "60                               Never   \n",
       "77                               Never   \n",
       "83                               Never   \n",
       "89                               Never   \n",
       "\n",
       "   WorkChallengeFrequencyUnusefulInstrumenting  \\\n",
       "3                                        Often   \n",
       "60                                       Never   \n",
       "77                                       Never   \n",
       "83                                       Never   \n",
       "89                                       Never   \n",
       "\n",
       "   WorkChallengeFrequencyDeployment WorkChallengeFrequencyDirtyData  \\\n",
       "3                             Often                           Often   \n",
       "60                            Never                Most of the time   \n",
       "77                            Never                       Sometimes   \n",
       "83                            Never                           Never   \n",
       "89                            Never                Most of the time   \n",
       "\n",
       "   WorkChallengeFrequencyExplaining WorkChallengeFrequencyPass  \\\n",
       "3                             Often                      Never   \n",
       "60                        Sometimes                      Never   \n",
       "77                            Often                      Never   \n",
       "83                            Never                     Rarely   \n",
       "89                            Never                      Never   \n",
       "\n",
       "   WorkChallengeFrequencyIntegration WorkChallengeFrequencyTalent  \\\n",
       "3                              Often                        Often   \n",
       "60                             Never                        Never   \n",
       "77                             Never                        Never   \n",
       "83                             Never                        Never   \n",
       "89                             Never                        Never   \n",
       "\n",
       "                  ...                WorkChallengeFrequencyTools  \\\n",
       "3                 ...                                      Often   \n",
       "60                ...                                      Never   \n",
       "77                ...                                      Never   \n",
       "83                ...                                      Never   \n",
       "89                ...                                  Sometimes   \n",
       "\n",
       "   WorkChallengeFrequencyExpectations WorkChallengeFrequencyITCoordination  \\\n",
       "3                               Often                                Never   \n",
       "60                              Never                                Never   \n",
       "77                              Never                                Never   \n",
       "83                              Never                                Never   \n",
       "89                              Never                            Sometimes   \n",
       "\n",
       "   WorkChallengeFrequencyHiringFunds WorkChallengeFrequencyPrivacy  \\\n",
       "3                              Often                         Often   \n",
       "60                             Never                         Never   \n",
       "77                             Never                         Never   \n",
       "83                             Never                         Never   \n",
       "89                             Never                         Never   \n",
       "\n",
       "   WorkChallengeFrequencyScaling WorkChallengeFrequencyEnvironments  \\\n",
       "3                          Often                              Often   \n",
       "60                         Never                              Never   \n",
       "77                         Never                              Never   \n",
       "83                         Never                              Never   \n",
       "89                         Never                              Never   \n",
       "\n",
       "   WorkChallengeFrequencyClarity WorkChallengeFrequencyDataAccess  \\\n",
       "3                          Often                            Often   \n",
       "60                         Never                            Never   \n",
       "77                         Never                            Never   \n",
       "83                         Never                            Never   \n",
       "89                         Never                            Never   \n",
       "\n",
       "   WorkChallengeFrequencyOtherSelect  \n",
       "3                              Never  \n",
       "60                             Never  \n",
       "77                             Never  \n",
       "83                             Never  \n",
       "89                             Never  \n",
       "\n",
       "[5 rows x 23 columns]"
      ]
     },
     "execution_count": 38,
     "metadata": {},
     "output_type": "execute_result"
    }
   ],
   "source": [
    "question1[question1['JobSatisfaction'] == 10].head()"
   ]
  },
  {
   "cell_type": "code",
   "execution_count": 39,
   "metadata": {},
   "outputs": [
    {
     "data": {
      "text/plain": [
       "Never               3748\n",
       "Often               1124\n",
       "Most of the time     848\n",
       "Sometimes            744\n",
       "Rarely                65\n",
       "Name: WorkChallengeFrequencyTalent, dtype: int64"
      ]
     },
     "execution_count": 39,
     "metadata": {},
     "output_type": "execute_result"
    }
   ],
   "source": [
    "question1['WorkChallengeFrequencyTalent'].value_counts()"
   ]
  },
  {
   "cell_type": "code",
   "execution_count": 40,
   "metadata": {},
   "outputs": [
    {
     "data": {
      "image/png": "[encoded data removed]",
      "text/plain": [
       "<matplotlib.figure.Figure at 0x29d42408f98>"
      ]
     },
     "metadata": {},
     "output_type": "display_data"
    }
   ],
   "source": [
    "sns.countplot(x=\"JobSatisfaction\", data=question1)\n",
    "plt.show()"
   ]
  },
  {
   "cell_type": "code",
   "execution_count": 41,
   "metadata": {},
   "outputs": [
    {
     "data": {
      "text/plain": [
       "6.7622913156685556"
      ]
     },
     "execution_count": 41,
     "metadata": {},
     "output_type": "execute_result"
    }
   ],
   "source": [
    "question1['JobSatisfaction'].mean()"
   ]
  },
  {
   "cell_type": "code",
   "execution_count": 42,
   "metadata": {},
   "outputs": [],
   "source": [
    "question1_corr = question1\n",
    "\n",
    "question1_corr = question1_corr.replace(['Never', 'Rarely', 'Sometimes', 'Often', 'Most of the time'], [4, 3, 2, 1, 0]).astype(int)"
   ]
  },
  {
   "cell_type": "code",
   "execution_count": 43,
   "metadata": {},
   "outputs": [],
   "source": [
    "#question1_corr['Sum'] = question1_corr.iloc[:,1:].sum(axis=1)"
   ]
  },
  {
   "cell_type": "code",
   "execution_count": 44,
   "metadata": {},
   "outputs": [],
   "source": [
    "#question1_corr[['JobSatisfaction', 'Sum']].head()\n",
    "#question1_corr.head()"
   ]
  },
  {
   "cell_type": "code",
   "execution_count": 45,
   "metadata": {},
   "outputs": [],
   "source": [
    "#question1_corr[['JobSatisfaction','Sum']].corr()"
   ]
  },
  {
   "cell_type": "code",
   "execution_count": 46,
   "metadata": {},
   "outputs": [
    {
     "data": {
      "text/html": [
       "<div>\n",
       "<style>\n",
       "    .dataframe thead tr:only-child th {\n",
       "        text-align: right;\n",
       "    }\n",
       "\n",
       "    .dataframe thead th {\n",
       "        text-align: left;\n",
       "    }\n",
       "\n",
       "    .dataframe tbody tr th {\n",
       "        vertical-align: top;\n",
       "    }\n",
       "</style>\n",
       "<table border=\"1\" class=\"dataframe\">\n",
       "  <thead>\n",
       "    <tr style=\"text-align: right;\">\n",
       "      <th></th>\n",
       "      <th>JobSatisfaction</th>\n",
       "      <th>WorkChallengeFrequencyPolitics</th>\n",
       "      <th>WorkChallengeFrequencyUnusedResults</th>\n",
       "      <th>WorkChallengeFrequencyUnusefulInstrumenting</th>\n",
       "      <th>WorkChallengeFrequencyDeployment</th>\n",
       "      <th>WorkChallengeFrequencyDirtyData</th>\n",
       "      <th>WorkChallengeFrequencyExplaining</th>\n",
       "      <th>WorkChallengeFrequencyPass</th>\n",
       "      <th>WorkChallengeFrequencyIntegration</th>\n",
       "      <th>WorkChallengeFrequencyTalent</th>\n",
       "      <th>...</th>\n",
       "      <th>WorkChallengeFrequencyTools</th>\n",
       "      <th>WorkChallengeFrequencyExpectations</th>\n",
       "      <th>WorkChallengeFrequencyITCoordination</th>\n",
       "      <th>WorkChallengeFrequencyHiringFunds</th>\n",
       "      <th>WorkChallengeFrequencyPrivacy</th>\n",
       "      <th>WorkChallengeFrequencyScaling</th>\n",
       "      <th>WorkChallengeFrequencyEnvironments</th>\n",
       "      <th>WorkChallengeFrequencyClarity</th>\n",
       "      <th>WorkChallengeFrequencyDataAccess</th>\n",
       "      <th>WorkChallengeFrequencyOtherSelect</th>\n",
       "    </tr>\n",
       "  </thead>\n",
       "  <tbody>\n",
       "    <tr>\n",
       "      <th>JobSatisfaction</th>\n",
       "      <td>1.000000</td>\n",
       "      <td>0.257772</td>\n",
       "      <td>0.127854</td>\n",
       "      <td>0.069781</td>\n",
       "      <td>-0.025852</td>\n",
       "      <td>-0.070560</td>\n",
       "      <td>0.021602</td>\n",
       "      <td>-0.004750</td>\n",
       "      <td>0.078507</td>\n",
       "      <td>0.176273</td>\n",
       "      <td>...</td>\n",
       "      <td>0.068659</td>\n",
       "      <td>-0.026486</td>\n",
       "      <td>0.016531</td>\n",
       "      <td>0.091598</td>\n",
       "      <td>-0.022053</td>\n",
       "      <td>-0.011440</td>\n",
       "      <td>-0.009864</td>\n",
       "      <td>0.049133</td>\n",
       "      <td>-0.050781</td>\n",
       "      <td>0.010043</td>\n",
       "    </tr>\n",
       "    <tr>\n",
       "      <th>WorkChallengeFrequencyPolitics</th>\n",
       "      <td>0.257772</td>\n",
       "      <td>1.000000</td>\n",
       "      <td>0.267638</td>\n",
       "      <td>0.129231</td>\n",
       "      <td>0.067418</td>\n",
       "      <td>0.062120</td>\n",
       "      <td>0.152150</td>\n",
       "      <td>-0.116868</td>\n",
       "      <td>0.247810</td>\n",
       "      <td>0.276244</td>\n",
       "      <td>...</td>\n",
       "      <td>0.089880</td>\n",
       "      <td>0.105167</td>\n",
       "      <td>0.192788</td>\n",
       "      <td>0.099532</td>\n",
       "      <td>0.116065</td>\n",
       "      <td>0.074006</td>\n",
       "      <td>0.074015</td>\n",
       "      <td>0.139292</td>\n",
       "      <td>0.063467</td>\n",
       "      <td>-0.016417</td>\n",
       "    </tr>\n",
       "    <tr>\n",
       "      <th>WorkChallengeFrequencyUnusedResults</th>\n",
       "      <td>0.127854</td>\n",
       "      <td>0.267638</td>\n",
       "      <td>1.000000</td>\n",
       "      <td>0.170405</td>\n",
       "      <td>0.087426</td>\n",
       "      <td>0.108194</td>\n",
       "      <td>0.213530</td>\n",
       "      <td>-0.091996</td>\n",
       "      <td>0.356167</td>\n",
       "      <td>0.165351</td>\n",
       "      <td>...</td>\n",
       "      <td>0.067142</td>\n",
       "      <td>0.139508</td>\n",
       "      <td>0.124344</td>\n",
       "      <td>0.048081</td>\n",
       "      <td>0.073235</td>\n",
       "      <td>0.065433</td>\n",
       "      <td>0.089406</td>\n",
       "      <td>0.195752</td>\n",
       "      <td>0.070719</td>\n",
       "      <td>-0.034229</td>\n",
       "    </tr>\n",
       "    <tr>\n",
       "      <th>WorkChallengeFrequencyUnusefulInstrumenting</th>\n",
       "      <td>0.069781</td>\n",
       "      <td>0.129231</td>\n",
       "      <td>0.170405</td>\n",
       "      <td>1.000000</td>\n",
       "      <td>0.104498</td>\n",
       "      <td>0.093644</td>\n",
       "      <td>0.108968</td>\n",
       "      <td>-0.047968</td>\n",
       "      <td>0.140575</td>\n",
       "      <td>0.106862</td>\n",
       "      <td>...</td>\n",
       "      <td>0.091390</td>\n",
       "      <td>0.127681</td>\n",
       "      <td>0.099373</td>\n",
       "      <td>0.054043</td>\n",
       "      <td>0.076960</td>\n",
       "      <td>0.110347</td>\n",
       "      <td>0.089977</td>\n",
       "      <td>0.142273</td>\n",
       "      <td>0.119187</td>\n",
       "      <td>-0.004156</td>\n",
       "    </tr>\n",
       "    <tr>\n",
       "      <th>WorkChallengeFrequencyDeployment</th>\n",
       "      <td>-0.025852</td>\n",
       "      <td>0.067418</td>\n",
       "      <td>0.087426</td>\n",
       "      <td>0.104498</td>\n",
       "      <td>1.000000</td>\n",
       "      <td>0.098781</td>\n",
       "      <td>0.086908</td>\n",
       "      <td>-0.067471</td>\n",
       "      <td>0.103823</td>\n",
       "      <td>0.058331</td>\n",
       "      <td>...</td>\n",
       "      <td>0.073397</td>\n",
       "      <td>0.149112</td>\n",
       "      <td>0.137261</td>\n",
       "      <td>-0.007802</td>\n",
       "      <td>0.077046</td>\n",
       "      <td>0.196364</td>\n",
       "      <td>0.118871</td>\n",
       "      <td>0.080695</td>\n",
       "      <td>0.100894</td>\n",
       "      <td>-0.014673</td>\n",
       "    </tr>\n",
       "    <tr>\n",
       "      <th>WorkChallengeFrequencyDirtyData</th>\n",
       "      <td>-0.070560</td>\n",
       "      <td>0.062120</td>\n",
       "      <td>0.108194</td>\n",
       "      <td>0.093644</td>\n",
       "      <td>0.098781</td>\n",
       "      <td>1.000000</td>\n",
       "      <td>0.171722</td>\n",
       "      <td>-0.158726</td>\n",
       "      <td>0.099786</td>\n",
       "      <td>0.067724</td>\n",
       "      <td>...</td>\n",
       "      <td>0.086497</td>\n",
       "      <td>0.168247</td>\n",
       "      <td>0.130945</td>\n",
       "      <td>-0.006471</td>\n",
       "      <td>0.147889</td>\n",
       "      <td>0.089656</td>\n",
       "      <td>0.158883</td>\n",
       "      <td>0.168469</td>\n",
       "      <td>0.229970</td>\n",
       "      <td>-0.044987</td>\n",
       "    </tr>\n",
       "    <tr>\n",
       "      <th>WorkChallengeFrequencyExplaining</th>\n",
       "      <td>0.021602</td>\n",
       "      <td>0.152150</td>\n",
       "      <td>0.213530</td>\n",
       "      <td>0.108968</td>\n",
       "      <td>0.086908</td>\n",
       "      <td>0.171722</td>\n",
       "      <td>1.000000</td>\n",
       "      <td>-0.082619</td>\n",
       "      <td>0.189701</td>\n",
       "      <td>0.184269</td>\n",
       "      <td>...</td>\n",
       "      <td>0.061697</td>\n",
       "      <td>0.228506</td>\n",
       "      <td>0.127912</td>\n",
       "      <td>0.062249</td>\n",
       "      <td>0.080377</td>\n",
       "      <td>0.084203</td>\n",
       "      <td>0.112758</td>\n",
       "      <td>0.165389</td>\n",
       "      <td>0.106536</td>\n",
       "      <td>-0.007583</td>\n",
       "    </tr>\n",
       "    <tr>\n",
       "      <th>WorkChallengeFrequencyPass</th>\n",
       "      <td>-0.004750</td>\n",
       "      <td>-0.116868</td>\n",
       "      <td>-0.091996</td>\n",
       "      <td>-0.047968</td>\n",
       "      <td>-0.067471</td>\n",
       "      <td>-0.158726</td>\n",
       "      <td>-0.082619</td>\n",
       "      <td>1.000000</td>\n",
       "      <td>-0.069097</td>\n",
       "      <td>-0.136543</td>\n",
       "      <td>...</td>\n",
       "      <td>-0.060354</td>\n",
       "      <td>-0.061730</td>\n",
       "      <td>-0.081822</td>\n",
       "      <td>-0.072629</td>\n",
       "      <td>-0.059592</td>\n",
       "      <td>-0.061845</td>\n",
       "      <td>-0.074873</td>\n",
       "      <td>-0.112217</td>\n",
       "      <td>-0.105146</td>\n",
       "      <td>-0.025494</td>\n",
       "    </tr>\n",
       "    <tr>\n",
       "      <th>WorkChallengeFrequencyIntegration</th>\n",
       "      <td>0.078507</td>\n",
       "      <td>0.247810</td>\n",
       "      <td>0.356167</td>\n",
       "      <td>0.140575</td>\n",
       "      <td>0.103823</td>\n",
       "      <td>0.099786</td>\n",
       "      <td>0.189701</td>\n",
       "      <td>-0.069097</td>\n",
       "      <td>1.000000</td>\n",
       "      <td>0.149603</td>\n",
       "      <td>...</td>\n",
       "      <td>0.048756</td>\n",
       "      <td>0.193654</td>\n",
       "      <td>0.181105</td>\n",
       "      <td>0.031649</td>\n",
       "      <td>0.063998</td>\n",
       "      <td>0.084790</td>\n",
       "      <td>0.099893</td>\n",
       "      <td>0.203755</td>\n",
       "      <td>0.099737</td>\n",
       "      <td>-0.033047</td>\n",
       "    </tr>\n",
       "    <tr>\n",
       "      <th>WorkChallengeFrequencyTalent</th>\n",
       "      <td>0.176273</td>\n",
       "      <td>0.276244</td>\n",
       "      <td>0.165351</td>\n",
       "      <td>0.106862</td>\n",
       "      <td>0.058331</td>\n",
       "      <td>0.067724</td>\n",
       "      <td>0.184269</td>\n",
       "      <td>-0.136543</td>\n",
       "      <td>0.149603</td>\n",
       "      <td>1.000000</td>\n",
       "      <td>...</td>\n",
       "      <td>0.082042</td>\n",
       "      <td>0.100831</td>\n",
       "      <td>0.140218</td>\n",
       "      <td>0.198416</td>\n",
       "      <td>0.075537</td>\n",
       "      <td>0.063854</td>\n",
       "      <td>0.080243</td>\n",
       "      <td>0.102970</td>\n",
       "      <td>0.046998</td>\n",
       "      <td>-0.026699</td>\n",
       "    </tr>\n",
       "    <tr>\n",
       "      <th>WorkChallengeFrequencyDataFunds</th>\n",
       "      <td>0.057718</td>\n",
       "      <td>0.118400</td>\n",
       "      <td>0.061848</td>\n",
       "      <td>0.089165</td>\n",
       "      <td>0.029913</td>\n",
       "      <td>0.040560</td>\n",
       "      <td>0.049916</td>\n",
       "      <td>-0.059731</td>\n",
       "      <td>0.044840</td>\n",
       "      <td>0.089128</td>\n",
       "      <td>...</td>\n",
       "      <td>0.119669</td>\n",
       "      <td>0.042815</td>\n",
       "      <td>0.051951</td>\n",
       "      <td>0.167434</td>\n",
       "      <td>0.068121</td>\n",
       "      <td>0.074729</td>\n",
       "      <td>0.056893</td>\n",
       "      <td>0.047787</td>\n",
       "      <td>0.128282</td>\n",
       "      <td>-0.006266</td>\n",
       "    </tr>\n",
       "    <tr>\n",
       "      <th>WorkChallengeFrequencyDomainExpertise</th>\n",
       "      <td>0.085149</td>\n",
       "      <td>0.093763</td>\n",
       "      <td>0.089279</td>\n",
       "      <td>0.106290</td>\n",
       "      <td>0.041695</td>\n",
       "      <td>0.077006</td>\n",
       "      <td>0.085368</td>\n",
       "      <td>-0.071313</td>\n",
       "      <td>0.078789</td>\n",
       "      <td>0.190665</td>\n",
       "      <td>...</td>\n",
       "      <td>0.074328</td>\n",
       "      <td>0.092421</td>\n",
       "      <td>0.036341</td>\n",
       "      <td>0.058917</td>\n",
       "      <td>0.050587</td>\n",
       "      <td>0.079729</td>\n",
       "      <td>0.068289</td>\n",
       "      <td>0.167471</td>\n",
       "      <td>0.083149</td>\n",
       "      <td>-0.004768</td>\n",
       "    </tr>\n",
       "    <tr>\n",
       "      <th>WorkChallengeFrequencyML</th>\n",
       "      <td>0.023133</td>\n",
       "      <td>0.012623</td>\n",
       "      <td>0.016683</td>\n",
       "      <td>0.053163</td>\n",
       "      <td>0.083589</td>\n",
       "      <td>0.015584</td>\n",
       "      <td>0.066112</td>\n",
       "      <td>-0.053850</td>\n",
       "      <td>0.023679</td>\n",
       "      <td>0.096181</td>\n",
       "      <td>...</td>\n",
       "      <td>0.155396</td>\n",
       "      <td>0.050492</td>\n",
       "      <td>0.031097</td>\n",
       "      <td>0.045186</td>\n",
       "      <td>0.015649</td>\n",
       "      <td>0.090722</td>\n",
       "      <td>0.081821</td>\n",
       "      <td>0.040909</td>\n",
       "      <td>0.025681</td>\n",
       "      <td>-0.005706</td>\n",
       "    </tr>\n",
       "    <tr>\n",
       "      <th>WorkChallengeFrequencyTools</th>\n",
       "      <td>0.068659</td>\n",
       "      <td>0.089880</td>\n",
       "      <td>0.067142</td>\n",
       "      <td>0.091390</td>\n",
       "      <td>0.073397</td>\n",
       "      <td>0.086497</td>\n",
       "      <td>0.061697</td>\n",
       "      <td>-0.060354</td>\n",
       "      <td>0.048756</td>\n",
       "      <td>0.082042</td>\n",
       "      <td>...</td>\n",
       "      <td>1.000000</td>\n",
       "      <td>0.029047</td>\n",
       "      <td>0.133865</td>\n",
       "      <td>0.027526</td>\n",
       "      <td>0.073920</td>\n",
       "      <td>0.085551</td>\n",
       "      <td>0.097242</td>\n",
       "      <td>0.009116</td>\n",
       "      <td>0.099420</td>\n",
       "      <td>0.012498</td>\n",
       "    </tr>\n",
       "    <tr>\n",
       "      <th>WorkChallengeFrequencyExpectations</th>\n",
       "      <td>-0.026486</td>\n",
       "      <td>0.105167</td>\n",
       "      <td>0.139508</td>\n",
       "      <td>0.127681</td>\n",
       "      <td>0.149112</td>\n",
       "      <td>0.168247</td>\n",
       "      <td>0.228506</td>\n",
       "      <td>-0.061730</td>\n",
       "      <td>0.193654</td>\n",
       "      <td>0.100831</td>\n",
       "      <td>...</td>\n",
       "      <td>0.029047</td>\n",
       "      <td>1.000000</td>\n",
       "      <td>0.090625</td>\n",
       "      <td>0.000296</td>\n",
       "      <td>0.088020</td>\n",
       "      <td>0.122586</td>\n",
       "      <td>0.114236</td>\n",
       "      <td>0.221681</td>\n",
       "      <td>0.140008</td>\n",
       "      <td>-0.009916</td>\n",
       "    </tr>\n",
       "    <tr>\n",
       "      <th>WorkChallengeFrequencyITCoordination</th>\n",
       "      <td>0.016531</td>\n",
       "      <td>0.192788</td>\n",
       "      <td>0.124344</td>\n",
       "      <td>0.099373</td>\n",
       "      <td>0.137261</td>\n",
       "      <td>0.130945</td>\n",
       "      <td>0.127912</td>\n",
       "      <td>-0.081822</td>\n",
       "      <td>0.181105</td>\n",
       "      <td>0.140218</td>\n",
       "      <td>...</td>\n",
       "      <td>0.133865</td>\n",
       "      <td>0.090625</td>\n",
       "      <td>1.000000</td>\n",
       "      <td>-0.022771</td>\n",
       "      <td>0.142068</td>\n",
       "      <td>0.103951</td>\n",
       "      <td>0.103410</td>\n",
       "      <td>0.073697</td>\n",
       "      <td>0.127618</td>\n",
       "      <td>-0.025042</td>\n",
       "    </tr>\n",
       "    <tr>\n",
       "      <th>WorkChallengeFrequencyHiringFunds</th>\n",
       "      <td>0.091598</td>\n",
       "      <td>0.099532</td>\n",
       "      <td>0.048081</td>\n",
       "      <td>0.054043</td>\n",
       "      <td>-0.007802</td>\n",
       "      <td>-0.006471</td>\n",
       "      <td>0.062249</td>\n",
       "      <td>-0.072629</td>\n",
       "      <td>0.031649</td>\n",
       "      <td>0.198416</td>\n",
       "      <td>...</td>\n",
       "      <td>0.027526</td>\n",
       "      <td>0.000296</td>\n",
       "      <td>-0.022771</td>\n",
       "      <td>1.000000</td>\n",
       "      <td>-0.012646</td>\n",
       "      <td>0.007577</td>\n",
       "      <td>-0.006504</td>\n",
       "      <td>0.044274</td>\n",
       "      <td>0.009980</td>\n",
       "      <td>-0.020209</td>\n",
       "    </tr>\n",
       "    <tr>\n",
       "      <th>WorkChallengeFrequencyPrivacy</th>\n",
       "      <td>-0.022053</td>\n",
       "      <td>0.116065</td>\n",
       "      <td>0.073235</td>\n",
       "      <td>0.076960</td>\n",
       "      <td>0.077046</td>\n",
       "      <td>0.147889</td>\n",
       "      <td>0.080377</td>\n",
       "      <td>-0.059592</td>\n",
       "      <td>0.063998</td>\n",
       "      <td>0.075537</td>\n",
       "      <td>...</td>\n",
       "      <td>0.073920</td>\n",
       "      <td>0.088020</td>\n",
       "      <td>0.142068</td>\n",
       "      <td>-0.012646</td>\n",
       "      <td>1.000000</td>\n",
       "      <td>0.075204</td>\n",
       "      <td>0.084947</td>\n",
       "      <td>0.073647</td>\n",
       "      <td>0.173282</td>\n",
       "      <td>-0.021559</td>\n",
       "    </tr>\n",
       "    <tr>\n",
       "      <th>WorkChallengeFrequencyScaling</th>\n",
       "      <td>-0.011440</td>\n",
       "      <td>0.074006</td>\n",
       "      <td>0.065433</td>\n",
       "      <td>0.110347</td>\n",
       "      <td>0.196364</td>\n",
       "      <td>0.089656</td>\n",
       "      <td>0.084203</td>\n",
       "      <td>-0.061845</td>\n",
       "      <td>0.084790</td>\n",
       "      <td>0.063854</td>\n",
       "      <td>...</td>\n",
       "      <td>0.085551</td>\n",
       "      <td>0.122586</td>\n",
       "      <td>0.103951</td>\n",
       "      <td>0.007577</td>\n",
       "      <td>0.075204</td>\n",
       "      <td>1.000000</td>\n",
       "      <td>0.144271</td>\n",
       "      <td>0.074233</td>\n",
       "      <td>0.079354</td>\n",
       "      <td>-0.000264</td>\n",
       "    </tr>\n",
       "    <tr>\n",
       "      <th>WorkChallengeFrequencyEnvironments</th>\n",
       "      <td>-0.009864</td>\n",
       "      <td>0.074015</td>\n",
       "      <td>0.089406</td>\n",
       "      <td>0.089977</td>\n",
       "      <td>0.118871</td>\n",
       "      <td>0.158883</td>\n",
       "      <td>0.112758</td>\n",
       "      <td>-0.074873</td>\n",
       "      <td>0.099893</td>\n",
       "      <td>0.080243</td>\n",
       "      <td>...</td>\n",
       "      <td>0.097242</td>\n",
       "      <td>0.114236</td>\n",
       "      <td>0.103410</td>\n",
       "      <td>-0.006504</td>\n",
       "      <td>0.084947</td>\n",
       "      <td>0.144271</td>\n",
       "      <td>1.000000</td>\n",
       "      <td>0.122522</td>\n",
       "      <td>0.085212</td>\n",
       "      <td>-0.014485</td>\n",
       "    </tr>\n",
       "    <tr>\n",
       "      <th>WorkChallengeFrequencyClarity</th>\n",
       "      <td>0.049133</td>\n",
       "      <td>0.139292</td>\n",
       "      <td>0.195752</td>\n",
       "      <td>0.142273</td>\n",
       "      <td>0.080695</td>\n",
       "      <td>0.168469</td>\n",
       "      <td>0.165389</td>\n",
       "      <td>-0.112217</td>\n",
       "      <td>0.203755</td>\n",
       "      <td>0.102970</td>\n",
       "      <td>...</td>\n",
       "      <td>0.009116</td>\n",
       "      <td>0.221681</td>\n",
       "      <td>0.073697</td>\n",
       "      <td>0.044274</td>\n",
       "      <td>0.073647</td>\n",
       "      <td>0.074233</td>\n",
       "      <td>0.122522</td>\n",
       "      <td>1.000000</td>\n",
       "      <td>0.141124</td>\n",
       "      <td>-0.043863</td>\n",
       "    </tr>\n",
       "    <tr>\n",
       "      <th>WorkChallengeFrequencyDataAccess</th>\n",
       "      <td>-0.050781</td>\n",
       "      <td>0.063467</td>\n",
       "      <td>0.070719</td>\n",
       "      <td>0.119187</td>\n",
       "      <td>0.100894</td>\n",
       "      <td>0.229970</td>\n",
       "      <td>0.106536</td>\n",
       "      <td>-0.105146</td>\n",
       "      <td>0.099737</td>\n",
       "      <td>0.046998</td>\n",
       "      <td>...</td>\n",
       "      <td>0.099420</td>\n",
       "      <td>0.140008</td>\n",
       "      <td>0.127618</td>\n",
       "      <td>0.009980</td>\n",
       "      <td>0.173282</td>\n",
       "      <td>0.079354</td>\n",
       "      <td>0.085212</td>\n",
       "      <td>0.141124</td>\n",
       "      <td>1.000000</td>\n",
       "      <td>-0.023678</td>\n",
       "    </tr>\n",
       "    <tr>\n",
       "      <th>WorkChallengeFrequencyOtherSelect</th>\n",
       "      <td>0.010043</td>\n",
       "      <td>-0.016417</td>\n",
       "      <td>-0.034229</td>\n",
       "      <td>-0.004156</td>\n",
       "      <td>-0.014673</td>\n",
       "      <td>-0.044987</td>\n",
       "      <td>-0.007583</td>\n",
       "      <td>-0.025494</td>\n",
       "      <td>-0.033047</td>\n",
       "      <td>-0.026699</td>\n",
       "      <td>...</td>\n",
       "      <td>0.012498</td>\n",
       "      <td>-0.009916</td>\n",
       "      <td>-0.025042</td>\n",
       "      <td>-0.020209</td>\n",
       "      <td>-0.021559</td>\n",
       "      <td>-0.000264</td>\n",
       "      <td>-0.014485</td>\n",
       "      <td>-0.043863</td>\n",
       "      <td>-0.023678</td>\n",
       "      <td>1.000000</td>\n",
       "    </tr>\n",
       "  </tbody>\n",
       "</table>\n",
       "<p>23 rows × 23 columns</p>\n",
       "</div>"
      ],
      "text/plain": [
       "                                             JobSatisfaction  \\\n",
       "JobSatisfaction                                     1.000000   \n",
       "WorkChallengeFrequencyPolitics                      0.257772   \n",
       "WorkChallengeFrequencyUnusedResults                 0.127854   \n",
       "WorkChallengeFrequencyUnusefulInstrumenting         0.069781   \n",
       "WorkChallengeFrequencyDeployment                   -0.025852   \n",
       "WorkChallengeFrequencyDirtyData                    -0.070560   \n",
       "WorkChallengeFrequencyExplaining                    0.021602   \n",
       "WorkChallengeFrequencyPass                         -0.004750   \n",
       "WorkChallengeFrequencyIntegration                   0.078507   \n",
       "WorkChallengeFrequencyTalent                        0.176273   \n",
       "WorkChallengeFrequencyDataFunds                     0.057718   \n",
       "WorkChallengeFrequencyDomainExpertise               0.085149   \n",
       "WorkChallengeFrequencyML                            0.023133   \n",
       "WorkChallengeFrequencyTools                         0.068659   \n",
       "WorkChallengeFrequencyExpectations                 -0.026486   \n",
       "WorkChallengeFrequencyITCoordination                0.016531   \n",
       "WorkChallengeFrequencyHiringFunds                   0.091598   \n",
       "WorkChallengeFrequencyPrivacy                      -0.022053   \n",
       "WorkChallengeFrequencyScaling                      -0.011440   \n",
       "WorkChallengeFrequencyEnvironments                 -0.009864   \n",
       "WorkChallengeFrequencyClarity                       0.049133   \n",
       "WorkChallengeFrequencyDataAccess                   -0.050781   \n",
       "WorkChallengeFrequencyOtherSelect                   0.010043   \n",
       "\n",
       "                                             WorkChallengeFrequencyPolitics  \\\n",
       "JobSatisfaction                                                    0.257772   \n",
       "WorkChallengeFrequencyPolitics                                     1.000000   \n",
       "WorkChallengeFrequencyUnusedResults                                0.267638   \n",
       "WorkChallengeFrequencyUnusefulInstrumenting                        0.129231   \n",
       "WorkChallengeFrequencyDeployment                                   0.067418   \n",
       "WorkChallengeFrequencyDirtyData                                    0.062120   \n",
       "WorkChallengeFrequencyExplaining                                   0.152150   \n",
       "WorkChallengeFrequencyPass                                        -0.116868   \n",
       "WorkChallengeFrequencyIntegration                                  0.247810   \n",
       "WorkChallengeFrequencyTalent                                       0.276244   \n",
       "WorkChallengeFrequencyDataFunds                                    0.118400   \n",
       "WorkChallengeFrequencyDomainExpertise                              0.093763   \n",
       "WorkChallengeFrequencyML                                           0.012623   \n",
       "WorkChallengeFrequencyTools                                        0.089880   \n",
       "WorkChallengeFrequencyExpectations                                 0.105167   \n",
       "WorkChallengeFrequencyITCoordination                               0.192788   \n",
       "WorkChallengeFrequencyHiringFunds                                  0.099532   \n",
       "WorkChallengeFrequencyPrivacy                                      0.116065   \n",
       "WorkChallengeFrequencyScaling                                      0.074006   \n",
       "WorkChallengeFrequencyEnvironments                                 0.074015   \n",
       "WorkChallengeFrequencyClarity                                      0.139292   \n",
       "WorkChallengeFrequencyDataAccess                                   0.063467   \n",
       "WorkChallengeFrequencyOtherSelect                                 -0.016417   \n",
       "\n",
       "                                             WorkChallengeFrequencyUnusedResults  \\\n",
       "JobSatisfaction                                                         0.127854   \n",
       "WorkChallengeFrequencyPolitics                                          0.267638   \n",
       "WorkChallengeFrequencyUnusedResults                                     1.000000   \n",
       "WorkChallengeFrequencyUnusefulInstrumenting                             0.170405   \n",
       "WorkChallengeFrequencyDeployment                                        0.087426   \n",
       "WorkChallengeFrequencyDirtyData                                         0.108194   \n",
       "WorkChallengeFrequencyExplaining                                        0.213530   \n",
       "WorkChallengeFrequencyPass                                             -0.091996   \n",
       "WorkChallengeFrequencyIntegration                                       0.356167   \n",
       "WorkChallengeFrequencyTalent                                            0.165351   \n",
       "WorkChallengeFrequencyDataFunds                                         0.061848   \n",
       "WorkChallengeFrequencyDomainExpertise                                   0.089279   \n",
       "WorkChallengeFrequencyML                                                0.016683   \n",
       "WorkChallengeFrequencyTools                                             0.067142   \n",
       "WorkChallengeFrequencyExpectations                                      0.139508   \n",
       "WorkChallengeFrequencyITCoordination                                    0.124344   \n",
       "WorkChallengeFrequencyHiringFunds                                       0.048081   \n",
       "WorkChallengeFrequencyPrivacy                                           0.073235   \n",
       "WorkChallengeFrequencyScaling                                           0.065433   \n",
       "WorkChallengeFrequencyEnvironments                                      0.089406   \n",
       "WorkChallengeFrequencyClarity                                           0.195752   \n",
       "WorkChallengeFrequencyDataAccess                                        0.070719   \n",
       "WorkChallengeFrequencyOtherSelect                                      -0.034229   \n",
       "\n",
       "                                             WorkChallengeFrequencyUnusefulInstrumenting  \\\n",
       "JobSatisfaction                                                                 0.069781   \n",
       "WorkChallengeFrequencyPolitics                                                  0.129231   \n",
       "WorkChallengeFrequencyUnusedResults                                             0.170405   \n",
       "WorkChallengeFrequencyUnusefulInstrumenting                                     1.000000   \n",
       "WorkChallengeFrequencyDeployment                                                0.104498   \n",
       "WorkChallengeFrequencyDirtyData                                                 0.093644   \n",
       "WorkChallengeFrequencyExplaining                                                0.108968   \n",
       "WorkChallengeFrequencyPass                                                     -0.047968   \n",
       "WorkChallengeFrequencyIntegration                                               0.140575   \n",
       "WorkChallengeFrequencyTalent                                                    0.106862   \n",
       "WorkChallengeFrequencyDataFunds                                                 0.089165   \n",
       "WorkChallengeFrequencyDomainExpertise                                           0.106290   \n",
       "WorkChallengeFrequencyML                                                        0.053163   \n",
       "WorkChallengeFrequencyTools                                                     0.091390   \n",
       "WorkChallengeFrequencyExpectations                                              0.127681   \n",
       "WorkChallengeFrequencyITCoordination                                            0.099373   \n",
       "WorkChallengeFrequencyHiringFunds                                               0.054043   \n",
       "WorkChallengeFrequencyPrivacy                                                   0.076960   \n",
       "WorkChallengeFrequencyScaling                                                   0.110347   \n",
       "WorkChallengeFrequencyEnvironments                                              0.089977   \n",
       "WorkChallengeFrequencyClarity                                                   0.142273   \n",
       "WorkChallengeFrequencyDataAccess                                                0.119187   \n",
       "WorkChallengeFrequencyOtherSelect                                              -0.004156   \n",
       "\n",
       "                                             WorkChallengeFrequencyDeployment  \\\n",
       "JobSatisfaction                                                     -0.025852   \n",
       "WorkChallengeFrequencyPolitics                                       0.067418   \n",
       "WorkChallengeFrequencyUnusedResults                                  0.087426   \n",
       "WorkChallengeFrequencyUnusefulInstrumenting                          0.104498   \n",
       "WorkChallengeFrequencyDeployment                                     1.000000   \n",
       "WorkChallengeFrequencyDirtyData                                      0.098781   \n",
       "WorkChallengeFrequencyExplaining                                     0.086908   \n",
       "WorkChallengeFrequencyPass                                          -0.067471   \n",
       "WorkChallengeFrequencyIntegration                                    0.103823   \n",
       "WorkChallengeFrequencyTalent                                         0.058331   \n",
       "WorkChallengeFrequencyDataFunds                                      0.029913   \n",
       "WorkChallengeFrequencyDomainExpertise                                0.041695   \n",
       "WorkChallengeFrequencyML                                             0.083589   \n",
       "WorkChallengeFrequencyTools                                          0.073397   \n",
       "WorkChallengeFrequencyExpectations                                   0.149112   \n",
       "WorkChallengeFrequencyITCoordination                                 0.137261   \n",
       "WorkChallengeFrequencyHiringFunds                                   -0.007802   \n",
       "WorkChallengeFrequencyPrivacy                                        0.077046   \n",
       "WorkChallengeFrequencyScaling                                        0.196364   \n",
       "WorkChallengeFrequencyEnvironments                                   0.118871   \n",
       "WorkChallengeFrequencyClarity                                        0.080695   \n",
       "WorkChallengeFrequencyDataAccess                                     0.100894   \n",
       "WorkChallengeFrequencyOtherSelect                                   -0.014673   \n",
       "\n",
       "                                             WorkChallengeFrequencyDirtyData  \\\n",
       "JobSatisfaction                                                    -0.070560   \n",
       "WorkChallengeFrequencyPolitics                                      0.062120   \n",
       "WorkChallengeFrequencyUnusedResults                                 0.108194   \n",
       "WorkChallengeFrequencyUnusefulInstrumenting                         0.093644   \n",
       "WorkChallengeFrequencyDeployment                                    0.098781   \n",
       "WorkChallengeFrequencyDirtyData                                     1.000000   \n",
       "WorkChallengeFrequencyExplaining                                    0.171722   \n",
       "WorkChallengeFrequencyPass                                         -0.158726   \n",
       "WorkChallengeFrequencyIntegration                                   0.099786   \n",
       "WorkChallengeFrequencyTalent                                        0.067724   \n",
       "WorkChallengeFrequencyDataFunds                                     0.040560   \n",
       "WorkChallengeFrequencyDomainExpertise                               0.077006   \n",
       "WorkChallengeFrequencyML                                            0.015584   \n",
       "WorkChallengeFrequencyTools                                         0.086497   \n",
       "WorkChallengeFrequencyExpectations                                  0.168247   \n",
       "WorkChallengeFrequencyITCoordination                                0.130945   \n",
       "WorkChallengeFrequencyHiringFunds                                  -0.006471   \n",
       "WorkChallengeFrequencyPrivacy                                       0.147889   \n",
       "WorkChallengeFrequencyScaling                                       0.089656   \n",
       "WorkChallengeFrequencyEnvironments                                  0.158883   \n",
       "WorkChallengeFrequencyClarity                                       0.168469   \n",
       "WorkChallengeFrequencyDataAccess                                    0.229970   \n",
       "WorkChallengeFrequencyOtherSelect                                  -0.044987   \n",
       "\n",
       "                                             WorkChallengeFrequencyExplaining  \\\n",
       "JobSatisfaction                                                      0.021602   \n",
       "WorkChallengeFrequencyPolitics                                       0.152150   \n",
       "WorkChallengeFrequencyUnusedResults                                  0.213530   \n",
       "WorkChallengeFrequencyUnusefulInstrumenting                          0.108968   \n",
       "WorkChallengeFrequencyDeployment                                     0.086908   \n",
       "WorkChallengeFrequencyDirtyData                                      0.171722   \n",
       "WorkChallengeFrequencyExplaining                                     1.000000   \n",
       "WorkChallengeFrequencyPass                                          -0.082619   \n",
       "WorkChallengeFrequencyIntegration                                    0.189701   \n",
       "WorkChallengeFrequencyTalent                                         0.184269   \n",
       "WorkChallengeFrequencyDataFunds                                      0.049916   \n",
       "WorkChallengeFrequencyDomainExpertise                                0.085368   \n",
       "WorkChallengeFrequencyML                                             0.066112   \n",
       "WorkChallengeFrequencyTools                                          0.061697   \n",
       "WorkChallengeFrequencyExpectations                                   0.228506   \n",
       "WorkChallengeFrequencyITCoordination                                 0.127912   \n",
       "WorkChallengeFrequencyHiringFunds                                    0.062249   \n",
       "WorkChallengeFrequencyPrivacy                                        0.080377   \n",
       "WorkChallengeFrequencyScaling                                        0.084203   \n",
       "WorkChallengeFrequencyEnvironments                                   0.112758   \n",
       "WorkChallengeFrequencyClarity                                        0.165389   \n",
       "WorkChallengeFrequencyDataAccess                                     0.106536   \n",
       "WorkChallengeFrequencyOtherSelect                                   -0.007583   \n",
       "\n",
       "                                             WorkChallengeFrequencyPass  \\\n",
       "JobSatisfaction                                               -0.004750   \n",
       "WorkChallengeFrequencyPolitics                                -0.116868   \n",
       "WorkChallengeFrequencyUnusedResults                           -0.091996   \n",
       "WorkChallengeFrequencyUnusefulInstrumenting                   -0.047968   \n",
       "WorkChallengeFrequencyDeployment                              -0.067471   \n",
       "WorkChallengeFrequencyDirtyData                               -0.158726   \n",
       "WorkChallengeFrequencyExplaining                              -0.082619   \n",
       "WorkChallengeFrequencyPass                                     1.000000   \n",
       "WorkChallengeFrequencyIntegration                             -0.069097   \n",
       "WorkChallengeFrequencyTalent                                  -0.136543   \n",
       "WorkChallengeFrequencyDataFunds                               -0.059731   \n",
       "WorkChallengeFrequencyDomainExpertise                         -0.071313   \n",
       "WorkChallengeFrequencyML                                      -0.053850   \n",
       "WorkChallengeFrequencyTools                                   -0.060354   \n",
       "WorkChallengeFrequencyExpectations                            -0.061730   \n",
       "WorkChallengeFrequencyITCoordination                          -0.081822   \n",
       "WorkChallengeFrequencyHiringFunds                             -0.072629   \n",
       "WorkChallengeFrequencyPrivacy                                 -0.059592   \n",
       "WorkChallengeFrequencyScaling                                 -0.061845   \n",
       "WorkChallengeFrequencyEnvironments                            -0.074873   \n",
       "WorkChallengeFrequencyClarity                                 -0.112217   \n",
       "WorkChallengeFrequencyDataAccess                              -0.105146   \n",
       "WorkChallengeFrequencyOtherSelect                             -0.025494   \n",
       "\n",
       "                                             WorkChallengeFrequencyIntegration  \\\n",
       "JobSatisfaction                                                       0.078507   \n",
       "WorkChallengeFrequencyPolitics                                        0.247810   \n",
       "WorkChallengeFrequencyUnusedResults                                   0.356167   \n",
       "WorkChallengeFrequencyUnusefulInstrumenting                           0.140575   \n",
       "WorkChallengeFrequencyDeployment                                      0.103823   \n",
       "WorkChallengeFrequencyDirtyData                                       0.099786   \n",
       "WorkChallengeFrequencyExplaining                                      0.189701   \n",
       "WorkChallengeFrequencyPass                                           -0.069097   \n",
       "WorkChallengeFrequencyIntegration                                     1.000000   \n",
       "WorkChallengeFrequencyTalent                                          0.149603   \n",
       "WorkChallengeFrequencyDataFunds                                       0.044840   \n",
       "WorkChallengeFrequencyDomainExpertise                                 0.078789   \n",
       "WorkChallengeFrequencyML                                              0.023679   \n",
       "WorkChallengeFrequencyTools                                           0.048756   \n",
       "WorkChallengeFrequencyExpectations                                    0.193654   \n",
       "WorkChallengeFrequencyITCoordination                                  0.181105   \n",
       "WorkChallengeFrequencyHiringFunds                                     0.031649   \n",
       "WorkChallengeFrequencyPrivacy                                         0.063998   \n",
       "WorkChallengeFrequencyScaling                                         0.084790   \n",
       "WorkChallengeFrequencyEnvironments                                    0.099893   \n",
       "WorkChallengeFrequencyClarity                                         0.203755   \n",
       "WorkChallengeFrequencyDataAccess                                      0.099737   \n",
       "WorkChallengeFrequencyOtherSelect                                    -0.033047   \n",
       "\n",
       "                                             WorkChallengeFrequencyTalent  \\\n",
       "JobSatisfaction                                                  0.176273   \n",
       "WorkChallengeFrequencyPolitics                                   0.276244   \n",
       "WorkChallengeFrequencyUnusedResults                              0.165351   \n",
       "WorkChallengeFrequencyUnusefulInstrumenting                      0.106862   \n",
       "WorkChallengeFrequencyDeployment                                 0.058331   \n",
       "WorkChallengeFrequencyDirtyData                                  0.067724   \n",
       "WorkChallengeFrequencyExplaining                                 0.184269   \n",
       "WorkChallengeFrequencyPass                                      -0.136543   \n",
       "WorkChallengeFrequencyIntegration                                0.149603   \n",
       "WorkChallengeFrequencyTalent                                     1.000000   \n",
       "WorkChallengeFrequencyDataFunds                                  0.089128   \n",
       "WorkChallengeFrequencyDomainExpertise                            0.190665   \n",
       "WorkChallengeFrequencyML                                         0.096181   \n",
       "WorkChallengeFrequencyTools                                      0.082042   \n",
       "WorkChallengeFrequencyExpectations                               0.100831   \n",
       "WorkChallengeFrequencyITCoordination                             0.140218   \n",
       "WorkChallengeFrequencyHiringFunds                                0.198416   \n",
       "WorkChallengeFrequencyPrivacy                                    0.075537   \n",
       "WorkChallengeFrequencyScaling                                    0.063854   \n",
       "WorkChallengeFrequencyEnvironments                               0.080243   \n",
       "WorkChallengeFrequencyClarity                                    0.102970   \n",
       "WorkChallengeFrequencyDataAccess                                 0.046998   \n",
       "WorkChallengeFrequencyOtherSelect                               -0.026699   \n",
       "\n",
       "                                                           ...                  \\\n",
       "JobSatisfaction                                            ...                   \n",
       "WorkChallengeFrequencyPolitics                             ...                   \n",
       "WorkChallengeFrequencyUnusedResults                        ...                   \n",
       "WorkChallengeFrequencyUnusefulInstrumenting                ...                   \n",
       "WorkChallengeFrequencyDeployment                           ...                   \n",
       "WorkChallengeFrequencyDirtyData                            ...                   \n",
       "WorkChallengeFrequencyExplaining                           ...                   \n",
       "WorkChallengeFrequencyPass                                 ...                   \n",
       "WorkChallengeFrequencyIntegration                          ...                   \n",
       "WorkChallengeFrequencyTalent                               ...                   \n",
       "WorkChallengeFrequencyDataFunds                            ...                   \n",
       "WorkChallengeFrequencyDomainExpertise                      ...                   \n",
       "WorkChallengeFrequencyML                                   ...                   \n",
       "WorkChallengeFrequencyTools                                ...                   \n",
       "WorkChallengeFrequencyExpectations                         ...                   \n",
       "WorkChallengeFrequencyITCoordination                       ...                   \n",
       "WorkChallengeFrequencyHiringFunds                          ...                   \n",
       "WorkChallengeFrequencyPrivacy                              ...                   \n",
       "WorkChallengeFrequencyScaling                              ...                   \n",
       "WorkChallengeFrequencyEnvironments                         ...                   \n",
       "WorkChallengeFrequencyClarity                              ...                   \n",
       "WorkChallengeFrequencyDataAccess                           ...                   \n",
       "WorkChallengeFrequencyOtherSelect                          ...                   \n",
       "\n",
       "                                             WorkChallengeFrequencyTools  \\\n",
       "JobSatisfaction                                                 0.068659   \n",
       "WorkChallengeFrequencyPolitics                                  0.089880   \n",
       "WorkChallengeFrequencyUnusedResults                             0.067142   \n",
       "WorkChallengeFrequencyUnusefulInstrumenting                     0.091390   \n",
       "WorkChallengeFrequencyDeployment                                0.073397   \n",
       "WorkChallengeFrequencyDirtyData                                 0.086497   \n",
       "WorkChallengeFrequencyExplaining                                0.061697   \n",
       "WorkChallengeFrequencyPass                                     -0.060354   \n",
       "WorkChallengeFrequencyIntegration                               0.048756   \n",
       "WorkChallengeFrequencyTalent                                    0.082042   \n",
       "WorkChallengeFrequencyDataFunds                                 0.119669   \n",
       "WorkChallengeFrequencyDomainExpertise                           0.074328   \n",
       "WorkChallengeFrequencyML                                        0.155396   \n",
       "WorkChallengeFrequencyTools                                     1.000000   \n",
       "WorkChallengeFrequencyExpectations                              0.029047   \n",
       "WorkChallengeFrequencyITCoordination                            0.133865   \n",
       "WorkChallengeFrequencyHiringFunds                               0.027526   \n",
       "WorkChallengeFrequencyPrivacy                                   0.073920   \n",
       "WorkChallengeFrequencyScaling                                   0.085551   \n",
       "WorkChallengeFrequencyEnvironments                              0.097242   \n",
       "WorkChallengeFrequencyClarity                                   0.009116   \n",
       "WorkChallengeFrequencyDataAccess                                0.099420   \n",
       "WorkChallengeFrequencyOtherSelect                               0.012498   \n",
       "\n",
       "                                             WorkChallengeFrequencyExpectations  \\\n",
       "JobSatisfaction                                                       -0.026486   \n",
       "WorkChallengeFrequencyPolitics                                         0.105167   \n",
       "WorkChallengeFrequencyUnusedResults                                    0.139508   \n",
       "WorkChallengeFrequencyUnusefulInstrumenting                            0.127681   \n",
       "WorkChallengeFrequencyDeployment                                       0.149112   \n",
       "WorkChallengeFrequencyDirtyData                                        0.168247   \n",
       "WorkChallengeFrequencyExplaining                                       0.228506   \n",
       "WorkChallengeFrequencyPass                                            -0.061730   \n",
       "WorkChallengeFrequencyIntegration                                      0.193654   \n",
       "WorkChallengeFrequencyTalent                                           0.100831   \n",
       "WorkChallengeFrequencyDataFunds                                        0.042815   \n",
       "WorkChallengeFrequencyDomainExpertise                                  0.092421   \n",
       "WorkChallengeFrequencyML                                               0.050492   \n",
       "WorkChallengeFrequencyTools                                            0.029047   \n",
       "WorkChallengeFrequencyExpectations                                     1.000000   \n",
       "WorkChallengeFrequencyITCoordination                                   0.090625   \n",
       "WorkChallengeFrequencyHiringFunds                                      0.000296   \n",
       "WorkChallengeFrequencyPrivacy                                          0.088020   \n",
       "WorkChallengeFrequencyScaling                                          0.122586   \n",
       "WorkChallengeFrequencyEnvironments                                     0.114236   \n",
       "WorkChallengeFrequencyClarity                                          0.221681   \n",
       "WorkChallengeFrequencyDataAccess                                       0.140008   \n",
       "WorkChallengeFrequencyOtherSelect                                     -0.009916   \n",
       "\n",
       "                                             WorkChallengeFrequencyITCoordination  \\\n",
       "JobSatisfaction                                                          0.016531   \n",
       "WorkChallengeFrequencyPolitics                                           0.192788   \n",
       "WorkChallengeFrequencyUnusedResults                                      0.124344   \n",
       "WorkChallengeFrequencyUnusefulInstrumenting                              0.099373   \n",
       "WorkChallengeFrequencyDeployment                                         0.137261   \n",
       "WorkChallengeFrequencyDirtyData                                          0.130945   \n",
       "WorkChallengeFrequencyExplaining                                         0.127912   \n",
       "WorkChallengeFrequencyPass                                              -0.081822   \n",
       "WorkChallengeFrequencyIntegration                                        0.181105   \n",
       "WorkChallengeFrequencyTalent                                             0.140218   \n",
       "WorkChallengeFrequencyDataFunds                                          0.051951   \n",
       "WorkChallengeFrequencyDomainExpertise                                    0.036341   \n",
       "WorkChallengeFrequencyML                                                 0.031097   \n",
       "WorkChallengeFrequencyTools                                              0.133865   \n",
       "WorkChallengeFrequencyExpectations                                       0.090625   \n",
       "WorkChallengeFrequencyITCoordination                                     1.000000   \n",
       "WorkChallengeFrequencyHiringFunds                                       -0.022771   \n",
       "WorkChallengeFrequencyPrivacy                                            0.142068   \n",
       "WorkChallengeFrequencyScaling                                            0.103951   \n",
       "WorkChallengeFrequencyEnvironments                                       0.103410   \n",
       "WorkChallengeFrequencyClarity                                            0.073697   \n",
       "WorkChallengeFrequencyDataAccess                                         0.127618   \n",
       "WorkChallengeFrequencyOtherSelect                                       -0.025042   \n",
       "\n",
       "                                             WorkChallengeFrequencyHiringFunds  \\\n",
       "JobSatisfaction                                                       0.091598   \n",
       "WorkChallengeFrequencyPolitics                                        0.099532   \n",
       "WorkChallengeFrequencyUnusedResults                                   0.048081   \n",
       "WorkChallengeFrequencyUnusefulInstrumenting                           0.054043   \n",
       "WorkChallengeFrequencyDeployment                                     -0.007802   \n",
       "WorkChallengeFrequencyDirtyData                                      -0.006471   \n",
       "WorkChallengeFrequencyExplaining                                      0.062249   \n",
       "WorkChallengeFrequencyPass                                           -0.072629   \n",
       "WorkChallengeFrequencyIntegration                                     0.031649   \n",
       "WorkChallengeFrequencyTalent                                          0.198416   \n",
       "WorkChallengeFrequencyDataFunds                                       0.167434   \n",
       "WorkChallengeFrequencyDomainExpertise                                 0.058917   \n",
       "WorkChallengeFrequencyML                                              0.045186   \n",
       "WorkChallengeFrequencyTools                                           0.027526   \n",
       "WorkChallengeFrequencyExpectations                                    0.000296   \n",
       "WorkChallengeFrequencyITCoordination                                 -0.022771   \n",
       "WorkChallengeFrequencyHiringFunds                                     1.000000   \n",
       "WorkChallengeFrequencyPrivacy                                        -0.012646   \n",
       "WorkChallengeFrequencyScaling                                         0.007577   \n",
       "WorkChallengeFrequencyEnvironments                                   -0.006504   \n",
       "WorkChallengeFrequencyClarity                                         0.044274   \n",
       "WorkChallengeFrequencyDataAccess                                      0.009980   \n",
       "WorkChallengeFrequencyOtherSelect                                    -0.020209   \n",
       "\n",
       "                                             WorkChallengeFrequencyPrivacy  \\\n",
       "JobSatisfaction                                                  -0.022053   \n",
       "WorkChallengeFrequencyPolitics                                    0.116065   \n",
       "WorkChallengeFrequencyUnusedResults                               0.073235   \n",
       "WorkChallengeFrequencyUnusefulInstrumenting                       0.076960   \n",
       "WorkChallengeFrequencyDeployment                                  0.077046   \n",
       "WorkChallengeFrequencyDirtyData                                   0.147889   \n",
       "WorkChallengeFrequencyExplaining                                  0.080377   \n",
       "WorkChallengeFrequencyPass                                       -0.059592   \n",
       "WorkChallengeFrequencyIntegration                                 0.063998   \n",
       "WorkChallengeFrequencyTalent                                      0.075537   \n",
       "WorkChallengeFrequencyDataFunds                                   0.068121   \n",
       "WorkChallengeFrequencyDomainExpertise                             0.050587   \n",
       "WorkChallengeFrequencyML                                          0.015649   \n",
       "WorkChallengeFrequencyTools                                       0.073920   \n",
       "WorkChallengeFrequencyExpectations                                0.088020   \n",
       "WorkChallengeFrequencyITCoordination                              0.142068   \n",
       "WorkChallengeFrequencyHiringFunds                                -0.012646   \n",
       "WorkChallengeFrequencyPrivacy                                     1.000000   \n",
       "WorkChallengeFrequencyScaling                                     0.075204   \n",
       "WorkChallengeFrequencyEnvironments                                0.084947   \n",
       "WorkChallengeFrequencyClarity                                     0.073647   \n",
       "WorkChallengeFrequencyDataAccess                                  0.173282   \n",
       "WorkChallengeFrequencyOtherSelect                                -0.021559   \n",
       "\n",
       "                                             WorkChallengeFrequencyScaling  \\\n",
       "JobSatisfaction                                                  -0.011440   \n",
       "WorkChallengeFrequencyPolitics                                    0.074006   \n",
       "WorkChallengeFrequencyUnusedResults                               0.065433   \n",
       "WorkChallengeFrequencyUnusefulInstrumenting                       0.110347   \n",
       "WorkChallengeFrequencyDeployment                                  0.196364   \n",
       "WorkChallengeFrequencyDirtyData                                   0.089656   \n",
       "WorkChallengeFrequencyExplaining                                  0.084203   \n",
       "WorkChallengeFrequencyPass                                       -0.061845   \n",
       "WorkChallengeFrequencyIntegration                                 0.084790   \n",
       "WorkChallengeFrequencyTalent                                      0.063854   \n",
       "WorkChallengeFrequencyDataFunds                                   0.074729   \n",
       "WorkChallengeFrequencyDomainExpertise                             0.079729   \n",
       "WorkChallengeFrequencyML                                          0.090722   \n",
       "WorkChallengeFrequencyTools                                       0.085551   \n",
       "WorkChallengeFrequencyExpectations                                0.122586   \n",
       "WorkChallengeFrequencyITCoordination                              0.103951   \n",
       "WorkChallengeFrequencyHiringFunds                                 0.007577   \n",
       "WorkChallengeFrequencyPrivacy                                     0.075204   \n",
       "WorkChallengeFrequencyScaling                                     1.000000   \n",
       "WorkChallengeFrequencyEnvironments                                0.144271   \n",
       "WorkChallengeFrequencyClarity                                     0.074233   \n",
       "WorkChallengeFrequencyDataAccess                                  0.079354   \n",
       "WorkChallengeFrequencyOtherSelect                                -0.000264   \n",
       "\n",
       "                                             WorkChallengeFrequencyEnvironments  \\\n",
       "JobSatisfaction                                                       -0.009864   \n",
       "WorkChallengeFrequencyPolitics                                         0.074015   \n",
       "WorkChallengeFrequencyUnusedResults                                    0.089406   \n",
       "WorkChallengeFrequencyUnusefulInstrumenting                            0.089977   \n",
       "WorkChallengeFrequencyDeployment                                       0.118871   \n",
       "WorkChallengeFrequencyDirtyData                                        0.158883   \n",
       "WorkChallengeFrequencyExplaining                                       0.112758   \n",
       "WorkChallengeFrequencyPass                                            -0.074873   \n",
       "WorkChallengeFrequencyIntegration                                      0.099893   \n",
       "WorkChallengeFrequencyTalent                                           0.080243   \n",
       "WorkChallengeFrequencyDataFunds                                        0.056893   \n",
       "WorkChallengeFrequencyDomainExpertise                                  0.068289   \n",
       "WorkChallengeFrequencyML                                               0.081821   \n",
       "WorkChallengeFrequencyTools                                            0.097242   \n",
       "WorkChallengeFrequencyExpectations                                     0.114236   \n",
       "WorkChallengeFrequencyITCoordination                                   0.103410   \n",
       "WorkChallengeFrequencyHiringFunds                                     -0.006504   \n",
       "WorkChallengeFrequencyPrivacy                                          0.084947   \n",
       "WorkChallengeFrequencyScaling                                          0.144271   \n",
       "WorkChallengeFrequencyEnvironments                                     1.000000   \n",
       "WorkChallengeFrequencyClarity                                          0.122522   \n",
       "WorkChallengeFrequencyDataAccess                                       0.085212   \n",
       "WorkChallengeFrequencyOtherSelect                                     -0.014485   \n",
       "\n",
       "                                             WorkChallengeFrequencyClarity  \\\n",
       "JobSatisfaction                                                   0.049133   \n",
       "WorkChallengeFrequencyPolitics                                    0.139292   \n",
       "WorkChallengeFrequencyUnusedResults                               0.195752   \n",
       "WorkChallengeFrequencyUnusefulInstrumenting                       0.142273   \n",
       "WorkChallengeFrequencyDeployment                                  0.080695   \n",
       "WorkChallengeFrequencyDirtyData                                   0.168469   \n",
       "WorkChallengeFrequencyExplaining                                  0.165389   \n",
       "WorkChallengeFrequencyPass                                       -0.112217   \n",
       "WorkChallengeFrequencyIntegration                                 0.203755   \n",
       "WorkChallengeFrequencyTalent                                      0.102970   \n",
       "WorkChallengeFrequencyDataFunds                                   0.047787   \n",
       "WorkChallengeFrequencyDomainExpertise                             0.167471   \n",
       "WorkChallengeFrequencyML                                          0.040909   \n",
       "WorkChallengeFrequencyTools                                       0.009116   \n",
       "WorkChallengeFrequencyExpectations                                0.221681   \n",
       "WorkChallengeFrequencyITCoordination                              0.073697   \n",
       "WorkChallengeFrequencyHiringFunds                                 0.044274   \n",
       "WorkChallengeFrequencyPrivacy                                     0.073647   \n",
       "WorkChallengeFrequencyScaling                                     0.074233   \n",
       "WorkChallengeFrequencyEnvironments                                0.122522   \n",
       "WorkChallengeFrequencyClarity                                     1.000000   \n",
       "WorkChallengeFrequencyDataAccess                                  0.141124   \n",
       "WorkChallengeFrequencyOtherSelect                                -0.043863   \n",
       "\n",
       "                                             WorkChallengeFrequencyDataAccess  \\\n",
       "JobSatisfaction                                                     -0.050781   \n",
       "WorkChallengeFrequencyPolitics                                       0.063467   \n",
       "WorkChallengeFrequencyUnusedResults                                  0.070719   \n",
       "WorkChallengeFrequencyUnusefulInstrumenting                          0.119187   \n",
       "WorkChallengeFrequencyDeployment                                     0.100894   \n",
       "WorkChallengeFrequencyDirtyData                                      0.229970   \n",
       "WorkChallengeFrequencyExplaining                                     0.106536   \n",
       "WorkChallengeFrequencyPass                                          -0.105146   \n",
       "WorkChallengeFrequencyIntegration                                    0.099737   \n",
       "WorkChallengeFrequencyTalent                                         0.046998   \n",
       "WorkChallengeFrequencyDataFunds                                      0.128282   \n",
       "WorkChallengeFrequencyDomainExpertise                                0.083149   \n",
       "WorkChallengeFrequencyML                                             0.025681   \n",
       "WorkChallengeFrequencyTools                                          0.099420   \n",
       "WorkChallengeFrequencyExpectations                                   0.140008   \n",
       "WorkChallengeFrequencyITCoordination                                 0.127618   \n",
       "WorkChallengeFrequencyHiringFunds                                    0.009980   \n",
       "WorkChallengeFrequencyPrivacy                                        0.173282   \n",
       "WorkChallengeFrequencyScaling                                        0.079354   \n",
       "WorkChallengeFrequencyEnvironments                                   0.085212   \n",
       "WorkChallengeFrequencyClarity                                        0.141124   \n",
       "WorkChallengeFrequencyDataAccess                                     1.000000   \n",
       "WorkChallengeFrequencyOtherSelect                                   -0.023678   \n",
       "\n",
       "                                             WorkChallengeFrequencyOtherSelect  \n",
       "JobSatisfaction                                                       0.010043  \n",
       "WorkChallengeFrequencyPolitics                                       -0.016417  \n",
       "WorkChallengeFrequencyUnusedResults                                  -0.034229  \n",
       "WorkChallengeFrequencyUnusefulInstrumenting                          -0.004156  \n",
       "WorkChallengeFrequencyDeployment                                     -0.014673  \n",
       "WorkChallengeFrequencyDirtyData                                      -0.044987  \n",
       "WorkChallengeFrequencyExplaining                                     -0.007583  \n",
       "WorkChallengeFrequencyPass                                           -0.025494  \n",
       "WorkChallengeFrequencyIntegration                                    -0.033047  \n",
       "WorkChallengeFrequencyTalent                                         -0.026699  \n",
       "WorkChallengeFrequencyDataFunds                                      -0.006266  \n",
       "WorkChallengeFrequencyDomainExpertise                                -0.004768  \n",
       "WorkChallengeFrequencyML                                             -0.005706  \n",
       "WorkChallengeFrequencyTools                                           0.012498  \n",
       "WorkChallengeFrequencyExpectations                                   -0.009916  \n",
       "WorkChallengeFrequencyITCoordination                                 -0.025042  \n",
       "WorkChallengeFrequencyHiringFunds                                    -0.020209  \n",
       "WorkChallengeFrequencyPrivacy                                        -0.021559  \n",
       "WorkChallengeFrequencyScaling                                        -0.000264  \n",
       "WorkChallengeFrequencyEnvironments                                   -0.014485  \n",
       "WorkChallengeFrequencyClarity                                        -0.043863  \n",
       "WorkChallengeFrequencyDataAccess                                     -0.023678  \n",
       "WorkChallengeFrequencyOtherSelect                                     1.000000  \n",
       "\n",
       "[23 rows x 23 columns]"
      ]
     },
     "execution_count": 46,
     "metadata": {},
     "output_type": "execute_result"
    }
   ],
   "source": [
    "question1_corr[['JobSatisfaction', 'WorkChallengeFrequencyPolitics', 'WorkChallengeFrequencyUnusedResults', 'WorkChallengeFrequencyUnusefulInstrumenting', 'WorkChallengeFrequencyDeployment', 'WorkChallengeFrequencyDirtyData', 'WorkChallengeFrequencyExplaining', 'WorkChallengeFrequencyPass', 'WorkChallengeFrequencyIntegration', 'WorkChallengeFrequencyTalent', 'WorkChallengeFrequencyDataFunds', 'WorkChallengeFrequencyDomainExpertise', 'WorkChallengeFrequencyML', 'WorkChallengeFrequencyTools', 'WorkChallengeFrequencyExpectations', 'WorkChallengeFrequencyITCoordination', 'WorkChallengeFrequencyHiringFunds', 'WorkChallengeFrequencyPrivacy', 'WorkChallengeFrequencyScaling', 'WorkChallengeFrequencyEnvironments', 'WorkChallengeFrequencyClarity', 'WorkChallengeFrequencyDataAccess', 'WorkChallengeFrequencyOtherSelect']].corr()"
   ]
  },
  {
   "cell_type": "code",
   "execution_count": 47,
   "metadata": {},
   "outputs": [
    {
     "data": {
      "text/plain": [
       "Index(['WorkChallengeFrequencyPolitics', 'WorkChallengeFrequencyUnusedResults',\n",
       "       'WorkChallengeFrequencyUnusefulInstrumenting',\n",
       "       'WorkChallengeFrequencyDeployment', 'WorkChallengeFrequencyDirtyData',\n",
       "       'WorkChallengeFrequencyExplaining', 'WorkChallengeFrequencyPass',\n",
       "       'WorkChallengeFrequencyIntegration', 'WorkChallengeFrequencyTalent',\n",
       "       'WorkChallengeFrequencyDataFunds',\n",
       "       'WorkChallengeFrequencyDomainExpertise', 'WorkChallengeFrequencyML',\n",
       "       'WorkChallengeFrequencyTools', 'WorkChallengeFrequencyExpectations',\n",
       "       'WorkChallengeFrequencyITCoordination',\n",
       "       'WorkChallengeFrequencyHiringFunds', 'WorkChallengeFrequencyPrivacy',\n",
       "       'WorkChallengeFrequencyScaling', 'WorkChallengeFrequencyEnvironments',\n",
       "       'WorkChallengeFrequencyClarity', 'WorkChallengeFrequencyDataAccess',\n",
       "       'WorkChallengeFrequencyOtherSelect'],\n",
       "      dtype='object')"
      ]
     },
     "execution_count": 47,
     "metadata": {},
     "output_type": "execute_result"
    }
   ],
   "source": [
    "question1_corr.columns[1:]"
   ]
  },
  {
   "cell_type": "code",
   "execution_count": 48,
   "metadata": {},
   "outputs": [
    {
     "name": "stdout",
     "output_type": "stream",
     "text": [
      "WorkChallengeFrequencyPolitics\n",
      "WorkChallengeFrequencyUnusedResults\n",
      "WorkChallengeFrequencyUnusefulInstrumenting\n",
      "WorkChallengeFrequencyDeployment\n",
      "WorkChallengeFrequencyDirtyData\n",
      "WorkChallengeFrequencyExplaining is not correlated with a 95% C.I.\n",
      "WorkChallengeFrequencyPass is not correlated with a 95% C.I.\n",
      "WorkChallengeFrequencyIntegration\n",
      "WorkChallengeFrequencyTalent\n",
      "WorkChallengeFrequencyDataFunds\n",
      "WorkChallengeFrequencyDomainExpertise\n",
      "WorkChallengeFrequencyML is not correlated with a 95% C.I.\n",
      "WorkChallengeFrequencyTools\n",
      "WorkChallengeFrequencyExpectations\n",
      "WorkChallengeFrequencyITCoordination is not correlated with a 95% C.I.\n",
      "WorkChallengeFrequencyHiringFunds\n",
      "WorkChallengeFrequencyPrivacy is not correlated with a 95% C.I.\n",
      "WorkChallengeFrequencyScaling is not correlated with a 95% C.I.\n",
      "WorkChallengeFrequencyEnvironments is not correlated with a 95% C.I.\n",
      "WorkChallengeFrequencyClarity\n",
      "WorkChallengeFrequencyDataAccess\n",
      "WorkChallengeFrequencyOtherSelect is not correlated with a 95% C.I.\n"
     ]
    }
   ],
   "source": [
    "for i in question1_corr.columns[1:]:\n",
    "    slope, intercept, r_value, p_value, std_err = linregress(question1_corr['JobSatisfaction'],question1_corr[i])\n",
    "    if p_value < 0.05:\n",
    "        print(i)\n",
    "    else:\n",
    "        print(i + \" is not correlated with a 95% C.I.\")"
   ]
  },
  {
   "cell_type": "code",
   "execution_count": 49,
   "metadata": {},
   "outputs": [
    {
     "data": {
      "text/plain": [
       "LinregressResult(slope=-0.0012896975335568439, intercept=3.88956064264115, rvalue=-0.0047504370223867016, pvalue=0.70114554213905422, stderr=0.0033604125475739967)"
      ]
     },
     "execution_count": 49,
     "metadata": {},
     "output_type": "execute_result"
    }
   ],
   "source": [
    "linregress(question1_corr['JobSatisfaction'],question1_corr['WorkChallengeFrequencyPass'])"
   ]
  },
  {
   "cell_type": "code",
   "execution_count": null,
   "metadata": {},
   "outputs": [],
   "source": []
  },
  {
   "cell_type": "code",
   "execution_count": 50,
   "metadata": {},
   "outputs": [
    {
     "data": {
      "image/png": "[encoded data removed]",
      "text/plain": [
       "<matplotlib.figure.Figure at 0x29d4294d978>"
      ]
     },
     "metadata": {},
     "output_type": "display_data"
    }
   ],
   "source": [
    "sns.swarmplot(x='JobSatisfaction', y='WorkChallengeFrequencyPolitics', data=question1_corr)\n",
    "plt.show()"
   ]
  },
  {
   "cell_type": "code",
   "execution_count": 51,
   "metadata": {},
   "outputs": [],
   "source": [
    "sum_columns = question1_corr.columns.tolist()[1:]"
   ]
  },
  {
   "cell_type": "code",
   "execution_count": null,
   "metadata": {},
   "outputs": [],
   "source": []
  },
  {
   "cell_type": "code",
   "execution_count": 56,
   "metadata": {},
   "outputs": [
    {
     "data": {
      "text/html": [
       "<div>\n",
       "<style>\n",
       "    .dataframe thead tr:only-child th {\n",
       "        text-align: right;\n",
       "    }\n",
       "\n",
       "    .dataframe thead th {\n",
       "        text-align: left;\n",
       "    }\n",
       "\n",
       "    .dataframe tbody tr th {\n",
       "        vertical-align: top;\n",
       "    }\n",
       "</style>\n",
       "<table border=\"1\" class=\"dataframe\">\n",
       "  <thead>\n",
       "    <tr style=\"text-align: right;\">\n",
       "      <th></th>\n",
       "      <th>TitleFit</th>\n",
       "      <th>JobSatisfaction</th>\n",
       "    </tr>\n",
       "  </thead>\n",
       "  <tbody>\n",
       "    <tr>\n",
       "      <th>0</th>\n",
       "      <td>2</td>\n",
       "      <td>5</td>\n",
       "    </tr>\n",
       "    <tr>\n",
       "      <th>3</th>\n",
       "      <td>1</td>\n",
       "      <td>10</td>\n",
       "    </tr>\n",
       "    <tr>\n",
       "      <th>4</th>\n",
       "      <td>2</td>\n",
       "      <td>2</td>\n",
       "    </tr>\n",
       "    <tr>\n",
       "      <th>5</th>\n",
       "      <td>2</td>\n",
       "      <td>8</td>\n",
       "    </tr>\n",
       "    <tr>\n",
       "      <th>6</th>\n",
       "      <td>2</td>\n",
       "      <td>8</td>\n",
       "    </tr>\n",
       "  </tbody>\n",
       "</table>\n",
       "</div>"
      ],
      "text/plain": [
       "   TitleFit  JobSatisfaction\n",
       "0         2                5\n",
       "3         1               10\n",
       "4         2                2\n",
       "5         2                8\n",
       "6         2                8"
      ]
     },
     "execution_count": 56,
     "metadata": {},
     "output_type": "execute_result"
    }
   ],
   "source": [
    "corr1 = title_fit[['TitleFit','JobSatisfaction']]\n",
    "title_fit_crosstab = pd.crosstab(index=corr1[\"TitleFit\"],\n",
    "                                columns=corr1[\"JobSatisfaction\"])\n",
    "corr1['TitleFit'] = corr1['TitleFit'].replace(['Perfectly', 'Fine', 'Poorly'], ['3', '2', '1']).astype(int)\n",
    "\n",
    "corr1.head()"
   ]
  },
  {
   "cell_type": "code",
   "execution_count": 57,
   "metadata": {},
   "outputs": [
    {
     "data": {
      "text/html": [
       "<div>\n",
       "<style>\n",
       "    .dataframe thead tr:only-child th {\n",
       "        text-align: right;\n",
       "    }\n",
       "\n",
       "    .dataframe thead th {\n",
       "        text-align: left;\n",
       "    }\n",
       "\n",
       "    .dataframe tbody tr th {\n",
       "        vertical-align: top;\n",
       "    }\n",
       "</style>\n",
       "<table border=\"1\" class=\"dataframe\">\n",
       "  <thead>\n",
       "    <tr style=\"text-align: right;\">\n",
       "      <th>JobSatisfaction</th>\n",
       "      <th>1</th>\n",
       "      <th>2</th>\n",
       "      <th>3</th>\n",
       "      <th>4</th>\n",
       "      <th>5</th>\n",
       "      <th>6</th>\n",
       "      <th>7</th>\n",
       "      <th>8</th>\n",
       "      <th>9</th>\n",
       "      <th>10</th>\n",
       "    </tr>\n",
       "    <tr>\n",
       "      <th>TitleFit</th>\n",
       "      <th></th>\n",
       "      <th></th>\n",
       "      <th></th>\n",
       "      <th></th>\n",
       "      <th></th>\n",
       "      <th></th>\n",
       "      <th></th>\n",
       "      <th></th>\n",
       "      <th></th>\n",
       "      <th></th>\n",
       "    </tr>\n",
       "  </thead>\n",
       "  <tbody>\n",
       "    <tr>\n",
       "      <th>Fine</th>\n",
       "      <td>76</td>\n",
       "      <td>64</td>\n",
       "      <td>229</td>\n",
       "      <td>230</td>\n",
       "      <td>405</td>\n",
       "      <td>521</td>\n",
       "      <td>993</td>\n",
       "      <td>957</td>\n",
       "      <td>391</td>\n",
       "      <td>319</td>\n",
       "    </tr>\n",
       "    <tr>\n",
       "      <th>Perfectly</th>\n",
       "      <td>30</td>\n",
       "      <td>17</td>\n",
       "      <td>44</td>\n",
       "      <td>43</td>\n",
       "      <td>79</td>\n",
       "      <td>134</td>\n",
       "      <td>253</td>\n",
       "      <td>310</td>\n",
       "      <td>215</td>\n",
       "      <td>210</td>\n",
       "    </tr>\n",
       "    <tr>\n",
       "      <th>Poorly</th>\n",
       "      <td>58</td>\n",
       "      <td>31</td>\n",
       "      <td>80</td>\n",
       "      <td>70</td>\n",
       "      <td>126</td>\n",
       "      <td>97</td>\n",
       "      <td>177</td>\n",
       "      <td>139</td>\n",
       "      <td>54</td>\n",
       "      <td>55</td>\n",
       "    </tr>\n",
       "  </tbody>\n",
       "</table>\n",
       "</div>"
      ],
      "text/plain": [
       "JobSatisfaction  1   2    3    4    5    6    7    8    9    10\n",
       "TitleFit                                                       \n",
       "Fine             76  64  229  230  405  521  993  957  391  319\n",
       "Perfectly        30  17   44   43   79  134  253  310  215  210\n",
       "Poorly           58  31   80   70  126   97  177  139   54   55"
      ]
     },
     "execution_count": 57,
     "metadata": {},
     "output_type": "execute_result"
    }
   ],
   "source": [
    "title_fit_crosstab"
   ]
  },
  {
   "cell_type": "code",
   "execution_count": 58,
   "metadata": {},
   "outputs": [
    {
     "data": {
      "text/plain": [
       "(6407, 2)"
      ]
     },
     "execution_count": 58,
     "metadata": {},
     "output_type": "execute_result"
    }
   ],
   "source": [
    "corr1.shape"
   ]
  },
  {
   "cell_type": "code",
   "execution_count": 59,
   "metadata": {},
   "outputs": [
    {
     "data": {
      "text/html": [
       "<div>\n",
       "<style>\n",
       "    .dataframe thead tr:only-child th {\n",
       "        text-align: right;\n",
       "    }\n",
       "\n",
       "    .dataframe thead th {\n",
       "        text-align: left;\n",
       "    }\n",
       "\n",
       "    .dataframe tbody tr th {\n",
       "        vertical-align: top;\n",
       "    }\n",
       "</style>\n",
       "<table border=\"1\" class=\"dataframe\">\n",
       "  <thead>\n",
       "    <tr style=\"text-align: right;\">\n",
       "      <th></th>\n",
       "      <th>TitleFit</th>\n",
       "      <th>JobSatisfaction</th>\n",
       "    </tr>\n",
       "  </thead>\n",
       "  <tbody>\n",
       "    <tr>\n",
       "      <th>TitleFit</th>\n",
       "      <td>1.000000</td>\n",
       "      <td>0.196414</td>\n",
       "    </tr>\n",
       "    <tr>\n",
       "      <th>JobSatisfaction</th>\n",
       "      <td>0.196414</td>\n",
       "      <td>1.000000</td>\n",
       "    </tr>\n",
       "  </tbody>\n",
       "</table>\n",
       "</div>"
      ],
      "text/plain": [
       "                 TitleFit  JobSatisfaction\n",
       "TitleFit         1.000000         0.196414\n",
       "JobSatisfaction  0.196414         1.000000"
      ]
     },
     "execution_count": 59,
     "metadata": {},
     "output_type": "execute_result"
    }
   ],
   "source": [
    "corr1.corr()"
   ]
  },
  {
   "cell_type": "code",
   "execution_count": 60,
   "metadata": {},
   "outputs": [],
   "source": [
    "salary_change = clean_MC_data.dropna(subset=['SalaryChange'])"
   ]
  },
  {
   "cell_type": "code",
   "execution_count": 61,
   "metadata": {},
   "outputs": [
    {
     "data": {
      "text/plain": [
       "array(['I am not currently employed', 'Has increased 20% or more',\n",
       "       'I do not want to share information about my salary/compensation',\n",
       "       'Has stayed about the same (has not increased or decreased more than 5%)',\n",
       "       'Has increased between 6% and 19%',\n",
       "       'Has decreased between 6% and 19%',\n",
       "       'I was not employed 3 years ago', 'Has decreased 20% or more',\n",
       "       'Other'], dtype=object)"
      ]
     },
     "execution_count": 61,
     "metadata": {},
     "output_type": "execute_result"
    }
   ],
   "source": [
    "salary_change.SalaryChange.unique()"
   ]
  },
  {
   "cell_type": "code",
   "execution_count": 62,
   "metadata": {},
   "outputs": [
    {
     "data": {
      "text/plain": [
       "Has increased 20% or more                                                  1913\n",
       "Has increased between 6% and 19%                                           1441\n",
       "Has stayed about the same (has not increased or decreased more than 5%)    1323\n",
       "I was not employed 3 years ago                                              625\n",
       "I do not want to share information about my salary/compensation             568\n",
       "Other                                                                       118\n",
       "Has decreased 20% or more                                                   107\n",
       "Has decreased between 6% and 19%                                             96\n",
       "I am not currently employed                                                  35\n",
       "Name: SalaryChange, dtype: int64"
      ]
     },
     "execution_count": 62,
     "metadata": {},
     "output_type": "execute_result"
    }
   ],
   "source": [
    "salary_change['SalaryChange'].value_counts()"
   ]
  },
  {
   "cell_type": "code",
   "execution_count": 63,
   "metadata": {},
   "outputs": [
    {
     "data": {
      "image/png": "[encoded data removed]",
      "text/plain": [
       "<matplotlib.figure.Figure at 0x29d42b5feb8>"
      ]
     },
     "metadata": {},
     "output_type": "display_data"
    }
   ],
   "source": [
    "sns.countplot(x=\"JobSatisfaction\", data=salary_change[salary_change[\"SalaryChange\"] == \"Has increased 20% or more\"])\n",
    "plt.show()"
   ]
  },
  {
   "cell_type": "code",
   "execution_count": 64,
   "metadata": {},
   "outputs": [
    {
     "data": {
      "image/png": "[encoded data removed]",
      "text/plain": [
       "<matplotlib.figure.Figure at 0x29d42559198>"
      ]
     },
     "metadata": {},
     "output_type": "display_data"
    }
   ],
   "source": [
    "sns.countplot(x=\"JobSatisfaction\", data=salary_change[salary_change[\"SalaryChange\"] == \"Has increased between 6% and 19%\"])\n",
    "plt.show()"
   ]
  },
  {
   "cell_type": "code",
   "execution_count": 65,
   "metadata": {},
   "outputs": [
    {
     "data": {
      "image/png": "[encoded data removed]",
      "text/plain": [
       "<matplotlib.figure.Figure at 0x29d423f1128>"
      ]
     },
     "metadata": {},
     "output_type": "display_data"
    }
   ],
   "source": [
    "sns.countplot(x=\"JobSatisfaction\", data=salary_change[salary_change[\"SalaryChange\"] == \"Has decreased 20% or more\"])\n",
    "plt.show() "
   ]
  },
  {
   "cell_type": "code",
   "execution_count": null,
   "metadata": {},
   "outputs": [],
   "source": []
  },
  {
   "cell_type": "code",
   "execution_count": 66,
   "metadata": {},
   "outputs": [],
   "source": [
    "work_challenges = clean_MC_data[\"WorkChallengesSelect\"]\n",
    "countries = clean_MC_data[\"Country\"]"
   ]
  },
  {
   "cell_type": "code",
   "execution_count": 67,
   "metadata": {},
   "outputs": [
    {
     "data": {
      "text/plain": [
       "0              NaN\n",
       "3    United States\n",
       "4           Taiwan\n",
       "5           Brazil\n",
       "6    United States\n",
       "Name: Country, dtype: object"
      ]
     },
     "execution_count": 67,
     "metadata": {},
     "output_type": "execute_result"
    }
   ],
   "source": [
    "#countries.dropna(inplace=True)\n",
    "countries.head()"
   ]
  },
  {
   "cell_type": "code",
   "execution_count": 68,
   "metadata": {},
   "outputs": [],
   "source": [
    "clean_MC_data['WorkChallengeFrequencyPolitics'] = question1_corr['WorkChallengeFrequencyPolitics']\n",
    "clean_MC_data['WorkChallengeFrequencyUnusedResults'] = question1_corr['WorkChallengeFrequencyUnusedResults']\n",
    "clean_MC_data['WorkChallengeFrequencyTalent'] = question1_corr['WorkChallengeFrequencyTalent']\n",
    "\n",
    "\n",
    "clean_feature_data = clean_MC_data[['Age', 'WorkChallengeFrequencyPolitics','WorkChallengeFrequencyUnusedResults','WorkChallengeFrequencyTalent','RemoteWork', 'TitleFit', 'JobSatisfaction']]\n",
    "#clean_feature_data = clean_MC_data[['RemoteWork', 'TitleFit', 'JobSatisfaction']]\n",
    "clean_feature_data['JobSatisfaction'] = clean_feature_data['JobSatisfaction'] * 10\n",
    "clean_feature_data['Age'] = clean_feature_data['Age']\n",
    "clean_feature_data['RemoteWork'] = clean_feature_data['RemoteWork'].replace(['Always', 'Most of the time', 'Sometimes', 'Rarely', 'Never', \"Don't know\"],['100','80','60','40','20','60'])\n",
    "clean_feature_data['TitleFit'] = clean_feature_data['TitleFit'].replace(['Perfectly','Fine','Poorly'],['100','50','0'])\n",
    "\n",
    "clean_feature_data['is_train'] = np.random.uniform(0,1, len(clean_MC_data))  <= 0.90\n",
    "clean_feature_data.fillna(method='backfill', inplace=True)"
   ]
  },
  {
   "cell_type": "code",
   "execution_count": 69,
   "metadata": {},
   "outputs": [
    {
     "data": {
      "text/html": [
       "<div>\n",
       "<style>\n",
       "    .dataframe thead tr:only-child th {\n",
       "        text-align: right;\n",
       "    }\n",
       "\n",
       "    .dataframe thead th {\n",
       "        text-align: left;\n",
       "    }\n",
       "\n",
       "    .dataframe tbody tr th {\n",
       "        vertical-align: top;\n",
       "    }\n",
       "</style>\n",
       "<table border=\"1\" class=\"dataframe\">\n",
       "  <thead>\n",
       "    <tr style=\"text-align: right;\">\n",
       "      <th></th>\n",
       "      <th>Age</th>\n",
       "      <th>WorkChallengeFrequencyPolitics</th>\n",
       "      <th>WorkChallengeFrequencyUnusedResults</th>\n",
       "      <th>WorkChallengeFrequencyTalent</th>\n",
       "      <th>RemoteWork</th>\n",
       "      <th>TitleFit</th>\n",
       "      <th>JobSatisfaction</th>\n",
       "      <th>is_train</th>\n",
       "    </tr>\n",
       "  </thead>\n",
       "  <tbody>\n",
       "    <tr>\n",
       "      <th>0</th>\n",
       "      <td>56.0</td>\n",
       "      <td>3</td>\n",
       "      <td>4</td>\n",
       "      <td>4</td>\n",
       "      <td>100</td>\n",
       "      <td>50</td>\n",
       "      <td>50</td>\n",
       "      <td>True</td>\n",
       "    </tr>\n",
       "    <tr>\n",
       "      <th>3</th>\n",
       "      <td>56.0</td>\n",
       "      <td>1</td>\n",
       "      <td>1</td>\n",
       "      <td>1</td>\n",
       "      <td>40</td>\n",
       "      <td>0</td>\n",
       "      <td>100</td>\n",
       "      <td>True</td>\n",
       "    </tr>\n",
       "    <tr>\n",
       "      <th>4</th>\n",
       "      <td>38.0</td>\n",
       "      <td>1</td>\n",
       "      <td>2</td>\n",
       "      <td>2</td>\n",
       "      <td>40</td>\n",
       "      <td>50</td>\n",
       "      <td>20</td>\n",
       "      <td>True</td>\n",
       "    </tr>\n",
       "    <tr>\n",
       "      <th>5</th>\n",
       "      <td>46.0</td>\n",
       "      <td>4</td>\n",
       "      <td>4</td>\n",
       "      <td>4</td>\n",
       "      <td>60</td>\n",
       "      <td>50</td>\n",
       "      <td>80</td>\n",
       "      <td>True</td>\n",
       "    </tr>\n",
       "    <tr>\n",
       "      <th>6</th>\n",
       "      <td>35.0</td>\n",
       "      <td>4</td>\n",
       "      <td>4</td>\n",
       "      <td>4</td>\n",
       "      <td>40</td>\n",
       "      <td>50</td>\n",
       "      <td>80</td>\n",
       "      <td>True</td>\n",
       "    </tr>\n",
       "  </tbody>\n",
       "</table>\n",
       "</div>"
      ],
      "text/plain": [
       "    Age  WorkChallengeFrequencyPolitics  WorkChallengeFrequencyUnusedResults  \\\n",
       "0  56.0                               3                                    4   \n",
       "3  56.0                               1                                    1   \n",
       "4  38.0                               1                                    2   \n",
       "5  46.0                               4                                    4   \n",
       "6  35.0                               4                                    4   \n",
       "\n",
       "   WorkChallengeFrequencyTalent RemoteWork TitleFit  JobSatisfaction  is_train  \n",
       "0                             4        100       50               50      True  \n",
       "3                             1         40        0              100      True  \n",
       "4                             2         40       50               20      True  \n",
       "5                             4         60       50               80      True  \n",
       "6                             4         40       50               80      True  "
      ]
     },
     "execution_count": 69,
     "metadata": {},
     "output_type": "execute_result"
    }
   ],
   "source": [
    "clean_feature_data.head()"
   ]
  },
  {
   "cell_type": "code",
   "execution_count": 70,
   "metadata": {},
   "outputs": [
    {
     "data": {
      "text/html": [
       "<div>\n",
       "<style>\n",
       "    .dataframe thead tr:only-child th {\n",
       "        text-align: right;\n",
       "    }\n",
       "\n",
       "    .dataframe thead th {\n",
       "        text-align: left;\n",
       "    }\n",
       "\n",
       "    .dataframe tbody tr th {\n",
       "        vertical-align: top;\n",
       "    }\n",
       "</style>\n",
       "<table border=\"1\" class=\"dataframe\">\n",
       "  <thead>\n",
       "    <tr style=\"text-align: right;\">\n",
       "      <th></th>\n",
       "      <th>JobSatisfaction</th>\n",
       "      <th>Age</th>\n",
       "    </tr>\n",
       "  </thead>\n",
       "  <tbody>\n",
       "    <tr>\n",
       "      <th>JobSatisfaction</th>\n",
       "      <td>1.000000</td>\n",
       "      <td>0.060227</td>\n",
       "    </tr>\n",
       "    <tr>\n",
       "      <th>Age</th>\n",
       "      <td>0.060227</td>\n",
       "      <td>1.000000</td>\n",
       "    </tr>\n",
       "  </tbody>\n",
       "</table>\n",
       "</div>"
      ],
      "text/plain": [
       "                 JobSatisfaction       Age\n",
       "JobSatisfaction         1.000000  0.060227\n",
       "Age                     0.060227  1.000000"
      ]
     },
     "execution_count": 70,
     "metadata": {},
     "output_type": "execute_result"
    }
   ],
   "source": [
    "clean_feature_data[['JobSatisfaction','Age']].corr()"
   ]
  },
  {
   "cell_type": "code",
   "execution_count": 71,
   "metadata": {},
   "outputs": [],
   "source": [
    "train, test = clean_feature_data[clean_feature_data['is_train'] == True], clean_feature_data[clean_feature_data['is_train'] == False]"
   ]
  },
  {
   "cell_type": "code",
   "execution_count": 72,
   "metadata": {},
   "outputs": [
    {
     "name": "stdout",
     "output_type": "stream",
     "text": [
      "No obs in train: 5889\n",
      "No obs in test: 640\n"
     ]
    }
   ],
   "source": [
    "print('No obs in train:', len(train))\n",
    "print('No obs in test:', len(test))"
   ]
  },
  {
   "cell_type": "code",
   "execution_count": 73,
   "metadata": {},
   "outputs": [],
   "source": [
    "y = train['JobSatisfaction'].values"
   ]
  },
  {
   "cell_type": "code",
   "execution_count": 74,
   "metadata": {},
   "outputs": [
    {
     "data": {
      "text/plain": [
       "array([ 50, 100,  20, ...,  60,  60,  70])"
      ]
     },
     "execution_count": 74,
     "metadata": {},
     "output_type": "execute_result"
    }
   ],
   "source": [
    "y"
   ]
  },
  {
   "cell_type": "code",
   "execution_count": 75,
   "metadata": {},
   "outputs": [
    {
     "data": {
      "text/plain": [
       "Index(['Age', 'WorkChallengeFrequencyPolitics',\n",
       "       'WorkChallengeFrequencyUnusedResults', 'WorkChallengeFrequencyTalent'],\n",
       "      dtype='object')"
      ]
     },
     "execution_count": 75,
     "metadata": {},
     "output_type": "execute_result"
    }
   ],
   "source": [
    "#features = clean_feature_data.columns[:]\n",
    "features = clean_feature_data.columns[0:4]\n",
    "features"
   ]
  },
  {
   "cell_type": "code",
   "execution_count": 76,
   "metadata": {},
   "outputs": [
    {
     "data": {
      "text/plain": [
       "RandomForestClassifier(bootstrap=True, class_weight=None, criterion='gini',\n",
       "            max_depth=None, max_features='auto', max_leaf_nodes=None,\n",
       "            min_impurity_decrease=0.0, min_impurity_split=None,\n",
       "            min_samples_leaf=1, min_samples_split=2,\n",
       "            min_weight_fraction_leaf=0.0, n_estimators=10, n_jobs=2,\n",
       "            oob_score=False, random_state=0, verbose=0, warm_start=False)"
      ]
     },
     "execution_count": 76,
     "metadata": {},
     "output_type": "execute_result"
    }
   ],
   "source": [
    "clf = RandomForestClassifier(n_jobs=2, random_state=0)\n",
    "clf.fit(train[features], y)"
   ]
  },
  {
   "cell_type": "code",
   "execution_count": 77,
   "metadata": {},
   "outputs": [
    {
     "data": {
      "text/plain": [
       "array([ 70,  80, 100,  80,  70,  80,  80,  40,  60,  80])"
      ]
     },
     "execution_count": 77,
     "metadata": {},
     "output_type": "execute_result"
    }
   ],
   "source": [
    "clf.predict(test[features])[0:10]"
   ]
  },
  {
   "cell_type": "code",
   "execution_count": 78,
   "metadata": {},
   "outputs": [
    {
     "data": {
      "text/plain": [
       "array([[ 0.        ,  0.        ,  0.        ,  0.        ,  0.        ,\n",
       "         0.        ,  0.6       ,  0.4       ,  0.        ,  0.        ],\n",
       "       [ 0.        ,  0.        ,  0.13957431,  0.        ,  0.1381241 ,\n",
       "         0.09044012,  0.17811688,  0.20220779,  0.11973304,  0.13180375],\n",
       "       [ 0.        ,  0.        ,  0.        ,  0.        ,  0.1       ,\n",
       "         0.        ,  0.405     ,  0.        ,  0.        ,  0.495     ],\n",
       "       [ 0.        ,  0.03978024,  0.01430394,  0.02180739,  0.08211815,\n",
       "         0.06923848,  0.16608258,  0.24992415,  0.11616468,  0.2405804 ],\n",
       "       [ 0.        ,  0.        ,  0.        ,  0.        ,  0.        ,\n",
       "         0.        ,  0.7       ,  0.2       ,  0.1       ,  0.        ],\n",
       "       [ 0.01031108,  0.00738821,  0.02013401,  0.04530125,  0.08931664,\n",
       "         0.14834731,  0.19568677,  0.26386191,  0.09866344,  0.12098937],\n",
       "       [ 0.        ,  0.        ,  0.        ,  0.        ,  0.16184522,\n",
       "         0.20548832,  0.17660668,  0.36328159,  0.09277819,  0.        ],\n",
       "       [ 0.05      ,  0.        ,  0.        ,  0.8       ,  0.        ,\n",
       "         0.        ,  0.05      ,  0.        ,  0.1       ,  0.        ],\n",
       "       [ 0.        ,  0.        ,  0.        ,  0.28365079,  0.13607143,\n",
       "         0.29222222,  0.        ,  0.14051587,  0.        ,  0.14753968],\n",
       "       [ 0.        ,  0.        ,  0.        ,  0.        ,  0.18719521,\n",
       "         0.        ,  0.31661322,  0.34708071,  0.07290977,  0.07620109]])"
      ]
     },
     "execution_count": 78,
     "metadata": {},
     "output_type": "execute_result"
    }
   ],
   "source": [
    "clf.predict_proba(test[features])[0:10]"
   ]
  },
  {
   "cell_type": "code",
   "execution_count": 79,
   "metadata": {},
   "outputs": [],
   "source": [
    "preds = clf.predict(test[features])"
   ]
  },
  {
   "cell_type": "code",
   "execution_count": 80,
   "metadata": {},
   "outputs": [
    {
     "data": {
      "text/plain": [
       "array([ 70,  80, 100,  80,  70,  80,  80,  40,  60,  80,  30,  70,  80,\n",
       "        50,  70,  90,  10,  70,  70,  80])"
      ]
     },
     "execution_count": 80,
     "metadata": {},
     "output_type": "execute_result"
    }
   ],
   "source": [
    "preds[0:20]"
   ]
  },
  {
   "cell_type": "code",
   "execution_count": 81,
   "metadata": {},
   "outputs": [
    {
     "data": {
      "text/plain": [
       "9       70\n",
       "33      90\n",
       "55      70\n",
       "60     100\n",
       "69      70\n",
       "77     100\n",
       "133     40\n",
       "145     70\n",
       "226     80\n",
       "313     80\n",
       "Name: JobSatisfaction, dtype: int32"
      ]
     },
     "execution_count": 81,
     "metadata": {},
     "output_type": "execute_result"
    }
   ],
   "source": [
    "test['JobSatisfaction'].head(10)"
   ]
  },
  {
   "cell_type": "code",
   "execution_count": 82,
   "metadata": {},
   "outputs": [
    {
     "data": {
      "text/html": [
       "<div>\n",
       "<style>\n",
       "    .dataframe thead tr:only-child th {\n",
       "        text-align: right;\n",
       "    }\n",
       "\n",
       "    .dataframe thead th {\n",
       "        text-align: left;\n",
       "    }\n",
       "\n",
       "    .dataframe tbody tr th {\n",
       "        vertical-align: top;\n",
       "    }\n",
       "</style>\n",
       "<table border=\"1\" class=\"dataframe\">\n",
       "  <thead>\n",
       "    <tr style=\"text-align: right;\">\n",
       "      <th>Predicted Satisfaction</th>\n",
       "      <th>10</th>\n",
       "      <th>20</th>\n",
       "      <th>30</th>\n",
       "      <th>40</th>\n",
       "      <th>50</th>\n",
       "      <th>60</th>\n",
       "      <th>70</th>\n",
       "      <th>80</th>\n",
       "      <th>90</th>\n",
       "      <th>100</th>\n",
       "    </tr>\n",
       "    <tr>\n",
       "      <th>Actual Satisfaction</th>\n",
       "      <th></th>\n",
       "      <th></th>\n",
       "      <th></th>\n",
       "      <th></th>\n",
       "      <th></th>\n",
       "      <th></th>\n",
       "      <th></th>\n",
       "      <th></th>\n",
       "      <th></th>\n",
       "      <th></th>\n",
       "    </tr>\n",
       "  </thead>\n",
       "  <tbody>\n",
       "    <tr>\n",
       "      <th>10</th>\n",
       "      <td>0</td>\n",
       "      <td>0</td>\n",
       "      <td>2</td>\n",
       "      <td>2</td>\n",
       "      <td>2</td>\n",
       "      <td>4</td>\n",
       "      <td>4</td>\n",
       "      <td>4</td>\n",
       "      <td>4</td>\n",
       "      <td>2</td>\n",
       "    </tr>\n",
       "    <tr>\n",
       "      <th>20</th>\n",
       "      <td>1</td>\n",
       "      <td>0</td>\n",
       "      <td>1</td>\n",
       "      <td>1</td>\n",
       "      <td>1</td>\n",
       "      <td>0</td>\n",
       "      <td>1</td>\n",
       "      <td>7</td>\n",
       "      <td>0</td>\n",
       "      <td>0</td>\n",
       "    </tr>\n",
       "    <tr>\n",
       "      <th>30</th>\n",
       "      <td>1</td>\n",
       "      <td>1</td>\n",
       "      <td>1</td>\n",
       "      <td>2</td>\n",
       "      <td>1</td>\n",
       "      <td>1</td>\n",
       "      <td>10</td>\n",
       "      <td>7</td>\n",
       "      <td>2</td>\n",
       "      <td>3</td>\n",
       "    </tr>\n",
       "    <tr>\n",
       "      <th>40</th>\n",
       "      <td>0</td>\n",
       "      <td>0</td>\n",
       "      <td>4</td>\n",
       "      <td>2</td>\n",
       "      <td>1</td>\n",
       "      <td>2</td>\n",
       "      <td>11</td>\n",
       "      <td>3</td>\n",
       "      <td>1</td>\n",
       "      <td>1</td>\n",
       "    </tr>\n",
       "    <tr>\n",
       "      <th>50</th>\n",
       "      <td>0</td>\n",
       "      <td>1</td>\n",
       "      <td>1</td>\n",
       "      <td>1</td>\n",
       "      <td>6</td>\n",
       "      <td>6</td>\n",
       "      <td>13</td>\n",
       "      <td>19</td>\n",
       "      <td>4</td>\n",
       "      <td>2</td>\n",
       "    </tr>\n",
       "    <tr>\n",
       "      <th>60</th>\n",
       "      <td>2</td>\n",
       "      <td>1</td>\n",
       "      <td>3</td>\n",
       "      <td>3</td>\n",
       "      <td>8</td>\n",
       "      <td>7</td>\n",
       "      <td>15</td>\n",
       "      <td>27</td>\n",
       "      <td>1</td>\n",
       "      <td>5</td>\n",
       "    </tr>\n",
       "    <tr>\n",
       "      <th>70</th>\n",
       "      <td>0</td>\n",
       "      <td>1</td>\n",
       "      <td>4</td>\n",
       "      <td>5</td>\n",
       "      <td>12</td>\n",
       "      <td>13</td>\n",
       "      <td>38</td>\n",
       "      <td>44</td>\n",
       "      <td>11</td>\n",
       "      <td>7</td>\n",
       "    </tr>\n",
       "    <tr>\n",
       "      <th>80</th>\n",
       "      <td>1</td>\n",
       "      <td>3</td>\n",
       "      <td>5</td>\n",
       "      <td>6</td>\n",
       "      <td>11</td>\n",
       "      <td>9</td>\n",
       "      <td>49</td>\n",
       "      <td>59</td>\n",
       "      <td>7</td>\n",
       "      <td>8</td>\n",
       "    </tr>\n",
       "    <tr>\n",
       "      <th>90</th>\n",
       "      <td>0</td>\n",
       "      <td>0</td>\n",
       "      <td>2</td>\n",
       "      <td>4</td>\n",
       "      <td>1</td>\n",
       "      <td>5</td>\n",
       "      <td>18</td>\n",
       "      <td>27</td>\n",
       "      <td>7</td>\n",
       "      <td>2</td>\n",
       "    </tr>\n",
       "    <tr>\n",
       "      <th>100</th>\n",
       "      <td>0</td>\n",
       "      <td>0</td>\n",
       "      <td>1</td>\n",
       "      <td>3</td>\n",
       "      <td>0</td>\n",
       "      <td>2</td>\n",
       "      <td>21</td>\n",
       "      <td>26</td>\n",
       "      <td>7</td>\n",
       "      <td>6</td>\n",
       "    </tr>\n",
       "  </tbody>\n",
       "</table>\n",
       "</div>"
      ],
      "text/plain": [
       "Predicted Satisfaction  10   20   30   40   50   60   70   80   90   100\n",
       "Actual Satisfaction                                                     \n",
       "10                        0    0    2    2    2    4    4    4    4    2\n",
       "20                        1    0    1    1    1    0    1    7    0    0\n",
       "30                        1    1    1    2    1    1   10    7    2    3\n",
       "40                        0    0    4    2    1    2   11    3    1    1\n",
       "50                        0    1    1    1    6    6   13   19    4    2\n",
       "60                        2    1    3    3    8    7   15   27    1    5\n",
       "70                        0    1    4    5   12   13   38   44   11    7\n",
       "80                        1    3    5    6   11    9   49   59    7    8\n",
       "90                        0    0    2    4    1    5   18   27    7    2\n",
       "100                       0    0    1    3    0    2   21   26    7    6"
      ]
     },
     "execution_count": 82,
     "metadata": {},
     "output_type": "execute_result"
    }
   ],
   "source": [
    "pd.crosstab(test['JobSatisfaction'], preds, rownames=['Actual Satisfaction'], colnames=['Predicted Satisfaction'])"
   ]
  },
  {
   "cell_type": "code",
   "execution_count": 83,
   "metadata": {},
   "outputs": [
    {
     "data": {
      "text/plain": [
       "[('Age', 0.70322193593389659),\n",
       " ('WorkChallengeFrequencyPolitics', 0.080895445301881586),\n",
       " ('WorkChallengeFrequencyUnusedResults', 0.11205353888177798),\n",
       " ('WorkChallengeFrequencyTalent', 0.10382907988244383)]"
      ]
     },
     "execution_count": 83,
     "metadata": {},
     "output_type": "execute_result"
    }
   ],
   "source": [
    "list(zip(train[features], clf.feature_importances_))"
   ]
  },
  {
   "cell_type": "code",
   "execution_count": 84,
   "metadata": {},
   "outputs": [
    {
     "data": {
      "text/plain": [
       "0.19687499999999999"
      ]
     },
     "execution_count": 84,
     "metadata": {},
     "output_type": "execute_result"
    }
   ],
   "source": [
    "accuracy_score(test['JobSatisfaction'], preds)"
   ]
  },
  {
   "cell_type": "code",
   "execution_count": null,
   "metadata": {},
   "outputs": [],
   "source": []
  }
 ],
 "metadata": {
  "kernelspec": {
   "display_name": "Python 3",
   "language": "python",
   "name": "python3"
  },
  "language_info": {
   "codemirror_mode": {
    "name": "ipython",
    "version": 3
   },
   "file_extension": ".py",
   "mimetype": "text/x-python",
   "name": "python",
   "nbconvert_exporter": "python",
   "pygments_lexer": "ipython3",
   "version": "3.6.2"
  }
 },
 "nbformat": 4,
 "nbformat_minor": 2
}
